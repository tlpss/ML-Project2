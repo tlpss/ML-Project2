{
 "cells": [
  {
   "cell_type": "markdown",
   "metadata": {
    "id": "PApUKnza3-nj"
   },
   "source": [
    "# Ensemble Learning through Soft Bagging \n",
    "\n",
    "**bagging == Bootstrapping Aggregation** \n",
    "\n",
    "$\\implies$  hyperparam = {M = #learners, alpha = # relative trainset size}\n",
    "\n",
    "**soft voting**\n",
    "\n",
    "$ \\hat{y} = (\\sum_{i = 0}^M \\frac{\\mu_i}{\\sigma_i + \\epsilon} )(\\sum_i \\sigma_i + \\epsilon )$\n",
    "\n",
    "**deregularization**\n",
    "reduce $\\lambda$ wrt the optimal value in an estimator on the same dataset; and make it fixed, instead of having the GPR optimize it. The idea is to reduce bias in a single estimator and average them out to surpress the increased variance. "
   ]
  },
  {
   "cell_type": "code",
   "execution_count": null,
   "metadata": {
    "ExecuteTime": {
     "start_time": "2020-12-15T20:45:54.106Z"
    },
    "colab": {
     "base_uri": "https://localhost:8080/"
    },
    "id": "NAAbkmzH4Il6",
    "outputId": "bcd56488-fa3e-4c39-9ce0-61c8d598b87c"
   },
   "outputs": [],
   "source": [
    "try:\n",
    "  import google.colab\n",
    "  IN_COLAB = True\n",
    "except:\n",
    "  IN_COLAB = False\n",
    "if IN_COLAB:\n",
    "    ## colab\n",
    "    import sys,os\n",
    "    !git clone -b mpi https://github.com/tlpss/ML-Project2.git\n",
    "    sys.path.append(os.path.abspath(os.path.join('./ML-Project2')))"
   ]
  },
  {
   "cell_type": "code",
   "execution_count": 5,
   "metadata": {
    "ExecuteTime": {
     "end_time": "2020-12-15T20:46:02.752380Z",
     "start_time": "2020-12-15T20:46:02.742407Z"
    },
    "id": "r5GNqeGK3-nk"
   },
   "outputs": [],
   "source": [
    "import numpy as np\n",
    "import random\n",
    "import matplotlib.pyplot as plt\n",
    "from sklearn.gaussian_process import GaussianProcessRegressor\n",
    "from sklearn.gaussian_process.kernels import RBF, WhiteKernel\n",
    "\n",
    "# add project root folder to path to allow import local modules\n",
    "import os\n",
    "import sys\n",
    "module_path = os.path.abspath(os.path.join('..'))\n",
    "if module_path not in sys.path:\n",
    "    sys.path.append(module_path)\n",
    "# import local modules\n",
    "from stochastic_models import *\n",
    "from visualisations import *\n",
    "\n",
    "from aggregating.gridsearch import create_logger, evaluate_model\n",
    "from aggregating.utils import flatten_X\n",
    "from aggregating.models import SoftBagger"
   ]
  },
  {
   "cell_type": "markdown",
   "metadata": {
    "ExecuteTime": {
     "end_time": "2020-11-14T11:40:28.368547Z",
     "start_time": "2020-11-14T11:40:28.365554Z"
    },
    "id": "pmFrK58p3-nl"
   },
   "source": [
    "## Parameter Configuration"
   ]
  },
  {
   "cell_type": "code",
   "execution_count": 6,
   "metadata": {
    "ExecuteTime": {
     "end_time": "2020-12-15T20:46:03.580162Z",
     "start_time": "2020-12-15T20:46:03.577170Z"
    },
    "id": "EARzN7c03-nl"
   },
   "outputs": [],
   "source": [
    "np.random.seed(2020)"
   ]
  },
  {
   "cell_type": "code",
   "execution_count": 7,
   "metadata": {
    "ExecuteTime": {
     "end_time": "2020-12-15T20:46:03.851436Z",
     "start_time": "2020-12-15T20:46:03.848443Z"
    },
    "id": "zq-dE-CB3-nl"
   },
   "outputs": [],
   "source": [
    "N_train = 5000\n",
    "N_test = 50000\n",
    "d = 1\n",
    "T = 2"
   ]
  },
  {
   "cell_type": "code",
   "execution_count": 8,
   "metadata": {
    "ExecuteTime": {
     "end_time": "2020-12-15T20:46:04.127697Z",
     "start_time": "2020-12-15T20:46:04.123708Z"
    },
    "id": "htyOOOcw3-nl"
   },
   "outputs": [],
   "source": [
    "lambda_range = (N_train*1e-9 , N_train*1e-3)\n",
    "alpha_range = (8.3*1e-5, 0.83)\n",
    "length_scale = np.sort(1/np.sqrt((2*alpha_range[0], 2*alpha_range[1])))"
   ]
  },
  {
   "cell_type": "markdown",
   "metadata": {
    "ExecuteTime": {
     "end_time": "2020-11-14T11:40:29.811046Z",
     "start_time": "2020-11-14T11:40:29.808054Z"
    },
    "id": "CAJ6Kz5V3-nm"
   },
   "source": [
    "## Create Kernel & prepare datasets"
   ]
  },
  {
   "cell_type": "code",
   "execution_count": 9,
   "metadata": {
    "ExecuteTime": {
     "end_time": "2020-12-15T20:46:04.864725Z",
     "start_time": "2020-12-15T20:46:04.860735Z"
    },
    "id": "JwD1QMHC3-nm"
   },
   "outputs": [],
   "source": [
    "#kernel FIX LAMBDA\n",
    "kernel = RBF(length_scale= (length_scale[0] + length_scale[1])/2, length_scale_bounds=length_scale) \\\n",
    "        + WhiteKernel(noise_level= (lambda_range[0]+lambda_range[1])/2,noise_level_bounds = lambda_range)\n"
   ]
  },
  {
   "cell_type": "code",
   "execution_count": 10,
   "metadata": {
    "ExecuteTime": {
     "end_time": "2020-12-15T20:46:05.135997Z",
     "start_time": "2020-12-15T20:46:05.125028Z"
    },
    "id": "eWO_C1lD3-nm"
   },
   "outputs": [],
   "source": [
    "#generate drivers\n",
    "s_train = MaxCallStochasticModel(N_train,d,[1/12,11/12])\n",
    "s_train.generate_samples()\n",
    "s_test = MaxCallStochasticModel(N_test, d, [1/12,11/12])\n",
    "s_test.generate_samples()"
   ]
  },
  {
   "cell_type": "code",
   "execution_count": 11,
   "metadata": {
    "ExecuteTime": {
     "end_time": "2020-12-15T20:46:05.412284Z",
     "start_time": "2020-12-15T20:46:05.404281Z"
    },
    "colab": {
     "base_uri": "https://localhost:8080/"
    },
    "id": "s3VU7uEX3-nm",
    "outputId": "3872a923-01d5-4ab8-c058-900141eb3e15"
   },
   "outputs": [
    {
     "data": {
      "text/plain": [
       "0.0793534441124991"
      ]
     },
     "execution_count": 11,
     "metadata": {},
     "output_type": "execute_result"
    }
   ],
   "source": [
    "#prepare datasets & values\n",
    "y_train = s_train.y\n",
    "X_train = s_train.X\n",
    "S_train = s_train.S\n",
    "\n",
    "y_test = s_test.y\n",
    "X_test = s_test.X\n",
    "S_test = s_test.S\n",
    "\n",
    "V_T = y_test  \n",
    "V_0 = s_test.generate_true_V(0)\n",
    "\n",
    "V_0= V_0.mean()\n",
    "V_0 # Average expected PROFIT!"
   ]
  },
  {
   "cell_type": "code",
   "execution_count": 12,
   "metadata": {
    "ExecuteTime": {
     "end_time": "2020-12-15T20:46:05.801252Z",
     "start_time": "2020-12-15T20:46:05.797229Z"
    },
    "colab": {
     "base_uri": "https://localhost:8080/"
    },
    "id": "B87SEzVW3-nn",
    "outputId": "6c42f9c7-0942-4b78-884c-a62707593df4"
   },
   "outputs": [
    {
     "data": {
      "text/plain": [
       "(50000, 1, 2)"
      ]
     },
     "execution_count": 12,
     "metadata": {},
     "output_type": "execute_result"
    }
   ],
   "source": [
    "X_test.shape"
   ]
  },
  {
   "cell_type": "markdown",
   "metadata": {
    "id": "rQmU5YW63-no"
   },
   "source": [
    "## GridSearch\n",
    "\n",
    "nB: cannot use Scikit gridsearch as it performs CV and we want to have a different test set of a larger size!"
   ]
  },
  {
   "cell_type": "code",
   "execution_count": 13,
   "metadata": {
    "ExecuteTime": {
     "end_time": "2020-12-15T20:46:50.295163Z",
     "start_time": "2020-12-15T20:46:06.721775Z"
    },
    "colab": {
     "base_uri": "https://localhost:8080/"
    },
    "id": "r-hL23om3-np",
    "outputId": "97124161-cc7c-44d3-ad8b-9fe4e931c355"
   },
   "outputs": [
    {
     "name": "stdout",
     "output_type": "stream",
     "text": [
      " {'M': 1, 'train_size_alpha': 1.0} -> thread id = 35060\n",
      "{'M': 1, 'train_size_alpha': 1.0} , 0 -> 0.11480572178179495\n",
      "{'M': 1, 'train_size_alpha': 1.0} , 1 -> 0.17124000725126198\n",
      "{'M': 1, 'train_size_alpha': 1.0} , 2 -> 0.14258894235284092\n",
      "{'M': 1, 'train_size_alpha': 1.0} , 3 -> 0.12155161802293622\n",
      "{'M': 1, 'train_size_alpha': 1.0} , 4 -> 0.14485188343340394\n",
      "{'M': 1, 'train_size_alpha': 1.0} -> [0.11480572178179495, 0.17124000725126198, 0.14258894235284092, 0.12155161802293622, 0.14485188343340394]\n",
      "0.1390076345684476\n"
     ]
    }
   ],
   "source": [
    "#reference error: no ensemble; no fixing lambda\n",
    "\n",
    "hyperparams= {'M':1, 'train_size_alpha':1.0}\n",
    "model = GaussianProcessRegressor(kernel)\n",
    "reference_error = evaluate_model(model,hyperparams,flatten_X(X_train),y_train,1, [1/12,11/12],5,N_test,MaxCallStochasticModel)\n",
    "reference_error_mean = sum(reference_error)/len(reference_error)\n",
    "print(reference_error_mean)"
   ]
  },
  {
   "cell_type": "code",
   "execution_count": 14,
   "metadata": {
    "ExecuteTime": {
     "end_time": "2020-12-15T20:46:52.701780Z",
     "start_time": "2020-12-15T20:46:50.296162Z"
    }
   },
   "outputs": [
    {
     "name": "stdout",
     "output_type": "stream",
     "text": [
      "{'k1': RBF(length_scale=0.776), 'k2': WhiteKernel(noise_level=5e-06), 'k1__length_scale': 0.7761505257063328, 'k1__length_scale_bounds': array([ 0.77615053, 77.61505257]), 'k2__noise_level': 4.999999999999999e-06, 'k2__noise_level_bounds': (5e-06, 5.0)}\n"
     ]
    }
   ],
   "source": [
    "#get \"optimal\" lambda\n",
    "#kernel_fixed = RBF(length_scale= (length_scale[0] + length_scale[1])/2, length_scale_bounds=length_scale) + WhiteKernel(noise_level= 1e-5 , noise_level_bounds='fixed')\n",
    "model = GaussianProcessRegressor(kernel)  \n",
    "indices = np.random.choice(N_train,int(N_train*0.4),replace=True)\n",
    "model.fit(flatten_X(X_train[indices]),y_train[indices])\n",
    "print(model.kernel_.get_params())"
   ]
  },
  {
   "cell_type": "code",
   "execution_count": 15,
   "metadata": {
    "ExecuteTime": {
     "end_time": "2020-12-15T21:09:19.426588Z",
     "start_time": "2020-12-15T20:46:52.702747Z"
    },
    "colab": {
     "base_uri": "https://localhost:8080/"
    },
    "id": "mURP0abs3-np",
    "outputId": "11bd54fc-6c19-4a30-8383-4af14aed9087"
   },
   "outputs": [
    {
     "name": "stdout",
     "output_type": "stream",
     "text": [
      " {'M': 1, 'train_size_alpha': 0.2} -> thread id = 33840\n",
      "fit\n",
      "(5000, 2)\n",
      " {'M': 1, 'train_size_alpha': 0.3} -> thread id = 18096\n",
      "fit\n",
      "(5000, 2)\n",
      " {'M': 1, 'train_size_alpha': 0.4} -> thread id = 23328\n",
      "fit\n",
      "(5000, 2)\n",
      " {'M': 1, 'train_size_alpha': 0.5} -> thread id = 31132\n",
      "fit\n",
      "(5000, 2)\n",
      " {'M': 3, 'train_size_alpha': 0.2} -> thread id = 33876\n",
      "fit\n",
      "(5000, 2)\n",
      " {'M': 3, 'train_size_alpha': 0.3} -> thread id = 27276\n",
      "fit\n",
      "(5000, 2)\n",
      " {'M': 3, 'train_size_alpha': 0.4} -> thread id = 27364\n",
      "fit\n",
      "(5000, 2)\n",
      " {'M': 3, 'train_size_alpha': 0.5} -> thread id = 15996\n",
      "fit\n",
      "(5000, 2)\n",
      " {'M': 5, 'train_size_alpha': 0.2} -> thread id = 35544\n",
      "fit\n",
      "(5000, 2)\n",
      " {'M': 5, 'train_size_alpha': 0.3} -> thread id = 10120\n",
      "fit\n",
      "(5000, 2)\n",
      " soft predict\n",
      "(50000, 2)\n",
      " soft predict\n",
      "(50000, 2)\n",
      " soft predict\n",
      "(50000, 2)\n",
      " soft predict\n",
      "(50000, 2)\n",
      " soft predict\n",
      "(50000, 2)\n",
      " soft predict\n",
      "(50000, 2)\n",
      " soft predict\n",
      "(50000, 2)\n",
      " soft predict\n",
      "(50000, 2) soft predict\n",
      "(50000, 2)\n",
      "\n",
      "{'M': 1, 'train_size_alpha': 0.2} , 0 -> 0.2170534848611092\n",
      " soft predict\n",
      "(50000, 2)\n",
      "{'M': 1, 'train_size_alpha': 0.4} , 0 -> 0.13656316970519256\n",
      "{'M': 1, 'train_size_alpha': 0.5} , 0 -> 0.12856827086596193{'M': 1, 'train_size_alpha': 0.3} , 0 -> 0.19678802380872829\n",
      "\n",
      " soft predict\n",
      "(50000, 2)\n",
      " soft predict\n",
      "(50000, 2)\n",
      " soft predict\n",
      "(50000, 2)\n",
      "{'M': 1, 'train_size_alpha': 0.2} , 1 -> 0.23222713932240646\n",
      " soft predict\n",
      "(50000, 2)\n",
      "{'M': 1, 'train_size_alpha': 0.2} , 2 -> 0.22408812437158748\n",
      "{'M': 1, 'train_size_alpha': 0.2} -> [0.2170534848611092, 0.23222713932240646, 0.22408812437158748]\n",
      " {'M': 5, 'train_size_alpha': 0.4} -> thread id = 33840logger {'M': 1, 'train_size_alpha': 0.2}, -> [0.2170534848611092, 0.23222713932240646, 0.22408812437158748]\n",
      "\n",
      "fit\n",
      "(5000, 2)\n",
      "{'M': 1, 'train_size_alpha': 0.4} , 1 -> 0.1634964361054732\n",
      "{'M': 1, 'train_size_alpha': 0.3} , 1 -> 0.18922176814121275\n",
      "{'M': 3, 'train_size_alpha': 0.2} , 0 -> 0.1315914921032083\n",
      "{'M': 1, 'train_size_alpha': 0.5} , 1 -> 0.1422600967149596\n",
      " soft predict\n",
      "(50000, 2)\n",
      "{'M': 3, 'train_size_alpha': 0.3} , 0 -> 0.1019860623938885\n"
     ]
    },
    {
     "name": "stderr",
     "output_type": "stream",
     "text": [
      "c:\\users\\thoma\\appdata\\local\\programs\\python\\python37\\lib\\site-packages\\sklearn\\gaussian_process\\_gpr.py:504: ConvergenceWarning: lbfgs failed to converge (status=2):\n",
      "ABNORMAL_TERMINATION_IN_LNSRCH.\n",
      "\n",
      "Increase the number of iterations (max_iter) or scale the data as shown in:\n",
      "    https://scikit-learn.org/stable/modules/preprocessing.html\n",
      "  _check_optimize_result(\"lbfgs\", opt_res)\n"
     ]
    },
    {
     "name": "stdout",
     "output_type": "stream",
     "text": [
      " soft predict\n",
      "(50000, 2)\n",
      " soft predict\n",
      "(50000, 2)\n",
      " soft predict\n",
      "(50000, 2)\n",
      " soft predict\n",
      "(50000, 2)\n",
      "{'M': 3, 'train_size_alpha': 0.5} , 0 -> 0.1153723018632555\n",
      " soft predict\n",
      "(50000, 2)\n",
      "{'M': 5, 'train_size_alpha': 0.2} , 0 -> 0.11534792739264185\n",
      "{'M': 1, 'train_size_alpha': 0.4} , 2 -> 0.15881507714176724\n",
      "{'M': 1, 'train_size_alpha': 0.4} -> [0.13656316970519256, 0.1634964361054732, 0.15881507714176724]\n",
      " {'M': 5, 'train_size_alpha': 0.5} -> thread id = 23328\n",
      "fitlogger {'M': 1, 'train_size_alpha': 0.4}, -> [0.13656316970519256, 0.1634964361054732, 0.15881507714176724]\n",
      "(5000, 2)\n",
      "\n",
      "{'M': 1, 'train_size_alpha': 0.3} , 2 -> 0.1665407920044947\n",
      "{'M': 1, 'train_size_alpha': 0.3} -> [0.19678802380872829, 0.18922176814121275, 0.1665407920044947]\n",
      " {'M': 7, 'train_size_alpha': 0.2} -> thread id = 18096\n",
      "logger {'M': 1, 'train_size_alpha': 0.3}, -> [0.19678802380872829, 0.18922176814121275, 0.1665407920044947]\n",
      "fit\n",
      "(5000, 2)\n",
      " soft predict\n",
      "(50000, 2)\n",
      "{'M': 1, 'train_size_alpha': 0.5} , 2 -> 0.13466856943863628\n",
      "{'M': 1, 'train_size_alpha': 0.5} -> [0.12856827086596193, 0.1422600967149596, 0.13466856943863628]\n",
      " {'M': 7, 'train_size_alpha': 0.3} -> thread id = 31132logger {'M': 1, 'train_size_alpha': 0.5}, -> [0.12856827086596193, 0.1422600967149596, 0.13466856943863628]\n",
      "fit\n",
      "\n",
      "(5000, 2)\n",
      "{'M': 5, 'train_size_alpha': 0.3} , 0 -> 0.10381062576658612\n",
      " soft predict\n",
      "(50000, 2)\n",
      "{'M': 3, 'train_size_alpha': 0.2} , 1 -> 0.1358846005386649\n",
      " soft predict\n",
      "(50000, 2)\n",
      " soft predict\n",
      "(50000, 2)\n",
      "{'M': 3, 'train_size_alpha': 0.3} , 1 -> 0.10139735059398657\n",
      "{'M': 3, 'train_size_alpha': 0.5} , 1 -> 0.12280786295960323\n",
      " soft predict\n",
      "(50000, 2)\n",
      " soft predict\n",
      "(50000, 2)\n",
      " soft predict\n",
      "(50000, 2)\n",
      " soft predict\n",
      "(50000, 2)\n",
      "{'M': 5, 'train_size_alpha': 0.2} , 1 -> 0.11846623582394787\n",
      " soft predict\n",
      "(50000, 2)\n",
      "{'M': 3, 'train_size_alpha': 0.2} , 2 -> 0.13863022973155878\n",
      "{'M': 3, 'train_size_alpha': 0.2} -> [0.1315914921032083, 0.1358846005386649, 0.13863022973155878]\n",
      " {'M': 7, 'train_size_alpha': 0.4} -> thread id = 33876logger {'M': 3, 'train_size_alpha': 0.2}, -> [0.1315914921032083, 0.1358846005386649, 0.13863022973155878]\n",
      "\n",
      "fit\n",
      "(5000, 2)\n",
      "{'M': 5, 'train_size_alpha': 0.3} , 1 -> 0.1066346656013585\n",
      " soft predict\n",
      "(50000, 2)\n",
      "{'M': 3, 'train_size_alpha': 0.3} , 2 -> 0.09691510017659034\n",
      "{'M': 3, 'train_size_alpha': 0.3} -> [0.1019860623938885, 0.10139735059398657, 0.09691510017659034]\n",
      " {'M': 7, 'train_size_alpha': 0.5} -> thread id = 27276\n",
      "fit\n",
      "(5000, 2)\n",
      "logger {'M': 3, 'train_size_alpha': 0.3}, -> [0.1019860623938885, 0.10139735059398657, 0.09691510017659034]\n",
      "{'M': 3, 'train_size_alpha': 0.4} , 0 -> 0.09456578107754722\n",
      "{'M': 3, 'train_size_alpha': 0.5} , 2 -> 0.1335160882726738\n",
      "{'M': 3, 'train_size_alpha': 0.5} -> [0.1153723018632555, 0.12280786295960323, 0.1335160882726738]\n",
      " {'M': 9, 'train_size_alpha': 0.2} -> thread id = 15996logger {'M': 3, 'train_size_alpha': 0.5}, -> [0.1153723018632555, 0.12280786295960323, 0.1335160882726738]\n",
      "fit\n",
      "(5000, 2)\n",
      "\n",
      " soft predict\n",
      "(50000, 2)\n",
      "{'M': 5, 'train_size_alpha': 0.4} , 0 -> 0.10309323370316904\n",
      " soft predict\n",
      "(50000, 2)\n",
      "{'M': 5, 'train_size_alpha': 0.2} , 2 -> 0.11833288246468494\n",
      "{'M': 5, 'train_size_alpha': 0.2} -> [0.11534792739264185, 0.11846623582394787, 0.11833288246468494]\n",
      " {'M': 9, 'train_size_alpha': 0.3} -> thread id = 35544\n",
      "logger {'M': 5, 'train_size_alpha': 0.2}, -> [0.11534792739264185, 0.11846623582394787, 0.11833288246468494]\n",
      "fit\n",
      "(5000, 2)\n"
     ]
    },
    {
     "name": "stderr",
     "output_type": "stream",
     "text": [
      "c:\\users\\thoma\\appdata\\local\\programs\\python\\python37\\lib\\site-packages\\sklearn\\gaussian_process\\_gpr.py:504: ConvergenceWarning: lbfgs failed to converge (status=2):\n",
      "ABNORMAL_TERMINATION_IN_LNSRCH.\n",
      "\n",
      "Increase the number of iterations (max_iter) or scale the data as shown in:\n",
      "    https://scikit-learn.org/stable/modules/preprocessing.html\n",
      "  _check_optimize_result(\"lbfgs\", opt_res)\n"
     ]
    },
    {
     "name": "stdout",
     "output_type": "stream",
     "text": [
      "{'M': 5, 'train_size_alpha': 0.5} , 0 -> 0.10880820460806287\n",
      "{'M': 3, 'train_size_alpha': 0.4} , 1 -> 0.10924610608054819\n",
      "{'M': 5, 'train_size_alpha': 0.3} , 2 -> 0.09674675772691814\n",
      "{'M': 5, 'train_size_alpha': 0.3} -> [0.10381062576658612, 0.1066346656013585, 0.09674675772691814]\n",
      " {'M': 9, 'train_size_alpha': 0.4} -> thread id = 10120\n",
      "fit\n",
      "(5000, 2)\n",
      "logger {'M': 5, 'train_size_alpha': 0.3}, -> [0.10381062576658612, 0.1066346656013585, 0.09674675772691814]\n",
      " soft predict\n",
      "(50000, 2)\n",
      " soft predict\n",
      "(50000, 2)\n"
     ]
    },
    {
     "name": "stderr",
     "output_type": "stream",
     "text": [
      "c:\\users\\thoma\\appdata\\local\\programs\\python\\python37\\lib\\site-packages\\sklearn\\gaussian_process\\_gpr.py:504: ConvergenceWarning: lbfgs failed to converge (status=2):\n",
      "ABNORMAL_TERMINATION_IN_LNSRCH.\n",
      "\n",
      "Increase the number of iterations (max_iter) or scale the data as shown in:\n",
      "    https://scikit-learn.org/stable/modules/preprocessing.html\n",
      "  _check_optimize_result(\"lbfgs\", opt_res)\n"
     ]
    },
    {
     "name": "stdout",
     "output_type": "stream",
     "text": [
      " soft predict\n",
      "(50000, 2)\n",
      " soft predict\n",
      "(50000, 2)\n",
      "{'M': 5, 'train_size_alpha': 0.4} , 1 -> 0.11719487891090585\n",
      " soft predict\n",
      "(50000, 2)\n",
      " soft predict\n",
      "(50000, 2)\n",
      "{'M': 3, 'train_size_alpha': 0.4} , 2 -> 0.1146119542544666\n",
      "{'M': 3, 'train_size_alpha': 0.4} -> [0.09456578107754722, 0.10924610608054819, 0.1146119542544666]\n",
      " {'M': 9, 'train_size_alpha': 0.5} -> thread id = 27364\n",
      "fit\n",
      "(5000, 2)\n",
      "logger {'M': 3, 'train_size_alpha': 0.4}, -> [0.09456578107754722, 0.10924610608054819, 0.1146119542544666]\n",
      " soft predict\n",
      "(50000, 2)\n",
      " soft predict\n",
      "(50000, 2)\n",
      "{'M': 5, 'train_size_alpha': 0.5} , 1 -> 0.11582760360686284\n",
      " soft predict\n",
      "(50000, 2)\n",
      "{'M': 5, 'train_size_alpha': 0.4} , 2 -> 0.12018586390348397\n",
      "{'M': 5, 'train_size_alpha': 0.4} -> [0.10309323370316904, 0.11719487891090585, 0.12018586390348397]\n",
      "logger {'M': 5, 'train_size_alpha': 0.4}, -> [0.10309323370316904, 0.11719487891090585, 0.12018586390348397]\n",
      " soft predict\n",
      "(50000, 2)\n",
      "{'M': 7, 'train_size_alpha': 0.2} , 0 -> 0.16055826042353466\n",
      " soft predict\n",
      "(50000, 2)\n",
      "{'M': 7, 'train_size_alpha': 0.4} , 0 -> 0.10381595372667494\n",
      " soft predict\n",
      "(50000, 2)\n",
      " soft predict\n",
      "(50000, 2)\n",
      "{'M': 7, 'train_size_alpha': 0.5} , 0 -> 0.11666093247386633\n",
      " soft predict\n",
      "(50000, 2)\n",
      "{'M': 7, 'train_size_alpha': 0.3} , 0 -> 0.0960602628497013\n",
      " soft predict\n",
      "(50000, 2)\n",
      "{'M': 5, 'train_size_alpha': 0.5} , 2 -> 0.1250881216242166\n",
      "{'M': 5, 'train_size_alpha': 0.5} -> [0.10880820460806287, 0.11582760360686284, 0.1250881216242166]\n",
      "logger {'M': 5, 'train_size_alpha': 0.5}, -> [0.10880820460806287, 0.11582760360686284, 0.1250881216242166]\n",
      "{'M': 9, 'train_size_alpha': 0.2} , 0 -> 0.13363174656999655\n",
      " soft predict\n",
      "(50000, 2)\n"
     ]
    },
    {
     "name": "stderr",
     "output_type": "stream",
     "text": [
      "c:\\users\\thoma\\appdata\\local\\programs\\python\\python37\\lib\\site-packages\\sklearn\\gaussian_process\\_gpr.py:504: ConvergenceWarning: lbfgs failed to converge (status=2):\n",
      "ABNORMAL_TERMINATION_IN_LNSRCH.\n",
      "\n",
      "Increase the number of iterations (max_iter) or scale the data as shown in:\n",
      "    https://scikit-learn.org/stable/modules/preprocessing.html\n",
      "  _check_optimize_result(\"lbfgs\", opt_res)\n"
     ]
    },
    {
     "name": "stdout",
     "output_type": "stream",
     "text": [
      " soft predict\n",
      "(50000, 2)\n",
      "{'M': 7, 'train_size_alpha': 0.2} , 1 -> 0.17092006904240464\n",
      " soft predict\n",
      "(50000, 2)\n",
      "{'M': 7, 'train_size_alpha': 0.4} , 1 -> 0.11791827431052168\n",
      " soft predict\n",
      "(50000, 2)\n",
      "{'M': 7, 'train_size_alpha': 0.3} , 1 -> 0.09322749372139459\n",
      " soft predict\n",
      "(50000, 2)\n",
      "{'M': 9, 'train_size_alpha': 0.4} , 0 -> 0.10238922502711323\n",
      " soft predict\n",
      "(50000, 2)\n",
      "{'M': 9, 'train_size_alpha': 0.2} , 1 -> 0.1411245286795573\n",
      " soft predict\n",
      "(50000, 2)\n",
      "{'M': 7, 'train_size_alpha': 0.5} , 1 -> 0.12876371483235613\n",
      " soft predict\n",
      "(50000, 2)\n",
      "{'M': 7, 'train_size_alpha': 0.2} , 2 -> 0.1730121983181031\n",
      "{'M': 7, 'train_size_alpha': 0.2} -> [0.16055826042353466, 0.17092006904240464, 0.1730121983181031]\n",
      "logger {'M': 7, 'train_size_alpha': 0.2}, -> [0.16055826042353466, 0.17092006904240464, 0.1730121983181031]\n",
      "{'M': 9, 'train_size_alpha': 0.5} , 0 -> 0.10657295172212007\n",
      " soft predict\n",
      "(50000, 2)\n",
      "{'M': 9, 'train_size_alpha': 0.3} , 0 -> 0.09033271937911595\n",
      " soft predict\n",
      "(50000, 2)\n",
      "{'M': 7, 'train_size_alpha': 0.3} , 2 -> 0.08523263902108667\n",
      "{'M': 7, 'train_size_alpha': 0.3} -> [0.0960602628497013, 0.09322749372139459, 0.08523263902108667]\n",
      "logger {'M': 7, 'train_size_alpha': 0.3}, -> [0.0960602628497013, 0.09322749372139459, 0.08523263902108667]\n",
      "{'M': 7, 'train_size_alpha': 0.4} , 2 -> 0.12011400866027899\n",
      "{'M': 7, 'train_size_alpha': 0.4} -> [0.10381595372667494, 0.11791827431052168, 0.12011400866027899]\n",
      "logger {'M': 7, 'train_size_alpha': 0.4}, -> [0.10381595372667494, 0.11791827431052168, 0.12011400866027899]\n",
      "{'M': 9, 'train_size_alpha': 0.2} , 2 -> 0.14040870987256274\n",
      "{'M': 9, 'train_size_alpha': 0.2} -> [0.13363174656999655, 0.1411245286795573, 0.14040870987256274]\n",
      "logger {'M': 9, 'train_size_alpha': 0.2}, -> [0.13363174656999655, 0.1411245286795573, 0.14040870987256274]\n",
      "{'M': 7, 'train_size_alpha': 0.5} , 2 -> 0.13665557118055022\n",
      "{'M': 7, 'train_size_alpha': 0.5} -> [0.11666093247386633, 0.12876371483235613, 0.13665557118055022]\n",
      "logger {'M': 7, 'train_size_alpha': 0.5}, -> [0.11666093247386633, 0.12876371483235613, 0.13665557118055022]\n",
      "{'M': 9, 'train_size_alpha': 0.4} , 1 -> 0.11382737536411948\n",
      " soft predict\n",
      "(50000, 2)\n",
      "{'M': 9, 'train_size_alpha': 0.5} , 1 -> 0.1170313210055382\n",
      " soft predict\n",
      "(50000, 2)\n",
      "{'M': 9, 'train_size_alpha': 0.3} , 1 -> 0.09250307591000216\n",
      " soft predict\n",
      "(50000, 2)\n",
      "{'M': 9, 'train_size_alpha': 0.4} , 2 -> 0.11783578006333996\n",
      "{'M': 9, 'train_size_alpha': 0.4} -> [0.10238922502711323, 0.11382737536411948, 0.11783578006333996]\n",
      "logger {'M': 9, 'train_size_alpha': 0.4}, -> [0.10238922502711323, 0.11382737536411948, 0.11783578006333996]\n",
      "{'M': 9, 'train_size_alpha': 0.3} , 2 -> 0.08572064777449828\n",
      "{'M': 9, 'train_size_alpha': 0.3} -> [0.09033271937911595, 0.09250307591000216, 0.08572064777449828]\n",
      "logger {'M': 9, 'train_size_alpha': 0.3}, -> [0.09033271937911595, 0.09250307591000216, 0.08572064777449828]\n",
      "{'M': 9, 'train_size_alpha': 0.5} , 2 -> 0.126085683841818\n",
      "{'M': 9, 'train_size_alpha': 0.5} -> [0.10657295172212007, 0.1170313210055382, 0.126085683841818]\n",
      "logger {'M': 9, 'train_size_alpha': 0.5}, -> [0.10657295172212007, 0.1170313210055382, 0.126085683841818]\n"
     ]
    }
   ],
   "source": [
    "from multiprocessing import  cpu_count,current_process\n",
    "from multiprocessing.pool import ThreadPool\n",
    "import functools\n",
    "import threading\n",
    "\n",
    "lambda_ = 1e-5\n",
    "\n",
    "kernel_fixed = RBF(length_scale= (length_scale[0] + length_scale[1])/2, length_scale_bounds=length_scale) \\\n",
    "        + WhiteKernel(noise_level= 1e-5 , noise_level_bounds=\"fixed\")\n",
    "# GRIDSEARCH PARAMS\n",
    "model = SoftBagger(0,0,GaussianProcessRegressor(kernel_fixed,copy_X_train=False)) ## USE THE FIXED LAMBDA KERNEL\n",
    "trials = 3\n",
    "M_grid = [1,3,5,7,9]\n",
    "alpha_grid = [0.2,0.3,0.4,0.5]\n",
    "results = []\n",
    "\n",
    "### ACTUAL GRIDSEARCH\n",
    "pool = ThreadPool(cpu_count()-2) #hyperthreading \n",
    "for m in M_grid:\n",
    "    for alpha in alpha_grid:\n",
    "        hyperparams= {'M':m, 'train_size_alpha':alpha}\n",
    "        pool.apply_async(evaluate_model, args=(model,hyperparams,flatten_X(X_train),y_train,1, [1/12,11/12],trials,N_test,MaxCallStochasticModel,V_0,None,[2020,2021,2022]),callback = create_logger(hyperparams,results))\n",
    "pool.close()\n",
    "pool.join()\n",
    "\n"
   ]
  },
  {
   "cell_type": "code",
   "execution_count": 16,
   "metadata": {
    "ExecuteTime": {
     "end_time": "2020-12-15T21:09:19.439529Z",
     "start_time": "2020-12-15T21:09:19.428560Z"
    },
    "colab": {
     "base_uri": "https://localhost:8080/"
    },
    "id": "7mbOaNtM3-np",
    "outputId": "f24e8342-202d-440d-c913-9da6f4ade0e4"
   },
   "outputs": [
    {
     "name": "stdout",
     "output_type": "stream",
     "text": [
      "[1, 0.2, [0.2170534848611092, 0.23222713932240646, 0.22408812437158748]]\n",
      "[1, 0.4, [0.13656316970519256, 0.1634964361054732, 0.15881507714176724]]\n",
      "[1, 0.3, [0.19678802380872829, 0.18922176814121275, 0.1665407920044947]]\n",
      "[1, 0.5, [0.12856827086596193, 0.1422600967149596, 0.13466856943863628]]\n",
      "[3, 0.2, [0.1315914921032083, 0.1358846005386649, 0.13863022973155878]]\n",
      "[3, 0.3, [0.1019860623938885, 0.10139735059398657, 0.09691510017659034]]\n",
      "[3, 0.5, [0.1153723018632555, 0.12280786295960323, 0.1335160882726738]]\n",
      "[5, 0.2, [0.11534792739264185, 0.11846623582394787, 0.11833288246468494]]\n",
      "[5, 0.3, [0.10381062576658612, 0.1066346656013585, 0.09674675772691814]]\n",
      "[3, 0.4, [0.09456578107754722, 0.10924610608054819, 0.1146119542544666]]\n",
      "[5, 0.4, [0.10309323370316904, 0.11719487891090585, 0.12018586390348397]]\n",
      "[5, 0.5, [0.10880820460806287, 0.11582760360686284, 0.1250881216242166]]\n",
      "[7, 0.2, [0.16055826042353466, 0.17092006904240464, 0.1730121983181031]]\n",
      "[7, 0.3, [0.0960602628497013, 0.09322749372139459, 0.08523263902108667]]\n",
      "[7, 0.4, [0.10381595372667494, 0.11791827431052168, 0.12011400866027899]]\n",
      "[9, 0.2, [0.13363174656999655, 0.1411245286795573, 0.14040870987256274]]\n",
      "[7, 0.5, [0.11666093247386633, 0.12876371483235613, 0.13665557118055022]]\n",
      "[9, 0.4, [0.10238922502711323, 0.11382737536411948, 0.11783578006333996]]\n",
      "[9, 0.3, [0.09033271937911595, 0.09250307591000216, 0.08572064777449828]]\n",
      "[9, 0.5, [0.10657295172212007, 0.1170313210055382, 0.126085683841818]]\n",
      "(5, 4, 3)\n",
      "[[[0.21705348 0.23222714 0.22408812]\n",
      "  [0.19678802 0.18922177 0.16654079]\n",
      "  [0.13656317 0.16349644 0.15881508]\n",
      "  [0.12856827 0.1422601  0.13466857]]\n",
      "\n",
      " [[0.13159149 0.1358846  0.13863023]\n",
      "  [0.10198606 0.10139735 0.0969151 ]\n",
      "  [0.09456578 0.10924611 0.11461195]\n",
      "  [0.1153723  0.12280786 0.13351609]]\n",
      "\n",
      " [[0.11534793 0.11846624 0.11833288]\n",
      "  [0.10381063 0.10663467 0.09674676]\n",
      "  [0.10309323 0.11719488 0.12018586]\n",
      "  [0.1088082  0.1158276  0.12508812]]\n",
      "\n",
      " [[0.16055826 0.17092007 0.1730122 ]\n",
      "  [0.09606026 0.09322749 0.08523264]\n",
      "  [0.10381595 0.11791827 0.12011401]\n",
      "  [0.11666093 0.12876371 0.13665557]]\n",
      "\n",
      " [[0.13363175 0.14112453 0.14040871]\n",
      "  [0.09033272 0.09250308 0.08572065]\n",
      "  [0.10238923 0.11382738 0.11783578]\n",
      "  [0.10657295 0.11703132 0.12608568]]]\n"
     ]
    }
   ],
   "source": [
    "converted_results = np.ones((len(M_grid),len(alpha_grid),trials))*(-1)\n",
    "for item in results:\n",
    "    print(item)\n",
    "    converted_results[M_grid.index(item[0]),alpha_grid.index(item[1])] = item[2]\n",
    "\n",
    "print(converted_results.shape)\n",
    "print(converted_results)"
   ]
  },
  {
   "cell_type": "code",
   "execution_count": 17,
   "metadata": {
    "ExecuteTime": {
     "end_time": "2020-12-15T21:09:19.455520Z",
     "start_time": "2020-12-15T21:09:19.441526Z"
    },
    "colab": {
     "base_uri": "https://localhost:8080/"
    },
    "id": "QJ0iBNNS3-nq",
    "outputId": "f55fd09f-94ee-4023-ac01-ec68955a234e"
   },
   "outputs": [
    {
     "data": {
      "text/plain": [
       "(5, 4)"
      ]
     },
     "execution_count": 17,
     "metadata": {},
     "output_type": "execute_result"
    }
   ],
   "source": [
    "masked_results= np.ma.masked_where(converted_results <= 0.0,converted_results) # some runs have been aborted every now and then -> filter them out\n",
    "means = masked_results.mean(axis=2)\n",
    "sigmas = masked_results.std(axis=2)\n",
    "means.shape"
   ]
  },
  {
   "cell_type": "code",
   "execution_count": 18,
   "metadata": {
    "ExecuteTime": {
     "end_time": "2020-12-15T21:09:19.757678Z",
     "start_time": "2020-12-15T21:09:19.457484Z"
    },
    "colab": {
     "base_uri": "https://localhost:8080/",
     "height": 295
    },
    "id": "Mv_dWAob3-nq",
    "outputId": "74527903-54ab-455c-ca65-ddd4c81c4385"
   },
   "outputs": [
    {
     "data": {
      "image/png": "[encoded data removed]",
      "text/plain": [
       "<Figure size 432x288 with 1 Axes>"
      ]
     },
     "metadata": {
      "needs_background": "light"
     },
     "output_type": "display_data"
    }
   ],
   "source": [
    "plt.hlines(0.1419,xmin=M_grid[0],xmax=M_grid[-1],linestyles='dashed',label=\"reference error\")\n",
    "for i in range(len(alpha_grid)):\n",
    "    plt.errorbar(np.array(M_grid),means[:,i],sigmas[:,i],marker ='o',label = f\"alpha = {alpha_grid[i]}\")\n",
    "plt.title(f\"Deregularized Soft Bagging Normalized error: N_train = {N_train}, d= {d}, N_test= {N_test}, lambda = {lambda_}\")\n",
    "plt.xlabel(\"M\")\n",
    "plt.xticks(M_grid)\n",
    "plt.ylabel(\"normalized error\")\n",
    "plt.legend(loc='upper right')\n",
    "plt.savefig(\"dereg_soft_bagging.png\")\n",
    "plt.show()\n"
   ]
  },
  {
   "cell_type": "markdown",
   "metadata": {
    "id": "dcAAHg393-nq"
   },
   "source": [
    "\n"
   ]
  },
  {
   "cell_type": "markdown",
   "metadata": {
    "ExecuteTime": {
     "end_time": "2020-11-15T17:54:08.608678Z",
     "start_time": "2020-11-15T17:54:08.603664Z"
    },
    "id": "2zj8NAxI3-nq"
   },
   "source": [
    "## Store results"
   ]
  },
  {
   "cell_type": "code",
   "execution_count": 19,
   "metadata": {
    "ExecuteTime": {
     "end_time": "2020-12-15T21:09:19.763661Z",
     "start_time": "2020-12-15T21:09:19.758675Z"
    },
    "id": "qFvK6Ny03-nq"
   },
   "outputs": [],
   "source": [
    "res_dict = {'N_train': N_train, 'N_test': N_test,'mgrid': M_grid, 'alpha_grid': alpha_grid, 'errors': converted_results.tolist()}"
   ]
  },
  {
   "cell_type": "code",
   "execution_count": 20,
   "metadata": {
    "ExecuteTime": {
     "end_time": "2020-12-15T21:09:19.770642Z",
     "start_time": "2020-12-15T21:09:19.765656Z"
    },
    "id": "a-qSpIOm3-nr"
   },
   "outputs": [],
   "source": [
    "import json\n",
    "import datetime\n",
    "with open(f'dereg_soft_bagging_{str(datetime.date.today())}.json', 'w') as fp:\n",
    "    json.dump(res_dict, fp)"
   ]
  },
  {
   "cell_type": "code",
   "execution_count": 19,
   "metadata": {
    "id": "T_u8F5WX3-nr"
   },
   "outputs": [],
   "source": []
  }
 ],
 "metadata": {
  "colab": {
   "name": "#0006_Ensemble_Soft_Bagging.ipynb",
   "provenance": []
  },
  "kernelspec": {
   "display_name": "Python 3",
   "language": "python",
   "name": "python3"
  },
  "language_info": {
   "codemirror_mode": {
    "name": "ipython",
    "version": 3
   },
   "file_extension": ".py",
   "mimetype": "text/x-python",
   "name": "python",
   "nbconvert_exporter": "python",
   "pygments_lexer": "ipython3",
   "version": "3.7.5"
  },
  "toc": {
   "base_numbering": 1,
   "nav_menu": {},
   "number_sections": true,
   "sideBar": true,
   "skip_h1_title": false,
   "title_cell": "Table of Contents",
   "title_sidebar": "Contents",
   "toc_cell": false,
   "toc_position": {},
   "toc_section_display": true,
   "toc_window_display": false
  }
 },
 "nbformat": 4,
 "nbformat_minor": 1
}
