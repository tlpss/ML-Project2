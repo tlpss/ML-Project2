{
 "cells": [
  {
   "cell_type": "markdown",
   "metadata": {},
   "source": [
    "# Ensemble Learning through Batch Boosting\n"
   ]
  },
  {
   "cell_type": "code",
   "execution_count": 1,
   "metadata": {
    "ExecuteTime": {
     "end_time": "2020-11-20T15:52:17.865319Z",
     "start_time": "2020-11-20T15:52:17.067135Z"
    }
   },
   "outputs": [],
   "source": [
    "import numpy as np\n",
    "import random\n",
    "import matplotlib.pyplot as plt\n",
    "from sklearn.gaussian_process import GaussianProcessRegressor\n",
    "from sklearn.gaussian_process.kernels import RBF, WhiteKernel\n",
    "\n",
    "# add project root folder to path to allow import local modules\n",
    "import os\n",
    "import sys\n",
    "module_path = os.path.abspath(os.path.join('..'))\n",
    "if module_path not in sys.path:\n",
    "    sys.path.append(module_path)\n",
    "# import local modules\n",
    "from stochastic_models import *\n",
    "from visualisations import *"
   ]
  },
  {
   "cell_type": "markdown",
   "metadata": {
    "ExecuteTime": {
     "end_time": "2020-11-14T11:40:28.368547Z",
     "start_time": "2020-11-14T11:40:28.365554Z"
    }
   },
   "source": [
    "## Parameter Configuration"
   ]
  },
  {
   "cell_type": "code",
   "execution_count": 2,
   "metadata": {
    "ExecuteTime": {
     "end_time": "2020-11-20T15:52:17.870290Z",
     "start_time": "2020-11-20T15:52:17.866297Z"
    }
   },
   "outputs": [],
   "source": [
    "np.random.seed(2020)"
   ]
  },
  {
   "cell_type": "code",
   "execution_count": 21,
   "metadata": {
    "ExecuteTime": {
     "end_time": "2020-11-20T15:52:17.874277Z",
     "start_time": "2020-11-20T15:52:17.871251Z"
    }
   },
   "outputs": [],
   "source": [
    "N_train = 5000\n",
    "N_test = 50000\n",
    "Epsilon  = 1e-3\n",
    "Max_Iter = 50\n",
    "Learning_Rate = 0.8\n",
    "Ratio = 0.4\n",
    "ratios = [0.15, 0.2, 0.25, 0.35, 0.4, 0.5]\n",
    "d = 1\n",
    "T = 2"
   ]
  },
  {
   "cell_type": "code",
   "execution_count": 4,
   "metadata": {
    "ExecuteTime": {
     "end_time": "2020-11-20T15:52:17.880254Z",
     "start_time": "2020-11-20T15:52:17.875244Z"
    }
   },
   "outputs": [],
   "source": [
    "lambda_range = (N_train*1e-9 , N_train*1e-3)\n",
    "alpha_range = (8.3*1e-5, 0.83)\n",
    "length_scale = np.sort(1/np.sqrt((2*alpha_range[0], 2*alpha_range[1])))"
   ]
  },
  {
   "cell_type": "markdown",
   "metadata": {
    "ExecuteTime": {
     "end_time": "2020-11-14T11:40:29.811046Z",
     "start_time": "2020-11-14T11:40:29.808054Z"
    }
   },
   "source": [
    "## Create Kernel & prepare datasets"
   ]
  },
  {
   "cell_type": "code",
   "execution_count": 5,
   "metadata": {
    "ExecuteTime": {
     "end_time": "2020-11-20T15:52:17.886212Z",
     "start_time": "2020-11-20T15:52:17.881226Z"
    }
   },
   "outputs": [],
   "source": [
    "#kernel\n",
    "kernel = RBF(length_scale= (length_scale[0] + length_scale[1])/2, length_scale_bounds=length_scale) \\\n",
    "        + WhiteKernel(noise_level= (lambda_range[0] + lambda_range[1])/2 , noise_level_bounds=lambda_range)\n"
   ]
  },
  {
   "cell_type": "code",
   "execution_count": 6,
   "metadata": {
    "ExecuteTime": {
     "end_time": "2020-11-20T15:52:17.897244Z",
     "start_time": "2020-11-20T15:52:17.887236Z"
    }
   },
   "outputs": [],
   "source": [
    "#generate drivers\n",
    "s_train = MaxCallStochasticModel(N_train,d,[1/12,11/12])\n",
    "s_train.generate_samples()\n",
    "s_test = MaxCallStochasticModel(N_test, d, [1/12,11/12])\n",
    "s_test.generate_samples()"
   ]
  },
  {
   "cell_type": "code",
   "execution_count": 7,
   "metadata": {},
   "outputs": [
    {
     "data": {
      "text/plain": [
       "0.07935344411249907"
      ]
     },
     "execution_count": 7,
     "metadata": {},
     "output_type": "execute_result"
    }
   ],
   "source": [
    "y_train = s_train.y\n",
    "X_train = s_train.X\n",
    "S_train = s_train.S\n",
    "\n",
    "y_test = s_test.y\n",
    "X_test = s_test.X\n",
    "S_test = s_test.S\n",
    "\n",
    "V_T = s_test.generate_true_V(T)\n",
    "V_0 = s_test.generate_true_V(0)\n",
    "\n",
    "V_T_train = s_train.generate_true_V(T)\n",
    "V_0_train = s_train.generate_true_V(0)\n",
    "\n",
    "V_0_train = V_0_train.mean()\n",
    "V_0= V_0.mean()\n",
    "V_0 # Average expected PROFIT!"
   ]
  },
  {
   "cell_type": "code",
   "execution_count": 8,
   "metadata": {
    "ExecuteTime": {
     "end_time": "2020-11-20T15:52:17.911172Z",
     "start_time": "2020-11-20T15:52:17.907158Z"
    }
   },
   "outputs": [],
   "source": [
    "from aggregating.utils import flatten_X, normalized_error_VT\n",
    "#dim(N_test,d*T)\n",
    "Flattened_X_test = flatten_X(X_test)\n",
    "# dim(N_train, d*T)\n",
    "Flattened_X_train = flatten_X(X_train)"
   ]
  },
  {
   "cell_type": "code",
   "execution_count": 9,
   "metadata": {},
   "outputs": [
    {
     "data": {
      "text/plain": [
       "GaussianProcessRegressor(kernel=RBF(length_scale=39.2) + WhiteKernel(noise_level=2.5))"
      ]
     },
     "execution_count": 9,
     "metadata": {},
     "output_type": "execute_result"
    }
   ],
   "source": [
    "#Model with Flatten_X_1\n",
    "m_1 = GaussianProcessRegressor(kernel)\n",
    "m_1.fit(Flattened_X_train,y_train)"
   ]
  },
  {
   "cell_type": "code",
   "execution_count": 10,
   "metadata": {},
   "outputs": [],
   "source": [
    "fX_1 = m_1.predict(Flattened_X_test)"
   ]
  },
  {
   "cell_type": "code",
   "execution_count": 11,
   "metadata": {},
   "outputs": [],
   "source": [
    "fX_2 = m_1.predict(Flattened_X_train)"
   ]
  },
  {
   "cell_type": "code",
   "execution_count": 12,
   "metadata": {},
   "outputs": [],
   "source": [
    "test_reference_error = normalized_error_VT(fX_1 ,V_T, V_0)"
   ]
  },
  {
   "cell_type": "code",
   "execution_count": 13,
   "metadata": {},
   "outputs": [],
   "source": [
    "train_reference_error = normalized_error_VT(fX_2 ,V_T_train, V_0_train)"
   ]
  },
  {
   "cell_type": "code",
   "execution_count": 14,
   "metadata": {},
   "outputs": [
    {
     "data": {
      "text/plain": [
       "0.020513219063138088"
      ]
     },
     "execution_count": 14,
     "metadata": {},
     "output_type": "execute_result"
    }
   ],
   "source": [
    "train_reference_error"
   ]
  },
  {
   "cell_type": "code",
   "execution_count": 15,
   "metadata": {},
   "outputs": [
    {
     "data": {
      "text/plain": [
       "0.13165511169540253"
      ]
     },
     "execution_count": 15,
     "metadata": {},
     "output_type": "execute_result"
    }
   ],
   "source": [
    "test_reference_error "
   ]
  },
  {
   "cell_type": "markdown",
   "metadata": {},
   "source": [
    "## Stochastic Gradient Boosting"
   ]
  },
  {
   "cell_type": "code",
   "execution_count": 16,
   "metadata": {},
   "outputs": [],
   "source": [
    "def Stochastic_Gradient_Boosting(X_train, y_train, X_test, y_test, Max_Iter, min_error, early_stop, kernel, learning_rate, epsilon, sample_size, init):\n",
    "    np.random.seed(2020)\n",
    "    error_going_up = 0\n",
    "    train_prediction = np.zeros(N_train)\n",
    "    test_prediction = np.zeros(N_test)\n",
    "    previous_y_hat = np.zeros(N_train)\n",
    "    previous_y_test_hat = np.zeros(N_test)\n",
    "    models = []\n",
    "    train_errors = []\n",
    "    test_errors = []\n",
    "    \n",
    "    current_residual = np.full(len(y_train),init)\n",
    "    y_hat_test = np.full(len(y_test),init)\n",
    "\n",
    "   \n",
    "    \n",
    "    for i in range(Max_Iter):\n",
    "        model = GaussianProcessRegressor(kernel)\n",
    "    \n",
    "        indices = np.random.choice(X_train.shape[0],size=sample_size,replace=False)\n",
    "       \n",
    "        model.fit(X_train[indices], y_train[indices] - current_residual[indices])\n",
    "        models.append(model)\n",
    "        \n",
    "        new_train_predictor = model.predict(X_train)\n",
    "        new_test_predictor = model.predict(X_test)\n",
    "        \n",
    "        current_residual += learning_rate * new_train_predictor\n",
    "        \n",
    "        y_hat_train = current_residual \n",
    "        \n",
    "        y_hat_test += learning_rate * new_test_predictor\n",
    "        \n",
    "        #Evaluating TrainSet error\n",
    "        \n",
    "        train_errors.append(normalized_error_VT(y_hat_train,y_train,V_0_train).item())\n",
    "        \n",
    "        ##Evaluating TestSet error\n",
    "        \n",
    "        test_errors.append(normalized_error_VT(y_hat_test,y_test,V_0).item())\n",
    "    \n",
    "        if (( np.abs(min_error[0] - test_errors[-1]) > epsilon) & (test_errors[-1] < min_error[0])):\n",
    "            min_error = (test_errors[-1], i)\n",
    "            error_going_up = 0\n",
    "            print('For iteration number {}, the test error decreased , test error : {} '.format(i, min_error[0]))\n",
    "        else:\n",
    "            error_going_up += 1\n",
    "            print('For iteration number {}, the test error increased , test error : {} '.format(i, min_error[0]))\n",
    "        \n",
    "            if  (i==(Max_Iter-1)):\n",
    "                models = models[:min_error[1]+1]\n",
    "                \n",
    "                return models, train_errors, test_errors, min_error\n",
    "        \n",
    "            elif (error_going_up == early_stop ):\n",
    "                models = models[: -(early_stop)]\n",
    "                \n",
    "                return models, train_errors, test_errors, min_error\n",
    "                break #early stopping\n",
    "            \n",
    "    return models, train_errors, test_errors, min_error"
   ]
  },
  {
   "cell_type": "code",
   "execution_count": 22,
   "metadata": {},
   "outputs": [],
   "source": [
    "def Stoch_Grad_Boosting_per_ratio(ratios, model, X_train, y_train, X_test, y_test, Epsilon, kernel, Max_Iter, init):\n",
    "    models = dict((val, []) for val in range(len(ratios))) \n",
    "    train_errors = dict((val, []) for val in range(len(ratios))) \n",
    "    test_errors = dict((val, []) for val in range(len(ratios))) \n",
    "    min_errors = dict((val, []) for val in range(len(ratios))) \n",
    "\n",
    "    for i in range(len(ratios)) :\n",
    "        print(f\"Starting evaluation for ratio {ratios[i]}:\")\n",
    "        models[i], train_errors[i], test_errors[i], min_errors[i] = model(X_train, y_train, X_test, y_test, Max_Iter, (float(\"inf\"), float(\"inf\")), 4, kernel, 0.366, Epsilon, round(X_train.shape[0]*ratios[i]), init)\n",
    "    \n",
    "    return test_errors\n"
   ]
  },
  {
   "cell_type": "code",
   "execution_count": 23,
   "metadata": {},
   "outputs": [
    {
     "name": "stdout",
     "output_type": "stream",
     "text": [
      "Starting evaluation for ratio 0.15:\n",
      "For iteration number 0, the test error decreased , test error : 1.051834041421147 \n",
      "For iteration number 1, the test error decreased , test error : 0.6766337512718569 \n",
      "For iteration number 2, the test error decreased , test error : 0.4410143410379095 \n",
      "For iteration number 3, the test error decreased , test error : 0.29210934915803577 \n",
      "For iteration number 4, the test error decreased , test error : 0.1982839332202317 \n",
      "For iteration number 5, the test error decreased , test error : 0.14370820604078463 \n",
      "For iteration number 6, the test error decreased , test error : 0.10277889444997268 \n",
      "For iteration number 7, the test error decreased , test error : 0.0869429738408516 \n",
      "For iteration number 8, the test error decreased , test error : 0.06754337293664624 \n",
      "For iteration number 9, the test error decreased , test error : 0.06406612755801742 \n",
      "For iteration number 10, the test error decreased , test error : 0.062298938945518585 \n",
      "For iteration number 11, the test error increased , test error : 0.062298938945518585 \n",
      "For iteration number 12, the test error decreased , test error : 0.06099767752632046 \n",
      "For iteration number 13, the test error decreased , test error : 0.05424842975161594 \n",
      "For iteration number 14, the test error decreased , test error : 0.052668668459218235 \n",
      "For iteration number 15, the test error increased , test error : 0.052668668459218235 \n",
      "For iteration number 16, the test error increased , test error : 0.052668668459218235 \n",
      "For iteration number 17, the test error increased , test error : 0.052668668459218235 \n",
      "For iteration number 18, the test error increased , test error : 0.052668668459218235 \n",
      "Starting evaluation for ratio 0.2:\n",
      "For iteration number 0, the test error decreased , test error : 1.0505090953165424 \n",
      "For iteration number 1, the test error decreased , test error : 0.6743685168352371 \n",
      "For iteration number 2, the test error decreased , test error : 0.42550304831045477 \n",
      "For iteration number 3, the test error decreased , test error : 0.27834710927647455 \n",
      "For iteration number 4, the test error decreased , test error : 0.1834723931719394 \n",
      "For iteration number 5, the test error decreased , test error : 0.12890254542556379 \n",
      "For iteration number 6, the test error decreased , test error : 0.09594148588704893 \n",
      "For iteration number 7, the test error decreased , test error : 0.07938740011186803 \n"
     ]
    },
    {
     "name": "stderr",
     "output_type": "stream",
     "text": [
      "/Users/Clement/anaconda3/lib/python3.7/site-packages/sklearn/gaussian_process/_gpr.py:504: ConvergenceWarning: lbfgs failed to converge (status=2):\n",
      "ABNORMAL_TERMINATION_IN_LNSRCH.\n",
      "\n",
      "Increase the number of iterations (max_iter) or scale the data as shown in:\n",
      "    https://scikit-learn.org/stable/modules/preprocessing.html\n",
      "  _check_optimize_result(\"lbfgs\", opt_res)\n"
     ]
    },
    {
     "name": "stdout",
     "output_type": "stream",
     "text": [
      "For iteration number 8, the test error decreased , test error : 0.07116879649257232 \n",
      "For iteration number 9, the test error decreased , test error : 0.06772443029836256 \n",
      "For iteration number 10, the test error decreased , test error : 0.0663907361401279 \n",
      "For iteration number 11, the test error increased , test error : 0.0663907361401279 \n",
      "For iteration number 12, the test error decreased , test error : 0.06530632594664988 \n",
      "For iteration number 13, the test error increased , test error : 0.06530632594664988 \n",
      "For iteration number 14, the test error increased , test error : 0.06530632594664988 \n",
      "For iteration number 15, the test error increased , test error : 0.06530632594664988 \n",
      "For iteration number 16, the test error increased , test error : 0.06530632594664988 \n",
      "Starting evaluation for ratio 0.25:\n",
      "For iteration number 0, the test error decreased , test error : 1.053667290628139 \n",
      "For iteration number 1, the test error decreased , test error : 0.6771897283354777 \n",
      "For iteration number 2, the test error decreased , test error : 0.4369716091641173 \n",
      "For iteration number 3, the test error decreased , test error : 0.2851843836975467 \n",
      "For iteration number 4, the test error decreased , test error : 0.19474671728254642 \n",
      "For iteration number 5, the test error decreased , test error : 0.132173228245569 \n",
      "For iteration number 6, the test error decreased , test error : 0.09890803876350772 \n",
      "For iteration number 7, the test error decreased , test error : 0.08293316314080539 \n",
      "For iteration number 8, the test error decreased , test error : 0.07325402649232686 \n",
      "For iteration number 9, the test error increased , test error : 0.07325402649232686 \n",
      "For iteration number 10, the test error decreased , test error : 0.07129728240859008 \n",
      "For iteration number 11, the test error increased , test error : 0.07129728240859008 \n",
      "For iteration number 12, the test error increased , test error : 0.07129728240859008 \n",
      "For iteration number 13, the test error increased , test error : 0.07129728240859008 \n",
      "For iteration number 14, the test error increased , test error : 0.07129728240859008 \n",
      "Starting evaluation for ratio 0.35:\n",
      "For iteration number 0, the test error decreased , test error : 1.054252465816235 \n",
      "For iteration number 1, the test error decreased , test error : 0.6842816115315042 \n",
      "For iteration number 2, the test error decreased , test error : 0.44541317048461077 \n",
      "For iteration number 3, the test error decreased , test error : 0.292843149014749 \n",
      "For iteration number 4, the test error decreased , test error : 0.20917917490467255 \n",
      "For iteration number 5, the test error decreased , test error : 0.15384188499782542 \n",
      "For iteration number 6, the test error decreased , test error : 0.126782719703272 \n",
      "For iteration number 7, the test error decreased , test error : 0.11261504737157367 \n",
      "For iteration number 8, the test error increased , test error : 0.11261504737157367 \n",
      "For iteration number 9, the test error increased , test error : 0.11261504737157367 \n",
      "For iteration number 10, the test error decreased , test error : 0.10996879598477137 \n",
      "For iteration number 11, the test error decreased , test error : 0.10892525316603648 \n",
      "For iteration number 12, the test error increased , test error : 0.10892525316603648 \n",
      "For iteration number 13, the test error increased , test error : 0.10892525316603648 \n",
      "For iteration number 14, the test error increased , test error : 0.10892525316603648 \n",
      "For iteration number 15, the test error decreased , test error : 0.1078715550333976 \n",
      "For iteration number 16, the test error increased , test error : 0.1078715550333976 \n",
      "For iteration number 17, the test error increased , test error : 0.1078715550333976 \n",
      "For iteration number 18, the test error increased , test error : 0.1078715550333976 \n",
      "For iteration number 19, the test error increased , test error : 0.1078715550333976 \n",
      "Starting evaluation for ratio 0.4:\n",
      "For iteration number 0, the test error decreased , test error : 1.0546324508240572 \n",
      "For iteration number 1, the test error decreased , test error : 0.6825655232157611 \n",
      "For iteration number 2, the test error decreased , test error : 0.4451420584605412 \n",
      "For iteration number 3, the test error decreased , test error : 0.29440642138880285 \n",
      "For iteration number 4, the test error decreased , test error : 0.21173453392259473 \n",
      "For iteration number 5, the test error decreased , test error : 0.16316927273005308 \n",
      "For iteration number 6, the test error decreased , test error : 0.1361111366492243 \n",
      "For iteration number 7, the test error decreased , test error : 0.12356594090823106 \n",
      "For iteration number 8, the test error decreased , test error : 0.11816819501211229 \n",
      "For iteration number 9, the test error decreased , test error : 0.1149646018427077 \n",
      "For iteration number 10, the test error decreased , test error : 0.11321803100924147 \n",
      "For iteration number 11, the test error increased , test error : 0.11321803100924147 \n",
      "For iteration number 12, the test error decreased , test error : 0.11187271143171469 \n"
     ]
    },
    {
     "name": "stderr",
     "output_type": "stream",
     "text": [
      "/Users/Clement/anaconda3/lib/python3.7/site-packages/sklearn/gaussian_process/_gpr.py:504: ConvergenceWarning: lbfgs failed to converge (status=2):\n",
      "ABNORMAL_TERMINATION_IN_LNSRCH.\n",
      "\n",
      "Increase the number of iterations (max_iter) or scale the data as shown in:\n",
      "    https://scikit-learn.org/stable/modules/preprocessing.html\n",
      "  _check_optimize_result(\"lbfgs\", opt_res)\n"
     ]
    },
    {
     "name": "stdout",
     "output_type": "stream",
     "text": [
      "For iteration number 13, the test error increased , test error : 0.11187271143171469 \n",
      "For iteration number 14, the test error increased , test error : 0.11187271143171469 \n",
      "For iteration number 15, the test error increased , test error : 0.11187271143171469 \n",
      "For iteration number 16, the test error increased , test error : 0.11187271143171469 \n",
      "Starting evaluation for ratio 0.5:\n",
      "For iteration number 0, the test error decreased , test error : 1.054799962655164 \n",
      "For iteration number 1, the test error decreased , test error : 0.6822345956467964 \n",
      "For iteration number 2, the test error decreased , test error : 0.4458231436846974 \n",
      "For iteration number 3, the test error decreased , test error : 0.29440381913080405 \n",
      "For iteration number 4, the test error decreased , test error : 0.20859088031803658 \n",
      "For iteration number 5, the test error decreased , test error : 0.1494419812984063 \n",
      "For iteration number 6, the test error decreased , test error : 0.11941603149551737 \n",
      "For iteration number 7, the test error decreased , test error : 0.10506207169664103 \n",
      "For iteration number 8, the test error decreased , test error : 0.09770399221192891 \n",
      "For iteration number 9, the test error decreased , test error : 0.09388556304101338 \n",
      "For iteration number 10, the test error decreased , test error : 0.09203595405678978 \n",
      "For iteration number 11, the test error increased , test error : 0.09203595405678978 \n",
      "For iteration number 12, the test error decreased , test error : 0.09061912582741892 \n",
      "For iteration number 13, the test error increased , test error : 0.09061912582741892 \n",
      "For iteration number 14, the test error increased , test error : 0.09061912582741892 \n",
      "For iteration number 15, the test error increased , test error : 0.09061912582741892 \n",
      "For iteration number 16, the test error increased , test error : 0.09061912582741892 \n"
     ]
    }
   ],
   "source": [
    "test_errors = Stoch_Grad_Boosting_per_ratio(ratios, Stochastic_Gradient_Boosting, np.copy(Flattened_X_train), np.copy(y_train), np.copy(Flattened_X_test), np.copy(y_test), Epsilon, kernel, Max_Iter, np.mean(y_train, axis=0))\n",
    "#test_errors_0 = Stoch_Grad_Boosting_per_ratio(ratios, Stochastic_Gradient_Boosting, np.copy(Flattened_X_train), np.copy(y_train), np.copy(Flattened_X_test), np.copy(y_test), Epsilon, kernel, Max_Iter, 0.0)\n",
    "#test_errors_1 = Stoch_Grad_Boosting_per_ratio(ratios, Stochastic_Gradient_Boosting, np.copy(Flattened_X_train), np.copy(y_train), np.copy(Flattened_X_test), np.copy(y_test), Epsilon, kernel, Max_Iter, np.mean(y_train, axis=0)/2)\n"
   ]
  },
  {
   "cell_type": "code",
   "execution_count": 27,
   "metadata": {},
   "outputs": [
    {
     "data": {
      "image/png": "[encoded data removed]",
      "text/plain": [
       "<Figure size 1296x432 with 1 Axes>"
      ]
     },
     "metadata": {
      "needs_background": "light"
     },
     "output_type": "display_data"
    }
   ],
   "source": [
    "plot_errors(test_errors,ratios, N_train, d, N_test, Learning_Rate, Max_Iter, 'mean') \n",
    "#plot_errors(test_errors_0,ratios, N_train, d, N_test, Learning_Rate, Max_Iter, '0') \n",
    "#plot_errors(test_errors_1,ratios, N_train, d, N_test, Learning_Rate, Max_Iter, 'mean/2') "
   ]
  },
  {
   "cell_type": "code",
   "execution_count": 26,
   "metadata": {},
   "outputs": [],
   "source": [
    "import pickle\n",
    "with open(f\"Learning_rate_{Learning_Rate}.p\", \"wb\") as f:\n",
    "    pickle.dump(test_errors,f)"
   ]
  },
  {
   "cell_type": "code",
   "execution_count": 140,
   "metadata": {},
   "outputs": [],
   "source": [
    "\n",
    "PICKLE = False\n",
    "if PICKLE:\n",
    "    test_errors = pickle.load(open(\"mean_initalisation.p\", \"rb\"))\n",
    "    test_errors_0 = pickle.load(open(\"0_initalisation.p\", \"rb\"))\n",
    "    test_errors_1 = pickle.load(open(\"half_mean_initalisation.p\", \"rb\"))"
   ]
  },
  {
   "cell_type": "code",
   "execution_count": 90,
   "metadata": {},
   "outputs": [],
   "source": [
    "def log_plot_errors(test_errors, ratios, N_train, d, N_test, Learning_Rate, Max_Iter):\n",
    "    for i in range(len(test_errors)):\n",
    "        while len(test_errors[i]) != Max_Iter :\n",
    "            test_errors[i].append(test_errors[i][-1])\n",
    "    plt.figure(figsize=((18, 6)))\n",
    "    for i in range(len(ratios)) :\n",
    "        #plt.axvline(min_errors[i][1], ls='-', color = 'k', label = 'Test Minimal Error for rate : {rate}')\n",
    "        plt.plot(np.arange(len(test_errors[i][:61])) , np.log(test_errors[i][:61]), label = f'learning rate :{ratios[i]}')\n",
    "    plt.axhline(np.log(test_reference_error), ls=':', color = 'orange', label = 'Test Reference Error')\n",
    "    plt.xlabel(\"Number of Iterations\")\n",
    "    plt.title(f\"Stochastic Gradient Boosting: N_train = {N_train}, d= {d}, N_test= {N_test}, learning_rate : {Learning_Rate}, with different Learning Rates\")\n",
    "    plt.ylabel(\"Log Normalized Error\")\n",
    "    plt.legend(loc='upper right')\n",
    "    plt.show()"
   ]
  },
  {
   "cell_type": "code",
   "execution_count": 24,
   "metadata": {},
   "outputs": [],
   "source": [
    "def plot_errors(test_errors, ratios, N_train, d, N_test, Learning_Rate, Max_Iter, init):\n",
    "    for i in range(len(test_errors)):\n",
    "        while len(test_errors[i]) != Max_Iter :\n",
    "            test_errors[i].append(test_errors[i][-1])\n",
    "    plt.figure(figsize=((18, 6)))\n",
    "    for i in range(len(ratios)) :\n",
    "        #plt.axvline(min_errors[i][1], ls='-', color = 'k', label = 'Test Minimal Error for rate : {rate}')\n",
    "        plt.plot(np.arange(5,26) , test_errors[i][5:26], label = f'alpha :{ratios[i]}')\n",
    "    plt.axhline(test_reference_error, ls=':', color = 'orange', label = 'Test Reference Error')\n",
    "    plt.xlabel(\"Number of Iterations\")\n",
    "    plt.title(f\"Stochastic Gradient Boosting with {init} initialisation: N_train = {N_train}, d= {d}, N_test= {N_test}, learning_rate : {Learning_Rate}, with different Learning Rates\")\n",
    "    plt.ylabel(\"Normalized Error\")\n",
    "    plt.legend(loc='upper right')\n",
    "    plt.show()"
   ]
  },
  {
   "cell_type": "code",
   "execution_count": null,
   "metadata": {},
   "outputs": [],
   "source": []
  }
 ],
 "metadata": {
  "kernelspec": {
   "display_name": "Python 3",
   "language": "python",
   "name": "python3"
  },
  "language_info": {
   "codemirror_mode": {
    "name": "ipython",
    "version": 3
   },
   "file_extension": ".py",
   "mimetype": "text/x-python",
   "name": "python",
   "nbconvert_exporter": "python",
   "pygments_lexer": "ipython3",
   "version": "3.7.9"
  },
  "toc": {
   "base_numbering": 1,
   "nav_menu": {},
   "number_sections": true,
   "sideBar": true,
   "skip_h1_title": false,
   "title_cell": "Table of Contents",
   "title_sidebar": "Contents",
   "toc_cell": false,
   "toc_position": {},
   "toc_section_display": true,
   "toc_window_display": false
  }
 },
 "nbformat": 4,
 "nbformat_minor": 2
}
