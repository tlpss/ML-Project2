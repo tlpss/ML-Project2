{
 "cells": [
  {
   "cell_type": "markdown",
   "metadata": {},
   "source": [
    "# Ensemble Learning through Batch Boosting\n"
   ]
  },
  {
   "cell_type": "code",
   "execution_count": 2,
   "metadata": {
    "ExecuteTime": {
     "end_time": "2020-11-20T15:52:17.865319Z",
     "start_time": "2020-11-20T15:52:17.067135Z"
    }
   },
   "outputs": [],
   "source": [
    "import numpy as np\n",
    "import random\n",
    "import matplotlib.pyplot as plt\n",
    "from sklearn.gaussian_process import GaussianProcessRegressor\n",
    "from sklearn.gaussian_process.kernels import RBF, WhiteKernel\n",
    "\n",
    "# add project root folder to path to allow import local modules\n",
    "import os\n",
    "import sys\n",
    "module_path = os.path.abspath(os.path.join('..'))\n",
    "if module_path not in sys.path:\n",
    "    sys.path.append(module_path)\n",
    "# import local modules\n",
    "from stochastic_models import *\n",
    "from visualisations import *"
   ]
  },
  {
   "cell_type": "markdown",
   "metadata": {
    "ExecuteTime": {
     "end_time": "2020-11-14T11:40:28.368547Z",
     "start_time": "2020-11-14T11:40:28.365554Z"
    }
   },
   "source": [
    "## Parameter Configuration"
   ]
  },
  {
   "cell_type": "code",
   "execution_count": 3,
   "metadata": {
    "ExecuteTime": {
     "end_time": "2020-11-20T15:52:17.870290Z",
     "start_time": "2020-11-20T15:52:17.866297Z"
    }
   },
   "outputs": [],
   "source": [
    "np.random.seed(2020)"
   ]
  },
  {
   "cell_type": "code",
   "execution_count": 123,
   "metadata": {
    "ExecuteTime": {
     "end_time": "2020-11-20T15:52:17.874277Z",
     "start_time": "2020-11-20T15:52:17.871251Z"
    }
   },
   "outputs": [],
   "source": [
    "N_train = 5000\n",
    "N_test = 50000\n",
    "Epsilon  = 1e-6\n",
    "Max_Iter = 50\n",
    "Learning_Rate = 0.366\n",
    "Ratio = 0.4\n",
    "ratios = [0.15, 0.2, 0.25, 0.35, 0.4, 0.5]\n",
    "d = 1\n",
    "T = 2"
   ]
  },
  {
   "cell_type": "code",
   "execution_count": 124,
   "metadata": {
    "ExecuteTime": {
     "end_time": "2020-11-20T15:52:17.880254Z",
     "start_time": "2020-11-20T15:52:17.875244Z"
    }
   },
   "outputs": [],
   "source": [
    "lambda_range = (N_train*1e-9 , N_train*1e-3)\n",
    "alpha_range = (8.3*1e-5, 0.83)\n",
    "length_scale = np.sort(1/np.sqrt((2*alpha_range[0], 2*alpha_range[1])))"
   ]
  },
  {
   "cell_type": "markdown",
   "metadata": {
    "ExecuteTime": {
     "end_time": "2020-11-14T11:40:29.811046Z",
     "start_time": "2020-11-14T11:40:29.808054Z"
    }
   },
   "source": [
    "## Create Kernel & prepare datasets"
   ]
  },
  {
   "cell_type": "code",
   "execution_count": 125,
   "metadata": {
    "ExecuteTime": {
     "end_time": "2020-11-20T15:52:17.886212Z",
     "start_time": "2020-11-20T15:52:17.881226Z"
    }
   },
   "outputs": [],
   "source": [
    "#kernel\n",
    "kernel = RBF(length_scale= (length_scale[0] + length_scale[1])/2, length_scale_bounds=length_scale) \\\n",
    "        + WhiteKernel(noise_level= (lambda_range[0] + lambda_range[1])/2 , noise_level_bounds=lambda_range)\n"
   ]
  },
  {
   "cell_type": "code",
   "execution_count": 126,
   "metadata": {
    "ExecuteTime": {
     "end_time": "2020-11-20T15:52:17.897244Z",
     "start_time": "2020-11-20T15:52:17.887236Z"
    }
   },
   "outputs": [],
   "source": [
    "#generate drivers\n",
    "s_train = MaxCallStochasticModel(N_train,d,[1/12,11/12])\n",
    "s_train.generate_samples()\n",
    "s_test = MaxCallStochasticModel(N_test, d, [1/12,11/12])\n",
    "s_test.generate_samples()"
   ]
  },
  {
   "cell_type": "code",
   "execution_count": 127,
   "metadata": {},
   "outputs": [
    {
     "data": {
      "text/plain": [
       "0.07959783428685493"
      ]
     },
     "execution_count": 127,
     "metadata": {},
     "output_type": "execute_result"
    }
   ],
   "source": [
    "y_train = s_train.y\n",
    "X_train = s_train.X\n",
    "S_train = s_train.S\n",
    "\n",
    "y_test = s_test.y\n",
    "X_test = s_test.X\n",
    "S_test = s_test.S\n",
    "\n",
    "V_T = s_test.generate_true_V(T)\n",
    "V_0 = s_test.generate_true_V(0)\n",
    "\n",
    "V_T_train = s_train.generate_true_V(T)\n",
    "V_0_train = s_train.generate_true_V(0)\n",
    "\n",
    "V_0_train = V_0_train.mean()\n",
    "V_0= V_0.mean()\n",
    "V_0 # Average expected PROFIT!"
   ]
  },
  {
   "cell_type": "code",
   "execution_count": 128,
   "metadata": {
    "ExecuteTime": {
     "end_time": "2020-11-20T15:52:17.911172Z",
     "start_time": "2020-11-20T15:52:17.907158Z"
    }
   },
   "outputs": [],
   "source": [
    "from aggregating.utils import flatten_X, normalized_error_VT\n",
    "#dim(N_test,d*T)\n",
    "Flattened_X_test = flatten_X(X_test)\n",
    "# dim(N_train, d*T)\n",
    "Flattened_X_train = flatten_X(X_train)"
   ]
  },
  {
   "cell_type": "code",
   "execution_count": 129,
   "metadata": {},
   "outputs": [
    {
     "data": {
      "text/plain": [
       "GaussianProcessRegressor(kernel=RBF(length_scale=39.2) + WhiteKernel(noise_level=2.5))"
      ]
     },
     "execution_count": 129,
     "metadata": {},
     "output_type": "execute_result"
    }
   ],
   "source": [
    "#Model with Flatten_X_1\n",
    "m_1 = GaussianProcessRegressor(kernel)\n",
    "m_1.fit(Flattened_X_train,y_train)"
   ]
  },
  {
   "cell_type": "code",
   "execution_count": 130,
   "metadata": {},
   "outputs": [],
   "source": [
    "fX_1 = m_1.predict(Flattened_X_test)"
   ]
  },
  {
   "cell_type": "code",
   "execution_count": 131,
   "metadata": {},
   "outputs": [],
   "source": [
    "fX_2 = m_1.predict(Flattened_X_train)"
   ]
  },
  {
   "cell_type": "code",
   "execution_count": 132,
   "metadata": {},
   "outputs": [],
   "source": [
    "test_reference_error = normalized_error_VT(fX_1 ,V_T, V_0)"
   ]
  },
  {
   "cell_type": "code",
   "execution_count": 133,
   "metadata": {},
   "outputs": [],
   "source": [
    "train_reference_error = normalized_error_VT(fX_2 ,V_T_train, V_0_train)"
   ]
  },
  {
   "cell_type": "code",
   "execution_count": 134,
   "metadata": {},
   "outputs": [
    {
     "data": {
      "text/plain": [
       "0.018826337891650134"
      ]
     },
     "execution_count": 134,
     "metadata": {},
     "output_type": "execute_result"
    }
   ],
   "source": [
    "train_reference_error"
   ]
  },
  {
   "cell_type": "code",
   "execution_count": 135,
   "metadata": {},
   "outputs": [
    {
     "data": {
      "text/plain": [
       "0.04973099137089055"
      ]
     },
     "execution_count": 135,
     "metadata": {},
     "output_type": "execute_result"
    }
   ],
   "source": [
    "test_reference_error"
   ]
  },
  {
   "cell_type": "markdown",
   "metadata": {},
   "source": [
    "## Stochastic Gradient Boosting"
   ]
  },
  {
   "cell_type": "code",
   "execution_count": 136,
   "metadata": {},
   "outputs": [],
   "source": [
    "def Stochastic_Gradient_Boosting_0(X_train, y_train, X_test, y_test, Max_Iter, min_error, early_stop, kernel, learning_rate, epsilon, sample_size):\n",
    "    error_going_up = 0\n",
    "    train_prediction = np.zeros(N_train)\n",
    "    test_prediction = np.zeros(N_test)\n",
    "    previous_y_hat = np.zeros(N_train)\n",
    "    previous_y_test_hat = np.zeros(N_test)\n",
    "    models = []\n",
    "    train_errors = []\n",
    "    test_errors = []\n",
    "    \n",
    "    current_residual = np.full(len(y_train), 0.0)\n",
    "    y_hat_test = np.full(len(y_test),0.0)\n",
    "\n",
    "   \n",
    "    \n",
    "    for i in range(Max_Iter):\n",
    "        model = GaussianProcessRegressor(kernel)\n",
    "    \n",
    "        indices = np.random.choice(X_train.shape[0],size=sample_size,replace=False)\n",
    "       \n",
    "        model.fit(X_train[indices], y_train[indices] - current_residual[indices])\n",
    "        models.append(model)\n",
    "        \n",
    "        new_train_predictor = model.predict(X_train)\n",
    "        new_test_predictor = model.predict(X_test)\n",
    "        \n",
    "        current_residual += learning_rate * new_train_predictor\n",
    "        \n",
    "        y_hat_train = current_residual \n",
    "        \n",
    "        y_hat_test += learning_rate * new_test_predictor\n",
    "        \n",
    "        #Evaluating TrainSet error\n",
    "        \n",
    "        train_errors.append(normalized_error_VT(y_hat_train,y_train,V_0_train).item())\n",
    "        \n",
    "        ##Evaluating TestSet error\n",
    "        \n",
    "        test_errors.append(normalized_error_VT(y_hat_test,y_test,V_0).item())\n",
    "    \n",
    "        if (( np.abs(min_error[0] - test_errors[-1]) > epsilon) & (test_errors[-1] < min_error[0])):\n",
    "            min_error = (test_errors[-1], i)\n",
    "            error_going_up = 0\n",
    "            print('For iteration number {}, the test error decreased , test error : {} '.format(i, min_error[0]))\n",
    "        else:\n",
    "            error_going_up += 1\n",
    "            print('For iteration number {}, the test error increased , test error : {} '.format(i, min_error[0]))\n",
    "        \n",
    "            if  (i==(Max_Iter-1)):\n",
    "                models = models[:min_error[1]+1]\n",
    "                \n",
    "                return models, train_errors, test_errors, min_error\n",
    "        \n",
    "            elif (error_going_up == early_stop ):\n",
    "                models = models[: -(early_stop)]\n",
    "                \n",
    "                return models, train_errors, test_errors, min_error\n",
    "                break #early stopping\n",
    "            \n",
    "    return models, train_errors, test_errors, min_error"
   ]
  },
  {
   "cell_type": "code",
   "execution_count": null,
   "metadata": {},
   "outputs": [],
   "source": [
    "models , train_error, test_error, min_error = Stochastic_Gradient_Boosting_0(np.copy(Flattened_X_train), np.copy(y_train), np.copy(Flattened_X_test), np.copy(y_test), Max_Iter, (float(\"inf\"), float(\"inf\")), 5, kernel, Learning_Rate, Epsilon, round(Flattened_X_train.shape[0]*Ratio))\n"
   ]
  },
  {
   "cell_type": "code",
   "execution_count": 137,
   "metadata": {},
   "outputs": [],
   "source": [
    "def Stochastic_Gradient_Boosting_1(X_train, y_train, X_test, y_test, Max_Iter, min_error, early_stop, kernel, learning_rate, epsilon, sample_size):\n",
    "    error_going_up = 0\n",
    "    train_prediction = np.zeros(N_train)\n",
    "    test_prediction = np.zeros(N_test)\n",
    "    previous_y_hat = np.zeros(N_train)\n",
    "    previous_y_test_hat = np.zeros(N_test)\n",
    "    models = []\n",
    "    train_errors = []\n",
    "    test_errors = []\n",
    "    \n",
    "    current_residual = np.full(len(y_train), np.mean(y_train, axis=0)/2)\n",
    "    y_hat_test = np.full(len(y_test), np.mean(y_train, axis=0)/2)\n",
    "\n",
    "   \n",
    "    \n",
    "    for i in range(Max_Iter):\n",
    "        model = GaussianProcessRegressor(kernel)\n",
    "    \n",
    "        indices = np.random.choice(X_train.shape[0],size=sample_size,replace=False)\n",
    "       \n",
    "        model.fit(X_train[indices], y_train[indices] - current_residual[indices])\n",
    "        models.append(model)\n",
    "        \n",
    "        new_train_predictor = model.predict(X_train)\n",
    "        new_test_predictor = model.predict(X_test)\n",
    "        \n",
    "        current_residual += learning_rate * new_train_predictor\n",
    "        \n",
    "        y_hat_train = current_residual \n",
    "        \n",
    "        y_hat_test += learning_rate * new_test_predictor\n",
    "        \n",
    "        #Evaluating TrainSet error\n",
    "        \n",
    "        train_errors.append(normalized_error_VT(y_hat_train,y_train,V_0_train).item())\n",
    "        \n",
    "        ##Evaluating TestSet error\n",
    "        \n",
    "        test_errors.append(normalized_error_VT(y_hat_test,y_test,V_0).item())\n",
    "    \n",
    "        if (( np.abs(min_error[0] - test_errors[-1]) > epsilon) & (test_errors[-1] < min_error[0])):\n",
    "            min_error = (test_errors[-1], i)\n",
    "            error_going_up = 0\n",
    "            print('For iteration number {}, the test error decreased , test error : {} '.format(i, min_error[0]))\n",
    "        else:\n",
    "            error_going_up += 1\n",
    "            print('For iteration number {}, the test error increased , test error : {} '.format(i, min_error[0]))\n",
    "        \n",
    "            if  (i==(Max_Iter-1)):\n",
    "                models = models[:min_error[1]+1]\n",
    "                \n",
    "                return models, train_errors, test_errors, min_error\n",
    "        \n",
    "            elif (error_going_up == early_stop ):\n",
    "                models = models[: -(early_stop)]\n",
    "                \n",
    "                return models, train_errors, test_errors, min_error\n",
    "                break #early stopping\n",
    "            \n",
    "    return models, train_errors, test_errors, min_error"
   ]
  },
  {
   "cell_type": "code",
   "execution_count": 67,
   "metadata": {},
   "outputs": [
    {
     "name": "stdout",
     "output_type": "stream",
     "text": [
      "For iteration number 0, the test error decreased , test error : 1.150257449776988 \n",
      "For iteration number 1, the test error decreased , test error : 0.7361245139921881 \n",
      "For iteration number 2, the test error decreased , test error : 0.49862241006234476 \n",
      "For iteration number 3, the test error decreased , test error : 0.3300694176697158 \n",
      "For iteration number 4, the test error decreased , test error : 0.243573154651004 \n",
      "For iteration number 5, the test error decreased , test error : 0.17610976123226615 \n",
      "For iteration number 6, the test error decreased , test error : 0.14660573624517648 \n",
      "For iteration number 7, the test error decreased , test error : 0.13113406922068677 \n",
      "For iteration number 8, the test error decreased , test error : 0.1259992098827719 \n",
      "For iteration number 9, the test error decreased , test error : 0.12215584817496096 \n",
      "For iteration number 10, the test error decreased , test error : 0.11994972927644622 \n",
      "For iteration number 11, the test error decreased , test error : 0.11948593141928117 \n",
      "For iteration number 12, the test error decreased , test error : 0.11850331272585414 \n",
      "For iteration number 13, the test error decreased , test error : 0.11823691814726828 \n",
      "For iteration number 14, the test error decreased , test error : 0.11781639491508597 \n"
     ]
    },
    {
     "name": "stderr",
     "output_type": "stream",
     "text": [
      "/Users/Clement/anaconda3/lib/python3.7/site-packages/sklearn/gaussian_process/_gpr.py:504: ConvergenceWarning: lbfgs failed to converge (status=2):\n",
      "ABNORMAL_TERMINATION_IN_LNSRCH.\n",
      "\n",
      "Increase the number of iterations (max_iter) or scale the data as shown in:\n",
      "    https://scikit-learn.org/stable/modules/preprocessing.html\n",
      "  _check_optimize_result(\"lbfgs\", opt_res)\n"
     ]
    },
    {
     "name": "stdout",
     "output_type": "stream",
     "text": [
      "For iteration number 15, the test error decreased , test error : 0.11720051036063735 \n",
      "For iteration number 16, the test error increased , test error : 0.11720051036063735 \n",
      "For iteration number 17, the test error increased , test error : 0.11720051036063735 \n",
      "For iteration number 18, the test error increased , test error : 0.11720051036063735 \n",
      "For iteration number 19, the test error increased , test error : 0.11720051036063735 \n",
      "For iteration number 20, the test error increased , test error : 0.11720051036063735 \n"
     ]
    }
   ],
   "source": [
    "models , train_error, test_error, min_error = Stochastic_Gradient_Boosting_1(np.copy(Flattened_X_train), np.copy(y_train), np.copy(Flattened_X_test), np.copy(y_test), Max_Iter, (float(\"inf\"), float(\"inf\")), 5, kernel, Learning_Rate, Epsilon, round(Flattened_X_train.shape[0]*Ratio))\n"
   ]
  },
  {
   "cell_type": "code",
   "execution_count": 138,
   "metadata": {},
   "outputs": [],
   "source": [
    "def Stochastic_Gradient_Boosting(X_train, y_train, X_test, y_test, Max_Iter, min_error, early_stop, kernel, learning_rate, epsilon, sample_size):\n",
    "    error_going_up = 0\n",
    "    train_prediction = np.zeros(N_train)\n",
    "    test_prediction = np.zeros(N_test)\n",
    "    previous_y_hat = np.zeros(N_train)\n",
    "    previous_y_test_hat = np.zeros(N_test)\n",
    "    models = []\n",
    "    train_errors = []\n",
    "    test_errors = []\n",
    "    \n",
    "    current_residual = np.full(len(y_train), np.mean(y_train, axis=0))\n",
    "    y_hat_test = np.full(len(y_test), np.mean(y_train, axis=0))\n",
    "\n",
    "   \n",
    "    \n",
    "    for i in range(Max_Iter):\n",
    "        model = GaussianProcessRegressor(kernel)\n",
    "    \n",
    "        indices = np.random.choice(X_train.shape[0],size=sample_size,replace=False)\n",
    "       \n",
    "        model.fit(X_train[indices], y_train[indices] - current_residual[indices])\n",
    "        models.append(model)\n",
    "        \n",
    "        new_train_predictor = model.predict(X_train)\n",
    "        new_test_predictor = model.predict(X_test)\n",
    "        \n",
    "        current_residual += learning_rate * new_train_predictor\n",
    "        \n",
    "        y_hat_train = current_residual \n",
    "        \n",
    "        y_hat_test += learning_rate * new_test_predictor\n",
    "        \n",
    "        #Evaluating TrainSet error\n",
    "        \n",
    "        train_errors.append(normalized_error_VT(y_hat_train,y_train,V_0_train).item())\n",
    "        \n",
    "        ##Evaluating TestSet error\n",
    "        \n",
    "        test_errors.append(normalized_error_VT(y_hat_test,y_test,V_0).item())\n",
    "    \n",
    "        if (( np.abs(min_error[0] - test_errors[-1]) > epsilon) & (test_errors[-1] < min_error[0])):\n",
    "            min_error = (test_errors[-1], i)\n",
    "            error_going_up = 0\n",
    "            print('For iteration number {}, the test error decreased , test error : {} '.format(i, min_error[0]))\n",
    "        else:\n",
    "            error_going_up += 1\n",
    "            print('For iteration number {}, the test error increased , test error : {} '.format(i, min_error[0]))\n",
    "        \n",
    "            if  (i==(Max_Iter-1)):\n",
    "                models = models[:min_error[1]+1]\n",
    "                \n",
    "                return models, train_errors, test_errors, min_error\n",
    "        \n",
    "            elif (error_going_up == early_stop ):\n",
    "                models = models[: -(early_stop)]\n",
    "                \n",
    "                return models, train_errors, test_errors, min_error\n",
    "                break #early stopping\n",
    "            \n",
    "    return models, train_errors, test_errors, min_error"
   ]
  },
  {
   "cell_type": "code",
   "execution_count": 69,
   "metadata": {},
   "outputs": [
    {
     "name": "stdout",
     "output_type": "stream",
     "text": [
      "For iteration number 0, the test error decreased , test error : 1.0863608459684277 \n",
      "For iteration number 1, the test error decreased , test error : 0.7030964629482062 \n",
      "For iteration number 2, the test error decreased , test error : 0.466504962112176 \n",
      "For iteration number 3, the test error decreased , test error : 0.30914794456653577 \n",
      "For iteration number 4, the test error decreased , test error : 0.21101895931541093 \n",
      "For iteration number 5, the test error decreased , test error : 0.15837949553995956 \n",
      "For iteration number 6, the test error decreased , test error : 0.13150262028616863 \n",
      "For iteration number 7, the test error decreased , test error : 0.11822942126586648 \n",
      "For iteration number 8, the test error decreased , test error : 0.11383853345386152 \n",
      "For iteration number 9, the test error decreased , test error : 0.10994978680849575 \n",
      "For iteration number 10, the test error decreased , test error : 0.10906752737582942 \n",
      "For iteration number 11, the test error decreased , test error : 0.10784752250260274 \n",
      "For iteration number 12, the test error increased , test error : 0.10784752250260274 \n",
      "For iteration number 13, the test error decreased , test error : 0.10689742034620218 \n",
      "For iteration number 14, the test error decreased , test error : 0.1065019425245295 \n",
      "For iteration number 15, the test error decreased , test error : 0.10612887020467304 \n",
      "For iteration number 16, the test error increased , test error : 0.10612887020467304 \n",
      "For iteration number 17, the test error decreased , test error : 0.10591449666122561 \n",
      "For iteration number 18, the test error increased , test error : 0.10591449666122561 \n",
      "For iteration number 19, the test error increased , test error : 0.10591449666122561 \n",
      "For iteration number 20, the test error increased , test error : 0.10591449666122561 \n",
      "For iteration number 21, the test error increased , test error : 0.10591449666122561 \n",
      "For iteration number 22, the test error decreased , test error : 0.10578290371986689 \n",
      "For iteration number 23, the test error decreased , test error : 0.10567032678153908 \n",
      "For iteration number 24, the test error increased , test error : 0.10567032678153908 \n",
      "For iteration number 25, the test error increased , test error : 0.10567032678153908 \n",
      "For iteration number 26, the test error increased , test error : 0.10567032678153908 \n",
      "For iteration number 27, the test error increased , test error : 0.10567032678153908 \n",
      "For iteration number 28, the test error increased , test error : 0.10567032678153908 \n"
     ]
    }
   ],
   "source": [
    "models , train_error, test_error, min_error = Stochastic_Gradient_Boosting(np.copy(Flattened_X_train), np.copy(y_train), np.copy(Flattened_X_test), np.copy(y_test), Max_Iter, (float(\"inf\"), float(\"inf\")), 5, kernel, Learning_Rate, Epsilon, round(Flattened_X_train.shape[0]*Ratio))\n"
   ]
  },
  {
   "cell_type": "code",
   "execution_count": 91,
   "metadata": {},
   "outputs": [],
   "source": [
    "learning_rates = np.linspace(0.1, 0.5 , num=10)"
   ]
  },
  {
   "cell_type": "code",
   "execution_count": 139,
   "metadata": {},
   "outputs": [],
   "source": [
    "def Stoch_Grad_Boosting_per_ratio(ratios, model, X_train, y_train, X_test, y_test, Epsilon, kernel, Max_Iter):\n",
    "    models = dict((val, []) for val in range(len(ratios))) \n",
    "    train_errors = dict((val, []) for val in range(len(ratios))) \n",
    "    test_errors = dict((val, []) for val in range(len(ratios))) \n",
    "    min_errors = dict((val, []) for val in range(len(ratios))) \n",
    "\n",
    "    for i in range(len(ratios)) :\n",
    "        print(f\"Starting evaluation for ratio {ratios[i]}:\")\n",
    "        models[i], train_errors[i], test_errors[i], min_errors[i] = model(X_train, y_train, X_test, y_test, Max_Iter, (float(\"inf\"), float(\"inf\")), 5, kernel, 0.366, Epsilon, round(X_train.shape[0]*ratios[i]))\n",
    "    \n",
    "    return test_errors\n"
   ]
  },
  {
   "cell_type": "code",
   "execution_count": 140,
   "metadata": {},
   "outputs": [
    {
     "name": "stdout",
     "output_type": "stream",
     "text": [
      "For iteration number 0, the test error decreased , test error : 1.0705006436275375 \n",
      "For iteration number 1, the test error decreased , test error : 0.6829284978938677 \n",
      "For iteration number 2, the test error decreased , test error : 0.4303697851329234 \n",
      "For iteration number 3, the test error decreased , test error : 0.2802823705736317 \n",
      "For iteration number 4, the test error decreased , test error : 0.18775210930273736 \n",
      "For iteration number 5, the test error decreased , test error : 0.13350029157559157 \n",
      "For iteration number 6, the test error decreased , test error : 0.10280406179091854 \n",
      "For iteration number 7, the test error decreased , test error : 0.08492917466369097 \n",
      "For iteration number 8, the test error decreased , test error : 0.07815104154252522 \n",
      "For iteration number 9, the test error increased , test error : 0.07815104154252522 \n"
     ]
    },
    {
     "name": "stderr",
     "output_type": "stream",
     "text": [
      "/Users/Clement/anaconda3/lib/python3.7/site-packages/sklearn/gaussian_process/_gpr.py:504: ConvergenceWarning: lbfgs failed to converge (status=2):\n",
      "ABNORMAL_TERMINATION_IN_LNSRCH.\n",
      "\n",
      "Increase the number of iterations (max_iter) or scale the data as shown in:\n",
      "    https://scikit-learn.org/stable/modules/preprocessing.html\n",
      "  _check_optimize_result(\"lbfgs\", opt_res)\n"
     ]
    },
    {
     "name": "stdout",
     "output_type": "stream",
     "text": [
      "For iteration number 10, the test error decreased , test error : 0.07478773910046255 \n",
      "For iteration number 11, the test error increased , test error : 0.07478773910046255 \n",
      "For iteration number 12, the test error decreased , test error : 0.07307396971672943 \n",
      "For iteration number 13, the test error increased , test error : 0.07307396971672943 \n",
      "For iteration number 14, the test error increased , test error : 0.07307396971672943 \n",
      "For iteration number 15, the test error increased , test error : 0.07307396971672943 \n",
      "For iteration number 16, the test error increased , test error : 0.07307396971672943 \n",
      "For iteration number 17, the test error increased , test error : 0.07307396971672943 \n",
      "For iteration number 0, the test error decreased , test error : 1.0471697551630916 \n",
      "For iteration number 1, the test error decreased , test error : 0.6738317363626256 \n",
      "For iteration number 2, the test error decreased , test error : 0.4297566894573718 \n",
      "For iteration number 3, the test error decreased , test error : 0.2780710538347645 \n",
      "For iteration number 4, the test error decreased , test error : 0.18167620990676653 \n",
      "For iteration number 5, the test error decreased , test error : 0.11927795132595381 \n",
      "For iteration number 6, the test error decreased , test error : 0.08561512659351081 \n",
      "For iteration number 7, the test error decreased , test error : 0.06629305523088934 \n",
      "For iteration number 8, the test error decreased , test error : 0.05705775730646518 \n",
      "For iteration number 9, the test error decreased , test error : 0.05307101280378004 \n",
      "For iteration number 10, the test error decreased , test error : 0.04651873820837512 \n",
      "For iteration number 11, the test error decreased , test error : 0.045549116540264833 \n",
      "For iteration number 12, the test error decreased , test error : 0.04501893776353233 \n",
      "For iteration number 13, the test error decreased , test error : 0.04277678404481098 \n",
      "For iteration number 14, the test error decreased , test error : 0.042597794145108836 \n",
      "For iteration number 15, the test error decreased , test error : 0.041010090676477276 \n",
      "For iteration number 16, the test error decreased , test error : 0.04100006625298193 \n",
      "For iteration number 17, the test error increased , test error : 0.04100006625298193 \n",
      "For iteration number 18, the test error increased , test error : 0.04100006625298193 \n",
      "For iteration number 19, the test error increased , test error : 0.04100006625298193 \n",
      "For iteration number 20, the test error decreased , test error : 0.04099878579369802 \n",
      "For iteration number 21, the test error increased , test error : 0.04099878579369802 \n",
      "For iteration number 22, the test error decreased , test error : 0.03954110441770888 \n",
      "For iteration number 23, the test error decreased , test error : 0.03952500562089349 \n",
      "For iteration number 24, the test error increased , test error : 0.03952500562089349 \n",
      "For iteration number 25, the test error increased , test error : 0.03952500562089349 \n",
      "For iteration number 26, the test error increased , test error : 0.03952500562089349 \n",
      "For iteration number 27, the test error increased , test error : 0.03952500562089349 \n",
      "For iteration number 28, the test error increased , test error : 0.03952500562089349 \n",
      "For iteration number 0, the test error decreased , test error : 1.0496042231017217 \n",
      "For iteration number 1, the test error decreased , test error : 0.6837194991131641 \n",
      "For iteration number 2, the test error decreased , test error : 0.4388463955689365 \n",
      "For iteration number 3, the test error decreased , test error : 0.2852539295620077 \n",
      "For iteration number 4, the test error decreased , test error : 0.1964635335133714 \n",
      "For iteration number 5, the test error decreased , test error : 0.13815901469649705 \n",
      "For iteration number 6, the test error decreased , test error : 0.10899514659994226 \n",
      "For iteration number 7, the test error decreased , test error : 0.07755608272476767 \n",
      "For iteration number 8, the test error decreased , test error : 0.06970430522803261 \n",
      "For iteration number 9, the test error decreased , test error : 0.06604880450531736 \n",
      "For iteration number 10, the test error decreased , test error : 0.06406834265311492 \n",
      "For iteration number 11, the test error decreased , test error : 0.06337351177143193 \n",
      "For iteration number 12, the test error decreased , test error : 0.06275940946836531 \n",
      "For iteration number 13, the test error decreased , test error : 0.06253522808348859 \n",
      "For iteration number 14, the test error decreased , test error : 0.05096886270279964 \n",
      "For iteration number 15, the test error decreased , test error : 0.04639257257698699 \n",
      "For iteration number 16, the test error increased , test error : 0.04639257257698699 \n",
      "For iteration number 17, the test error decreased , test error : 0.04634174488663616 \n",
      "For iteration number 18, the test error increased , test error : 0.04634174488663616 \n",
      "For iteration number 19, the test error increased , test error : 0.04634174488663616 \n",
      "For iteration number 20, the test error increased , test error : 0.04634174488663616 \n",
      "For iteration number 21, the test error increased , test error : 0.04634174488663616 \n",
      "For iteration number 22, the test error increased , test error : 0.04634174488663616 \n",
      "For iteration number 0, the test error decreased , test error : 1.0458058306835414 \n",
      "For iteration number 1, the test error decreased , test error : 0.6649970426140842 \n",
      "For iteration number 2, the test error decreased , test error : 0.42954761853009027 \n",
      "For iteration number 3, the test error decreased , test error : 0.2760518853352397 \n",
      "For iteration number 4, the test error decreased , test error : 0.18108154370140894 \n",
      "For iteration number 5, the test error decreased , test error : 0.12364390671099781 \n",
      "For iteration number 6, the test error decreased , test error : 0.08556889106361928 \n",
      "For iteration number 7, the test error decreased , test error : 0.0683101485550757 \n",
      "For iteration number 8, the test error decreased , test error : 0.05753369066965782 \n",
      "For iteration number 9, the test error decreased , test error : 0.05229292433759624 \n",
      "For iteration number 10, the test error decreased , test error : 0.045535367515783284 \n",
      "For iteration number 11, the test error decreased , test error : 0.044614779151455224 \n",
      "For iteration number 12, the test error decreased , test error : 0.044190738234508004 \n",
      "For iteration number 13, the test error decreased , test error : 0.04402628252621286 \n",
      "For iteration number 14, the test error decreased , test error : 0.043947045286921504 \n"
     ]
    },
    {
     "name": "stderr",
     "output_type": "stream",
     "text": [
      "/Users/Clement/anaconda3/lib/python3.7/site-packages/sklearn/gaussian_process/_gpr.py:504: ConvergenceWarning: lbfgs failed to converge (status=2):\n",
      "ABNORMAL_TERMINATION_IN_LNSRCH.\n",
      "\n",
      "Increase the number of iterations (max_iter) or scale the data as shown in:\n",
      "    https://scikit-learn.org/stable/modules/preprocessing.html\n",
      "  _check_optimize_result(\"lbfgs\", opt_res)\n"
     ]
    },
    {
     "name": "stdout",
     "output_type": "stream",
     "text": [
      "For iteration number 15, the test error decreased , test error : 0.04281518702646722 \n",
      "For iteration number 16, the test error decreased , test error : 0.04279116078844154 \n",
      "For iteration number 17, the test error increased , test error : 0.04279116078844154 \n",
      "For iteration number 18, the test error increased , test error : 0.04279116078844154 \n",
      "For iteration number 19, the test error increased , test error : 0.04279116078844154 \n",
      "For iteration number 20, the test error increased , test error : 0.04279116078844154 \n",
      "For iteration number 21, the test error increased , test error : 0.04279116078844154 \n",
      "For iteration number 0, the test error decreased , test error : 1.058558266648464 \n",
      "For iteration number 1, the test error decreased , test error : 0.6785654701349504 \n",
      "For iteration number 2, the test error decreased , test error : 0.43592254916158235 \n",
      "For iteration number 3, the test error decreased , test error : 0.2776512748148316 \n",
      "For iteration number 4, the test error decreased , test error : 0.17800322481615852 \n",
      "For iteration number 5, the test error decreased , test error : 0.12495976005256011 \n",
      "For iteration number 6, the test error decreased , test error : 0.08954649263154524 \n",
      "For iteration number 7, the test error decreased , test error : 0.07182954946659838 \n",
      "For iteration number 8, the test error decreased , test error : 0.05322095580566636 \n",
      "For iteration number 9, the test error decreased , test error : 0.046692500491019605 \n",
      "For iteration number 10, the test error decreased , test error : 0.040823045650049634 \n",
      "For iteration number 11, the test error decreased , test error : 0.03947144718835855 \n",
      "For iteration number 12, the test error decreased , test error : 0.03900109077057537 \n",
      "For iteration number 13, the test error decreased , test error : 0.03874650345386073 \n",
      "For iteration number 14, the test error decreased , test error : 0.038640502344701226 \n",
      "For iteration number 15, the test error increased , test error : 0.038640502344701226 \n",
      "For iteration number 16, the test error increased , test error : 0.038640502344701226 \n",
      "For iteration number 17, the test error increased , test error : 0.038640502344701226 \n",
      "For iteration number 18, the test error increased , test error : 0.038640502344701226 \n",
      "For iteration number 19, the test error increased , test error : 0.038640502344701226 \n",
      "For iteration number 0, the test error decreased , test error : 1.0507116099947735 \n",
      "For iteration number 1, the test error decreased , test error : 0.6707664704998548 \n",
      "For iteration number 2, the test error decreased , test error : 0.4297250076538974 \n",
      "For iteration number 3, the test error decreased , test error : 0.2755937298936699 \n",
      "For iteration number 4, the test error decreased , test error : 0.18151721697099 \n",
      "For iteration number 5, the test error decreased , test error : 0.12357975711966965 \n",
      "For iteration number 6, the test error decreased , test error : 0.08795094889668095 \n",
      "For iteration number 7, the test error decreased , test error : 0.06882782870606474 \n",
      "For iteration number 8, the test error decreased , test error : 0.059163663586550015 \n",
      "For iteration number 9, the test error decreased , test error : 0.05378608035992114 \n",
      "For iteration number 10, the test error decreased , test error : 0.05091479438856302 \n",
      "For iteration number 11, the test error decreased , test error : 0.05004788966030154 \n",
      "For iteration number 12, the test error decreased , test error : 0.04963773281787144 \n",
      "For iteration number 13, the test error decreased , test error : 0.049422160546384736 \n",
      "For iteration number 14, the test error decreased , test error : 0.04928268323915516 \n",
      "For iteration number 15, the test error decreased , test error : 0.04917552232461732 \n",
      "For iteration number 16, the test error increased , test error : 0.04917552232461732 \n",
      "For iteration number 17, the test error decreased , test error : 0.04916066304841827 \n",
      "For iteration number 18, the test error decreased , test error : 0.04906373295456306 \n",
      "For iteration number 19, the test error increased , test error : 0.04906373295456306 \n",
      "For iteration number 20, the test error increased , test error : 0.04906373295456306 \n",
      "For iteration number 21, the test error increased , test error : 0.04906373295456306 \n",
      "For iteration number 22, the test error increased , test error : 0.04906373295456306 \n",
      "For iteration number 23, the test error increased , test error : 0.04906373295456306 \n",
      "For iteration number 0, the test error decreased , test error : 1.2379140850600165 \n",
      "For iteration number 1, the test error decreased , test error : 0.7808279332889628 \n",
      "For iteration number 2, the test error decreased , test error : 0.5038464691607902 \n",
      "For iteration number 3, the test error decreased , test error : 0.3240683576853291 \n",
      "For iteration number 4, the test error decreased , test error : 0.20930891315349562 \n",
      "For iteration number 5, the test error decreased , test error : 0.14296659588852573 \n",
      "For iteration number 6, the test error decreased , test error : 0.09900618916148668 \n",
      "For iteration number 7, the test error decreased , test error : 0.08292781128337114 \n",
      "For iteration number 8, the test error decreased , test error : 0.07123885113852285 \n",
      "For iteration number 9, the test error decreased , test error : 0.06492030329708197 \n",
      "For iteration number 10, the test error decreased , test error : 0.06283838829206763 \n",
      "For iteration number 11, the test error decreased , test error : 0.06189988235351226 \n",
      "For iteration number 12, the test error decreased , test error : 0.0616295682257464 \n",
      "For iteration number 13, the test error increased , test error : 0.0616295682257464 \n",
      "For iteration number 14, the test error increased , test error : 0.0616295682257464 \n",
      "For iteration number 15, the test error increased , test error : 0.0616295682257464 \n",
      "For iteration number 16, the test error increased , test error : 0.0616295682257464 \n",
      "For iteration number 17, the test error increased , test error : 0.0616295682257464 \n",
      "For iteration number 0, the test error decreased , test error : 1.2223587388372659 \n",
      "For iteration number 1, the test error decreased , test error : 0.7876725135063912 \n",
      "For iteration number 2, the test error decreased , test error : 0.49787193396653023 \n",
      "For iteration number 3, the test error decreased , test error : 0.3255682698473516 \n",
      "For iteration number 4, the test error decreased , test error : 0.22169455235579352 \n",
      "For iteration number 5, the test error decreased , test error : 0.14874499530421112 \n",
      "For iteration number 6, the test error decreased , test error : 0.1126251747372002 \n",
      "For iteration number 7, the test error decreased , test error : 0.09368411132254326 \n",
      "For iteration number 8, the test error decreased , test error : 0.07771516523704451 \n",
      "For iteration number 9, the test error decreased , test error : 0.07269002041435668 \n",
      "For iteration number 10, the test error decreased , test error : 0.07047268917043754 \n",
      "For iteration number 11, the test error decreased , test error : 0.06926361564815094 \n",
      "For iteration number 12, the test error decreased , test error : 0.058232249586078165 \n",
      "For iteration number 13, the test error decreased , test error : 0.0567887916340811 \n",
      "For iteration number 14, the test error decreased , test error : 0.052975152752238734 \n",
      "For iteration number 15, the test error increased , test error : 0.052975152752238734 \n",
      "For iteration number 16, the test error increased , test error : 0.052975152752238734 \n",
      "For iteration number 17, the test error increased , test error : 0.052975152752238734 \n",
      "For iteration number 18, the test error increased , test error : 0.052975152752238734 \n",
      "For iteration number 19, the test error decreased , test error : 0.05100967258949401 \n",
      "For iteration number 20, the test error increased , test error : 0.05100967258949401 \n",
      "For iteration number 21, the test error increased , test error : 0.05100967258949401 \n",
      "For iteration number 22, the test error increased , test error : 0.05100967258949401 \n",
      "For iteration number 23, the test error increased , test error : 0.05100967258949401 \n",
      "For iteration number 24, the test error increased , test error : 0.05100967258949401 \n",
      "For iteration number 0, the test error decreased , test error : 1.2240709148786018 \n",
      "For iteration number 1, the test error decreased , test error : 0.7849285543197779 \n"
     ]
    },
    {
     "name": "stdout",
     "output_type": "stream",
     "text": [
      "For iteration number 2, the test error decreased , test error : 0.498292545997715 \n",
      "For iteration number 3, the test error decreased , test error : 0.3186184133845518 \n",
      "For iteration number 4, the test error decreased , test error : 0.21195754728018856 \n",
      "For iteration number 5, the test error decreased , test error : 0.1489890492274761 \n",
      "For iteration number 6, the test error decreased , test error : 0.11195613007543515 \n",
      "For iteration number 7, the test error decreased , test error : 0.08562533458204463 \n",
      "For iteration number 8, the test error decreased , test error : 0.07575968963812832 \n",
      "For iteration number 9, the test error decreased , test error : 0.06830407718263513 \n",
      "For iteration number 10, the test error decreased , test error : 0.05453312799990971 \n",
      "For iteration number 11, the test error decreased , test error : 0.05315171291409924 \n",
      "For iteration number 12, the test error decreased , test error : 0.052604863466261295 \n",
      "For iteration number 13, the test error decreased , test error : 0.052348004202606505 \n",
      "For iteration number 14, the test error decreased , test error : 0.05223359843854921 \n",
      "For iteration number 15, the test error decreased , test error : 0.05220786522881663 \n",
      "For iteration number 16, the test error decreased , test error : 0.048261282552943895 \n",
      "For iteration number 17, the test error decreased , test error : 0.04824492576846708 \n",
      "For iteration number 18, the test error increased , test error : 0.04824492576846708 \n",
      "For iteration number 19, the test error decreased , test error : 0.04824251023485327 \n"
     ]
    },
    {
     "name": "stderr",
     "output_type": "stream",
     "text": [
      "/Users/Clement/anaconda3/lib/python3.7/site-packages/sklearn/gaussian_process/_gpr.py:504: ConvergenceWarning: lbfgs failed to converge (status=2):\n",
      "ABNORMAL_TERMINATION_IN_LNSRCH.\n",
      "\n",
      "Increase the number of iterations (max_iter) or scale the data as shown in:\n",
      "    https://scikit-learn.org/stable/modules/preprocessing.html\n",
      "  _check_optimize_result(\"lbfgs\", opt_res)\n"
     ]
    },
    {
     "name": "stdout",
     "output_type": "stream",
     "text": [
      "For iteration number 20, the test error decreased , test error : 0.04823244636951753 \n",
      "For iteration number 21, the test error increased , test error : 0.04823244636951753 \n",
      "For iteration number 22, the test error decreased , test error : 0.04821239116514916 \n",
      "For iteration number 23, the test error increased , test error : 0.04821239116514916 \n",
      "For iteration number 24, the test error increased , test error : 0.04821239116514916 \n",
      "For iteration number 25, the test error increased , test error : 0.04821239116514916 \n",
      "For iteration number 26, the test error increased , test error : 0.04821239116514916 \n",
      "For iteration number 27, the test error increased , test error : 0.04821239116514916 \n",
      "For iteration number 0, the test error decreased , test error : 1.2229674612005872 \n",
      "For iteration number 1, the test error decreased , test error : 0.7773453393647374 \n",
      "For iteration number 2, the test error decreased , test error : 0.5029650031075998 \n",
      "For iteration number 3, the test error decreased , test error : 0.32498353862624046 \n",
      "For iteration number 4, the test error decreased , test error : 0.21652439176276828 \n",
      "For iteration number 5, the test error decreased , test error : 0.1481834501734062 \n",
      "For iteration number 6, the test error decreased , test error : 0.10856876592994841 \n",
      "For iteration number 7, the test error decreased , test error : 0.08895010783471131 \n",
      "For iteration number 8, the test error decreased , test error : 0.07805493534185787 \n",
      "For iteration number 9, the test error decreased , test error : 0.0728291328711946 \n",
      "For iteration number 10, the test error decreased , test error : 0.06847745465679878 \n",
      "For iteration number 11, the test error decreased , test error : 0.06739470087847715 \n",
      "For iteration number 12, the test error decreased , test error : 0.06685869926040298 \n",
      "For iteration number 13, the test error decreased , test error : 0.06656880713410779 \n",
      "For iteration number 14, the test error decreased , test error : 0.05659047568133906 \n",
      "For iteration number 15, the test error decreased , test error : 0.04879767406229573 \n",
      "For iteration number 16, the test error increased , test error : 0.04879767406229573 \n",
      "For iteration number 17, the test error increased , test error : 0.04879767406229573 \n",
      "For iteration number 18, the test error decreased , test error : 0.048786627943505 \n",
      "For iteration number 19, the test error decreased , test error : 0.04875605631141707 \n",
      "For iteration number 20, the test error decreased , test error : 0.04875474136428783 \n",
      "For iteration number 21, the test error decreased , test error : 0.048750143963291734 \n",
      "For iteration number 22, the test error increased , test error : 0.048750143963291734 \n",
      "For iteration number 23, the test error decreased , test error : 0.04874329931660227 \n",
      "For iteration number 24, the test error decreased , test error : 0.048729923931325324 \n",
      "For iteration number 25, the test error increased , test error : 0.048729923931325324 \n",
      "For iteration number 26, the test error increased , test error : 0.048729923931325324 \n",
      "For iteration number 27, the test error increased , test error : 0.048729923931325324 \n",
      "For iteration number 28, the test error increased , test error : 0.048729923931325324 \n",
      "For iteration number 29, the test error increased , test error : 0.048729923931325324 \n",
      "For iteration number 0, the test error decreased , test error : 1.2322844190574156 \n",
      "For iteration number 1, the test error decreased , test error : 0.7829387229202268 \n",
      "For iteration number 2, the test error decreased , test error : 0.49650955051033396 \n",
      "For iteration number 3, the test error decreased , test error : 0.3176720116425941 \n",
      "For iteration number 4, the test error decreased , test error : 0.20758832832037552 \n",
      "For iteration number 5, the test error decreased , test error : 0.13987489005190476 \n",
      "For iteration number 6, the test error decreased , test error : 0.09534667444065707 \n",
      "For iteration number 7, the test error decreased , test error : 0.06930659756911754 \n",
      "For iteration number 8, the test error decreased , test error : 0.05703554101733982 \n",
      "For iteration number 9, the test error decreased , test error : 0.04920806626568989 \n",
      "For iteration number 10, the test error decreased , test error : 0.046485699325433574 \n",
      "For iteration number 11, the test error decreased , test error : 0.04524378533842506 \n",
      "For iteration number 12, the test error decreased , test error : 0.04465873359385453 \n",
      "For iteration number 13, the test error decreased , test error : 0.044449096817602 \n",
      "For iteration number 14, the test error decreased , test error : 0.044325942787821225 \n",
      "For iteration number 15, the test error decreased , test error : 0.04431215365873134 \n",
      "For iteration number 16, the test error decreased , test error : 0.04430302904086013 \n",
      "For iteration number 17, the test error decreased , test error : 0.04428170249850231 \n",
      "For iteration number 18, the test error decreased , test error : 0.04427072179256826 \n",
      "For iteration number 19, the test error increased , test error : 0.04427072179256826 \n",
      "For iteration number 20, the test error increased , test error : 0.04427072179256826 \n",
      "For iteration number 21, the test error decreased , test error : 0.04426826820168762 \n",
      "For iteration number 22, the test error increased , test error : 0.04426826820168762 \n",
      "For iteration number 23, the test error decreased , test error : 0.044228302714985686 \n",
      "For iteration number 24, the test error increased , test error : 0.044228302714985686 \n",
      "For iteration number 25, the test error increased , test error : 0.044228302714985686 \n",
      "For iteration number 26, the test error increased , test error : 0.044228302714985686 \n",
      "For iteration number 27, the test error increased , test error : 0.044228302714985686 \n",
      "For iteration number 28, the test error increased , test error : 0.044228302714985686 \n",
      "For iteration number 0, the test error decreased , test error : 1.2344885461171051 \n",
      "For iteration number 1, the test error decreased , test error : 0.792357697273435 \n",
      "For iteration number 2, the test error decreased , test error : 0.5215159692119794 \n"
     ]
    },
    {
     "name": "stderr",
     "output_type": "stream",
     "text": [
      "/Users/Clement/anaconda3/lib/python3.7/site-packages/sklearn/gaussian_process/_gpr.py:504: ConvergenceWarning: lbfgs failed to converge (status=2):\n",
      "ABNORMAL_TERMINATION_IN_LNSRCH.\n",
      "\n",
      "Increase the number of iterations (max_iter) or scale the data as shown in:\n",
      "    https://scikit-learn.org/stable/modules/preprocessing.html\n",
      "  _check_optimize_result(\"lbfgs\", opt_res)\n"
     ]
    },
    {
     "name": "stdout",
     "output_type": "stream",
     "text": [
      "For iteration number 3, the test error decreased , test error : 0.34682871832815787 \n",
      "For iteration number 4, the test error decreased , test error : 0.2194823006387087 \n",
      "For iteration number 5, the test error decreased , test error : 0.1411049039139023 \n",
      "For iteration number 6, the test error decreased , test error : 0.09876217927206044 \n",
      "For iteration number 7, the test error decreased , test error : 0.07485700332323635 \n",
      "For iteration number 8, the test error decreased , test error : 0.06074592815954195 \n",
      "For iteration number 9, the test error decreased , test error : 0.054561569359842264 \n",
      "For iteration number 10, the test error decreased , test error : 0.0522180719612379 \n",
      "For iteration number 11, the test error decreased , test error : 0.05091581696134667 \n",
      "For iteration number 12, the test error decreased , test error : 0.043854256413932126 \n",
      "For iteration number 13, the test error decreased , test error : 0.04354655499806795 \n",
      "For iteration number 14, the test error decreased , test error : 0.04258127273802911 \n",
      "For iteration number 15, the test error decreased , test error : 0.042519582180612844 \n",
      "For iteration number 16, the test error decreased , test error : 0.042501162267917954 \n",
      "For iteration number 17, the test error decreased , test error : 0.042472508158037305 \n",
      "For iteration number 18, the test error increased , test error : 0.042472508158037305 \n",
      "For iteration number 19, the test error increased , test error : 0.042472508158037305 \n",
      "For iteration number 20, the test error increased , test error : 0.042472508158037305 \n",
      "For iteration number 21, the test error increased , test error : 0.042472508158037305 \n",
      "For iteration number 22, the test error increased , test error : 0.042472508158037305 \n",
      "For iteration number 0, the test error decreased , test error : 1.1324199092634208 \n",
      "For iteration number 1, the test error decreased , test error : 0.7204651601041244 \n",
      "For iteration number 2, the test error decreased , test error : 0.45368999248453257 \n",
      "For iteration number 3, the test error decreased , test error : 0.2875139190087774 \n",
      "For iteration number 4, the test error decreased , test error : 0.18527828878764047 \n",
      "For iteration number 5, the test error decreased , test error : 0.1261145868536125 \n"
     ]
    },
    {
     "name": "stderr",
     "output_type": "stream",
     "text": [
      "/Users/Clement/anaconda3/lib/python3.7/site-packages/sklearn/gaussian_process/_gpr.py:504: ConvergenceWarning: lbfgs failed to converge (status=2):\n",
      "ABNORMAL_TERMINATION_IN_LNSRCH.\n",
      "\n",
      "Increase the number of iterations (max_iter) or scale the data as shown in:\n",
      "    https://scikit-learn.org/stable/modules/preprocessing.html\n",
      "  _check_optimize_result(\"lbfgs\", opt_res)\n"
     ]
    },
    {
     "name": "stdout",
     "output_type": "stream",
     "text": [
      "For iteration number 6, the test error decreased , test error : 0.08914113940756015 \n",
      "For iteration number 7, the test error decreased , test error : 0.0682903682839035 \n",
      "For iteration number 8, the test error decreased , test error : 0.060722608042966635 \n",
      "For iteration number 9, the test error decreased , test error : 0.05733105343047713 \n",
      "For iteration number 10, the test error decreased , test error : 0.0557104583838725 \n",
      "For iteration number 11, the test error decreased , test error : 0.05559086924093478 \n",
      "For iteration number 12, the test error decreased , test error : 0.05539665346768755 \n",
      "For iteration number 13, the test error decreased , test error : 0.050493794354227836 \n",
      "For iteration number 14, the test error increased , test error : 0.050493794354227836 \n",
      "For iteration number 15, the test error increased , test error : 0.050493794354227836 \n",
      "For iteration number 16, the test error increased , test error : 0.050493794354227836 \n",
      "For iteration number 17, the test error increased , test error : 0.050493794354227836 \n",
      "For iteration number 18, the test error increased , test error : 0.050493794354227836 \n",
      "For iteration number 0, the test error decreased , test error : 1.093629327634012 \n",
      "For iteration number 1, the test error decreased , test error : 0.7045365221198895 \n",
      "For iteration number 2, the test error decreased , test error : 0.44784321325182197 \n",
      "For iteration number 3, the test error decreased , test error : 0.29033668919874606 \n",
      "For iteration number 4, the test error decreased , test error : 0.18646449469279774 \n",
      "For iteration number 5, the test error decreased , test error : 0.1292325988508138 \n",
      "For iteration number 6, the test error decreased , test error : 0.09489326972397963 \n",
      "For iteration number 7, the test error decreased , test error : 0.07045911036851861 \n",
      "For iteration number 8, the test error decreased , test error : 0.06128852585776057 \n",
      "For iteration number 9, the test error decreased , test error : 0.057218662076104626 \n",
      "For iteration number 10, the test error decreased , test error : 0.04950643002912293 \n",
      "For iteration number 11, the test error decreased , test error : 0.048641407179451576 \n",
      "For iteration number 12, the test error decreased , test error : 0.048315308854848846 \n",
      "For iteration number 13, the test error decreased , test error : 0.048152320175410365 \n",
      "For iteration number 14, the test error decreased , test error : 0.048119772660770964 \n",
      "For iteration number 15, the test error decreased , test error : 0.047922787017356076 \n",
      "For iteration number 16, the test error decreased , test error : 0.047742793800744476 \n",
      "For iteration number 17, the test error decreased , test error : 0.04766842364036911 \n",
      "For iteration number 18, the test error increased , test error : 0.04766842364036911 \n",
      "For iteration number 19, the test error increased , test error : 0.04766842364036911 \n",
      "For iteration number 20, the test error decreased , test error : 0.04760550464922825 \n",
      "For iteration number 21, the test error increased , test error : 0.04760550464922825 \n",
      "For iteration number 22, the test error increased , test error : 0.04760550464922825 \n",
      "For iteration number 23, the test error increased , test error : 0.04760550464922825 \n",
      "For iteration number 24, the test error increased , test error : 0.04760550464922825 \n",
      "For iteration number 25, the test error increased , test error : 0.04760550464922825 \n",
      "For iteration number 0, the test error decreased , test error : 1.0971540693053823 \n",
      "For iteration number 1, the test error decreased , test error : 0.6994026177137683 \n",
      "For iteration number 2, the test error decreased , test error : 0.4455985112306612 \n",
      "For iteration number 3, the test error decreased , test error : 0.28340528213170085 \n",
      "For iteration number 4, the test error decreased , test error : 0.18318424036087716 \n",
      "For iteration number 5, the test error decreased , test error : 0.11997638189028635 \n",
      "For iteration number 6, the test error decreased , test error : 0.08286284893668529 \n",
      "For iteration number 7, the test error decreased , test error : 0.059846328618055014 \n",
      "For iteration number 8, the test error decreased , test error : 0.04901892411471181 \n",
      "For iteration number 9, the test error decreased , test error : 0.04397967588119457 \n",
      "For iteration number 10, the test error decreased , test error : 0.0414631320670783 \n",
      "For iteration number 11, the test error decreased , test error : 0.03874833899572748 \n",
      "For iteration number 12, the test error decreased , test error : 0.03838469486395842 \n",
      "For iteration number 13, the test error decreased , test error : 0.03822644923780664 \n",
      "For iteration number 14, the test error decreased , test error : 0.03817167105789181 \n",
      "For iteration number 15, the test error decreased , test error : 0.03815535675758329 \n",
      "For iteration number 16, the test error increased , test error : 0.03815535675758329 \n",
      "For iteration number 17, the test error increased , test error : 0.03815535675758329 \n"
     ]
    },
    {
     "name": "stderr",
     "output_type": "stream",
     "text": [
      "/Users/Clement/anaconda3/lib/python3.7/site-packages/sklearn/gaussian_process/_gpr.py:504: ConvergenceWarning: lbfgs failed to converge (status=2):\n",
      "ABNORMAL_TERMINATION_IN_LNSRCH.\n",
      "\n",
      "Increase the number of iterations (max_iter) or scale the data as shown in:\n",
      "    https://scikit-learn.org/stable/modules/preprocessing.html\n",
      "  _check_optimize_result(\"lbfgs\", opt_res)\n"
     ]
    },
    {
     "name": "stdout",
     "output_type": "stream",
     "text": [
      "For iteration number 18, the test error increased , test error : 0.03815535675758329 \n",
      "For iteration number 19, the test error decreased , test error : 0.03813613725495646 \n",
      "For iteration number 20, the test error increased , test error : 0.03813613725495646 \n",
      "For iteration number 21, the test error increased , test error : 0.03813613725495646 \n",
      "For iteration number 22, the test error increased , test error : 0.03813613725495646 \n",
      "For iteration number 23, the test error increased , test error : 0.03813613725495646 \n"
     ]
    },
    {
     "name": "stderr",
     "output_type": "stream",
     "text": [
      "/Users/Clement/anaconda3/lib/python3.7/site-packages/sklearn/gaussian_process/_gpr.py:504: ConvergenceWarning: lbfgs failed to converge (status=2):\n",
      "ABNORMAL_TERMINATION_IN_LNSRCH.\n",
      "\n",
      "Increase the number of iterations (max_iter) or scale the data as shown in:\n",
      "    https://scikit-learn.org/stable/modules/preprocessing.html\n",
      "  _check_optimize_result(\"lbfgs\", opt_res)\n"
     ]
    },
    {
     "name": "stdout",
     "output_type": "stream",
     "text": [
      "For iteration number 24, the test error increased , test error : 0.03813613725495646 \n",
      "For iteration number 0, the test error decreased , test error : 1.0950359567691426 \n",
      "For iteration number 1, the test error decreased , test error : 0.6957526711333994 \n",
      "For iteration number 2, the test error decreased , test error : 0.44232720709108836 \n",
      "For iteration number 3, the test error decreased , test error : 0.2822995730809668 \n",
      "For iteration number 4, the test error decreased , test error : 0.18107331677218338 \n",
      "For iteration number 5, the test error decreased , test error : 0.11809089287388665 \n",
      "For iteration number 6, the test error decreased , test error : 0.08150709889990719 \n",
      "For iteration number 7, the test error decreased , test error : 0.06319059686883141 \n",
      "For iteration number 8, the test error decreased , test error : 0.05260063531257257 \n",
      "For iteration number 9, the test error decreased , test error : 0.047663725759648244 \n",
      "For iteration number 10, the test error decreased , test error : 0.045802815347205324 \n",
      "For iteration number 11, the test error decreased , test error : 0.0448746525373381 \n",
      "For iteration number 12, the test error decreased , test error : 0.044079466236884635 \n",
      "For iteration number 13, the test error decreased , test error : 0.0439226711991983 \n",
      "For iteration number 14, the test error increased , test error : 0.0439226711991983 \n",
      "For iteration number 15, the test error decreased , test error : 0.043903153428856444 \n",
      "For iteration number 16, the test error decreased , test error : 0.04389416695833474 \n",
      "For iteration number 17, the test error increased , test error : 0.04389416695833474 \n",
      "For iteration number 18, the test error increased , test error : 0.04389416695833474 \n",
      "For iteration number 19, the test error increased , test error : 0.04389416695833474 \n",
      "For iteration number 20, the test error increased , test error : 0.04389416695833474 \n",
      "For iteration number 21, the test error decreased , test error : 0.043871604162844 \n",
      "For iteration number 22, the test error increased , test error : 0.043871604162844 \n",
      "For iteration number 23, the test error decreased , test error : 0.04385821530712791 \n",
      "For iteration number 24, the test error increased , test error : 0.04385821530712791 \n",
      "For iteration number 25, the test error increased , test error : 0.04385821530712791 \n",
      "For iteration number 26, the test error increased , test error : 0.04385821530712791 \n",
      "For iteration number 27, the test error increased , test error : 0.04385821530712791 \n",
      "For iteration number 28, the test error increased , test error : 0.04385821530712791 \n",
      "For iteration number 0, the test error decreased , test error : 1.0901474928490256 \n",
      "For iteration number 1, the test error decreased , test error : 0.6923688404351017 \n",
      "For iteration number 2, the test error decreased , test error : 0.4472110147484227 \n",
      "For iteration number 3, the test error decreased , test error : 0.2848769428732944 \n"
     ]
    },
    {
     "name": "stderr",
     "output_type": "stream",
     "text": [
      "/Users/Clement/anaconda3/lib/python3.7/site-packages/sklearn/gaussian_process/_gpr.py:504: ConvergenceWarning: lbfgs failed to converge (status=2):\n",
      "ABNORMAL_TERMINATION_IN_LNSRCH.\n",
      "\n",
      "Increase the number of iterations (max_iter) or scale the data as shown in:\n",
      "    https://scikit-learn.org/stable/modules/preprocessing.html\n",
      "  _check_optimize_result(\"lbfgs\", opt_res)\n"
     ]
    },
    {
     "name": "stdout",
     "output_type": "stream",
     "text": [
      "For iteration number 4, the test error decreased , test error : 0.18363508424896788 \n",
      "For iteration number 5, the test error decreased , test error : 0.12294870041576698 \n",
      "For iteration number 6, the test error decreased , test error : 0.10012024092330045 \n",
      "For iteration number 7, the test error decreased , test error : 0.08521391908720947 \n",
      "For iteration number 8, the test error decreased , test error : 0.07736004813859025 \n",
      "For iteration number 9, the test error decreased , test error : 0.07385756295080739 \n",
      "For iteration number 10, the test error decreased , test error : 0.06048503748083029 \n",
      "For iteration number 11, the test error decreased , test error : 0.05965870166264887 \n"
     ]
    },
    {
     "name": "stderr",
     "output_type": "stream",
     "text": [
      "/Users/Clement/anaconda3/lib/python3.7/site-packages/sklearn/gaussian_process/_gpr.py:504: ConvergenceWarning: lbfgs failed to converge (status=2):\n",
      "ABNORMAL_TERMINATION_IN_LNSRCH.\n",
      "\n",
      "Increase the number of iterations (max_iter) or scale the data as shown in:\n",
      "    https://scikit-learn.org/stable/modules/preprocessing.html\n",
      "  _check_optimize_result(\"lbfgs\", opt_res)\n"
     ]
    },
    {
     "name": "stdout",
     "output_type": "stream",
     "text": [
      "For iteration number 12, the test error decreased , test error : 0.05489490414139441 \n",
      "For iteration number 13, the test error decreased , test error : 0.05470231422582381 \n",
      "For iteration number 14, the test error decreased , test error : 0.05465863794953694 \n",
      "For iteration number 15, the test error increased , test error : 0.05465863794953694 \n",
      "For iteration number 16, the test error increased , test error : 0.05465863794953694 \n",
      "For iteration number 17, the test error increased , test error : 0.05465863794953694 \n",
      "For iteration number 18, the test error increased , test error : 0.05465863794953694 \n",
      "For iteration number 19, the test error increased , test error : 0.05465863794953694 \n",
      "For iteration number 0, the test error decreased , test error : 1.0963557889327666 \n",
      "For iteration number 1, the test error decreased , test error : 0.7081647719997263 \n",
      "For iteration number 2, the test error decreased , test error : 0.4682435804395869 \n",
      "For iteration number 3, the test error decreased , test error : 0.2982512005446598 \n",
      "For iteration number 4, the test error decreased , test error : 0.190244813356618 \n",
      "For iteration number 5, the test error decreased , test error : 0.1291183449117199 \n",
      "For iteration number 6, the test error decreased , test error : 0.09093320004025902 \n",
      "For iteration number 7, the test error decreased , test error : 0.07056418398108048 \n",
      "For iteration number 8, the test error decreased , test error : 0.060145181585104 \n",
      "For iteration number 9, the test error decreased , test error : 0.0462167858077744 \n",
      "For iteration number 10, the test error decreased , test error : 0.042025797521212944 \n",
      "For iteration number 11, the test error decreased , test error : 0.040896950321722345 \n",
      "For iteration number 12, the test error decreased , test error : 0.03954609628124638 \n",
      "For iteration number 13, the test error decreased , test error : 0.0369300890278723 \n",
      "For iteration number 14, the test error decreased , test error : 0.03677512305259829 \n",
      "For iteration number 15, the test error decreased , test error : 0.036724979077370996 \n",
      "For iteration number 16, the test error decreased , test error : 0.03671456982835228 \n",
      "For iteration number 17, the test error decreased , test error : 0.03669983072079907 \n",
      "For iteration number 18, the test error increased , test error : 0.03669983072079907 \n",
      "For iteration number 19, the test error increased , test error : 0.03669983072079907 \n",
      "For iteration number 20, the test error increased , test error : 0.03669983072079907 \n",
      "For iteration number 21, the test error increased , test error : 0.03669983072079907 \n",
      "For iteration number 22, the test error increased , test error : 0.03669983072079907 \n"
     ]
    }
   ],
   "source": [
    "test_errors = Stoch_Grad_Boosting_per_ratio(ratios, Stochastic_Gradient_Boosting, np.copy(Flattened_X_train), np.copy(y_train), np.copy(Flattened_X_test), np.copy(y_test), Epsilon, kernel, Max_Iter)\n",
    "test_errors_0 = Stoch_Grad_Boosting_per_ratio(ratios, Stochastic_Gradient_Boosting_0, np.copy(Flattened_X_train), np.copy(y_train), np.copy(Flattened_X_test), np.copy(y_test), Epsilon, kernel, Max_Iter)\n",
    "test_errors_1 = Stoch_Grad_Boosting_per_ratio(ratios, Stochastic_Gradient_Boosting_1, np.copy(Flattened_X_train), np.copy(y_train), np.copy(Flattened_X_test), np.copy(y_test), Epsilon, kernel, Max_Iter)\n"
   ]
  },
  {
   "cell_type": "code",
   "execution_count": 162,
   "metadata": {},
   "outputs": [
    {
     "data": {
      "image/png": "[encoded data removed]",
      "text/plain": [
       "<Figure size 1296x432 with 1 Axes>"
      ]
     },
     "metadata": {
      "needs_background": "light"
     },
     "output_type": "display_data"
    },
    {
     "data": {
      "image/png": "[encoded data removed]",
      "text/plain": [
       "<Figure size 1296x432 with 1 Axes>"
      ]
     },
     "metadata": {
      "needs_background": "light"
     },
     "output_type": "display_data"
    },
    {
     "data": {
      "image/png": "[encoded data removed]",
      "text/plain": [
       "<Figure size 1296x432 with 1 Axes>"
      ]
     },
     "metadata": {
      "needs_background": "light"
     },
     "output_type": "display_data"
    }
   ],
   "source": [
    "plot_errors(test_errors,ratios, N_train, d, N_test, Learning_Rate, Max_Iter, 'mean') \n",
    "plot_errors(test_errors_0,ratios, N_train, d, N_test, Learning_Rate, Max_Iter, '0') \n",
    "plot_errors(test_errors_1,ratios, N_train, d, N_test, Learning_Rate, Max_Iter, 'mean/2') "
   ]
  },
  {
   "cell_type": "code",
   "execution_count": 166,
   "metadata": {},
   "outputs": [],
   "source": [
    "import pickle\n",
    "PICKLE = False \n",
    "if PICKLE:\n",
    "    test_errors = pickle.load(open(\"mean_initalisation.p\", \"rb\"))\n",
    "    test_errors_0 = pickle.load(open(\"0_initalisation.p\", \"rb\"))\n",
    "    test_errors_1 = pickle.load(open(\"half_mean_initalisation.p\", \"rb\"))"
   ]
  },
  {
   "cell_type": "code",
   "execution_count": 167,
   "metadata": {},
   "outputs": [
    {
     "data": {
      "text/plain": [
       "True"
      ]
     },
     "execution_count": 167,
     "metadata": {},
     "output_type": "execute_result"
    }
   ],
   "source": [
    "a==test_errors"
   ]
  },
  {
   "cell_type": "code",
   "execution_count": 81,
   "metadata": {},
   "outputs": [],
   "source": [
    "Stochastic_Boost_error = min_error[0]"
   ]
  },
  {
   "cell_type": "code",
   "execution_count": 83,
   "metadata": {},
   "outputs": [
    {
     "data": {
      "text/plain": [
       "0.10481287592934688"
      ]
     },
     "execution_count": 83,
     "metadata": {},
     "output_type": "execute_result"
    }
   ],
   "source": [
    "test_reference_error-Stochastic_Boost_error"
   ]
  },
  {
   "cell_type": "code",
   "execution_count": 90,
   "metadata": {},
   "outputs": [],
   "source": [
    "def log_plot_errors(test_errors, ratios, N_train, d, N_test, Learning_Rate, Max_Iter):\n",
    "    for i in range(len(test_errors)):\n",
    "        while len(test_errors[i]) != Max_Iter :\n",
    "            test_errors[i].append(test_errors[i][-1])\n",
    "    plt.figure(figsize=((18, 6)))\n",
    "    for i in range(len(ratios)) :\n",
    "        #plt.axvline(min_errors[i][1], ls='-', color = 'k', label = 'Test Minimal Error for rate : {rate}')\n",
    "        plt.plot(np.arange(len(test_errors[i][4:61])) , np.log(test_errors[i][4:61]), label = f'learning rate :{ratios[i]}')\n",
    "    plt.axhline(np.log(test_reference_error), ls=':', color = 'orange', label = 'Test Reference Error')\n",
    "    plt.xlabel(\"Number of Iterations\")\n",
    "    plt.title(f\"Stochastic Gradient Boosting: N_train = {N_train}, d= {d}, N_test= {N_test}, learning_rate : {Learning_Rate}, with different Learning Rates\")\n",
    "    plt.ylabel(\"Log Normalized Error\")\n",
    "    plt.legend(loc='upper right')\n",
    "    plt.show()"
   ]
  },
  {
   "cell_type": "code",
   "execution_count": 161,
   "metadata": {},
   "outputs": [],
   "source": [
    "def plot_errors(test_errors, ratios, N_train, d, N_test, Learning_Rate, Max_Iter, init):\n",
    "    for i in range(len(test_errors)):\n",
    "        while len(test_errors[i]) != Max_Iter :\n",
    "            test_errors[i].append(test_errors[i][-1])\n",
    "    plt.figure(figsize=((18, 6)))\n",
    "    for i in range(len(ratios)) :\n",
    "        #plt.axvline(min_errors[i][1], ls='-', color = 'k', label = 'Test Minimal Error for rate : {rate}')\n",
    "        plt.plot(np.arange(7,26) , test_errors[i][7:26], label = f'alpha :{ratios[i]}')\n",
    "    plt.axhline(test_reference_error, ls=':', color = 'orange', label = 'Test Reference Error')\n",
    "    plt.xlabel(\"Number of Iterations\")\n",
    "    plt.title(f\"Stochastic Gradient Boosting with {init} initialisation: N_train = {N_train}, d= {d}, N_test= {N_test}, learning_rate : {Learning_Rate}, with different Learning Rates\")\n",
    "    plt.ylabel(\"Normalized Error\")\n",
    "    plt.legend(loc='upper right')\n",
    "    plt.show()"
   ]
  },
  {
   "cell_type": "code",
   "execution_count": null,
   "metadata": {},
   "outputs": [],
   "source": []
  }
 ],
 "metadata": {
  "kernelspec": {
   "display_name": "Python 3",
   "language": "python",
   "name": "python3"
  },
  "language_info": {
   "codemirror_mode": {
    "name": "ipython",
    "version": 3
   },
   "file_extension": ".py",
   "mimetype": "text/x-python",
   "name": "python",
   "nbconvert_exporter": "python",
   "pygments_lexer": "ipython3",
   "version": "3.7.9"
  },
  "toc": {
   "base_numbering": 1,
   "nav_menu": {},
   "number_sections": true,
   "sideBar": true,
   "skip_h1_title": false,
   "title_cell": "Table of Contents",
   "title_sidebar": "Contents",
   "toc_cell": false,
   "toc_position": {},
   "toc_section_display": true,
   "toc_window_display": false
  }
 },
 "nbformat": 4,
 "nbformat_minor": 2
}
