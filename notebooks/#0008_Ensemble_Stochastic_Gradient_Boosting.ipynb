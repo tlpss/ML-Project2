{
 "cells": [
  {
   "cell_type": "markdown",
   "metadata": {},
   "source": [
    "# Ensemble Learning through Batch Boosting\n"
   ]
  },
  {
   "cell_type": "code",
   "execution_count": 87,
   "metadata": {
    "ExecuteTime": {
     "end_time": "2020-11-20T15:52:17.865319Z",
     "start_time": "2020-11-20T15:52:17.067135Z"
    }
   },
   "outputs": [],
   "source": [
    "import numpy as np\n",
    "import random\n",
    "import matplotlib.pyplot as plt\n",
    "from sklearn.gaussian_process import GaussianProcessRegressor\n",
    "from sklearn.gaussian_process.kernels import RBF, WhiteKernel\n",
    "\n",
    "# add project root folder to path to allow import local modules\n",
    "import os\n",
    "import sys\n",
    "module_path = os.path.abspath(os.path.join('..'))\n",
    "if module_path not in sys.path:\n",
    "    sys.path.append(module_path)\n",
    "# import local modules\n",
    "from stochastic_models import *\n",
    "from visualisations import *"
   ]
  },
  {
   "cell_type": "markdown",
   "metadata": {
    "ExecuteTime": {
     "end_time": "2020-11-14T11:40:28.368547Z",
     "start_time": "2020-11-14T11:40:28.365554Z"
    }
   },
   "source": [
    "## Parameter Configuration"
   ]
  },
  {
   "cell_type": "code",
   "execution_count": 88,
   "metadata": {
    "ExecuteTime": {
     "end_time": "2020-11-20T15:52:17.870290Z",
     "start_time": "2020-11-20T15:52:17.866297Z"
    }
   },
   "outputs": [],
   "source": [
    "np.random.seed(2020)"
   ]
  },
  {
   "cell_type": "code",
   "execution_count": 89,
   "metadata": {
    "ExecuteTime": {
     "end_time": "2020-11-20T15:52:17.874277Z",
     "start_time": "2020-11-20T15:52:17.871251Z"
    }
   },
   "outputs": [],
   "source": [
    "N_train = 5000\n",
    "N_test = 50000\n",
    "Epsilon  = 1e-6\n",
    "Max_Iter = 50\n",
    "Learning_Rate = 0.366\n",
    "Ratio = 0.4\n",
    "ratios = [0.15, 0.2, 0.25, 0.35, 0.4, 0.5]\n",
    "d = 1\n",
    "T = 2"
   ]
  },
  {
   "cell_type": "code",
   "execution_count": 90,
   "metadata": {
    "ExecuteTime": {
     "end_time": "2020-11-20T15:52:17.880254Z",
     "start_time": "2020-11-20T15:52:17.875244Z"
    }
   },
   "outputs": [],
   "source": [
    "lambda_range = (N_train*1e-9 , N_train*1e-3)\n",
    "alpha_range = (8.3*1e-5, 0.83)\n",
    "length_scale = np.sort(1/np.sqrt((2*alpha_range[0], 2*alpha_range[1])))"
   ]
  },
  {
   "cell_type": "markdown",
   "metadata": {
    "ExecuteTime": {
     "end_time": "2020-11-14T11:40:29.811046Z",
     "start_time": "2020-11-14T11:40:29.808054Z"
    }
   },
   "source": [
    "## Create Kernel & prepare datasets"
   ]
  },
  {
   "cell_type": "code",
   "execution_count": 91,
   "metadata": {
    "ExecuteTime": {
     "end_time": "2020-11-20T15:52:17.886212Z",
     "start_time": "2020-11-20T15:52:17.881226Z"
    }
   },
   "outputs": [],
   "source": [
    "#kernel\n",
    "kernel = RBF(length_scale= (length_scale[0] + length_scale[1])/2, length_scale_bounds=length_scale) \\\n",
    "        + WhiteKernel(noise_level= (lambda_range[0] + lambda_range[1])/2 , noise_level_bounds=lambda_range)\n"
   ]
  },
  {
   "cell_type": "code",
   "execution_count": 92,
   "metadata": {
    "ExecuteTime": {
     "end_time": "2020-11-20T15:52:17.897244Z",
     "start_time": "2020-11-20T15:52:17.887236Z"
    }
   },
   "outputs": [],
   "source": [
    "#generate drivers\n",
    "s_train = MaxCallStochasticModel(N_train,d,[1/12,11/12])\n",
    "s_train.generate_samples()\n",
    "s_test = MaxCallStochasticModel(N_test, d, [1/12,11/12])\n",
    "s_test.generate_samples()"
   ]
  },
  {
   "cell_type": "code",
   "execution_count": 93,
   "metadata": {},
   "outputs": [
    {
     "data": {
      "text/plain": [
       "0.07935344411249907"
      ]
     },
     "execution_count": 93,
     "metadata": {},
     "output_type": "execute_result"
    }
   ],
   "source": [
    "y_train = s_train.y\n",
    "X_train = s_train.X\n",
    "S_train = s_train.S\n",
    "\n",
    "y_test = s_test.y\n",
    "X_test = s_test.X\n",
    "S_test = s_test.S\n",
    "\n",
    "V_T = s_test.generate_true_V(T)\n",
    "V_0 = s_test.generate_true_V(0)\n",
    "\n",
    "V_T_train = s_train.generate_true_V(T)\n",
    "V_0_train = s_train.generate_true_V(0)\n",
    "\n",
    "V_0_train = V_0_train.mean()\n",
    "V_0= V_0.mean()\n",
    "V_0 # Average expected PROFIT!"
   ]
  },
  {
   "cell_type": "code",
   "execution_count": 94,
   "metadata": {
    "ExecuteTime": {
     "end_time": "2020-11-20T15:52:17.911172Z",
     "start_time": "2020-11-20T15:52:17.907158Z"
    }
   },
   "outputs": [],
   "source": [
    "from aggregating.utils import flatten_X, normalized_error_VT\n",
    "#dim(N_test,d*T)\n",
    "Flattened_X_test = flatten_X(X_test)\n",
    "# dim(N_train, d*T)\n",
    "Flattened_X_train = flatten_X(X_train)"
   ]
  },
  {
   "cell_type": "code",
   "execution_count": 95,
   "metadata": {},
   "outputs": [
    {
     "data": {
      "text/plain": [
       "GaussianProcessRegressor(kernel=RBF(length_scale=39.2) + WhiteKernel(noise_level=2.5))"
      ]
     },
     "execution_count": 95,
     "metadata": {},
     "output_type": "execute_result"
    }
   ],
   "source": [
    "#Model with Flatten_X_1\n",
    "m_1 = GaussianProcessRegressor(kernel)\n",
    "m_1.fit(Flattened_X_train,y_train)"
   ]
  },
  {
   "cell_type": "code",
   "execution_count": 96,
   "metadata": {},
   "outputs": [],
   "source": [
    "fX_1 = m_1.predict(Flattened_X_test)"
   ]
  },
  {
   "cell_type": "code",
   "execution_count": 97,
   "metadata": {},
   "outputs": [],
   "source": [
    "fX_2 = m_1.predict(Flattened_X_train)"
   ]
  },
  {
   "cell_type": "code",
   "execution_count": 98,
   "metadata": {},
   "outputs": [],
   "source": [
    "test_reference_error = normalized_error_VT(fX_1 ,V_T, V_0)"
   ]
  },
  {
   "cell_type": "code",
   "execution_count": 99,
   "metadata": {},
   "outputs": [],
   "source": [
    "train_reference_error = normalized_error_VT(fX_2 ,V_T_train, V_0_train)"
   ]
  },
  {
   "cell_type": "code",
   "execution_count": 100,
   "metadata": {},
   "outputs": [
    {
     "data": {
      "text/plain": [
       "0.020513219063138088"
      ]
     },
     "execution_count": 100,
     "metadata": {},
     "output_type": "execute_result"
    }
   ],
   "source": [
    "train_reference_error"
   ]
  },
  {
   "cell_type": "code",
   "execution_count": 101,
   "metadata": {},
   "outputs": [
    {
     "data": {
      "text/plain": [
       "0.13165511169540253"
      ]
     },
     "execution_count": 101,
     "metadata": {},
     "output_type": "execute_result"
    }
   ],
   "source": [
    "test_reference_error "
   ]
  },
  {
   "cell_type": "markdown",
   "metadata": {},
   "source": [
    "## Stochastic Gradient Boosting"
   ]
  },
  {
   "cell_type": "code",
   "execution_count": 122,
   "metadata": {},
   "outputs": [],
   "source": [
    "def Stochastic_Gradient_Boosting(X_train, y_train, X_test, y_test, Max_Iter, min_error, early_stop, kernel, learning_rate, epsilon, sample_size, init):\n",
    "    np.random.seed(2020)\n",
    "    error_going_up = 0\n",
    "    train_prediction = np.zeros(N_train)\n",
    "    test_prediction = np.zeros(N_test)\n",
    "    previous_y_hat = np.zeros(N_train)\n",
    "    previous_y_test_hat = np.zeros(N_test)\n",
    "    models = []\n",
    "    train_errors = []\n",
    "    test_errors = []\n",
    "    \n",
    "    current_residual = np.full(len(y_train),init)\n",
    "    y_hat_test = np.full(len(y_test),init)\n",
    "\n",
    "   \n",
    "    \n",
    "    for i in range(Max_Iter):\n",
    "        model = GaussianProcessRegressor(kernel)\n",
    "    \n",
    "        indices = np.random.choice(X_train.shape[0],size=sample_size,replace=False)\n",
    "       \n",
    "        model.fit(X_train[indices], y_train[indices] - current_residual[indices])\n",
    "        models.append(model)\n",
    "        \n",
    "        new_train_predictor = model.predict(X_train)\n",
    "        new_test_predictor = model.predict(X_test)\n",
    "        \n",
    "        current_residual += learning_rate * new_train_predictor\n",
    "        \n",
    "        y_hat_train = current_residual \n",
    "        \n",
    "        y_hat_test += learning_rate * new_test_predictor\n",
    "        \n",
    "        #Evaluating TrainSet error\n",
    "        \n",
    "        train_errors.append(normalized_error_VT(y_hat_train,y_train,V_0_train).item())\n",
    "        \n",
    "        ##Evaluating TestSet error\n",
    "        \n",
    "        test_errors.append(normalized_error_VT(y_hat_test,y_test,V_0).item())\n",
    "    \n",
    "        if (( np.abs(min_error[0] - test_errors[-1]) > epsilon) & (test_errors[-1] < min_error[0])):\n",
    "            min_error = (test_errors[-1], i)\n",
    "            error_going_up = 0\n",
    "            print('For iteration number {}, the test error decreased , test error : {} '.format(i, min_error[0]))\n",
    "        else:\n",
    "            error_going_up += 1\n",
    "            print('For iteration number {}, the test error increased , test error : {} '.format(i, min_error[0]))\n",
    "        \n",
    "            if  (i==(Max_Iter-1)):\n",
    "                models = models[:min_error[1]+1]\n",
    "                \n",
    "                return models, train_errors, test_errors, min_error\n",
    "        \n",
    "            elif (error_going_up == early_stop ):\n",
    "                models = models[: -(early_stop)]\n",
    "                \n",
    "                return models, train_errors, test_errors, min_error\n",
    "                break #early stopping\n",
    "            \n",
    "    return models, train_errors, test_errors, min_error"
   ]
  },
  {
   "cell_type": "code",
   "execution_count": 123,
   "metadata": {},
   "outputs": [],
   "source": [
    "def Stoch_Grad_Boosting_per_ratio(ratios, model, X_train, y_train, X_test, y_test, Epsilon, kernel, Max_Iter, init):\n",
    "    models = dict((val, []) for val in range(len(ratios))) \n",
    "    train_errors = dict((val, []) for val in range(len(ratios))) \n",
    "    test_errors = dict((val, []) for val in range(len(ratios))) \n",
    "    min_errors = dict((val, []) for val in range(len(ratios))) \n",
    "\n",
    "    for i in range(len(ratios)) :\n",
    "        print(f\"Starting evaluation for ratio {ratios[i]}:\")\n",
    "        models[i], train_errors[i], test_errors[i], min_errors[i] = model(X_train, y_train, X_test, y_test, Max_Iter, (float(\"inf\"), float(\"inf\")), 5, kernel, 0.366, Epsilon, round(X_train.shape[0]*ratios[i]), init)\n",
    "    \n",
    "    return test_errors\n"
   ]
  },
  {
   "cell_type": "code",
   "execution_count": 124,
   "metadata": {},
   "outputs": [],
   "source": [
    "test_reference_error = 0.04973099137089055"
   ]
  },
  {
   "cell_type": "code",
   "execution_count": null,
   "metadata": {},
   "outputs": [
    {
     "name": "stdout",
     "output_type": "stream",
     "text": [
      "Starting evaluation for ratio 0.15:\n",
      "For iteration number 0, the test error decreased , test error : 1.051834041421147 \n",
      "For iteration number 1, the test error decreased , test error : 0.6766337512718569 \n",
      "For iteration number 2, the test error decreased , test error : 0.4410143410379095 \n",
      "For iteration number 3, the test error decreased , test error : 0.29210934915803577 \n",
      "For iteration number 4, the test error decreased , test error : 0.1982839332202317 \n",
      "For iteration number 5, the test error decreased , test error : 0.14370820604078463 \n",
      "For iteration number 6, the test error decreased , test error : 0.10277889444997268 \n",
      "For iteration number 7, the test error decreased , test error : 0.0869429738408516 \n",
      "For iteration number 8, the test error decreased , test error : 0.06754337293664624 \n",
      "For iteration number 9, the test error decreased , test error : 0.06406612755801742 \n",
      "For iteration number 10, the test error decreased , test error : 0.062298938945518585 \n",
      "For iteration number 11, the test error decreased , test error : 0.06158039021989052 \n",
      "For iteration number 12, the test error decreased , test error : 0.06099767752632046 \n",
      "For iteration number 13, the test error decreased , test error : 0.05424842975161594 \n",
      "For iteration number 14, the test error decreased , test error : 0.052668668459218235 \n",
      "For iteration number 15, the test error decreased , test error : 0.0526081044825793 \n",
      "For iteration number 16, the test error increased , test error : 0.0526081044825793 \n",
      "For iteration number 17, the test error increased , test error : 0.0526081044825793 \n",
      "For iteration number 18, the test error increased , test error : 0.0526081044825793 \n",
      "For iteration number 19, the test error decreased , test error : 0.0513240573242154 \n",
      "For iteration number 20, the test error increased , test error : 0.0513240573242154 \n",
      "For iteration number 21, the test error increased , test error : 0.0513240573242154 \n",
      "For iteration number 22, the test error increased , test error : 0.0513240573242154 \n",
      "For iteration number 23, the test error increased , test error : 0.0513240573242154 \n",
      "For iteration number 24, the test error increased , test error : 0.0513240573242154 \n",
      "Starting evaluation for ratio 0.2:\n",
      "For iteration number 0, the test error decreased , test error : 1.0505090953165424 \n",
      "For iteration number 1, the test error decreased , test error : 0.6743685168352371 \n",
      "For iteration number 2, the test error decreased , test error : 0.42550304831045477 \n",
      "For iteration number 3, the test error decreased , test error : 0.27834710927647455 \n",
      "For iteration number 4, the test error decreased , test error : 0.1834723931719394 \n",
      "For iteration number 5, the test error decreased , test error : 0.12890254542556379 \n",
      "For iteration number 6, the test error decreased , test error : 0.09594148588704893 \n",
      "For iteration number 7, the test error decreased , test error : 0.07938740011186803 \n"
     ]
    },
    {
     "name": "stderr",
     "output_type": "stream",
     "text": [
      "/Users/Clement/anaconda3/lib/python3.7/site-packages/sklearn/gaussian_process/_gpr.py:504: ConvergenceWarning: lbfgs failed to converge (status=2):\n",
      "ABNORMAL_TERMINATION_IN_LNSRCH.\n",
      "\n",
      "Increase the number of iterations (max_iter) or scale the data as shown in:\n",
      "    https://scikit-learn.org/stable/modules/preprocessing.html\n",
      "  _check_optimize_result(\"lbfgs\", opt_res)\n"
     ]
    },
    {
     "name": "stdout",
     "output_type": "stream",
     "text": [
      "For iteration number 8, the test error decreased , test error : 0.07116879649257232 \n",
      "For iteration number 9, the test error decreased , test error : 0.06772443029836256 \n",
      "For iteration number 10, the test error decreased , test error : 0.0663907361401279 \n",
      "For iteration number 11, the test error decreased , test error : 0.06570823600496442 \n",
      "For iteration number 12, the test error decreased , test error : 0.06530632594664988 \n",
      "For iteration number 13, the test error decreased , test error : 0.06522307899337136 \n",
      "For iteration number 14, the test error decreased , test error : 0.0650646572479231 \n",
      "For iteration number 15, the test error decreased , test error : 0.06492816335186208 \n",
      "For iteration number 16, the test error decreased , test error : 0.0648566589768507 \n",
      "For iteration number 17, the test error increased , test error : 0.0648566589768507 \n",
      "For iteration number 18, the test error decreased , test error : 0.06478654208514528 \n",
      "For iteration number 19, the test error increased , test error : 0.06478654208514528 \n",
      "For iteration number 20, the test error decreased , test error : 0.06478538782674377 \n",
      "For iteration number 21, the test error increased , test error : 0.06478538782674377 \n",
      "For iteration number 22, the test error increased , test error : 0.06478538782674377 \n",
      "For iteration number 23, the test error decreased , test error : 0.06473587986424427 \n",
      "For iteration number 24, the test error increased , test error : 0.06473587986424427 \n",
      "For iteration number 25, the test error increased , test error : 0.06473587986424427 \n"
     ]
    },
    {
     "name": "stderr",
     "output_type": "stream",
     "text": [
      "/Users/Clement/anaconda3/lib/python3.7/site-packages/sklearn/gaussian_process/_gpr.py:504: ConvergenceWarning: lbfgs failed to converge (status=2):\n",
      "ABNORMAL_TERMINATION_IN_LNSRCH.\n",
      "\n",
      "Increase the number of iterations (max_iter) or scale the data as shown in:\n",
      "    https://scikit-learn.org/stable/modules/preprocessing.html\n",
      "  _check_optimize_result(\"lbfgs\", opt_res)\n"
     ]
    },
    {
     "name": "stdout",
     "output_type": "stream",
     "text": [
      "For iteration number 26, the test error increased , test error : 0.06473587986424427 \n",
      "For iteration number 27, the test error increased , test error : 0.06473587986424427 \n",
      "For iteration number 28, the test error increased , test error : 0.06473587986424427 \n",
      "Starting evaluation for ratio 0.25:\n",
      "For iteration number 0, the test error decreased , test error : 1.053667290628139 \n",
      "For iteration number 1, the test error decreased , test error : 0.6771897283354777 \n",
      "For iteration number 2, the test error decreased , test error : 0.4369716091641173 \n",
      "For iteration number 3, the test error decreased , test error : 0.2851843836975467 \n",
      "For iteration number 4, the test error decreased , test error : 0.19474671728254642 \n",
      "For iteration number 5, the test error decreased , test error : 0.132173228245569 \n",
      "For iteration number 6, the test error decreased , test error : 0.09890803876350772 \n",
      "For iteration number 7, the test error decreased , test error : 0.08293316314080539 \n",
      "For iteration number 8, the test error decreased , test error : 0.07325402649232686 \n",
      "For iteration number 9, the test error decreased , test error : 0.0731617418739592 \n",
      "For iteration number 10, the test error decreased , test error : 0.07129728240859008 \n",
      "For iteration number 11, the test error decreased , test error : 0.07107607353881008 \n",
      "For iteration number 12, the test error decreased , test error : 0.07058081290962363 \n",
      "For iteration number 13, the test error increased , test error : 0.07058081290962363 \n",
      "For iteration number 14, the test error decreased , test error : 0.07052878297917863 \n",
      "For iteration number 15, the test error decreased , test error : 0.07043203893141228 \n"
     ]
    },
    {
     "name": "stderr",
     "output_type": "stream",
     "text": [
      "/Users/Clement/anaconda3/lib/python3.7/site-packages/sklearn/gaussian_process/_gpr.py:504: ConvergenceWarning: lbfgs failed to converge (status=2):\n",
      "ABNORMAL_TERMINATION_IN_LNSRCH.\n",
      "\n",
      "Increase the number of iterations (max_iter) or scale the data as shown in:\n",
      "    https://scikit-learn.org/stable/modules/preprocessing.html\n",
      "  _check_optimize_result(\"lbfgs\", opt_res)\n"
     ]
    },
    {
     "name": "stdout",
     "output_type": "stream",
     "text": [
      "For iteration number 16, the test error decreased , test error : 0.07025184952563879 \n",
      "For iteration number 17, the test error increased , test error : 0.07025184952563879 \n",
      "For iteration number 18, the test error decreased , test error : 0.07012340436535815 \n",
      "For iteration number 19, the test error decreased , test error : 0.07006001609470086 \n",
      "For iteration number 20, the test error decreased , test error : 0.07004072057224127 \n",
      "For iteration number 21, the test error increased , test error : 0.07004072057224127 \n",
      "For iteration number 22, the test error increased , test error : 0.07004072057224127 \n",
      "For iteration number 23, the test error decreased , test error : 0.06944317188441855 \n",
      "For iteration number 24, the test error decreased , test error : 0.0693971935102594 \n",
      "For iteration number 25, the test error increased , test error : 0.0693971935102594 \n",
      "For iteration number 26, the test error increased , test error : 0.0693971935102594 \n",
      "For iteration number 27, the test error increased , test error : 0.0693971935102594 \n",
      "For iteration number 28, the test error decreased , test error : 0.06935848039304646 \n",
      "For iteration number 29, the test error increased , test error : 0.06935848039304646 \n",
      "For iteration number 30, the test error increased , test error : 0.06935848039304646 \n",
      "For iteration number 31, the test error increased , test error : 0.06935848039304646 \n",
      "For iteration number 32, the test error increased , test error : 0.06935848039304646 \n",
      "For iteration number 33, the test error increased , test error : 0.06935848039304646 \n",
      "Starting evaluation for ratio 0.35:\n",
      "For iteration number 0, the test error decreased , test error : 1.054252465816235 \n",
      "For iteration number 1, the test error decreased , test error : 0.6842816115315042 \n",
      "For iteration number 2, the test error decreased , test error : 0.44541317048461077 \n",
      "For iteration number 3, the test error decreased , test error : 0.292843149014749 \n",
      "For iteration number 4, the test error decreased , test error : 0.20917917490467255 \n",
      "For iteration number 5, the test error decreased , test error : 0.15384188499782542 \n",
      "For iteration number 6, the test error decreased , test error : 0.126782719703272 \n",
      "For iteration number 7, the test error decreased , test error : 0.11261504737157367 \n",
      "For iteration number 8, the test error increased , test error : 0.11261504737157367 \n",
      "For iteration number 9, the test error decreased , test error : 0.1118439545833797 \n",
      "For iteration number 10, the test error decreased , test error : 0.10996879598477137 \n",
      "For iteration number 11, the test error decreased , test error : 0.10892525316603648 \n",
      "For iteration number 12, the test error decreased , test error : 0.1084606945341096 \n",
      "For iteration number 13, the test error decreased , test error : 0.1081820024117496 \n",
      "For iteration number 14, the test error decreased , test error : 0.10802350015883579 \n",
      "For iteration number 15, the test error decreased , test error : 0.1078715550333976 \n",
      "For iteration number 16, the test error decreased , test error : 0.10777425023476915 \n",
      "For iteration number 17, the test error decreased , test error : 0.10766271442889754 \n",
      "For iteration number 18, the test error increased , test error : 0.10766271442889754 \n",
      "For iteration number 19, the test error increased , test error : 0.10766271442889754 \n",
      "For iteration number 20, the test error increased , test error : 0.10766271442889754 \n",
      "For iteration number 21, the test error decreased , test error : 0.10757236988670382 \n",
      "For iteration number 22, the test error increased , test error : 0.10757236988670382 \n",
      "For iteration number 23, the test error decreased , test error : 0.10750738674785656 \n",
      "For iteration number 24, the test error increased , test error : 0.10750738674785656 \n",
      "For iteration number 25, the test error increased , test error : 0.10750738674785656 \n"
     ]
    },
    {
     "name": "stderr",
     "output_type": "stream",
     "text": [
      "/Users/Clement/anaconda3/lib/python3.7/site-packages/sklearn/gaussian_process/_gpr.py:504: ConvergenceWarning: lbfgs failed to converge (status=2):\n",
      "ABNORMAL_TERMINATION_IN_LNSRCH.\n",
      "\n",
      "Increase the number of iterations (max_iter) or scale the data as shown in:\n",
      "    https://scikit-learn.org/stable/modules/preprocessing.html\n",
      "  _check_optimize_result(\"lbfgs\", opt_res)\n"
     ]
    },
    {
     "name": "stdout",
     "output_type": "stream",
     "text": [
      "For iteration number 26, the test error increased , test error : 0.10750738674785656 \n",
      "For iteration number 27, the test error decreased , test error : 0.10749230327421769 \n",
      "For iteration number 28, the test error decreased , test error : 0.1073968085223152 \n",
      "For iteration number 29, the test error increased , test error : 0.1073968085223152 \n",
      "For iteration number 30, the test error increased , test error : 0.1073968085223152 \n",
      "For iteration number 31, the test error increased , test error : 0.1073968085223152 \n",
      "For iteration number 32, the test error increased , test error : 0.1073968085223152 \n",
      "For iteration number 33, the test error increased , test error : 0.1073968085223152 \n",
      "Starting evaluation for ratio 0.4:\n",
      "For iteration number 0, the test error decreased , test error : 1.0546324508240572 \n",
      "For iteration number 1, the test error decreased , test error : 0.6825655232157611 \n",
      "For iteration number 2, the test error decreased , test error : 0.4451420584605412 \n",
      "For iteration number 3, the test error decreased , test error : 0.29440642138880285 \n",
      "For iteration number 4, the test error decreased , test error : 0.21173453392259473 \n",
      "For iteration number 5, the test error decreased , test error : 0.16316927273005308 \n",
      "For iteration number 6, the test error decreased , test error : 0.1361111366492243 \n",
      "For iteration number 7, the test error decreased , test error : 0.12356594090823106 \n",
      "For iteration number 8, the test error decreased , test error : 0.11816819501211229 \n",
      "For iteration number 9, the test error decreased , test error : 0.1149646018427077 \n",
      "For iteration number 10, the test error decreased , test error : 0.11321803100924147 \n",
      "For iteration number 11, the test error decreased , test error : 0.1123373720736657 \n",
      "For iteration number 12, the test error decreased , test error : 0.11187271143171469 \n"
     ]
    },
    {
     "name": "stderr",
     "output_type": "stream",
     "text": [
      "/Users/Clement/anaconda3/lib/python3.7/site-packages/sklearn/gaussian_process/_gpr.py:504: ConvergenceWarning: lbfgs failed to converge (status=2):\n",
      "ABNORMAL_TERMINATION_IN_LNSRCH.\n",
      "\n",
      "Increase the number of iterations (max_iter) or scale the data as shown in:\n",
      "    https://scikit-learn.org/stable/modules/preprocessing.html\n",
      "  _check_optimize_result(\"lbfgs\", opt_res)\n"
     ]
    },
    {
     "name": "stdout",
     "output_type": "stream",
     "text": [
      "For iteration number 13, the test error decreased , test error : 0.11164729239891884 \n",
      "For iteration number 14, the test error decreased , test error : 0.11150358636866041 \n",
      "For iteration number 15, the test error decreased , test error : 0.11147876708685969 \n",
      "For iteration number 16, the test error decreased , test error : 0.11132811486003973 \n",
      "For iteration number 17, the test error decreased , test error : 0.111288376280032 \n",
      "For iteration number 18, the test error increased , test error : 0.111288376280032 \n",
      "For iteration number 19, the test error increased , test error : 0.111288376280032 \n",
      "For iteration number 20, the test error increased , test error : 0.111288376280032 \n",
      "For iteration number 21, the test error decreased , test error : 0.111268959154458 \n",
      "For iteration number 22, the test error decreased , test error : 0.11111572221153936 \n",
      "For iteration number 23, the test error decreased , test error : 0.11099838092120884 \n",
      "For iteration number 24, the test error increased , test error : 0.11099838092120884 \n",
      "For iteration number 25, the test error decreased , test error : 0.11098650923500647 \n",
      "For iteration number 26, the test error increased , test error : 0.11098650923500647 \n",
      "For iteration number 27, the test error increased , test error : 0.11098650923500647 \n",
      "For iteration number 28, the test error increased , test error : 0.11098650923500647 \n",
      "For iteration number 29, the test error decreased , test error : 0.11090641135227944 \n"
     ]
    },
    {
     "name": "stderr",
     "output_type": "stream",
     "text": [
      "/Users/Clement/anaconda3/lib/python3.7/site-packages/sklearn/gaussian_process/_gpr.py:504: ConvergenceWarning: lbfgs failed to converge (status=2):\n",
      "ABNORMAL_TERMINATION_IN_LNSRCH.\n",
      "\n",
      "Increase the number of iterations (max_iter) or scale the data as shown in:\n",
      "    https://scikit-learn.org/stable/modules/preprocessing.html\n",
      "  _check_optimize_result(\"lbfgs\", opt_res)\n"
     ]
    },
    {
     "name": "stdout",
     "output_type": "stream",
     "text": [
      "For iteration number 30, the test error increased , test error : 0.11090641135227944 \n",
      "For iteration number 31, the test error increased , test error : 0.11090641135227944 \n",
      "For iteration number 32, the test error increased , test error : 0.11090641135227944 \n",
      "For iteration number 33, the test error increased , test error : 0.11090641135227944 \n",
      "For iteration number 34, the test error increased , test error : 0.11090641135227944 \n",
      "Starting evaluation for ratio 0.5:\n",
      "For iteration number 0, the test error decreased , test error : 1.054799962655164 \n",
      "For iteration number 1, the test error decreased , test error : 0.6822345956467964 \n",
      "For iteration number 2, the test error decreased , test error : 0.4458231436846974 \n",
      "For iteration number 3, the test error decreased , test error : 0.29440381913080405 \n",
      "For iteration number 4, the test error decreased , test error : 0.20859088031803658 \n",
      "For iteration number 5, the test error decreased , test error : 0.1494419812984063 \n",
      "For iteration number 6, the test error decreased , test error : 0.11941603149551737 \n",
      "For iteration number 7, the test error decreased , test error : 0.10506207169664103 \n",
      "For iteration number 8, the test error decreased , test error : 0.09770399221192891 \n",
      "For iteration number 9, the test error decreased , test error : 0.09388556304101338 \n",
      "For iteration number 10, the test error decreased , test error : 0.09203595405678978 \n",
      "For iteration number 11, the test error decreased , test error : 0.09117572895984871 \n",
      "For iteration number 12, the test error decreased , test error : 0.09061912582741892 \n",
      "For iteration number 13, the test error decreased , test error : 0.0903624102020034 \n",
      "For iteration number 14, the test error decreased , test error : 0.09023291642003353 \n",
      "For iteration number 15, the test error decreased , test error : 0.09016475774214457 \n",
      "For iteration number 16, the test error decreased , test error : 0.09005179341297657 \n",
      "For iteration number 17, the test error increased , test error : 0.09005179341297657 \n",
      "For iteration number 18, the test error decreased , test error : 0.08997002451694579 \n",
      "For iteration number 19, the test error decreased , test error : 0.08993596377085013 \n",
      "For iteration number 20, the test error decreased , test error : 0.08991117524059201 \n",
      "For iteration number 21, the test error increased , test error : 0.08991117524059201 \n",
      "For iteration number 22, the test error decreased , test error : 0.08985731633280504 \n",
      "For iteration number 23, the test error increased , test error : 0.08985731633280504 \n",
      "For iteration number 24, the test error increased , test error : 0.08985731633280504 \n",
      "For iteration number 25, the test error increased , test error : 0.08985731633280504 \n",
      "For iteration number 26, the test error increased , test error : 0.08985731633280504 \n",
      "For iteration number 27, the test error increased , test error : 0.08985731633280504 \n",
      "Starting evaluation for ratio 0.15:\n",
      "For iteration number 0, the test error decreased , test error : 1.2294032268566817 \n",
      "For iteration number 1, the test error decreased , test error : 0.7882509017122055 \n",
      "For iteration number 2, the test error decreased , test error : 0.5118379385856933 \n",
      "For iteration number 3, the test error decreased , test error : 0.3377686128076533 \n",
      "For iteration number 4, the test error decreased , test error : 0.22630190960713714 \n",
      "For iteration number 5, the test error decreased , test error : 0.15945602257919464 \n",
      "For iteration number 6, the test error decreased , test error : 0.11050029933835098 \n",
      "For iteration number 7, the test error decreased , test error : 0.09051990159034827 \n",
      "For iteration number 8, the test error decreased , test error : 0.0689648605976137 \n",
      "For iteration number 9, the test error decreased , test error : 0.06431025936954589 \n",
      "For iteration number 10, the test error decreased , test error : 0.06199489153583668 \n",
      "For iteration number 11, the test error decreased , test error : 0.0609957152518039 \n",
      "For iteration number 12, the test error decreased , test error : 0.06025470296220302 \n",
      "For iteration number 13, the test error decreased , test error : 0.06008115514672702 \n",
      "For iteration number 14, the test error decreased , test error : 0.05693716788899475 \n",
      "For iteration number 15, the test error decreased , test error : 0.05672610507193127 \n",
      "For iteration number 16, the test error decreased , test error : 0.05666617611379698 \n",
      "For iteration number 17, the test error decreased , test error : 0.05658833664020023 \n",
      "For iteration number 18, the test error increased , test error : 0.05658833664020023 \n",
      "For iteration number 19, the test error decreased , test error : 0.05426632305881188 \n",
      "For iteration number 20, the test error decreased , test error : 0.054212300206774415 \n",
      "For iteration number 21, the test error increased , test error : 0.054212300206774415 \n",
      "For iteration number 22, the test error decreased , test error : 0.05329651864665083 \n",
      "For iteration number 23, the test error increased , test error : 0.05329651864665083 \n",
      "For iteration number 24, the test error increased , test error : 0.05329651864665083 \n",
      "For iteration number 25, the test error increased , test error : 0.05329651864665083 \n",
      "For iteration number 26, the test error increased , test error : 0.05329651864665083 \n",
      "For iteration number 27, the test error increased , test error : 0.05329651864665083 \n",
      "Starting evaluation for ratio 0.2:\n",
      "For iteration number 0, the test error decreased , test error : 1.2272297636604936 \n",
      "For iteration number 1, the test error decreased , test error : 0.7862871555504485 \n",
      "For iteration number 2, the test error decreased , test error : 0.49612324478759057 \n",
      "For iteration number 3, the test error decreased , test error : 0.32340549655416156 \n",
      "For iteration number 4, the test error decreased , test error : 0.21148993958940654 \n",
      "For iteration number 5, the test error decreased , test error : 0.14616221509462807 \n",
      "For iteration number 6, the test error decreased , test error : 0.10595023967648308 \n",
      "For iteration number 7, the test error decreased , test error : 0.08542558739772851 \n",
      "For iteration number 8, the test error decreased , test error : 0.07511895157219112 \n",
      "For iteration number 9, the test error decreased , test error : 0.07061575588747646 \n",
      "For iteration number 10, the test error decreased , test error : 0.06887864562373691 \n",
      "For iteration number 11, the test error decreased , test error : 0.06790979354943834 \n",
      "For iteration number 12, the test error decreased , test error : 0.06745155972900531 \n",
      "For iteration number 13, the test error decreased , test error : 0.06735311607935732 \n",
      "For iteration number 14, the test error decreased , test error : 0.0671791502051384 \n",
      "For iteration number 15, the test error decreased , test error : 0.06700715481449118 \n",
      "For iteration number 16, the test error decreased , test error : 0.06692825684916186 \n",
      "For iteration number 17, the test error increased , test error : 0.06692825684916186 \n",
      "For iteration number 18, the test error decreased , test error : 0.06684386316403207 \n",
      "For iteration number 19, the test error increased , test error : 0.06684386316403207 \n",
      "For iteration number 20, the test error increased , test error : 0.06684386316403207 \n",
      "For iteration number 21, the test error increased , test error : 0.06684386316403207 \n",
      "For iteration number 22, the test error increased , test error : 0.06684386316403207 \n",
      "For iteration number 23, the test error decreased , test error : 0.06678306014128317 \n",
      "For iteration number 24, the test error increased , test error : 0.06678306014128317 \n",
      "For iteration number 25, the test error increased , test error : 0.06678306014128317 \n",
      "For iteration number 26, the test error increased , test error : 0.06678306014128317 \n",
      "For iteration number 27, the test error increased , test error : 0.06678306014128317 \n",
      "For iteration number 28, the test error increased , test error : 0.06678306014128317 \n",
      "Starting evaluation for ratio 0.25:\n",
      "For iteration number 0, the test error decreased , test error : 1.2297545940779433 \n",
      "For iteration number 1, the test error decreased , test error : 0.7885190023317419 \n",
      "For iteration number 2, the test error decreased , test error : 0.5072464394993694 \n",
      "For iteration number 3, the test error decreased , test error : 0.33836934390980805 \n",
      "For iteration number 4, the test error decreased , test error : 0.23786251559617386 \n"
     ]
    },
    {
     "name": "stdout",
     "output_type": "stream",
     "text": [
      "For iteration number 5, the test error decreased , test error : 0.1720478884254203 \n",
      "For iteration number 6, the test error decreased , test error : 0.13104175500766516 \n",
      "For iteration number 7, the test error decreased , test error : 0.11178971277634121 \n",
      "For iteration number 8, the test error decreased , test error : 0.09798380501089117 \n",
      "For iteration number 9, the test error decreased , test error : 0.09299612054549983 \n",
      "For iteration number 10, the test error decreased , test error : 0.09095100662810546 \n",
      "For iteration number 11, the test error decreased , test error : 0.08883749892065712 \n",
      "For iteration number 12, the test error decreased , test error : 0.08803251359099427 \n",
      "For iteration number 13, the test error decreased , test error : 0.08734027409881355 \n",
      "For iteration number 14, the test error decreased , test error : 0.08698212670497596 \n",
      "For iteration number 15, the test error increased , test error : 0.08698212670497596 \n",
      "For iteration number 16, the test error increased , test error : 0.08698212670497596 \n",
      "For iteration number 17, the test error increased , test error : 0.08698212670497596 \n",
      "For iteration number 18, the test error increased , test error : 0.08698212670497596 \n",
      "For iteration number 19, the test error increased , test error : 0.08698212670497596 \n",
      "Starting evaluation for ratio 0.35:\n",
      "For iteration number 0, the test error decreased , test error : 1.230640770497637 \n",
      "For iteration number 1, the test error decreased , test error : 0.7958963640579669 \n",
      "For iteration number 2, the test error decreased , test error : 0.5157933129600394 \n",
      "For iteration number 3, the test error decreased , test error : 0.3369654680063136 \n",
      "For iteration number 4, the test error decreased , test error : 0.23580064921211072 \n",
      "For iteration number 5, the test error decreased , test error : 0.16972991866501455 \n",
      "For iteration number 6, the test error decreased , test error : 0.13604970745022302 \n",
      "For iteration number 7, the test error decreased , test error : 0.1182645638773566 \n",
      "For iteration number 8, the test error increased , test error : 0.1182645638773566 \n",
      "For iteration number 9, the test error decreased , test error : 0.11465975318580446 \n",
      "For iteration number 10, the test error decreased , test error : 0.11238779607260632 \n",
      "For iteration number 11, the test error decreased , test error : 0.11227240935582984 \n",
      "For iteration number 12, the test error decreased , test error : 0.11172860303309601 \n",
      "For iteration number 13, the test error decreased , test error : 0.11138210146211477 \n",
      "For iteration number 14, the test error decreased , test error : 0.11121064380927956 \n",
      "For iteration number 15, the test error decreased , test error : 0.11103462689926036 \n",
      "For iteration number 16, the test error decreased , test error : 0.1109413487861676 \n",
      "For iteration number 17, the test error decreased , test error : 0.11080874413184114 \n",
      "For iteration number 18, the test error increased , test error : 0.11080874413184114 \n",
      "For iteration number 19, the test error increased , test error : 0.11080874413184114 \n",
      "For iteration number 20, the test error increased , test error : 0.11080874413184114 \n",
      "For iteration number 21, the test error decreased , test error : 0.11071622412444772 \n",
      "For iteration number 22, the test error increased , test error : 0.11071622412444772 \n",
      "For iteration number 23, the test error decreased , test error : 0.1106702134118994 \n",
      "For iteration number 24, the test error increased , test error : 0.1106702134118994 \n",
      "For iteration number 25, the test error increased , test error : 0.1106702134118994 \n",
      "For iteration number 26, the test error decreased , test error : 0.11064280639654327 \n",
      "For iteration number 27, the test error decreased , test error : 0.1106045158000027 \n",
      "For iteration number 28, the test error decreased , test error : 0.11052403268472454 \n",
      "For iteration number 29, the test error increased , test error : 0.11052403268472454 \n",
      "For iteration number 30, the test error increased , test error : 0.11052403268472454 \n",
      "For iteration number 31, the test error increased , test error : 0.11052403268472454 \n",
      "For iteration number 32, the test error increased , test error : 0.11052403268472454 \n",
      "For iteration number 33, the test error increased , test error : 0.11052403268472454 \n",
      "Starting evaluation for ratio 0.4:\n",
      "For iteration number 0, the test error decreased , test error : 1.2317494082747993 \n",
      "For iteration number 1, the test error decreased , test error : 0.7944489418891246 \n",
      "For iteration number 2, the test error decreased , test error : 0.5150964421912837 \n",
      "For iteration number 3, the test error decreased , test error : 0.3376866997488145 \n",
      "For iteration number 4, the test error decreased , test error : 0.23745367078790414 \n",
      "For iteration number 5, the test error decreased , test error : 0.17783292953612742 \n",
      "For iteration number 6, the test error decreased , test error : 0.14433995376050165 \n",
      "For iteration number 7, the test error decreased , test error : 0.12836920081388842 \n"
     ]
    },
    {
     "name": "stderr",
     "output_type": "stream",
     "text": [
      "/Users/Clement/anaconda3/lib/python3.7/site-packages/sklearn/gaussian_process/_gpr.py:504: ConvergenceWarning: lbfgs failed to converge (status=2):\n",
      "ABNORMAL_TERMINATION_IN_LNSRCH.\n",
      "\n",
      "Increase the number of iterations (max_iter) or scale the data as shown in:\n",
      "    https://scikit-learn.org/stable/modules/preprocessing.html\n",
      "  _check_optimize_result(\"lbfgs\", opt_res)\n"
     ]
    },
    {
     "name": "stdout",
     "output_type": "stream",
     "text": [
      "For iteration number 8, the test error decreased , test error : 0.12123371039944565 \n",
      "For iteration number 9, the test error decreased , test error : 0.11725106775761693 \n",
      "For iteration number 10, the test error decreased , test error : 0.11511922264393734 \n",
      "For iteration number 11, the test error decreased , test error : 0.11403291726739029 \n",
      "For iteration number 12, the test error decreased , test error : 0.11350756633681033 \n",
      "For iteration number 13, the test error decreased , test error : 0.11323098797424268 \n",
      "For iteration number 14, the test error decreased , test error : 0.11306725271731906 \n",
      "For iteration number 15, the test error decreased , test error : 0.11302918767203639 \n",
      "For iteration number 16, the test error decreased , test error : 0.11287721292367207 \n",
      "For iteration number 17, the test error decreased , test error : 0.11283053862529172 \n",
      "For iteration number 18, the test error increased , test error : 0.11283053862529172 \n",
      "For iteration number 19, the test error increased , test error : 0.11283053862529172 \n",
      "For iteration number 20, the test error increased , test error : 0.11283053862529172 \n",
      "For iteration number 21, the test error decreased , test error : 0.11280515877942149 \n",
      "For iteration number 22, the test error decreased , test error : 0.11265751812906517 \n",
      "For iteration number 23, the test error decreased , test error : 0.11253884601388443 \n",
      "For iteration number 24, the test error increased , test error : 0.11253884601388443 \n",
      "For iteration number 25, the test error decreased , test error : 0.11252726534101395 \n",
      "For iteration number 26, the test error increased , test error : 0.11252726534101395 \n",
      "For iteration number 27, the test error increased , test error : 0.11252726534101395 \n",
      "For iteration number 28, the test error increased , test error : 0.11252726534101395 \n",
      "For iteration number 29, the test error decreased , test error : 0.11244553168272346 \n",
      "For iteration number 30, the test error increased , test error : 0.11244553168272346 \n",
      "For iteration number 31, the test error increased , test error : 0.11244553168272346 \n",
      "For iteration number 32, the test error increased , test error : 0.11244553168272346 \n",
      "For iteration number 33, the test error increased , test error : 0.11244553168272346 \n",
      "For iteration number 34, the test error increased , test error : 0.11244553168272346 \n",
      "Starting evaluation for ratio 0.5:\n",
      "For iteration number 0, the test error decreased , test error : 1.2316683000378377 \n",
      "For iteration number 1, the test error decreased , test error : 0.7937386863132229 \n",
      "For iteration number 2, the test error decreased , test error : 0.515259689558943 \n",
      "For iteration number 3, the test error decreased , test error : 0.3375106562704392 \n",
      "For iteration number 4, the test error decreased , test error : 0.23409929442749952 \n",
      "For iteration number 5, the test error decreased , test error : 0.1648508009877886 \n",
      "For iteration number 6, the test error decreased , test error : 0.12822048203451752 \n",
      "For iteration number 7, the test error decreased , test error : 0.11006136113554746 \n",
      "For iteration number 8, the test error decreased , test error : 0.10081798173689496 \n",
      "For iteration number 9, the test error decreased , test error : 0.09608727228573871 \n",
      "For iteration number 10, the test error decreased , test error : 0.09379669203621392 \n",
      "For iteration number 11, the test error decreased , test error : 0.09273058200519398 \n",
      "For iteration number 12, the test error decreased , test error : 0.09208486979335448 \n",
      "For iteration number 13, the test error decreased , test error : 0.09177330039139626 \n",
      "For iteration number 14, the test error decreased , test error : 0.09161694313126001 \n",
      "For iteration number 15, the test error decreased , test error : 0.09153352814515058 \n",
      "For iteration number 16, the test error decreased , test error : 0.09141826751810675 \n",
      "For iteration number 17, the test error increased , test error : 0.09141826751810675 \n",
      "For iteration number 18, the test error decreased , test error : 0.09132599820258724 \n",
      "For iteration number 19, the test error decreased , test error : 0.09128996816518864 \n",
      "For iteration number 20, the test error decreased , test error : 0.09126764127721512 \n",
      "For iteration number 21, the test error increased , test error : 0.09126764127721512 \n",
      "For iteration number 22, the test error decreased , test error : 0.09120741747806341 \n",
      "For iteration number 23, the test error increased , test error : 0.09120741747806341 \n",
      "For iteration number 24, the test error increased , test error : 0.09120741747806341 \n",
      "For iteration number 25, the test error increased , test error : 0.09120741747806341 \n",
      "For iteration number 26, the test error increased , test error : 0.09120741747806341 \n",
      "For iteration number 27, the test error increased , test error : 0.09120741747806341 \n",
      "Starting evaluation for ratio 0.15:\n",
      "For iteration number 0, the test error decreased , test error : 1.0989197268789983 \n",
      "For iteration number 1, the test error decreased , test error : 0.7062784811353262 \n",
      "For iteration number 2, the test error decreased , test error : 0.4598596338731526 \n",
      "For iteration number 3, the test error decreased , test error : 0.3045885363374582 \n",
      "For iteration number 4, the test error decreased , test error : 0.2059547249206065 \n"
     ]
    },
    {
     "name": "stderr",
     "output_type": "stream",
     "text": [
      "/Users/Clement/anaconda3/lib/python3.7/site-packages/sklearn/gaussian_process/_gpr.py:504: ConvergenceWarning: lbfgs failed to converge (status=2):\n",
      "ABNORMAL_TERMINATION_IN_LNSRCH.\n",
      "\n",
      "Increase the number of iterations (max_iter) or scale the data as shown in:\n",
      "    https://scikit-learn.org/stable/modules/preprocessing.html\n",
      "  _check_optimize_result(\"lbfgs\", opt_res)\n"
     ]
    },
    {
     "name": "stdout",
     "output_type": "stream",
     "text": [
      "For iteration number 5, the test error decreased , test error : 0.14818160732221144 \n",
      "For iteration number 6, the test error decreased , test error : 0.10473134322448668 \n",
      "For iteration number 7, the test error decreased , test error : 0.08784145903025749 \n",
      "For iteration number 8, the test error decreased , test error : 0.0677648453105139 \n",
      "For iteration number 9, the test error decreased , test error : 0.06400319893347996 \n",
      "For iteration number 10, the test error decreased , test error : 0.06209061392742289 \n",
      "For iteration number 11, the test error decreased , test error : 0.06129295730742922 \n",
      "For iteration number 12, the test error decreased , test error : 0.06065587166215776 \n",
      "For iteration number 13, the test error decreased , test error : 0.05412146226141979 \n",
      "For iteration number 14, the test error decreased , test error : 0.052680920468395266 \n",
      "For iteration number 15, the test error decreased , test error : 0.052610019788522026 \n"
     ]
    },
    {
     "name": "stderr",
     "output_type": "stream",
     "text": [
      "/Users/Clement/anaconda3/lib/python3.7/site-packages/sklearn/gaussian_process/_gpr.py:504: ConvergenceWarning: lbfgs failed to converge (status=2):\n",
      "ABNORMAL_TERMINATION_IN_LNSRCH.\n",
      "\n",
      "Increase the number of iterations (max_iter) or scale the data as shown in:\n",
      "    https://scikit-learn.org/stable/modules/preprocessing.html\n",
      "  _check_optimize_result(\"lbfgs\", opt_res)\n"
     ]
    },
    {
     "name": "stdout",
     "output_type": "stream",
     "text": [
      "For iteration number 16, the test error increased , test error : 0.052610019788522026 \n",
      "For iteration number 17, the test error increased , test error : 0.052610019788522026 \n",
      "For iteration number 18, the test error increased , test error : 0.052610019788522026 \n",
      "For iteration number 19, the test error decreased , test error : 0.05098682312004978 \n",
      "For iteration number 20, the test error increased , test error : 0.05098682312004978 \n",
      "For iteration number 21, the test error increased , test error : 0.05098682312004978 \n",
      "For iteration number 22, the test error increased , test error : 0.05098682312004978 \n",
      "For iteration number 23, the test error increased , test error : 0.05098682312004978 \n",
      "For iteration number 24, the test error increased , test error : 0.05098682312004978 \n",
      "Starting evaluation for ratio 0.2:\n",
      "For iteration number 0, the test error decreased , test error : 1.0970716352632568 \n",
      "For iteration number 1, the test error decreased , test error : 0.7041057614338119 \n",
      "For iteration number 2, the test error decreased , test error : 0.4440659465378465 \n",
      "For iteration number 3, the test error decreased , test error : 0.29056724675412654 \n",
      "For iteration number 4, the test error decreased , test error : 0.19113084805762842 \n",
      "For iteration number 5, the test error decreased , test error : 0.13383680375425983 \n",
      "For iteration number 6, the test error decreased , test error : 0.09888524172036156 \n",
      "For iteration number 7, the test error decreased , test error : 0.08136397717605279 \n",
      "For iteration number 8, the test error decreased , test error : 0.07265511620984343 \n",
      "For iteration number 9, the test error decreased , test error : 0.06894534257673873 \n",
      "For iteration number 10, the test error decreased , test error : 0.06752596817328653 \n",
      "For iteration number 11, the test error decreased , test error : 0.06675229769614777 \n",
      "For iteration number 12, the test error decreased , test error : 0.06634235867306994 \n",
      "For iteration number 13, the test error decreased , test error : 0.06626067009111253 \n",
      "For iteration number 14, the test error decreased , test error : 0.06609749064793356 \n",
      "For iteration number 15, the test error decreased , test error : 0.06594444766138957 \n",
      "For iteration number 16, the test error decreased , test error : 0.06586983104394001 \n",
      "For iteration number 17, the test error increased , test error : 0.06586983104394001 \n",
      "For iteration number 18, the test error decreased , test error : 0.06579318658366437 \n",
      "For iteration number 19, the test error increased , test error : 0.06579318658366437 \n",
      "For iteration number 20, the test error increased , test error : 0.06579318658366437 \n",
      "For iteration number 21, the test error increased , test error : 0.06579318658366437 \n",
      "For iteration number 22, the test error increased , test error : 0.06579318658366437 \n",
      "For iteration number 23, the test error decreased , test error : 0.06573796168332856 \n",
      "For iteration number 24, the test error increased , test error : 0.06573796168332856 \n",
      "For iteration number 25, the test error increased , test error : 0.06573796168332856 \n",
      "For iteration number 26, the test error increased , test error : 0.06573796168332856 \n",
      "For iteration number 27, the test error increased , test error : 0.06573796168332856 \n",
      "For iteration number 28, the test error increased , test error : 0.06573796168332856 \n",
      "Starting evaluation for ratio 0.25:\n",
      "For iteration number 0, the test error decreased , test error : 1.1000013429737936 \n",
      "For iteration number 1, the test error decreased , test error : 0.7067092966806626 \n",
      "For iteration number 2, the test error decreased , test error : 0.4557729367243129 \n",
      "For iteration number 3, the test error decreased , test error : 0.29693267926483824 \n",
      "For iteration number 4, the test error decreased , test error : 0.2024267471632479 \n",
      "For iteration number 5, the test error decreased , test error : 0.13719973499787144 \n",
      "For iteration number 6, the test error decreased , test error : 0.10206141245760551 \n",
      "For iteration number 7, the test error decreased , test error : 0.08517583878313441 \n",
      "For iteration number 8, the test error decreased , test error : 0.07478127298016185 \n",
      "For iteration number 9, the test error decreased , test error : 0.07458988990286823 \n",
      "For iteration number 10, the test error decreased , test error : 0.07262516649610824 \n",
      "For iteration number 11, the test error decreased , test error : 0.07237101121037771 \n",
      "For iteration number 12, the test error decreased , test error : 0.07184894313705184 \n",
      "For iteration number 13, the test error decreased , test error : 0.07132693350003189 \n",
      "For iteration number 14, the test error decreased , test error : 0.07104906673974017 \n",
      "For iteration number 15, the test error decreased , test error : 0.07098412330338762 \n",
      "For iteration number 16, the test error decreased , test error : 0.07084620187899723 \n",
      "For iteration number 17, the test error increased , test error : 0.07084620187899723 \n",
      "For iteration number 18, the test error decreased , test error : 0.07084423247572817 \n",
      "For iteration number 19, the test error decreased , test error : 0.07079077056993636 \n",
      "For iteration number 20, the test error decreased , test error : 0.07074458587858444 \n",
      "For iteration number 21, the test error increased , test error : 0.07074458587858444 \n",
      "For iteration number 22, the test error increased , test error : 0.07074458587858444 \n",
      "For iteration number 23, the test error decreased , test error : 0.07047394178620034 \n",
      "For iteration number 24, the test error decreased , test error : 0.07040837931753391 \n",
      "For iteration number 25, the test error increased , test error : 0.07040837931753391 \n",
      "For iteration number 26, the test error decreased , test error : 0.07040734373726999 \n",
      "For iteration number 27, the test error decreased , test error : 0.07039507899425068 \n",
      "For iteration number 28, the test error decreased , test error : 0.07035841822922728 \n",
      "For iteration number 29, the test error decreased , test error : 0.07035652437463702 \n",
      "For iteration number 30, the test error increased , test error : 0.07035652437463702 \n",
      "For iteration number 31, the test error increased , test error : 0.07035652437463702 \n",
      "For iteration number 32, the test error increased , test error : 0.07035652437463702 \n",
      "For iteration number 33, the test error increased , test error : 0.07035652437463702 \n",
      "For iteration number 34, the test error decreased , test error : 0.0703090038335857 \n",
      "For iteration number 35, the test error increased , test error : 0.0703090038335857 \n",
      "For iteration number 36, the test error increased , test error : 0.0703090038335857 \n",
      "For iteration number 37, the test error increased , test error : 0.0703090038335857 \n",
      "For iteration number 38, the test error increased , test error : 0.0703090038335857 \n",
      "For iteration number 39, the test error increased , test error : 0.0703090038335857 \n",
      "Starting evaluation for ratio 0.35:\n",
      "For iteration number 0, the test error decreased , test error : 1.1007870068071177 \n",
      "For iteration number 1, the test error decreased , test error : 0.7142266235401843 \n",
      "For iteration number 2, the test error decreased , test error : 0.4645752803002635 \n",
      "For iteration number 3, the test error decreased , test error : 0.30504831485280615 \n",
      "For iteration number 4, the test error decreased , test error : 0.21684333244500312 \n",
      "For iteration number 5, the test error decreased , test error : 0.1586305074625465 \n",
      "For iteration number 6, the test error decreased , test error : 0.12982774889754922 \n",
      "For iteration number 7, the test error decreased , test error : 0.11469249295088808 \n",
      "For iteration number 8, the test error increased , test error : 0.11469249295088808 \n",
      "For iteration number 9, the test error decreased , test error : 0.1131118259953866 \n",
      "For iteration number 10, the test error decreased , test error : 0.1111102673769123 \n",
      "For iteration number 11, the test error decreased , test error : 0.10993471962107033 \n",
      "For iteration number 12, the test error decreased , test error : 0.10944673367265245 \n",
      "For iteration number 13, the test error decreased , test error : 0.10914517793851557 \n",
      "For iteration number 14, the test error decreased , test error : 0.10897869491939684 \n",
      "For iteration number 15, the test error decreased , test error : 0.10882027439573892 \n",
      "For iteration number 16, the test error decreased , test error : 0.10872334058913702 \n"
     ]
    },
    {
     "name": "stdout",
     "output_type": "stream",
     "text": [
      "For iteration number 17, the test error decreased , test error : 0.10860607792330408 \n",
      "For iteration number 18, the test error increased , test error : 0.10860607792330408 \n",
      "For iteration number 19, the test error increased , test error : 0.10860607792330408 \n",
      "For iteration number 20, the test error increased , test error : 0.10860607792330408 \n",
      "For iteration number 21, the test error decreased , test error : 0.10851003896655724 \n",
      "For iteration number 22, the test error increased , test error : 0.10851003896655724 \n",
      "For iteration number 23, the test error decreased , test error : 0.10844722006705106 \n",
      "For iteration number 24, the test error increased , test error : 0.10844722006705106 \n",
      "For iteration number 25, the test error increased , test error : 0.10844722006705106 \n",
      "For iteration number 26, the test error increased , test error : 0.10844722006705106 \n",
      "For iteration number 27, the test error decreased , test error : 0.1084252152005595 \n",
      "For iteration number 28, the test error decreased , test error : 0.10833013185589487 \n",
      "For iteration number 29, the test error increased , test error : 0.10833013185589487 \n",
      "For iteration number 30, the test error increased , test error : 0.10833013185589487 \n",
      "For iteration number 31, the test error increased , test error : 0.10833013185589487 \n",
      "For iteration number 32, the test error increased , test error : 0.10833013185589487 \n",
      "For iteration number 33, the test error increased , test error : 0.10833013185589487 \n",
      "Starting evaluation for ratio 0.4:\n",
      "For iteration number 0, the test error decreased , test error : 1.1015964667230242 \n",
      "For iteration number 1, the test error decreased , test error : 0.7126063187967931 \n",
      "For iteration number 2, the test error decreased , test error : 0.4640659606253841 \n",
      "For iteration number 3, the test error decreased , test error : 0.30620395082522633 \n",
      "For iteration number 4, the test error decreased , test error : 0.21898074272331775 \n"
     ]
    }
   ],
   "source": [
    "test_errors = Stoch_Grad_Boosting_per_ratio(ratios, Stochastic_Gradient_Boosting, np.copy(Flattened_X_train), np.copy(y_train), np.copy(Flattened_X_test), np.copy(y_test), Epsilon, kernel, Max_Iter, np.mean(y_train, axis=0))\n",
    "test_errors_0 = Stoch_Grad_Boosting_per_ratio(ratios, Stochastic_Gradient_Boosting, np.copy(Flattened_X_train), np.copy(y_train), np.copy(Flattened_X_test), np.copy(y_test), Epsilon, kernel, Max_Iter, 0.0)\n",
    "test_errors_1 = Stoch_Grad_Boosting_per_ratio(ratios, Stochastic_Gradient_Boosting, np.copy(Flattened_X_train), np.copy(y_train), np.copy(Flattened_X_test), np.copy(y_test), Epsilon, kernel, Max_Iter, np.mean(y_train, axis=0)/2)\n"
   ]
  },
  {
   "cell_type": "code",
   "execution_count": null,
   "metadata": {},
   "outputs": [],
   "source": [
    "plot_errors(test_errors,ratios, N_train, d, N_test, Learning_Rate, Max_Iter, 'mean') \n",
    "plot_errors(test_errors_0,ratios, N_train, d, N_test, Learning_Rate, Max_Iter, '0') \n",
    "plot_errors(test_errors_1,ratios, N_train, d, N_test, Learning_Rate, Max_Iter, 'mean/2') "
   ]
  },
  {
   "cell_type": "code",
   "execution_count": 1,
   "metadata": {},
   "outputs": [],
   "source": [
    "import pickle\n",
    "PICKLE = False\n",
    "if PICKLE:\n",
    "    test_errors = pickle.load(open(\"mean_initalisation.p\", \"rb\"))\n",
    "    test_errors_0 = pickle.load(open(\"0_initalisation.p\", \"rb\"))\n",
    "    test_errors_1 = pickle.load(open(\"half_mean_initalisation.p\", \"rb\"))"
   ]
  },
  {
   "cell_type": "code",
   "execution_count": 90,
   "metadata": {},
   "outputs": [],
   "source": [
    "def log_plot_errors(test_errors, ratios, N_train, d, N_test, Learning_Rate, Max_Iter):\n",
    "    for i in range(len(test_errors)):\n",
    "        while len(test_errors[i]) != Max_Iter :\n",
    "            test_errors[i].append(test_errors[i][-1])\n",
    "    plt.figure(figsize=((18, 6)))\n",
    "    for i in range(len(ratios)) :\n",
    "        #plt.axvline(min_errors[i][1], ls='-', color = 'k', label = 'Test Minimal Error for rate : {rate}')\n",
    "        plt.plot(np.arange(len(test_errors[i][4:61])) , np.log(test_errors[i][4:61]), label = f'learning rate :{ratios[i]}')\n",
    "    plt.axhline(np.log(test_reference_error), ls=':', color = 'orange', label = 'Test Reference Error')\n",
    "    plt.xlabel(\"Number of Iterations\")\n",
    "    plt.title(f\"Stochastic Gradient Boosting: N_train = {N_train}, d= {d}, N_test= {N_test}, learning_rate : {Learning_Rate}, with different Learning Rates\")\n",
    "    plt.ylabel(\"Log Normalized Error\")\n",
    "    plt.legend(loc='upper right')\n",
    "    plt.show()"
   ]
  },
  {
   "cell_type": "code",
   "execution_count": 6,
   "metadata": {},
   "outputs": [],
   "source": [
    "def plot_errors(test_errors, ratios, N_train, d, N_test, Learning_Rate, Max_Iter, init):\n",
    "    for i in range(len(test_errors)):\n",
    "        while len(test_errors[i]) != Max_Iter :\n",
    "            test_errors[i].append(test_errors[i][-1])\n",
    "    plt.figure(figsize=((18, 6)))\n",
    "    for i in range(len(ratios)) :\n",
    "        #plt.axvline(min_errors[i][1], ls='-', color = 'k', label = 'Test Minimal Error for rate : {rate}')\n",
    "        plt.plot(np.arange(7,26) , test_errors[i][7:26], label = f'alpha :{ratios[i]}')\n",
    "    plt.axhline(test_reference_error, ls=':', color = 'orange', label = 'Test Reference Error')\n",
    "    plt.xlabel(\"Number of Iterations\")\n",
    "    plt.title(f\"Stochastic Gradient Boosting with {init} initialisation: N_train = {N_train}, d= {d}, N_test= {N_test}, learning_rate : {Learning_Rate}, with different Learning Rates\")\n",
    "    plt.ylabel(\"Normalized Error\")\n",
    "    plt.legend(loc='upper right')\n",
    "    plt.show()"
   ]
  },
  {
   "cell_type": "code",
   "execution_count": null,
   "metadata": {},
   "outputs": [],
   "source": []
  }
 ],
 "metadata": {
  "kernelspec": {
   "display_name": "Python 3",
   "language": "python",
   "name": "python3"
  },
  "language_info": {
   "codemirror_mode": {
    "name": "ipython",
    "version": 3
   },
   "file_extension": ".py",
   "mimetype": "text/x-python",
   "name": "python",
   "nbconvert_exporter": "python",
   "pygments_lexer": "ipython3",
   "version": "3.7.9"
  },
  "toc": {
   "base_numbering": 1,
   "nav_menu": {},
   "number_sections": true,
   "sideBar": true,
   "skip_h1_title": false,
   "title_cell": "Table of Contents",
   "title_sidebar": "Contents",
   "toc_cell": false,
   "toc_position": {},
   "toc_section_display": true,
   "toc_window_display": false
  }
 },
 "nbformat": 4,
 "nbformat_minor": 2
}
