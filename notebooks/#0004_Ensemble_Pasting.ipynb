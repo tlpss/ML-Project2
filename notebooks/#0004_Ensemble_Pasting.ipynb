{
 "cells": [
  {
   "cell_type": "markdown",
   "metadata": {},
   "source": [
    "# Ensemble Learning through Pasting \n",
    "\n",
    "**Pasting == Bootstrapping Aggregation W/O replacement** \n",
    "\n",
    "$\\implies$  hyperparam = {M = #learners, alpha = # relative trainset size}\n"
   ]
  },
  {
   "cell_type": "code",
   "execution_count": 11,
   "metadata": {
    "ExecuteTime": {
     "end_time": "2020-12-12T12:37:42.136115Z",
     "start_time": "2020-12-12T12:37:42.132091Z"
    }
   },
   "outputs": [],
   "source": [
    "import numpy as np\n",
    "import random\n",
    "import matplotlib.pyplot as plt\n",
    "from sklearn.gaussian_process import GaussianProcessRegressor\n",
    "from sklearn.gaussian_process.kernels import RBF, WhiteKernel\n",
    "\n",
    "# add project root folder to path to allow import local modules\n",
    "import os\n",
    "import sys\n",
    "module_path = os.path.abspath(os.path.join('..'))\n",
    "if module_path not in sys.path:\n",
    "    sys.path.append(module_path)\n",
    "# import local modules\n",
    "from stochastic_models import MaxCallStochasticModel\n",
    "from aggregating.models import SimplePaster\n",
    "from visualisations import *"
   ]
  },
  {
   "cell_type": "markdown",
   "metadata": {
    "ExecuteTime": {
     "end_time": "2020-11-14T11:40:28.368547Z",
     "start_time": "2020-11-14T11:40:28.365554Z"
    }
   },
   "source": [
    "## Parameter Configuration"
   ]
  },
  {
   "cell_type": "code",
   "execution_count": 12,
   "metadata": {
    "ExecuteTime": {
     "end_time": "2020-12-12T12:37:43.050047Z",
     "start_time": "2020-12-12T12:37:43.046060Z"
    }
   },
   "outputs": [],
   "source": [
    "np.random.seed(2020)"
   ]
  },
  {
   "cell_type": "code",
   "execution_count": 13,
   "metadata": {
    "ExecuteTime": {
     "end_time": "2020-12-12T12:37:43.357229Z",
     "start_time": "2020-12-12T12:37:43.352243Z"
    }
   },
   "outputs": [],
   "source": [
    "N_train = 5000\n",
    "N_test = 50000\n",
    "d = 1\n",
    "T = 2"
   ]
  },
  {
   "cell_type": "code",
   "execution_count": 14,
   "metadata": {
    "ExecuteTime": {
     "end_time": "2020-12-12T12:37:43.706724Z",
     "start_time": "2020-12-12T12:37:43.700709Z"
    }
   },
   "outputs": [],
   "source": [
    "lambda_range = (N_train*1e-9 , N_train*1e-3)\n",
    "alpha_range = (8.3*1e-5, 0.83)\n",
    "length_scale = np.sort(1/np.sqrt((2*alpha_range[0], 2*alpha_range[1])))"
   ]
  },
  {
   "cell_type": "markdown",
   "metadata": {
    "ExecuteTime": {
     "end_time": "2020-11-14T11:40:29.811046Z",
     "start_time": "2020-11-14T11:40:29.808054Z"
    }
   },
   "source": [
    "## Create Kernel & prepare datasets"
   ]
  },
  {
   "cell_type": "code",
   "execution_count": 15,
   "metadata": {
    "ExecuteTime": {
     "end_time": "2020-12-12T12:37:44.310731Z",
     "start_time": "2020-12-12T12:37:44.307085Z"
    }
   },
   "outputs": [],
   "source": [
    "#kernel\n",
    "kernel = RBF(length_scale= (length_scale[0] + length_scale[1])/2, length_scale_bounds=length_scale) \\\n",
    "        + WhiteKernel(noise_level= (lambda_range[0] + lambda_range[1])/2 , noise_level_bounds=lambda_range)\n"
   ]
  },
  {
   "cell_type": "code",
   "execution_count": 16,
   "metadata": {
    "ExecuteTime": {
     "end_time": "2020-12-12T12:37:44.623274Z",
     "start_time": "2020-12-12T12:37:44.613265Z"
    }
   },
   "outputs": [],
   "source": [
    "#generate drivers\n",
    "s_train = MaxCallStochasticModel(N_train,d,[1/12,11/12])\n",
    "s_train.generate_samples()\n",
    "s_test = MaxCallStochasticModel(N_test, d, [1/12,11/12])\n",
    "s_test.generate_samples()"
   ]
  },
  {
   "cell_type": "code",
   "execution_count": 17,
   "metadata": {
    "ExecuteTime": {
     "end_time": "2020-12-12T12:37:44.929454Z",
     "start_time": "2020-12-12T12:37:44.923434Z"
    }
   },
   "outputs": [
    {
     "data": {
      "text/plain": [
       "0.0793534441124991"
      ]
     },
     "execution_count": 17,
     "metadata": {},
     "output_type": "execute_result"
    }
   ],
   "source": [
    "#prepare datasets & values\n",
    "y_train = s_train.y\n",
    "X_train = s_train.X\n",
    "S_train = s_train.S\n",
    "\n",
    "y_test = s_test.y\n",
    "X_test = s_test.X\n",
    "S_test = s_test.S\n",
    "\n",
    "V_T = y_test  \n",
    "V_0 = s_test.generate_true_V(0)\n",
    "\n",
    "V_0= V_0.mean()\n",
    "V_0 # Average expected PROFIT!"
   ]
  },
  {
   "cell_type": "code",
   "execution_count": 18,
   "metadata": {
    "ExecuteTime": {
     "end_time": "2020-12-12T12:37:45.483958Z",
     "start_time": "2020-12-12T12:37:45.478948Z"
    }
   },
   "outputs": [
    {
     "data": {
      "text/plain": [
       "(50000, 1, 2)"
      ]
     },
     "execution_count": 18,
     "metadata": {},
     "output_type": "execute_result"
    }
   ],
   "source": [
    "X_test.shape"
   ]
  },
  {
   "cell_type": "markdown",
   "metadata": {
    "ExecuteTime": {
     "end_time": "2020-11-14T11:40:33.048462Z",
     "start_time": "2020-11-14T11:40:33.045471Z"
    }
   },
   "source": [
    "## Create Custom Models\n",
    "(to have more control of splitting etc)"
   ]
  },
  {
   "cell_type": "code",
   "execution_count": 19,
   "metadata": {
    "ExecuteTime": {
     "end_time": "2020-12-12T12:37:46.338683Z",
     "start_time": "2020-12-12T12:37:46.333661Z"
    }
   },
   "outputs": [
    {
     "data": {
      "text/plain": [
       "{'M': 11, 'predictor': None, 'train_size_alpha': 0.5}"
      ]
     },
     "execution_count": 19,
     "metadata": {},
     "output_type": "execute_result"
    }
   ],
   "source": [
    "from aggregating.models import SimpleBagger\n",
    "s = SimplePaster(11,0.5,None)\n",
    "s.get_params()"
   ]
  },
  {
   "cell_type": "markdown",
   "metadata": {},
   "source": [
    "## GridSearch\n",
    "\n",
    "nB: cannot use Scikit gridsearch as it performs CV and we want to have a different test set of a larger size!"
   ]
  },
  {
   "cell_type": "code",
   "execution_count": 20,
   "metadata": {
    "ExecuteTime": {
     "end_time": "2020-12-12T12:39:09.311798Z",
     "start_time": "2020-12-12T12:38:27.063795Z"
    }
   },
   "outputs": [
    {
     "name": "stdout",
     "output_type": "stream",
     "text": [
      " {'M': 1, 'train_size_alpha': 1.0} -> thread id = 18932\n",
      "{'M': 1, 'train_size_alpha': 1.0} , 0 -> 0.11407985929668751\n",
      "{'M': 1, 'train_size_alpha': 1.0} , 1 -> 0.17015733736962088\n",
      "{'M': 1, 'train_size_alpha': 1.0} , 2 -> 0.14168741965485387\n",
      "{'M': 1, 'train_size_alpha': 1.0} , 3 -> 0.12078310441440153\n",
      "{'M': 1, 'train_size_alpha': 1.0} , 4 -> 0.1439360532252084\n",
      "{'M': 1, 'train_size_alpha': 1.0} -> [0.11407985929668751, 0.17015733736962088, 0.14168741965485387, 0.12078310441440153, 0.1439360532252084]\n",
      "[0.11407985929668751, 0.17015733736962088, 0.14168741965485387, 0.12078310441440153, 0.1439360532252084]\n"
     ]
    }
   ],
   "source": [
    "#reference:\n",
    "from aggregating.gridsearch import create_logger, evaluate_model\n",
    "from aggregating.utils import flatten_X\n",
    "\n",
    "hyperparams= {'M':1, 'train_size_alpha':1.0} #baseline!\n",
    "model = GaussianProcessRegressor(kernel)\n",
    "reference_error = evaluate_model(model,hyperparams,flatten_X(X_train),y_train,1, [1/12,11/12],5,N_test,MaxCallStochasticModel,V_0)\n",
    "print(reference_error)"
   ]
  },
  {
   "cell_type": "code",
   "execution_count": 21,
   "metadata": {
    "ExecuteTime": {
     "end_time": "2020-12-12T12:39:25.241543Z",
     "start_time": "2020-12-12T12:39:25.237554Z"
    }
   },
   "outputs": [
    {
     "name": "stdout",
     "output_type": "stream",
     "text": [
      "0.13812875479215445\n"
     ]
    }
   ],
   "source": [
    "reference_error_mean = sum(reference_error)/len(reference_error)\n",
    "print(reference_error_mean)"
   ]
  },
  {
   "cell_type": "code",
   "execution_count": 22,
   "metadata": {
    "ExecuteTime": {
     "end_time": "2020-12-12T13:00:58.152809Z",
     "start_time": "2020-12-12T12:39:49.919605Z"
    }
   },
   "outputs": [
    {
     "name": "stdout",
     "output_type": "stream",
     "text": [
      " {'M': 1, 'train_size_alpha': 0.2} -> thread id = 24048\n",
      "fit\n",
      "(5000, 2)\n",
      " {'M': 1, 'train_size_alpha': 0.3} -> thread id = 16792\n",
      "fit\n",
      "(5000, 2)\n",
      " {'M': 1, 'train_size_alpha': 0.4} -> thread id = 1556\n",
      "fit\n",
      "(5000, 2)\n",
      " {'M': 1, 'train_size_alpha': 0.5} -> thread id = 9220\n",
      "fit\n",
      "(5000, 2)\n",
      " {'M': 3, 'train_size_alpha': 0.2} -> thread id = 7200\n",
      "fit\n",
      "(5000, 2)\n",
      " {'M': 3, 'train_size_alpha': 0.3} -> thread id = 10644\n",
      "fit\n",
      "(5000, 2)\n",
      " {'M': 3, 'train_size_alpha': 0.4} -> thread id = 22144\n",
      "fit\n",
      "(5000, 2)\n",
      " {'M': 3, 'train_size_alpha': 0.5} -> thread id = 25312\n",
      "fit\n",
      "(5000, 2)\n",
      " {'M': 5, 'train_size_alpha': 0.2} -> thread id = 6336\n",
      "fit\n",
      "(5000, 2)\n",
      " {'M': 5, 'train_size_alpha': 0.3} -> thread id = 6920\n",
      "fit\n",
      "(5000, 2)\n",
      "predict\n",
      "(50000, 2)\n",
      "predict\n",
      "(50000, 2)\n",
      "predict\n",
      "(50000, 2)\n",
      "predict\n",
      "(50000, 2)\n",
      "predict\n",
      "(50000, 2)\n",
      "predict\n",
      "(50000, 2)\n",
      "predict\n",
      "(50000, 2)\n",
      "predict\n",
      "(50000, 2)\n",
      "predict\n",
      "(50000, 2)\n",
      "{'M': 1, 'train_size_alpha': 0.2} , 0 -> 0.17313162277154423\n",
      "predict\n",
      "(50000, 2)\n",
      "{'M': 1, 'train_size_alpha': 0.3} , 0 -> 0.14230661457869873\n",
      "{'M': 1, 'train_size_alpha': 0.4} , 0 -> 0.16531525899052069\n",
      "predict\n",
      "(50000, 2)\n",
      "predict\n",
      "(50000, 2)\n",
      "predict\n",
      "(50000, 2)\n",
      "{'M': 1, 'train_size_alpha': 0.5} , 0 -> 0.1759600573308805\n",
      "predict\n",
      "(50000, 2)\n",
      "{'M': 1, 'train_size_alpha': 0.2} , 1 -> 0.16497798921559212\n",
      "predict\n",
      "(50000, 2)\n",
      "{'M': 1, 'train_size_alpha': 0.3} , 1 -> 0.14649089164607434\n",
      "predict\n",
      "(50000, 2)\n",
      "{'M': 1, 'train_size_alpha': 0.4} , 1 -> 0.15545160203724145\n",
      "predict\n",
      "(50000, 2)\n",
      "{'M': 3, 'train_size_alpha': 0.2} , 0 -> 0.13642943126886284\n",
      "{'M': 1, 'train_size_alpha': 0.2} , 2 -> 0.15026579685216493\n",
      "{'M': 1, 'train_size_alpha': 0.2} -> [0.17313162277154423, 0.16497798921559212, 0.15026579685216493]\n",
      " {'M': 5, 'train_size_alpha': 0.4} -> thread id = 24048logger {'M': 1, 'train_size_alpha': 0.2}, -> [0.17313162277154423, 0.16497798921559212, 0.15026579685216493]\n",
      "\n",
      "fit\n",
      "(5000, 2)\n",
      "predict\n",
      "(50000, 2)\n",
      "{'M': 1, 'train_size_alpha': 0.5} , 1 -> 0.1994861258830614\n",
      "predict\n",
      "(50000, 2)\n",
      "{'M': 1, 'train_size_alpha': 0.3} , 2 -> 0.14420283680613388\n",
      "{'M': 1, 'train_size_alpha': 0.3} -> [0.14230661457869873, 0.14649089164607434, 0.14420283680613388]\n",
      " {'M': 5, 'train_size_alpha': 0.5} -> thread id = 16792logger {'M': 1, 'train_size_alpha': 0.3}, -> [0.14230661457869873, 0.14649089164607434, 0.14420283680613388]\n",
      "\n",
      "fit\n",
      "(5000, 2)\n",
      "{'M': 3, 'train_size_alpha': 0.3} , 0 -> 0.13062818869859988\n",
      "{'M': 1, 'train_size_alpha': 0.4} , 2 -> 0.16018577507479276\n",
      "{'M': 1, 'train_size_alpha': 0.4} -> [0.16531525899052069, 0.15545160203724145, 0.16018577507479276]\n",
      " {'M': 7, 'train_size_alpha': 0.2} -> thread id = 1556\n",
      "fit\n",
      "logger {'M': 1, 'train_size_alpha': 0.4}, -> [0.16531525899052069, 0.15545160203724145, 0.16018577507479276](5000, 2)\n",
      "\n",
      "predict\n",
      "(50000, 2)\n",
      "{'M': 3, 'train_size_alpha': 0.4} , 0 -> 0.1292525674532447\n",
      "{'M': 1, 'train_size_alpha': 0.5} , 2 -> 0.1992896932962792\n",
      "{'M': 1, 'train_size_alpha': 0.5} -> [0.1759600573308805, 0.1994861258830614, 0.1992896932962792]\n",
      " {'M': 7, 'train_size_alpha': 0.3} -> thread id = 9220\n",
      "logger {'M': 1, 'train_size_alpha': 0.5}, -> [0.1759600573308805, 0.1994861258830614, 0.1992896932962792]fit\n",
      "(5000, 2)\n",
      "\n",
      "predict\n",
      "(50000, 2)\n",
      "{'M': 5, 'train_size_alpha': 0.2} , 0 -> 0.13380715090211048\n",
      "{'M': 3, 'train_size_alpha': 0.5} , 0 -> 0.17148612183451814\n",
      "{'M': 3, 'train_size_alpha': 0.2} , 1 -> 0.15689000015939233\n",
      "{'M': 5, 'train_size_alpha': 0.3} , 0 -> 0.13645937963186455\n",
      "predict\n",
      "(50000, 2)\n",
      "{'M': 3, 'train_size_alpha': 0.3} , 1 -> 0.15536313745500147\n",
      "predict\n",
      "(50000, 2)\n",
      "predict\n",
      "(50000, 2)\n",
      "predict\n",
      "(50000, 2)\n",
      "predict\n",
      "(50000, 2)\n",
      "{'M': 3, 'train_size_alpha': 0.4} , 1 -> 0.13830215423237757\n",
      "predict\n",
      "(50000, 2)\n",
      "predict\n",
      "(50000, 2)\n",
      "{'M': 3, 'train_size_alpha': 0.2} , 2 -> 0.1486794899982699\n",
      "{'M': 3, 'train_size_alpha': 0.2} -> [0.13642943126886284, 0.15689000015939233, 0.1486794899982699]\n",
      " {'M': 7, 'train_size_alpha': 0.4} -> thread id = 7200logger {'M': 3, 'train_size_alpha': 0.2}, -> [0.13642943126886284, 0.15689000015939233, 0.1486794899982699]\n",
      "\n",
      "fit\n",
      "(5000, 2)\n",
      "predict\n",
      "(50000, 2)\n",
      "{'M': 5, 'train_size_alpha': 0.2} , 1 -> 0.14186233076331578\n",
      "{'M': 3, 'train_size_alpha': 0.3} , 2 -> 0.15633229676296412\n",
      "{'M': 3, 'train_size_alpha': 0.3} -> [0.13062818869859988, 0.15536313745500147, 0.15633229676296412]\n",
      " {'M': 7, 'train_size_alpha': 0.5} -> thread id = 10644\n",
      "fit\n",
      "(5000, 2)logger {'M': 3, 'train_size_alpha': 0.3}, -> [0.13062818869859988, 0.15536313745500147, 0.15633229676296412]\n",
      "\n",
      "predict\n",
      "(50000, 2)\n",
      "{'M': 3, 'train_size_alpha': 0.5} , 1 -> 0.18341087274789733\n",
      "predict\n",
      "(50000, 2)\n",
      "{'M': 5, 'train_size_alpha': 0.3} , 1 -> 0.1394214424260486\n",
      "{'M': 3, 'train_size_alpha': 0.4} , 2 -> 0.15658628349200046\n",
      "{'M': 3, 'train_size_alpha': 0.4} -> [0.1292525674532447, 0.13830215423237757, 0.15658628349200046]\n",
      " {'M': 9, 'train_size_alpha': 0.2} -> thread id = 22144\n",
      "fitlogger {'M': 3, 'train_size_alpha': 0.4}, -> [0.1292525674532447, 0.13830215423237757, 0.15658628349200046]\n",
      "\n",
      "(5000, 2)\n",
      "predict\n",
      "(50000, 2)\n",
      "predict\n",
      "(50000, 2)\n",
      "{'M': 5, 'train_size_alpha': 0.4} , 0 -> 0.12057771158354585\n",
      "{'M': 3, 'train_size_alpha': 0.5} , 2 -> 0.19139431753290292\n",
      "{'M': 3, 'train_size_alpha': 0.5} -> [0.17148612183451814, 0.18341087274789733, 0.19139431753290292]\n",
      " {'M': 9, 'train_size_alpha': 0.3} -> thread id = 25312logger {'M': 3, 'train_size_alpha': 0.5}, -> [0.17148612183451814, 0.18341087274789733, 0.19139431753290292]\n",
      "\n",
      "fit\n",
      "(5000, 2)\n",
      "{'M': 5, 'train_size_alpha': 0.2} , 2 -> 0.13301585943766128\n",
      "{'M': 5, 'train_size_alpha': 0.2} -> [0.13380715090211048, 0.14186233076331578, 0.13301585943766128]\n",
      " {'M': 9, 'train_size_alpha': 0.4} -> thread id = 6336logger {'M': 5, 'train_size_alpha': 0.2}, -> [0.13380715090211048, 0.14186233076331578, 0.13301585943766128]\n",
      "\n",
      "fit\n",
      "(5000, 2)\n",
      "predict\n",
      "(50000, 2)\n",
      "predict\n",
      "(50000, 2)\n",
      "{'M': 5, 'train_size_alpha': 0.3} , 2 -> 0.14218394304753457\n",
      "{'M': 5, 'train_size_alpha': 0.3} -> [0.13645937963186455, 0.1394214424260486, 0.14218394304753457]\n",
      " {'M': 9, 'train_size_alpha': 0.5} -> thread id = 6920logger {'M': 5, 'train_size_alpha': 0.3}, -> [0.13645937963186455, 0.1394214424260486, 0.14218394304753457]\n",
      "\n",
      "fit\n",
      "(5000, 2)\n",
      "{'M': 7, 'train_size_alpha': 0.3} , 0 -> 0.13001217916542782\n",
      "predict\n",
      "(50000, 2)\n",
      "predict\n",
      "(50000, 2)\n",
      "{'M': 5, 'train_size_alpha': 0.5} , 0 -> 0.14838034927019356\n",
      "{'M': 5, 'train_size_alpha': 0.4} , 1 -> 0.13042472319155599\n",
      "predict\n",
      "(50000, 2)\n",
      "{'M': 7, 'train_size_alpha': 0.2} , 0 -> 0.13368823779470074\n",
      "predict\n",
      "(50000, 2)\n",
      "predict\n",
      "(50000, 2)\n",
      "predict\n",
      "(50000, 2)\n",
      "predict\n",
      "(50000, 2)\n",
      "{'M': 7, 'train_size_alpha': 0.3} , 1 -> 0.1470942819198426\n",
      "predict\n",
      "(50000, 2)\n",
      "predict\n",
      "(50000, 2)\n",
      "predict\n",
      "(50000, 2)\n",
      "{'M': 7, 'train_size_alpha': 0.4} , 0 -> 0.1257406416310567\n",
      "predict\n",
      "(50000, 2)\n",
      "{'M': 7, 'train_size_alpha': 0.2} , 1 -> 0.1478410918711787\n",
      "predict\n",
      "(50000, 2)\n",
      "{'M': 5, 'train_size_alpha': 0.4} , 2 -> 0.14003113831483696\n",
      "{'M': 5, 'train_size_alpha': 0.4} -> [0.12057771158354585, 0.13042472319155599, 0.14003113831483696]\n",
      "logger {'M': 5, 'train_size_alpha': 0.4}, -> [0.12057771158354585, 0.13042472319155599, 0.14003113831483696]\n",
      "{'M': 5, 'train_size_alpha': 0.5} , 1 -> 0.16368195874464792\n",
      "predict\n",
      "(50000, 2)\n",
      "{'M': 9, 'train_size_alpha': 0.2} , 0 -> 0.13499191037632174\n",
      "predict\n",
      "(50000, 2)\n",
      "{'M': 7, 'train_size_alpha': 0.3} , 2 -> 0.15111931285766894\n",
      "{'M': 7, 'train_size_alpha': 0.3} -> [0.13001217916542782, 0.1470942819198426, 0.15111931285766894]\n",
      "logger {'M': 7, 'train_size_alpha': 0.3}, -> [0.13001217916542782, 0.1470942819198426, 0.15111931285766894]\n",
      "{'M': 9, 'train_size_alpha': 0.3} , 0 -> 0.12420675451193182\n",
      "predict\n",
      "(50000, 2)\n",
      "predict\n",
      "(50000, 2)\n",
      "{'M': 7, 'train_size_alpha': 0.2} , 2 -> 0.1404768232551456\n",
      "{'M': 7, 'train_size_alpha': 0.2} -> [0.13368823779470074, 0.1478410918711787, 0.1404768232551456]\n",
      "logger {'M': 7, 'train_size_alpha': 0.2}, -> [0.13368823779470074, 0.1478410918711787, 0.1404768232551456]\n",
      "{'M': 7, 'train_size_alpha': 0.4} , 1 -> 0.14145635363167186\n",
      "predict\n",
      "(50000, 2)\n",
      "{'M': 5, 'train_size_alpha': 0.5} , 2 -> 0.17362761812831312\n",
      "{'M': 5, 'train_size_alpha': 0.5} -> [0.14838034927019356, 0.16368195874464792, 0.17362761812831312]\n",
      "logger {'M': 5, 'train_size_alpha': 0.5}, -> [0.14838034927019356, 0.16368195874464792, 0.17362761812831312]\n",
      "{'M': 7, 'train_size_alpha': 0.5} , 0 -> 0.15436706724343133\n",
      "predict\n",
      "(50000, 2)\n",
      "{'M': 9, 'train_size_alpha': 0.4} , 0 -> 0.11861174035974081\n"
     ]
    },
    {
     "name": "stdout",
     "output_type": "stream",
     "text": [
      "predict\n",
      "(50000, 2)\n",
      "{'M': 9, 'train_size_alpha': 0.2} , 1 -> 0.14808594389678825\n",
      "predict\n",
      "(50000, 2)\n",
      "{'M': 9, 'train_size_alpha': 0.3} , 1 -> 0.1383183700522313\n",
      "predict\n",
      "(50000, 2)\n",
      "{'M': 7, 'train_size_alpha': 0.4} , 2 -> 0.15155438098391716\n",
      "{'M': 7, 'train_size_alpha': 0.4} -> [0.1257406416310567, 0.14145635363167186, 0.15155438098391716]\n",
      "logger {'M': 7, 'train_size_alpha': 0.4}, -> [0.1257406416310567, 0.14145635363167186, 0.15155438098391716]\n",
      "{'M': 7, 'train_size_alpha': 0.5} , 1 -> 0.168526417566288\n",
      "{'M': 9, 'train_size_alpha': 0.2} , 2 -> 0.14046566034159885\n",
      "{'M': 9, 'train_size_alpha': 0.2} -> [0.13499191037632174, 0.14808594389678825, 0.14046566034159885]\n",
      "logger {'M': 9, 'train_size_alpha': 0.2}, -> [0.13499191037632174, 0.14808594389678825, 0.14046566034159885]\n",
      "predict\n",
      "(50000, 2)\n",
      "{'M': 9, 'train_size_alpha': 0.5} , 0 -> 0.14179389360791866\n",
      "predict\n",
      "(50000, 2)\n",
      "{'M': 9, 'train_size_alpha': 0.4} , 1 -> 0.12642598606187117\n",
      "predict\n",
      "(50000, 2)\n",
      "{'M': 9, 'train_size_alpha': 0.3} , 2 -> 0.14261537409352754\n",
      "{'M': 9, 'train_size_alpha': 0.3} -> [0.12420675451193182, 0.1383183700522313, 0.14261537409352754]\n",
      "logger {'M': 9, 'train_size_alpha': 0.3}, -> [0.12420675451193182, 0.1383183700522313, 0.14261537409352754]\n",
      "{'M': 7, 'train_size_alpha': 0.5} , 2 -> 0.17725963897083497\n",
      "{'M': 7, 'train_size_alpha': 0.5} -> [0.15436706724343133, 0.168526417566288, 0.17725963897083497]\n",
      "logger {'M': 7, 'train_size_alpha': 0.5}, -> [0.15436706724343133, 0.168526417566288, 0.17725963897083497]\n",
      "{'M': 9, 'train_size_alpha': 0.5} , 1 -> 0.15177186249635877\n",
      "predict\n",
      "(50000, 2)\n",
      "{'M': 9, 'train_size_alpha': 0.4} , 2 -> 0.13622762371727426\n",
      "{'M': 9, 'train_size_alpha': 0.4} -> [0.11861174035974081, 0.12642598606187117, 0.13622762371727426]\n",
      "logger {'M': 9, 'train_size_alpha': 0.4}, -> [0.11861174035974081, 0.12642598606187117, 0.13622762371727426]\n",
      "{'M': 9, 'train_size_alpha': 0.5} , 2 -> 0.16283128856054432\n",
      "{'M': 9, 'train_size_alpha': 0.5} -> [0.14179389360791866, 0.15177186249635877, 0.16283128856054432]\n",
      "logger {'M': 9, 'train_size_alpha': 0.5}, -> [0.14179389360791866, 0.15177186249635877, 0.16283128856054432]\n"
     ]
    }
   ],
   "source": [
    "from multiprocessing import  cpu_count,current_process\n",
    "from multiprocessing.pool import ThreadPool\n",
    "import functools\n",
    "import threading\n",
    "\n",
    "from aggregating.gridsearch import create_logger, evaluate_model\n",
    "from aggregating.utils import flatten_X\n",
    "\n",
    "# GRIDSEARCH PARAMS\n",
    "model = SimpleBagger(0,0,GaussianProcessRegressor(kernel,copy_X_train=False))\n",
    "trials = 3\n",
    "M_grid = [1,3,5,7,9]\n",
    "alpha_grid = [0.2,0.3,0.4,0.5]\n",
    "results = []\n",
    "\n",
    "### ACTUAL GRIDSEARCH\n",
    "pool = ThreadPool(cpu_count()-2) #no allocation issues with mem_efficient_prediction\n",
    "for m in M_grid:\n",
    "    for alpha in alpha_grid:\n",
    "        hyperparams= {'M':m, 'train_size_alpha':alpha}\n",
    "        pool.apply_async(evaluate_model, args=(model,hyperparams,flatten_X(X_train),y_train,1, [1/12,11/12],trials,N_test,MaxCallStochasticModel,V_0,None,[2020,2021,2022]),callback = create_logger(hyperparams,results))\n",
    "pool.close()\n",
    "pool.join()\n",
    "\n"
   ]
  },
  {
   "cell_type": "code",
   "execution_count": 23,
   "metadata": {
    "ExecuteTime": {
     "end_time": "2020-12-12T13:00:58.164744Z",
     "start_time": "2020-12-12T13:00:58.154771Z"
    }
   },
   "outputs": [
    {
     "name": "stdout",
     "output_type": "stream",
     "text": [
      "[1, 0.2, [0.17313162277154423, 0.16497798921559212, 0.15026579685216493]]\n",
      "[1, 0.3, [0.14230661457869873, 0.14649089164607434, 0.14420283680613388]]\n",
      "[1, 0.4, [0.16531525899052069, 0.15545160203724145, 0.16018577507479276]]\n",
      "[1, 0.5, [0.1759600573308805, 0.1994861258830614, 0.1992896932962792]]\n",
      "[3, 0.2, [0.13642943126886284, 0.15689000015939233, 0.1486794899982699]]\n",
      "[3, 0.3, [0.13062818869859988, 0.15536313745500147, 0.15633229676296412]]\n",
      "[3, 0.4, [0.1292525674532447, 0.13830215423237757, 0.15658628349200046]]\n",
      "[3, 0.5, [0.17148612183451814, 0.18341087274789733, 0.19139431753290292]]\n",
      "[5, 0.2, [0.13380715090211048, 0.14186233076331578, 0.13301585943766128]]\n",
      "[5, 0.3, [0.13645937963186455, 0.1394214424260486, 0.14218394304753457]]\n",
      "[5, 0.4, [0.12057771158354585, 0.13042472319155599, 0.14003113831483696]]\n",
      "[7, 0.3, [0.13001217916542782, 0.1470942819198426, 0.15111931285766894]]\n",
      "[7, 0.2, [0.13368823779470074, 0.1478410918711787, 0.1404768232551456]]\n",
      "[5, 0.5, [0.14838034927019356, 0.16368195874464792, 0.17362761812831312]]\n",
      "[7, 0.4, [0.1257406416310567, 0.14145635363167186, 0.15155438098391716]]\n",
      "[9, 0.2, [0.13499191037632174, 0.14808594389678825, 0.14046566034159885]]\n",
      "[9, 0.3, [0.12420675451193182, 0.1383183700522313, 0.14261537409352754]]\n",
      "[7, 0.5, [0.15436706724343133, 0.168526417566288, 0.17725963897083497]]\n",
      "[9, 0.4, [0.11861174035974081, 0.12642598606187117, 0.13622762371727426]]\n",
      "[9, 0.5, [0.14179389360791866, 0.15177186249635877, 0.16283128856054432]]\n",
      "(5, 4, 3)\n",
      "[[[0.17313162 0.16497799 0.1502658 ]\n",
      "  [0.14230661 0.14649089 0.14420284]\n",
      "  [0.16531526 0.1554516  0.16018578]\n",
      "  [0.17596006 0.19948613 0.19928969]]\n",
      "\n",
      " [[0.13642943 0.15689    0.14867949]\n",
      "  [0.13062819 0.15536314 0.1563323 ]\n",
      "  [0.12925257 0.13830215 0.15658628]\n",
      "  [0.17148612 0.18341087 0.19139432]]\n",
      "\n",
      " [[0.13380715 0.14186233 0.13301586]\n",
      "  [0.13645938 0.13942144 0.14218394]\n",
      "  [0.12057771 0.13042472 0.14003114]\n",
      "  [0.14838035 0.16368196 0.17362762]]\n",
      "\n",
      " [[0.13368824 0.14784109 0.14047682]\n",
      "  [0.13001218 0.14709428 0.15111931]\n",
      "  [0.12574064 0.14145635 0.15155438]\n",
      "  [0.15436707 0.16852642 0.17725964]]\n",
      "\n",
      " [[0.13499191 0.14808594 0.14046566]\n",
      "  [0.12420675 0.13831837 0.14261537]\n",
      "  [0.11861174 0.12642599 0.13622762]\n",
      "  [0.14179389 0.15177186 0.16283129]]]\n"
     ]
    }
   ],
   "source": [
    "converted_results = np.ones((len(M_grid),len(alpha_grid),trials))*(-1)\n",
    "for item in results:\n",
    "    print(item)\n",
    "    converted_results[M_grid.index(item[0]),alpha_grid.index(item[1])] = item[2]\n",
    "\n",
    "print(converted_results.shape)\n",
    "print(converted_results)"
   ]
  },
  {
   "cell_type": "code",
   "execution_count": 24,
   "metadata": {
    "ExecuteTime": {
     "end_time": "2020-12-12T13:00:58.176712Z",
     "start_time": "2020-12-12T13:00:58.167737Z"
    }
   },
   "outputs": [
    {
     "data": {
      "text/plain": [
       "(5, 4)"
      ]
     },
     "execution_count": 24,
     "metadata": {},
     "output_type": "execute_result"
    }
   ],
   "source": [
    "masked_results= np.ma.masked_where(converted_results <= 0.0,converted_results) # some runs have been aborted every now and then -> filter them out\n",
    "means = masked_results.mean(axis=2)\n",
    "sigmas = masked_results.std(axis=2)\n",
    "means.shape"
   ]
  },
  {
   "cell_type": "code",
   "execution_count": 31,
   "metadata": {
    "ExecuteTime": {
     "end_time": "2020-12-12T13:17:42.567728Z",
     "start_time": "2020-12-12T13:17:42.376204Z"
    }
   },
   "outputs": [
    {
     "data": {
      "image/png": "[encoded data removed]",
      "text/plain": [
       "<Figure size 432x288 with 1 Axes>"
      ]
     },
     "metadata": {
      "needs_background": "light"
     },
     "output_type": "display_data"
    }
   ],
   "source": [
    "plt.hlines(reference_error_mean,xmin=M_grid[0],xmax=M_grid[-1],linestyles='dashed',label=\"reference error\")\n",
    "\n",
    "for i in range(len(alpha_grid)):\n",
    "    plt.errorbar(np.array(M_grid),means[:,i],sigmas[:,i],marker ='o',label = f\"alpha = {alpha_grid[i]}\")\n",
    "plt.title(f\"Pasting Normalized error: N_train = {N_train}, d= {d}, N_test= {N_test}\")\n",
    "plt.xlabel(\"M\")\n",
    "plt.xticks(M_grid)\n",
    "plt.ylabel(\"normalized error\")\n",
    "plt.legend()\n",
    "plt.savefig(\"hard_pasting.png\")\n",
    "plt.show()"
   ]
  },
  {
   "cell_type": "markdown",
   "metadata": {},
   "source": [
    "\n"
   ]
  },
  {
   "cell_type": "markdown",
   "metadata": {
    "ExecuteTime": {
     "end_time": "2020-11-15T17:54:08.608678Z",
     "start_time": "2020-11-15T17:54:08.603664Z"
    }
   },
   "source": [
    "## Store results"
   ]
  },
  {
   "cell_type": "code",
   "execution_count": 29,
   "metadata": {
    "ExecuteTime": {
     "end_time": "2020-12-12T13:02:51.649614Z",
     "start_time": "2020-12-12T13:02:51.646623Z"
    }
   },
   "outputs": [],
   "source": [
    "res_dict = {'N_train': N_train, 'N_test': N_test,'mgrid': M_grid, 'alpha_grid': alpha_grid, 'errors': converted_results.tolist()}"
   ]
  },
  {
   "cell_type": "code",
   "execution_count": 30,
   "metadata": {
    "ExecuteTime": {
     "end_time": "2020-12-12T13:02:52.541235Z",
     "start_time": "2020-12-12T13:02:52.536216Z"
    }
   },
   "outputs": [],
   "source": [
    "import json\n",
    "import datetime\n",
    "with open(f'hard_pasting{str(datetime.date.today())}.json', 'w') as fp:\n",
    "    json.dump(res_dict, fp)"
   ]
  },
  {
   "cell_type": "code",
   "execution_count": 34,
   "metadata": {
    "ExecuteTime": {
     "end_time": "2020-12-12T14:46:13.480947Z",
     "start_time": "2020-12-12T14:46:13.473928Z"
    }
   },
   "outputs": [
    {
     "data": {
      "text/plain": [
       "array([[[0.17313162, 0.16497799, 0.1502658 ],\n",
       "        [0.14230661, 0.14649089, 0.14420284],\n",
       "        [0.16531526, 0.1554516 , 0.16018578],\n",
       "        [0.17596006, 0.19948613, 0.19928969]],\n",
       "\n",
       "       [[0.13642943, 0.15689   , 0.14867949],\n",
       "        [0.13062819, 0.15536314, 0.1563323 ],\n",
       "        [0.12925257, 0.13830215, 0.15658628],\n",
       "        [0.17148612, 0.18341087, 0.19139432]],\n",
       "\n",
       "       [[0.13380715, 0.14186233, 0.13301586],\n",
       "        [0.13645938, 0.13942144, 0.14218394],\n",
       "        [0.12057771, 0.13042472, 0.14003114],\n",
       "        [0.14838035, 0.16368196, 0.17362762]],\n",
       "\n",
       "       [[0.13368824, 0.14784109, 0.14047682],\n",
       "        [0.13001218, 0.14709428, 0.15111931],\n",
       "        [0.12574064, 0.14145635, 0.15155438],\n",
       "        [0.15436707, 0.16852642, 0.17725964]],\n",
       "\n",
       "       [[0.13499191, 0.14808594, 0.14046566],\n",
       "        [0.12420675, 0.13831837, 0.14261537],\n",
       "        [0.11861174, 0.12642599, 0.13622762],\n",
       "        [0.14179389, 0.15177186, 0.16283129]]])"
      ]
     },
     "execution_count": 34,
     "metadata": {},
     "output_type": "execute_result"
    }
   ],
   "source": [
    "converted_results"
   ]
  },
  {
   "cell_type": "code",
   "execution_count": null,
   "metadata": {},
   "outputs": [],
   "source": []
  }
 ],
 "metadata": {
  "kernelspec": {
   "display_name": "Python 3",
   "language": "python",
   "name": "python3"
  },
  "language_info": {
   "codemirror_mode": {
    "name": "ipython",
    "version": 3
   },
   "file_extension": ".py",
   "mimetype": "text/x-python",
   "name": "python",
   "nbconvert_exporter": "python",
   "pygments_lexer": "ipython3",
   "version": "3.7.5"
  },
  "toc": {
   "base_numbering": 1,
   "nav_menu": {},
   "number_sections": true,
   "sideBar": true,
   "skip_h1_title": false,
   "title_cell": "Table of Contents",
   "title_sidebar": "Contents",
   "toc_cell": false,
   "toc_position": {},
   "toc_section_display": true,
   "toc_window_display": false
  }
 },
 "nbformat": 4,
 "nbformat_minor": 2
}
