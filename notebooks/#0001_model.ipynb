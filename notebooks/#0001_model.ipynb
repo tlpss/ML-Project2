{
 "cells": [
  {
   "cell_type": "code",
   "execution_count": 3,
   "metadata": {
    "ExecuteTime": {
     "end_time": "2020-12-16T22:39:36.147912Z",
     "start_time": "2020-12-16T22:39:36.141916Z"
    }
   },
   "outputs": [],
   "source": [
    "import numpy as np\n",
    "import random\n",
    "import matplotlib.pyplot as plt\n",
    "from sklearn.gaussian_process import GaussianProcessRegressor\n",
    "from sklearn.gaussian_process.kernels import RBF, WhiteKernel\n",
    "# add project root folder to path to allow import local modules\n",
    "import os\n",
    "import sys\n",
    "module_path = os.path.abspath(os.path.join('..'))\n",
    "if module_path not in sys.path:\n",
    "    sys.path.append(module_path)\n",
    "# import local modules\n",
    "from stochastic_models import *\n",
    "from visualisations import *"
   ]
  },
  {
   "cell_type": "code",
   "execution_count": 4,
   "metadata": {
    "ExecuteTime": {
     "end_time": "2020-12-16T22:39:36.432188Z",
     "start_time": "2020-12-16T22:39:36.428197Z"
    }
   },
   "outputs": [],
   "source": [
    "np.random.seed(2020)"
   ]
  },
  {
   "cell_type": "markdown",
   "metadata": {},
   "source": [
    "## Model Parameters"
   ]
  },
  {
   "cell_type": "code",
   "execution_count": 5,
   "metadata": {
    "ExecuteTime": {
     "end_time": "2020-12-16T22:39:36.977728Z",
     "start_time": "2020-12-16T22:39:36.973736Z"
    }
   },
   "outputs": [],
   "source": [
    "N_train = 2000\n",
    "N_test = 10000\n",
    "d = 1\n",
    "T = 2\n"
   ]
  },
  {
   "cell_type": "code",
   "execution_count": 6,
   "metadata": {
    "ExecuteTime": {
     "end_time": "2020-12-16T22:39:37.304880Z",
     "start_time": "2020-12-16T22:39:37.300887Z"
    }
   },
   "outputs": [],
   "source": [
    "lambda_range = (N_train*1e-9 , N_train*1e-3)\n",
    "alpha_range = (8.3*1e-5, 0.83)\n",
    "length_scale = np.sort(1/np.sqrt((2*alpha_range[0], 2*alpha_range[1])))"
   ]
  },
  {
   "cell_type": "code",
   "execution_count": 7,
   "metadata": {
    "ExecuteTime": {
     "end_time": "2020-12-16T22:39:37.619706Z",
     "start_time": "2020-12-16T22:39:37.614688Z"
    }
   },
   "outputs": [],
   "source": [
    "def reconstruct_alpha(length_scale):\n",
    "    return 1/(2*(length_scale**2))\n",
    "def reconstruct_lambda(noise_level, N):\n",
    "    return noise_level/N"
   ]
  },
  {
   "cell_type": "markdown",
   "metadata": {},
   "source": [
    "## Kernel Construction"
   ]
  },
  {
   "cell_type": "code",
   "execution_count": 8,
   "metadata": {
    "ExecuteTime": {
     "end_time": "2020-12-16T22:39:38.232033Z",
     "start_time": "2020-12-16T22:39:38.228045Z"
    }
   },
   "outputs": [],
   "source": [
    "#Kernel Construction, doubt on the lambda hyperparameter\n",
    "kernel = RBF(length_scale= (length_scale[0] + length_scale[1])/2, length_scale_bounds=length_scale) \\\n",
    "        + WhiteKernel(noise_level= (lambda_range[0] + lambda_range[1])/2 , noise_level_bounds=lambda_range)\n"
   ]
  },
  {
   "cell_type": "markdown",
   "metadata": {},
   "source": [
    "## Data Generation (Test, Train sets)"
   ]
  },
  {
   "cell_type": "code",
   "execution_count": 9,
   "metadata": {
    "ExecuteTime": {
     "end_time": "2020-12-16T22:39:38.808957Z",
     "start_time": "2020-12-16T22:39:38.802019Z"
    }
   },
   "outputs": [],
   "source": [
    "s_train = MaxCallStochasticModel(N_train,d,[1/12,11/12])\n",
    "s_train.generate_samples()\n",
    "s_test = MaxCallStochasticModel(N_test, d, [1/12,11/12])\n",
    "s_test.generate_samples()"
   ]
  },
  {
   "cell_type": "code",
   "execution_count": 10,
   "metadata": {
    "ExecuteTime": {
     "end_time": "2020-12-16T22:39:39.141156Z",
     "start_time": "2020-12-16T22:39:39.139123Z"
    }
   },
   "outputs": [],
   "source": [
    "y_train = s_train.y\n",
    "X_train = s_train.X\n",
    "S_train = s_train.S\n",
    "\n"
   ]
  },
  {
   "cell_type": "code",
   "execution_count": 11,
   "metadata": {
    "ExecuteTime": {
     "end_time": "2020-12-16T22:39:39.449939Z",
     "start_time": "2020-12-16T22:39:39.442909Z"
    }
   },
   "outputs": [
    {
     "data": {
      "text/plain": [
       "0.07892604992843537"
      ]
     },
     "execution_count": 11,
     "metadata": {},
     "output_type": "execute_result"
    }
   ],
   "source": [
    "y_test = s_test.y\n",
    "X_test = s_test.X\n",
    "S_test = s_test.S\n",
    "\n",
    "V_T = s_test.generate_true_V(T)\n",
    "V_0 = s_test.generate_true_V(0)\n",
    "\n",
    "V_0= V_0.mean()\n",
    "V_0 # Average expected PROFIT!"
   ]
  },
  {
   "cell_type": "markdown",
   "metadata": {},
   "source": [
    "## Data Flattening "
   ]
  },
  {
   "cell_type": "code",
   "execution_count": 12,
   "metadata": {
    "ExecuteTime": {
     "end_time": "2020-12-16T22:39:40.084224Z",
     "start_time": "2020-12-16T22:39:40.080270Z"
    }
   },
   "outputs": [],
   "source": [
    "def Flatten_Training_Sample(X , f):\n",
    "    return np.array([f(x) for x in X])"
   ]
  },
  {
   "cell_type": "code",
   "execution_count": 13,
   "metadata": {
    "ExecuteTime": {
     "end_time": "2020-12-16T22:39:40.372988Z",
     "start_time": "2020-12-16T22:39:40.328603Z"
    }
   },
   "outputs": [],
   "source": [
    "#Shape of each sample j: [X_j[0,0],... ,X_j[d,0],...,X_j[0,T] , ..., X_j[d,T]]\n",
    "Flatten_X_1_train = Flatten_Training_Sample(X_train, lambda x : x.T.flatten())\n",
    "Flatten_X_1_test = Flatten_Training_Sample(X_test, lambda x : x.T.flatten())\n",
    "\n",
    "\n",
    "#Shape of each sample j: [X_j[0,0],... ,X_j[0,T],...,X_j[d,0] , ..., X_j[d,T]]\n",
    "Flatten_X_2_train = Flatten_Training_Sample(X_train, lambda x : x.flatten())\n",
    "Flatten_X_2_test = Flatten_Training_Sample(X_test, lambda x : x.flatten())"
   ]
  },
  {
   "cell_type": "code",
   "execution_count": 14,
   "metadata": {
    "ExecuteTime": {
     "end_time": "2020-12-16T22:39:40.623298Z",
     "start_time": "2020-12-16T22:39:40.619304Z"
    }
   },
   "outputs": [
    {
     "data": {
      "text/plain": [
       "(2000, 2)"
      ]
     },
     "execution_count": 14,
     "metadata": {},
     "output_type": "execute_result"
    }
   ],
   "source": [
    "Flatten_X_1_train.shape"
   ]
  },
  {
   "cell_type": "code",
   "execution_count": 15,
   "metadata": {
    "ExecuteTime": {
     "end_time": "2020-12-16T22:39:40.950448Z",
     "start_time": "2020-12-16T22:39:40.946461Z"
    }
   },
   "outputs": [
    {
     "data": {
      "text/plain": [
       "(10000, 2)"
      ]
     },
     "execution_count": 15,
     "metadata": {},
     "output_type": "execute_result"
    }
   ],
   "source": [
    "Flatten_X_1_test.shape"
   ]
  },
  {
   "cell_type": "markdown",
   "metadata": {},
   "source": [
    "## Model Fitting"
   ]
  },
  {
   "cell_type": "code",
   "execution_count": 20,
   "metadata": {
    "ExecuteTime": {
     "end_time": "2020-12-16T22:40:22.075255Z",
     "start_time": "2020-12-16T22:40:14.437699Z"
    }
   },
   "outputs": [],
   "source": [
    "#Model with Flatten_X_1\n",
    "m_1 = GaussianProcessRegressor(kernel)\n",
    "m_1.fit(Flatten_X_1_train,y_train)\n",
    "fX_1 = m_1.predict(Flatten_X_1_test)"
   ]
  },
  {
   "cell_type": "code",
   "execution_count": 21,
   "metadata": {
    "ExecuteTime": {
     "end_time": "2020-12-16T22:40:29.947895Z",
     "start_time": "2020-12-16T22:40:22.076252Z"
    }
   },
   "outputs": [],
   "source": [
    "#Model with Flatten_X_2\n",
    "m_2 = GaussianProcessRegressor(kernel)\n",
    "m_2.fit(Flatten_X_2_train, y_train)\n",
    "fX_2 = m_2.predict(Flatten_X_2_test)"
   ]
  },
  {
   "cell_type": "markdown",
   "metadata": {},
   "source": [
    "## Optimal Hyperparameters"
   ]
  },
  {
   "cell_type": "code",
   "execution_count": null,
   "metadata": {
    "ExecuteTime": {
     "end_time": "2020-12-16T22:39:48.844426Z",
     "start_time": "2020-12-16T22:39:42.539Z"
    }
   },
   "outputs": [],
   "source": [
    "optimal_hyperparameters_1 = (reconstruct_alpha(np.exp(m_1.kernel.theta[0])),reconstruct_lambda(np.exp(m_1.kernel.theta[1]), N_train))\n",
    "optimal_hyperparameters_1"
   ]
  },
  {
   "cell_type": "code",
   "execution_count": null,
   "metadata": {
    "ExecuteTime": {
     "end_time": "2020-12-16T22:39:48.845424Z",
     "start_time": "2020-12-16T22:39:42.957Z"
    }
   },
   "outputs": [],
   "source": [
    "optimal_hyperparameters_2 = (reconstruct_alpha(np.exp(m_2.kernel.theta[0])), reconstruct_lambda(np.exp(m_2.kernel.theta[1]), N_train))\n",
    "optimal_hyperparameters_2"
   ]
  },
  {
   "cell_type": "markdown",
   "metadata": {},
   "source": [
    "## Error Calculation"
   ]
  },
  {
   "cell_type": "code",
   "execution_count": 25,
   "metadata": {
    "ExecuteTime": {
     "end_time": "2020-12-16T22:41:24.511952Z",
     "start_time": "2020-12-16T22:41:24.507964Z"
    }
   },
   "outputs": [],
   "source": [
    "Normalized_Error_T_1 = np.sqrt(1/N_test*np.sum((fX_1-V_T)**2, axis=0))/V_0\n",
    "## see formula p4 for ||f(X)||2,Q \n",
    "## since samples are drawn according to measure - just sum them up"
   ]
  },
  {
   "cell_type": "code",
   "execution_count": 26,
   "metadata": {
    "ExecuteTime": {
     "end_time": "2020-12-16T22:41:24.870030Z",
     "start_time": "2020-12-16T22:41:24.866006Z"
    }
   },
   "outputs": [
    {
     "data": {
      "text/plain": [
       "0.165940082833466"
      ]
     },
     "execution_count": 26,
     "metadata": {},
     "output_type": "execute_result"
    }
   ],
   "source": [
    "Normalized_Error_T_1"
   ]
  },
  {
   "cell_type": "code",
   "execution_count": 27,
   "metadata": {
    "ExecuteTime": {
     "end_time": "2020-12-16T22:41:25.133325Z",
     "start_time": "2020-12-16T22:41:25.128304Z"
    }
   },
   "outputs": [],
   "source": [
    "Normalized_Error_T_2 = np.sqrt(1/N_test*np.sum((fX_2-V_T)**2, axis=0))/V_0"
   ]
  },
  {
   "cell_type": "code",
   "execution_count": 28,
   "metadata": {
    "ExecuteTime": {
     "end_time": "2020-12-16T22:41:25.516984Z",
     "start_time": "2020-12-16T22:41:25.511975Z"
    }
   },
   "outputs": [
    {
     "data": {
      "text/plain": [
       "0.165940082833466"
      ]
     },
     "execution_count": 28,
     "metadata": {},
     "output_type": "execute_result"
    }
   ],
   "source": [
    "Normalized_Error_T_2"
   ]
  },
  {
   "cell_type": "code",
   "execution_count": null,
   "metadata": {},
   "outputs": [],
   "source": []
  }
 ],
 "metadata": {
  "kernelspec": {
   "display_name": "Python 3",
   "language": "python",
   "name": "python3"
  },
  "language_info": {
   "codemirror_mode": {
    "name": "ipython",
    "version": 3
   },
   "file_extension": ".py",
   "mimetype": "text/x-python",
   "name": "python",
   "nbconvert_exporter": "python",
   "pygments_lexer": "ipython3",
   "version": "3.7.5"
  },
  "toc": {
   "base_numbering": 1,
   "nav_menu": {},
   "number_sections": true,
   "sideBar": true,
   "skip_h1_title": false,
   "title_cell": "Table of Contents",
   "title_sidebar": "Contents",
   "toc_cell": false,
   "toc_position": {},
   "toc_section_display": true,
   "toc_window_display": false
  }
 },
 "nbformat": 4,
 "nbformat_minor": 4
}
