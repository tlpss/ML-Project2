{
 "cells": [
  {
   "cell_type": "markdown",
   "metadata": {},
   "source": [
    "# Ensemble Learning through Splitting (base case)\n",
    "\n",
    "for each of the M predictors: trainset= k-th block of size X.shape[0]/M\n",
    "bc data is split in M distinct subsets on which each learner is trained\n",
    "\n",
    "$\\implies$  hyperparam = M = #learners\n",
    "\n",
    "\n",
    "Ofc the optimal M will depend on the size of the trainset as you are making a bias-variance tradeoff which largely depends on the datasize"
   ]
  },
  {
   "cell_type": "code",
   "execution_count": 1,
   "metadata": {
    "ExecuteTime": {
     "end_time": "2020-12-16T22:59:40.012922Z",
     "start_time": "2020-12-16T22:59:39.101425Z"
    }
   },
   "outputs": [],
   "source": [
    "import numpy as np\n",
    "import random\n",
    "import matplotlib.pyplot as plt\n",
    "from sklearn.gaussian_process import GaussianProcessRegressor\n",
    "from sklearn.gaussian_process.kernels import RBF, WhiteKernel\n",
    "## ENSMBLE\n",
    "\n",
    "# add project root folder to path to allow import local modules\n",
    "import os\n",
    "import sys\n",
    "module_path = os.path.abspath(os.path.join('..'))\n",
    "if module_path not in sys.path:\n",
    "    sys.path.append(module_path)\n",
    "# import local modules\n",
    "from stochastic_models import *\n",
    "from visualisations import *\n",
    "from aggregating.models import SimpleSplitter"
   ]
  },
  {
   "cell_type": "markdown",
   "metadata": {
    "ExecuteTime": {
     "end_time": "2020-11-14T11:40:28.368547Z",
     "start_time": "2020-11-14T11:40:28.365554Z"
    }
   },
   "source": [
    "## Parameter Configuration"
   ]
  },
  {
   "cell_type": "code",
   "execution_count": 2,
   "metadata": {
    "ExecuteTime": {
     "end_time": "2020-12-16T22:59:40.017858Z",
     "start_time": "2020-12-16T22:59:40.013868Z"
    }
   },
   "outputs": [],
   "source": [
    "np.random.seed(2020)"
   ]
  },
  {
   "cell_type": "code",
   "execution_count": 3,
   "metadata": {
    "ExecuteTime": {
     "end_time": "2020-12-16T22:59:40.542477Z",
     "start_time": "2020-12-16T22:59:40.538486Z"
    }
   },
   "outputs": [],
   "source": [
    "N_train = 5000\n",
    "N_test = 50000\n",
    "d = 1\n",
    "T = 2"
   ]
  },
  {
   "cell_type": "code",
   "execution_count": 4,
   "metadata": {
    "ExecuteTime": {
     "end_time": "2020-12-16T22:59:40.959393Z",
     "start_time": "2020-12-16T22:59:40.955368Z"
    }
   },
   "outputs": [],
   "source": [
    "lambda_range = (N_train*1e-9 , N_train*1e-3)\n",
    "alpha_range = (8.3*1e-5, 0.83)\n",
    "length_scale = np.sort(1/np.sqrt((2*alpha_range[0], 2*alpha_range[1])))"
   ]
  },
  {
   "cell_type": "markdown",
   "metadata": {
    "ExecuteTime": {
     "end_time": "2020-11-14T11:40:29.811046Z",
     "start_time": "2020-11-14T11:40:29.808054Z"
    }
   },
   "source": [
    "## Create Kernel & prepare datasets"
   ]
  },
  {
   "cell_type": "code",
   "execution_count": 5,
   "metadata": {
    "ExecuteTime": {
     "end_time": "2020-12-16T22:59:41.674675Z",
     "start_time": "2020-12-16T22:59:41.670693Z"
    }
   },
   "outputs": [],
   "source": [
    "#kernel\n",
    "kernel = RBF(length_scale= (length_scale[0] + length_scale[1])/2, length_scale_bounds=length_scale) \\\n",
    "        + WhiteKernel(noise_level= (lambda_range[0] + lambda_range[1])/2 , noise_level_bounds=lambda_range)\n"
   ]
  },
  {
   "cell_type": "code",
   "execution_count": 6,
   "metadata": {
    "ExecuteTime": {
     "end_time": "2020-12-16T22:59:42.081635Z",
     "start_time": "2020-12-16T22:59:42.069608Z"
    }
   },
   "outputs": [],
   "source": [
    "#generate drivers\n",
    "s_train = MaxCallStochasticModel(N_train,d,[1/12,11/12])\n",
    "s_train.generate_samples()\n",
    "s_test = MaxCallStochasticModel(N_test, d, [1/12,11/12])\n",
    "s_test.generate_samples()"
   ]
  },
  {
   "cell_type": "code",
   "execution_count": 7,
   "metadata": {
    "ExecuteTime": {
     "end_time": "2020-11-19T17:47:58.429360Z",
     "start_time": "2020-11-19T17:47:58.419396Z"
    }
   },
   "outputs": [
    {
     "data": {
      "text/plain": [
       "0.0793534441124991"
      ]
     },
     "execution_count": 7,
     "metadata": {},
     "output_type": "execute_result"
    }
   ],
   "source": [
    "#prepare datasets & values\n",
    "y_train = s_train.y\n",
    "X_train = s_train.X\n",
    "S_train = s_train.S\n",
    "\n",
    "y_test = s_test.y\n",
    "X_test = s_test.X\n",
    "S_test = s_test.S\n",
    "\n",
    "V_T = y_test  \n",
    "V_0 = s_test.generate_true_V(0)\n",
    "\n",
    "V_0= V_0.mean()\n",
    "V_0 # Average expected PROFIT!"
   ]
  },
  {
   "cell_type": "code",
   "execution_count": null,
   "metadata": {
    "ExecuteTime": {
     "end_time": "2020-11-15T15:34:41.648815Z",
     "start_time": "2020-11-15T15:34:41.621602Z"
    }
   },
   "outputs": [],
   "source": []
  },
  {
   "cell_type": "markdown",
   "metadata": {
    "ExecuteTime": {
     "end_time": "2020-11-14T11:40:33.048462Z",
     "start_time": "2020-11-14T11:40:33.045471Z"
    }
   },
   "source": [
    "## Create Custom Models\n",
    "(to have more control of splitting etc)"
   ]
  },
  {
   "cell_type": "code",
   "execution_count": 8,
   "metadata": {
    "ExecuteTime": {
     "end_time": "2020-11-19T17:47:58.436309Z",
     "start_time": "2020-11-19T17:47:58.431322Z"
    }
   },
   "outputs": [
    {
     "data": {
      "text/plain": [
       "{'M': 11, 'predictor': None}"
      ]
     },
     "execution_count": 8,
     "metadata": {},
     "output_type": "execute_result"
    }
   ],
   "source": [
    "### Defined in aggregating module\n",
    "s = SimpleSplitter(11,None)\n",
    "s.get_params()"
   ]
  },
  {
   "cell_type": "markdown",
   "metadata": {},
   "source": [
    "## GridSearch\n",
    "\n",
    "nB: cannot use Scikit gridsearch as it performs CV and we want to have a different test set of a larger size!"
   ]
  },
  {
   "cell_type": "code",
   "execution_count": 9,
   "metadata": {
    "ExecuteTime": {
     "end_time": "2020-11-19T17:47:58.444287Z",
     "start_time": "2020-11-19T17:47:58.437306Z"
    }
   },
   "outputs": [],
   "source": [
    "from aggregating.gridsearch import evaluate_model,create_logger\n",
    "from aggregating.utils import flatten_X"
   ]
  },
  {
   "cell_type": "code",
   "execution_count": 10,
   "metadata": {
    "ExecuteTime": {
     "end_time": "2020-11-19T17:49:09.794439Z",
     "start_time": "2020-11-19T17:47:58.445285Z"
    }
   },
   "outputs": [
    {
     "name": "stdout",
     "output_type": "stream",
     "text": [
      "1 3\n",
      "2 {'M': 1} -> thread id = 19528\n",
      "fit\n",
      "(5000, 2)\n",
      " 3\n",
      "3 {'M': 2} -> thread id = 16772 3\n",
      "\n",
      "fit\n",
      "(5000, 2)\n",
      "4 {'M': 3} -> thread id = 28904\n",
      "fit\n",
      "(5000, 2)\n",
      " 3\n",
      "5 {'M': 4} -> thread id = 25860\n",
      "fit 3\n",
      "\n",
      "(5000, 2)\n",
      "6 {'M': 5} -> thread id = 34488\n",
      "fit\n",
      "(5000, 2)\n",
      " 3\n",
      " {'M': 6} -> thread id = 5152\n",
      "fit\n",
      "(5000, 2)\n",
      "predict\n",
      "(50000, 2)\n",
      "predict\n",
      "(50000, 2)\n",
      "predict\n",
      "(50000, 2)\n",
      "predict\n",
      "(50000, 2)\n",
      "predict\n",
      "(50000, 2)\n",
      "predict\n",
      "(50000, 2)\n",
      "{'M': 3} , 0 -> 0.21707157022467766\n",
      "[0.21707157022467766]\n",
      "predict\n",
      "(50000, 2)\n",
      "{'M': 1} , 0 -> 0.1687141343209073\n",
      "[0.1687141343209073]\n",
      "predict\n",
      "(50000, 2)\n",
      "{'M': 5} , 0 -> 0.1719417158857009\n",
      "[0.1719417158857009]\n",
      "predict\n",
      "(50000, 2)\n",
      "{'M': 4} , 0 -> 0.1589274173872353\n",
      "[0.1589274173872353]\n",
      "predict\n",
      "(50000, 2)\n",
      "{'M': 2} , 0 -> 0.19516054947812508\n",
      "[0.19516054947812508]\n",
      "predict\n",
      "(50000, 2)\n",
      "{'M': 6} , 0 -> 0.23863458184719571\n",
      "[0.23863458184719571]\n",
      "predict\n",
      "(50000, 2)\n",
      "{'M': 3} , 1 -> 0.21673192587728654\n",
      "[0.21707157022467766, 0.21673192587728654]\n",
      "{'M': 1} , 1 -> 0.14545842080311586\n",
      "[0.1687141343209073, 0.14545842080311586]\n",
      "predict\n",
      "(50000, 2)\n",
      "predict\n",
      "(50000, 2)\n",
      "{'M': 4} , 1 -> 0.19806072536499802\n",
      "[0.1589274173872353, 0.19806072536499802]\n",
      "predict\n",
      "(50000, 2)\n",
      "{'M': 5} , 1 -> 0.15682053206574187\n",
      "[0.1719417158857009, 0.15682053206574187]\n",
      "predict\n",
      "(50000, 2)\n",
      "{'M': 2} , 1 -> 0.16719168942451423\n",
      "[0.19516054947812508, 0.16719168942451423]\n",
      "predict\n",
      "(50000, 2)\n",
      "{'M': 6} , 1 -> 0.19600179197676443\n",
      "[0.23863458184719571, 0.19600179197676443]\n",
      "predict\n",
      "(50000, 2)\n",
      "{'M': 1} , 2 -> 0.1347131295211446{'M': 3} , 2 -> 0.2359012586867413\n",
      "[0.1687141343209073, 0.14545842080311586, 0.1347131295211446]\n",
      "{'M': 1} -> [0.1687141343209073, 0.14545842080311586, 0.1347131295211446]\n",
      "\n",
      "logger {'M': 1}, -> [0.1687141343209073, 0.14545842080311586, 0.1347131295211446]\n",
      "[0.21707157022467766, 0.21673192587728654, 0.2359012586867413]\n",
      "{'M': 3} -> [0.21707157022467766, 0.21673192587728654, 0.2359012586867413]\n",
      "logger {'M': 3}, -> [0.21707157022467766, 0.21673192587728654, 0.2359012586867413]\n",
      "{'M': 4} , 2 -> 0.18144397378481195\n",
      "[0.1589274173872353, 0.19806072536499802, 0.18144397378481195]\n",
      "{'M': 4} -> [0.1589274173872353, 0.19806072536499802, 0.18144397378481195]\n",
      "logger {'M': 4}, -> [0.1589274173872353, 0.19806072536499802, 0.18144397378481195]\n",
      "{'M': 5} , 2 -> 0.1535567108363164\n",
      "[0.1719417158857009, 0.15682053206574187, 0.1535567108363164]\n",
      "{'M': 5} -> [0.1719417158857009, 0.15682053206574187, 0.1535567108363164]\n",
      "logger {'M': 5}, -> [0.1719417158857009, 0.15682053206574187, 0.1535567108363164]\n",
      "{'M': 2} , 2 -> 0.14463306789258618\n",
      "[0.19516054947812508, 0.16719168942451423, 0.14463306789258618]\n",
      "{'M': 2} -> [0.19516054947812508, 0.16719168942451423, 0.14463306789258618]\n",
      "logger {'M': 2}, -> [0.19516054947812508, 0.16719168942451423, 0.14463306789258618]\n",
      "{'M': 6} , 2 -> 0.18343199348364028\n",
      "[0.23863458184719571, 0.19600179197676443, 0.18343199348364028]\n",
      "{'M': 6} -> [0.23863458184719571, 0.19600179197676443, 0.18343199348364028]\n",
      "logger {'M': 6}, -> [0.23863458184719571, 0.19600179197676443, 0.18343199348364028]\n"
     ]
    }
   ],
   "source": [
    "from multiprocessing import  cpu_count,current_process\n",
    "from multiprocessing.pool import ThreadPool\n",
    "import functools\n",
    "import threading\n",
    "\n",
    "# GRIDSEARCH PARAMS\n",
    "model = SimpleSplitter(0,GaussianProcessRegressor(kernel))\n",
    "trials = 3\n",
    "M_grid = np.arange(1,7)\n",
    "results = []\n",
    "\n",
    "### ACTUAL GRIDSEARCH\n",
    "pool = ThreadPool(cpu_count()-1)\n",
    "for m in M_grid:\n",
    "    print(m,trials)\n",
    "    hyperparams = {'M':m}\n",
    "    pool.apply_async(evaluate_model,args=(model,hyperparams,flatten_X(X_train),y_train,1, [1/12,11/12],trials,N_test,MaxCallStochasticModel),\n",
    "                                        callback = create_logger(hyperparams,results))\n",
    "pool.close()\n",
    "pool.join()\n"
   ]
  },
  {
   "cell_type": "code",
   "execution_count": 11,
   "metadata": {
    "ExecuteTime": {
     "end_time": "2020-11-19T17:49:09.830341Z",
     "start_time": "2020-11-19T17:49:09.803415Z"
    }
   },
   "outputs": [
    {
     "name": "stdout",
     "output_type": "stream",
     "text": [
      "[[-1.         -1.         -1.        ]\n",
      " [ 0.16871413  0.14545842  0.13471313]\n",
      " [ 0.19516055  0.16719169  0.14463307]\n",
      " [ 0.21707157  0.21673193  0.23590126]\n",
      " [ 0.15892742  0.19806073  0.18144397]\n",
      " [ 0.17194172  0.15682053  0.15355671]\n",
      " [ 0.23863458  0.19600179  0.18343199]]\n",
      "[[1, [0.1687141343209073, 0.14545842080311586, 0.1347131295211446]], [3, [0.21707157022467766, 0.21673192587728654, 0.2359012586867413]], [4, [0.1589274173872353, 0.19806072536499802, 0.18144397378481195]], [5, [0.1719417158857009, 0.15682053206574187, 0.1535567108363164]], [2, [0.19516054947812508, 0.16719168942451423, 0.14463306789258618]], [6, [0.23863458184719571, 0.19600179197676443, 0.18343199348364028]]]\n"
     ]
    }
   ],
   "source": [
    "converted_results = np.ones((len(M_grid)+1,trials))*(-1)\n",
    "for item in results:\n",
    "    converted_results[item[0]] = item[1]\n",
    "print(converted_results)\n",
    "print(results)"
   ]
  },
  {
   "cell_type": "code",
   "execution_count": 12,
   "metadata": {
    "ExecuteTime": {
     "end_time": "2020-11-19T17:49:09.852283Z",
     "start_time": "2020-11-19T17:49:09.831340Z"
    }
   },
   "outputs": [],
   "source": [
    "masked_results= np.ma.masked_where(converted_results[1:] <= 0.0,converted_results[1:]) # some runs have been aborted every now and then -> filter them out\n",
    "means = masked_results.mean(axis=1)\n",
    "sigmas = masked_results.std(axis=1)\n"
   ]
  },
  {
   "cell_type": "code",
   "execution_count": 13,
   "metadata": {
    "ExecuteTime": {
     "end_time": "2020-11-19T17:49:10.080674Z",
     "start_time": "2020-11-19T17:49:09.854278Z"
    },
    "scrolled": true
   },
   "outputs": [
    {
     "data": {
      "image/png": "[encoded data removed]",
      "text/plain": [
       "<Figure size 432x288 with 1 Axes>"
      ]
     },
     "metadata": {
      "needs_background": "light"
     },
     "output_type": "display_data"
    }
   ],
   "source": [
    "plt.errorbar(np.array(M_grid),means,sigmas,marker ='o')\n",
    "plt.title(f\"Splitting Normalized error: N_train = {N_train}, d= {d}, N_test= {N_test}\")\n",
    "plt.xlabel(\"M\")\n",
    "plt.ylabel(\"normalized error\")\n",
    "plt.show()"
   ]
  },
  {
   "cell_type": "markdown",
   "metadata": {},
   "source": [
    "**bottom line: Splitting is not interesting and is hard to quantify as it's results depend very strongly on the size of the dataset**\n"
   ]
  },
  {
   "cell_type": "code",
   "execution_count": 14,
   "metadata": {
    "ExecuteTime": {
     "end_time": "2020-11-19T17:51:29.233921Z",
     "start_time": "2020-11-19T17:51:29.229932Z"
    }
   },
   "outputs": [],
   "source": [
    "#"
   ]
  },
  {
   "cell_type": "code",
   "execution_count": 17,
   "metadata": {
    "ExecuteTime": {
     "end_time": "2020-11-19T17:52:08.597712Z",
     "start_time": "2020-11-19T17:52:08.593724Z"
    }
   },
   "outputs": [],
   "source": [
    "res_dict = {'N_train': N_train, 'N_test': N_test,'mgrid': M_grid.tolist(), 'errors': converted_results.tolist()}"
   ]
  },
  {
   "cell_type": "code",
   "execution_count": 18,
   "metadata": {
    "ExecuteTime": {
     "end_time": "2020-11-19T17:52:09.409577Z",
     "start_time": "2020-11-19T17:52:09.404556Z"
    }
   },
   "outputs": [],
   "source": [
    "import json\n",
    "import datetime\n",
    "with open(f'_splitting{str(datetime.date.today())}.json', 'w') as fp:\n",
    "    json.dump(res_dict, fp)"
   ]
  },
  {
   "cell_type": "code",
   "execution_count": null,
   "metadata": {},
   "outputs": [],
   "source": []
  }
 ],
 "metadata": {
  "kernelspec": {
   "display_name": "Python 3",
   "language": "python",
   "name": "python3"
  },
  "language_info": {
   "codemirror_mode": {
    "name": "ipython",
    "version": 3
   },
   "file_extension": ".py",
   "mimetype": "text/x-python",
   "name": "python",
   "nbconvert_exporter": "python",
   "pygments_lexer": "ipython3",
   "version": "3.7.5"
  },
  "toc": {
   "base_numbering": 1,
   "nav_menu": {},
   "number_sections": true,
   "sideBar": true,
   "skip_h1_title": false,
   "title_cell": "Table of Contents",
   "title_sidebar": "Contents",
   "toc_cell": false,
   "toc_position": {},
   "toc_section_display": true,
   "toc_window_display": false
  }
 },
 "nbformat": 4,
 "nbformat_minor": 2
}
