{
 "cells": [
  {
   "cell_type": "markdown",
   "metadata": {
    "id": "UTAM9bg50fam"
   },
   "source": [
    "# Ensemble Learning through Bagging \n",
    "\n",
    "**bagging == Bootstrapping Aggregation** \n",
    "\n",
    "$\\implies$  hyperparam = {M = #learners, alpha = # relative trainset size}\n"
   ]
  },
  {
   "cell_type": "code",
   "execution_count": 1,
   "metadata": {
    "ExecuteTime": {
     "end_time": "2020-12-12T12:11:29.497343Z",
     "start_time": "2020-12-12T12:11:28.672768Z"
    },
    "colab": {
     "base_uri": "https://localhost:8080/"
    },
    "id": "dG7lVo470fam",
    "outputId": "3663f130-4c68-42fa-87a6-79f193997185"
   },
   "outputs": [],
   "source": [
    "#!git clone https://github.com/tlpss/ML-Project2.git\n",
    "\n",
    "import numpy as np\n",
    "import random\n",
    "import matplotlib.pyplot as plt\n",
    "from sklearn.gaussian_process import GaussianProcessRegressor\n",
    "from sklearn.gaussian_process.kernels import RBF, WhiteKernel\n",
    "\n",
    "# add project root folder to path to allow import local modules\n",
    "import os\n",
    "import sys\n",
    "sys.path.append(os.path.abspath(os.path.join('./ML-Project2')))\n",
    "\n",
    "module_path = os.path.abspath(os.path.join('..'))\n",
    "if module_path not in sys.path:\n",
    "    sys.path.append(module_path)\n",
    "# import local modules\n",
    "from stochastic_models import *\n",
    "from visualisations import *\n"
   ]
  },
  {
   "cell_type": "markdown",
   "metadata": {
    "ExecuteTime": {
     "end_time": "2020-11-14T11:40:28.368547Z",
     "start_time": "2020-11-14T11:40:28.365554Z"
    },
    "id": "piWP2Y710fam"
   },
   "source": [
    "## Parameter Configuration"
   ]
  },
  {
   "cell_type": "code",
   "execution_count": 2,
   "metadata": {
    "ExecuteTime": {
     "end_time": "2020-12-12T12:11:29.502327Z",
     "start_time": "2020-12-12T12:11:29.498337Z"
    },
    "id": "QVy6iI6f0fam"
   },
   "outputs": [],
   "source": [
    "np.random.seed(2020)"
   ]
  },
  {
   "cell_type": "code",
   "execution_count": 3,
   "metadata": {
    "ExecuteTime": {
     "end_time": "2020-12-12T12:11:29.506537Z",
     "start_time": "2020-12-12T12:11:29.504322Z"
    },
    "id": "VgF1gYSZ0fam"
   },
   "outputs": [],
   "source": [
    "N_train = 5000\n",
    "N_test = 50000\n",
    "d = 1\n",
    "T = 2"
   ]
  },
  {
   "cell_type": "code",
   "execution_count": 4,
   "metadata": {
    "ExecuteTime": {
     "end_time": "2020-12-12T12:11:29.513502Z",
     "start_time": "2020-12-12T12:11:29.507519Z"
    },
    "id": "auFqti170fam"
   },
   "outputs": [],
   "source": [
    "lambda_range = (N_train*1e-9 , N_train*1e-3)\n",
    "alpha_range = (8.3*1e-5, 0.83)\n",
    "length_scale = np.sort(1/np.sqrt((2*alpha_range[0], 2*alpha_range[1])))"
   ]
  },
  {
   "cell_type": "markdown",
   "metadata": {
    "ExecuteTime": {
     "end_time": "2020-11-14T11:40:29.811046Z",
     "start_time": "2020-11-14T11:40:29.808054Z"
    },
    "id": "Ibn03cnz0fam"
   },
   "source": [
    "## Create Kernel & prepare datasets"
   ]
  },
  {
   "cell_type": "code",
   "execution_count": 5,
   "metadata": {
    "ExecuteTime": {
     "end_time": "2020-12-12T12:11:29.519486Z",
     "start_time": "2020-12-12T12:11:29.514500Z"
    },
    "id": "wjD-Ur7D0fam"
   },
   "outputs": [],
   "source": [
    "#kernel\n",
    "kernel = RBF(length_scale= (length_scale[0] + length_scale[1])/2, length_scale_bounds=length_scale) \\\n",
    "        + WhiteKernel(noise_level= (lambda_range[0] + lambda_range[1])/2 , noise_level_bounds=lambda_range)\n"
   ]
  },
  {
   "cell_type": "code",
   "execution_count": 6,
   "metadata": {
    "ExecuteTime": {
     "end_time": "2020-12-12T12:11:29.532451Z",
     "start_time": "2020-12-12T12:11:29.520483Z"
    },
    "id": "eV0D444n0fan"
   },
   "outputs": [],
   "source": [
    "#generate drivers\n",
    "s_train = MaxCallStochasticModel(N_train,d,[1/12,11/12])\n",
    "s_train.generate_samples()\n",
    "s_test = MaxCallStochasticModel(N_test, d, [1/12,11/12])\n",
    "s_test.generate_samples()"
   ]
  },
  {
   "cell_type": "code",
   "execution_count": 7,
   "metadata": {
    "ExecuteTime": {
     "end_time": "2020-12-12T12:11:29.537474Z",
     "start_time": "2020-12-12T12:11:29.533449Z"
    },
    "id": "mZu9AViu0fan"
   },
   "outputs": [],
   "source": [
    "#prepare datasets & values\n",
    "y_train = s_train.y\n",
    "X_train = s_train.X\n",
    "S_train = s_train.S\n",
    "\n",
    "y_test = s_test.y\n",
    "X_test = s_test.X\n",
    "S_test = s_test.S\n",
    "\n",
    "V_T = y_test  \n"
   ]
  },
  {
   "cell_type": "code",
   "execution_count": 8,
   "metadata": {
    "ExecuteTime": {
     "end_time": "2020-12-12T12:11:29.581320Z",
     "start_time": "2020-12-12T12:11:29.539433Z"
    },
    "id": "robWrT8JyG5d"
   },
   "outputs": [
    {
     "data": {
      "text/plain": [
       "0.0794089095719135"
      ]
     },
     "execution_count": 8,
     "metadata": {},
     "output_type": "execute_result"
    }
   ],
   "source": [
    "## calculate V_0 separately using bigger dataset\n",
    "s_v =MaxCallStochasticModel(200000, d, [1/12,11/12])\n",
    "s_v.generate_samples()\n",
    "V_0 = s_v.generate_true_V(0)\n",
    "\n",
    "V_0= V_0.mean()\n",
    "V_0 # Average expected PROFIT!"
   ]
  },
  {
   "cell_type": "code",
   "execution_count": 9,
   "metadata": {
    "ExecuteTime": {
     "end_time": "2020-12-12T12:11:29.587304Z",
     "start_time": "2020-12-12T12:11:29.582318Z"
    },
    "id": "CDNrXA_P0fan"
   },
   "outputs": [
    {
     "data": {
      "text/plain": [
       "(50000, 1, 2)"
      ]
     },
     "execution_count": 9,
     "metadata": {},
     "output_type": "execute_result"
    }
   ],
   "source": [
    "X_test.shape"
   ]
  },
  {
   "cell_type": "markdown",
   "metadata": {
    "ExecuteTime": {
     "end_time": "2020-11-14T11:40:33.048462Z",
     "start_time": "2020-11-14T11:40:33.045471Z"
    },
    "id": "k832NbtC0fao"
   },
   "source": [
    "## Create Custom Models\n",
    "(to have more control of splitting etc)"
   ]
  },
  {
   "cell_type": "code",
   "execution_count": 10,
   "metadata": {
    "ExecuteTime": {
     "end_time": "2020-12-12T12:11:29.596281Z",
     "start_time": "2020-12-12T12:11:29.588303Z"
    },
    "id": "OcPQ76n_0fao"
   },
   "outputs": [
    {
     "data": {
      "text/plain": [
       "{'M': 11, 'predictor': None, 'train_size_alpha': 0.5}"
      ]
     },
     "execution_count": 10,
     "metadata": {},
     "output_type": "execute_result"
    }
   ],
   "source": [
    "from aggregating.models import SimpleBagger\n",
    "s = SimpleBagger(11,0.5,None)\n",
    "s.get_params()"
   ]
  },
  {
   "cell_type": "markdown",
   "metadata": {
    "id": "iqONM3sj0fao"
   },
   "source": [
    "## GridSearch\n",
    "\n",
    "nB: cannot use Scikit gridsearch as it performs CV and we want to have a different test set of a larger size!"
   ]
  },
  {
   "cell_type": "code",
   "execution_count": 11,
   "metadata": {
    "ExecuteTime": {
     "end_time": "2020-12-12T12:12:13.139720Z",
     "start_time": "2020-12-12T12:11:29.597278Z"
    },
    "colab": {
     "base_uri": "https://localhost:8080/"
    },
    "id": "a2BFgvcD0fao",
    "outputId": "2de14480-1273-4fed-85ca-91b80c8a3f24"
   },
   "outputs": [
    {
     "name": "stdout",
     "output_type": "stream",
     "text": [
      " {'M': 1, 'train_size_alpha': 1.0} -> thread id = 11036\n",
      "{'M': 1, 'train_size_alpha': 1.0} , 0 -> 0.1438355169080436\n",
      "{'M': 1, 'train_size_alpha': 1.0} , 1 -> 0.17310338399437375\n",
      "{'M': 1, 'train_size_alpha': 1.0} , 2 -> 0.1283549218493221\n",
      "{'M': 1, 'train_size_alpha': 1.0} , 3 -> 0.14720125952478966\n",
      "{'M': 1, 'train_size_alpha': 1.0} , 4 -> 0.11411198861102993\n",
      "{'M': 1, 'train_size_alpha': 1.0} -> [0.1438355169080436, 0.17310338399437375, 0.1283549218493221, 0.14720125952478966, 0.11411198861102993]\n",
      "[0.1438355169080436, 0.17310338399437375, 0.1283549218493221, 0.14720125952478966, 0.11411198861102993]\n"
     ]
    }
   ],
   "source": [
    "#reference:\n",
    "from aggregating.gridsearch import create_logger, evaluate_model\n",
    "from aggregating.utils import flatten_X\n",
    "\n",
    "hyperparams= {'M':1, 'train_size_alpha':1.0} #baseline!\n",
    "model = GaussianProcessRegressor(kernel)\n",
    "reference_error = evaluate_model(model,hyperparams,flatten_X(X_train),y_train,1, [1/12,11/12],5,N_test,MaxCallStochasticModel,V_0)\n",
    "print(reference_error)"
   ]
  },
  {
   "cell_type": "code",
   "execution_count": 12,
   "metadata": {
    "ExecuteTime": {
     "end_time": "2020-12-12T12:12:13.150931Z",
     "start_time": "2020-12-12T12:12:13.143676Z"
    },
    "colab": {
     "base_uri": "https://localhost:8080/"
    },
    "id": "1jeiJMQMezlk",
    "outputId": "18032256-e40f-474d-f0bb-84648d40e066"
   },
   "outputs": [
    {
     "name": "stdout",
     "output_type": "stream",
     "text": [
      "0.14132141417751182\n"
     ]
    }
   ],
   "source": [
    "reference_error_mean = sum(reference_error)/len(reference_error)\n",
    "print(reference_error_mean)"
   ]
  },
  {
   "cell_type": "code",
   "execution_count": 13,
   "metadata": {
    "ExecuteTime": {
     "end_time": "2020-12-12T12:33:24.799859Z",
     "start_time": "2020-12-12T12:12:13.152899Z"
    },
    "colab": {
     "base_uri": "https://localhost:8080/",
     "height": 584
    },
    "id": "AlUGmpIc0fao",
    "outputId": "34dd4879-e1f9-434b-e7ad-2a2c5a43c07c"
   },
   "outputs": [
    {
     "name": "stdout",
     "output_type": "stream",
     "text": [
      "12\n",
      " {'M': 1, 'train_size_alpha': 0.2} -> thread id = 20528\n",
      "fit\n",
      "(5000, 2)\n",
      " {'M': 1, 'train_size_alpha': 0.3} -> thread id = 9172\n",
      "fit\n",
      "(5000, 2)\n",
      " {'M': 1, 'train_size_alpha': 0.4} -> thread id = 16368\n",
      "fit\n",
      "(5000, 2)\n",
      " {'M': 1, 'train_size_alpha': 0.5} -> thread id = 16692\n",
      "fit\n",
      "(5000, 2)\n",
      " {'M': 3, 'train_size_alpha': 0.2} -> thread id = 11636\n",
      "fit\n",
      "(5000, 2)\n",
      " {'M': 3, 'train_size_alpha': 0.3} -> thread id = 23880\n",
      "fit\n",
      "(5000, 2)\n",
      " {'M': 3, 'train_size_alpha': 0.4} -> thread id = 900\n",
      "fit\n",
      "(5000, 2)\n",
      " {'M': 3, 'train_size_alpha': 0.5} -> thread id = 23556\n",
      "fit\n",
      "(5000, 2)\n",
      " {'M': 5, 'train_size_alpha': 0.2} -> thread id = 21084\n",
      "fit\n",
      "(5000, 2)\n",
      " {'M': 5, 'train_size_alpha': 0.3} -> thread id = 25464\n",
      "fit\n",
      "(5000, 2)\n",
      "predict\n",
      "(50000, 2)\n",
      "predict\n",
      "(50000, 2)\n",
      "predict\n",
      "(50000, 2)\n",
      "predict\n",
      "(50000, 2)\n",
      "predict\n",
      "(50000, 2)\n",
      "predictpredict\n",
      "(50000, 2)\n",
      "\n",
      "(50000, 2)\n",
      "predict\n",
      "(50000, 2)\n",
      "predict\n",
      "(50000, 2)\n",
      "{'M': 1, 'train_size_alpha': 0.2} , 0 -> 0.1840568665967906\n",
      "predict\n",
      "(50000, 2)\n",
      "{'M': 1, 'train_size_alpha': 0.3} , 0 -> 0.18445978512690997\n",
      "predict\n",
      "(50000, 2)\n",
      "{'M': 1, 'train_size_alpha': 0.4} , 0 -> 0.1562051102053035\n",
      "predict\n",
      "(50000, 2)\n",
      "{'M': 1, 'train_size_alpha': 0.5} , 0 -> 0.2316120491917576\n",
      "predict\n",
      "(50000, 2)\n",
      "predict\n",
      "(50000, 2)\n",
      "{'M': 1, 'train_size_alpha': 0.2} , 1 -> 0.19855485117530206\n",
      "predict\n",
      "(50000, 2)\n",
      "{'M': 1, 'train_size_alpha': 0.3} , 1 -> 0.1996890786983531\n",
      "predict\n",
      "(50000, 2)\n",
      "{'M': 1, 'train_size_alpha': 0.4} , 1 -> 0.16670611346579045\n",
      "predict\n",
      "(50000, 2)\n",
      "{'M': 1, 'train_size_alpha': 0.2} , 2 -> 0.20177120267011714\n",
      "{'M': 1, 'train_size_alpha': 0.2} -> [0.1840568665967906, 0.19855485117530206, 0.20177120267011714]\n",
      " {'M': 5, 'train_size_alpha': 0.4} -> thread id = 20528logger {'M': 1, 'train_size_alpha': 0.2}, -> [0.1840568665967906, 0.19855485117530206, 0.20177120267011714]\n",
      "\n",
      "fit\n",
      "(5000, 2)\n",
      "{'M': 1, 'train_size_alpha': 0.3} , 2 -> 0.19287460634690035\n",
      "{'M': 1, 'train_size_alpha': 0.3} -> [0.18445978512690997, 0.1996890786983531, 0.19287460634690035]\n",
      " {'M': 5, 'train_size_alpha': 0.5} -> thread id = 9172logger {'M': 1, 'train_size_alpha': 0.3}, -> [0.18445978512690997, 0.1996890786983531, 0.19287460634690035]\n",
      "\n",
      "fit\n",
      "(5000, 2)\n",
      "{'M': 1, 'train_size_alpha': 0.5} , 1 -> 0.25864761651669493\n",
      "{'M': 3, 'train_size_alpha': 0.2} , 0 -> 0.16176283914552012\n",
      "{'M': 1, 'train_size_alpha': 0.4} , 2 -> 0.17330706353040537\n",
      "{'M': 1, 'train_size_alpha': 0.4} -> [0.1562051102053035, 0.16670611346579045, 0.17330706353040537]\n",
      " {'M': 7, 'train_size_alpha': 0.2} -> thread id = 16368logger {'M': 1, 'train_size_alpha': 0.4}, -> [0.1562051102053035, 0.16670611346579045, 0.17330706353040537]\n",
      "\n",
      "fit\n",
      "(5000, 2)\n",
      "{'M': 3, 'train_size_alpha': 0.3} , 0 -> 0.11040251771557259\n",
      "predict\n",
      "(50000, 2)\n",
      "{'M': 3, 'train_size_alpha': 0.4} , 0 -> 0.13004539271825988\n",
      "predict\n",
      "(50000, 2)\n",
      "predict\n",
      "(50000, 2)\n",
      "predict\n",
      "(50000, 2)\n",
      "{'M': 5, 'train_size_alpha': 0.2} , 0 -> 0.12117313460878815\n",
      "{'M': 1, 'train_size_alpha': 0.5} , 2 -> 0.2539762340827514\n",
      "{'M': 1, 'train_size_alpha': 0.5} -> [0.2316120491917576, 0.25864761651669493, 0.2539762340827514]\n",
      " {'M': 7, 'train_size_alpha': 0.3} -> thread id = 16692\n",
      "fit\n",
      "(5000, 2)\n",
      "logger {'M': 1, 'train_size_alpha': 0.5}, -> [0.2316120491917576, 0.25864761651669493, 0.2539762340827514]\n",
      "predict\n",
      "(50000, 2)\n",
      "{'M': 5, 'train_size_alpha': 0.3} , 0 -> 0.11650845505422952\n",
      "predict\n",
      "(50000, 2)\n",
      "{'M': 3, 'train_size_alpha': 0.5} , 0 -> 0.12220362368224616\n",
      "predict\n",
      "(50000, 2)\n",
      "{'M': 3, 'train_size_alpha': 0.2} , 1 -> 0.1699953876755875\n",
      "predict\n",
      "(50000, 2)\n",
      "{'M': 3, 'train_size_alpha': 0.3} , 1 -> 0.11271713479036491\n",
      "predict\n",
      "(50000, 2)\n",
      "{'M': 3, 'train_size_alpha': 0.4} , 1 -> 0.14957949713886848\n",
      "predict\n",
      "(50000, 2)\n",
      "{'M': 5, 'train_size_alpha': 0.2} , 1 -> 0.1279546358259493\n",
      "predict\n",
      "(50000, 2)\n",
      "predict\n",
      "(50000, 2)\n",
      "{'M': 3, 'train_size_alpha': 0.2} , 2 -> 0.16423112091178746\n",
      "{'M': 3, 'train_size_alpha': 0.2} -> [0.16176283914552012, 0.1699953876755875, 0.16423112091178746]\n",
      " {'M': 7, 'train_size_alpha': 0.4} -> thread id = 11636logger {'M': 3, 'train_size_alpha': 0.2}, -> [0.16176283914552012, 0.1699953876755875, 0.16423112091178746]\n",
      "\n",
      "fit\n",
      "(5000, 2)\n",
      "{'M': 3, 'train_size_alpha': 0.5} , 1 -> 0.12685371358905792\n",
      "predict\n",
      "(50000, 2)\n",
      "{'M': 5, 'train_size_alpha': 0.3} , 1 -> 0.1308364899168221\n",
      "{'M': 3, 'train_size_alpha': 0.3} , 2 -> 0.12160244069657704\n",
      "{'M': 3, 'train_size_alpha': 0.3} -> [0.11040251771557259, 0.11271713479036491, 0.12160244069657704]\n",
      " {'M': 7, 'train_size_alpha': 0.5} -> thread id = 23880logger {'M': 3, 'train_size_alpha': 0.3}, -> [0.11040251771557259, 0.11271713479036491, 0.12160244069657704]\n",
      "fit\n",
      "\n",
      "(5000, 2)\n",
      "predict\n",
      "(50000, 2)\n",
      "{'M': 3, 'train_size_alpha': 0.4} , 2 -> 0.14888736628922342\n",
      "{'M': 3, 'train_size_alpha': 0.4} -> [0.13004539271825988, 0.14957949713886848, 0.14888736628922342]\n",
      " {'M': 9, 'train_size_alpha': 0.2} -> thread id = 900logger {'M': 3, 'train_size_alpha': 0.4}, -> [0.13004539271825988, 0.14957949713886848, 0.14888736628922342]\n",
      "fit\n",
      "\n",
      "(5000, 2)\n",
      "predict\n",
      "(50000, 2)\n",
      "{'M': 5, 'train_size_alpha': 0.2} , 2 -> 0.12356273282480769\n",
      "{'M': 5, 'train_size_alpha': 0.2} -> [0.12117313460878815, 0.1279546358259493, 0.12356273282480769]\n",
      " {'M': 9, 'train_size_alpha': 0.3} -> thread id = 21084logger {'M': 5, 'train_size_alpha': 0.2}, -> [0.12117313460878815, 0.1279546358259493, 0.12356273282480769]\n",
      "fit\n",
      "(5000, 2)\n",
      "\n",
      "{'M': 3, 'train_size_alpha': 0.5} , 2 -> 0.13711205752415193\n",
      "{'M': 3, 'train_size_alpha': 0.5} -> [0.12220362368224616, 0.12685371358905792, 0.13711205752415193]\n",
      " {'M': 9, 'train_size_alpha': 0.4} -> thread id = 23556\n",
      "fitlogger {'M': 3, 'train_size_alpha': 0.5}, -> [0.12220362368224616, 0.12685371358905792, 0.13711205752415193]\n",
      "\n",
      "(5000, 2)\n",
      "predict{'M': 5, 'train_size_alpha': 0.4} , 0 -> 0.12868413720390204\n",
      "\n",
      "(50000, 2)\n",
      "predict\n",
      "(50000, 2)\n",
      "{'M': 5, 'train_size_alpha': 0.3} , 2 -> 0.13522609011086456\n",
      "{'M': 5, 'train_size_alpha': 0.3} -> [0.11650845505422952, 0.1308364899168221, 0.13522609011086456]\n",
      " {'M': 9, 'train_size_alpha': 0.5} -> thread id = 25464logger {'M': 5, 'train_size_alpha': 0.3}, -> [0.11650845505422952, 0.1308364899168221, 0.13522609011086456]\n",
      "fit\n",
      "\n",
      "(5000, 2)\n",
      "predict\n",
      "(50000, 2)\n",
      "{'M': 7, 'train_size_alpha': 0.3} , 0 -> 0.12992136838253518\n",
      "predict\n",
      "(50000, 2)\n",
      "predict\n",
      "(50000, 2)\n",
      "predict\n",
      "(50000, 2)\n",
      "{'M': 5, 'train_size_alpha': 0.4} , 1 -> 0.14730176296632055\n",
      "predict\n",
      "(50000, 2)\n",
      "{'M': 5, 'train_size_alpha': 0.5} , 0 -> 0.1730126055923412\n",
      "predict\n",
      "(50000, 2)\n",
      "predict\n",
      "(50000, 2)\n",
      "{'M': 7, 'train_size_alpha': 0.2} , 0 -> 0.13359485936188306\n",
      "predict\n",
      "(50000, 2)\n",
      "predict\n",
      "(50000, 2)\n",
      "{'M': 7, 'train_size_alpha': 0.3} , 1 -> 0.14699153964611164\n",
      "predict\n",
      "(50000, 2)\n",
      "{'M': 5, 'train_size_alpha': 0.4} , 2 -> 0.1534100179330432\n",
      "{'M': 5, 'train_size_alpha': 0.4} -> [0.12868413720390204, 0.14730176296632055, 0.1534100179330432]\n",
      "logger {'M': 5, 'train_size_alpha': 0.4}, -> [0.12868413720390204, 0.14730176296632055, 0.1534100179330432]\n",
      "predict\n",
      "(50000, 2)\n",
      "{'M': 9, 'train_size_alpha': 0.2} , 0 -> 0.12085441288794387\n",
      "predict\n",
      "(50000, 2)\n",
      "{'M': 7, 'train_size_alpha': 0.4} , 0 -> 0.13340448929790416\n",
      "{'M': 5, 'train_size_alpha': 0.5} , 1 -> 0.17972655277583563\n",
      "predict\n",
      "(50000, 2)\n",
      "predict\n",
      "(50000, 2)\n",
      "{'M': 7, 'train_size_alpha': 0.2} , 1 -> 0.14773782796634524\n",
      "predict\n",
      "(50000, 2)\n",
      "{'M': 9, 'train_size_alpha': 0.3} , 0 -> 0.11574074112946657\n",
      "predict\n",
      "(50000, 2)\n",
      "predict\n",
      "(50000, 2)\n",
      "{'M': 7, 'train_size_alpha': 0.3} , 2 -> 0.15101375918416773\n",
      "{'M': 7, 'train_size_alpha': 0.3} -> [0.12992136838253518, 0.14699153964611164, 0.15101375918416773]\n",
      "logger {'M': 7, 'train_size_alpha': 0.3}, -> [0.12992136838253518, 0.14699153964611164, 0.15101375918416773]\n",
      "{'M': 5, 'train_size_alpha': 0.5} , 2 -> 0.18560729414901378\n",
      "{'M': 5, 'train_size_alpha': 0.5} -> [0.1730126055923412, 0.17972655277583563, 0.18560729414901378]\n",
      "logger {'M': 5, 'train_size_alpha': 0.5}, -> [0.1730126055923412, 0.17972655277583563, 0.18560729414901378]\n",
      "{'M': 9, 'train_size_alpha': 0.2} , 1 -> 0.1336168960012374\n",
      "predict\n",
      "(50000, 2)\n",
      "{'M': 9, 'train_size_alpha': 0.4} , 0 -> 0.11985359425785473\n",
      "predict\n",
      "(50000, 2)\n",
      "{'M': 7, 'train_size_alpha': 0.2} , 2 -> 0.14037870313763073\n",
      "{'M': 7, 'train_size_alpha': 0.2} -> [0.13359485936188306, 0.14773782796634524, 0.14037870313763073]\n",
      "logger {'M': 7, 'train_size_alpha': 0.2}, -> [0.13359485936188306, 0.14773782796634524, 0.14037870313763073]\n",
      "{'M': 7, 'train_size_alpha': 0.4} , 1 -> 0.1506667167329666\n"
     ]
    },
    {
     "name": "stdout",
     "output_type": "stream",
     "text": [
      "predict\n",
      "(50000, 2)\n",
      "{'M': 7, 'train_size_alpha': 0.5} , 0 -> 0.15425924508154462\n",
      "predict\n",
      "(50000, 2)\n",
      "{'M': 9, 'train_size_alpha': 0.3} , 1 -> 0.12776819397819475\n",
      "predict\n",
      "(50000, 2)\n",
      "{'M': 9, 'train_size_alpha': 0.2} , 2 -> 0.1274017704771494\n",
      "{'M': 9, 'train_size_alpha': 0.2} -> [0.12085441288794387, 0.1336168960012374, 0.1274017704771494]\n",
      "logger {'M': 9, 'train_size_alpha': 0.2}, -> [0.12085441288794387, 0.1336168960012374, 0.1274017704771494]\n",
      "{'M': 7, 'train_size_alpha': 0.4} , 2 -> 0.15609818336555673\n",
      "{'M': 7, 'train_size_alpha': 0.4} -> [0.13340448929790416, 0.1506667167329666, 0.15609818336555673]\n",
      "logger {'M': 7, 'train_size_alpha': 0.4}, -> [0.13340448929790416, 0.1506667167329666, 0.15609818336555673]\n",
      "{'M': 9, 'train_size_alpha': 0.5} , 0 -> 0.13764079012710556\n",
      "predict\n",
      "(50000, 2)\n",
      "{'M': 7, 'train_size_alpha': 0.5} , 1 -> 0.16840870539489353\n",
      "predict\n",
      "(50000, 2)\n",
      "{'M': 9, 'train_size_alpha': 0.4} , 1 -> 0.1322966501540017\n",
      "predict\n",
      "(50000, 2)\n",
      "{'M': 9, 'train_size_alpha': 0.3} , 2 -> 0.13063216466831173\n",
      "{'M': 9, 'train_size_alpha': 0.3} -> [0.11574074112946657, 0.12776819397819475, 0.13063216466831173]\n",
      "logger {'M': 9, 'train_size_alpha': 0.3}, -> [0.11574074112946657, 0.12776819397819475, 0.13063216466831173]\n",
      "{'M': 7, 'train_size_alpha': 0.5} , 2 -> 0.17713582682728393\n",
      "{'M': 7, 'train_size_alpha': 0.5} -> [0.15425924508154462, 0.16840870539489353, 0.17713582682728393]\n",
      "logger {'M': 7, 'train_size_alpha': 0.5}, -> [0.15425924508154462, 0.16840870539489353, 0.17713582682728393]\n",
      "{'M': 9, 'train_size_alpha': 0.5} , 1 -> 0.14461473210437456\n",
      "predict\n",
      "(50000, 2)\n",
      "{'M': 9, 'train_size_alpha': 0.4} , 2 -> 0.13863741153254128\n",
      "{'M': 9, 'train_size_alpha': 0.4} -> [0.11985359425785473, 0.1322966501540017, 0.13863741153254128]\n",
      "logger {'M': 9, 'train_size_alpha': 0.4}, -> [0.11985359425785473, 0.1322966501540017, 0.13863741153254128]\n",
      "{'M': 9, 'train_size_alpha': 0.5} , 2 -> 0.15828687774700106\n",
      "{'M': 9, 'train_size_alpha': 0.5} -> [0.13764079012710556, 0.14461473210437456, 0.15828687774700106]\n",
      "logger {'M': 9, 'train_size_alpha': 0.5}, -> [0.13764079012710556, 0.14461473210437456, 0.15828687774700106]\n"
     ]
    },
    {
     "ename": "KeyboardInterrupt",
     "evalue": "",
     "output_type": "error",
     "traceback": [
      "\u001b[1;31m---------------------------------------------------------------------------\u001b[0m",
      "\u001b[1;31mKeyboardInterrupt\u001b[0m                         Traceback (most recent call last)",
      "\u001b[1;32m<ipython-input-13-19a78bac744c>\u001b[0m in \u001b[0;36m<module>\u001b[1;34m\u001b[0m\n\u001b[0;32m     21\u001b[0m         \u001b[0mpool\u001b[0m\u001b[1;33m.\u001b[0m\u001b[0mapply_async\u001b[0m\u001b[1;33m(\u001b[0m\u001b[0mevaluate_model\u001b[0m\u001b[1;33m,\u001b[0m \u001b[0margs\u001b[0m\u001b[1;33m=\u001b[0m\u001b[1;33m(\u001b[0m\u001b[0mmodel\u001b[0m\u001b[1;33m,\u001b[0m\u001b[0mhyperparams\u001b[0m\u001b[1;33m,\u001b[0m\u001b[0mflatten_X\u001b[0m\u001b[1;33m(\u001b[0m\u001b[0mX_train\u001b[0m\u001b[1;33m)\u001b[0m\u001b[1;33m,\u001b[0m\u001b[0my_train\u001b[0m\u001b[1;33m,\u001b[0m\u001b[1;36m1\u001b[0m\u001b[1;33m,\u001b[0m \u001b[1;33m[\u001b[0m\u001b[1;36m1\u001b[0m\u001b[1;33m/\u001b[0m\u001b[1;36m12\u001b[0m\u001b[1;33m,\u001b[0m\u001b[1;36m11\u001b[0m\u001b[1;33m/\u001b[0m\u001b[1;36m12\u001b[0m\u001b[1;33m]\u001b[0m\u001b[1;33m,\u001b[0m\u001b[0mtrials\u001b[0m\u001b[1;33m,\u001b[0m\u001b[0mN_test\u001b[0m\u001b[1;33m,\u001b[0m\u001b[0mMaxCallStochasticModel\u001b[0m\u001b[1;33m,\u001b[0m\u001b[0mV_0\u001b[0m\u001b[1;33m,\u001b[0m\u001b[1;32mNone\u001b[0m\u001b[1;33m,\u001b[0m\u001b[1;33m[\u001b[0m\u001b[1;36m2020\u001b[0m\u001b[1;33m,\u001b[0m\u001b[1;36m2021\u001b[0m\u001b[1;33m,\u001b[0m\u001b[1;36m2022\u001b[0m\u001b[1;33m]\u001b[0m\u001b[1;33m)\u001b[0m\u001b[1;33m,\u001b[0m\u001b[0mcallback\u001b[0m \u001b[1;33m=\u001b[0m \u001b[0mcreate_logger\u001b[0m\u001b[1;33m(\u001b[0m\u001b[0mhyperparams\u001b[0m\u001b[1;33m,\u001b[0m\u001b[0mresults\u001b[0m\u001b[1;33m)\u001b[0m\u001b[1;33m)\u001b[0m\u001b[1;33m\u001b[0m\u001b[1;33m\u001b[0m\u001b[0m\n\u001b[0;32m     22\u001b[0m \u001b[0mpool\u001b[0m\u001b[1;33m.\u001b[0m\u001b[0mclose\u001b[0m\u001b[1;33m(\u001b[0m\u001b[1;33m)\u001b[0m\u001b[1;33m\u001b[0m\u001b[1;33m\u001b[0m\u001b[0m\n\u001b[1;32m---> 23\u001b[1;33m \u001b[0mpool\u001b[0m\u001b[1;33m.\u001b[0m\u001b[0mjoin\u001b[0m\u001b[1;33m(\u001b[0m\u001b[1;33m)\u001b[0m\u001b[1;33m\u001b[0m\u001b[1;33m\u001b[0m\u001b[0m\n\u001b[0m\u001b[0;32m     24\u001b[0m \u001b[1;33m\u001b[0m\u001b[0m\n",
      "\u001b[1;32mc:\\users\\thoma\\appdata\\local\\programs\\python\\python37\\lib\\multiprocessing\\pool.py\u001b[0m in \u001b[0;36mjoin\u001b[1;34m(self)\u001b[0m\n\u001b[0;32m    554\u001b[0m         \u001b[1;32melif\u001b[0m \u001b[0mself\u001b[0m\u001b[1;33m.\u001b[0m\u001b[0m_state\u001b[0m \u001b[1;32mnot\u001b[0m \u001b[1;32min\u001b[0m \u001b[1;33m(\u001b[0m\u001b[0mCLOSE\u001b[0m\u001b[1;33m,\u001b[0m \u001b[0mTERMINATE\u001b[0m\u001b[1;33m)\u001b[0m\u001b[1;33m:\u001b[0m\u001b[1;33m\u001b[0m\u001b[1;33m\u001b[0m\u001b[0m\n\u001b[0;32m    555\u001b[0m             \u001b[1;32mraise\u001b[0m \u001b[0mValueError\u001b[0m\u001b[1;33m(\u001b[0m\u001b[1;34m\"In unknown state\"\u001b[0m\u001b[1;33m)\u001b[0m\u001b[1;33m\u001b[0m\u001b[1;33m\u001b[0m\u001b[0m\n\u001b[1;32m--> 556\u001b[1;33m         \u001b[0mself\u001b[0m\u001b[1;33m.\u001b[0m\u001b[0m_worker_handler\u001b[0m\u001b[1;33m.\u001b[0m\u001b[0mjoin\u001b[0m\u001b[1;33m(\u001b[0m\u001b[1;33m)\u001b[0m\u001b[1;33m\u001b[0m\u001b[1;33m\u001b[0m\u001b[0m\n\u001b[0m\u001b[0;32m    557\u001b[0m         \u001b[0mself\u001b[0m\u001b[1;33m.\u001b[0m\u001b[0m_task_handler\u001b[0m\u001b[1;33m.\u001b[0m\u001b[0mjoin\u001b[0m\u001b[1;33m(\u001b[0m\u001b[1;33m)\u001b[0m\u001b[1;33m\u001b[0m\u001b[1;33m\u001b[0m\u001b[0m\n\u001b[0;32m    558\u001b[0m         \u001b[0mself\u001b[0m\u001b[1;33m.\u001b[0m\u001b[0m_result_handler\u001b[0m\u001b[1;33m.\u001b[0m\u001b[0mjoin\u001b[0m\u001b[1;33m(\u001b[0m\u001b[1;33m)\u001b[0m\u001b[1;33m\u001b[0m\u001b[1;33m\u001b[0m\u001b[0m\n",
      "\u001b[1;32mc:\\users\\thoma\\appdata\\local\\programs\\python\\python37\\lib\\threading.py\u001b[0m in \u001b[0;36mjoin\u001b[1;34m(self, timeout)\u001b[0m\n\u001b[0;32m   1042\u001b[0m \u001b[1;33m\u001b[0m\u001b[0m\n\u001b[0;32m   1043\u001b[0m         \u001b[1;32mif\u001b[0m \u001b[0mtimeout\u001b[0m \u001b[1;32mis\u001b[0m \u001b[1;32mNone\u001b[0m\u001b[1;33m:\u001b[0m\u001b[1;33m\u001b[0m\u001b[1;33m\u001b[0m\u001b[0m\n\u001b[1;32m-> 1044\u001b[1;33m             \u001b[0mself\u001b[0m\u001b[1;33m.\u001b[0m\u001b[0m_wait_for_tstate_lock\u001b[0m\u001b[1;33m(\u001b[0m\u001b[1;33m)\u001b[0m\u001b[1;33m\u001b[0m\u001b[1;33m\u001b[0m\u001b[0m\n\u001b[0m\u001b[0;32m   1045\u001b[0m         \u001b[1;32melse\u001b[0m\u001b[1;33m:\u001b[0m\u001b[1;33m\u001b[0m\u001b[1;33m\u001b[0m\u001b[0m\n\u001b[0;32m   1046\u001b[0m             \u001b[1;31m# the behavior of a negative timeout isn't documented, but\u001b[0m\u001b[1;33m\u001b[0m\u001b[1;33m\u001b[0m\u001b[1;33m\u001b[0m\u001b[0m\n",
      "\u001b[1;32mc:\\users\\thoma\\appdata\\local\\programs\\python\\python37\\lib\\threading.py\u001b[0m in \u001b[0;36m_wait_for_tstate_lock\u001b[1;34m(self, block, timeout)\u001b[0m\n\u001b[0;32m   1058\u001b[0m         \u001b[1;32mif\u001b[0m \u001b[0mlock\u001b[0m \u001b[1;32mis\u001b[0m \u001b[1;32mNone\u001b[0m\u001b[1;33m:\u001b[0m  \u001b[1;31m# already determined that the C code is done\u001b[0m\u001b[1;33m\u001b[0m\u001b[1;33m\u001b[0m\u001b[0m\n\u001b[0;32m   1059\u001b[0m             \u001b[1;32massert\u001b[0m \u001b[0mself\u001b[0m\u001b[1;33m.\u001b[0m\u001b[0m_is_stopped\u001b[0m\u001b[1;33m\u001b[0m\u001b[1;33m\u001b[0m\u001b[0m\n\u001b[1;32m-> 1060\u001b[1;33m         \u001b[1;32melif\u001b[0m \u001b[0mlock\u001b[0m\u001b[1;33m.\u001b[0m\u001b[0macquire\u001b[0m\u001b[1;33m(\u001b[0m\u001b[0mblock\u001b[0m\u001b[1;33m,\u001b[0m \u001b[0mtimeout\u001b[0m\u001b[1;33m)\u001b[0m\u001b[1;33m:\u001b[0m\u001b[1;33m\u001b[0m\u001b[1;33m\u001b[0m\u001b[0m\n\u001b[0m\u001b[0;32m   1061\u001b[0m             \u001b[0mlock\u001b[0m\u001b[1;33m.\u001b[0m\u001b[0mrelease\u001b[0m\u001b[1;33m(\u001b[0m\u001b[1;33m)\u001b[0m\u001b[1;33m\u001b[0m\u001b[1;33m\u001b[0m\u001b[0m\n\u001b[0;32m   1062\u001b[0m             \u001b[0mself\u001b[0m\u001b[1;33m.\u001b[0m\u001b[0m_stop\u001b[0m\u001b[1;33m(\u001b[0m\u001b[1;33m)\u001b[0m\u001b[1;33m\u001b[0m\u001b[1;33m\u001b[0m\u001b[0m\n",
      "\u001b[1;31mKeyboardInterrupt\u001b[0m: "
     ]
    }
   ],
   "source": [
    "from multiprocessing import  cpu_count,current_process\n",
    "from multiprocessing.pool import ThreadPool\n",
    "import functools\n",
    "import threading\n",
    "\n",
    "from aggregating.gridsearch import create_logger, evaluate_model\n",
    "from aggregating.utils import flatten_X\n",
    "\n",
    "# GRIDSEARCH PARAMS\n",
    "model = SimpleBagger(0,0,GaussianProcessRegressor(kernel,copy_X_train=False))\n",
    "trials = 3\n",
    "M_grid = [1,3,5,7,9]\n",
    "alpha_grid = [0.2,0.3,0.4,0.5]\n",
    "results = []\n",
    "print(cpu_count())\n",
    "### ACTUAL GRIDSEARCH\n",
    "pool = ThreadPool(cpu_count()-2) \n",
    "for m in M_grid:\n",
    "    for alpha in alpha_grid:\n",
    "        hyperparams= {'M':m, 'train_size_alpha':alpha}\n",
    "        pool.apply_async(evaluate_model, args=(model,hyperparams,flatten_X(X_train),y_train,1, [1/12,11/12],trials,N_test,MaxCallStochasticModel,V_0,None,[2020,2021,2022]),callback = create_logger(hyperparams,results))\n",
    "pool.close()\n",
    "pool.join()\n",
    "\n"
   ]
  },
  {
   "cell_type": "code",
   "execution_count": 14,
   "metadata": {
    "ExecuteTime": {
     "end_time": "2020-12-12T12:35:53.264635Z",
     "start_time": "2020-12-12T12:35:53.255659Z"
    },
    "id": "DBdsjTDM0fao"
   },
   "outputs": [
    {
     "name": "stdout",
     "output_type": "stream",
     "text": [
      "[1, 0.2, [0.1840568665967906, 0.19855485117530206, 0.20177120267011714]]\n",
      "[1, 0.3, [0.18445978512690997, 0.1996890786983531, 0.19287460634690035]]\n",
      "[1, 0.4, [0.1562051102053035, 0.16670611346579045, 0.17330706353040537]]\n",
      "[1, 0.5, [0.2316120491917576, 0.25864761651669493, 0.2539762340827514]]\n",
      "[3, 0.2, [0.16176283914552012, 0.1699953876755875, 0.16423112091178746]]\n",
      "[3, 0.3, [0.11040251771557259, 0.11271713479036491, 0.12160244069657704]]\n",
      "[3, 0.4, [0.13004539271825988, 0.14957949713886848, 0.14888736628922342]]\n",
      "[5, 0.2, [0.12117313460878815, 0.1279546358259493, 0.12356273282480769]]\n",
      "[3, 0.5, [0.12220362368224616, 0.12685371358905792, 0.13711205752415193]]\n",
      "[5, 0.3, [0.11650845505422952, 0.1308364899168221, 0.13522609011086456]]\n",
      "[5, 0.4, [0.12868413720390204, 0.14730176296632055, 0.1534100179330432]]\n",
      "[7, 0.3, [0.12992136838253518, 0.14699153964611164, 0.15101375918416773]]\n",
      "[5, 0.5, [0.1730126055923412, 0.17972655277583563, 0.18560729414901378]]\n",
      "[7, 0.2, [0.13359485936188306, 0.14773782796634524, 0.14037870313763073]]\n",
      "[9, 0.2, [0.12085441288794387, 0.1336168960012374, 0.1274017704771494]]\n",
      "[7, 0.4, [0.13340448929790416, 0.1506667167329666, 0.15609818336555673]]\n",
      "[9, 0.3, [0.11574074112946657, 0.12776819397819475, 0.13063216466831173]]\n",
      "[7, 0.5, [0.15425924508154462, 0.16840870539489353, 0.17713582682728393]]\n",
      "[9, 0.4, [0.11985359425785473, 0.1322966501540017, 0.13863741153254128]]\n",
      "[9, 0.5, [0.13764079012710556, 0.14461473210437456, 0.15828687774700106]]\n",
      "(5, 4, 3)\n",
      "[[[0.18405687 0.19855485 0.2017712 ]\n",
      "  [0.18445979 0.19968908 0.19287461]\n",
      "  [0.15620511 0.16670611 0.17330706]\n",
      "  [0.23161205 0.25864762 0.25397623]]\n",
      "\n",
      " [[0.16176284 0.16999539 0.16423112]\n",
      "  [0.11040252 0.11271713 0.12160244]\n",
      "  [0.13004539 0.1495795  0.14888737]\n",
      "  [0.12220362 0.12685371 0.13711206]]\n",
      "\n",
      " [[0.12117313 0.12795464 0.12356273]\n",
      "  [0.11650846 0.13083649 0.13522609]\n",
      "  [0.12868414 0.14730176 0.15341002]\n",
      "  [0.17301261 0.17972655 0.18560729]]\n",
      "\n",
      " [[0.13359486 0.14773783 0.1403787 ]\n",
      "  [0.12992137 0.14699154 0.15101376]\n",
      "  [0.13340449 0.15066672 0.15609818]\n",
      "  [0.15425925 0.16840871 0.17713583]]\n",
      "\n",
      " [[0.12085441 0.1336169  0.12740177]\n",
      "  [0.11574074 0.12776819 0.13063216]\n",
      "  [0.11985359 0.13229665 0.13863741]\n",
      "  [0.13764079 0.14461473 0.15828688]]]\n"
     ]
    }
   ],
   "source": [
    "converted_results = np.ones((len(M_grid),len(alpha_grid),trials))*(-1)\n",
    "for item in results:\n",
    "    print(item)\n",
    "    converted_results[M_grid.index(item[0]),alpha_grid.index(item[1])] = item[2]\n",
    "\n",
    "print(converted_results.shape)\n",
    "print(converted_results)"
   ]
  },
  {
   "cell_type": "code",
   "execution_count": 15,
   "metadata": {
    "ExecuteTime": {
     "end_time": "2020-12-12T12:35:57.598043Z",
     "start_time": "2020-12-12T12:35:57.586029Z"
    },
    "id": "rPHgBIns0fao"
   },
   "outputs": [
    {
     "data": {
      "text/plain": [
       "(5, 4)"
      ]
     },
     "execution_count": 15,
     "metadata": {},
     "output_type": "execute_result"
    }
   ],
   "source": [
    "masked_results= np.ma.masked_where(converted_results <= 0.0,converted_results) # some runs have been aborted every now and then -> filter them out\n",
    "means = masked_results.mean(axis=2)\n",
    "sigmas = masked_results.std(axis=2)\n",
    "means.shape"
   ]
  },
  {
   "cell_type": "code",
   "execution_count": 17,
   "metadata": {
    "ExecuteTime": {
     "end_time": "2020-12-12T12:42:44.673848Z",
     "start_time": "2020-12-12T12:42:44.060490Z"
    },
    "id": "sGxPSAhY0fao"
   },
   "outputs": [
    {
     "data": {
      "image/png": "[encoded data removed]",
      "text/plain": [
       "<Figure size 432x288 with 1 Axes>"
      ]
     },
     "metadata": {
      "needs_background": "light"
     },
     "output_type": "display_data"
    }
   ],
   "source": [
    "plt.hlines(reference_error_mean,xmin=M_grid[0],xmax=M_grid[-1],linestyles='dashed',label=\"reference error\")\n",
    "for i in range(len(alpha_grid)):\n",
    "    plt.errorbar(np.array(M_grid),means[:,i],sigmas[:,i],marker ='o',label = f\"alpha = {alpha_grid[i]}\")\n",
    "plt.title(f\"Bagging Normalized error: N_train = {N_train}, d= {d}, N_test= {N_test}\")\n",
    "plt.xlabel(\"M\")\n",
    "plt.xticks(M_grid)\n",
    "plt.ylabel(\"normalized error\")\n",
    "plt.legend(loc='upper right')\n",
    "plt.savefig(\"hard_bagging.png\")\n",
    "plt.show()"
   ]
  },
  {
   "cell_type": "markdown",
   "metadata": {
    "id": "I7Welij90fao"
   },
   "source": [
    "\n"
   ]
  },
  {
   "cell_type": "markdown",
   "metadata": {
    "ExecuteTime": {
     "end_time": "2020-11-15T17:54:08.608678Z",
     "start_time": "2020-11-15T17:54:08.603664Z"
    },
    "id": "1rzYa8Tb0fao"
   },
   "source": [
    "## Store results"
   ]
  },
  {
   "cell_type": "code",
   "execution_count": 18,
   "metadata": {
    "ExecuteTime": {
     "end_time": "2020-12-12T12:42:47.573090Z",
     "start_time": "2020-12-12T12:42:47.564114Z"
    },
    "id": "D6CwhCiR0fao"
   },
   "outputs": [],
   "source": [
    "res_dict = {'N_train': N_train, 'N_test': N_test,'mgrid': M_grid, 'alpha_grid': alpha_grid, 'errors': converted_results.tolist()}"
   ]
  },
  {
   "cell_type": "code",
   "execution_count": 19,
   "metadata": {
    "ExecuteTime": {
     "end_time": "2020-12-12T12:42:48.227340Z",
     "start_time": "2020-12-12T12:42:48.216372Z"
    },
    "id": "tizPo21G0fao"
   },
   "outputs": [],
   "source": [
    "import json\n",
    "import datetime\n",
    "with open(f'#0005_hard_bagging_{str(datetime.date.today())}.json', 'w') as fp:\n",
    "    json.dump(res_dict, fp)"
   ]
  },
  {
   "cell_type": "code",
   "execution_count": 21,
   "metadata": {
    "ExecuteTime": {
     "end_time": "2020-12-12T14:43:10.850382Z",
     "start_time": "2020-12-12T14:43:10.844399Z"
    }
   },
   "outputs": [
    {
     "data": {
      "text/plain": [
       "array([[[0.18405687, 0.19855485, 0.2017712 ],\n",
       "        [0.18445979, 0.19968908, 0.19287461],\n",
       "        [0.15620511, 0.16670611, 0.17330706],\n",
       "        [0.23161205, 0.25864762, 0.25397623]],\n",
       "\n",
       "       [[0.16176284, 0.16999539, 0.16423112],\n",
       "        [0.11040252, 0.11271713, 0.12160244],\n",
       "        [0.13004539, 0.1495795 , 0.14888737],\n",
       "        [0.12220362, 0.12685371, 0.13711206]],\n",
       "\n",
       "       [[0.12117313, 0.12795464, 0.12356273],\n",
       "        [0.11650846, 0.13083649, 0.13522609],\n",
       "        [0.12868414, 0.14730176, 0.15341002],\n",
       "        [0.17301261, 0.17972655, 0.18560729]],\n",
       "\n",
       "       [[0.13359486, 0.14773783, 0.1403787 ],\n",
       "        [0.12992137, 0.14699154, 0.15101376],\n",
       "        [0.13340449, 0.15066672, 0.15609818],\n",
       "        [0.15425925, 0.16840871, 0.17713583]],\n",
       "\n",
       "       [[0.12085441, 0.1336169 , 0.12740177],\n",
       "        [0.11574074, 0.12776819, 0.13063216],\n",
       "        [0.11985359, 0.13229665, 0.13863741],\n",
       "        [0.13764079, 0.14461473, 0.15828688]]])"
      ]
     },
     "execution_count": 21,
     "metadata": {},
     "output_type": "execute_result"
    }
   ],
   "source": [
    "converted_results"
   ]
  },
  {
   "cell_type": "code",
   "execution_count": null,
   "metadata": {},
   "outputs": [],
   "source": []
  }
 ],
 "metadata": {
  "colab": {
   "name": "#0005_Ensemble_Bagging.ipynb",
   "provenance": [],
   "toc_visible": true
  },
  "kernelspec": {
   "display_name": "Python 3",
   "language": "python",
   "name": "python3"
  },
  "language_info": {
   "codemirror_mode": {
    "name": "ipython",
    "version": 3
   },
   "file_extension": ".py",
   "mimetype": "text/x-python",
   "name": "python",
   "nbconvert_exporter": "python",
   "pygments_lexer": "ipython3",
   "version": "3.7.5"
  },
  "toc": {
   "base_numbering": 1,
   "nav_menu": {},
   "number_sections": true,
   "sideBar": true,
   "skip_h1_title": false,
   "title_cell": "Table of Contents",
   "title_sidebar": "Contents",
   "toc_cell": false,
   "toc_position": {},
   "toc_section_display": true,
   "toc_window_display": false
  }
 },
 "nbformat": 4,
 "nbformat_minor": 1
}
