{
  "nbformat": 4,
  "nbformat_minor": 0,
  "metadata": {
    "kernelspec": {
      "display_name": "Python 3",
      "language": "python",
      "name": "python3"
    },
    "language_info": {
      "codemirror_mode": {
        "name": "ipython",
        "version": 3
      },
      "file_extension": ".py",
      "mimetype": "text/x-python",
      "name": "python",
      "nbconvert_exporter": "python",
      "pygments_lexer": "ipython3",
      "version": "3.7.5"
    },
    "toc": {
      "base_numbering": 1,
      "nav_menu": {},
      "number_sections": true,
      "sideBar": true,
      "skip_h1_title": false,
      "title_cell": "Table of Contents",
      "title_sidebar": "Contents",
      "toc_cell": false,
      "toc_position": {},
      "toc_section_display": true,
      "toc_window_display": false
    },
    "colab": {
      "name": "#0005_Ensemble_Bagging.ipynb",
      "provenance": [],
      "toc_visible": true
    }
  },
  "cells": [
    {
      "cell_type": "markdown",
      "metadata": {
        "id": "UTAM9bg50fam"
      },
      "source": [
        "# Ensemble Learning through Bagging \n",
        "\n",
        "**bagging == Bootstrapping Aggregation** \n",
        "\n",
        "$\\implies$  hyperparam = {M = #learners, alpha = # relative trainset size}\n"
      ]
    },
    {
      "cell_type": "code",
      "metadata": {
        "ExecuteTime": {
          "end_time": "2020-11-19T19:33:18.394937Z",
          "start_time": "2020-11-19T19:33:17.042552Z"
        },
        "id": "dG7lVo470fam",
        "colab": {
          "base_uri": "https://localhost:8080/"
        },
        "outputId": "233bb314-1c92-4130-dfbf-4cb8cb97946d"
      },
      "source": [
        "!git clone https://github.com/tlpss/ML-Project2.git\n",
        "\n",
        "import numpy as np\n",
        "import random\n",
        "import matplotlib.pyplot as plt\n",
        "from sklearn.gaussian_process import GaussianProcessRegressor\n",
        "from sklearn.gaussian_process.kernels import RBF, WhiteKernel\n",
        "\n",
        "# add project root folder to path to allow import local modules\n",
        "import os\n",
        "import sys\n",
        "sys.path.append(os.path.abspath(os.path.join('./ML-Project2')))\n",
        "\n",
        "module_path = os.path.abspath(os.path.join('..'))\n",
        "if module_path not in sys.path:\n",
        "    sys.path.append(module_path)\n",
        "# import local modules\n",
        "from stochastic_models import *\n",
        "from visualisations import *\n"
      ],
      "execution_count": 3,
      "outputs": [
        {
          "output_type": "stream",
          "text": [
            "fatal: destination path 'ML-Project2' already exists and is not an empty directory.\n"
          ],
          "name": "stdout"
        }
      ]
    },
    {
      "cell_type": "markdown",
      "metadata": {
        "ExecuteTime": {
          "end_time": "2020-11-14T11:40:28.368547Z",
          "start_time": "2020-11-14T11:40:28.365554Z"
        },
        "id": "piWP2Y710fam"
      },
      "source": [
        "## Parameter Configuration"
      ]
    },
    {
      "cell_type": "code",
      "metadata": {
        "ExecuteTime": {
          "end_time": "2020-11-19T19:33:18.399924Z",
          "start_time": "2020-11-19T19:33:18.395934Z"
        },
        "id": "QVy6iI6f0fam"
      },
      "source": [
        "np.random.seed(2020)"
      ],
      "execution_count": 4,
      "outputs": []
    },
    {
      "cell_type": "code",
      "metadata": {
        "ExecuteTime": {
          "end_time": "2020-11-19T19:33:18.404911Z",
          "start_time": "2020-11-19T19:33:18.400921Z"
        },
        "id": "VgF1gYSZ0fam"
      },
      "source": [
        "N_train = 5000\n",
        "N_test = 50000\n",
        "d = 1\n",
        "T = 2"
      ],
      "execution_count": 5,
      "outputs": []
    },
    {
      "cell_type": "code",
      "metadata": {
        "ExecuteTime": {
          "end_time": "2020-11-19T19:33:18.411892Z",
          "start_time": "2020-11-19T19:33:18.406906Z"
        },
        "id": "auFqti170fam"
      },
      "source": [
        "lambda_range = (N_train*1e-9 , N_train*1e-3)\n",
        "alpha_range = (8.3*1e-5, 0.83)\n",
        "length_scale = np.sort(1/np.sqrt((2*alpha_range[0], 2*alpha_range[1])))"
      ],
      "execution_count": 6,
      "outputs": []
    },
    {
      "cell_type": "markdown",
      "metadata": {
        "ExecuteTime": {
          "end_time": "2020-11-14T11:40:29.811046Z",
          "start_time": "2020-11-14T11:40:29.808054Z"
        },
        "id": "Ibn03cnz0fam"
      },
      "source": [
        "## Create Kernel & prepare datasets"
      ]
    },
    {
      "cell_type": "code",
      "metadata": {
        "ExecuteTime": {
          "end_time": "2020-11-19T19:33:18.417877Z",
          "start_time": "2020-11-19T19:33:18.412889Z"
        },
        "id": "wjD-Ur7D0fam"
      },
      "source": [
        "#kernel\n",
        "kernel = RBF(length_scale= (length_scale[0] + length_scale[1])/2, length_scale_bounds=length_scale) \\\n",
        "        + WhiteKernel(noise_level= (lambda_range[0] + lambda_range[1])/2 , noise_level_bounds=lambda_range)\n"
      ],
      "execution_count": 7,
      "outputs": []
    },
    {
      "cell_type": "code",
      "metadata": {
        "ExecuteTime": {
          "end_time": "2020-11-19T19:33:18.432836Z",
          "start_time": "2020-11-19T19:33:18.418874Z"
        },
        "id": "eV0D444n0fan"
      },
      "source": [
        "#generate drivers\n",
        "s_train = MaxCallStochasticModel(N_train,d,[1/12,11/12])\n",
        "s_train.generate_samples()\n",
        "s_test = MaxCallStochasticModel(N_test, d, [1/12,11/12])\n",
        "s_test.generate_samples()"
      ],
      "execution_count": 8,
      "outputs": []
    },
    {
      "cell_type": "code",
      "metadata": {
        "ExecuteTime": {
          "end_time": "2020-11-19T19:33:18.441812Z",
          "start_time": "2020-11-19T19:33:18.433833Z"
        },
        "id": "mZu9AViu0fan"
      },
      "source": [
        "#prepare datasets & values\n",
        "y_train = s_train.y\n",
        "X_train = s_train.X\n",
        "S_train = s_train.S\n",
        "\n",
        "y_test = s_test.y\n",
        "X_test = s_test.X\n",
        "S_test = s_test.S\n",
        "\n",
        "V_T = y_test  \n"
      ],
      "execution_count": 9,
      "outputs": []
    },
    {
      "cell_type": "code",
      "metadata": {
        "id": "robWrT8JyG5d",
        "outputId": "8ba114b4-ede5-4fbc-cadd-6351e82058bc",
        "colab": {
          "base_uri": "https://localhost:8080/"
        }
      },
      "source": [
        "## calculate V_0 separately using bigger dataset\n",
        "s_v =MaxCallStochasticModel(200000, d, [1/12,11/12])\n",
        "s_v.generate_samples()\n",
        "V_0 = s_v.generate_true_V(0)\n",
        "\n",
        "V_0= V_0.mean()\n",
        "V_0 # Average expected PROFIT!"
      ],
      "execution_count": 10,
      "outputs": [
        {
          "output_type": "execute_result",
          "data": {
            "text/plain": [
              "0.0794089095719135"
            ]
          },
          "metadata": {
            "tags": []
          },
          "execution_count": 10
        }
      ]
    },
    {
      "cell_type": "code",
      "metadata": {
        "ExecuteTime": {
          "end_time": "2020-11-19T19:33:18.447798Z",
          "start_time": "2020-11-19T19:33:18.443808Z"
        },
        "id": "CDNrXA_P0fan",
        "colab": {
          "base_uri": "https://localhost:8080/"
        },
        "outputId": "9654cc11-13cf-419d-c3c0-b02142786838"
      },
      "source": [
        "X_test.shape"
      ],
      "execution_count": 12,
      "outputs": [
        {
          "output_type": "execute_result",
          "data": {
            "text/plain": [
              "(50000, 1, 2)"
            ]
          },
          "metadata": {
            "tags": []
          },
          "execution_count": 12
        }
      ]
    },
    {
      "cell_type": "markdown",
      "metadata": {
        "ExecuteTime": {
          "end_time": "2020-11-14T11:40:33.048462Z",
          "start_time": "2020-11-14T11:40:33.045471Z"
        },
        "id": "k832NbtC0fao"
      },
      "source": [
        "## Create Custom Models\n",
        "(to have more control of splitting etc)"
      ]
    },
    {
      "cell_type": "code",
      "metadata": {
        "ExecuteTime": {
          "end_time": "2020-11-19T19:33:18.456772Z",
          "start_time": "2020-11-19T19:33:18.449791Z"
        },
        "id": "OcPQ76n_0fao",
        "colab": {
          "base_uri": "https://localhost:8080/"
        },
        "outputId": "afcf992a-26fa-412c-f5ab-3f4b337d5446"
      },
      "source": [
        "from aggregating.models import SimpleBagger\n",
        "s = SimpleBagger(11,0.5,None)\n",
        "s.get_params()"
      ],
      "execution_count": 13,
      "outputs": [
        {
          "output_type": "execute_result",
          "data": {
            "text/plain": [
              "{'M': 11, 'predictor': None, 'train_size_alpha': 0.5}"
            ]
          },
          "metadata": {
            "tags": []
          },
          "execution_count": 13
        }
      ]
    },
    {
      "cell_type": "markdown",
      "metadata": {
        "id": "iqONM3sj0fao"
      },
      "source": [
        "## GridSearch\n",
        "\n",
        "nB: cannot use Scikit gridsearch as it performs CV and we want to have a different test set of a larger size!"
      ]
    },
    {
      "cell_type": "code",
      "metadata": {
        "ExecuteTime": {
          "end_time": "2020-11-15T17:27:39.347302Z",
          "start_time": "2020-11-15T17:27:39.344239Z"
        },
        "id": "a2BFgvcD0fao",
        "colab": {
          "base_uri": "https://localhost:8080/"
        },
        "outputId": "5ade6dd8-6fc5-480b-b779-c0b37039fbf4"
      },
      "source": [
        "#reference:\n",
        "from aggregating.gridsearch import create_logger, evaluate_model\n",
        "from aggregating.utils import flatten_X\n",
        "\n",
        "hyperparams= {'M':1, 'train_size_alpha':1.0} #baseline!\n",
        "model = GaussianProcessRegressor(kernel)\n",
        "reference_error = evaluate_model(model,hyperparams,flatten_X(X_train),y_train,1, [1/12,11/12],3,N_test,MaxCallStochasticModel,V_0)\n",
        "print(reference_error)"
      ],
      "execution_count": 25,
      "outputs": [
        {
          "output_type": "stream",
          "text": [
            " {'M': 1, 'train_size_alpha': 1.0} -> thread id = 139877870290816\n",
            "{'M': 1, 'train_size_alpha': 1.0} , 0 -> 0.13961571842654963\n",
            "{'M': 1, 'train_size_alpha': 1.0} , 1 -> 0.1439832429698755\n",
            "{'M': 1, 'train_size_alpha': 1.0} , 2 -> 0.16041179271720074\n",
            "{'M': 1, 'train_size_alpha': 1.0} -> [0.13961571842654963, 0.1439832429698755, 0.16041179271720074]\n",
            "[0.13961571842654963, 0.1439832429698755, 0.16041179271720074]\n"
          ],
          "name": "stdout"
        }
      ]
    },
    {
      "cell_type": "code",
      "metadata": {
        "id": "1jeiJMQMezlk",
        "colab": {
          "base_uri": "https://localhost:8080/"
        },
        "outputId": "52d924be-267f-445c-f29b-33f9c8961eb3"
      },
      "source": [
        "reference_error_mean = sum(reference_error)/len(reference_error)\n",
        "print(reference_error_mean)"
      ],
      "execution_count": 26,
      "outputs": [
        {
          "output_type": "stream",
          "text": [
            "0.14800358470454197\n"
          ],
          "name": "stdout"
        }
      ]
    },
    {
      "cell_type": "code",
      "metadata": {
        "ExecuteTime": {
          "start_time": "2020-11-19T19:33:17.063Z"
        },
        "id": "AlUGmpIc0fao",
        "colab": {
          "base_uri": "https://localhost:8080/"
        },
        "outputId": "ead8438e-92b3-4a44-8b96-f785d535ba8e"
      },
      "source": [
        "from multiprocessing import  cpu_count,current_process\n",
        "from multiprocessing.pool import ThreadPool\n",
        "import functools\n",
        "import threading\n",
        "\n",
        "from aggregating.gridsearch import create_logger, evaluate_model\n",
        "from aggregating.utils import flatten_X\n",
        "\n",
        "# GRIDSEARCH PARAMS\n",
        "model = SimpleBagger(0,0,GaussianProcessRegressor(kernel,copy_X_train=False))\n",
        "trials = 3\n",
        "M_grid = [5,7,9,11,13]\n",
        "alpha_grid = [0.01,0.05,0.1,0.3,0.5]\n",
        "results = []\n",
        "print(cpu_count())\n",
        "### ACTUAL GRIDSEARCH\n",
        "pool = ThreadPool(2) #avoid allocation issues\n",
        "for m in M_grid:\n",
        "    for alpha in alpha_grid:\n",
        "        hyperparams= {'M':m, 'train_size_alpha':alpha}\n",
        "        pool.apply_async(evaluate_model, args=(model,hyperparams,flatten_X(X_train),y_train,1, [1/12,11/12],trials,N_test,MaxCallStochasticModel,V_0),callback = create_logger(hyperparams,results))\n",
        "pool.close()\n",
        "pool.join()\n",
        "\n"
      ],
      "execution_count": 19,
      "outputs": [
        {
          "output_type": "stream",
          "text": [
            "2\n",
            " {'M': 5, 'train_size_alpha': 0.01} -> thread id = 139877156321024\n",
            "fit\n",
            "(5000, 2)\n",
            " {'M': 5, 'train_size_alpha': 0.05} -> thread id = 139877147928320\n",
            "fit\n",
            "(5000, 2)\n",
            "predict\n",
            "(50000, 2)\n",
            "{'M': 5, 'train_size_alpha': 0.01} , 0 -> 0.3466503938926859\n",
            "predict\n",
            "(50000, 2)\n",
            "predict\n",
            "(50000, 2)\n",
            "{'M': 5, 'train_size_alpha': 0.01} , 1 -> 0.34518758018014845\n",
            "predict\n",
            "(50000, 2)\n",
            "{'M': 5, 'train_size_alpha': 0.01} , 2 -> 0.33787928815715446\n",
            "{'M': 5, 'train_size_alpha': 0.01} -> [0.3466503938926859, 0.34518758018014845, 0.33787928815715446]\n",
            " {'M': 5, 'train_size_alpha': 0.1} -> thread id = 139877156321024logger {'M': 5, 'train_size_alpha': 0.01}, -> [0.3466503938926859, 0.34518758018014845, 0.33787928815715446]\n",
            "\n",
            "fit\n",
            "(5000, 2)\n",
            "{'M': 5, 'train_size_alpha': 0.05} , 0 -> 0.23575809127419792\n",
            "predict\n",
            "(50000, 2)\n",
            "predict\n",
            "(50000, 2)\n",
            "{'M': 5, 'train_size_alpha': 0.05} , 1 -> 0.2401477269329611\n",
            "predict\n",
            "(50000, 2)\n",
            "{'M': 5, 'train_size_alpha': 0.05} , 2 -> 0.2516913382045895\n",
            "{'M': 5, 'train_size_alpha': 0.05} -> [0.23575809127419792, 0.2401477269329611, 0.2516913382045895]\n",
            " {'M': 5, 'train_size_alpha': 0.3} -> thread id = 139877147928320logger {'M': 5, 'train_size_alpha': 0.05}, -> [0.23575809127419792, 0.2401477269329611, 0.2516913382045895]\n",
            "\n",
            "fit\n",
            "(5000, 2)\n",
            "{'M': 5, 'train_size_alpha': 0.1} , 0 -> 0.23653601852051814\n",
            "predict\n",
            "(50000, 2)\n",
            "{'M': 5, 'train_size_alpha': 0.1} , 1 -> 0.24028719518238262\n",
            "predict\n",
            "(50000, 2)\n",
            "predict\n",
            "(50000, 2)\n",
            "{'M': 5, 'train_size_alpha': 0.1} , 2 -> 0.2402101974387289\n",
            "{'M': 5, 'train_size_alpha': 0.1} -> [0.23653601852051814, 0.24028719518238262, 0.2402101974387289]\n",
            " {'M': 5, 'train_size_alpha': 0.5} -> thread id = 139877156321024logger {'M': 5, 'train_size_alpha': 0.1}, -> [0.23653601852051814, 0.24028719518238262, 0.2402101974387289]\n",
            "\n",
            "fit\n",
            "(5000, 2)\n",
            "{'M': 5, 'train_size_alpha': 0.3} , 0 -> 0.16663773158870523\n",
            "predict\n",
            "(50000, 2)\n",
            "{'M': 5, 'train_size_alpha': 0.3} , 1 -> 0.15073769987843677\n",
            "predict\n",
            "(50000, 2)\n",
            "predict\n",
            "(50000, 2)\n",
            "{'M': 5, 'train_size_alpha': 0.3} , 2 -> 0.12333443036325216\n",
            "{'M': 5, 'train_size_alpha': 0.3} -> [0.16663773158870523, 0.15073769987843677, 0.12333443036325216]\n",
            " {'M': 7, 'train_size_alpha': 0.01} -> thread id = 139877147928320logger {'M': 5, 'train_size_alpha': 0.3}, -> [0.16663773158870523, 0.15073769987843677, 0.12333443036325216]\n",
            "\n",
            "fit\n",
            "(5000, 2)\n",
            "predict\n",
            "(50000, 2)\n",
            "{'M': 7, 'train_size_alpha': 0.01} , 0 -> 0.2324867287491356\n",
            "predict\n",
            "(50000, 2)\n",
            "{'M': 7, 'train_size_alpha': 0.01} , 1 -> 0.2234221388280565\n",
            "predict\n",
            "(50000, 2)\n",
            "{'M': 7, 'train_size_alpha': 0.01} , 2 -> 0.2166417868183079\n",
            "{'M': 7, 'train_size_alpha': 0.01} -> [0.2324867287491356, 0.2234221388280565, 0.2166417868183079]\n",
            " {'M': 7, 'train_size_alpha': 0.05} -> thread id = 139877147928320logger {'M': 7, 'train_size_alpha': 0.01}, -> [0.2324867287491356, 0.2234221388280565, 0.2166417868183079]\n",
            "\n",
            "fit\n",
            "(5000, 2)\n",
            "predict\n",
            "(50000, 2)\n",
            "{'M': 7, 'train_size_alpha': 0.05} , 0 -> 0.1376348780469928\n",
            "predict\n",
            "(50000, 2)\n",
            "{'M': 7, 'train_size_alpha': 0.05} , 1 -> 0.12899084150981455\n",
            "predict\n",
            "(50000, 2)\n",
            "{'M': 7, 'train_size_alpha': 0.05} , 2 -> 0.12776062628176607\n",
            "{'M': 7, 'train_size_alpha': 0.05} -> [0.1376348780469928, 0.12899084150981455, 0.12776062628176607]\n",
            " {'M': 7, 'train_size_alpha': 0.1} -> thread id = 139877147928320logger {'M': 7, 'train_size_alpha': 0.05}, -> [0.1376348780469928, 0.12899084150981455, 0.12776062628176607]\n",
            "\n",
            "fit\n",
            "(5000, 2)\n",
            "{'M': 5, 'train_size_alpha': 0.5} , 0 -> 0.18207463478674935\n",
            "predict\n",
            "(50000, 2)\n",
            "predict\n",
            "(50000, 2)\n",
            "{'M': 7, 'train_size_alpha': 0.1} , 0 -> 0.20199667277414457\n",
            "predict\n",
            "(50000, 2)\n",
            "{'M': 7, 'train_size_alpha': 0.1} , 1 -> 0.18362461733337276\n",
            "predict\n",
            "(50000, 2)\n",
            "{'M': 5, 'train_size_alpha': 0.5} , 1 -> 0.17654978145063632\n",
            "{'M': 7, 'train_size_alpha': 0.1} , 2 -> 0.1914501637219048\n",
            "{'M': 7, 'train_size_alpha': 0.1} -> [0.20199667277414457, 0.18362461733337276, 0.1914501637219048]\n",
            " {'M': 7, 'train_size_alpha': 0.3} -> thread id = 139877147928320logger {'M': 7, 'train_size_alpha': 0.1}, -> [0.20199667277414457, 0.18362461733337276, 0.1914501637219048]\n",
            "predict\n",
            "(50000, 2)\n",
            "\n",
            "fit\n",
            "(5000, 2)\n",
            "predict\n",
            "(50000, 2)\n",
            "{'M': 5, 'train_size_alpha': 0.5} , 2 -> 0.17170728213400863\n",
            "{'M': 5, 'train_size_alpha': 0.5} -> [0.18207463478674935, 0.17654978145063632, 0.17170728213400863]\n",
            " {'M': 7, 'train_size_alpha': 0.5} -> thread id = 139877156321024logger {'M': 5, 'train_size_alpha': 0.5}, -> [0.18207463478674935, 0.17654978145063632, 0.17170728213400863]\n",
            "\n",
            "fit\n",
            "(5000, 2)\n",
            "{'M': 7, 'train_size_alpha': 0.3} , 0 -> 0.13743482207704288\n",
            "predict\n",
            "(50000, 2)\n",
            "{'M': 7, 'train_size_alpha': 0.3} , 1 -> 0.13541372506132685\n",
            "predict\n",
            "(50000, 2)\n",
            "predict\n",
            "(50000, 2)\n",
            "{'M': 7, 'train_size_alpha': 0.3} , 2 -> 0.13569909412464956\n",
            "{'M': 7, 'train_size_alpha': 0.3} -> [0.13743482207704288, 0.13541372506132685, 0.13569909412464956]\n",
            " {'M': 9, 'train_size_alpha': 0.01} -> thread id = 139877147928320logger {'M': 7, 'train_size_alpha': 0.3}, -> [0.13743482207704288, 0.13541372506132685, 0.13569909412464956]\n",
            "\n",
            "fit\n",
            "(5000, 2)\n",
            "predict\n",
            "(50000, 2)\n",
            "{'M': 9, 'train_size_alpha': 0.01} , 0 -> 0.2421206492105991\n",
            "predict\n",
            "(50000, 2)\n",
            "{'M': 9, 'train_size_alpha': 0.01} , 1 -> 0.25912898506445\n",
            "predict\n",
            "(50000, 2)\n",
            "{'M': 9, 'train_size_alpha': 0.01} , 2 -> 0.25847866747386977\n",
            "{'M': 9, 'train_size_alpha': 0.01} -> [0.2421206492105991, 0.25912898506445, 0.25847866747386977]\n",
            " {'M': 9, 'train_size_alpha': 0.05} -> thread id = 139877147928320logger {'M': 9, 'train_size_alpha': 0.01}, -> [0.2421206492105991, 0.25912898506445, 0.25847866747386977]\n",
            "\n",
            "fit\n",
            "(5000, 2)\n",
            "predict\n",
            "(50000, 2)\n",
            "{'M': 9, 'train_size_alpha': 0.05} , 0 -> 0.18352472723127483\n",
            "predict\n",
            "(50000, 2)\n",
            "{'M': 9, 'train_size_alpha': 0.05} , 1 -> 0.1814066812091378\n",
            "predict\n",
            "(50000, 2)\n",
            "{'M': 9, 'train_size_alpha': 0.05} , 2 -> 0.20225409093659943\n",
            "{'M': 9, 'train_size_alpha': 0.05} -> [0.18352472723127483, 0.1814066812091378, 0.20225409093659943]\n",
            " {'M': 9, 'train_size_alpha': 0.1} -> thread id = 139877147928320logger {'M': 9, 'train_size_alpha': 0.05}, -> [0.18352472723127483, 0.1814066812091378, 0.20225409093659943]\n",
            "\n",
            "fit\n",
            "(5000, 2)\n",
            "predict\n",
            "(50000, 2)\n",
            "{'M': 7, 'train_size_alpha': 0.5} , 0 -> 0.17155959711029484\n",
            "predict\n",
            "(50000, 2)\n",
            "{'M': 9, 'train_size_alpha': 0.1} , 0 -> 0.20162013723956582\n",
            "predict\n",
            "(50000, 2)\n",
            "{'M': 9, 'train_size_alpha': 0.1} , 1 -> 0.21134638881675438\n",
            "predict\n",
            "(50000, 2)\n",
            "{'M': 9, 'train_size_alpha': 0.1} , 2 -> 0.19458218438497213\n",
            "{'M': 9, 'train_size_alpha': 0.1} -> [0.20162013723956582, 0.21134638881675438, 0.19458218438497213]\n",
            " {'M': 9, 'train_size_alpha': 0.3} -> thread id = 139877147928320logger {'M': 9, 'train_size_alpha': 0.1}, -> [0.20162013723956582, 0.21134638881675438, 0.19458218438497213]\n",
            "\n",
            "fit\n",
            "(5000, 2)\n",
            "{'M': 7, 'train_size_alpha': 0.5} , 1 -> 0.1742179369934229\n",
            "predict\n",
            "(50000, 2)\n",
            "predict\n",
            "(50000, 2)\n",
            "{'M': 9, 'train_size_alpha': 0.3} , 0 -> 0.15415947240327718\n",
            "predict\n",
            "(50000, 2)\n",
            "{'M': 7, 'train_size_alpha': 0.5} , 2 -> 0.16172985594179354\n",
            "{'M': 7, 'train_size_alpha': 0.5} -> [0.17155959711029484, 0.1742179369934229, 0.16172985594179354]\n",
            " {'M': 9, 'train_size_alpha': 0.5} -> thread id = 139877156321024\n",
            "fit\n",
            "(5000, 2)\n",
            "logger {'M': 7, 'train_size_alpha': 0.5}, -> [0.17155959711029484, 0.1742179369934229, 0.16172985594179354]\n",
            "{'M': 9, 'train_size_alpha': 0.3} , 1 -> 0.1132183595917258\n",
            "predict\n",
            "(50000, 2)\n",
            "{'M': 9, 'train_size_alpha': 0.3} , 2 -> 0.13478885882714323\n",
            "{'M': 9, 'train_size_alpha': 0.3} -> [0.15415947240327718, 0.1132183595917258, 0.13478885882714323]\n",
            " {'M': 11, 'train_size_alpha': 0.01} -> thread id = 139877147928320logger {'M': 9, 'train_size_alpha': 0.3}, -> [0.15415947240327718, 0.1132183595917258, 0.13478885882714323]\n",
            "\n",
            "fit\n",
            "(5000, 2)\n",
            "predict\n",
            "(50000, 2)\n",
            "{'M': 11, 'train_size_alpha': 0.01} , 0 -> 0.25679512192599246\n",
            "predict\n",
            "(50000, 2)\n",
            "predict\n",
            "(50000, 2)\n",
            "{'M': 11, 'train_size_alpha': 0.01} , 1 -> 0.2530545834751813\n",
            "predict\n",
            "(50000, 2)\n",
            "{'M': 11, 'train_size_alpha': 0.01} , 2 -> 0.23993410937385773\n",
            "{'M': 11, 'train_size_alpha': 0.01} -> [0.25679512192599246, 0.2530545834751813, 0.23993410937385773]\n",
            " {'M': 11, 'train_size_alpha': 0.05} -> thread id = 139877147928320logger {'M': 11, 'train_size_alpha': 0.01}, -> [0.25679512192599246, 0.2530545834751813, 0.23993410937385773]\n",
            "\n",
            "fit\n",
            "(5000, 2)\n",
            "predict\n",
            "(50000, 2)\n",
            "{'M': 11, 'train_size_alpha': 0.05} , 0 -> 0.22315140640863787\n",
            "predict\n",
            "(50000, 2)\n",
            "{'M': 11, 'train_size_alpha': 0.05} , 1 -> 0.229451370503777\n",
            "predict\n",
            "(50000, 2)\n",
            "{'M': 11, 'train_size_alpha': 0.05} , 2 -> 0.23098542783072237\n",
            "{'M': 11, 'train_size_alpha': 0.05} -> [0.22315140640863787, 0.229451370503777, 0.23098542783072237]\n",
            " {'M': 11, 'train_size_alpha': 0.1} -> thread id = 139877147928320logger {'M': 11, 'train_size_alpha': 0.05}, -> [0.22315140640863787, 0.229451370503777, 0.23098542783072237]\n",
            "\n",
            "fit\n",
            "(5000, 2)\n",
            "predict\n",
            "(50000, 2)\n",
            "{'M': 11, 'train_size_alpha': 0.1} , 0 -> 0.21560399078730225\n",
            "predict\n",
            "(50000, 2)\n",
            "{'M': 9, 'train_size_alpha': 0.5} , 0 -> 0.15827142365402488\n",
            "predict\n",
            "(50000, 2)\n",
            "{'M': 11, 'train_size_alpha': 0.1} , 1 -> 0.22817933469279808\n",
            "predict\n",
            "(50000, 2)\n",
            "{'M': 11, 'train_size_alpha': 0.1} , 2 -> 0.19386902078608104\n",
            "{'M': 11, 'train_size_alpha': 0.1} -> [0.21560399078730225, 0.22817933469279808, 0.19386902078608104]\n",
            " {'M': 11, 'train_size_alpha': 0.3} -> thread id = 139877147928320logger {'M': 11, 'train_size_alpha': 0.1}, -> [0.21560399078730225, 0.22817933469279808, 0.19386902078608104]\n",
            "\n",
            "fit\n",
            "(5000, 2)\n",
            "predict\n",
            "(50000, 2)\n",
            "{'M': 9, 'train_size_alpha': 0.5} , 1 -> 0.15535726772445232\n",
            "predict\n",
            "(50000, 2)\n",
            "{'M': 11, 'train_size_alpha': 0.3} , 0 -> 0.10786639846396527\n",
            "predict\n",
            "(50000, 2)\n",
            "{'M': 9, 'train_size_alpha': 0.5} , 2 -> 0.1860979156652459\n",
            "{'M': 9, 'train_size_alpha': 0.5} -> [0.15827142365402488, 0.15535726772445232, 0.1860979156652459]\n",
            " {'M': 11, 'train_size_alpha': 0.5} -> thread id = 139877156321024logger {'M': 9, 'train_size_alpha': 0.5}, -> [0.15827142365402488, 0.15535726772445232, 0.1860979156652459]\n",
            "\n",
            "fit\n",
            "(5000, 2)\n",
            "{'M': 11, 'train_size_alpha': 0.3} , 1 -> 0.16230724563920948\n",
            "predict\n",
            "(50000, 2)\n",
            "{'M': 11, 'train_size_alpha': 0.3} , 2 -> 0.13005562900211168\n",
            "{'M': 11, 'train_size_alpha': 0.3} -> [0.10786639846396527, 0.16230724563920948, 0.13005562900211168]\n",
            " {'M': 13, 'train_size_alpha': 0.01} -> thread id = 139877147928320logger {'M': 11, 'train_size_alpha': 0.3}, -> [0.10786639846396527, 0.16230724563920948, 0.13005562900211168]\n",
            "\n",
            "fit\n",
            "(5000, 2)\n",
            "predict\n",
            "(50000, 2)\n",
            "{'M': 13, 'train_size_alpha': 0.01} , 0 -> 0.3095050113480104\n",
            "predict\n",
            "(50000, 2)\n",
            "{'M': 13, 'train_size_alpha': 0.01} , 1 -> 0.33920156664184936\n",
            "predict\n",
            "(50000, 2)\n",
            "{'M': 13, 'train_size_alpha': 0.01} , 2 -> 0.3153860885916035\n",
            "{'M': 13, 'train_size_alpha': 0.01} -> [0.3095050113480104, 0.33920156664184936, 0.3153860885916035]\n",
            " {'M': 13, 'train_size_alpha': 0.05} -> thread id = 139877147928320logger {'M': 13, 'train_size_alpha': 0.01}, -> [0.3095050113480104, 0.33920156664184936, 0.3153860885916035]\n",
            "\n",
            "fit\n",
            "(5000, 2)\n",
            "predict\n",
            "(50000, 2)\n",
            "predict\n",
            "(50000, 2)\n",
            "{'M': 13, 'train_size_alpha': 0.05} , 0 -> 0.22161073304560608\n",
            "predict\n",
            "(50000, 2)\n",
            "{'M': 13, 'train_size_alpha': 0.05} , 1 -> 0.22015281784275892\n",
            "predict\n",
            "(50000, 2)\n",
            "{'M': 13, 'train_size_alpha': 0.05} , 2 -> 0.19714986420234562\n",
            "{'M': 13, 'train_size_alpha': 0.05} -> [0.22161073304560608, 0.22015281784275892, 0.19714986420234562]\n",
            " {'M': 13, 'train_size_alpha': 0.1} -> thread id = 139877147928320\n",
            "fitlogger {'M': 13, 'train_size_alpha': 0.05}, -> [0.22161073304560608, 0.22015281784275892, 0.19714986420234562]\n",
            "\n",
            "(5000, 2)\n",
            "predict\n",
            "(50000, 2)\n",
            "{'M': 13, 'train_size_alpha': 0.1} , 0 -> 0.20549081282705084\n",
            "predict\n",
            "(50000, 2)\n",
            "{'M': 13, 'train_size_alpha': 0.1} , 1 -> 0.22412832998701127\n",
            "predict\n",
            "(50000, 2)\n",
            "{'M': 11, 'train_size_alpha': 0.5} , 0 -> 0.15352053069800756\n",
            "predict\n",
            "(50000, 2)\n",
            "{'M': 13, 'train_size_alpha': 0.1} , 2 -> 0.19576151504615208\n",
            "{'M': 13, 'train_size_alpha': 0.1} -> [0.20549081282705084, 0.22412832998701127, 0.19576151504615208]\n",
            " {'M': 13, 'train_size_alpha': 0.3} -> thread id = 139877147928320logger {'M': 13, 'train_size_alpha': 0.1}, -> [0.20549081282705084, 0.22412832998701127, 0.19576151504615208]\n",
            "\n",
            "fit\n",
            "(5000, 2)\n",
            "predict\n",
            "(50000, 2)\n",
            "{'M': 11, 'train_size_alpha': 0.5} , 1 -> 0.16533648636514156\n",
            "predict\n",
            "(50000, 2)\n",
            "{'M': 13, 'train_size_alpha': 0.3} , 0 -> 0.12496801916882168\n",
            "predict\n",
            "(50000, 2)\n",
            "{'M': 13, 'train_size_alpha': 0.3} , 1 -> 0.1379063608345534\n",
            "predict\n",
            "(50000, 2)\n",
            "{'M': 11, 'train_size_alpha': 0.5} , 2 -> 0.17979937613554942\n",
            "{'M': 11, 'train_size_alpha': 0.5} -> [0.15352053069800756, 0.16533648636514156, 0.17979937613554942]\n",
            " {'M': 13, 'train_size_alpha': 0.5} -> thread id = 139877156321024logger {'M': 11, 'train_size_alpha': 0.5}, -> [0.15352053069800756, 0.16533648636514156, 0.17979937613554942]\n",
            "\n",
            "fit\n",
            "(5000, 2)\n",
            "{'M': 13, 'train_size_alpha': 0.3} , 2 -> 0.09163839220757071\n",
            "{'M': 13, 'train_size_alpha': 0.3} -> [0.12496801916882168, 0.1379063608345534, 0.09163839220757071]\n",
            "logger {'M': 13, 'train_size_alpha': 0.3}, -> [0.12496801916882168, 0.1379063608345534, 0.09163839220757071]\n",
            "predict\n",
            "(50000, 2)\n",
            "{'M': 13, 'train_size_alpha': 0.5} , 0 -> 0.17018554770398492\n",
            "predict\n",
            "(50000, 2)\n",
            "{'M': 13, 'train_size_alpha': 0.5} , 1 -> 0.18299857469535627\n",
            "predict\n",
            "(50000, 2)\n",
            "{'M': 13, 'train_size_alpha': 0.5} , 2 -> 0.13994175789900826\n",
            "{'M': 13, 'train_size_alpha': 0.5} -> [0.17018554770398492, 0.18299857469535627, 0.13994175789900826]\n",
            "logger {'M': 13, 'train_size_alpha': 0.5}, -> [0.17018554770398492, 0.18299857469535627, 0.13994175789900826]\n"
          ],
          "name": "stdout"
        }
      ]
    },
    {
      "cell_type": "code",
      "metadata": {
        "ExecuteTime": {
          "start_time": "2020-11-19T19:33:17.065Z"
        },
        "id": "DBdsjTDM0fao",
        "colab": {
          "base_uri": "https://localhost:8080/"
        },
        "outputId": "9f254dd1-2d60-4332-8779-13a149d4ce54"
      },
      "source": [
        "converted_results = np.ones((len(M_grid),len(alpha_grid),trials))*(-1)\n",
        "for item in results:\n",
        "    print(item)\n",
        "    converted_results[M_grid.index(item[0]),alpha_grid.index(item[1])] = item[2]\n",
        "\n",
        "print(converted_results.shape)\n",
        "print(converted_results)"
      ],
      "execution_count": 20,
      "outputs": [
        {
          "output_type": "stream",
          "text": [
            "[5, 0.01, [0.3466503938926859, 0.34518758018014845, 0.33787928815715446]]\n",
            "[5, 0.05, [0.23575809127419792, 0.2401477269329611, 0.2516913382045895]]\n",
            "[5, 0.1, [0.23653601852051814, 0.24028719518238262, 0.2402101974387289]]\n",
            "[5, 0.3, [0.16663773158870523, 0.15073769987843677, 0.12333443036325216]]\n",
            "[7, 0.01, [0.2324867287491356, 0.2234221388280565, 0.2166417868183079]]\n",
            "[7, 0.05, [0.1376348780469928, 0.12899084150981455, 0.12776062628176607]]\n",
            "[7, 0.1, [0.20199667277414457, 0.18362461733337276, 0.1914501637219048]]\n",
            "[5, 0.5, [0.18207463478674935, 0.17654978145063632, 0.17170728213400863]]\n",
            "[7, 0.3, [0.13743482207704288, 0.13541372506132685, 0.13569909412464956]]\n",
            "[9, 0.01, [0.2421206492105991, 0.25912898506445, 0.25847866747386977]]\n",
            "[9, 0.05, [0.18352472723127483, 0.1814066812091378, 0.20225409093659943]]\n",
            "[9, 0.1, [0.20162013723956582, 0.21134638881675438, 0.19458218438497213]]\n",
            "[7, 0.5, [0.17155959711029484, 0.1742179369934229, 0.16172985594179354]]\n",
            "[9, 0.3, [0.15415947240327718, 0.1132183595917258, 0.13478885882714323]]\n",
            "[11, 0.01, [0.25679512192599246, 0.2530545834751813, 0.23993410937385773]]\n",
            "[11, 0.05, [0.22315140640863787, 0.229451370503777, 0.23098542783072237]]\n",
            "[11, 0.1, [0.21560399078730225, 0.22817933469279808, 0.19386902078608104]]\n",
            "[9, 0.5, [0.15827142365402488, 0.15535726772445232, 0.1860979156652459]]\n",
            "[11, 0.3, [0.10786639846396527, 0.16230724563920948, 0.13005562900211168]]\n",
            "[13, 0.01, [0.3095050113480104, 0.33920156664184936, 0.3153860885916035]]\n",
            "[13, 0.05, [0.22161073304560608, 0.22015281784275892, 0.19714986420234562]]\n",
            "[13, 0.1, [0.20549081282705084, 0.22412832998701127, 0.19576151504615208]]\n",
            "[11, 0.5, [0.15352053069800756, 0.16533648636514156, 0.17979937613554942]]\n",
            "[13, 0.3, [0.12496801916882168, 0.1379063608345534, 0.09163839220757071]]\n",
            "[13, 0.5, [0.17018554770398492, 0.18299857469535627, 0.13994175789900826]]\n",
            "(5, 5, 3)\n",
            "[[[0.34665039 0.34518758 0.33787929]\n",
            "  [0.23575809 0.24014773 0.25169134]\n",
            "  [0.23653602 0.2402872  0.2402102 ]\n",
            "  [0.16663773 0.1507377  0.12333443]\n",
            "  [0.18207463 0.17654978 0.17170728]]\n",
            "\n",
            " [[0.23248673 0.22342214 0.21664179]\n",
            "  [0.13763488 0.12899084 0.12776063]\n",
            "  [0.20199667 0.18362462 0.19145016]\n",
            "  [0.13743482 0.13541373 0.13569909]\n",
            "  [0.1715596  0.17421794 0.16172986]]\n",
            "\n",
            " [[0.24212065 0.25912899 0.25847867]\n",
            "  [0.18352473 0.18140668 0.20225409]\n",
            "  [0.20162014 0.21134639 0.19458218]\n",
            "  [0.15415947 0.11321836 0.13478886]\n",
            "  [0.15827142 0.15535727 0.18609792]]\n",
            "\n",
            " [[0.25679512 0.25305458 0.23993411]\n",
            "  [0.22315141 0.22945137 0.23098543]\n",
            "  [0.21560399 0.22817933 0.19386902]\n",
            "  [0.1078664  0.16230725 0.13005563]\n",
            "  [0.15352053 0.16533649 0.17979938]]\n",
            "\n",
            " [[0.30950501 0.33920157 0.31538609]\n",
            "  [0.22161073 0.22015282 0.19714986]\n",
            "  [0.20549081 0.22412833 0.19576152]\n",
            "  [0.12496802 0.13790636 0.09163839]\n",
            "  [0.17018555 0.18299857 0.13994176]]]\n"
          ],
          "name": "stdout"
        }
      ]
    },
    {
      "cell_type": "code",
      "metadata": {
        "ExecuteTime": {
          "start_time": "2020-11-19T19:33:17.068Z"
        },
        "id": "rPHgBIns0fao",
        "colab": {
          "base_uri": "https://localhost:8080/"
        },
        "outputId": "9e856545-9bfb-4cc1-8170-6eac95203591"
      },
      "source": [
        "masked_results= np.ma.masked_where(converted_results <= 0.0,converted_results) # some runs have been aborted every now and then -> filter them out\n",
        "means = masked_results.mean(axis=2)\n",
        "sigmas = masked_results.std(axis=2)\n",
        "means.shape"
      ],
      "execution_count": 21,
      "outputs": [
        {
          "output_type": "execute_result",
          "data": {
            "text/plain": [
              "(5, 5)"
            ]
          },
          "metadata": {
            "tags": []
          },
          "execution_count": 21
        }
      ]
    },
    {
      "cell_type": "code",
      "metadata": {
        "ExecuteTime": {
          "start_time": "2020-11-19T19:33:17.070Z"
        },
        "id": "sGxPSAhY0fao",
        "colab": {
          "base_uri": "https://localhost:8080/",
          "height": 295
        },
        "outputId": "fe940056-1f95-4dd3-db26-b8848a7038a4"
      },
      "source": [
        "plt.hlines(reference_error_mean,xmin=M_grid[0],xmax=M_grid[-1],linestyles='dashed',label=\"reference error\")\n",
        "for i in range(len(alpha_grid)):\n",
        "    plt.errorbar(np.array(M_grid),means[:,i],sigmas[:,i],marker ='o',label = f\"alpha = {alpha_grid[i]}\")\n",
        "plt.title(f\"Bagging Normalized error: N_train = {N_train}, d= {d}, N_test= {N_test}\")\n",
        "plt.xlabel(\"M\")\n",
        "plt.xticks(M_grid)\n",
        "plt.ylabel(\"normalized error\")\n",
        "plt.legend(loc='upper right')\n",
        "plt.show()"
      ],
      "execution_count": 27,
      "outputs": [
        {
          "output_type": "display_data",
          "data": {
            "image/png": "[encoded data removed]",
            "text/plain": [
              "<Figure size 432x288 with 1 Axes>"
            ]
          },
          "metadata": {
            "tags": [],
            "needs_background": "light"
          }
        }
      ]
    },
    {
      "cell_type": "markdown",
      "metadata": {
        "id": "I7Welij90fao"
      },
      "source": [
        "\n"
      ]
    },
    {
      "cell_type": "markdown",
      "metadata": {
        "ExecuteTime": {
          "end_time": "2020-11-15T17:54:08.608678Z",
          "start_time": "2020-11-15T17:54:08.603664Z"
        },
        "id": "1rzYa8Tb0fao"
      },
      "source": [
        "## Store results"
      ]
    },
    {
      "cell_type": "code",
      "metadata": {
        "ExecuteTime": {
          "start_time": "2020-11-19T19:33:17.072Z"
        },
        "id": "D6CwhCiR0fao"
      },
      "source": [
        "res_dict = {'N_train': N_train, 'N_test': N_test,'mgrid': M_grid, 'alpha_grid': alpha_grid, 'errors': converted_results.tolist()}"
      ],
      "execution_count": null,
      "outputs": []
    },
    {
      "cell_type": "code",
      "metadata": {
        "ExecuteTime": {
          "start_time": "2020-11-19T19:33:17.075Z"
        },
        "id": "tizPo21G0fao"
      },
      "source": [
        "import json\n",
        "import datetime\n",
        "with open(f'#0005_hard_bagging_{str(datetime.date.today())}.json', 'w') as fp:\n",
        "    json.dump(res_dict, fp)"
      ],
      "execution_count": null,
      "outputs": []
    }
  ]
}