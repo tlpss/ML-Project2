{
 "cells": [
  {
   "cell_type": "markdown",
   "metadata": {},
   "source": [
    "# Ensemble Learning through Soft Bagging \n",
    "\n",
    "**bagging == Bootstrapping Aggregation** \n",
    "\n",
    "$\\implies$  hyperparam = {M = #learners, alpha = # relative trainset size}\n"
   ]
  },
  {
   "cell_type": "code",
   "execution_count": 1,
   "metadata": {
    "ExecuteTime": {
     "end_time": "2020-11-20T15:52:17.865319Z",
     "start_time": "2020-11-20T15:52:17.067135Z"
    }
   },
   "outputs": [],
   "source": [
    "import numpy as np\n",
    "import random\n",
    "import matplotlib.pyplot as plt\n",
    "from sklearn.gaussian_process import GaussianProcessRegressor\n",
    "from sklearn.gaussian_process.kernels import RBF, WhiteKernel\n",
    "\n",
    "# add project root folder to path to allow import local modules\n",
    "import os\n",
    "import sys\n",
    "module_path = os.path.abspath(os.path.join('..'))\n",
    "if module_path not in sys.path:\n",
    "    sys.path.append(module_path)\n",
    "# import local modules\n",
    "from stochastic_models import *\n",
    "from visualisations import *\n",
    "from basic_estimator_model import *"
   ]
  },
  {
   "cell_type": "markdown",
   "metadata": {
    "ExecuteTime": {
     "end_time": "2020-11-14T11:40:28.368547Z",
     "start_time": "2020-11-14T11:40:28.365554Z"
    }
   },
   "source": [
    "## Parameter Configuration"
   ]
  },
  {
   "cell_type": "code",
   "execution_count": 2,
   "metadata": {
    "ExecuteTime": {
     "end_time": "2020-11-20T15:52:17.870290Z",
     "start_time": "2020-11-20T15:52:17.866297Z"
    }
   },
   "outputs": [],
   "source": [
    "np.random.seed(2020)"
   ]
  },
  {
   "cell_type": "code",
   "execution_count": 3,
   "metadata": {
    "ExecuteTime": {
     "end_time": "2020-11-20T15:52:17.874277Z",
     "start_time": "2020-11-20T15:52:17.871251Z"
    }
   },
   "outputs": [],
   "source": [
    "N_train = 5000\n",
    "N_test = 50000\n",
    "d = 1\n",
    "T = 2"
   ]
  },
  {
   "cell_type": "code",
   "execution_count": 4,
   "metadata": {
    "ExecuteTime": {
     "end_time": "2020-11-20T15:52:17.880254Z",
     "start_time": "2020-11-20T15:52:17.875244Z"
    }
   },
   "outputs": [],
   "source": [
    "lambda_range = (N_train*1e-9 , N_train*1e-3)\n",
    "alpha_range = (8.3*1e-5, 0.83)\n",
    "length_scale = np.sort(1/np.sqrt((2*alpha_range[0], 2*alpha_range[1])))"
   ]
  },
  {
   "cell_type": "markdown",
   "metadata": {
    "ExecuteTime": {
     "end_time": "2020-11-14T11:40:29.811046Z",
     "start_time": "2020-11-14T11:40:29.808054Z"
    }
   },
   "source": [
    "## Create Kernel & prepare datasets"
   ]
  },
  {
   "cell_type": "code",
   "execution_count": 5,
   "metadata": {
    "ExecuteTime": {
     "end_time": "2020-11-20T15:52:17.886212Z",
     "start_time": "2020-11-20T15:52:17.881226Z"
    }
   },
   "outputs": [],
   "source": [
    "#kernel\n",
    "kernel = RBF(length_scale= (length_scale[0] + length_scale[1])/2, length_scale_bounds=length_scale) \\\n",
    "        + WhiteKernel(noise_level= (lambda_range[0] + lambda_range[1])/2 , noise_level_bounds=lambda_range)\n"
   ]
  },
  {
   "cell_type": "code",
   "execution_count": 6,
   "metadata": {
    "ExecuteTime": {
     "end_time": "2020-11-20T15:52:17.897244Z",
     "start_time": "2020-11-20T15:52:17.887236Z"
    }
   },
   "outputs": [],
   "source": [
    "#generate drivers\n",
    "s_train = MaxCallStochasticModel(N_train,d,[1/12,11/12])\n",
    "s_train.generate_samples()\n",
    "s_test = MaxCallStochasticModel(N_test, d, [1/12,11/12])\n",
    "s_test.generate_samples()"
   ]
  },
  {
   "cell_type": "code",
   "execution_count": 7,
   "metadata": {
    "ExecuteTime": {
     "end_time": "2020-11-20T15:52:17.905189Z",
     "start_time": "2020-11-20T15:52:17.898221Z"
    }
   },
   "outputs": [
    {
     "data": {
      "text/plain": [
       "0.0793534441124991"
      ]
     },
     "execution_count": 7,
     "metadata": {},
     "output_type": "execute_result"
    }
   ],
   "source": [
    "#prepare datasets & values\n",
    "y_train = s_train.y\n",
    "X_train = s_train.X\n",
    "S_train = s_train.S\n",
    "\n",
    "y_test = s_test.y\n",
    "X_test = s_test.X\n",
    "S_test = s_test.S\n",
    "\n",
    "V_T = y_test  \n",
    "V_0 = s_test.generate_true_V(0)\n",
    "\n",
    "V_0= V_0.mean()\n",
    "V_0 # Average expected PROFIT!"
   ]
  },
  {
   "cell_type": "code",
   "execution_count": 8,
   "metadata": {
    "ExecuteTime": {
     "end_time": "2020-11-20T15:52:17.911172Z",
     "start_time": "2020-11-20T15:52:17.907158Z"
    }
   },
   "outputs": [
    {
     "data": {
      "text/plain": [
       "(50000, 1, 2)"
      ]
     },
     "execution_count": 8,
     "metadata": {},
     "output_type": "execute_result"
    }
   ],
   "source": [
    "X_test.shape"
   ]
  },
  {
   "cell_type": "markdown",
   "metadata": {
    "ExecuteTime": {
     "end_time": "2020-11-14T11:40:33.048462Z",
     "start_time": "2020-11-14T11:40:33.045471Z"
    }
   },
   "source": [
    "## Compare with Hard voting"
   ]
  },
  {
   "cell_type": "code",
   "execution_count": null,
   "metadata": {
    "ExecuteTime": {
     "end_time": "2020-11-20T15:02:36.070161Z",
     "start_time": "2020-11-20T15:02:36.058157Z"
    }
   },
   "outputs": [],
   "source": []
  },
  {
   "cell_type": "code",
   "execution_count": 9,
   "metadata": {
    "ExecuteTime": {
     "end_time": "2020-11-20T15:53:17.999712Z",
     "start_time": "2020-11-20T15:52:17.912143Z"
    }
   },
   "outputs": [
    {
     "name": "stdout",
     "output_type": "stream",
     "text": [
      "fit\n",
      "(5000, 2)\n",
      "fit\n",
      "(5000, 2)\n"
     ]
    }
   ],
   "source": [
    "from aggregating.models import SoftBagger, SimpleBagger\n",
    "from aggregating.utils import flatten_X\n",
    "soft = SoftBagger(3,0.8,GaussianProcessRegressor(kernel,copy_X_train=False))\n",
    "hard = SimpleBagger(3,0.8,GaussianProcessRegressor(kernel,copy_X_train=False))\n",
    "soft.fit(flatten_X(X_train),y_train)\n",
    "hard.fit(flatten_X(X_train),y_train)"
   ]
  },
  {
   "cell_type": "code",
   "execution_count": 10,
   "metadata": {
    "ExecuteTime": {
     "end_time": "2020-11-20T15:54:22.958834Z",
     "start_time": "2020-11-20T15:53:18.000708Z"
    }
   },
   "outputs": [
    {
     "name": "stdout",
     "output_type": "stream",
     "text": [
      " soft predict\n",
      "(50000, 2)\n",
      "0.18541639474406327\n",
      "predict\n",
      "(50000, 2)\n",
      "0.172493378482348\n"
     ]
    }
   ],
   "source": [
    "#compare soft & hard prediction\n",
    "from aggregating.utils import normalized_error_VT\n",
    "print(normalized_error_VT(y_test, soft.predict(flatten_X(X_test)), V_0))\n",
    "print(normalized_error_VT(y_test, hard.predict(flatten_X(X_test)), V_0))"
   ]
  },
  {
   "cell_type": "code",
   "execution_count": 11,
   "metadata": {
    "ExecuteTime": {
     "end_time": "2020-11-20T15:54:22.990750Z",
     "start_time": "2020-11-20T15:54:22.959797Z"
    }
   },
   "outputs": [
    {
     "name": "stdout",
     "output_type": "stream",
     "text": [
      "(array([-0.00066049]), array([0.0251005]))\n",
      "(array([-0.00975121]), array([0.02114459]))\n",
      "(array([0.00518251]), array([0.01971414]))\n",
      "RBF(length_scale=39.2) + WhiteKernel(noise_level=2.5)\n",
      "RBF(length_scale=39.2) + WhiteKernel(noise_level=2.5)\n"
     ]
    }
   ],
   "source": [
    "\n",
    "x  =  X_test[1023]\n",
    "for predictor in soft.predictors:\n",
    "    print(predictor.predict(x,return_std=True))\n",
    "print(soft.predictors[0].kernel)\n",
    "print(soft.predictors[1].kernel)"
   ]
  },
  {
   "cell_type": "code",
   "execution_count": 12,
   "metadata": {
    "ExecuteTime": {
     "end_time": "2020-11-20T15:54:23.027615Z",
     "start_time": "2020-11-20T15:54:22.991747Z"
    }
   },
   "outputs": [
    {
     "name": "stdout",
     "output_type": "stream",
     "text": [
      "(array([0.11668687]), array([0.05785658]))\n",
      "(array([0.06577228]), array([0.10983612]))\n"
     ]
    }
   ],
   "source": [
    "from sklearn.base import clone\n",
    "gpr1  = GaussianProcessRegressor(kernel,copy_X_train=False)\n",
    "gpr2  = clone(gpr1)\n",
    "gpr1.fit(flatten_X(X_train[2:10]),y_train[2:10])\n",
    "gpr2.fit(flatten_X(X_train[12:20]),y_train[12:20])\n",
    "\n",
    "print(gpr1.predict(X_test[4],return_std = True))\n",
    "print(gpr2.predict(X_test[4],return_std = True))"
   ]
  },
  {
   "cell_type": "markdown",
   "metadata": {},
   "source": [
    "## GridSearch\n",
    "\n",
    "nB: cannot use Scikit gridsearch as it performs CV and we want to have a different test set of a larger size!"
   ]
  },
  {
   "cell_type": "code",
   "execution_count": 21,
   "metadata": {
    "ExecuteTime": {
     "end_time": "2020-11-20T17:06:54.032706Z",
     "start_time": "2020-11-20T17:06:24.208432Z"
    }
   },
   "outputs": [
    {
     "name": "stdout",
     "output_type": "stream",
     "text": [
      " {'M': 1, 'train_size_alpha': 1.0} -> thread id = 24984\n",
      "{'M': 1, 'train_size_alpha': 1.0} , 0 -> 0.11277080067185337\n",
      "{'M': 1, 'train_size_alpha': 1.0} , 1 -> 0.1539909005734911\n",
      "{'M': 1, 'train_size_alpha': 1.0} , 2 -> 0.1306203677392917\n",
      "{'M': 1, 'train_size_alpha': 1.0} -> [0.11277080067185337, 0.1539909005734911, 0.1306203677392917]\n",
      "0.1324606896615454\n"
     ]
    }
   ],
   "source": [
    "#reference error: no ensemble\n",
    "from aggregating.gridsearch import create_logger, evaluate_model\n",
    "from aggregating.utils import flatten_X\n",
    "\n",
    "hyperparams= {'M':1, 'train_size_alpha':1.0}\n",
    "model = GaussianProcessRegressor(kernel)\n",
    "reference_error = evaluate_model(model,hyperparams,flatten_X(X_train),y_train,1, [1/12,11/12],3,N_test,MaxCallStochasticModel)\n",
    "reference_error_mean = sum(reference_error)/len(reference_error)\n",
    "print(reference_error_mean)"
   ]
  },
  {
   "cell_type": "code",
   "execution_count": 13,
   "metadata": {
    "ExecuteTime": {
     "end_time": "2020-11-20T17:01:10.604058Z",
     "start_time": "2020-11-20T15:54:23.029611Z"
    }
   },
   "outputs": [
    {
     "name": "stdout",
     "output_type": "stream",
     "text": [
      " {'M': 1, 'train_size_alpha': 0.3} -> thread id = 25888\n",
      "fit\n",
      "(5000, 2)\n",
      " {'M': 1, 'train_size_alpha': 0.5} -> thread id = 30076\n",
      "fit\n",
      "(5000, 2)\n",
      " {'M': 1, 'train_size_alpha': 0.7} -> thread id = 21960\n",
      "fit\n",
      "(5000, 2)\n",
      " {'M': 1, 'train_size_alpha': 1.0} -> thread id = 24608\n",
      "fit\n",
      "(5000, 2)\n",
      " soft predict\n",
      "(50000, 2)\n",
      "{'M': 1, 'train_size_alpha': 0.3} , 0 -> 0.20680562753475445\n",
      " soft predict\n",
      "(50000, 2)\n",
      " soft predict\n",
      "(50000, 2)\n",
      "{'M': 1, 'train_size_alpha': 0.3} , 1 -> 0.20784594821086247\n",
      " soft predict\n",
      "(50000, 2)\n",
      " soft predict\n",
      "(50000, 2)\n",
      " soft predict\n",
      "(50000, 2)\n",
      "{'M': 1, 'train_size_alpha': 0.5} , 0 -> 0.1734467229111171\n",
      " soft predict\n",
      "(50000, 2)\n",
      "{'M': 1, 'train_size_alpha': 0.3} , 2 -> 0.18768481684292143\n",
      "{'M': 1, 'train_size_alpha': 0.3} -> [0.20680562753475445, 0.20784594821086247, 0.18768481684292143]\n",
      " {'M': 3, 'train_size_alpha': 0.3} -> thread id = 25888logger {'M': 1, 'train_size_alpha': 0.3}, -> [0.20680562753475445, 0.20784594821086247, 0.18768481684292143]\n",
      "fit\n",
      "\n",
      "(5000, 2)\n",
      "{'M': 1, 'train_size_alpha': 0.5} , 1 -> 0.21354464978239002\n",
      " soft predict\n",
      "(50000, 2)\n",
      "{'M': 1, 'train_size_alpha': 0.7} , 0 -> 0.18993739315096062\n",
      "{'M': 1, 'train_size_alpha': 1.0} , 0 -> 0.12563957740733717\n",
      " soft predict\n",
      "(50000, 2)\n",
      " soft predict\n",
      "(50000, 2)\n",
      " soft predict\n",
      "(50000, 2)\n",
      "{'M': 1, 'train_size_alpha': 0.5} , 2 -> 0.1540395807968068\n",
      "{'M': 1, 'train_size_alpha': 0.5} -> [0.1734467229111171, 0.21354464978239002, 0.1540395807968068]\n",
      " {'M': 3, 'train_size_alpha': 0.5} -> thread id = 30076logger {'M': 1, 'train_size_alpha': 0.5}, -> [0.1734467229111171, 0.21354464978239002, 0.1540395807968068]\n",
      "\n",
      "fit\n",
      "(5000, 2)\n",
      "{'M': 1, 'train_size_alpha': 0.7} , 1 -> 0.21258929172791619\n",
      " soft predict\n",
      "(50000, 2)\n",
      "{'M': 1, 'train_size_alpha': 1.0} , 1 -> 0.1449049963540651\n",
      " soft predict\n",
      "(50000, 2)\n",
      "{'M': 3, 'train_size_alpha': 0.3} , 0 -> 0.122467736434133\n",
      " soft predict\n",
      "(50000, 2)\n",
      "{'M': 1, 'train_size_alpha': 0.7} , 2 -> 0.24963175921125424\n",
      "{'M': 1, 'train_size_alpha': 0.7} -> [0.18993739315096062, 0.21258929172791619, 0.24963175921125424]\n",
      " {'M': 3, 'train_size_alpha': 0.7} -> thread id = 21960logger {'M': 1, 'train_size_alpha': 0.7}, -> [0.18993739315096062, 0.21258929172791619, 0.24963175921125424]\n",
      "\n",
      "fit\n",
      "(5000, 2)\n",
      "{'M': 1, 'train_size_alpha': 1.0} , 2 -> 0.13743665614337924\n",
      "{'M': 1, 'train_size_alpha': 1.0} -> [0.12563957740733717, 0.1449049963540651, 0.13743665614337924]\n",
      " {'M': 3, 'train_size_alpha': 1.0} -> thread id = 24608logger {'M': 1, 'train_size_alpha': 1.0}, -> [0.12563957740733717, 0.1449049963540651, 0.13743665614337924]\n",
      "fit\n",
      "(5000, 2)\n",
      "\n",
      "{'M': 3, 'train_size_alpha': 0.3} , 1 -> 0.13842292618438565\n",
      " soft predict\n",
      "(50000, 2)\n",
      "{'M': 3, 'train_size_alpha': 0.3} , 2 -> 0.12467515706163383\n",
      "{'M': 3, 'train_size_alpha': 0.3} -> [0.122467736434133, 0.13842292618438565, 0.12467515706163383]\n",
      " {'M': 5, 'train_size_alpha': 0.3} -> thread id = 25888\n",
      "logger {'M': 3, 'train_size_alpha': 0.3}, -> [0.122467736434133, 0.13842292618438565, 0.12467515706163383]fit\n",
      "(5000, 2)\n",
      "\n",
      " soft predict\n",
      "(50000, 2)\n",
      " soft predict\n",
      "(50000, 2)\n",
      "{'M': 3, 'train_size_alpha': 0.5} , 0 -> 0.16730458523152258\n",
      " soft predict\n",
      "(50000, 2)\n",
      " soft predict\n",
      "(50000, 2)\n",
      " soft predict\n",
      "(50000, 2)\n",
      "{'M': 3, 'train_size_alpha': 0.5} , 1 -> 0.21591424646282087\n",
      "{'M': 5, 'train_size_alpha': 0.3} , 0 -> 0.12362895057756293\n",
      " soft predict\n",
      "(50000, 2)\n",
      " soft predict\n",
      "(50000, 2)\n",
      "{'M': 3, 'train_size_alpha': 0.5} , 2 -> 0.14676676918211617\n",
      "{'M': 3, 'train_size_alpha': 0.5} -> [0.16730458523152258, 0.21591424646282087, 0.14676676918211617]\n",
      " {'M': 5, 'train_size_alpha': 0.5} -> thread id = 30076\n",
      "logger {'M': 3, 'train_size_alpha': 0.5}, -> [0.16730458523152258, 0.21591424646282087, 0.14676676918211617]\n",
      "fit\n",
      "(5000, 2)\n",
      "{'M': 5, 'train_size_alpha': 0.3} , 1 -> 0.12142890026433463\n",
      " soft predict\n",
      "(50000, 2)\n",
      "{'M': 3, 'train_size_alpha': 1.0} , 0 -> 0.2328679425756107\n",
      " soft predict\n",
      "(50000, 2)\n",
      "{'M': 3, 'train_size_alpha': 0.7} , 0 -> 0.22086353399107875\n",
      " soft predict\n",
      "(50000, 2)\n",
      "{'M': 5, 'train_size_alpha': 0.3} , 2 -> 0.1407207669980889\n",
      "{'M': 5, 'train_size_alpha': 0.3} -> [0.12362895057756293, 0.12142890026433463, 0.1407207669980889]\n",
      " {'M': 5, 'train_size_alpha': 0.7} -> thread id = 25888\n",
      "logger {'M': 5, 'train_size_alpha': 0.3}, -> [0.12362895057756293, 0.12142890026433463, 0.1407207669980889]fit\n",
      "\n",
      "(5000, 2)\n",
      "{'M': 3, 'train_size_alpha': 0.7} , 1 -> 0.21595444963644359\n",
      " soft predict\n",
      "(50000, 2)\n",
      "{'M': 3, 'train_size_alpha': 1.0} , 1 -> 0.2333405585252975\n",
      " soft predict\n",
      "(50000, 2)\n",
      "{'M': 3, 'train_size_alpha': 0.7} , 2 -> 0.16095404239629343\n",
      "{'M': 3, 'train_size_alpha': 0.7} -> [0.22086353399107875, 0.21595444963644359, 0.16095404239629343]\n",
      " {'M': 5, 'train_size_alpha': 1.0} -> thread id = 21960logger {'M': 3, 'train_size_alpha': 0.7}, -> [0.22086353399107875, 0.21595444963644359, 0.16095404239629343]\n",
      "\n",
      "fit\n",
      "(5000, 2)\n",
      " soft predict\n",
      "(50000, 2)\n",
      "{'M': 3, 'train_size_alpha': 1.0} , 2 -> 0.22357558688639417\n",
      "{'M': 3, 'train_size_alpha': 1.0} -> [0.2328679425756107, 0.2333405585252975, 0.22357558688639417]\n",
      " {'M': 7, 'train_size_alpha': 0.3} -> thread id = 24608\n",
      "fit\n",
      "(5000, 2)\n",
      "logger {'M': 3, 'train_size_alpha': 1.0}, -> [0.2328679425756107, 0.2333405585252975, 0.22357558688639417]\n",
      "{'M': 5, 'train_size_alpha': 0.5} , 0 -> 0.19736083832548085\n",
      " soft predict\n",
      "(50000, 2)\n",
      " soft predict\n",
      "(50000, 2)\n",
      " soft predict\n",
      "(50000, 2)\n",
      "{'M': 7, 'train_size_alpha': 0.3} , 0 -> 0.10198899146450748{'M': 5, 'train_size_alpha': 0.5} , 1 -> 0.19046795585748202\n",
      "\n",
      " soft predict\n",
      "(50000, 2)\n",
      " soft predict\n",
      "(50000, 2)\n",
      " soft predict\n",
      "(50000, 2)\n",
      "{'M': 5, 'train_size_alpha': 0.7} , 0 -> 0.1742431402273195\n",
      " soft predict\n",
      "(50000, 2)\n",
      "{'M': 7, 'train_size_alpha': 0.3} , 1 -> 0.08235472713153982\n",
      " soft predict\n",
      "(50000, 2)\n",
      "{'M': 5, 'train_size_alpha': 0.5} , 2 -> 0.18231665419957932\n",
      "{'M': 5, 'train_size_alpha': 0.5} -> [0.19736083832548085, 0.19046795585748202, 0.18231665419957932]\n",
      " {'M': 7, 'train_size_alpha': 0.5} -> thread id = 30076logger {'M': 5, 'train_size_alpha': 0.5}, -> [0.19736083832548085, 0.19046795585748202, 0.18231665419957932]\n",
      "\n",
      "fit\n",
      "(5000, 2)\n",
      "{'M': 7, 'train_size_alpha': 0.3} , 2 -> 0.12432183431441962\n",
      "{'M': 7, 'train_size_alpha': 0.3} -> [0.10198899146450748, 0.08235472713153982, 0.12432183431441962]\n",
      " {'M': 7, 'train_size_alpha': 0.7} -> thread id = 24608\n",
      "logger {'M': 7, 'train_size_alpha': 0.3}, -> [0.10198899146450748, 0.08235472713153982, 0.12432183431441962]\n",
      "fit\n",
      "(5000, 2)\n",
      "{'M': 5, 'train_size_alpha': 0.7} , 1 -> 0.17363674328501644\n",
      " soft predict\n",
      "(50000, 2)\n",
      "{'M': 5, 'train_size_alpha': 1.0} , 0 -> 0.18936839956621598\n",
      " soft predict\n",
      "(50000, 2)\n",
      "{'M': 5, 'train_size_alpha': 0.7} , 2 -> 0.17932723188445335\n",
      "{'M': 5, 'train_size_alpha': 0.7} -> [0.1742431402273195, 0.17363674328501644, 0.17932723188445335]\n",
      " {'M': 7, 'train_size_alpha': 1.0} -> thread id = 25888logger {'M': 5, 'train_size_alpha': 0.7}, -> [0.1742431402273195, 0.17363674328501644, 0.17932723188445335]\n",
      "fit\n",
      "(5000, 2)\n",
      "\n",
      " soft predict\n",
      "(50000, 2)\n",
      "{'M': 5, 'train_size_alpha': 1.0} , 1 -> 0.1641360253721725\n",
      " soft predict\n",
      "(50000, 2)\n",
      "{'M': 7, 'train_size_alpha': 0.5} , 0 -> 0.17602005148211514\n",
      " soft predict\n",
      "(50000, 2)\n",
      " soft predict\n",
      "(50000, 2)\n",
      "{'M': 5, 'train_size_alpha': 1.0} , 2 -> 0.15848935597777478\n",
      "{'M': 5, 'train_size_alpha': 1.0} -> [0.18936839956621598, 0.1641360253721725, 0.15848935597777478]\n",
      " {'M': 9, 'train_size_alpha': 0.3} -> thread id = 21960logger {'M': 5, 'train_size_alpha': 1.0}, -> [0.18936839956621598, 0.1641360253721725, 0.15848935597777478]\n",
      "\n",
      "fit\n",
      "(5000, 2)\n",
      "{'M': 7, 'train_size_alpha': 0.5} , 1 -> 0.16391393896701228\n",
      " soft predict\n",
      "(50000, 2)\n",
      " soft predict\n",
      "(50000, 2)\n",
      " soft predict\n",
      "(50000, 2)\n",
      "{'M': 7, 'train_size_alpha': 0.7} , 0 -> 0.16379346513856355\n",
      " soft predict\n",
      "(50000, 2)\n",
      "{'M': 7, 'train_size_alpha': 0.5} , 2 -> 0.21366936300187503\n",
      "{'M': 7, 'train_size_alpha': 0.5} -> [0.17602005148211514, 0.16391393896701228, 0.21366936300187503]\n",
      " {'M': 9, 'train_size_alpha': 0.5} -> thread id = 30076logger {'M': 7, 'train_size_alpha': 0.5}, -> [0.17602005148211514, 0.16391393896701228, 0.21366936300187503]\n",
      "\n",
      "fit\n",
      "(5000, 2)\n",
      "{'M': 9, 'train_size_alpha': 0.3} , 0 -> 0.09782762977238432\n",
      " soft predict\n",
      "(50000, 2)\n",
      "{'M': 9, 'train_size_alpha': 0.3} , 1 -> 0.10893637951889752\n",
      " soft predict\n",
      "(50000, 2)\n",
      "{'M': 7, 'train_size_alpha': 0.7} , 1 -> 0.1967568283185929\n",
      " soft predict\n",
      "(50000, 2)\n"
     ]
    },
    {
     "name": "stdout",
     "output_type": "stream",
     "text": [
      "{'M': 7, 'train_size_alpha': 1.0} , 0 -> 0.2077393870885229\n",
      " soft predict\n",
      "(50000, 2)\n",
      "{'M': 9, 'train_size_alpha': 0.3} , 2 -> 0.1433274923428715\n",
      "{'M': 9, 'train_size_alpha': 0.3} -> [0.09782762977238432, 0.10893637951889752, 0.1433274923428715]\n",
      " {'M': 9, 'train_size_alpha': 0.7} -> thread id = 21960\n",
      "logger {'M': 9, 'train_size_alpha': 0.3}, -> [0.09782762977238432, 0.10893637951889752, 0.1433274923428715]\n",
      "fit\n",
      "(5000, 2)\n",
      " soft predict\n",
      "(50000, 2)\n",
      "{'M': 9, 'train_size_alpha': 0.5}\n"
     ]
    },
    {
     "name": "stderr",
     "output_type": "stream",
     "text": [
      "Traceback (most recent call last):\n",
      "  File \"C:\\Users\\thoma\\School\\Machine_learning\\ML-Project2\\aggregating\\gridsearch.py\", line 73, in evaluate_model\n",
      "    y_hat = model.predict(Flattened_X_test)\n",
      "  File \"C:\\Users\\thoma\\School\\Machine_learning\\ML-Project2\\aggregating\\models.py\", line 150, in predict\n",
      "    mu,sigma = self.predictors[i].predict(X,return_std=True)\n",
      "  File \"c:\\users\\thoma\\appdata\\local\\programs\\python\\python37\\lib\\site-packages\\sklearn\\gaussian_process\\_gpr.py\", line 338, in predict\n",
      "    K_trans = self.kernel_(X, self.X_train_)\n",
      "  File \"c:\\users\\thoma\\appdata\\local\\programs\\python\\python37\\lib\\site-packages\\sklearn\\gaussian_process\\kernels.py\", line 758, in __call__\n",
      "    return self.k1(X, Y) + self.k2(X, Y)\n",
      "  File \"c:\\users\\thoma\\appdata\\local\\programs\\python\\python37\\lib\\site-packages\\sklearn\\gaussian_process\\kernels.py\", line 1435, in __call__\n",
      "    K = np.exp(-.5 * dists)\n",
      "MemoryError: Unable to allocate array with shape (50000, 2500) and data type float64\n"
     ]
    },
    {
     "name": "stdout",
     "output_type": "stream",
     "text": [
      " {'M': 9, 'train_size_alpha': 1.0} -> thread id = 30076logger {'M': 9, 'train_size_alpha': 0.5}, -> None\n",
      "\n",
      "fit\n",
      "(5000, 2)\n",
      "{'M': 7, 'train_size_alpha': 0.7} , 2 -> 0.20631813215659423\n",
      "{'M': 7, 'train_size_alpha': 0.7} -> [0.16379346513856355, 0.1967568283185929, 0.20631813215659423]\n",
      "logger {'M': 7, 'train_size_alpha': 0.7}, -> [0.16379346513856355, 0.1967568283185929, 0.20631813215659423]\n",
      "{'M': 7, 'train_size_alpha': 1.0} , 1 -> 0.17577643636300389\n",
      " soft predict\n",
      "(50000, 2)\n",
      "{'M': 7, 'train_size_alpha': 1.0} , 2 -> 0.23400615344238251\n",
      "{'M': 7, 'train_size_alpha': 1.0} -> [0.2077393870885229, 0.17577643636300389, 0.23400615344238251]\n",
      "logger {'M': 7, 'train_size_alpha': 1.0}, -> [0.2077393870885229, 0.17577643636300389, 0.23400615344238251]\n",
      " soft predict\n",
      "(50000, 2)\n",
      " soft predict\n",
      "(50000, 2)\n",
      "{'M': 9, 'train_size_alpha': 0.7} , 0 -> 0.188856609737082\n",
      " soft predict\n",
      "(50000, 2)\n",
      "{'M': 9, 'train_size_alpha': 1.0} , 0 -> 0.18741610247725368\n",
      " soft predict\n",
      "(50000, 2)\n",
      "{'M': 9, 'train_size_alpha': 0.7} , 1 -> 0.17803350302861498\n",
      " soft predict\n",
      "(50000, 2)\n",
      "{'M': 9, 'train_size_alpha': 1.0} , 1 -> 0.19595566556894575\n",
      " soft predict\n",
      "(50000, 2)\n",
      "{'M': 9, 'train_size_alpha': 0.7} , 2 -> 0.20624479791980435\n",
      "{'M': 9, 'train_size_alpha': 0.7} -> [0.188856609737082, 0.17803350302861498, 0.20624479791980435]\n",
      "logger {'M': 9, 'train_size_alpha': 0.7}, -> [0.188856609737082, 0.17803350302861498, 0.20624479791980435]\n",
      "{'M': 9, 'train_size_alpha': 1.0} , 2 -> 0.1635717933961961\n",
      "{'M': 9, 'train_size_alpha': 1.0} -> [0.18741610247725368, 0.19595566556894575, 0.1635717933961961]\n",
      "logger {'M': 9, 'train_size_alpha': 1.0}, -> [0.18741610247725368, 0.19595566556894575, 0.1635717933961961]\n"
     ]
    }
   ],
   "source": [
    "from multiprocessing import  cpu_count,current_process\n",
    "from multiprocessing.pool import ThreadPool\n",
    "import functools\n",
    "import threading\n",
    "\n",
    "from aggregating.gridsearch import create_logger, evaluate_model\n",
    "from aggregating.utils import flatten_X\n",
    "\n",
    "# GRIDSEARCH PARAMS\n",
    "model = SoftBagger(0,0,GaussianProcessRegressor(kernel,copy_X_train=False))\n",
    "trials = 3\n",
    "M_grid = [1,3,5,7,9]\n",
    "alpha_grid = [0.3,0.5,0.7,1.0]\n",
    "results = []\n",
    "\n",
    "### ACTUAL GRIDSEARCH\n",
    "pool = ThreadPool(4) #avoid allocation issues\n",
    "for m in M_grid:\n",
    "    for alpha in alpha_grid:\n",
    "        hyperparams= {'M':m, 'train_size_alpha':alpha}\n",
    "        pool.apply_async(evaluate_model, args=(model,hyperparams,flatten_X(X_train),y_train,1, [1/12,11/12],trials,N_test,MaxCallStochasticModel),callback = create_logger(hyperparams,results))\n",
    "pool.close()\n",
    "pool.join()\n",
    "\n"
   ]
  },
  {
   "cell_type": "code",
   "execution_count": 14,
   "metadata": {
    "ExecuteTime": {
     "end_time": "2020-11-20T17:01:10.653925Z",
     "start_time": "2020-11-20T17:01:10.616027Z"
    }
   },
   "outputs": [
    {
     "name": "stdout",
     "output_type": "stream",
     "text": [
      "[1, 0.3, [0.20680562753475445, 0.20784594821086247, 0.18768481684292143]]\n",
      "[1, 0.5, [0.1734467229111171, 0.21354464978239002, 0.1540395807968068]]\n",
      "[1, 0.7, [0.18993739315096062, 0.21258929172791619, 0.24963175921125424]]\n",
      "[1, 1.0, [0.12563957740733717, 0.1449049963540651, 0.13743665614337924]]\n",
      "[3, 0.3, [0.122467736434133, 0.13842292618438565, 0.12467515706163383]]\n",
      "[3, 0.5, [0.16730458523152258, 0.21591424646282087, 0.14676676918211617]]\n",
      "[5, 0.3, [0.12362895057756293, 0.12142890026433463, 0.1407207669980889]]\n",
      "[3, 0.7, [0.22086353399107875, 0.21595444963644359, 0.16095404239629343]]\n",
      "[3, 1.0, [0.2328679425756107, 0.2333405585252975, 0.22357558688639417]]\n",
      "[5, 0.5, [0.19736083832548085, 0.19046795585748202, 0.18231665419957932]]\n",
      "[7, 0.3, [0.10198899146450748, 0.08235472713153982, 0.12432183431441962]]\n",
      "[5, 0.7, [0.1742431402273195, 0.17363674328501644, 0.17932723188445335]]\n",
      "[5, 1.0, [0.18936839956621598, 0.1641360253721725, 0.15848935597777478]]\n",
      "[7, 0.5, [0.17602005148211514, 0.16391393896701228, 0.21366936300187503]]\n",
      "[9, 0.3, [0.09782762977238432, 0.10893637951889752, 0.1433274923428715]]\n",
      "[9, 0.5, None]\n",
      "[7, 0.7, [0.16379346513856355, 0.1967568283185929, 0.20631813215659423]]\n",
      "[7, 1.0, [0.2077393870885229, 0.17577643636300389, 0.23400615344238251]]\n",
      "[9, 0.7, [0.188856609737082, 0.17803350302861498, 0.20624479791980435]]\n",
      "[9, 1.0, [0.18741610247725368, 0.19595566556894575, 0.1635717933961961]]\n",
      "(5, 4, 3)\n",
      "[[[0.20680563 0.20784595 0.18768482]\n",
      "  [0.17344672 0.21354465 0.15403958]\n",
      "  [0.18993739 0.21258929 0.24963176]\n",
      "  [0.12563958 0.144905   0.13743666]]\n",
      "\n",
      " [[0.12246774 0.13842293 0.12467516]\n",
      "  [0.16730459 0.21591425 0.14676677]\n",
      "  [0.22086353 0.21595445 0.16095404]\n",
      "  [0.23286794 0.23334056 0.22357559]]\n",
      "\n",
      " [[0.12362895 0.1214289  0.14072077]\n",
      "  [0.19736084 0.19046796 0.18231665]\n",
      "  [0.17424314 0.17363674 0.17932723]\n",
      "  [0.1893684  0.16413603 0.15848936]]\n",
      "\n",
      " [[0.10198899 0.08235473 0.12432183]\n",
      "  [0.17602005 0.16391394 0.21366936]\n",
      "  [0.16379347 0.19675683 0.20631813]\n",
      "  [0.20773939 0.17577644 0.23400615]]\n",
      "\n",
      " [[0.09782763 0.10893638 0.14332749]\n",
      "  [       nan        nan        nan]\n",
      "  [0.18885661 0.1780335  0.2062448 ]\n",
      "  [0.1874161  0.19595567 0.16357179]]]\n"
     ]
    }
   ],
   "source": [
    "converted_results = np.ones((len(M_grid),len(alpha_grid),trials))*(-1)\n",
    "for item in results:\n",
    "    print(item)\n",
    "    converted_results[M_grid.index(item[0]),alpha_grid.index(item[1])] = item[2]\n",
    "\n",
    "print(converted_results.shape)\n",
    "print(converted_results)"
   ]
  },
  {
   "cell_type": "code",
   "execution_count": 15,
   "metadata": {
    "ExecuteTime": {
     "end_time": "2020-11-20T17:01:10.718751Z",
     "start_time": "2020-11-20T17:01:10.655919Z"
    }
   },
   "outputs": [
    {
     "name": "stderr",
     "output_type": "stream",
     "text": [
      "c:\\users\\thoma\\appdata\\local\\programs\\python\\python37\\lib\\site-packages\\ipykernel_launcher.py:1: RuntimeWarning: invalid value encountered in less_equal\n",
      "  \"\"\"Entry point for launching an IPython kernel.\n"
     ]
    },
    {
     "data": {
      "text/plain": [
       "(5, 4)"
      ]
     },
     "execution_count": 15,
     "metadata": {},
     "output_type": "execute_result"
    }
   ],
   "source": [
    "masked_results= np.ma.masked_where(converted_results <= 0.0,converted_results) # some runs have been aborted every now and then -> filter them out\n",
    "means = masked_results.mean(axis=2)\n",
    "sigmas = masked_results.std(axis=2)\n",
    "means.shape"
   ]
  },
  {
   "cell_type": "code",
   "execution_count": 24,
   "metadata": {
    "ExecuteTime": {
     "end_time": "2020-11-20T17:07:19.317861Z",
     "start_time": "2020-11-20T17:07:19.166215Z"
    }
   },
   "outputs": [
    {
     "data": {
      "image/png": "[encoded data removed]",
      "text/plain": [
       "<Figure size 432x288 with 1 Axes>"
      ]
     },
     "metadata": {
      "needs_background": "light"
     },
     "output_type": "display_data"
    }
   ],
   "source": [
    "plt.hlines(reference_error_mean,xmin=M_grid[0],xmax=M_grid[-1],linestyles='dashed',label=\"reference error\")\n",
    "for i in range(len(alpha_grid)):\n",
    "    plt.errorbar(np.array(M_grid),means[:,i],sigmas[:,i],marker ='o',label = f\"alpha = {alpha_grid[i]}\")\n",
    "plt.title(f\"Soft Bagging Normalized error: N_train = {N_train}, d= {d}, N_test= {N_test}\")\n",
    "plt.xlabel(\"M\")\n",
    "plt.xticks(M_grid)\n",
    "plt.ylabel(\"normalized error\")\n",
    "plt.legend(loc='upper right')\n",
    "plt.show()"
   ]
  },
  {
   "cell_type": "markdown",
   "metadata": {},
   "source": [
    "\n"
   ]
  },
  {
   "cell_type": "markdown",
   "metadata": {
    "ExecuteTime": {
     "end_time": "2020-11-15T17:54:08.608678Z",
     "start_time": "2020-11-15T17:54:08.603664Z"
    }
   },
   "source": [
    "## Store results"
   ]
  },
  {
   "cell_type": "code",
   "execution_count": 17,
   "metadata": {
    "ExecuteTime": {
     "end_time": "2020-11-20T17:01:11.071807Z",
     "start_time": "2020-11-20T17:01:11.066821Z"
    }
   },
   "outputs": [],
   "source": [
    "res_dict = {'N_train': N_train, 'N_test': N_test,'mgrid': M_grid, 'alpha_grid': alpha_grid, 'errors': converted_results.tolist()}"
   ]
  },
  {
   "cell_type": "code",
   "execution_count": 18,
   "metadata": {
    "ExecuteTime": {
     "end_time": "2020-11-20T17:01:11.081780Z",
     "start_time": "2020-11-20T17:01:11.072805Z"
    }
   },
   "outputs": [],
   "source": [
    "import json\n",
    "import datetime\n",
    "with open(f'soft_bagging_w_replacement_{str(datetime.date.today())}.json', 'w') as fp:\n",
    "    json.dump(res_dict, fp)"
   ]
  },
  {
   "cell_type": "code",
   "execution_count": null,
   "metadata": {},
   "outputs": [],
   "source": []
  }
 ],
 "metadata": {
  "kernelspec": {
   "display_name": "Python 3",
   "language": "python",
   "name": "python3"
  },
  "language_info": {
   "codemirror_mode": {
    "name": "ipython",
    "version": 3
   },
   "file_extension": ".py",
   "mimetype": "text/x-python",
   "name": "python",
   "nbconvert_exporter": "python",
   "pygments_lexer": "ipython3",
   "version": "3.7.5"
  },
  "toc": {
   "base_numbering": 1,
   "nav_menu": {},
   "number_sections": true,
   "sideBar": true,
   "skip_h1_title": false,
   "title_cell": "Table of Contents",
   "title_sidebar": "Contents",
   "toc_cell": false,
   "toc_position": {},
   "toc_section_display": true,
   "toc_window_display": false
  }
 },
 "nbformat": 4,
 "nbformat_minor": 2
}
