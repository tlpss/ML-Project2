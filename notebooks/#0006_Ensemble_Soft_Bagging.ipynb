{
 "cells": [
  {
   "cell_type": "markdown",
   "metadata": {
    "id": "PApUKnza3-nj"
   },
   "source": [
    "# Ensemble Learning through Soft Bagging \n",
    "\n",
    "**bagging == Bootstrapping Aggregation** \n",
    "\n",
    "$\\implies$  hyperparam = {M = #learners, alpha = # relative trainset size}\n",
    "\n",
    "**soft voting**\n",
    "\n",
    "$ \\hat{y} = (\\sum_{i = 0}^M \\frac{\\mu_i}{\\sigma_i + \\epsilon} )(\\sum_i \\sigma_i + \\epsilon )$\n"
   ]
  },
  {
   "cell_type": "code",
   "execution_count": 59,
   "metadata": {
    "ExecuteTime": {
     "end_time": "2020-12-15T19:29:16.880987Z",
     "start_time": "2020-12-15T19:29:16.868022Z"
    },
    "colab": {
     "base_uri": "https://localhost:8080/"
    },
    "id": "NAAbkmzH4Il6",
    "outputId": "bcd56488-fa3e-4c39-9ce0-61c8d598b87c"
   },
   "outputs": [],
   "source": [
    "try:\n",
    "  import google.colab\n",
    "  IN_COLAB = True\n",
    "except:\n",
    "  IN_COLAB = False\n",
    "\n",
    "if IN_COLAB:\n",
    "    ## colab\n",
    "    import sys,os\n",
    "    !git clone  https://github.com/tlpss/ML-Project2.git\n",
    "    sys.path.append(os.path.abspath(os.path.join('./ML-Project2')))"
   ]
  },
  {
   "cell_type": "code",
   "execution_count": 60,
   "metadata": {
    "ExecuteTime": {
     "end_time": "2020-12-15T20:28:25.484678Z",
     "start_time": "2020-12-15T20:28:25.476732Z"
    },
    "id": "r5GNqeGK3-nk"
   },
   "outputs": [],
   "source": [
    "import numpy as np\n",
    "import random\n",
    "import matplotlib.pyplot as plt\n",
    "from sklearn.gaussian_process import GaussianProcessRegressor\n",
    "from sklearn.gaussian_process.kernels import RBF, WhiteKernel\n",
    "\n",
    "# add project root folder to path to allow import local modules\n",
    "import os\n",
    "import sys\n",
    "module_path = os.path.abspath(os.path.join('..'))\n",
    "if module_path not in sys.path:\n",
    "    sys.path.append(module_path)\n",
    "# import local modules\n",
    "from stochastic_models import *\n",
    "from visualisations import *\n",
    "\n",
    "from aggregating.gridsearch import create_logger, evaluate_model\n",
    "from aggregating.utils import flatten_X\n",
    "from aggregating.models import SoftBagger"
   ]
  },
  {
   "cell_type": "markdown",
   "metadata": {
    "ExecuteTime": {
     "end_time": "2020-11-14T11:40:28.368547Z",
     "start_time": "2020-11-14T11:40:28.365554Z"
    },
    "id": "pmFrK58p3-nl"
   },
   "source": [
    "## Parameter Configuration"
   ]
  },
  {
   "cell_type": "code",
   "execution_count": 61,
   "metadata": {
    "ExecuteTime": {
     "end_time": "2020-12-15T20:28:26.044930Z",
     "start_time": "2020-12-15T20:28:26.040940Z"
    },
    "id": "EARzN7c03-nl"
   },
   "outputs": [],
   "source": [
    "np.random.seed(2020)"
   ]
  },
  {
   "cell_type": "code",
   "execution_count": 62,
   "metadata": {
    "ExecuteTime": {
     "end_time": "2020-12-15T20:28:26.351453Z",
     "start_time": "2020-12-15T20:28:26.347461Z"
    },
    "id": "zq-dE-CB3-nl"
   },
   "outputs": [],
   "source": [
    "N_train = 5000\n",
    "N_test = 50000\n",
    "d = 1\n",
    "T = 2"
   ]
  },
  {
   "cell_type": "code",
   "execution_count": 63,
   "metadata": {
    "ExecuteTime": {
     "end_time": "2020-12-15T20:28:26.776314Z",
     "start_time": "2020-12-15T20:28:26.771359Z"
    },
    "id": "htyOOOcw3-nl"
   },
   "outputs": [],
   "source": [
    "lambda_range = (N_train*1e-9 , N_train*1e-3)\n",
    "alpha_range = (8.3*1e-5, 0.83)\n",
    "length_scale = np.sort(1/np.sqrt((2*alpha_range[0], 2*alpha_range[1])))"
   ]
  },
  {
   "cell_type": "markdown",
   "metadata": {
    "ExecuteTime": {
     "end_time": "2020-11-14T11:40:29.811046Z",
     "start_time": "2020-11-14T11:40:29.808054Z"
    },
    "id": "CAJ6Kz5V3-nm"
   },
   "source": [
    "## Create Kernel & prepare datasets"
   ]
  },
  {
   "cell_type": "code",
   "execution_count": 64,
   "metadata": {
    "ExecuteTime": {
     "end_time": "2020-12-15T20:28:27.748716Z",
     "start_time": "2020-12-15T20:28:27.744759Z"
    },
    "id": "JwD1QMHC3-nm"
   },
   "outputs": [],
   "source": [
    "#kernel\n",
    "kernel = RBF(length_scale= (length_scale[0] + length_scale[1])/2, length_scale_bounds=length_scale) + WhiteKernel(noise_level= (lambda_range[0]+lambda_range[1]/2) , noise_level_bounds=lambda_range)\n"
   ]
  },
  {
   "cell_type": "code",
   "execution_count": 65,
   "metadata": {
    "ExecuteTime": {
     "end_time": "2020-12-15T20:28:28.404147Z",
     "start_time": "2020-12-15T20:28:28.392204Z"
    },
    "id": "eWO_C1lD3-nm"
   },
   "outputs": [],
   "source": [
    "#generate drivers\n",
    "s_train = MaxCallStochasticModel(N_train,d,[1/12,11/12])\n",
    "s_train.generate_samples()\n",
    "s_test = MaxCallStochasticModel(N_test, d, [1/12,11/12])\n",
    "s_test.generate_samples()"
   ]
  },
  {
   "cell_type": "code",
   "execution_count": 66,
   "metadata": {
    "ExecuteTime": {
     "end_time": "2020-12-15T20:28:29.420501Z",
     "start_time": "2020-12-15T20:28:29.412486Z"
    },
    "colab": {
     "base_uri": "https://localhost:8080/"
    },
    "id": "s3VU7uEX3-nm",
    "outputId": "3872a923-01d5-4ab8-c058-900141eb3e15"
   },
   "outputs": [
    {
     "data": {
      "text/plain": [
       "0.0793534441124991"
      ]
     },
     "execution_count": 66,
     "metadata": {},
     "output_type": "execute_result"
    }
   ],
   "source": [
    "#prepare datasets & values\n",
    "y_train = s_train.y\n",
    "X_train = s_train.X\n",
    "S_train = s_train.S\n",
    "\n",
    "y_test = s_test.y\n",
    "X_test = s_test.X\n",
    "S_test = s_test.S\n",
    "\n",
    "V_T = y_test  \n",
    "V_0 = s_test.generate_true_V(0)\n",
    "\n",
    "V_0= V_0.mean()\n",
    "V_0 # Average expected PROFIT!"
   ]
  },
  {
   "cell_type": "code",
   "execution_count": 67,
   "metadata": {
    "ExecuteTime": {
     "end_time": "2020-12-15T20:28:33.368370Z",
     "start_time": "2020-12-15T20:28:33.364347Z"
    },
    "colab": {
     "base_uri": "https://localhost:8080/"
    },
    "id": "B87SEzVW3-nn",
    "outputId": "6c42f9c7-0942-4b78-884c-a62707593df4"
   },
   "outputs": [
    {
     "data": {
      "text/plain": [
       "(50000, 1, 2)"
      ]
     },
     "execution_count": 67,
     "metadata": {},
     "output_type": "execute_result"
    }
   ],
   "source": [
    "X_test.shape"
   ]
  },
  {
   "cell_type": "markdown",
   "metadata": {
    "ExecuteTime": {
     "end_time": "2020-11-14T11:40:33.048462Z",
     "start_time": "2020-11-14T11:40:33.045471Z"
    },
    "id": "NSCG86UN3-nn"
   },
   "source": [
    "## Compare with Hard voting"
   ]
  },
  {
   "cell_type": "code",
   "execution_count": 55,
   "metadata": {
    "ExecuteTime": {
     "end_time": "2020-12-15T18:48:00.196465Z",
     "start_time": "2020-12-15T18:48:00.193475Z"
    },
    "id": "CKJnLhiP3-nn"
   },
   "outputs": [],
   "source": [
    "##"
   ]
  },
  {
   "cell_type": "markdown",
   "metadata": {
    "ExecuteTime": {
     "end_time": "2020-12-09T18:27:27.912490Z",
     "start_time": "2020-12-09T18:26:29.535636Z"
    },
    "id": "H-P2GR7s3-nn"
   },
   "source": [
    "from aggregating.models import SoftBagger, SimpleBagger\n",
    "from aggregating.utils import flatten_X\n",
    "soft = SoftBagger(3,0.8,GaussianProcessRegressor(kernel,copy_X_train=False))\n",
    "hard = SimpleBagger(3,0.8,GaussianProcessRegressor(kernel,copy_X_train=False))\n",
    "soft.fit(flatten_X(X_train),y_train)\n",
    "hard.fit(flatten_X(X_train),y_train)"
   ]
  },
  {
   "cell_type": "markdown",
   "metadata": {
    "ExecuteTime": {
     "end_time": "2020-12-09T18:29:08.679947Z",
     "start_time": "2020-12-09T18:27:27.913488Z"
    },
    "id": "mOWq1ATy3-no"
   },
   "source": [
    "#compare soft & hard prediction\n",
    "from aggregating.utils import normalized_error_VT\n",
    "print(normalized_error_VT(y_test, soft.predict(flatten_X(X_test)), V_0))\n",
    "print(normalized_error_VT(y_test, hard.predict(flatten_X(X_test)), V_0))"
   ]
  },
  {
   "cell_type": "code",
   "execution_count": 56,
   "metadata": {
    "ExecuteTime": {
     "end_time": "2020-12-15T18:48:01.009951Z",
     "start_time": "2020-12-15T18:48:01.006927Z"
    },
    "id": "2G6SXnkq3-no"
   },
   "outputs": [],
   "source": [
    "#\n",
    "#x  =  X_test[1023]\n",
    "#for predictor in soft.predictors:\n",
    "#    print(predictor.predict(x,return_std=True))\n",
    "#print(soft.predictors[0].kernel)\n",
    "#print(soft.predictors[1].kernel)"
   ]
  },
  {
   "cell_type": "code",
   "execution_count": 57,
   "metadata": {
    "ExecuteTime": {
     "end_time": "2020-12-15T18:48:01.402900Z",
     "start_time": "2020-12-15T18:48:01.377934Z"
    },
    "colab": {
     "base_uri": "https://localhost:8080/"
    },
    "id": "0flJxYYw3-no",
    "outputId": "db8efd18-4dc4-4708-f82a-9f1076d903bb"
   },
   "outputs": [
    {
     "name": "stdout",
     "output_type": "stream",
     "text": [
      "(array([0.]), array([0.07199992]))\n",
      "(array([0.]), array([0.22160727]))\n"
     ]
    }
   ],
   "source": [
    "from sklearn.base import clone\n",
    "gpr1  = GaussianProcessRegressor(kernel,copy_X_train=False)\n",
    "gpr2  = clone(gpr1)\n",
    "gpr1.fit(flatten_X(X_train[2:10]),y_train[2:10])\n",
    "gpr2.fit(flatten_X(X_train[12:20]),y_train[12:20])\n",
    "\n",
    "print(gpr1.predict(X_test[4],return_std = True))\n",
    "print(gpr2.predict(X_test[4],return_std = True))"
   ]
  },
  {
   "cell_type": "markdown",
   "metadata": {
    "id": "rQmU5YW63-no"
   },
   "source": [
    "## GridSearch\n",
    "\n",
    "nB: cannot use Scikit gridsearch as it performs CV and we want to have a different test set of a larger size!"
   ]
  },
  {
   "cell_type": "code",
   "execution_count": 68,
   "metadata": {
    "ExecuteTime": {
     "end_time": "2020-12-15T20:29:30.659732Z",
     "start_time": "2020-12-15T20:28:47.172234Z"
    },
    "colab": {
     "base_uri": "https://localhost:8080/"
    },
    "id": "r-hL23om3-np",
    "outputId": "97124161-cc7c-44d3-ad8b-9fe4e931c355"
   },
   "outputs": [
    {
     "name": "stdout",
     "output_type": "stream",
     "text": [
      " {'M': 1, 'train_size_alpha': 1.0} -> thread id = 27000\n",
      "{'M': 1, 'train_size_alpha': 1.0} , 0 -> 0.11480572178179495\n",
      "{'M': 1, 'train_size_alpha': 1.0} , 1 -> 0.17124000725126198\n",
      "{'M': 1, 'train_size_alpha': 1.0} , 2 -> 0.14258894235284092\n",
      "{'M': 1, 'train_size_alpha': 1.0} , 3 -> 0.12155161802293622\n",
      "{'M': 1, 'train_size_alpha': 1.0} , 4 -> 0.14485188343340394\n",
      "{'M': 1, 'train_size_alpha': 1.0} -> [0.11480572178179495, 0.17124000725126198, 0.14258894235284092, 0.12155161802293622, 0.14485188343340394]\n",
      "0.1390076345684476\n"
     ]
    }
   ],
   "source": [
    "#reference error: no ensemble\n",
    "\n",
    "hyperparams= {'M':1, 'train_size_alpha':1.0}\n",
    "model = GaussianProcessRegressor(kernel)\n",
    "reference_error = evaluate_model(model,hyperparams,flatten_X(X_train),y_train,1, [1/12,11/12],5,N_test,MaxCallStochasticModel)\n",
    "reference_error_mean = sum(reference_error)/len(reference_error)\n",
    "print(reference_error_mean)"
   ]
  },
  {
   "cell_type": "code",
   "execution_count": 69,
   "metadata": {
    "ExecuteTime": {
     "end_time": "2020-12-15T20:45:41.848616Z",
     "start_time": "2020-12-15T20:29:30.660729Z"
    },
    "colab": {
     "base_uri": "https://localhost:8080/"
    },
    "id": "mURP0abs3-np",
    "outputId": "11bd54fc-6c19-4a30-8383-4af14aed9087"
   },
   "outputs": [
    {
     "name": "stdout",
     "output_type": "stream",
     "text": [
      " {'M': 1, 'train_size_alpha': 0.2} -> thread id = 27396\n",
      "fit\n",
      "(5000, 2)\n",
      " {'M': 1, 'train_size_alpha': 0.3} -> thread id = 32212\n",
      "fit\n",
      "(5000, 2)\n",
      " {'M': 1, 'train_size_alpha': 0.4} -> thread id = 35832\n",
      "fit\n",
      "(5000, 2)\n",
      " {'M': 1, 'train_size_alpha': 0.5} -> thread id = 11556\n",
      "fit\n",
      "(5000, 2)\n",
      " {'M': 3, 'train_size_alpha': 0.2} -> thread id = 32352\n",
      "fit\n",
      "(5000, 2)\n",
      " {'M': 3, 'train_size_alpha': 0.3} -> thread id = 33332\n",
      "fit\n",
      "(5000, 2)\n",
      " {'M': 3, 'train_size_alpha': 0.4} -> thread id = 30864\n",
      "fit\n",
      "(5000, 2)\n",
      " {'M': 3, 'train_size_alpha': 0.5} -> thread id = 32288\n",
      "fit\n",
      "(5000, 2)\n",
      " {'M': 5, 'train_size_alpha': 0.2} -> thread id = 6904\n",
      "fit\n",
      "(5000, 2)\n",
      " {'M': 5, 'train_size_alpha': 0.3} -> thread id = 9868\n",
      "fit\n",
      "(5000, 2)\n",
      " soft predict\n",
      "(50000, 2)\n",
      " soft predict\n",
      "(50000, 2)\n",
      " soft predict\n",
      "(50000, 2)\n",
      " soft predict\n",
      "(50000, 2)\n",
      " soft predict\n",
      "(50000, 2)\n",
      " soft predict\n",
      "(50000, 2)\n",
      " soft predict\n",
      "(50000, 2)\n",
      " soft predict\n",
      "(50000, 2)\n",
      " soft predict\n",
      "(50000, 2)\n",
      "{'M': 1, 'train_size_alpha': 0.2} , 0 -> 0.17313162276083055\n",
      "{'M': 1, 'train_size_alpha': 0.3} , 0 -> 0.14230661457869873\n",
      " soft predict\n",
      "(50000, 2)\n",
      " soft predict\n",
      "(50000, 2)\n",
      " soft predict\n",
      "(50000, 2)\n",
      "{'M': 1, 'train_size_alpha': 0.4} , 0 -> 0.16531525899052069\n",
      " soft predict\n",
      "(50000, 2)\n",
      "{'M': 1, 'train_size_alpha': 0.5} , 0 -> 0.17596005733088052\n",
      " soft predict\n",
      "(50000, 2)\n",
      "{'M': 1, 'train_size_alpha': 0.2} , 1 -> 0.1649779892069589\n",
      "{'M': 1, 'train_size_alpha': 0.2} -> [0.17313162276083055, 0.1649779892069589]\n",
      " {'M': 5, 'train_size_alpha': 0.4} -> thread id = 27396logger {'M': 1, 'train_size_alpha': 0.2}, -> [0.17313162276083055, 0.1649779892069589]\n",
      "fit\n",
      "(5000, 2)\n",
      "\n",
      "{'M': 1, 'train_size_alpha': 0.3} , 1 -> 0.14649089164607434\n",
      "{'M': 1, 'train_size_alpha': 0.3} -> [0.14230661457869873, 0.14649089164607434]\n",
      " {'M': 5, 'train_size_alpha': 0.5} -> thread id = 32212logger {'M': 1, 'train_size_alpha': 0.3}, -> [0.14230661457869873, 0.14649089164607434]\n",
      "fit\n",
      "\n",
      "(5000, 2)\n",
      "{'M': 1, 'train_size_alpha': 0.4} , 1 -> 0.15545160203724143\n",
      "{'M': 1, 'train_size_alpha': 0.4} -> [0.16531525899052069, 0.15545160203724143]\n",
      " {'M': 7, 'train_size_alpha': 0.2} -> thread id = 35832\n",
      "fit\n",
      "(5000, 2)\n",
      "logger {'M': 1, 'train_size_alpha': 0.4}, -> [0.16531525899052069, 0.15545160203724143]\n",
      "{'M': 1, 'train_size_alpha': 0.5} , 1 -> 0.1994861258830614\n",
      "{'M': 1, 'train_size_alpha': 0.5} -> [0.17596005733088052, 0.1994861258830614]\n",
      " {'M': 7, 'train_size_alpha': 0.3} -> thread id = 11556logger {'M': 1, 'train_size_alpha': 0.5}, -> [0.17596005733088052, 0.1994861258830614]\n",
      "\n",
      "fit\n",
      "(5000, 2)\n",
      "{'M': 3, 'train_size_alpha': 0.2} , 0 -> 0.12578042671038817\n",
      "{'M': 3, 'train_size_alpha': 0.3} , 0 -> 0.11703114938599625\n",
      "{'M': 3, 'train_size_alpha': 0.4} , 0 -> 0.1285065048999104\n",
      " soft predict\n",
      "(50000, 2)\n",
      " soft predict\n",
      "(50000, 2)\n",
      " soft predict\n",
      "(50000, 2)\n",
      "{'M': 5, 'train_size_alpha': 0.2} , 0 -> 0.10860763576483276\n",
      " soft predict\n",
      "(50000, 2)\n",
      "{'M': 3, 'train_size_alpha': 0.5} , 0 -> 0.16777019225513715\n",
      "{'M': 5, 'train_size_alpha': 0.3} , 0 -> 0.1262048182977584\n",
      " soft predict\n",
      "(50000, 2)\n",
      " soft predict\n",
      "(50000, 2)\n",
      "{'M': 3, 'train_size_alpha': 0.2} , 1 -> 0.14600409284764\n",
      "{'M': 3, 'train_size_alpha': 0.2} -> [0.12578042671038817, 0.14600409284764]\n",
      " {'M': 7, 'train_size_alpha': 0.4} -> thread id = 32352logger {'M': 3, 'train_size_alpha': 0.2}, -> [0.12578042671038817, 0.14600409284764]\n",
      "\n",
      "fit\n",
      "(5000, 2)\n",
      "{'M': 3, 'train_size_alpha': 0.3} , 1 -> 0.14057159425957708\n",
      "{'M': 3, 'train_size_alpha': 0.3} -> [0.11703114938599625, 0.14057159425957708]\n",
      " {'M': 7, 'train_size_alpha': 0.5} -> thread id = 33332\n",
      "fit\n",
      "(5000, 2)\n",
      "logger {'M': 3, 'train_size_alpha': 0.3}, -> [0.11703114938599625, 0.14057159425957708]\n",
      " soft predict\n",
      "(50000, 2)\n",
      "{'M': 3, 'train_size_alpha': 0.4} , 1 -> 0.13725879278456166\n",
      "{'M': 3, 'train_size_alpha': 0.4} -> [0.1285065048999104, 0.13725879278456166]\n",
      " {'M': 9, 'train_size_alpha': 0.2} -> thread id = 30864\n",
      "logger {'M': 3, 'train_size_alpha': 0.4}, -> [0.1285065048999104, 0.13725879278456166]fit\n",
      "\n",
      "(5000, 2)\n",
      " soft predict\n",
      "(50000, 2)\n",
      "{'M': 5, 'train_size_alpha': 0.2} , 1 -> 0.11620155288838113\n",
      "{'M': 5, 'train_size_alpha': 0.2} -> [0.10860763576483276, 0.11620155288838113]\n",
      " {'M': 9, 'train_size_alpha': 0.3} -> thread id = 6904logger {'M': 5, 'train_size_alpha': 0.2}, -> [0.10860763576483276, 0.11620155288838113]\n",
      "\n",
      "fit\n",
      "(5000, 2)\n",
      " soft predict\n",
      "(50000, 2)\n",
      "{'M': 3, 'train_size_alpha': 0.5} , 1 -> 0.17978123282173591\n",
      "{'M': 3, 'train_size_alpha': 0.5} -> [0.16777019225513715, 0.17978123282173591]\n",
      " {'M': 9, 'train_size_alpha': 0.4} -> thread id = 32288logger {'M': 3, 'train_size_alpha': 0.5}, -> [0.16777019225513715, 0.17978123282173591]\n",
      "\n",
      "fit\n",
      "(5000, 2)\n",
      "{'M': 5, 'train_size_alpha': 0.3} , 1 -> 0.12936135089604583\n",
      "{'M': 5, 'train_size_alpha': 0.3} -> [0.1262048182977584, 0.12936135089604583]\n",
      " {'M': 9, 'train_size_alpha': 0.5} -> thread id = 9868logger {'M': 5, 'train_size_alpha': 0.3}, -> [0.1262048182977584, 0.12936135089604583]\n",
      "\n",
      "fit\n",
      "(5000, 2)\n",
      "{'M': 5, 'train_size_alpha': 0.4} , 0 -> 0.11865641634802318\n",
      " soft predict\n",
      "(50000, 2)\n",
      " soft predict\n",
      "(50000, 2)\n",
      "{'M': 7, 'train_size_alpha': 0.2} , 0 -> 0.110721454079486\n",
      " soft predict\n",
      "(50000, 2)\n",
      " soft predict\n",
      "(50000, 2)\n",
      "{'M': 7, 'train_size_alpha': 0.3} , 0 -> 0.12176968274954814\n",
      " soft predict\n",
      "(50000, 2)\n",
      " soft predict\n",
      "(50000, 2)\n",
      " soft predict\n",
      "(50000, 2)\n",
      "{'M': 5, 'train_size_alpha': 0.4} , 1 -> 0.1269894768192698\n",
      "{'M': 5, 'train_size_alpha': 0.4} -> [0.11865641634802318, 0.1269894768192698]\n",
      "logger {'M': 5, 'train_size_alpha': 0.4}, -> [0.11865641634802318, 0.1269894768192698]\n",
      "{'M': 5, 'train_size_alpha': 0.5} , 0 -> 0.13353740105871378\n",
      " soft predict\n",
      "(50000, 2)\n",
      "{'M': 7, 'train_size_alpha': 0.2} , 1 -> 0.12143765967833374\n",
      "{'M': 7, 'train_size_alpha': 0.2} -> [0.110721454079486, 0.12143765967833374]\n",
      "logger {'M': 7, 'train_size_alpha': 0.2}, -> [0.110721454079486, 0.12143765967833374]\n",
      " soft predict\n",
      "(50000, 2)\n",
      " soft predict\n",
      "(50000, 2)\n",
      "{'M': 7, 'train_size_alpha': 0.3} , 1 -> 0.12959792890501706\n",
      "{'M': 7, 'train_size_alpha': 0.3} -> [0.12176968274954814, 0.12959792890501706]\n",
      "logger {'M': 7, 'train_size_alpha': 0.3}, -> [0.12176968274954814, 0.12959792890501706]{'M': 7, 'train_size_alpha': 0.4} , 0 -> 0.11633595123531777\n",
      "\n",
      " soft predict\n",
      "(50000, 2)\n",
      "{'M': 9, 'train_size_alpha': 0.2} , 0 -> 0.115245293902222\n",
      " soft predict\n",
      "(50000, 2)\n",
      "{'M': 5, 'train_size_alpha': 0.5} , 1 -> 0.13810934577597228\n",
      "{'M': 5, 'train_size_alpha': 0.5} -> [0.13353740105871378, 0.13810934577597228]\n",
      "logger {'M': 5, 'train_size_alpha': 0.5}, -> [0.13353740105871378, 0.13810934577597228]\n",
      "{'M': 9, 'train_size_alpha': 0.3} , 0 -> 0.11476289884716312\n",
      " soft predict\n",
      "(50000, 2)\n",
      " soft predict\n",
      "(50000, 2)\n",
      "{'M': 9, 'train_size_alpha': 0.4} , 0 -> 0.12440045722083164\n",
      " soft predict\n",
      "(50000, 2)\n",
      "{'M': 7, 'train_size_alpha': 0.4} , 1 -> 0.12487340501202425\n",
      "{'M': 7, 'train_size_alpha': 0.4} -> [0.11633595123531777, 0.12487340501202425]\n",
      "logger {'M': 7, 'train_size_alpha': 0.4}, -> [0.11633595123531777, 0.12487340501202425]\n",
      "{'M': 7, 'train_size_alpha': 0.5} , 0 -> 0.13629341911944662\n",
      " soft predict\n",
      "(50000, 2)\n",
      "{'M': 9, 'train_size_alpha': 0.2} , 1 -> 0.12634085279094862\n",
      "{'M': 9, 'train_size_alpha': 0.2} -> [0.115245293902222, 0.12634085279094862]\n",
      "logger {'M': 9, 'train_size_alpha': 0.2}, -> [0.115245293902222, 0.12634085279094862]\n",
      "{'M': 9, 'train_size_alpha': 0.3} , 1 -> 0.13017912231674575\n",
      "{'M': 9, 'train_size_alpha': 0.3} -> [0.11476289884716312, 0.13017912231674575]\n",
      "logger {'M': 9, 'train_size_alpha': 0.3}, -> [0.11476289884716312, 0.13017912231674575]\n",
      "{'M': 9, 'train_size_alpha': 0.5} , 0 -> 0.14265659270777112\n",
      " soft predict\n",
      "(50000, 2)\n",
      "{'M': 7, 'train_size_alpha': 0.5} , 1 -> 0.14664752415429416\n",
      "{'M': 7, 'train_size_alpha': 0.5} -> [0.13629341911944662, 0.14664752415429416]\n",
      "logger {'M': 7, 'train_size_alpha': 0.5}, -> [0.13629341911944662, 0.14664752415429416]\n",
      "{'M': 9, 'train_size_alpha': 0.4} , 1 -> 0.140862411695777\n",
      "{'M': 9, 'train_size_alpha': 0.4} -> [0.12440045722083164, 0.140862411695777]\n",
      "logger {'M': 9, 'train_size_alpha': 0.4}, -> [0.12440045722083164, 0.140862411695777]\n",
      "{'M': 9, 'train_size_alpha': 0.5} , 1 -> 0.15066192058894132\n",
      "{'M': 9, 'train_size_alpha': 0.5} -> [0.14265659270777112, 0.15066192058894132]\n",
      "logger {'M': 9, 'train_size_alpha': 0.5}, -> [0.14265659270777112, 0.15066192058894132]\n"
     ]
    }
   ],
   "source": [
    "from multiprocessing import  cpu_count,current_process\n",
    "from multiprocessing.pool import ThreadPool\n",
    "import functools\n",
    "import threading\n",
    "\n",
    "\n",
    "# GRIDSEARCH PARAMS\n",
    "model = SoftBagger(0,0,GaussianProcessRegressor(kernel,copy_X_train=False))\n",
    "trials = 3\n",
    "M_grid = [1,3,5,7,9]\n",
    "alpha_grid = [0.2,0.3,0.4,0.5]\n",
    "results = []\n",
    "\n",
    "### ACTUAL GRIDSEARCH\n",
    "pool = ThreadPool(cpu_count()-2) #hyperthreading \n",
    "for m in M_grid:\n",
    "    for alpha in alpha_grid:\n",
    "        hyperparams= {'M':m, 'train_size_alpha':alpha}\n",
    "        pool.apply_async(evaluate_model, args=(model,hyperparams,flatten_X(X_train),y_train,1, [1/12,11/12],trials,N_test,MaxCallStochasticModel,V_0,None,[2020,2021,2022]),callback = create_logger(hyperparams,results))\n",
    "pool.close()\n",
    "pool.join()\n",
    "\n"
   ]
  },
  {
   "cell_type": "code",
   "execution_count": 70,
   "metadata": {
    "ExecuteTime": {
     "end_time": "2020-12-15T20:45:41.859555Z",
     "start_time": "2020-12-15T20:45:41.850580Z"
    },
    "colab": {
     "base_uri": "https://localhost:8080/"
    },
    "id": "7mbOaNtM3-np",
    "outputId": "f24e8342-202d-440d-c913-9da6f4ade0e4"
   },
   "outputs": [
    {
     "name": "stdout",
     "output_type": "stream",
     "text": [
      "[1, 0.2, [0.17313162276083055, 0.1649779892069589]]\n",
      "[1, 0.3, [0.14230661457869873, 0.14649089164607434]]\n",
      "[1, 0.4, [0.16531525899052069, 0.15545160203724143]]\n",
      "[1, 0.5, [0.17596005733088052, 0.1994861258830614]]\n",
      "[3, 0.2, [0.12578042671038817, 0.14600409284764]]\n",
      "[3, 0.3, [0.11703114938599625, 0.14057159425957708]]\n",
      "[3, 0.4, [0.1285065048999104, 0.13725879278456166]]\n",
      "[5, 0.2, [0.10860763576483276, 0.11620155288838113]]\n",
      "[3, 0.5, [0.16777019225513715, 0.17978123282173591]]\n",
      "[5, 0.3, [0.1262048182977584, 0.12936135089604583]]\n",
      "[5, 0.4, [0.11865641634802318, 0.1269894768192698]]\n",
      "[7, 0.2, [0.110721454079486, 0.12143765967833374]]\n",
      "[7, 0.3, [0.12176968274954814, 0.12959792890501706]]\n",
      "[5, 0.5, [0.13353740105871378, 0.13810934577597228]]\n",
      "[7, 0.4, [0.11633595123531777, 0.12487340501202425]]\n",
      "[9, 0.2, [0.115245293902222, 0.12634085279094862]]\n",
      "[9, 0.3, [0.11476289884716312, 0.13017912231674575]]\n",
      "[7, 0.5, [0.13629341911944662, 0.14664752415429416]]\n",
      "[9, 0.4, [0.12440045722083164, 0.140862411695777]]\n",
      "[9, 0.5, [0.14265659270777112, 0.15066192058894132]]\n",
      "(5, 4, 2)\n",
      "[[[0.17313162 0.16497799]\n",
      "  [0.14230661 0.14649089]\n",
      "  [0.16531526 0.1554516 ]\n",
      "  [0.17596006 0.19948613]]\n",
      "\n",
      " [[0.12578043 0.14600409]\n",
      "  [0.11703115 0.14057159]\n",
      "  [0.1285065  0.13725879]\n",
      "  [0.16777019 0.17978123]]\n",
      "\n",
      " [[0.10860764 0.11620155]\n",
      "  [0.12620482 0.12936135]\n",
      "  [0.11865642 0.12698948]\n",
      "  [0.1335374  0.13810935]]\n",
      "\n",
      " [[0.11072145 0.12143766]\n",
      "  [0.12176968 0.12959793]\n",
      "  [0.11633595 0.12487341]\n",
      "  [0.13629342 0.14664752]]\n",
      "\n",
      " [[0.11524529 0.12634085]\n",
      "  [0.1147629  0.13017912]\n",
      "  [0.12440046 0.14086241]\n",
      "  [0.14265659 0.15066192]]]\n"
     ]
    }
   ],
   "source": [
    "converted_results = np.ones((len(M_grid),len(alpha_grid),trials))*(-1)\n",
    "for item in results:\n",
    "    print(item)\n",
    "    converted_results[M_grid.index(item[0]),alpha_grid.index(item[1])] = item[2]\n",
    "\n",
    "print(converted_results.shape)\n",
    "print(converted_results)"
   ]
  },
  {
   "cell_type": "code",
   "execution_count": 71,
   "metadata": {
    "ExecuteTime": {
     "end_time": "2020-12-15T20:45:41.871523Z",
     "start_time": "2020-12-15T20:45:41.861550Z"
    },
    "colab": {
     "base_uri": "https://localhost:8080/"
    },
    "id": "QJ0iBNNS3-nq",
    "outputId": "f55fd09f-94ee-4023-ac01-ec68955a234e"
   },
   "outputs": [
    {
     "data": {
      "text/plain": [
       "(5, 4)"
      ]
     },
     "execution_count": 71,
     "metadata": {},
     "output_type": "execute_result"
    }
   ],
   "source": [
    "masked_results= np.ma.masked_where(converted_results <= 0.0,converted_results) # some runs have been aborted every now and then -> filter them out\n",
    "means = masked_results.mean(axis=2)\n",
    "sigmas = masked_results.std(axis=2)\n",
    "means.shape"
   ]
  },
  {
   "cell_type": "code",
   "execution_count": 72,
   "metadata": {
    "ExecuteTime": {
     "end_time": "2020-12-15T20:45:42.241532Z",
     "start_time": "2020-12-15T20:45:41.873517Z"
    },
    "colab": {
     "base_uri": "https://localhost:8080/",
     "height": 295
    },
    "id": "Mv_dWAob3-nq",
    "outputId": "74527903-54ab-455c-ca65-ddd4c81c4385"
   },
   "outputs": [
    {
     "data": {
      "image/png": "[encoded data removed]",
      "text/plain": [
       "<Figure size 432x288 with 1 Axes>"
      ]
     },
     "metadata": {
      "needs_background": "light"
     },
     "output_type": "display_data"
    }
   ],
   "source": [
    "plt.hlines(0.1419,xmin=M_grid[0],xmax=M_grid[-1],linestyles='dashed',label=\"reference error\")\n",
    "for i in range(len(alpha_grid)):\n",
    "    plt.errorbar(np.array(M_grid),means[:,i],sigmas[:,i],marker ='o',label = f\"alpha = {alpha_grid[i]}\")\n",
    "plt.title(f\"Soft Bagging Normalized error: N_train = {N_train}, d= {d}, N_test= {N_test}\")\n",
    "plt.xlabel(\"M\")\n",
    "plt.xticks(M_grid)\n",
    "plt.ylabel(\"normalized error\")\n",
    "plt.legend(loc='upper right')\n",
    "plt.savefig(\"soft_bagging.png\")\n",
    "plt.show()\n"
   ]
  },
  {
   "cell_type": "markdown",
   "metadata": {
    "id": "dcAAHg393-nq"
   },
   "source": [
    "\n"
   ]
  },
  {
   "cell_type": "markdown",
   "metadata": {
    "ExecuteTime": {
     "end_time": "2020-11-15T17:54:08.608678Z",
     "start_time": "2020-11-15T17:54:08.603664Z"
    },
    "id": "2zj8NAxI3-nq"
   },
   "source": [
    "## Store results"
   ]
  },
  {
   "cell_type": "code",
   "execution_count": 73,
   "metadata": {
    "ExecuteTime": {
     "end_time": "2020-12-15T20:45:42.252503Z",
     "start_time": "2020-12-15T20:45:42.244526Z"
    },
    "id": "qFvK6Ny03-nq"
   },
   "outputs": [],
   "source": [
    "res_dict = {'N_train': N_train, 'N_test': N_test,'mgrid': M_grid, 'alpha_grid': alpha_grid, 'errors': converted_results.tolist()}"
   ]
  },
  {
   "cell_type": "code",
   "execution_count": 74,
   "metadata": {
    "ExecuteTime": {
     "end_time": "2020-12-15T20:45:42.268461Z",
     "start_time": "2020-12-15T20:45:42.255495Z"
    },
    "id": "a-qSpIOm3-nr"
   },
   "outputs": [],
   "source": [
    "import json\n",
    "import datetime\n",
    "with open(f'soft_bagging_w_replacement_{str(datetime.date.today())}.json', 'w') as fp:\n",
    "    json.dump(res_dict, fp)"
   ]
  },
  {
   "cell_type": "code",
   "execution_count": 19,
   "metadata": {
    "id": "T_u8F5WX3-nr"
   },
   "outputs": [],
   "source": []
  }
 ],
 "metadata": {
  "colab": {
   "name": "#0006_Ensemble_Soft_Bagging.ipynb",
   "provenance": []
  },
  "kernelspec": {
   "display_name": "Python 3",
   "language": "python",
   "name": "python3"
  },
  "language_info": {
   "codemirror_mode": {
    "name": "ipython",
    "version": 3
   },
   "file_extension": ".py",
   "mimetype": "text/x-python",
   "name": "python",
   "nbconvert_exporter": "python",
   "pygments_lexer": "ipython3",
   "version": "3.7.5"
  },
  "toc": {
   "base_numbering": 1,
   "nav_menu": {},
   "number_sections": true,
   "sideBar": true,
   "skip_h1_title": false,
   "title_cell": "Table of Contents",
   "title_sidebar": "Contents",
   "toc_cell": false,
   "toc_position": {},
   "toc_section_display": true,
   "toc_window_display": false
  }
 },
 "nbformat": 4,
 "nbformat_minor": 1
}
