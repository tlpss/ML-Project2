{
  "nbformat": 4,
  "nbformat_minor": 0,
  "metadata": {
    "kernelspec": {
      "display_name": "Python 3",
      "language": "python",
      "name": "python3"
    },
    "language_info": {
      "codemirror_mode": {
        "name": "ipython",
        "version": 3
      },
      "file_extension": ".py",
      "mimetype": "text/x-python",
      "name": "python",
      "nbconvert_exporter": "python",
      "pygments_lexer": "ipython3",
      "version": "3.7.5"
    },
    "toc": {
      "base_numbering": 1,
      "nav_menu": {},
      "number_sections": true,
      "sideBar": true,
      "skip_h1_title": false,
      "title_cell": "Table of Contents",
      "title_sidebar": "Contents",
      "toc_cell": false,
      "toc_position": {},
      "toc_section_display": true,
      "toc_window_display": false
    },
    "colab": {
      "name": "#0006_Ensemble_Soft_Bagging.ipynb",
      "provenance": []
    }
  },
  "cells": [
    {
      "cell_type": "markdown",
      "metadata": {
        "id": "PApUKnza3-nj"
      },
      "source": [
        "# Ensemble Learning through Soft Bagging \n",
        "\n",
        "**bagging == Bootstrapping Aggregation** \n",
        "\n",
        "$\\implies$  hyperparam = {M = #learners, alpha = # relative trainset size}\n",
        "\n",
        "**soft voting**\n",
        "\n",
        "$ \\hat{y} = (\\sum_{i = 0}^M \\frac{\\mu_i}{\\sigma_i + \\epsilon} )(\\sum_i \\sigma_i + \\epsilon )$\n"
      ]
    },
    {
      "cell_type": "code",
      "metadata": {
        "id": "NAAbkmzH4Il6",
        "outputId": "bcd56488-fa3e-4c39-9ce0-61c8d598b87c",
        "colab": {
          "base_uri": "https://localhost:8080/"
        }
      },
      "source": [
        "## colab\r\n",
        "import sys,os\r\n",
        "!git clone -b mpi https://github.com/tlpss/ML-Project2.git\r\n",
        "sys.path.append(os.path.abspath(os.path.join('./ML-Project2')))"
      ],
      "execution_count": 1,
      "outputs": [
        {
          "output_type": "stream",
          "text": [
            "Cloning into 'ML-Project2'...\n",
            "remote: Enumerating objects: 453, done.\u001b[K\n",
            "remote: Counting objects: 100% (453/453), done.\u001b[K\n",
            "remote: Compressing objects: 100% (314/314), done.\u001b[K\n",
            "remote: Total 453 (delta 263), reused 295 (delta 124), pack-reused 0\u001b[K\n",
            "Receiving objects: 100% (453/453), 1.48 MiB | 22.34 MiB/s, done.\n",
            "Resolving deltas: 100% (263/263), done.\n"
          ],
          "name": "stdout"
        }
      ]
    },
    {
      "cell_type": "code",
      "metadata": {
        "ExecuteTime": {
          "end_time": "2020-12-09T19:01:39.433737Z",
          "start_time": "2020-12-09T19:01:39.417997Z"
        },
        "id": "r5GNqeGK3-nk"
      },
      "source": [
        "import numpy as np\n",
        "import random\n",
        "import matplotlib.pyplot as plt\n",
        "from sklearn.gaussian_process import GaussianProcessRegressor\n",
        "from sklearn.gaussian_process.kernels import RBF, WhiteKernel\n",
        "\n",
        "# add project root folder to path to allow import local modules\n",
        "import os\n",
        "import sys\n",
        "module_path = os.path.abspath(os.path.join('..'))\n",
        "if module_path not in sys.path:\n",
        "    sys.path.append(module_path)\n",
        "# import local modules\n",
        "from stochastic_models import *\n",
        "from visualisations import *\n",
        "\n",
        "from aggregating.gridsearch import create_logger, evaluate_model\n",
        "from aggregating.utils import flatten_X\n",
        "from aggregating.models import SoftBagger"
      ],
      "execution_count": 2,
      "outputs": []
    },
    {
      "cell_type": "markdown",
      "metadata": {
        "ExecuteTime": {
          "end_time": "2020-11-14T11:40:28.368547Z",
          "start_time": "2020-11-14T11:40:28.365554Z"
        },
        "id": "pmFrK58p3-nl"
      },
      "source": [
        "## Parameter Configuration"
      ]
    },
    {
      "cell_type": "code",
      "metadata": {
        "ExecuteTime": {
          "end_time": "2020-12-09T19:01:40.162505Z",
          "start_time": "2020-12-09T19:01:40.154248Z"
        },
        "id": "EARzN7c03-nl"
      },
      "source": [
        "np.random.seed(2020)"
      ],
      "execution_count": 3,
      "outputs": []
    },
    {
      "cell_type": "code",
      "metadata": {
        "ExecuteTime": {
          "end_time": "2020-12-09T19:01:40.518746Z",
          "start_time": "2020-12-09T19:01:40.508453Z"
        },
        "id": "zq-dE-CB3-nl"
      },
      "source": [
        "N_train = 5000\n",
        "N_test = 50000\n",
        "d = 1\n",
        "T = 2"
      ],
      "execution_count": 4,
      "outputs": []
    },
    {
      "cell_type": "code",
      "metadata": {
        "ExecuteTime": {
          "end_time": "2020-12-09T19:01:40.889412Z",
          "start_time": "2020-12-09T19:01:40.880766Z"
        },
        "id": "htyOOOcw3-nl"
      },
      "source": [
        "lambda_range = (N_train*1e-9 , N_train*1e-3)\n",
        "alpha_range = (8.3*1e-5, 0.83)\n",
        "length_scale = np.sort(1/np.sqrt((2*alpha_range[0], 2*alpha_range[1])))"
      ],
      "execution_count": 5,
      "outputs": []
    },
    {
      "cell_type": "markdown",
      "metadata": {
        "ExecuteTime": {
          "end_time": "2020-11-14T11:40:29.811046Z",
          "start_time": "2020-11-14T11:40:29.808054Z"
        },
        "id": "CAJ6Kz5V3-nm"
      },
      "source": [
        "## Create Kernel & prepare datasets"
      ]
    },
    {
      "cell_type": "code",
      "metadata": {
        "ExecuteTime": {
          "end_time": "2020-12-09T19:01:41.655453Z",
          "start_time": "2020-12-09T19:01:41.650442Z"
        },
        "id": "JwD1QMHC3-nm"
      },
      "source": [
        "#kernel\n",
        "kernel = RBF(length_scale= (length_scale[0] + length_scale[1])/2, length_scale_bounds=length_scale) \\\n",
        "        + WhiteKernel(noise_level= (lambda_range[0] + lambda_range[1])/2 , noise_level_bounds=lambda_range)\n"
      ],
      "execution_count": 6,
      "outputs": []
    },
    {
      "cell_type": "code",
      "metadata": {
        "ExecuteTime": {
          "end_time": "2020-12-09T19:01:42.110853Z",
          "start_time": "2020-12-09T19:01:42.076296Z"
        },
        "id": "eWO_C1lD3-nm"
      },
      "source": [
        "#generate drivers\n",
        "s_train = MaxCallStochasticModel(N_train,d,[1/12,11/12])\n",
        "s_train.generate_samples()\n",
        "s_test = MaxCallStochasticModel(N_test, d, [1/12,11/12])\n",
        "s_test.generate_samples()"
      ],
      "execution_count": 7,
      "outputs": []
    },
    {
      "cell_type": "code",
      "metadata": {
        "ExecuteTime": {
          "end_time": "2020-12-09T19:01:42.568385Z",
          "start_time": "2020-12-09T19:01:42.552140Z"
        },
        "id": "s3VU7uEX3-nm",
        "outputId": "3872a923-01d5-4ab8-c058-900141eb3e15",
        "colab": {
          "base_uri": "https://localhost:8080/"
        }
      },
      "source": [
        "#prepare datasets & values\n",
        "y_train = s_train.y\n",
        "X_train = s_train.X\n",
        "S_train = s_train.S\n",
        "\n",
        "y_test = s_test.y\n",
        "X_test = s_test.X\n",
        "S_test = s_test.S\n",
        "\n",
        "V_T = y_test  \n",
        "V_0 = s_test.generate_true_V(0)\n",
        "\n",
        "V_0= V_0.mean()\n",
        "V_0 # Average expected PROFIT!"
      ],
      "execution_count": 8,
      "outputs": [
        {
          "output_type": "execute_result",
          "data": {
            "text/plain": [
              "0.07935344411249907"
            ]
          },
          "metadata": {
            "tags": []
          },
          "execution_count": 8
        }
      ]
    },
    {
      "cell_type": "code",
      "metadata": {
        "ExecuteTime": {
          "end_time": "2020-12-09T19:01:43.109654Z",
          "start_time": "2020-12-09T19:01:43.101173Z"
        },
        "id": "B87SEzVW3-nn",
        "outputId": "6c42f9c7-0942-4b78-884c-a62707593df4",
        "colab": {
          "base_uri": "https://localhost:8080/"
        }
      },
      "source": [
        "X_test.shape"
      ],
      "execution_count": 9,
      "outputs": [
        {
          "output_type": "execute_result",
          "data": {
            "text/plain": [
              "(50000, 1, 2)"
            ]
          },
          "metadata": {
            "tags": []
          },
          "execution_count": 9
        }
      ]
    },
    {
      "cell_type": "markdown",
      "metadata": {
        "ExecuteTime": {
          "end_time": "2020-11-14T11:40:33.048462Z",
          "start_time": "2020-11-14T11:40:33.045471Z"
        },
        "id": "NSCG86UN3-nn"
      },
      "source": [
        "## Compare with Hard voting"
      ]
    },
    {
      "cell_type": "code",
      "metadata": {
        "ExecuteTime": {
          "end_time": "2020-11-20T15:02:36.070161Z",
          "start_time": "2020-11-20T15:02:36.058157Z"
        },
        "id": "CKJnLhiP3-nn"
      },
      "source": [
        "##"
      ],
      "execution_count": 10,
      "outputs": []
    },
    {
      "cell_type": "markdown",
      "metadata": {
        "ExecuteTime": {
          "end_time": "2020-12-09T18:27:27.912490Z",
          "start_time": "2020-12-09T18:26:29.535636Z"
        },
        "id": "H-P2GR7s3-nn"
      },
      "source": [
        "from aggregating.models import SoftBagger, SimpleBagger\n",
        "from aggregating.utils import flatten_X\n",
        "soft = SoftBagger(3,0.8,GaussianProcessRegressor(kernel,copy_X_train=False))\n",
        "hard = SimpleBagger(3,0.8,GaussianProcessRegressor(kernel,copy_X_train=False))\n",
        "soft.fit(flatten_X(X_train),y_train)\n",
        "hard.fit(flatten_X(X_train),y_train)"
      ]
    },
    {
      "cell_type": "markdown",
      "metadata": {
        "ExecuteTime": {
          "end_time": "2020-12-09T18:29:08.679947Z",
          "start_time": "2020-12-09T18:27:27.913488Z"
        },
        "id": "mOWq1ATy3-no"
      },
      "source": [
        "#compare soft & hard prediction\n",
        "from aggregating.utils import normalized_error_VT\n",
        "print(normalized_error_VT(y_test, soft.predict(flatten_X(X_test)), V_0))\n",
        "print(normalized_error_VT(y_test, hard.predict(flatten_X(X_test)), V_0))"
      ]
    },
    {
      "cell_type": "code",
      "metadata": {
        "ExecuteTime": {
          "end_time": "2020-12-09T19:02:03.077553Z",
          "start_time": "2020-12-09T19:02:03.033978Z"
        },
        "id": "2G6SXnkq3-no"
      },
      "source": [
        "#\n",
        "#x  =  X_test[1023]\n",
        "#for predictor in soft.predictors:\n",
        "#    print(predictor.predict(x,return_std=True))\n",
        "#print(soft.predictors[0].kernel)\n",
        "#print(soft.predictors[1].kernel)"
      ],
      "execution_count": 11,
      "outputs": []
    },
    {
      "cell_type": "code",
      "metadata": {
        "ExecuteTime": {
          "end_time": "2020-12-09T19:02:13.673949Z",
          "start_time": "2020-12-09T19:02:13.584051Z"
        },
        "id": "0flJxYYw3-no",
        "outputId": "db8efd18-4dc4-4708-f82a-9f1076d903bb",
        "colab": {
          "base_uri": "https://localhost:8080/"
        }
      },
      "source": [
        "from sklearn.base import clone\n",
        "gpr1  = GaussianProcessRegressor(kernel,copy_X_train=False)\n",
        "gpr2  = clone(gpr1)\n",
        "gpr1.fit(flatten_X(X_train[2:10]),y_train[2:10])\n",
        "gpr2.fit(flatten_X(X_train[12:20]),y_train[12:20])\n",
        "\n",
        "print(gpr1.predict(X_test[4],return_std = True))\n",
        "print(gpr2.predict(X_test[4],return_std = True))"
      ],
      "execution_count": 12,
      "outputs": [
        {
          "output_type": "stream",
          "text": [
            "(array([0.11668687]), array([0.05785658]))\n",
            "(array([0.06577228]), array([0.10983612]))\n"
          ],
          "name": "stdout"
        }
      ]
    },
    {
      "cell_type": "markdown",
      "metadata": {
        "id": "rQmU5YW63-no"
      },
      "source": [
        "## GridSearch\n",
        "\n",
        "nB: cannot use Scikit gridsearch as it performs CV and we want to have a different test set of a larger size!"
      ]
    },
    {
      "cell_type": "code",
      "metadata": {
        "ExecuteTime": {
          "end_time": "2020-12-09T19:06:04.323050Z",
          "start_time": "2020-12-09T19:04:42.064801Z"
        },
        "id": "r-hL23om3-np",
        "outputId": "97124161-cc7c-44d3-ad8b-9fe4e931c355",
        "colab": {
          "base_uri": "https://localhost:8080/"
        }
      },
      "source": [
        "#reference error: no ensemble\n",
        "\n",
        "\n",
        "hyperparams= {'M':1, 'train_size_alpha':1.0}\n",
        "model = GaussianProcessRegressor(kernel)\n",
        "reference_error = evaluate_model(model,hyperparams,flatten_X(X_train),y_train,1, [1/12,11/12],5,100000,MaxCallStochasticModel)\n",
        "reference_error_mean = sum(reference_error)/len(reference_error)\n",
        "print(reference_error_mean)"
      ],
      "execution_count": 13,
      "outputs": [
        {
          "output_type": "stream",
          "text": [
            " {'M': 1, 'train_size_alpha': 1.0} -> thread id = 140009001363328\n",
            "{'M': 1, 'train_size_alpha': 1.0} , 0 -> 0.14469663945973618\n",
            "{'M': 1, 'train_size_alpha': 1.0} , 1 -> 0.1315040996365739\n",
            "{'M': 1, 'train_size_alpha': 1.0} , 2 -> 0.15907744203335178\n",
            "{'M': 1, 'train_size_alpha': 1.0} , 3 -> 0.13804245728837544\n",
            "{'M': 1, 'train_size_alpha': 1.0} , 4 -> 0.1361696254468713\n",
            "{'M': 1, 'train_size_alpha': 1.0} -> [0.14469663945973618, 0.1315040996365739, 0.15907744203335178, 0.13804245728837544, 0.1361696254468713]\n",
            "0.1418980527729817\n"
          ],
          "name": "stdout"
        }
      ]
    },
    {
      "cell_type": "code",
      "metadata": {
        "ExecuteTime": {
          "end_time": "2020-12-09T21:01:51.468053Z",
          "start_time": "2020-12-09T19:06:04.335019Z"
        },
        "id": "mURP0abs3-np",
        "outputId": "11bd54fc-6c19-4a30-8383-4af14aed9087",
        "colab": {
          "base_uri": "https://localhost:8080/"
        }
      },
      "source": [
        "from multiprocessing import  cpu_count,current_process\n",
        "from multiprocessing.pool import ThreadPool\n",
        "import functools\n",
        "import threading\n",
        "\n",
        "\n",
        "# GRIDSEARCH PARAMS\n",
        "model = SoftBagger(0,0,GaussianProcessRegressor(kernel,copy_X_train=False))\n",
        "trials = 3\n",
        "M_grid = [1,3,5,7,9]\n",
        "alpha_grid = [0.2,0.3,0.4,0.5]\n",
        "results = []\n",
        "\n",
        "### ACTUAL GRIDSEARCH\n",
        "pool = ThreadPool(2) #hyperthreading \n",
        "for m in M_grid:\n",
        "    for alpha in alpha_grid:\n",
        "        hyperparams= {'M':m, 'train_size_alpha':alpha}\n",
        "        pool.apply_async(evaluate_model, args=(model,hyperparams,flatten_X(X_train),y_train,1, [1/12,11/12],trials,N_test,MaxCallStochasticModel,V_0,None,[2020,2021,2022]),callback = create_logger(hyperparams,results))\n",
        "pool.close()\n",
        "pool.join()\n",
        "\n"
      ],
      "execution_count": 14,
      "outputs": [
        {
          "output_type": "stream",
          "text": [
            " {'M': 1, 'train_size_alpha': 0.2} -> thread id = 140008288184064\n",
            "fit\n",
            "(5000, 2)\n",
            " {'M': 1, 'train_size_alpha': 0.3} -> thread id = 140008279791360\n",
            "fit\n",
            "(5000, 2)\n",
            " soft predict\n",
            "(50000, 2)\n",
            " soft predict\n",
            "(50000, 2)\n",
            "{'M': 1, 'train_size_alpha': 0.2} , 0 -> 0.22261526679701296\n",
            " soft predict\n",
            "(50000, 2)\n",
            "{'M': 1, 'train_size_alpha': 0.3} , 0 -> 0.16273217733760342\n",
            " soft predict\n",
            "(50000, 2)\n",
            "{'M': 1, 'train_size_alpha': 0.2} , 1 -> 0.23463680268837922\n",
            " soft predict\n",
            "(50000, 2)\n",
            "{'M': 1, 'train_size_alpha': 0.3} , 1 -> 0.1763960349201307\n",
            " soft predict\n",
            "(50000, 2)\n",
            "{'M': 1, 'train_size_alpha': 0.2} , 2 -> 0.21787666659850946\n",
            "{'M': 1, 'train_size_alpha': 0.2} -> [0.22261526679701296, 0.23463680268837922, 0.21787666659850946]\n",
            " {'M': 1, 'train_size_alpha': 0.4} -> thread id = 140008288184064\n",
            "logger {'M': 1, 'train_size_alpha': 0.2}, -> [0.22261526679701296, 0.23463680268837922, 0.21787666659850946]\n",
            "fit\n",
            "(5000, 2)\n",
            "{'M': 1, 'train_size_alpha': 0.3} , 2 -> 0.15458612463101926\n",
            "{'M': 1, 'train_size_alpha': 0.3} -> [0.16273217733760342, 0.1763960349201307, 0.15458612463101926]\n",
            " {'M': 1, 'train_size_alpha': 0.5} -> thread id = 140008279791360logger {'M': 1, 'train_size_alpha': 0.3}, -> [0.16273217733760342, 0.1763960349201307, 0.15458612463101926]\n",
            "\n",
            "fit\n",
            "(5000, 2)\n",
            " soft predict\n",
            "(50000, 2)\n",
            " soft predict\n",
            "(50000, 2)\n",
            "{'M': 1, 'train_size_alpha': 0.4} , 0 -> 0.1846541623022965\n",
            " soft predict\n",
            "(50000, 2)\n",
            "{'M': 1, 'train_size_alpha': 0.5} , 0 -> 0.14248851405655863\n",
            " soft predict\n",
            "(50000, 2)\n",
            "{'M': 1, 'train_size_alpha': 0.4} , 1 -> 0.2133472214574922\n",
            " soft predict\n",
            "(50000, 2)\n",
            "{'M': 1, 'train_size_alpha': 0.5} , 1 -> 0.15918576321666902\n",
            " soft predict\n",
            "(50000, 2)\n",
            "{'M': 1, 'train_size_alpha': 0.4} , 2 -> 0.21778405575238682\n",
            "{'M': 1, 'train_size_alpha': 0.4} -> [0.1846541623022965, 0.2133472214574922, 0.21778405575238682]\n",
            " {'M': 3, 'train_size_alpha': 0.2} -> thread id = 140008288184064logger {'M': 1, 'train_size_alpha': 0.4}, -> [0.1846541623022965, 0.2133472214574922, 0.21778405575238682]\n",
            "\n",
            "fit\n",
            "(5000, 2)\n",
            " soft predict\n",
            "(50000, 2)\n",
            "{'M': 1, 'train_size_alpha': 0.5} , 2 -> 0.16660779915500862\n",
            "{'M': 1, 'train_size_alpha': 0.5} -> [0.14248851405655863, 0.15918576321666902, 0.16660779915500862]\n",
            " {'M': 3, 'train_size_alpha': 0.3} -> thread id = 140008279791360logger {'M': 1, 'train_size_alpha': 0.5}, -> [0.14248851405655863, 0.15918576321666902, 0.16660779915500862]\n",
            "fit\n",
            "(5000, 2)\n",
            "\n",
            " soft predict\n",
            "(50000, 2)\n",
            "{'M': 3, 'train_size_alpha': 0.2} , 0 -> 0.11276971524447511\n",
            " soft predict\n",
            "(50000, 2)\n",
            "{'M': 3, 'train_size_alpha': 0.3} , 0 -> 0.13742421125355048\n",
            " soft predict\n",
            "(50000, 2)\n",
            "{'M': 3, 'train_size_alpha': 0.2} , 1 -> 0.12682011638515028\n",
            " soft predict\n",
            "(50000, 2)\n",
            "{'M': 3, 'train_size_alpha': 0.3} , 1 -> 0.1535012304211044\n",
            " soft predict\n",
            "(50000, 2)\n",
            "{'M': 3, 'train_size_alpha': 0.2} , 2 -> 0.12119919154019855\n",
            "{'M': 3, 'train_size_alpha': 0.2} -> [0.11276971524447511, 0.12682011638515028, 0.12119919154019855]\n",
            " {'M': 3, 'train_size_alpha': 0.4} -> thread id = 140008288184064logger {'M': 3, 'train_size_alpha': 0.2}, -> [0.11276971524447511, 0.12682011638515028, 0.12119919154019855]\n",
            "\n",
            "fit\n",
            "(5000, 2)\n",
            "{'M': 3, 'train_size_alpha': 0.3} , 2 -> 0.1504570079709425\n",
            "{'M': 3, 'train_size_alpha': 0.3} -> [0.13742421125355048, 0.1535012304211044, 0.1504570079709425]\n",
            " {'M': 3, 'train_size_alpha': 0.5} -> thread id = 140008279791360\n",
            "fit\n",
            "(5000, 2)\n",
            "logger {'M': 3, 'train_size_alpha': 0.3}, -> [0.13742421125355048, 0.1535012304211044, 0.1504570079709425]\n",
            " soft predict\n",
            "(50000, 2)\n",
            " soft predict\n",
            "(50000, 2)\n",
            "{'M': 3, 'train_size_alpha': 0.4} , 0 -> 0.13962986134032215\n",
            " soft predict\n",
            "(50000, 2)\n",
            "{'M': 3, 'train_size_alpha': 0.5} , 0 -> 0.12508112942216215\n",
            " soft predict\n",
            "(50000, 2)\n",
            "{'M': 3, 'train_size_alpha': 0.4} , 1 -> 0.1521038811668313\n",
            " soft predict\n",
            "(50000, 2)\n",
            "{'M': 3, 'train_size_alpha': 0.5} , 1 -> 0.1336038275630905\n",
            " soft predict\n",
            "(50000, 2)\n",
            "{'M': 3, 'train_size_alpha': 0.4} , 2 -> 0.16111615879649366\n",
            "{'M': 3, 'train_size_alpha': 0.4} -> [0.13962986134032215, 0.1521038811668313, 0.16111615879649366]\n",
            " {'M': 5, 'train_size_alpha': 0.2} -> thread id = 140008288184064logger {'M': 3, 'train_size_alpha': 0.4}, -> [0.13962986134032215, 0.1521038811668313, 0.16111615879649366]\n",
            "\n",
            "fit\n",
            "(5000, 2)\n",
            " soft predict\n",
            "(50000, 2)\n",
            "{'M': 3, 'train_size_alpha': 0.5} , 2 -> 0.13945385126362697\n",
            "{'M': 3, 'train_size_alpha': 0.5} -> [0.12508112942216215, 0.1336038275630905, 0.13945385126362697]\n",
            " {'M': 5, 'train_size_alpha': 0.3} -> thread id = 140008279791360logger {'M': 3, 'train_size_alpha': 0.5}, -> [0.12508112942216215, 0.1336038275630905, 0.13945385126362697]\n",
            "\n",
            "fit\n",
            "(5000, 2)\n",
            "{'M': 5, 'train_size_alpha': 0.2} , 0 -> 0.11198646612399402\n",
            " soft predict\n",
            "(50000, 2)\n",
            " soft predict\n",
            "(50000, 2)\n",
            "{'M': 5, 'train_size_alpha': 0.2} , 1 -> 0.12294716754581123\n",
            " soft predict\n",
            "(50000, 2)\n",
            "{'M': 5, 'train_size_alpha': 0.3} , 0 -> 0.11808861220556148\n",
            " soft predict\n",
            "(50000, 2)\n",
            "{'M': 5, 'train_size_alpha': 0.2} , 2 -> 0.11879628771633076\n",
            "{'M': 5, 'train_size_alpha': 0.2} -> [0.11198646612399402, 0.12294716754581123, 0.11879628771633076]\n",
            " {'M': 5, 'train_size_alpha': 0.4} -> thread id = 140008288184064logger {'M': 5, 'train_size_alpha': 0.2}, -> [0.11198646612399402, 0.12294716754581123, 0.11879628771633076]\n",
            "\n",
            "fit\n",
            "(5000, 2)\n",
            "{'M': 5, 'train_size_alpha': 0.3} , 1 -> 0.13294500568817935\n",
            " soft predict\n",
            "(50000, 2)\n",
            " soft predict\n",
            "(50000, 2)\n",
            "{'M': 5, 'train_size_alpha': 0.3} , 2 -> 0.1319737811268167\n",
            "{'M': 5, 'train_size_alpha': 0.3} -> [0.11808861220556148, 0.13294500568817935, 0.1319737811268167]\n",
            " {'M': 5, 'train_size_alpha': 0.5} -> thread id = 140008279791360logger {'M': 5, 'train_size_alpha': 0.3}, -> [0.11808861220556148, 0.13294500568817935, 0.1319737811268167]\n",
            "\n",
            "fit\n",
            "(5000, 2)\n",
            "{'M': 5, 'train_size_alpha': 0.4} , 0 -> 0.11865641565464927\n",
            " soft predict\n",
            "(50000, 2)\n",
            " soft predict\n",
            "(50000, 2)\n",
            "{'M': 5, 'train_size_alpha': 0.4} , 1 -> 0.12698947586659123\n",
            " soft predict\n",
            "(50000, 2)\n",
            "{'M': 5, 'train_size_alpha': 0.5} , 0 -> 0.1281885760531762\n",
            " soft predict\n",
            "(50000, 2)\n",
            "{'M': 5, 'train_size_alpha': 0.4} , 2 -> 0.13668114132815679\n",
            "{'M': 5, 'train_size_alpha': 0.4} -> [0.11865641565464927, 0.12698947586659123, 0.13668114132815679]\n",
            " {'M': 7, 'train_size_alpha': 0.2} -> thread id = 140008288184064logger {'M': 5, 'train_size_alpha': 0.4}, -> [0.11865641565464927, 0.12698947586659123, 0.13668114132815679]\n",
            "\n",
            "fit\n",
            "(5000, 2)\n",
            "{'M': 5, 'train_size_alpha': 0.5} , 1 -> 0.13915758861289138\n",
            " soft predict\n",
            "(50000, 2)\n",
            " soft predict\n",
            "(50000, 2)\n",
            "{'M': 7, 'train_size_alpha': 0.2} , 0 -> 0.114766542844548\n",
            " soft predict\n",
            "(50000, 2)\n",
            "{'M': 5, 'train_size_alpha': 0.5} , 2 -> 0.15057387335460853\n",
            "{'M': 5, 'train_size_alpha': 0.5} -> [0.1281885760531762, 0.13915758861289138, 0.15057387335460853]\n",
            " {'M': 7, 'train_size_alpha': 0.3} -> thread id = 140008279791360logger {'M': 5, 'train_size_alpha': 0.5}, -> [0.1281885760531762, 0.13915758861289138, 0.15057387335460853]\n",
            "\n",
            "fit\n",
            "(5000, 2)\n",
            " soft predict\n",
            "(50000, 2)\n",
            "{'M': 7, 'train_size_alpha': 0.2} , 1 -> 0.12810808684132308\n",
            " soft predict\n",
            "(50000, 2)\n",
            "{'M': 7, 'train_size_alpha': 0.3} , 0 -> 0.12327316590711314\n",
            " soft predict\n",
            "(50000, 2)\n",
            "{'M': 7, 'train_size_alpha': 0.2} , 2 -> 0.12259351007575611\n",
            "{'M': 7, 'train_size_alpha': 0.2} -> [0.114766542844548, 0.12810808684132308, 0.12259351007575611]\n",
            " {'M': 7, 'train_size_alpha': 0.4} -> thread id = 140008288184064logger {'M': 7, 'train_size_alpha': 0.2}, -> [0.114766542844548, 0.12810808684132308, 0.12259351007575611]\n",
            "\n",
            "fit\n",
            "(5000, 2)\n",
            " soft predict\n",
            "(50000, 2)\n",
            "{'M': 7, 'train_size_alpha': 0.3} , 1 -> 0.13761057105947\n",
            " soft predict\n",
            "(50000, 2)\n",
            "{'M': 7, 'train_size_alpha': 0.4} , 0 -> 0.11633595108581112\n",
            " soft predict\n",
            "(50000, 2)\n",
            "{'M': 7, 'train_size_alpha': 0.3} , 2 -> 0.142858793024612\n",
            "{'M': 7, 'train_size_alpha': 0.3} -> [0.12327316590711314, 0.13761057105947, 0.142858793024612]\n",
            " {'M': 7, 'train_size_alpha': 0.5} -> thread id = 140008279791360logger {'M': 7, 'train_size_alpha': 0.3}, -> [0.12327316590711314, 0.13761057105947, 0.142858793024612]\n",
            "\n",
            "fit\n",
            "(5000, 2)\n",
            "{'M': 7, 'train_size_alpha': 0.4} , 1 -> 0.12487340456954936\n",
            " soft predict\n",
            "(50000, 2)\n",
            " soft predict\n",
            "(50000, 2)\n",
            "{'M': 7, 'train_size_alpha': 0.4} , 2 -> 0.1359011762331626\n",
            "{'M': 7, 'train_size_alpha': 0.4} -> [0.11633595108581112, 0.12487340456954936, 0.1359011762331626]\n",
            " {'M': 9, 'train_size_alpha': 0.2} -> thread id = 140008288184064logger {'M': 7, 'train_size_alpha': 0.4}, -> [0.11633595108581112, 0.12487340456954936, 0.1359011762331626]\n",
            "\n",
            "fit\n",
            "(5000, 2)\n",
            "{'M': 7, 'train_size_alpha': 0.5} , 0 -> 0.14389293105796894\n",
            " soft predict\n",
            "(50000, 2)\n",
            " soft predict\n",
            "(50000, 2)\n",
            "{'M': 9, 'train_size_alpha': 0.2} , 0 -> 0.10949335990152097\n",
            " soft predict\n",
            "(50000, 2)\n",
            "{'M': 7, 'train_size_alpha': 0.5} , 1 -> 0.1505961132686077\n",
            " soft predict\n",
            "(50000, 2)\n",
            "{'M': 9, 'train_size_alpha': 0.2} , 1 -> 0.1227084300356834\n",
            " soft predict\n",
            "(50000, 2)\n",
            "{'M': 7, 'train_size_alpha': 0.5} , 2 -> 0.16396932512794962\n",
            "{'M': 7, 'train_size_alpha': 0.5} -> [0.14389293105796894, 0.1505961132686077, 0.16396932512794962]\n",
            " {'M': 9, 'train_size_alpha': 0.3} -> thread id = 140008279791360logger {'M': 7, 'train_size_alpha': 0.5}, -> [0.14389293105796894, 0.1505961132686077, 0.16396932512794962]\n",
            "\n",
            "fit\n",
            "(5000, 2)\n",
            "{'M': 9, 'train_size_alpha': 0.2} , 2 -> 0.1190495400137878\n",
            "{'M': 9, 'train_size_alpha': 0.2} -> [0.10949335990152097, 0.1227084300356834, 0.1190495400137878]\n",
            " {'M': 9, 'train_size_alpha': 0.4} -> thread id = 140008288184064logger {'M': 9, 'train_size_alpha': 0.2}, -> [0.10949335990152097, 0.1227084300356834, 0.1190495400137878]\n",
            "\n",
            "fit\n",
            "(5000, 2)\n",
            " soft predict\n",
            "(50000, 2)\n",
            " soft predict\n",
            "(50000, 2)\n",
            "{'M': 9, 'train_size_alpha': 0.3} , 0 -> 0.11255631818389407\n",
            " soft predict\n",
            "(50000, 2)\n",
            "{'M': 9, 'train_size_alpha': 0.4} , 0 -> 0.14071261141243815\n",
            " soft predict\n",
            "(50000, 2)\n",
            "{'M': 9, 'train_size_alpha': 0.3} , 1 -> 0.12714956812834693\n",
            " soft predict\n",
            "(50000, 2)\n",
            "{'M': 9, 'train_size_alpha': 0.4} , 1 -> 0.1515791084635628\n",
            " soft predict\n",
            "(50000, 2)\n",
            "{'M': 9, 'train_size_alpha': 0.3} , 2 -> 0.13204309625076707\n",
            "{'M': 9, 'train_size_alpha': 0.3} -> [0.11255631818389407, 0.12714956812834693, 0.13204309625076707]\n",
            " {'M': 9, 'train_size_alpha': 0.5} -> thread id = 140008279791360logger {'M': 9, 'train_size_alpha': 0.3}, -> [0.11255631818389407, 0.12714956812834693, 0.13204309625076707]\n",
            "\n",
            "fit\n",
            "(5000, 2)\n",
            "{'M': 9, 'train_size_alpha': 0.4} , 2 -> 0.1573743227587902\n",
            "{'M': 9, 'train_size_alpha': 0.4} -> [0.14071261141243815, 0.1515791084635628, 0.1573743227587902]\n",
            "logger {'M': 9, 'train_size_alpha': 0.4}, -> [0.14071261141243815, 0.1515791084635628, 0.1573743227587902]\n",
            " soft predict\n",
            "(50000, 2)\n",
            "{'M': 9, 'train_size_alpha': 0.5} , 0 -> 0.1556573156335792\n",
            " soft predict\n",
            "(50000, 2)\n",
            "{'M': 9, 'train_size_alpha': 0.5} , 1 -> 0.16631247695810955\n",
            " soft predict\n",
            "(50000, 2)\n",
            "{'M': 9, 'train_size_alpha': 0.5} , 2 -> 0.17611937656692528\n",
            "{'M': 9, 'train_size_alpha': 0.5} -> [0.1556573156335792, 0.16631247695810955, 0.17611937656692528]\n",
            "logger {'M': 9, 'train_size_alpha': 0.5}, -> [0.1556573156335792, 0.16631247695810955, 0.17611937656692528]\n"
          ],
          "name": "stdout"
        }
      ]
    },
    {
      "cell_type": "code",
      "metadata": {
        "ExecuteTime": {
          "end_time": "2020-12-09T21:01:51.501945Z",
          "start_time": "2020-12-09T21:01:51.477983Z"
        },
        "id": "7mbOaNtM3-np",
        "outputId": "f24e8342-202d-440d-c913-9da6f4ade0e4",
        "colab": {
          "base_uri": "https://localhost:8080/"
        }
      },
      "source": [
        "converted_results = np.ones((len(M_grid),len(alpha_grid),trials))*(-1)\n",
        "for item in results:\n",
        "    print(item)\n",
        "    converted_results[M_grid.index(item[0]),alpha_grid.index(item[1])] = item[2]\n",
        "\n",
        "print(converted_results.shape)\n",
        "print(converted_results)"
      ],
      "execution_count": 15,
      "outputs": [
        {
          "output_type": "stream",
          "text": [
            "[1, 0.2, [0.22261526679701296, 0.23463680268837922, 0.21787666659850946]]\n",
            "[1, 0.3, [0.16273217733760342, 0.1763960349201307, 0.15458612463101926]]\n",
            "[1, 0.4, [0.1846541623022965, 0.2133472214574922, 0.21778405575238682]]\n",
            "[1, 0.5, [0.14248851405655863, 0.15918576321666902, 0.16660779915500862]]\n",
            "[3, 0.2, [0.11276971524447511, 0.12682011638515028, 0.12119919154019855]]\n",
            "[3, 0.3, [0.13742421125355048, 0.1535012304211044, 0.1504570079709425]]\n",
            "[3, 0.4, [0.13962986134032215, 0.1521038811668313, 0.16111615879649366]]\n",
            "[3, 0.5, [0.12508112942216215, 0.1336038275630905, 0.13945385126362697]]\n",
            "[5, 0.2, [0.11198646612399402, 0.12294716754581123, 0.11879628771633076]]\n",
            "[5, 0.3, [0.11808861220556148, 0.13294500568817935, 0.1319737811268167]]\n",
            "[5, 0.4, [0.11865641565464927, 0.12698947586659123, 0.13668114132815679]]\n",
            "[5, 0.5, [0.1281885760531762, 0.13915758861289138, 0.15057387335460853]]\n",
            "[7, 0.2, [0.114766542844548, 0.12810808684132308, 0.12259351007575611]]\n",
            "[7, 0.3, [0.12327316590711314, 0.13761057105947, 0.142858793024612]]\n",
            "[7, 0.4, [0.11633595108581112, 0.12487340456954936, 0.1359011762331626]]\n",
            "[7, 0.5, [0.14389293105796894, 0.1505961132686077, 0.16396932512794962]]\n",
            "[9, 0.2, [0.10949335990152097, 0.1227084300356834, 0.1190495400137878]]\n",
            "[9, 0.3, [0.11255631818389407, 0.12714956812834693, 0.13204309625076707]]\n",
            "[9, 0.4, [0.14071261141243815, 0.1515791084635628, 0.1573743227587902]]\n",
            "[9, 0.5, [0.1556573156335792, 0.16631247695810955, 0.17611937656692528]]\n",
            "(5, 4, 3)\n",
            "[[[0.22261527 0.2346368  0.21787667]\n",
            "  [0.16273218 0.17639603 0.15458612]\n",
            "  [0.18465416 0.21334722 0.21778406]\n",
            "  [0.14248851 0.15918576 0.1666078 ]]\n",
            "\n",
            " [[0.11276972 0.12682012 0.12119919]\n",
            "  [0.13742421 0.15350123 0.15045701]\n",
            "  [0.13962986 0.15210388 0.16111616]\n",
            "  [0.12508113 0.13360383 0.13945385]]\n",
            "\n",
            " [[0.11198647 0.12294717 0.11879629]\n",
            "  [0.11808861 0.13294501 0.13197378]\n",
            "  [0.11865642 0.12698948 0.13668114]\n",
            "  [0.12818858 0.13915759 0.15057387]]\n",
            "\n",
            " [[0.11476654 0.12810809 0.12259351]\n",
            "  [0.12327317 0.13761057 0.14285879]\n",
            "  [0.11633595 0.1248734  0.13590118]\n",
            "  [0.14389293 0.15059611 0.16396933]]\n",
            "\n",
            " [[0.10949336 0.12270843 0.11904954]\n",
            "  [0.11255632 0.12714957 0.1320431 ]\n",
            "  [0.14071261 0.15157911 0.15737432]\n",
            "  [0.15565732 0.16631248 0.17611938]]]\n"
          ],
          "name": "stdout"
        }
      ]
    },
    {
      "cell_type": "code",
      "metadata": {
        "ExecuteTime": {
          "end_time": "2020-12-09T21:01:51.535827Z",
          "start_time": "2020-12-09T21:01:51.504910Z"
        },
        "id": "QJ0iBNNS3-nq",
        "outputId": "f55fd09f-94ee-4023-ac01-ec68955a234e",
        "colab": {
          "base_uri": "https://localhost:8080/"
        }
      },
      "source": [
        "masked_results= np.ma.masked_where(converted_results <= 0.0,converted_results) # some runs have been aborted every now and then -> filter them out\n",
        "means = masked_results.mean(axis=2)\n",
        "sigmas = masked_results.std(axis=2)\n",
        "means.shape"
      ],
      "execution_count": 16,
      "outputs": [
        {
          "output_type": "execute_result",
          "data": {
            "text/plain": [
              "(5, 4)"
            ]
          },
          "metadata": {
            "tags": []
          },
          "execution_count": 16
        }
      ]
    },
    {
      "cell_type": "code",
      "metadata": {
        "ExecuteTime": {
          "end_time": "2020-12-09T21:01:52.037485Z",
          "start_time": "2020-12-09T21:01:51.537855Z"
        },
        "id": "Mv_dWAob3-nq",
        "outputId": "74527903-54ab-455c-ca65-ddd4c81c4385",
        "colab": {
          "base_uri": "https://localhost:8080/",
          "height": 295
        }
      },
      "source": [
        "plt.hlines(reference_error_mean,xmin=M_grid[0],xmax=M_grid[-1],linestyles='dashed',label=\"reference error\")\n",
        "for i in range(len(alpha_grid)):\n",
        "    plt.errorbar(np.array(M_grid),means[:,i],sigmas[:,i],marker ='o',label = f\"alpha = {alpha_grid[i]}\")\n",
        "plt.title(f\"Soft Bagging Normalized error: N_train = {N_train}, d= {d}, N_test= {N_test}\")\n",
        "plt.xlabel(\"M\")\n",
        "plt.xticks(M_grid)\n",
        "plt.ylabel(\"normalized error\")\n",
        "plt.legend(loc='upper right')\n",
        "plt.savefig(\"soft_bagging.png\")\n",
        "plt.show()\n"
      ],
      "execution_count": 17,
      "outputs": [
        {
          "output_type": "display_data",
          "data": {
            "image/png": "[encoded data removed]",
            "text/plain": [
              "<Figure size 432x288 with 1 Axes>"
            ]
          },
          "metadata": {
            "tags": [],
            "needs_background": "light"
          }
        }
      ]
    },
    {
      "cell_type": "markdown",
      "metadata": {
        "id": "dcAAHg393-nq"
      },
      "source": [
        "\n"
      ]
    },
    {
      "cell_type": "markdown",
      "metadata": {
        "ExecuteTime": {
          "end_time": "2020-11-15T17:54:08.608678Z",
          "start_time": "2020-11-15T17:54:08.603664Z"
        },
        "id": "2zj8NAxI3-nq"
      },
      "source": [
        "## Store results"
      ]
    },
    {
      "cell_type": "code",
      "metadata": {
        "ExecuteTime": {
          "end_time": "2020-11-20T17:01:11.071807Z",
          "start_time": "2020-11-20T17:01:11.066821Z"
        },
        "id": "qFvK6Ny03-nq"
      },
      "source": [
        "res_dict = {'N_train': N_train, 'N_test': N_test,'mgrid': M_grid, 'alpha_grid': alpha_grid, 'errors': converted_results.tolist()}"
      ],
      "execution_count": 18,
      "outputs": []
    },
    {
      "cell_type": "code",
      "metadata": {
        "ExecuteTime": {
          "end_time": "2020-11-20T17:01:11.081780Z",
          "start_time": "2020-11-20T17:01:11.072805Z"
        },
        "id": "a-qSpIOm3-nr"
      },
      "source": [
        "import json\n",
        "import datetime\n",
        "with open(f'soft_bagging_w_replacement_{str(datetime.date.today())}.json', 'w') as fp:\n",
        "    json.dump(res_dict, fp)"
      ],
      "execution_count": 19,
      "outputs": []
    },
    {
      "cell_type": "code",
      "metadata": {
        "id": "T_u8F5WX3-nr"
      },
      "source": [
        ""
      ],
      "execution_count": 19,
      "outputs": []
    }
  ]
}