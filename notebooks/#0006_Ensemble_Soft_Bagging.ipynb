{
 "cells": [
  {
   "cell_type": "markdown",
   "metadata": {},
   "source": [
    "# Ensemble Learning through Soft Bagging \n",
    "\n",
    "**bagging == Bootstrapping Aggregation** \n",
    "\n",
    "$\\implies$  hyperparam = {M = #learners, alpha = # relative trainset size}\n"
   ]
  },
  {
   "cell_type": "code",
   "execution_count": 52,
   "metadata": {
    "ExecuteTime": {
     "end_time": "2020-12-09T19:01:39.433737Z",
     "start_time": "2020-12-09T19:01:39.417997Z"
    }
   },
   "outputs": [],
   "source": [
    "import numpy as np\n",
    "import random\n",
    "import matplotlib.pyplot as plt\n",
    "from sklearn.gaussian_process import GaussianProcessRegressor\n",
    "from sklearn.gaussian_process.kernels import RBF, WhiteKernel\n",
    "\n",
    "# add project root folder to path to allow import local modules\n",
    "import os\n",
    "import sys\n",
    "module_path = os.path.abspath(os.path.join('..'))\n",
    "if module_path not in sys.path:\n",
    "    sys.path.append(module_path)\n",
    "# import local modules\n",
    "from stochastic_models import *\n",
    "from visualisations import *"
   ]
  },
  {
   "cell_type": "markdown",
   "metadata": {
    "ExecuteTime": {
     "end_time": "2020-11-14T11:40:28.368547Z",
     "start_time": "2020-11-14T11:40:28.365554Z"
    }
   },
   "source": [
    "## Parameter Configuration"
   ]
  },
  {
   "cell_type": "code",
   "execution_count": 53,
   "metadata": {
    "ExecuteTime": {
     "end_time": "2020-12-09T19:01:40.162505Z",
     "start_time": "2020-12-09T19:01:40.154248Z"
    }
   },
   "outputs": [],
   "source": [
    "np.random.seed(2020)"
   ]
  },
  {
   "cell_type": "code",
   "execution_count": 54,
   "metadata": {
    "ExecuteTime": {
     "end_time": "2020-12-09T19:01:40.518746Z",
     "start_time": "2020-12-09T19:01:40.508453Z"
    }
   },
   "outputs": [],
   "source": [
    "N_train = 5000\n",
    "N_test = 50000\n",
    "d = 1\n",
    "T = 2"
   ]
  },
  {
   "cell_type": "code",
   "execution_count": 55,
   "metadata": {
    "ExecuteTime": {
     "end_time": "2020-12-09T19:01:40.889412Z",
     "start_time": "2020-12-09T19:01:40.880766Z"
    }
   },
   "outputs": [],
   "source": [
    "lambda_range = (N_train*1e-9 , N_train*1e-3)\n",
    "alpha_range = (8.3*1e-5, 0.83)\n",
    "length_scale = np.sort(1/np.sqrt((2*alpha_range[0], 2*alpha_range[1])))"
   ]
  },
  {
   "cell_type": "markdown",
   "metadata": {
    "ExecuteTime": {
     "end_time": "2020-11-14T11:40:29.811046Z",
     "start_time": "2020-11-14T11:40:29.808054Z"
    }
   },
   "source": [
    "## Create Kernel & prepare datasets"
   ]
  },
  {
   "cell_type": "code",
   "execution_count": 56,
   "metadata": {
    "ExecuteTime": {
     "end_time": "2020-12-09T19:01:41.655453Z",
     "start_time": "2020-12-09T19:01:41.650442Z"
    }
   },
   "outputs": [],
   "source": [
    "#kernel\n",
    "kernel = RBF(length_scale= (length_scale[0] + length_scale[1])/2, length_scale_bounds=length_scale) \\\n",
    "        + WhiteKernel(noise_level= (lambda_range[0] + lambda_range[1])/2 , noise_level_bounds=lambda_range)\n"
   ]
  },
  {
   "cell_type": "code",
   "execution_count": 57,
   "metadata": {
    "ExecuteTime": {
     "end_time": "2020-12-09T19:01:42.110853Z",
     "start_time": "2020-12-09T19:01:42.076296Z"
    }
   },
   "outputs": [],
   "source": [
    "#generate drivers\n",
    "s_train = MaxCallStochasticModel(N_train,d,[1/12,11/12])\n",
    "s_train.generate_samples()\n",
    "s_test = MaxCallStochasticModel(N_test, d, [1/12,11/12])\n",
    "s_test.generate_samples()"
   ]
  },
  {
   "cell_type": "code",
   "execution_count": 58,
   "metadata": {
    "ExecuteTime": {
     "end_time": "2020-12-09T19:01:42.568385Z",
     "start_time": "2020-12-09T19:01:42.552140Z"
    }
   },
   "outputs": [
    {
     "data": {
      "text/plain": [
       "0.07910258689366288"
      ]
     },
     "execution_count": 58,
     "metadata": {},
     "output_type": "execute_result"
    }
   ],
   "source": [
    "#prepare datasets & values\n",
    "y_train = s_train.y\n",
    "X_train = s_train.X\n",
    "S_train = s_train.S\n",
    "\n",
    "y_test = s_test.y\n",
    "X_test = s_test.X\n",
    "S_test = s_test.S\n",
    "\n",
    "V_T = y_test  \n",
    "V_0 = s_test.generate_true_V(0)\n",
    "\n",
    "V_0= V_0.mean()\n",
    "V_0 # Average expected PROFIT!"
   ]
  },
  {
   "cell_type": "code",
   "execution_count": 59,
   "metadata": {
    "ExecuteTime": {
     "end_time": "2020-12-09T19:01:43.109654Z",
     "start_time": "2020-12-09T19:01:43.101173Z"
    }
   },
   "outputs": [
    {
     "data": {
      "text/plain": [
       "(100000, 1, 2)"
      ]
     },
     "execution_count": 59,
     "metadata": {},
     "output_type": "execute_result"
    }
   ],
   "source": [
    "X_test.shape"
   ]
  },
  {
   "cell_type": "markdown",
   "metadata": {
    "ExecuteTime": {
     "end_time": "2020-11-14T11:40:33.048462Z",
     "start_time": "2020-11-14T11:40:33.045471Z"
    }
   },
   "source": [
    "## Compare with Hard voting"
   ]
  },
  {
   "cell_type": "code",
   "execution_count": null,
   "metadata": {
    "ExecuteTime": {
     "end_time": "2020-11-20T15:02:36.070161Z",
     "start_time": "2020-11-20T15:02:36.058157Z"
    }
   },
   "outputs": [],
   "source": []
  },
  {
   "cell_type": "raw",
   "metadata": {
    "ExecuteTime": {
     "end_time": "2020-12-09T18:27:27.912490Z",
     "start_time": "2020-12-09T18:26:29.535636Z"
    }
   },
   "source": [
    "from aggregating.models import SoftBagger, SimpleBagger\n",
    "from aggregating.utils import flatten_X\n",
    "soft = SoftBagger(3,0.8,GaussianProcessRegressor(kernel,copy_X_train=False))\n",
    "hard = SimpleBagger(3,0.8,GaussianProcessRegressor(kernel,copy_X_train=False))\n",
    "soft.fit(flatten_X(X_train),y_train)\n",
    "hard.fit(flatten_X(X_train),y_train)"
   ]
  },
  {
   "cell_type": "raw",
   "metadata": {
    "ExecuteTime": {
     "end_time": "2020-12-09T18:29:08.679947Z",
     "start_time": "2020-12-09T18:27:27.913488Z"
    }
   },
   "source": [
    "#compare soft & hard prediction\n",
    "from aggregating.utils import normalized_error_VT\n",
    "print(normalized_error_VT(y_test, soft.predict(flatten_X(X_test)), V_0))\n",
    "print(normalized_error_VT(y_test, hard.predict(flatten_X(X_test)), V_0))"
   ]
  },
  {
   "cell_type": "code",
   "execution_count": 60,
   "metadata": {
    "ExecuteTime": {
     "end_time": "2020-12-09T19:02:03.077553Z",
     "start_time": "2020-12-09T19:02:03.033978Z"
    }
   },
   "outputs": [
    {
     "name": "stdout",
     "output_type": "stream",
     "text": [
      "(array([-0.00066049]), array([0.0251005]))\n",
      "(array([-0.00975121]), array([0.02114459]))\n",
      "(array([0.00518251]), array([0.01971414]))\n",
      "RBF(length_scale=39.2) + WhiteKernel(noise_level=2.5)\n",
      "RBF(length_scale=39.2) + WhiteKernel(noise_level=2.5)\n"
     ]
    }
   ],
   "source": [
    "\n",
    "x  =  X_test[1023]\n",
    "for predictor in soft.predictors:\n",
    "    print(predictor.predict(x,return_std=True))\n",
    "print(soft.predictors[0].kernel)\n",
    "print(soft.predictors[1].kernel)"
   ]
  },
  {
   "cell_type": "code",
   "execution_count": 61,
   "metadata": {
    "ExecuteTime": {
     "end_time": "2020-12-09T19:02:13.673949Z",
     "start_time": "2020-12-09T19:02:13.584051Z"
    }
   },
   "outputs": [
    {
     "name": "stdout",
     "output_type": "stream",
     "text": [
      "(array([0.11668687]), array([0.05785658]))\n",
      "(array([0.06577228]), array([0.10983612]))\n"
     ]
    }
   ],
   "source": [
    "from sklearn.base import clone\n",
    "gpr1  = GaussianProcessRegressor(kernel,copy_X_train=False)\n",
    "gpr2  = clone(gpr1)\n",
    "gpr1.fit(flatten_X(X_train[2:10]),y_train[2:10])\n",
    "gpr2.fit(flatten_X(X_train[12:20]),y_train[12:20])\n",
    "\n",
    "print(gpr1.predict(X_test[4],return_std = True))\n",
    "print(gpr2.predict(X_test[4],return_std = True))"
   ]
  },
  {
   "cell_type": "markdown",
   "metadata": {},
   "source": [
    "## GridSearch\n",
    "\n",
    "nB: cannot use Scikit gridsearch as it performs CV and we want to have a different test set of a larger size!"
   ]
  },
  {
   "cell_type": "code",
   "execution_count": 63,
   "metadata": {
    "ExecuteTime": {
     "end_time": "2020-12-09T19:06:04.323050Z",
     "start_time": "2020-12-09T19:04:42.064801Z"
    }
   },
   "outputs": [
    {
     "name": "stdout",
     "output_type": "stream",
     "text": [
      " {'M': 1, 'train_size_alpha': 1.0} -> thread id = 196\n",
      "{'M': 1, 'train_size_alpha': 1.0} , 0 -> 0.13086691022172817\n",
      "{'M': 1, 'train_size_alpha': 1.0} , 1 -> 0.13817958560035468\n",
      "{'M': 1, 'train_size_alpha': 1.0} , 2 -> 0.13132754510418426\n",
      "{'M': 1, 'train_size_alpha': 1.0} , 3 -> 0.15150196515433031\n",
      "{'M': 1, 'train_size_alpha': 1.0} , 4 -> 0.11094627911072956\n",
      "{'M': 1, 'train_size_alpha': 1.0} -> [0.13086691022172817, 0.13817958560035468, 0.13132754510418426, 0.15150196515433031, 0.11094627911072956]\n",
      "0.1325644570382654\n"
     ]
    }
   ],
   "source": [
    "#reference error: no ensemble\n",
    "from aggregating.gridsearch import create_logger, evaluate_model\n",
    "from aggregating.utils import flatten_X\n",
    "\n",
    "hyperparams= {'M':1, 'train_size_alpha':1.0}\n",
    "model = GaussianProcessRegressor(kernel)\n",
    "reference_error = evaluate_model(model,hyperparams,flatten_X(X_train),y_train,1, [1/12,11/12],5,100000,MaxCallStochasticModel)\n",
    "reference_error_mean = sum(reference_error)/len(reference_error)\n",
    "print(reference_error_mean)"
   ]
  },
  {
   "cell_type": "code",
   "execution_count": 64,
   "metadata": {
    "ExecuteTime": {
     "end_time": "2020-12-09T21:01:51.468053Z",
     "start_time": "2020-12-09T19:06:04.335019Z"
    }
   },
   "outputs": [
    {
     "name": "stdout",
     "output_type": "stream",
     "text": [
      " {'M': 1, 'train_size_alpha': 0.3} -> thread id = 17360\n",
      "fit\n",
      "(5000, 2)\n",
      " {'M': 1, 'train_size_alpha': 0.5} -> thread id = 25400\n",
      "fit\n",
      "(5000, 2)\n",
      " {'M': 1, 'train_size_alpha': 0.7} -> thread id = 24348\n",
      "fit\n",
      "(5000, 2)\n",
      " {'M': 1, 'train_size_alpha': 1.0} -> thread id = 26612\n",
      "fit\n",
      "(5000, 2)\n",
      " {'M': 3, 'train_size_alpha': 0.3} -> thread id = 12732\n",
      "fit\n",
      "(5000, 2)\n",
      " {'M': 3, 'train_size_alpha': 0.5} -> thread id = 16960\n",
      "fit\n",
      "(5000, 2)\n",
      " {'M': 3, 'train_size_alpha': 0.7} -> thread id = 26608\n",
      "fit\n",
      "(5000, 2)\n",
      " {'M': 3, 'train_size_alpha': 1.0} -> thread id = 32688\n",
      "fit\n",
      "(5000, 2)\n",
      " {'M': 5, 'train_size_alpha': 0.3} -> thread id = 29228\n",
      "fit\n",
      "(5000, 2)\n",
      " {'M': 5, 'train_size_alpha': 0.5} -> thread id = 19200\n",
      "fit\n",
      "(5000, 2)\n",
      " soft predict\n",
      "(100000, 2)\n",
      "{'M': 1, 'train_size_alpha': 0.3} , 0 -> 0.1525564999284104\n",
      " soft predict\n",
      "(100000, 2)\n",
      " soft predict\n",
      "(100000, 2)\n",
      " soft predict\n",
      "(100000, 2)\n",
      " soft predict\n",
      "(100000, 2)\n",
      " soft predict\n",
      "(100000, 2)\n",
      " soft predict\n",
      "(100000, 2)\n",
      " soft predict\n",
      "(100000, 2)\n",
      " soft predict\n",
      "(100000, 2)\n",
      "{'M': 1, 'train_size_alpha': 1.0} , 0 -> 0.2229014145638589\n",
      "{'M': 1, 'train_size_alpha': 0.3} , 1 -> 0.1425420466028954\n",
      "{'M': 1, 'train_size_alpha': 0.5} , 0 -> 0.2291749702497835\n",
      " soft predict\n",
      "(100000, 2)\n",
      " soft predict\n",
      "(100000, 2)\n",
      " soft predict\n",
      "(100000, 2)\n",
      " soft predict\n",
      "(100000, 2)\n",
      "{'M': 1, 'train_size_alpha': 0.7} , 0 -> 0.19677829434556182\n",
      " soft predict\n",
      "(100000, 2)\n",
      " soft predict\n",
      "(100000, 2)\n",
      "{'M': 1, 'train_size_alpha': 0.3} , 2 -> 0.14204151581790173\n",
      "{'M': 1, 'train_size_alpha': 0.3} -> [0.1525564999284104, 0.1425420466028954, 0.14204151581790173]\n",
      " {'M': 5, 'train_size_alpha': 0.7} -> thread id = 17360logger {'M': 1, 'train_size_alpha': 0.3}, -> [0.1525564999284104, 0.1425420466028954, 0.14204151581790173]\n",
      "fit\n",
      "(5000, 2)\n",
      "\n",
      "{'M': 1, 'train_size_alpha': 0.5} , 1 -> 0.2138239063752975\n",
      " soft predict\n",
      "(100000, 2)\n",
      "{'M': 3, 'train_size_alpha': 0.3} , 0 -> 0.09975858963989764\n",
      "{'M': 1, 'train_size_alpha': 1.0} , 1 -> 0.1933416097905648\n",
      "{'M': 1, 'train_size_alpha': 0.7} , 1 -> 0.23465847893755157\n",
      " soft predict\n",
      "(100000, 2)\n",
      " soft predict\n",
      "(100000, 2)\n",
      " soft predict\n",
      "(100000, 2)\n",
      "{'M': 1, 'train_size_alpha': 0.5} , 2 -> 0.23410544756269064\n",
      "{'M': 1, 'train_size_alpha': 0.5} -> [0.2291749702497835, 0.2138239063752975, 0.23410544756269064]\n",
      " {'M': 5, 'train_size_alpha': 1.0} -> thread id = 25400logger {'M': 1, 'train_size_alpha': 0.5}, -> [0.2291749702497835, 0.2138239063752975, 0.23410544756269064]\n",
      "\n",
      "fit\n",
      "(5000, 2)\n",
      "{'M': 3, 'train_size_alpha': 0.5} , 0 -> 0.15501316312841512\n",
      " soft predict\n",
      "(100000, 2)\n",
      "{'M': 1, 'train_size_alpha': 0.7} , 2 -> 0.22283463200419018\n",
      "{'M': 1, 'train_size_alpha': 0.7} -> [0.19677829434556182, 0.23465847893755157, 0.22283463200419018]\n",
      " {'M': 7, 'train_size_alpha': 0.3} -> thread id = 24348logger {'M': 1, 'train_size_alpha': 0.7}, -> [0.19677829434556182, 0.23465847893755157, 0.22283463200419018]\n",
      "\n",
      "fit\n",
      "(5000, 2)\n",
      "{'M': 1, 'train_size_alpha': 1.0} , 2 -> 0.2061329336790418\n",
      "{'M': 1, 'train_size_alpha': 1.0} -> [0.2229014145638589, 0.1933416097905648, 0.2061329336790418]\n",
      " {'M': 7, 'train_size_alpha': 0.5} -> thread id = 26612logger {'M': 1, 'train_size_alpha': 1.0}, -> [0.2229014145638589, 0.1933416097905648, 0.2061329336790418]\n",
      "fit\n",
      "(5000, 2)\n",
      "\n",
      "{'M': 5, 'train_size_alpha': 0.3} , 0 -> 0.09902594148249327\n",
      " soft predict\n",
      "(100000, 2)\n",
      "{'M': 3, 'train_size_alpha': 1.0} , 0 -> 0.18757815656675947\n",
      "{'M': 3, 'train_size_alpha': 0.7} , 0 -> 0.19308646031233626\n",
      " soft predict\n",
      "(100000, 2)\n",
      " soft predict\n",
      "(100000, 2)\n",
      "{'M': 3, 'train_size_alpha': 0.3} , 1 -> 0.10812822621445646\n",
      " soft predict\n",
      "(100000, 2)\n",
      " soft predict\n",
      "(100000, 2)\n",
      " soft predict\n",
      "(100000, 2)\n",
      " soft predict\n",
      "(100000, 2)\n",
      "{'M': 3, 'train_size_alpha': 0.5} , 1 -> 0.2068305065839296\n",
      " soft predict\n",
      "(100000, 2)\n",
      "{'M': 5, 'train_size_alpha': 0.5} , 0 -> 0.1829161565843053\n",
      " soft predict\n",
      "(100000, 2)\n",
      "{'M': 3, 'train_size_alpha': 0.3} , 2 -> 0.11424949776700731\n",
      "{'M': 3, 'train_size_alpha': 0.3} -> [0.09975858963989764, 0.10812822621445646, 0.11424949776700731]\n",
      " {'M': 7, 'train_size_alpha': 0.7} -> thread id = 12732\n",
      "fitlogger {'M': 3, 'train_size_alpha': 0.3}, -> [0.09975858963989764, 0.10812822621445646, 0.11424949776700731]\n",
      "(5000, 2)\n",
      "\n",
      "{'M': 3, 'train_size_alpha': 0.7} , 1 -> 0.18483295096537167\n",
      " soft predict\n",
      "(100000, 2)\n",
      "{'M': 5, 'train_size_alpha': 0.3} , 1 -> 0.13175905629929593\n",
      " soft predict\n",
      "(100000, 2)\n",
      " soft predict\n",
      "(100000, 2)\n",
      "{'M': 3, 'train_size_alpha': 1.0} , 1 -> 0.17815500671003562\n",
      " soft predict\n",
      "(100000, 2)\n",
      "{'M': 3, 'train_size_alpha': 0.5} , 2 -> 0.19050357124882442\n",
      "{'M': 3, 'train_size_alpha': 0.5} -> [0.15501316312841512, 0.2068305065839296, 0.19050357124882442]\n",
      " {'M': 7, 'train_size_alpha': 1.0} -> thread id = 16960logger {'M': 3, 'train_size_alpha': 0.5}, -> [0.15501316312841512, 0.2068305065839296, 0.19050357124882442]\n",
      "\n",
      "fit\n",
      "(5000, 2)\n",
      "{'M': 3, 'train_size_alpha': 0.7} , 2 -> 0.21686397247567588\n",
      "{'M': 3, 'train_size_alpha': 0.7} -> [0.19308646031233626, 0.18483295096537167, 0.21686397247567588]\n",
      " {'M': 9, 'train_size_alpha': 0.3} -> thread id = 26608logger {'M': 3, 'train_size_alpha': 0.7}, -> [0.19308646031233626, 0.18483295096537167, 0.21686397247567588]\n",
      "fit\n",
      "\n",
      "(5000, 2)\n",
      "{'M': 5, 'train_size_alpha': 0.5} , 1 -> 0.13675382073554523\n",
      " soft predict\n",
      "(100000, 2)\n",
      "{'M': 5, 'train_size_alpha': 0.7} , 0 -> 0.2155569281085588\n",
      "{'M': 7, 'train_size_alpha': 0.3} , 0 -> 0.11612265100514142\n",
      " soft predict\n",
      "(100000, 2)\n",
      " soft predict\n",
      "(100000, 2)\n",
      "{'M': 3, 'train_size_alpha': 1.0} , 2 -> 0.2001686360902455\n",
      "{'M': 3, 'train_size_alpha': 1.0} -> [0.18757815656675947, 0.17815500671003562, 0.2001686360902455]\n",
      " {'M': 9, 'train_size_alpha': 0.5} -> thread id = 32688\n",
      "fit\n",
      "(5000, 2)\n",
      "logger {'M': 3, 'train_size_alpha': 1.0}, -> [0.18757815656675947, 0.17815500671003562, 0.2001686360902455]\n",
      "{'M': 5, 'train_size_alpha': 0.3} , 2 -> 0.1060177496990605\n",
      "{'M': 5, 'train_size_alpha': 0.3} -> [0.09902594148249327, 0.13175905629929593, 0.1060177496990605]\n",
      " {'M': 9, 'train_size_alpha': 0.7} -> thread id = 29228logger {'M': 5, 'train_size_alpha': 0.3}, -> [0.09902594148249327, 0.13175905629929593, 0.1060177496990605]\n",
      "\n",
      "fit\n",
      "(5000, 2)\n",
      "{'M': 5, 'train_size_alpha': 1.0} , 0 -> 0.15937607501372897\n",
      " soft predict\n",
      "(100000, 2)\n",
      " soft predict\n",
      "(100000, 2)\n",
      " soft predict\n",
      "(100000, 2)\n",
      " soft predict\n",
      "(100000, 2)\n",
      "{'M': 7, 'train_size_alpha': 0.5} , 0 -> 0.17232772269909477\n",
      " soft predict\n",
      "(100000, 2)\n",
      "{'M': 5, 'train_size_alpha': 0.5} , 2 -> 0.18076194824237624\n",
      "{'M': 5, 'train_size_alpha': 0.5} -> [0.1829161565843053, 0.13675382073554523, 0.18076194824237624]\n",
      " {'M': 9, 'train_size_alpha': 1.0} -> thread id = 19200logger {'M': 5, 'train_size_alpha': 0.5}, -> [0.1829161565843053, 0.13675382073554523, 0.18076194824237624]\n",
      "fit\n",
      "\n",
      "(5000, 2)\n",
      "{'M': 5, 'train_size_alpha': 0.7} , 1 -> 0.20264834110513003\n",
      " soft predict\n",
      "(100000, 2)\n",
      "{'M': 7, 'train_size_alpha': 0.3} , 1 -> 0.1451174920682789\n",
      " soft predict\n",
      "(100000, 2)\n",
      " soft predict\n",
      "(100000, 2)\n",
      "{'M': 5, 'train_size_alpha': 1.0} , 1 -> 0.13309208410590512\n",
      " soft predict\n",
      "(100000, 2)\n",
      " soft predict\n",
      "(100000, 2)\n",
      "{'M': 9, 'train_size_alpha': 0.3} , 0 -> 0.11304398590912017\n",
      " soft predict\n",
      "(100000, 2)\n",
      " soft predict\n",
      "(100000, 2)\n",
      "{'M': 7, 'train_size_alpha': 0.5} , 1 -> 0.1691815351275852\n",
      " soft predict\n",
      "(100000, 2)\n",
      "{'M': 7, 'train_size_alpha': 0.7} , 0 -> 0.1298149296376791\n",
      " soft predict\n",
      "(100000, 2)\n",
      "{'M': 5, 'train_size_alpha': 0.7} , 2 -> 0.16564465380219326\n",
      "{'M': 5, 'train_size_alpha': 0.7} -> [0.2155569281085588, 0.20264834110513003, 0.16564465380219326]\n",
      "logger {'M': 5, 'train_size_alpha': 0.7}, -> [0.2155569281085588, 0.20264834110513003, 0.16564465380219326]\n",
      "{'M': 7, 'train_size_alpha': 1.0} , 0 -> 0.1629551302650512\n",
      " soft predict\n",
      "(100000, 2)\n",
      "{'M': 7, 'train_size_alpha': 0.3} , 2 -> 0.131723481455133\n",
      "{'M': 7, 'train_size_alpha': 0.3} -> [0.11612265100514142, 0.1451174920682789, 0.131723481455133]\n",
      "logger {'M': 7, 'train_size_alpha': 0.3}, -> [0.11612265100514142, 0.1451174920682789, 0.131723481455133]\n",
      "{'M': 5, 'train_size_alpha': 1.0} , 2 -> 0.16110680453973084\n",
      "{'M': 5, 'train_size_alpha': 1.0} -> [0.15937607501372897, 0.13309208410590512, 0.16110680453973084]\n",
      "logger {'M': 5, 'train_size_alpha': 1.0}, -> [0.15937607501372897, 0.13309208410590512, 0.16110680453973084]\n",
      "{'M': 9, 'train_size_alpha': 0.5} , 0 -> 0.1561689517695987\n",
      " soft predict\n",
      "(100000, 2)\n",
      "{'M': 7, 'train_size_alpha': 0.5} , 2 -> 0.16680464017965413\n",
      "{'M': 7, 'train_size_alpha': 0.5} -> [0.17232772269909477, 0.1691815351275852, 0.16680464017965413]\n",
      "logger {'M': 7, 'train_size_alpha': 0.5}, -> [0.17232772269909477, 0.1691815351275852, 0.16680464017965413]\n"
     ]
    },
    {
     "name": "stdout",
     "output_type": "stream",
     "text": [
      "{'M': 9, 'train_size_alpha': 0.3} , 1 -> 0.1292361768076397\n",
      " soft predict\n",
      "(100000, 2)\n",
      "{'M': 7, 'train_size_alpha': 0.7} , 1 -> 0.18256480630292943\n",
      " soft predict\n",
      "(100000, 2)\n",
      "{'M': 9, 'train_size_alpha': 0.7} , 0 -> 0.1951043278971003\n",
      " soft predict\n",
      "(100000, 2)\n",
      "{'M': 7, 'train_size_alpha': 1.0} , 1 -> 0.15232353078032496\n",
      " soft predict\n",
      "(100000, 2)\n",
      "{'M': 9, 'train_size_alpha': 1.0} , 0 -> 0.1612979784450929\n",
      " soft predict\n",
      "(100000, 2)\n",
      "{'M': 9, 'train_size_alpha': 0.3} , 2 -> 0.09365253974234454\n",
      "{'M': 9, 'train_size_alpha': 0.3} -> [0.11304398590912017, 0.1292361768076397, 0.09365253974234454]\n",
      "logger {'M': 9, 'train_size_alpha': 0.3}, -> [0.11304398590912017, 0.1292361768076397, 0.09365253974234454]\n",
      "{'M': 9, 'train_size_alpha': 0.5} , 1 -> 0.17706418411744582\n",
      " soft predict\n",
      "(100000, 2)\n",
      "{'M': 7, 'train_size_alpha': 0.7} , 2 -> 0.1941994932296979\n",
      "{'M': 7, 'train_size_alpha': 0.7} -> [0.1298149296376791, 0.18256480630292943, 0.1941994932296979]\n",
      "logger {'M': 7, 'train_size_alpha': 0.7}, -> [0.1298149296376791, 0.18256480630292943, 0.1941994932296979]\n",
      "{'M': 7, 'train_size_alpha': 1.0} , 2 -> 0.19685896926564977\n",
      "{'M': 7, 'train_size_alpha': 1.0} -> [0.1629551302650512, 0.15232353078032496, 0.19685896926564977]\n",
      "logger {'M': 7, 'train_size_alpha': 1.0}, -> [0.1629551302650512, 0.15232353078032496, 0.19685896926564977]\n",
      "{'M': 9, 'train_size_alpha': 0.7} , 1 -> 0.19407189212862794\n",
      " soft predict\n",
      "(100000, 2)\n",
      "{'M': 9, 'train_size_alpha': 1.0} , 1 -> 0.13405769345093801\n",
      " soft predict\n",
      "(100000, 2)\n",
      "{'M': 9, 'train_size_alpha': 0.5} , 2 -> 0.16345453970532683\n",
      "{'M': 9, 'train_size_alpha': 0.5} -> [0.1561689517695987, 0.17706418411744582, 0.16345453970532683]\n",
      "logger {'M': 9, 'train_size_alpha': 0.5}, -> [0.1561689517695987, 0.17706418411744582, 0.16345453970532683]\n",
      "{'M': 9, 'train_size_alpha': 0.7} , 2 -> 0.1709439762220714\n",
      "{'M': 9, 'train_size_alpha': 0.7} -> [0.1951043278971003, 0.19407189212862794, 0.1709439762220714]\n",
      "logger {'M': 9, 'train_size_alpha': 0.7}, -> [0.1951043278971003, 0.19407189212862794, 0.1709439762220714]\n",
      "{'M': 9, 'train_size_alpha': 1.0} , 2 -> 0.14890609569936228\n",
      "{'M': 9, 'train_size_alpha': 1.0} -> [0.1612979784450929, 0.13405769345093801, 0.14890609569936228]\n",
      "logger {'M': 9, 'train_size_alpha': 1.0}, -> [0.1612979784450929, 0.13405769345093801, 0.14890609569936228]\n"
     ]
    }
   ],
   "source": [
    "from multiprocessing import  cpu_count,current_process\n",
    "from multiprocessing.pool import ThreadPool\n",
    "import functools\n",
    "import threading\n",
    "\n",
    "from aggregating.gridsearch import create_logger, evaluate_model\n",
    "from aggregating.utils import flatten_X\n",
    "\n",
    "# GRIDSEARCH PARAMS\n",
    "model = SoftBagger(0,0,GaussianProcessRegressor(kernel,copy_X_train=False))\n",
    "trials = 3\n",
    "M_grid = [1,3,5,7,9]\n",
    "alpha_grid = [0.3,0.5,0.7,1.0]\n",
    "results = []\n",
    "\n",
    "### ACTUAL GRIDSEARCH\n",
    "pool = ThreadPool(10) #avoid allocation issues\n",
    "for m in M_grid:\n",
    "    for alpha in alpha_grid:\n",
    "        hyperparams= {'M':m, 'train_size_alpha':alpha}\n",
    "        pool.apply_async(evaluate_model, args=(model,hyperparams,flatten_X(X_train),y_train,1, [1/12,11/12],trials,N_test,MaxCallStochasticModel),callback = create_logger(hyperparams,results))\n",
    "pool.close()\n",
    "pool.join()\n",
    "\n"
   ]
  },
  {
   "cell_type": "code",
   "execution_count": 65,
   "metadata": {
    "ExecuteTime": {
     "end_time": "2020-12-09T21:01:51.501945Z",
     "start_time": "2020-12-09T21:01:51.477983Z"
    }
   },
   "outputs": [
    {
     "name": "stdout",
     "output_type": "stream",
     "text": [
      "[1, 0.3, [0.1525564999284104, 0.1425420466028954, 0.14204151581790173]]\n",
      "[1, 0.5, [0.2291749702497835, 0.2138239063752975, 0.23410544756269064]]\n",
      "[1, 0.7, [0.19677829434556182, 0.23465847893755157, 0.22283463200419018]]\n",
      "[1, 1.0, [0.2229014145638589, 0.1933416097905648, 0.2061329336790418]]\n",
      "[3, 0.3, [0.09975858963989764, 0.10812822621445646, 0.11424949776700731]]\n",
      "[3, 0.5, [0.15501316312841512, 0.2068305065839296, 0.19050357124882442]]\n",
      "[3, 0.7, [0.19308646031233626, 0.18483295096537167, 0.21686397247567588]]\n",
      "[3, 1.0, [0.18757815656675947, 0.17815500671003562, 0.2001686360902455]]\n",
      "[5, 0.3, [0.09902594148249327, 0.13175905629929593, 0.1060177496990605]]\n",
      "[5, 0.5, [0.1829161565843053, 0.13675382073554523, 0.18076194824237624]]\n",
      "[5, 0.7, [0.2155569281085588, 0.20264834110513003, 0.16564465380219326]]\n",
      "[7, 0.3, [0.11612265100514142, 0.1451174920682789, 0.131723481455133]]\n",
      "[5, 1.0, [0.15937607501372897, 0.13309208410590512, 0.16110680453973084]]\n",
      "[7, 0.5, [0.17232772269909477, 0.1691815351275852, 0.16680464017965413]]\n",
      "[9, 0.3, [0.11304398590912017, 0.1292361768076397, 0.09365253974234454]]\n",
      "[7, 0.7, [0.1298149296376791, 0.18256480630292943, 0.1941994932296979]]\n",
      "[7, 1.0, [0.1629551302650512, 0.15232353078032496, 0.19685896926564977]]\n",
      "[9, 0.5, [0.1561689517695987, 0.17706418411744582, 0.16345453970532683]]\n",
      "[9, 0.7, [0.1951043278971003, 0.19407189212862794, 0.1709439762220714]]\n",
      "[9, 1.0, [0.1612979784450929, 0.13405769345093801, 0.14890609569936228]]\n",
      "(5, 4, 3)\n",
      "[[[0.1525565  0.14254205 0.14204152]\n",
      "  [0.22917497 0.21382391 0.23410545]\n",
      "  [0.19677829 0.23465848 0.22283463]\n",
      "  [0.22290141 0.19334161 0.20613293]]\n",
      "\n",
      " [[0.09975859 0.10812823 0.1142495 ]\n",
      "  [0.15501316 0.20683051 0.19050357]\n",
      "  [0.19308646 0.18483295 0.21686397]\n",
      "  [0.18757816 0.17815501 0.20016864]]\n",
      "\n",
      " [[0.09902594 0.13175906 0.10601775]\n",
      "  [0.18291616 0.13675382 0.18076195]\n",
      "  [0.21555693 0.20264834 0.16564465]\n",
      "  [0.15937608 0.13309208 0.1611068 ]]\n",
      "\n",
      " [[0.11612265 0.14511749 0.13172348]\n",
      "  [0.17232772 0.16918154 0.16680464]\n",
      "  [0.12981493 0.18256481 0.19419949]\n",
      "  [0.16295513 0.15232353 0.19685897]]\n",
      "\n",
      " [[0.11304399 0.12923618 0.09365254]\n",
      "  [0.15616895 0.17706418 0.16345454]\n",
      "  [0.19510433 0.19407189 0.17094398]\n",
      "  [0.16129798 0.13405769 0.1489061 ]]]\n"
     ]
    }
   ],
   "source": [
    "converted_results = np.ones((len(M_grid),len(alpha_grid),trials))*(-1)\n",
    "for item in results:\n",
    "    print(item)\n",
    "    converted_results[M_grid.index(item[0]),alpha_grid.index(item[1])] = item[2]\n",
    "\n",
    "print(converted_results.shape)\n",
    "print(converted_results)"
   ]
  },
  {
   "cell_type": "code",
   "execution_count": 66,
   "metadata": {
    "ExecuteTime": {
     "end_time": "2020-12-09T21:01:51.535827Z",
     "start_time": "2020-12-09T21:01:51.504910Z"
    }
   },
   "outputs": [
    {
     "data": {
      "text/plain": [
       "(5, 4)"
      ]
     },
     "execution_count": 66,
     "metadata": {},
     "output_type": "execute_result"
    }
   ],
   "source": [
    "masked_results= np.ma.masked_where(converted_results <= 0.0,converted_results) # some runs have been aborted every now and then -> filter them out\n",
    "means = masked_results.mean(axis=2)\n",
    "sigmas = masked_results.std(axis=2)\n",
    "means.shape"
   ]
  },
  {
   "cell_type": "code",
   "execution_count": 67,
   "metadata": {
    "ExecuteTime": {
     "end_time": "2020-12-09T21:01:52.037485Z",
     "start_time": "2020-12-09T21:01:51.537855Z"
    }
   },
   "outputs": [
    {
     "data": {
      "image/png": "[encoded data removed]",
      "text/plain": [
       "<Figure size 432x288 with 1 Axes>"
      ]
     },
     "metadata": {
      "needs_background": "light"
     },
     "output_type": "display_data"
    }
   ],
   "source": [
    "plt.hlines(reference_error_mean,xmin=M_grid[0],xmax=M_grid[-1],linestyles='dashed',label=\"reference error\")\n",
    "for i in range(len(alpha_grid)):\n",
    "    plt.errorbar(np.array(M_grid),means[:,i],sigmas[:,i],marker ='o',label = f\"alpha = {alpha_grid[i]}\")\n",
    "plt.title(f\"Soft Bagging Normalized error: N_train = {N_train}, d= {d}, N_test= {N_test}\")\n",
    "plt.xlabel(\"M\")\n",
    "plt.xticks(M_grid)\n",
    "plt.ylabel(\"normalized error\")\n",
    "plt.legend(loc='upper right')\n",
    "plt.show()"
   ]
  },
  {
   "cell_type": "markdown",
   "metadata": {},
   "source": [
    "\n"
   ]
  },
  {
   "cell_type": "markdown",
   "metadata": {
    "ExecuteTime": {
     "end_time": "2020-11-15T17:54:08.608678Z",
     "start_time": "2020-11-15T17:54:08.603664Z"
    }
   },
   "source": [
    "## Store results"
   ]
  },
  {
   "cell_type": "code",
   "execution_count": 17,
   "metadata": {
    "ExecuteTime": {
     "end_time": "2020-11-20T17:01:11.071807Z",
     "start_time": "2020-11-20T17:01:11.066821Z"
    }
   },
   "outputs": [],
   "source": [
    "res_dict = {'N_train': N_train, 'N_test': N_test,'mgrid': M_grid, 'alpha_grid': alpha_grid, 'errors': converted_results.tolist()}"
   ]
  },
  {
   "cell_type": "code",
   "execution_count": 18,
   "metadata": {
    "ExecuteTime": {
     "end_time": "2020-11-20T17:01:11.081780Z",
     "start_time": "2020-11-20T17:01:11.072805Z"
    }
   },
   "outputs": [],
   "source": [
    "import json\n",
    "import datetime\n",
    "with open(f'soft_bagging_w_replacement_{str(datetime.date.today())}.json', 'w') as fp:\n",
    "    json.dump(res_dict, fp)"
   ]
  },
  {
   "cell_type": "code",
   "execution_count": null,
   "metadata": {},
   "outputs": [],
   "source": []
  }
 ],
 "metadata": {
  "kernelspec": {
   "display_name": "Python 3",
   "language": "python",
   "name": "python3"
  },
  "language_info": {
   "codemirror_mode": {
    "name": "ipython",
    "version": 3
   },
   "file_extension": ".py",
   "mimetype": "text/x-python",
   "name": "python",
   "nbconvert_exporter": "python",
   "pygments_lexer": "ipython3",
   "version": "3.7.5"
  },
  "toc": {
   "base_numbering": 1,
   "nav_menu": {},
   "number_sections": true,
   "sideBar": true,
   "skip_h1_title": false,
   "title_cell": "Table of Contents",
   "title_sidebar": "Contents",
   "toc_cell": false,
   "toc_position": {},
   "toc_section_display": true,
   "toc_window_display": false
  }
 },
 "nbformat": 4,
 "nbformat_minor": 2
}
