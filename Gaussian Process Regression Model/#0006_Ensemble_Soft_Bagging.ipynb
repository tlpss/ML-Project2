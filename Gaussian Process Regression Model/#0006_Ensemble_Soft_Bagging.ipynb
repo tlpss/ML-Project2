{
 "cells": [
  {
   "cell_type": "markdown",
   "metadata": {},
   "source": [
    "# Ensemble Learning through Soft Bagging \n",
    "\n",
    "**bagging == Bootstrapping Aggregation** \n",
    "\n",
    "$\\implies$  hyperparam = {M = #learners, alpha = # relative trainset size}\n"
   ]
  },
  {
   "cell_type": "code",
   "execution_count": 1,
   "metadata": {
    "ExecuteTime": {
     "end_time": "2020-11-20T11:34:34.713083Z",
     "start_time": "2020-11-20T11:34:33.826991Z"
    }
   },
   "outputs": [],
   "source": [
    "import numpy as np\n",
    "import random\n",
    "import matplotlib.pyplot as plt\n",
    "from sklearn.gaussian_process import GaussianProcessRegressor\n",
    "from sklearn.gaussian_process.kernels import RBF, WhiteKernel\n",
    "\n",
    "# add project root folder to path to allow import local modules\n",
    "import os\n",
    "import sys\n",
    "module_path = os.path.abspath(os.path.join('..'))\n",
    "if module_path not in sys.path:\n",
    "    sys.path.append(module_path)\n",
    "# import local modules\n",
    "from stochastic_models import *\n",
    "from visualisations import *\n",
    "from basic_estimator_model import *"
   ]
  },
  {
   "cell_type": "markdown",
   "metadata": {
    "ExecuteTime": {
     "end_time": "2020-11-14T11:40:28.368547Z",
     "start_time": "2020-11-14T11:40:28.365554Z"
    }
   },
   "source": [
    "## Parameter Configuration"
   ]
  },
  {
   "cell_type": "code",
   "execution_count": 2,
   "metadata": {
    "ExecuteTime": {
     "end_time": "2020-11-20T11:34:34.718036Z",
     "start_time": "2020-11-20T11:34:34.714081Z"
    }
   },
   "outputs": [],
   "source": [
    "np.random.seed(2020)"
   ]
  },
  {
   "cell_type": "code",
   "execution_count": 3,
   "metadata": {
    "ExecuteTime": {
     "end_time": "2020-11-20T11:34:34.724020Z",
     "start_time": "2020-11-20T11:34:34.720031Z"
    }
   },
   "outputs": [],
   "source": [
    "N_train = 2000\n",
    "N_test = 50000\n",
    "d = 1\n",
    "T = 2"
   ]
  },
  {
   "cell_type": "code",
   "execution_count": 4,
   "metadata": {
    "ExecuteTime": {
     "end_time": "2020-11-20T11:34:34.732001Z",
     "start_time": "2020-11-20T11:34:34.726016Z"
    }
   },
   "outputs": [],
   "source": [
    "lambda_range = (N_train*1e-9 , N_train*1e-3)\n",
    "alpha_range = (8.3*1e-5, 0.83)\n",
    "length_scale = np.sort(1/np.sqrt((2*alpha_range[0], 2*alpha_range[1])))"
   ]
  },
  {
   "cell_type": "markdown",
   "metadata": {
    "ExecuteTime": {
     "end_time": "2020-11-14T11:40:29.811046Z",
     "start_time": "2020-11-14T11:40:29.808054Z"
    }
   },
   "source": [
    "## Create Kernel & prepare datasets"
   ]
  },
  {
   "cell_type": "code",
   "execution_count": 5,
   "metadata": {
    "ExecuteTime": {
     "end_time": "2020-11-20T11:34:34.738017Z",
     "start_time": "2020-11-20T11:34:34.732997Z"
    }
   },
   "outputs": [],
   "source": [
    "#kernel\n",
    "kernel = RBF(length_scale= (length_scale[0] + length_scale[1])/2, length_scale_bounds=length_scale) \\\n",
    "        + WhiteKernel(noise_level= (lambda_range[0] + lambda_range[1])/2 , noise_level_bounds=lambda_range)\n"
   ]
  },
  {
   "cell_type": "code",
   "execution_count": 6,
   "metadata": {
    "ExecuteTime": {
     "end_time": "2020-11-20T11:34:34.750947Z",
     "start_time": "2020-11-20T11:34:34.739977Z"
    }
   },
   "outputs": [],
   "source": [
    "#generate drivers\n",
    "s_train = MaxCallStochasticModel(N_train,d,[1/12,11/12])\n",
    "s_train.generate_samples()\n",
    "s_test = MaxCallStochasticModel(N_test, d, [1/12,11/12])\n",
    "s_test.generate_samples()"
   ]
  },
  {
   "cell_type": "code",
   "execution_count": 7,
   "metadata": {
    "ExecuteTime": {
     "end_time": "2020-11-20T11:34:34.759957Z",
     "start_time": "2020-11-20T11:34:34.751945Z"
    }
   },
   "outputs": [
    {
     "data": {
      "text/plain": [
       "0.07954044595186821"
      ]
     },
     "execution_count": 7,
     "metadata": {},
     "output_type": "execute_result"
    }
   ],
   "source": [
    "#prepare datasets & values\n",
    "y_train = s_train.y\n",
    "X_train = s_train.X\n",
    "S_train = s_train.S\n",
    "\n",
    "y_test = s_test.y\n",
    "X_test = s_test.X\n",
    "S_test = s_test.S\n",
    "\n",
    "V_T = y_test  \n",
    "V_0 = s_test.generate_true_V(0)\n",
    "\n",
    "V_0= V_0.mean()\n",
    "V_0 # Average expected PROFIT!"
   ]
  },
  {
   "cell_type": "code",
   "execution_count": 8,
   "metadata": {
    "ExecuteTime": {
     "end_time": "2020-11-20T11:34:34.766905Z",
     "start_time": "2020-11-20T11:34:34.761919Z"
    }
   },
   "outputs": [
    {
     "data": {
      "text/plain": [
       "(50000, 1, 2)"
      ]
     },
     "execution_count": 8,
     "metadata": {},
     "output_type": "execute_result"
    }
   ],
   "source": [
    "X_test.shape"
   ]
  },
  {
   "cell_type": "markdown",
   "metadata": {
    "ExecuteTime": {
     "end_time": "2020-11-14T11:40:33.048462Z",
     "start_time": "2020-11-14T11:40:33.045471Z"
    }
   },
   "source": [
    "## Compare with Hard voting"
   ]
  },
  {
   "cell_type": "code",
   "execution_count": 9,
   "metadata": {
    "ExecuteTime": {
     "end_time": "2020-11-20T11:34:55.902426Z",
     "start_time": "2020-11-20T11:34:34.767903Z"
    }
   },
   "outputs": [
    {
     "name": "stdout",
     "output_type": "stream",
     "text": [
      "fit\n",
      "(2000, 2)\n",
      "fit\n",
      "(2000, 2)\n"
     ]
    }
   ],
   "source": [
    "from aggregating.models import SoftBagger, SimpleBagger\n",
    "from aggregating.utils import flatten_X\n",
    "soft = SoftBagger(2,0.7,GaussianProcessRegressor(kernel,copy_X_train=False))\n",
    "hard = SimpleBagger(2,0.7,GaussianProcessRegressor(kernel,copy_X_train=False))\n",
    "soft.fit(flatten_X(X_train),y_train)\n",
    "hard.fit(flatten_X(X_train),y_train)"
   ]
  },
  {
   "cell_type": "code",
   "execution_count": 10,
   "metadata": {
    "ExecuteTime": {
     "end_time": "2020-11-20T11:35:06.648854Z",
     "start_time": "2020-11-20T11:34:55.903419Z"
    }
   },
   "outputs": [
    {
     "name": "stdout",
     "output_type": "stream",
     "text": [
      " soft predict\n",
      "(50000, 2)\n",
      "0.17749598441504108\n",
      "predict\n",
      "(50000, 2)\n",
      "0.21554643110808067\n"
     ]
    }
   ],
   "source": [
    "from aggregating.utils import normalized_error_VT\n",
    "print(normalized_error_VT(y_test, soft.predict(flatten_X(X_test)), V_0))\n",
    "print(normalized_error_VT(y_test, hard.predict(flatten_X(X_test)), V_0))"
   ]
  },
  {
   "cell_type": "markdown",
   "metadata": {},
   "source": [
    "## GridSearch\n",
    "\n",
    "nB: cannot use Scikit gridsearch as it performs CV and we want to have a different test set of a larger size!"
   ]
  },
  {
   "cell_type": "code",
   "execution_count": null,
   "metadata": {
    "ExecuteTime": {
     "end_time": "2020-11-15T17:27:39.347302Z",
     "start_time": "2020-11-15T17:27:39.344239Z"
    }
   },
   "outputs": [],
   "source": []
  },
  {
   "cell_type": "code",
   "execution_count": 11,
   "metadata": {
    "ExecuteTime": {
     "end_time": "2020-11-20T11:45:01.827047Z",
     "start_time": "2020-11-20T11:35:06.649851Z"
    }
   },
   "outputs": [
    {
     "name": "stdout",
     "output_type": "stream",
     "text": [
      " {'M': 1, 'train_size_alpha': 0.5} -> thread id = 19836\n",
      "fit\n",
      "(2000, 2)\n",
      " {'M': 1, 'train_size_alpha': 0.7} -> thread id = 37664\n",
      "fit\n",
      "(2000, 2)\n",
      " {'M': 1, 'train_size_alpha': 0.9} -> thread id = 25264\n",
      "fit\n",
      "(2000, 2)\n",
      " {'M': 1, 'train_size_alpha': 1.0} -> thread id = 36456\n",
      "fit\n",
      "(2000, 2)\n",
      " soft predict\n",
      "(50000, 2)\n",
      " soft predict\n",
      "(50000, 2)\n",
      " soft predict\n",
      "(50000, 2)\n",
      " soft predict\n",
      "(50000, 2)\n",
      "{'M': 1, 'train_size_alpha': 0.5} , 0 -> 0.21444231103861738\n",
      " soft predict\n",
      "(50000, 2)\n",
      "{'M': 1, 'train_size_alpha': 0.7} , 0 -> 0.2913408145527774\n",
      " soft predict\n",
      "(50000, 2)\n",
      "{'M': 1, 'train_size_alpha': 0.9} , 0 -> 0.2712055707007414\n",
      " soft predict\n",
      "(50000, 2)\n",
      "{'M': 1, 'train_size_alpha': 1.0} , 0 -> 0.191701446010262\n",
      "{'M': 1, 'train_size_alpha': 0.5} , 1 -> 0.21443570811514623\n",
      " soft predict\n",
      "(50000, 2)\n",
      " soft predict\n",
      "(50000, 2)\n",
      "{'M': 1, 'train_size_alpha': 0.7} , 1 -> 0.28794117201729535\n",
      " soft predict\n",
      "(50000, 2)\n",
      "{'M': 1, 'train_size_alpha': 0.9} , 1 -> 0.2528797760437774{'M': 1, 'train_size_alpha': 0.5} , 2 -> 0.20568338494493957\n",
      "\n",
      "{'M': 1, 'train_size_alpha': 0.7} , 2 -> 0.29280886413139173\n",
      " soft predict\n",
      "(50000, 2)\n",
      " soft predict\n",
      "(50000, 2)\n",
      " soft predict\n",
      "(50000, 2)\n",
      "{'M': 1, 'train_size_alpha': 1.0} , 1 -> 0.19848144803053686\n",
      " soft predict\n",
      "(50000, 2)\n",
      "{'M': 1, 'train_size_alpha': 0.5} , 3 -> 0.18748275609177525\n",
      "{'M': 1, 'train_size_alpha': 0.5} -> [0.21444231103861738, 0.21443570811514623, 0.20568338494493957, 0.18748275609177525]\n",
      " {'M': 2, 'train_size_alpha': 0.5} -> thread id = 19836\n",
      "fit\n",
      "(2000, 2)\n",
      "logger {'M': 1, 'train_size_alpha': 0.5}, -> [0.21444231103861738, 0.21443570811514623, 0.20568338494493957, 0.18748275609177525]\n",
      "{'M': 1, 'train_size_alpha': 0.7} , 3 -> 0.27844648190479343\n",
      "{'M': 1, 'train_size_alpha': 0.7} -> [0.2913408145527774, 0.28794117201729535, 0.29280886413139173, 0.27844648190479343]\n",
      " {'M': 2, 'train_size_alpha': 0.7} -> thread id = 37664logger {'M': 1, 'train_size_alpha': 0.7}, -> [0.2913408145527774, 0.28794117201729535, 0.29280886413139173, 0.27844648190479343]\n",
      "\n",
      "fit\n",
      "(2000, 2)\n",
      "{'M': 1, 'train_size_alpha': 0.9} , 2 -> 0.27111041703970623\n",
      "{'M': 1, 'train_size_alpha': 1.0} , 2 -> 0.22071126231379326\n",
      " soft predict\n",
      "(50000, 2)\n",
      " soft predict\n",
      "(50000, 2)\n",
      "{'M': 1, 'train_size_alpha': 0.9} , 3 -> 0.2541520577942254\n",
      "{'M': 1, 'train_size_alpha': 0.9} -> [0.2712055707007414, 0.2528797760437774, 0.27111041703970623, 0.2541520577942254]\n",
      " {'M': 2, 'train_size_alpha': 0.9} -> thread id = 25264logger {'M': 1, 'train_size_alpha': 0.9}, -> [0.2712055707007414, 0.2528797760437774, 0.27111041703970623, 0.2541520577942254]\n",
      "\n",
      "fit\n",
      "(2000, 2)\n",
      "{'M': 1, 'train_size_alpha': 1.0} , 3 -> 0.19148702920780536\n",
      "{'M': 1, 'train_size_alpha': 1.0} -> [0.191701446010262, 0.19848144803053686, 0.22071126231379326, 0.19148702920780536]\n",
      " {'M': 2, 'train_size_alpha': 1.0} -> thread id = 36456logger {'M': 1, 'train_size_alpha': 1.0}, -> [0.191701446010262, 0.19848144803053686, 0.22071126231379326, 0.19148702920780536]\n",
      "\n",
      "fit\n",
      "(2000, 2)\n",
      " soft predict\n",
      "(50000, 2)\n",
      "{'M': 2, 'train_size_alpha': 0.5} , 0 -> 0.20647103702335437\n",
      " soft predict\n",
      "(50000, 2)\n",
      " soft predict\n",
      "(50000, 2)\n",
      "{'M': 2, 'train_size_alpha': 0.5} , 1 -> 0.21262290032789516\n",
      " soft predict\n",
      "(50000, 2)\n",
      " soft predict\n",
      "(50000, 2)\n",
      "{'M': 2, 'train_size_alpha': 0.7} , 0 -> 0.17737937119723746\n",
      "{'M': 2, 'train_size_alpha': 0.5} , 2 -> 0.21909544023198993\n",
      " soft predict\n",
      "(50000, 2)\n",
      " soft predict\n",
      "(50000, 2)\n",
      "{'M': 2, 'train_size_alpha': 0.9} , 0 -> 0.1883035311970486\n",
      "{'M': 2, 'train_size_alpha': 0.5} , 3 -> 0.20136175813319232\n",
      "{'M': 2, 'train_size_alpha': 0.5} -> [0.20647103702335437, 0.21262290032789516, 0.21909544023198993, 0.20136175813319232]\n",
      " {'M': 3, 'train_size_alpha': 0.5} -> thread id = 19836\n",
      "fitlogger {'M': 2, 'train_size_alpha': 0.5}, -> [0.20647103702335437, 0.21262290032789516, 0.21909544023198993, 0.20136175813319232]\n",
      "(2000, 2)\n",
      "\n",
      " soft predict\n",
      "(50000, 2)\n",
      "{'M': 2, 'train_size_alpha': 0.7} , 1 -> 0.19228226703921214\n",
      " soft predict\n",
      "(50000, 2)\n",
      " soft predict\n",
      "(50000, 2)\n",
      "{'M': 2, 'train_size_alpha': 0.7} , 2 -> 0.15973494327048454\n",
      " soft predict\n",
      "(50000, 2)\n",
      "{'M': 2, 'train_size_alpha': 0.9} , 1 -> 0.20657681913147208\n",
      " soft predict\n",
      "(50000, 2)\n",
      " soft predict\n",
      "(50000, 2)\n",
      "{'M': 2, 'train_size_alpha': 0.7} , 3 -> 0.15288325582906795\n",
      "{'M': 2, 'train_size_alpha': 0.7} -> [0.17737937119723746, 0.19228226703921214, 0.15973494327048454, 0.15288325582906795]\n",
      " {'M': 3, 'train_size_alpha': 0.7} -> thread id = 37664logger {'M': 2, 'train_size_alpha': 0.7}, -> [0.17737937119723746, 0.19228226703921214, 0.15973494327048454, 0.15288325582906795]\n",
      "\n",
      "fit\n",
      "(2000, 2)\n",
      "{'M': 2, 'train_size_alpha': 1.0} , 0 -> 0.12384542017469018\n",
      "{'M': 3, 'train_size_alpha': 0.5} , 0 -> 0.19335853967363867\n",
      "{'M': 2, 'train_size_alpha': 0.9} , 2 -> 0.2323409498069565\n",
      " soft predict\n",
      "(50000, 2)\n",
      " soft predict\n",
      "(50000, 2)\n",
      " soft predict\n",
      "(50000, 2)\n",
      "{'M': 3, 'train_size_alpha': 0.5} , 1 -> 0.22327802878464367\n",
      " soft predict\n",
      "(50000, 2)\n",
      "{'M': 2, 'train_size_alpha': 1.0} , 1 -> 0.16053570974248102{'M': 2, 'train_size_alpha': 0.9} , 3 -> 0.19627432788957674\n",
      "{'M': 2, 'train_size_alpha': 0.9} -> [0.1883035311970486, 0.20657681913147208, 0.2323409498069565, 0.19627432788957674]\n",
      "\n",
      " {'M': 3, 'train_size_alpha': 0.9} -> thread id = 25264\n",
      "fitlogger {'M': 2, 'train_size_alpha': 0.9}, -> [0.1883035311970486, 0.20657681913147208, 0.2323409498069565, 0.19627432788957674]\n",
      "\n",
      "(2000, 2)\n",
      " soft predict\n",
      "(50000, 2)\n",
      "{'M': 3, 'train_size_alpha': 0.5} , 2 -> 0.1996358338251176\n",
      " soft predict\n",
      "(50000, 2)\n",
      " soft predict\n",
      "(50000, 2)\n",
      "{'M': 2, 'train_size_alpha': 1.0} , 2 -> 0.1376668041326575\n",
      " soft predict\n",
      "(50000, 2)\n",
      "{'M': 3, 'train_size_alpha': 0.5} , 3 -> 0.18920371993027743\n",
      "{'M': 3, 'train_size_alpha': 0.5} -> [0.19335853967363867, 0.22327802878464367, 0.1996358338251176, 0.18920371993027743]\n",
      " {'M': 3, 'train_size_alpha': 1.0} -> thread id = 19836\n",
      "fit\n",
      "(2000, 2)\n",
      "logger {'M': 3, 'train_size_alpha': 0.5}, -> [0.19335853967363867, 0.22327802878464367, 0.1996358338251176, 0.18920371993027743]\n",
      "{'M': 2, 'train_size_alpha': 1.0} , 3 -> 0.15926943422038767\n",
      "{'M': 2, 'train_size_alpha': 1.0} -> [0.12384542017469018, 0.16053570974248102, 0.1376668041326575, 0.15926943422038767]\n",
      " {'M': 4, 'train_size_alpha': 0.5} -> thread id = 36456logger {'M': 2, 'train_size_alpha': 1.0}, -> [0.12384542017469018, 0.16053570974248102, 0.1376668041326575, 0.15926943422038767]\n",
      "\n",
      "fit\n",
      "(2000, 2)\n",
      "{'M': 3, 'train_size_alpha': 0.7} , 0 -> 0.21815300832120207\n",
      " soft predict\n",
      "(50000, 2)\n",
      " soft predict\n",
      "(50000, 2)\n",
      "{'M': 3, 'train_size_alpha': 0.7} , 1 -> 0.2158305796506924\n",
      " soft predict\n",
      "(50000, 2)\n",
      "{'M': 3, 'train_size_alpha': 0.9} , 0 -> 0.18796744602527454\n",
      " soft predict\n",
      "(50000, 2)\n",
      " soft predict\n",
      "(50000, 2)\n",
      "{'M': 3, 'train_size_alpha': 0.7} , 2 -> 0.2191150611215789\n",
      " soft predict\n",
      "(50000, 2)\n",
      "{'M': 4, 'train_size_alpha': 0.5} , 0 -> 0.26444266510493475\n",
      " soft predict\n",
      "(50000, 2)\n",
      "{'M': 3, 'train_size_alpha': 0.9} , 1 -> 0.19611437146769314\n",
      " soft predict\n",
      "(50000, 2)\n",
      " soft predict\n",
      "(50000, 2)\n",
      "{'M': 3, 'train_size_alpha': 0.7} , 3 -> 0.21889670483843227\n",
      "{'M': 3, 'train_size_alpha': 0.7} -> [0.21815300832120207, 0.2158305796506924, 0.2191150611215789, 0.21889670483843227]\n",
      " {'M': 4, 'train_size_alpha': 0.7} -> thread id = 37664\n",
      "fitlogger {'M': 3, 'train_size_alpha': 0.7}, -> [0.21815300832120207, 0.2158305796506924, 0.2191150611215789, 0.21889670483843227]\n",
      "(2000, 2)\n",
      "\n",
      "{'M': 4, 'train_size_alpha': 0.5} , 1 -> 0.28007307089657746\n",
      " soft predict\n",
      "(50000, 2)\n",
      "{'M': 3, 'train_size_alpha': 0.9} , 2 -> 0.17836127998254223\n",
      " soft predict\n",
      "(50000, 2)\n",
      "{'M': 3, 'train_size_alpha': 1.0} , 0 -> 0.17378772671745915\n",
      " soft predict\n",
      "(50000, 2)\n",
      "{'M': 4, 'train_size_alpha': 0.5} , 2 -> 0.2638645581357893\n",
      " soft predict\n",
      "(50000, 2)\n",
      "{'M': 3, 'train_size_alpha': 0.9} , 3 -> 0.1875801405501927\n",
      "{'M': 3, 'train_size_alpha': 0.9} -> [0.18796744602527454, 0.19611437146769314, 0.17836127998254223, 0.1875801405501927]\n",
      " {'M': 4, 'train_size_alpha': 0.9} -> thread id = 25264logger {'M': 3, 'train_size_alpha': 0.9}, -> [0.18796744602527454, 0.19611437146769314, 0.17836127998254223, 0.1875801405501927]\n",
      "\n",
      "fit\n",
      "(2000, 2)\n",
      "{'M': 3, 'train_size_alpha': 1.0} , 1 -> 0.17311681096314924\n",
      " soft predict\n",
      "(50000, 2)\n",
      "{'M': 4, 'train_size_alpha': 0.5} , 3 -> 0.29081107851035287\n",
      "{'M': 4, 'train_size_alpha': 0.5} -> [0.26444266510493475, 0.28007307089657746, 0.2638645581357893, 0.29081107851035287]\n",
      " {'M': 4, 'train_size_alpha': 1.0} -> thread id = 36456\n",
      "logger {'M': 4, 'train_size_alpha': 0.5}, -> [0.26444266510493475, 0.28007307089657746, 0.2638645581357893, 0.29081107851035287]\n",
      "fit\n",
      "(2000, 2)\n"
     ]
    },
    {
     "name": "stdout",
     "output_type": "stream",
     "text": [
      " soft predict\n",
      "(50000, 2)\n",
      "{'M': 3, 'train_size_alpha': 1.0} , 2 -> 0.12920934114524163\n",
      " soft predict\n",
      "(50000, 2)\n",
      "{'M': 4, 'train_size_alpha': 0.7} , 0 -> 0.23624557606597169\n",
      " soft predict\n",
      "(50000, 2)\n",
      "{'M': 3, 'train_size_alpha': 1.0} , 3 -> 0.14297784611980835\n",
      "{'M': 3, 'train_size_alpha': 1.0} -> [0.17378772671745915, 0.17311681096314924, 0.12920934114524163, 0.14297784611980835]\n",
      "logger {'M': 3, 'train_size_alpha': 1.0}, -> [0.17378772671745915, 0.17311681096314924, 0.12920934114524163, 0.14297784611980835]\n",
      " soft predict\n",
      "(50000, 2)\n",
      "{'M': 4, 'train_size_alpha': 0.7} , 1 -> 0.25683077767513984\n",
      " soft predict\n",
      "(50000, 2)\n",
      "{'M': 4, 'train_size_alpha': 0.7} , 2 -> 0.2223326141517127{'M': 4, 'train_size_alpha': 0.9} , 0 -> 0.22716429639125094\n",
      "\n",
      " soft predict\n",
      "(50000, 2)\n",
      " soft predict\n",
      "(50000, 2)\n",
      "{'M': 4, 'train_size_alpha': 0.7} , 3 -> 0.27688864167524924\n",
      "{'M': 4, 'train_size_alpha': 0.7} -> [0.23624557606597169, 0.25683077767513984, 0.2223326141517127, 0.27688864167524924]\n",
      "logger {'M': 4, 'train_size_alpha': 0.7}, -> [0.23624557606597169, 0.25683077767513984, 0.2223326141517127, 0.27688864167524924]\n",
      "{'M': 4, 'train_size_alpha': 0.9} , 1 -> 0.2509137945497039\n",
      " soft predict\n",
      "(50000, 2)\n",
      " soft predict\n",
      "(50000, 2)\n",
      "{'M': 4, 'train_size_alpha': 0.9} , 2 -> 0.2138445411897939\n",
      " soft predict\n",
      "(50000, 2)\n",
      "{'M': 4, 'train_size_alpha': 1.0} , 0 -> 0.2727922414470252\n",
      " soft predict\n",
      "(50000, 2)\n",
      "{'M': 4, 'train_size_alpha': 0.9} , 3 -> 0.2671987285447152\n",
      "{'M': 4, 'train_size_alpha': 0.9} -> [0.22716429639125094, 0.2509137945497039, 0.2138445411897939, 0.2671987285447152]\n",
      "logger {'M': 4, 'train_size_alpha': 0.9}, -> [0.22716429639125094, 0.2509137945497039, 0.2138445411897939, 0.2671987285447152]\n",
      "{'M': 4, 'train_size_alpha': 1.0} , 1 -> 0.3165931589953614\n",
      " soft predict\n",
      "(50000, 2)\n",
      "{'M': 4, 'train_size_alpha': 1.0} , 2 -> 0.28708641707271976\n",
      " soft predict\n",
      "(50000, 2)\n",
      "{'M': 4, 'train_size_alpha': 1.0} , 3 -> 0.2238294991281084\n",
      "{'M': 4, 'train_size_alpha': 1.0} -> [0.2727922414470252, 0.3165931589953614, 0.28708641707271976, 0.2238294991281084]\n",
      "logger {'M': 4, 'train_size_alpha': 1.0}, -> [0.2727922414470252, 0.3165931589953614, 0.28708641707271976, 0.2238294991281084]\n"
     ]
    }
   ],
   "source": [
    "from multiprocessing import  cpu_count,current_process\n",
    "from multiprocessing.pool import ThreadPool\n",
    "import functools\n",
    "import threading\n",
    "\n",
    "from aggregating.gridsearch import create_logger, evaluate_model\n",
    "from aggregating.utils import flatten_X\n",
    "\n",
    "# GRIDSEARCH PARAMS\n",
    "model = SoftBagger(0,0,GaussianProcessRegressor(kernel,copy_X_train=False))\n",
    "trials = 4\n",
    "M_grid = [1,2,3,4]\n",
    "alpha_grid = [0.5,0.7,0.9,1.0]\n",
    "results = []\n",
    "\n",
    "### ACTUAL GRIDSEARCH\n",
    "pool = ThreadPool(4) #avoid allocation issues\n",
    "for m in M_grid:\n",
    "    for alpha in alpha_grid:\n",
    "        hyperparams= {'M':m, 'train_size_alpha':alpha}\n",
    "        pool.apply_async(evaluate_model, args=(model,hyperparams,flatten_X(X_train),y_train,1, [1/12,11/12],trials,N_test,MaxCallStochasticModel),callback = create_logger(hyperparams,results))\n",
    "pool.close()\n",
    "pool.join()\n",
    "\n"
   ]
  },
  {
   "cell_type": "code",
   "execution_count": 12,
   "metadata": {
    "ExecuteTime": {
     "end_time": "2020-11-20T11:45:01.837634Z",
     "start_time": "2020-11-20T11:45:01.828058Z"
    }
   },
   "outputs": [
    {
     "name": "stdout",
     "output_type": "stream",
     "text": [
      "[1, 0.5, [0.21444231103861738, 0.21443570811514623, 0.20568338494493957, 0.18748275609177525]]\n",
      "[1, 0.7, [0.2913408145527774, 0.28794117201729535, 0.29280886413139173, 0.27844648190479343]]\n",
      "[1, 0.9, [0.2712055707007414, 0.2528797760437774, 0.27111041703970623, 0.2541520577942254]]\n",
      "[1, 1.0, [0.191701446010262, 0.19848144803053686, 0.22071126231379326, 0.19148702920780536]]\n",
      "[2, 0.5, [0.20647103702335437, 0.21262290032789516, 0.21909544023198993, 0.20136175813319232]]\n",
      "[2, 0.7, [0.17737937119723746, 0.19228226703921214, 0.15973494327048454, 0.15288325582906795]]\n",
      "[2, 0.9, [0.1883035311970486, 0.20657681913147208, 0.2323409498069565, 0.19627432788957674]]\n",
      "[3, 0.5, [0.19335853967363867, 0.22327802878464367, 0.1996358338251176, 0.18920371993027743]]\n",
      "[2, 1.0, [0.12384542017469018, 0.16053570974248102, 0.1376668041326575, 0.15926943422038767]]\n",
      "[3, 0.7, [0.21815300832120207, 0.2158305796506924, 0.2191150611215789, 0.21889670483843227]]\n",
      "[3, 0.9, [0.18796744602527454, 0.19611437146769314, 0.17836127998254223, 0.1875801405501927]]\n",
      "[4, 0.5, [0.26444266510493475, 0.28007307089657746, 0.2638645581357893, 0.29081107851035287]]\n",
      "[3, 1.0, [0.17378772671745915, 0.17311681096314924, 0.12920934114524163, 0.14297784611980835]]\n",
      "[4, 0.7, [0.23624557606597169, 0.25683077767513984, 0.2223326141517127, 0.27688864167524924]]\n",
      "[4, 0.9, [0.22716429639125094, 0.2509137945497039, 0.2138445411897939, 0.2671987285447152]]\n",
      "[4, 1.0, [0.2727922414470252, 0.3165931589953614, 0.28708641707271976, 0.2238294991281084]]\n",
      "(4, 4, 4)\n",
      "[[[0.21444231 0.21443571 0.20568338 0.18748276]\n",
      "  [0.29134081 0.28794117 0.29280886 0.27844648]\n",
      "  [0.27120557 0.25287978 0.27111042 0.25415206]\n",
      "  [0.19170145 0.19848145 0.22071126 0.19148703]]\n",
      "\n",
      " [[0.20647104 0.2126229  0.21909544 0.20136176]\n",
      "  [0.17737937 0.19228227 0.15973494 0.15288326]\n",
      "  [0.18830353 0.20657682 0.23234095 0.19627433]\n",
      "  [0.12384542 0.16053571 0.1376668  0.15926943]]\n",
      "\n",
      " [[0.19335854 0.22327803 0.19963583 0.18920372]\n",
      "  [0.21815301 0.21583058 0.21911506 0.2188967 ]\n",
      "  [0.18796745 0.19611437 0.17836128 0.18758014]\n",
      "  [0.17378773 0.17311681 0.12920934 0.14297785]]\n",
      "\n",
      " [[0.26444267 0.28007307 0.26386456 0.29081108]\n",
      "  [0.23624558 0.25683078 0.22233261 0.27688864]\n",
      "  [0.2271643  0.25091379 0.21384454 0.26719873]\n",
      "  [0.27279224 0.31659316 0.28708642 0.2238295 ]]]\n"
     ]
    }
   ],
   "source": [
    "converted_results = np.ones((len(M_grid),len(alpha_grid),trials))*(-1)\n",
    "for item in results:\n",
    "    print(item)\n",
    "    converted_results[M_grid.index(item[0]),alpha_grid.index(item[1])] = item[2]\n",
    "\n",
    "print(converted_results.shape)\n",
    "print(converted_results)"
   ]
  },
  {
   "cell_type": "code",
   "execution_count": 13,
   "metadata": {
    "ExecuteTime": {
     "end_time": "2020-11-20T11:45:01.847573Z",
     "start_time": "2020-11-20T11:45:01.838596Z"
    }
   },
   "outputs": [
    {
     "data": {
      "text/plain": [
       "(4, 4)"
      ]
     },
     "execution_count": 13,
     "metadata": {},
     "output_type": "execute_result"
    }
   ],
   "source": [
    "masked_results= np.ma.masked_where(converted_results <= 0.0,converted_results) # some runs have been aborted every now and then -> filter them out\n",
    "means = masked_results.mean(axis=2)\n",
    "sigmas = masked_results.std(axis=2)\n",
    "means.shape"
   ]
  },
  {
   "cell_type": "code",
   "execution_count": 17,
   "metadata": {
    "ExecuteTime": {
     "end_time": "2020-11-20T11:49:33.375207Z",
     "start_time": "2020-11-20T11:49:33.227488Z"
    }
   },
   "outputs": [
    {
     "data": {
      "image/png": "[encoded data removed]",
      "text/plain": [
       "<Figure size 432x288 with 1 Axes>"
      ]
     },
     "metadata": {
      "needs_background": "light"
     },
     "output_type": "display_data"
    }
   ],
   "source": [
    "for i in range(len(alpha_grid)):\n",
    "    plt.errorbar(np.array(M_grid),means[:,i],sigmas[:,i],marker ='o',label = f\"alpha = {alpha_grid[i]}\")\n",
    "plt.title(f\"Soft Bagging Normalized error: N_train = {N_train}, d= {d}, N_test= {N_test}\")\n",
    "plt.xlabel(\"M\")\n",
    "plt.xticks(M_grid)\n",
    "plt.ylabel(\"normalized error\")\n",
    "plt.legend()\n",
    "plt.show()"
   ]
  },
  {
   "cell_type": "markdown",
   "metadata": {},
   "source": [
    "\n"
   ]
  },
  {
   "cell_type": "markdown",
   "metadata": {
    "ExecuteTime": {
     "end_time": "2020-11-15T17:54:08.608678Z",
     "start_time": "2020-11-15T17:54:08.603664Z"
    }
   },
   "source": [
    "## Store results"
   ]
  },
  {
   "cell_type": "code",
   "execution_count": 18,
   "metadata": {
    "ExecuteTime": {
     "end_time": "2020-11-20T11:50:15.071419Z",
     "start_time": "2020-11-20T11:50:15.067425Z"
    }
   },
   "outputs": [],
   "source": [
    "res_dict = {'N_train': N_train, 'N_test': N_test,'mgrid': M_grid, 'alpha_grid': alpha_grid, 'errors': converted_results.tolist()}"
   ]
  },
  {
   "cell_type": "code",
   "execution_count": 19,
   "metadata": {
    "ExecuteTime": {
     "end_time": "2020-11-20T11:50:15.494898Z",
     "start_time": "2020-11-20T11:50:15.487881Z"
    }
   },
   "outputs": [],
   "source": [
    "import json\n",
    "import datetime\n",
    "with open(f'soft_bagging_w_replacement_{str(datetime.date.today())}.json', 'w') as fp:\n",
    "    json.dump(res_dict, fp)"
   ]
  },
  {
   "cell_type": "code",
   "execution_count": null,
   "metadata": {},
   "outputs": [],
   "source": []
  }
 ],
 "metadata": {
  "kernelspec": {
   "display_name": "Python 3",
   "language": "python",
   "name": "python3"
  },
  "language_info": {
   "codemirror_mode": {
    "name": "ipython",
    "version": 3
   },
   "file_extension": ".py",
   "mimetype": "text/x-python",
   "name": "python",
   "nbconvert_exporter": "python",
   "pygments_lexer": "ipython3",
   "version": "3.7.5"
  },
  "toc": {
   "base_numbering": 1,
   "nav_menu": {},
   "number_sections": true,
   "sideBar": true,
   "skip_h1_title": false,
   "title_cell": "Table of Contents",
   "title_sidebar": "Contents",
   "toc_cell": false,
   "toc_position": {},
   "toc_section_display": true,
   "toc_window_display": false
  }
 },
 "nbformat": 4,
 "nbformat_minor": 2
}
