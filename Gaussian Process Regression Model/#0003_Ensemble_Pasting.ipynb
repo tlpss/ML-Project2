{
 "cells": [
  {
   "cell_type": "code",
   "execution_count": 60,
   "metadata": {
    "ExecuteTime": {
     "end_time": "2020-11-14T12:37:46.101639Z",
     "start_time": "2020-11-14T12:37:46.095654Z"
    }
   },
   "outputs": [],
   "source": [
    "import numpy as np\n",
    "import random\n",
    "import matplotlib.pyplot as plt\n",
    "from sklearn.gaussian_process import GaussianProcessRegressor\n",
    "from sklearn.gaussian_process.kernels import RBF, WhiteKernel\n",
    "## ENSEMBLE\n",
    "\n",
    "from sklearn.ensemble import BaggingRegressor\n",
    "\n",
    "# add project root folder to path to allow import local modules\n",
    "import os\n",
    "import sys\n",
    "module_path = os.path.abspath(os.path.join('..'))\n",
    "if module_path not in sys.path:\n",
    "    sys.path.append(module_path)\n",
    "# import local modules\n",
    "from stochastic_models import *\n",
    "from visualisations import *\n",
    "from basic_estimator_model import *"
   ]
  },
  {
   "cell_type": "markdown",
   "metadata": {
    "ExecuteTime": {
     "end_time": "2020-11-14T11:40:28.368547Z",
     "start_time": "2020-11-14T11:40:28.365554Z"
    }
   },
   "source": [
    "## Parameter Configuration"
   ]
  },
  {
   "cell_type": "code",
   "execution_count": 61,
   "metadata": {
    "ExecuteTime": {
     "end_time": "2020-11-14T12:37:46.789049Z",
     "start_time": "2020-11-14T12:37:46.786090Z"
    }
   },
   "outputs": [],
   "source": [
    "np.random.seed(2020)"
   ]
  },
  {
   "cell_type": "code",
   "execution_count": 62,
   "metadata": {
    "ExecuteTime": {
     "end_time": "2020-11-14T12:37:47.121796Z",
     "start_time": "2020-11-14T12:37:47.118778Z"
    }
   },
   "outputs": [],
   "source": [
    "N_train = 5000\n",
    "N_test = 10000\n",
    "d = 1\n",
    "T = 2"
   ]
  },
  {
   "cell_type": "code",
   "execution_count": 63,
   "metadata": {
    "ExecuteTime": {
     "end_time": "2020-11-14T12:37:47.551274Z",
     "start_time": "2020-11-14T12:37:47.546198Z"
    }
   },
   "outputs": [],
   "source": [
    "lambda_range = (N_train*1e-9 , N_train*1e-3)\n",
    "alpha_range = (8.3*1e-5, 0.83)\n",
    "length_scale = np.sort(1/np.sqrt((2*alpha_range[0], 2*alpha_range[1])))"
   ]
  },
  {
   "cell_type": "markdown",
   "metadata": {
    "ExecuteTime": {
     "end_time": "2020-11-14T11:40:29.811046Z",
     "start_time": "2020-11-14T11:40:29.808054Z"
    }
   },
   "source": [
    "## Create Kernel & prepare datasets"
   ]
  },
  {
   "cell_type": "code",
   "execution_count": 64,
   "metadata": {
    "ExecuteTime": {
     "end_time": "2020-11-14T12:37:48.358071Z",
     "start_time": "2020-11-14T12:37:48.354048Z"
    }
   },
   "outputs": [],
   "source": [
    "#kernel\n",
    "kernel = RBF(length_scale= (length_scale[0] + length_scale[1])/2, length_scale_bounds=length_scale) \\\n",
    "        + WhiteKernel(noise_level= (lambda_range[0] + lambda_range[1])/2 , noise_level_bounds=lambda_range)\n"
   ]
  },
  {
   "cell_type": "code",
   "execution_count": 65,
   "metadata": {
    "ExecuteTime": {
     "end_time": "2020-11-14T12:37:48.806028Z",
     "start_time": "2020-11-14T12:37:48.799076Z"
    }
   },
   "outputs": [],
   "source": [
    "#generate drivers\n",
    "s_train = MaxCallStochasticModel(N_train,d,[1/12,11/12])\n",
    "s_train.generate_samples()\n",
    "s_test = MaxCallStochasticModel(N_test, d, [1/12,11/12])\n",
    "s_test.generate_samples()"
   ]
  },
  {
   "cell_type": "code",
   "execution_count": 66,
   "metadata": {
    "ExecuteTime": {
     "end_time": "2020-11-14T12:37:49.260323Z",
     "start_time": "2020-11-14T12:37:49.253374Z"
    }
   },
   "outputs": [
    {
     "data": {
      "text/plain": [
       "0.07892604992843537"
      ]
     },
     "execution_count": 66,
     "metadata": {},
     "output_type": "execute_result"
    }
   ],
   "source": [
    "#prepare datasets & values\n",
    "y_train = s_train.y\n",
    "X_train = s_train.X\n",
    "S_train = s_train.S\n",
    "\n",
    "y_test = s_test.y\n",
    "X_test = s_test.X\n",
    "S_test = s_test.S\n",
    "\n",
    "V_T = y_test  \n",
    "V_0 = s_test.generate_true_V(0)\n",
    "\n",
    "V_0= V_0.mean()\n",
    "V_0 # Average expected PROFIT!"
   ]
  },
  {
   "cell_type": "code",
   "execution_count": 67,
   "metadata": {
    "ExecuteTime": {
     "end_time": "2020-11-14T12:37:49.718076Z",
     "start_time": "2020-11-14T12:37:49.693724Z"
    }
   },
   "outputs": [],
   "source": [
    "# \n",
    "def Flatten_Training_Sample(X , f):\n",
    "    return np.array([f(x) for x in X])\n",
    "#Shape of each sample j: [X_j[0,0],... ,X_j[d,0],...,X_j[0,T] , ..., X_j[d,T]]\n",
    "Flatten_X_1_train = Flatten_Training_Sample(X_train, lambda x : x.T.flatten())\n",
    "Flatten_X_1_test = Flatten_Training_Sample(X_test, lambda x : x.T.flatten())\n"
   ]
  },
  {
   "cell_type": "markdown",
   "metadata": {
    "ExecuteTime": {
     "end_time": "2020-11-14T11:40:33.048462Z",
     "start_time": "2020-11-14T11:40:33.045471Z"
    }
   },
   "source": [
    "## Create Custom Models\n",
    "(to have more control of splitting etc)"
   ]
  },
  {
   "cell_type": "code",
   "execution_count": 68,
   "metadata": {
    "ExecuteTime": {
     "end_time": "2020-11-14T12:37:51.496902Z",
     "start_time": "2020-11-14T12:37:51.478932Z"
    }
   },
   "outputs": [
    {
     "data": {
      "text/plain": [
       "{'M': 11, 'predictor': None}"
      ]
     },
     "execution_count": 68,
     "metadata": {},
     "output_type": "execute_result"
    }
   ],
   "source": [
    "from sklearn.base import clone, BaseEstimator\n",
    "class BaggingBaseClass(BaseEstimator):\n",
    "    def __init__(self,M,predictor):\n",
    "        super().__init__()\n",
    "        self.M = M\n",
    "        self.predictor = predictor\n",
    "        self.predictors = None\n",
    "        \n",
    "    def _split_train_set(self,X,y):\n",
    "        raise NotImplementedError\n",
    "    \n",
    "    def fit(self,X,y):\n",
    "        print(\"fit\")\n",
    "        print(X.shape)\n",
    "        self.predictors  = [clone(self.predictor)] *self.M\n",
    "        X_list,y_list = self._split_train_set(X,y)\n",
    "        for i in range(self.M):\n",
    "            self.predictors[i].fit(X_list[i],y_list[i])\n",
    "    \n",
    "    def predict(self,X):\n",
    "        print(\"predict\")\n",
    "        print(X.shape)\n",
    "        predictions = np.zeros((X.shape[0]))\n",
    "        for i in range(self.M):\n",
    "            predictions = predictions + self.predictors[i].predict(X)\n",
    "        predictions = predictions / self.M \n",
    "        return predictions\n",
    "\n",
    "class SimplePaster(BaggingBaseClass):\n",
    "    def __init__(self,M,predictor):\n",
    "        super(SimplePaster,self).__init__(M,predictor)\n",
    "    \n",
    "    def _split_train_set(self,X,y):\n",
    "        n = X.shape[0]// self.M\n",
    "        X_list = []\n",
    "        y_list = []\n",
    "        for i in range(self.M-1):\n",
    "            X_list.append(X[n*i:n*(i+1)])\n",
    "            y_list.append(y[n*i:n*(i+1)])\n",
    "        X_list.append(X[(self.M-1)*n:])\n",
    "        y_list.append(y[(self.M-1)*n:])\n",
    "        return X_list, y_list\n",
    "    \n",
    "s = SimplePaster(11,None)\n",
    "s.get_params()"
   ]
  },
  {
   "cell_type": "markdown",
   "metadata": {},
   "source": [
    "## SKLearn GridSearch"
   ]
  },
  {
   "cell_type": "code",
   "execution_count": 45,
   "metadata": {
    "ExecuteTime": {
     "end_time": "2020-11-14T12:29:59.894198Z",
     "start_time": "2020-11-14T12:29:59.889211Z"
    }
   },
   "outputs": [],
   "source": [
    "#https://scikit-learn.org/stable/modules/generated/sklearn.metrics.make_scorer.html\n",
    "# this one could be used in GridSearches \n",
    "def create_scorer(V_0):\n",
    "    def normalized_error_VT(y_hat,y):\n",
    "            #y_hat= f_X predicted\n",
    "            # y = V_T = f_X\n",
    "            Normalized_Error_T = np.sqrt(1/len(y)*np.sum((y_hat-y)**2, axis=0))/V_0\n",
    "            ## see formula p4 for ||f(X)||2,Q \n",
    "            ## since samples are drawn according to measure - just sum them up\n",
    "            return Normalized_Error_T\n",
    "    return normalized_error_VT\n"
   ]
  },
  {
   "cell_type": "code",
   "execution_count": 46,
   "metadata": {
    "ExecuteTime": {
     "end_time": "2020-11-14T12:30:04.443404Z",
     "start_time": "2020-11-14T12:30:00.053416Z"
    }
   },
   "outputs": [
    {
     "name": "stdout",
     "output_type": "stream",
     "text": [
      "fit\n",
      "(1000, 2)\n"
     ]
    },
    {
     "data": {
      "text/plain": [
       "GridSearchCV(cv=5,\n",
       "             estimator=SimplePaster(M=1,\n",
       "                                    predictor=GaussianProcessRegressor(kernel=RBF(length_scale=39.2) + WhiteKernel(noise_level=0.5))),\n",
       "             n_jobs=-1, param_grid={'M': array([1])},\n",
       "             scoring=make_scorer(normalized_error_VT))"
      ]
     },
     "execution_count": 46,
     "metadata": {},
     "output_type": "execute_result"
    }
   ],
   "source": [
    "from sklearn.model_selection import GridSearchCV\n",
    "from sklearn.metrics import make_scorer\n",
    "M_grid = np.arange(1,10)\n",
    "base_regressor = GaussianProcessRegressor(kernel)\n",
    "tuned = {\"M\": M_grid }\n",
    "# https://scikit-learn.org/stable/modules/generated/sklearn.model_selection.GridSearchCV.html\n",
    "gs = GridSearchCV(SimplePaster(1,base_regressor), tuned,scoring = make_scorer(create_scorer(V_0)),cv=5,n_jobs=-1)\n",
    "gs.fit(Flatten_X_1_train,y_train)"
   ]
  },
  {
   "cell_type": "code",
   "execution_count": 47,
   "metadata": {
    "ExecuteTime": {
     "end_time": "2020-11-14T12:30:04.450353Z",
     "start_time": "2020-11-14T12:30:04.444370Z"
    }
   },
   "outputs": [
    {
     "data": {
      "text/plain": [
       "{'mean_fit_time': array([1.9759336]),\n",
       " 'std_fit_time': array([0.7541994]),\n",
       " 'mean_score_time': array([0.00859904]),\n",
       " 'std_score_time': array([0.00318336]),\n",
       " 'param_M': masked_array(data=[1],\n",
       "              mask=[False],\n",
       "        fill_value='?',\n",
       "             dtype=object),\n",
       " 'params': [{'M': 1}],\n",
       " 'split0_test_score': array([0.14922542]),\n",
       " 'split1_test_score': array([0.22897747]),\n",
       " 'split2_test_score': array([0.11906916]),\n",
       " 'split3_test_score': array([0.37396664]),\n",
       " 'split4_test_score': array([0.36555053]),\n",
       " 'mean_test_score': array([0.24735784]),\n",
       " 'std_test_score': array([0.10623097]),\n",
       " 'rank_test_score': array([1])}"
      ]
     },
     "execution_count": 47,
     "metadata": {},
     "output_type": "execute_result"
    }
   ],
   "source": [
    "gs.cv_results_"
   ]
  },
  {
   "cell_type": "code",
   "execution_count": 48,
   "metadata": {
    "ExecuteTime": {
     "end_time": "2020-11-14T12:30:04.604972Z",
     "start_time": "2020-11-14T12:30:04.451351Z"
    },
    "scrolled": true
   },
   "outputs": [
    {
     "data": {
      "text/html": [
       "<div>\n",
       "<style scoped>\n",
       "    .dataframe tbody tr th:only-of-type {\n",
       "        vertical-align: middle;\n",
       "    }\n",
       "\n",
       "    .dataframe tbody tr th {\n",
       "        vertical-align: top;\n",
       "    }\n",
       "\n",
       "    .dataframe thead th {\n",
       "        text-align: right;\n",
       "    }\n",
       "</style>\n",
       "<table border=\"1\" class=\"dataframe\">\n",
       "  <thead>\n",
       "    <tr style=\"text-align: right;\">\n",
       "      <th></th>\n",
       "      <th>mean_fit_time</th>\n",
       "      <th>std_fit_time</th>\n",
       "      <th>mean_score_time</th>\n",
       "      <th>std_score_time</th>\n",
       "      <th>param_M</th>\n",
       "      <th>params</th>\n",
       "      <th>split0_test_score</th>\n",
       "      <th>split1_test_score</th>\n",
       "      <th>split2_test_score</th>\n",
       "      <th>split3_test_score</th>\n",
       "      <th>split4_test_score</th>\n",
       "      <th>mean_test_score</th>\n",
       "      <th>std_test_score</th>\n",
       "      <th>rank_test_score</th>\n",
       "    </tr>\n",
       "  </thead>\n",
       "  <tbody>\n",
       "    <tr>\n",
       "      <th>0</th>\n",
       "      <td>1.975934</td>\n",
       "      <td>0.754199</td>\n",
       "      <td>0.008599</td>\n",
       "      <td>0.003183</td>\n",
       "      <td>1</td>\n",
       "      <td>{'M': 1}</td>\n",
       "      <td>0.149225</td>\n",
       "      <td>0.228977</td>\n",
       "      <td>0.119069</td>\n",
       "      <td>0.373967</td>\n",
       "      <td>0.365551</td>\n",
       "      <td>0.247358</td>\n",
       "      <td>0.106231</td>\n",
       "      <td>1</td>\n",
       "    </tr>\n",
       "  </tbody>\n",
       "</table>\n",
       "</div>"
      ],
      "text/plain": [
       "   mean_fit_time  std_fit_time  mean_score_time  std_score_time param_M  \\\n",
       "0       1.975934      0.754199         0.008599        0.003183       1   \n",
       "\n",
       "     params  split0_test_score  split1_test_score  split2_test_score  \\\n",
       "0  {'M': 1}           0.149225           0.228977           0.119069   \n",
       "\n",
       "   split3_test_score  split4_test_score  mean_test_score  std_test_score  \\\n",
       "0           0.373967           0.365551         0.247358        0.106231   \n",
       "\n",
       "   rank_test_score  \n",
       "0                1  "
      ]
     },
     "execution_count": 48,
     "metadata": {},
     "output_type": "execute_result"
    },
    {
     "data": {
      "image/png": "[encoded data removed]",
      "text/plain": [
       "<Figure size 432x288 with 1 Axes>"
      ]
     },
     "metadata": {
      "needs_background": "light"
     },
     "output_type": "display_data"
    }
   ],
   "source": [
    "mean = gs.cv_results_['mean_test_score']\n",
    "std = gs.cv_results_['std_test_score']\n",
    "plt.title(f\"Grid Search on M (Pasting) for N_train = {N_train}\")\n",
    "plt.xlabel(\"M\")\n",
    "plt.ylabel(\"Normalized Error\")\n",
    "plt.errorbar(M_grid,mean,std,marker='o')\n",
    "plt.savefig(f\"../img/pasting_gridsearch_{N_train}\")\n",
    "import pandas as pd \n",
    "df = pd.DataFrame.from_dict(gs.cv_results_)\n",
    "df"
   ]
  },
  {
   "cell_type": "markdown",
   "metadata": {},
   "source": [
    "## Compare with own grid search to validate Scikit GSCV\n",
    "\n",
    "NB: for convenience - just on split -> match with column"
   ]
  },
  {
   "cell_type": "code",
   "execution_count": 49,
   "metadata": {
    "ExecuteTime": {
     "end_time": "2020-11-14T12:30:05.201438Z",
     "start_time": "2020-11-14T12:30:04.605937Z"
    }
   },
   "outputs": [
    {
     "name": "stdout",
     "output_type": "stream",
     "text": [
      "fit\n",
      "(800, 2)\n",
      "predict\n",
      "(200, 2)\n"
     ]
    }
   ],
   "source": [
    "normalized_errors = []\n",
    "base_regressor = GaussianProcessRegressor(kernel=kernel)\n",
    "for M in M_grid:\n",
    "    paster = SimplePaster(M,base_regressor)\n",
    "    paster.fit(Flatten_X_1_train[N_train//5:],y_train[N_train//5:])\n",
    "    y_hat = paster.predict(Flatten_X_1_train[:N_train//5])\n",
    "    normalized_errors.append([M,create_scorer(V_0)(y_hat,y_train[:N_train//5])])"
   ]
  },
  {
   "cell_type": "code",
   "execution_count": 53,
   "metadata": {
    "ExecuteTime": {
     "end_time": "2020-11-14T12:36:55.071049Z",
     "start_time": "2020-11-14T12:36:54.959340Z"
    }
   },
   "outputs": [
    {
     "data": {
      "image/png": "[encoded data removed]",
      "text/plain": [
       "<Figure size 432x288 with 1 Axes>"
      ]
     },
     "metadata": {
      "needs_background": "light"
     },
     "output_type": "display_data"
    }
   ],
   "source": [
    "#print(normalized_errors)\n",
    "normalized_errors = np.array(normalized_errors)\n",
    "plt.plot(normalized_errors[:,0],normalized_errors[:,1],\"-o\")\n",
    "plt.title(\"normalized error of Pasting Ensemble Learning\")\n",
    "plt.ylabel(\"Normalized Error\")\n",
    "plt.xlabel(\"#Pasters M\")\n",
    "plt.show()"
   ]
  },
  {
   "cell_type": "code",
   "execution_count": 69,
   "metadata": {
    "ExecuteTime": {
     "end_time": "2020-11-14T12:38:03.963679Z",
     "start_time": "2020-11-14T12:37:57.224359Z"
    }
   },
   "outputs": [
    {
     "name": "stdout",
     "output_type": "stream",
     "text": [
      "fit\n",
      "(2000, 2)\n",
      "predict\n",
      "(10000, 2)\n"
     ]
    }
   ],
   "source": [
    "normalized_errors = []\n",
    "base_regressor = GaussianProcessRegressor(kernel=kernel)\n",
    "for M in M_grid:\n",
    "    paster = SimplePaster(M,base_regressor)\n",
    "    paster.fit(Flatten_X_1_train,y_train)\n",
    "    y_hat = paster.predict(Flatten_X_1_test)\n",
    "    normalized_errors.append([M,create_scorer(V_0)(y_hat,y_test)])"
   ]
  },
  {
   "cell_type": "code",
   "execution_count": 70,
   "metadata": {
    "ExecuteTime": {
     "end_time": "2020-11-14T12:38:04.081350Z",
     "start_time": "2020-11-14T12:38:03.964658Z"
    }
   },
   "outputs": [
    {
     "data": {
      "image/png": "[encoded data removed]",
      "text/plain": [
       "<Figure size 432x288 with 1 Axes>"
      ]
     },
     "metadata": {
      "needs_background": "light"
     },
     "output_type": "display_data"
    }
   ],
   "source": [
    "#print(normalized_errors)\n",
    "normalized_errors = np.array(normalized_errors)\n",
    "plt.plot(normalized_errors[:,0],normalized_errors[:,1],\"-o\")\n",
    "plt.title(\"normalized error of Pasting Ensemble Learning (test set)\")\n",
    "plt.ylabel(\"Normalized Error\")\n",
    "plt.xlabel(\"#Pasters M\")\n",
    "plt.show()"
   ]
  },
  {
   "cell_type": "code",
   "execution_count": null,
   "metadata": {},
   "outputs": [],
   "source": []
  },
  {
   "cell_type": "code",
   "execution_count": null,
   "metadata": {},
   "outputs": [],
   "source": []
  }
 ],
 "metadata": {
  "kernelspec": {
   "display_name": "Python 3",
   "language": "python",
   "name": "python3"
  },
  "language_info": {
   "codemirror_mode": {
    "name": "ipython",
    "version": 3
   },
   "file_extension": ".py",
   "mimetype": "text/x-python",
   "name": "python",
   "nbconvert_exporter": "python",
   "pygments_lexer": "ipython3",
   "version": "3.7.5"
  },
  "toc": {
   "base_numbering": 1,
   "nav_menu": {},
   "number_sections": true,
   "sideBar": true,
   "skip_h1_title": false,
   "title_cell": "Table of Contents",
   "title_sidebar": "Contents",
   "toc_cell": false,
   "toc_position": {},
   "toc_section_display": true,
   "toc_window_display": false
  }
 },
 "nbformat": 4,
 "nbformat_minor": 2
}
