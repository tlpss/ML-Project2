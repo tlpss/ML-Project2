{
 "cells": [
  {
   "cell_type": "markdown",
   "metadata": {},
   "source": [
    "# Ensemble Learning through Pasting\n",
    "\n",
    "$\\implies$  hyperparam = M = #learners\n",
    "\n",
    "bc data is split in M distinct subsets on which each learner is trained\n",
    "\n",
    "Ofc the optimal M will depend on the size of the trainset as you are making a bias-variance tradeoff which largely depends on the datasize"
   ]
  },
  {
   "cell_type": "code",
   "execution_count": 3,
   "metadata": {
    "ExecuteTime": {
     "end_time": "2020-11-15T15:34:40.130903Z",
     "start_time": "2020-11-15T15:34:40.118969Z"
    }
   },
   "outputs": [],
   "source": [
    "import numpy as np\n",
    "import random\n",
    "import matplotlib.pyplot as plt\n",
    "from sklearn.gaussian_process import GaussianProcessRegressor\n",
    "from sklearn.gaussian_process.kernels import RBF, WhiteKernel\n",
    "## ENSMBLE\n",
    "\n",
    "# add project root folder to path to allow import local modules\n",
    "import os\n",
    "import sys\n",
    "module_path = os.path.abspath(os.path.join('..'))\n",
    "if module_path not in sys.path:\n",
    "    sys.path.append(module_path)\n",
    "# import local modules\n",
    "from stochastic_models import *\n",
    "from visualisations import *\n",
    "from basic_estimator_model import *"
   ]
  },
  {
   "cell_type": "markdown",
   "metadata": {
    "ExecuteTime": {
     "end_time": "2020-11-14T11:40:28.368547Z",
     "start_time": "2020-11-14T11:40:28.365554Z"
    }
   },
   "source": [
    "## Parameter Configuration"
   ]
  },
  {
   "cell_type": "code",
   "execution_count": 4,
   "metadata": {
    "ExecuteTime": {
     "end_time": "2020-11-15T15:34:40.627577Z",
     "start_time": "2020-11-15T15:34:40.615645Z"
    }
   },
   "outputs": [],
   "source": [
    "np.random.seed(2020)"
   ]
  },
  {
   "cell_type": "code",
   "execution_count": 5,
   "metadata": {
    "ExecuteTime": {
     "end_time": "2020-11-15T15:34:40.774426Z",
     "start_time": "2020-11-15T15:34:40.770434Z"
    }
   },
   "outputs": [],
   "source": [
    "N_train = 2000\n",
    "N_test = 100000\n",
    "d = 1\n",
    "T = 2"
   ]
  },
  {
   "cell_type": "code",
   "execution_count": 6,
   "metadata": {
    "ExecuteTime": {
     "end_time": "2020-11-15T15:34:40.933011Z",
     "start_time": "2020-11-15T15:34:40.924040Z"
    }
   },
   "outputs": [],
   "source": [
    "lambda_range = (N_train*1e-9 , N_train*1e-3)\n",
    "alpha_range = (8.3*1e-5, 0.83)\n",
    "length_scale = np.sort(1/np.sqrt((2*alpha_range[0], 2*alpha_range[1])))"
   ]
  },
  {
   "cell_type": "markdown",
   "metadata": {
    "ExecuteTime": {
     "end_time": "2020-11-14T11:40:29.811046Z",
     "start_time": "2020-11-14T11:40:29.808054Z"
    }
   },
   "source": [
    "## Create Kernel & prepare datasets"
   ]
  },
  {
   "cell_type": "code",
   "execution_count": 7,
   "metadata": {
    "ExecuteTime": {
     "end_time": "2020-11-15T15:34:41.209697Z",
     "start_time": "2020-11-15T15:34:41.203711Z"
    }
   },
   "outputs": [],
   "source": [
    "#kernel\n",
    "kernel = RBF(length_scale= (length_scale[0] + length_scale[1])/2, length_scale_bounds=length_scale) \\\n",
    "        + WhiteKernel(noise_level= (lambda_range[0] + lambda_range[1])/2 , noise_level_bounds=lambda_range)\n"
   ]
  },
  {
   "cell_type": "code",
   "execution_count": 8,
   "metadata": {
    "ExecuteTime": {
     "end_time": "2020-11-15T15:34:41.358266Z",
     "start_time": "2020-11-15T15:34:41.341338Z"
    }
   },
   "outputs": [],
   "source": [
    "#generate drivers\n",
    "s_train = MaxCallStochasticModel(N_train,d,[1/12,11/12])\n",
    "s_train.generate_samples()\n",
    "s_test = MaxCallStochasticModel(N_test, d, [1/12,11/12])\n",
    "s_test.generate_samples()"
   ]
  },
  {
   "cell_type": "code",
   "execution_count": 9,
   "metadata": {
    "ExecuteTime": {
     "end_time": "2020-11-15T15:34:41.493938Z",
     "start_time": "2020-11-15T15:34:41.476976Z"
    }
   },
   "outputs": [
    {
     "data": {
      "text/plain": [
       "0.07889893198941902"
      ]
     },
     "execution_count": 9,
     "metadata": {},
     "output_type": "execute_result"
    }
   ],
   "source": [
    "#prepare datasets & values\n",
    "y_train = s_train.y\n",
    "X_train = s_train.X\n",
    "S_train = s_train.S\n",
    "\n",
    "y_test = s_test.y\n",
    "X_test = s_test.X\n",
    "S_test = s_test.S\n",
    "\n",
    "V_T = y_test  \n",
    "V_0 = s_test.generate_true_V(0)\n",
    "\n",
    "V_0= V_0.mean()\n",
    "V_0 # Average expected PROFIT!"
   ]
  },
  {
   "cell_type": "code",
   "execution_count": 10,
   "metadata": {
    "ExecuteTime": {
     "end_time": "2020-11-15T15:34:41.648815Z",
     "start_time": "2020-11-15T15:34:41.621602Z"
    }
   },
   "outputs": [],
   "source": [
    "# \n",
    "def Flatten_Training_Sample(X , f):\n",
    "    return np.array([f(x) for x in X])\n",
    "#Shape of each sample j: [X_j[0,0],... ,X_j[d,0],...,X_j[0,T] , ..., X_j[d,T]]\n",
    "Flatten_X_1_train = Flatten_Training_Sample(X_train, lambda x : x.T.flatten())\n",
    "Flatten_X_1_test = Flatten_Training_Sample(X_test, lambda x : x.T.flatten())\n"
   ]
  },
  {
   "cell_type": "markdown",
   "metadata": {
    "ExecuteTime": {
     "end_time": "2020-11-14T11:40:33.048462Z",
     "start_time": "2020-11-14T11:40:33.045471Z"
    }
   },
   "source": [
    "## Create Custom Models\n",
    "(to have more control of splitting etc)"
   ]
  },
  {
   "cell_type": "code",
   "execution_count": 15,
   "metadata": {
    "ExecuteTime": {
     "end_time": "2020-11-15T15:36:39.659945Z",
     "start_time": "2020-11-15T15:36:39.639002Z"
    }
   },
   "outputs": [
    {
     "data": {
      "text/plain": [
       "{'M': 11, 'predictor': None}"
      ]
     },
     "execution_count": 15,
     "metadata": {},
     "output_type": "execute_result"
    }
   ],
   "source": [
    "from sklearn.base import clone, BaseEstimator\n",
    "\n",
    "class BaggingBaseClass(BaseEstimator):\n",
    "    def __init__(self,M,predictor):\n",
    "        super().__init__()\n",
    "        self.M = M\n",
    "        self.predictor = predictor\n",
    "        self.predictors = None\n",
    "        \n",
    "    def _split_train_set(self,X,y):\n",
    "        raise NotImplementedError\n",
    "    \n",
    "    def fit(self,X,y):\n",
    "        print(\"fit\")\n",
    "        print(X.shape)\n",
    "        self.predictors  = [clone(self.predictor)] *self.M\n",
    "        X_list,y_list = self._split_train_set(X,y)\n",
    "        for i in range(self.M):\n",
    "            self.predictors[i].fit(X_list[i],y_list[i])\n",
    "    \n",
    "    def predict(self,X):\n",
    "        print(\"predict\")\n",
    "        print(X.shape)\n",
    "        predictions = np.zeros((X.shape[0]))\n",
    "        for i in range(self.M):\n",
    "            predictions = predictions + self.predictors[i].predict(X)\n",
    "        predictions = predictions / self.M \n",
    "        return predictions\n",
    "\n",
    "class SimplePaster(BaggingBaseClass):\n",
    "    def __init__(self,M,predictor):\n",
    "        super(SimplePaster,self).__init__(M,predictor)\n",
    "    \n",
    "    def _split_train_set(self,X,y):\n",
    "        n = X.shape[0]// self.M\n",
    "        X_list = []\n",
    "        y_list = []\n",
    "        for i in range(self.M-1):\n",
    "            X_list.append(X[n*i:n*(i+1)])\n",
    "            y_list.append(y[n*i:n*(i+1)])\n",
    "        X_list.append(X[(self.M-1)*n:])\n",
    "        y_list.append(y[(self.M-1)*n:])\n",
    "        return X_list, y_list\n",
    "    \n",
    "s = SimplePaster(11,None)\n",
    "s.get_params()"
   ]
  },
  {
   "cell_type": "markdown",
   "metadata": {},
   "source": [
    "## GridSearch\n",
    "\n",
    "nB: cannot use Scikit gridsearch as it performs CV and we want to have a different test set of a larger size!"
   ]
  },
  {
   "cell_type": "code",
   "execution_count": 16,
   "metadata": {
    "ExecuteTime": {
     "end_time": "2020-11-15T15:36:41.305988Z",
     "start_time": "2020-11-15T15:36:41.300967Z"
    }
   },
   "outputs": [],
   "source": [
    "#https://scikit-learn.org/stable/modules/generated/sklearn.metrics.make_scorer.html\n",
    "# this one could be used in GridSearches \n",
    "def create_scorer(V_0):\n",
    "    def normalized_error_VT(y_hat,y):\n",
    "            #y_hat= f_X predicted\n",
    "            # y = V_T = f_X\n",
    "            Normalized_Error_T = np.sqrt(1/len(y)*np.sum((y_hat-y)**2, axis=0))/V_0\n",
    "            ## see formula p4 for ||f(X)||2,Q t\n",
    "            ## since samples are drawn according to measure - just sum them up\n",
    "            return Normalized_Error_T\n",
    "    return normalized_error_VT\n",
    "\n",
    "def normalized_error_VT(y_hat,y,V_0):\n",
    "        #y_hat= f_X predicted\n",
    "        # y = V_T = f_X\n",
    "        Normalized_Error_T = np.sqrt(1/len(y)*np.sum((y_hat-y)**2, axis=0))/V_0\n",
    "        ## see formula p4 for ||f(X)||2,Q t\n",
    "        ## since samples are drawn according to measure - just sum them up\n",
    "        return Normalized_Error_T\n"
   ]
  },
  {
   "cell_type": "code",
   "execution_count": 21,
   "metadata": {
    "ExecuteTime": {
     "end_time": "2020-11-15T15:46:24.523132Z",
     "start_time": "2020-11-15T15:46:17.975632Z"
    }
   },
   "outputs": [
    {
     "name": "stdout",
     "output_type": "stream",
     "text": [
      "1 0\n",
      "2 1,0 -> thread id = 12892\n",
      "fit\n",
      "(500, 2)\n",
      " 0\n",
      "3 0\n",
      "4 0\n",
      "5 0\n",
      "6 0\n",
      "7 0\n",
      "1 1\n",
      "2 1\n",
      "3 1\n",
      "4 1\n",
      "5 1\n",
      "6 1\n",
      "7 1\n",
      "1 2\n",
      "2 2\n",
      "3 2\n",
      "4 2\n",
      "5 2\n",
      "6 2\n",
      "7 2\n",
      " 2,0 -> thread id = 10076 3,0 -> thread id = 7888\n",
      "fit\n",
      "(500, 2)\n",
      "\n",
      " 4,0 -> thread id = 3012\n",
      "fit\n",
      "(500, 2)\n",
      " 5,0 -> thread id = 17028\n",
      "fit\n",
      "(500, 2)\n",
      "fit\n",
      "(500, 2)\n",
      " 6,0 -> thread id = 18528\n",
      "fit\n",
      "(500, 2)\n",
      " 7,0 -> thread id = 2160\n",
      "fit\n",
      "(500, 2)\n",
      " 1,1 -> thread id = 8388\n",
      "fit\n",
      "(500, 2)\n",
      " 2,1 -> thread id = 10020\n",
      "fit\n",
      "(500, 2)\n",
      " 3,1 -> thread id = 10596\n",
      "fit\n",
      "(500, 2)\n",
      " 4,1 -> thread id = 8988\n",
      "fit\n",
      "(500, 2)\n",
      " 5,1 -> thread id = 1540\n",
      "fit\n",
      "(500, 2)\n"
     ]
    },
    {
     "name": "stderr",
     "output_type": "stream",
     "text": [
      "c:\\users\\thoma\\appdata\\local\\programs\\python\\python37\\lib\\site-packages\\sklearn\\gaussian_process\\_gpr.py:504: ConvergenceWarning: lbfgs failed to converge (status=2):\n",
      "ABNORMAL_TERMINATION_IN_LNSRCH.\n",
      "\n",
      "Increase the number of iterations (max_iter) or scale the data as shown in:\n",
      "    https://scikit-learn.org/stable/modules/preprocessing.html\n",
      "  _check_optimize_result(\"lbfgs\", opt_res)\n"
     ]
    },
    {
     "name": "stdout",
     "output_type": "stream",
     "text": [
      "predict\n",
      "(10000, 2)\n",
      "predict\n",
      "(10000, 2)\n",
      "predict\n",
      "(10000, 2)\n",
      "predict\n",
      "(10000, 2)\n",
      "predict\n",
      "(10000, 2)\n",
      "predict\n",
      "(10000, 2)\n",
      "predict\n",
      "(10000, 2)\n",
      "predict\n",
      "(10000, 2)\n",
      "predict\n",
      "(10000, 2)predict\n",
      "\n",
      "(10000, 2)\n",
      "predict\n",
      "(10000, 2)\n",
      " 6,1 -> thread id = 83881,1 -> 0.5450642612553479\n",
      "\n",
      "fit\n",
      " 7,1 -> thread id = 12892\n",
      "(500, 2)1,0 -> 0.5848650017409222\n",
      "fit\n",
      "\n",
      "(500, 2)\n",
      " 1,2 -> thread id = 10076predict\n",
      "\n",
      "(10000, 2)\n",
      "fit2,0 -> 0.3177009248103332\n",
      "\n",
      "(500, 2)\n",
      " 2,2 -> thread id = 100202,1 -> 0.3905129931282453\n",
      "fit\n",
      "\n",
      "(500, 2)\n",
      " 3,2 -> thread id = 78883,0 -> 0.4634411340084294\n",
      "fit\n",
      "\n",
      "(500, 2)\n",
      " 4,2 -> thread id = 10596\n",
      "fit\n",
      "(500, 2)\n",
      "3,1 -> 0.4474797757485245\n",
      " 5,2 -> thread id = 30124,0 -> 0.5465856506420643\n",
      "\n",
      "fit\n",
      "(500, 2)\n",
      " 6,2 -> thread id = 2160\n",
      "fit\n",
      "(500, 2)7,0 -> 0.2829314008605058\n",
      "\n",
      " 7,2 -> thread id = 15405,1 -> 0.2788834881142818\n",
      "\n",
      "fit\n",
      "(500, 2)\n",
      "5,0 -> 0.27824503966605063\n",
      "4,1 -> 0.4964119219423114\n",
      "6,0 -> 0.2978995551154866\n"
     ]
    },
    {
     "name": "stderr",
     "output_type": "stream",
     "text": [
      "c:\\users\\thoma\\appdata\\local\\programs\\python\\python37\\lib\\site-packages\\sklearn\\gaussian_process\\_gpr.py:504: ConvergenceWarning: lbfgs failed to converge (status=2):\n",
      "ABNORMAL_TERMINATION_IN_LNSRCH.\n",
      "\n",
      "Increase the number of iterations (max_iter) or scale the data as shown in:\n",
      "    https://scikit-learn.org/stable/modules/preprocessing.html\n",
      "  _check_optimize_result(\"lbfgs\", opt_res)\n",
      "c:\\users\\thoma\\appdata\\local\\programs\\python\\python37\\lib\\site-packages\\sklearn\\gaussian_process\\_gpr.py:504: ConvergenceWarning: lbfgs failed to converge (status=2):\n",
      "ABNORMAL_TERMINATION_IN_LNSRCH.\n",
      "\n",
      "Increase the number of iterations (max_iter) or scale the data as shown in:\n",
      "    https://scikit-learn.org/stable/modules/preprocessing.html\n",
      "  _check_optimize_result(\"lbfgs\", opt_res)\n"
     ]
    },
    {
     "name": "stdout",
     "output_type": "stream",
     "text": [
      "predict\n",
      "(10000, 2)\n",
      "predict\n",
      "(10000, 2)\n",
      "predict\n",
      "(10000, 2)\n",
      "predict\n",
      "(10000, 2)\n",
      "predict\n",
      "(10000, 2)\n",
      "predict\n",
      "(10000, 2)\n",
      "predict\n",
      "(10000, 2)\n",
      "predict\n",
      "(10000, 2)\n",
      "predict\n",
      "(10000, 2)\n",
      "1,2 -> 0.5310035948557245\n",
      "2,2 -> 0.4306583657922306\n",
      "3,2 -> 0.418944590413394\n",
      "6,2 -> 0.2636764170737784\n",
      "7,2 -> 0.239147527579951\n",
      "4,2 -> 0.5721391218986948\n",
      "5,2 -> 0.2742002237744242\n",
      "7,1 -> 0.20762926110266072\n",
      "6,1 -> 0.2733087670752447\n"
     ]
    }
   ],
   "source": [
    "from multiprocessing import  cpu_count,current_process\n",
    "from multiprocessing.pool import ThreadPool\n",
    "import functools\n",
    "import threading\n",
    "\n",
    "# define your custom function for passing into each thread\n",
    "def create_logger(m,trial,log):\n",
    "    def logger(x):\n",
    "        print(f\"{m},{trial} -> {x}\")\n",
    "        log.append([m,trial,x])\n",
    "    return logger\n",
    "\n",
    "def calc_normalized_error(m, X_train, y_train, N_test,d, DeltaT, base_model,trial):\n",
    "    \"\"\"\n",
    "    Train given model on given dataset, afterwards create a new test set of size N_test and determine\n",
    "    the normalized Error\n",
    "    \n",
    "    uses:\n",
    "    - normalized_error_VT\n",
    "    - Flatten_Training_Sample\n",
    "    \"\"\"\n",
    "    print(f\" {m},{trial} -> thread id = {threading.current_thread().ident}\")\n",
    "    model = clone(base_model)\n",
    "    model.M = m\n",
    "    model.fit(X_train,y_train)\n",
    "    s_test = MaxCallStochasticModel(N_test, d, DeltaT)\n",
    "    s_test.generate_samples()\n",
    "    y_test = s_test.y\n",
    "    X_test = s_test.X\n",
    "    S_test = s_test.S\n",
    "\n",
    "    Flatten_X_test = Flatten_Training_Sample(X_test, lambda x : x.T.flatten())\n",
    "\n",
    "    V_T = y_test  \n",
    "    V_0 = s_test.generate_true_V(0)\n",
    "    V_0= V_0.mean()\n",
    "    y_hat = model.predict(Flatten_X_test)\n",
    "    error = normalized_error_VT(y_hat,V_T,V_0).item()\n",
    "    return error\n",
    "\n",
    "# GRIDSEARCH PARAMS\n",
    "model = SimplePaster(0,GaussianProcessRegressor(kernel))\n",
    "trials = 3\n",
    "M_grid = np.arange(1,8)\n",
    "results = []\n",
    "\n",
    "### ACTUAL GRIDSEARCH\n",
    "pool = ThreadPool(cpu_count())\n",
    "for trial in range(trials):\n",
    "    for m in M_grid:\n",
    "        print(m,trial)\n",
    "        pool.apply_async(calc_normalized_error,\n",
    "                                             args=(m,Flatten_X_1_train,y_train,N_test,1, [1/12,11/12], model,trial),\n",
    "                                            callback = create_logger(m,trial,results))\n",
    "pool.close()\n",
    "pool.join()\n",
    "\n",
    "converted_results = np.ones((len(M_grid)+1,trials))*(-1)\n",
    "for item in results:\n",
    "    converted_results[item[0],item[1]] = item[2]\n",
    "\n"
   ]
  },
  {
   "cell_type": "code",
   "execution_count": 18,
   "metadata": {
    "ExecuteTime": {
     "end_time": "2020-11-15T15:36:48.403242Z",
     "start_time": "2020-11-15T15:36:48.398262Z"
    }
   },
   "outputs": [
    {
     "name": "stdout",
     "output_type": "stream",
     "text": [
      "[[-1.         -1.         -1.        ]\n",
      " [ 0.55899989  0.54485326  0.54674926]\n",
      " [ 0.38531225  0.33559481  0.40713421]\n",
      " [ 0.40523231  0.4575702   0.44414618]\n",
      " [ 0.50339397  0.58262174  0.49286641]\n",
      " [ 0.28899772  0.28136636  0.2957769 ]\n",
      " [ 0.26754352  0.28982683  0.26176798]\n",
      " [ 0.23950294  0.25338229  0.28614326]]\n"
     ]
    }
   ],
   "source": [
    "print(converted_results)\n"
   ]
  },
  {
   "cell_type": "code",
   "execution_count": 19,
   "metadata": {
    "ExecuteTime": {
     "end_time": "2020-11-15T15:36:48.411195Z",
     "start_time": "2020-11-15T15:36:48.404238Z"
    }
   },
   "outputs": [],
   "source": [
    "masked_results= np.ma.masked_where(converted_results[1:] <= 0.0,converted_results[1:]) # some runs have been aborted every now and then -> filter them out\n",
    "means = masked_results.mean(axis=1)\n",
    "sigmas = masked_results.std(axis=1)\n"
   ]
  },
  {
   "cell_type": "code",
   "execution_count": 20,
   "metadata": {
    "ExecuteTime": {
     "end_time": "2020-11-15T15:36:48.554837Z",
     "start_time": "2020-11-15T15:36:48.412193Z"
    }
   },
   "outputs": [
    {
     "data": {
      "image/png": "[encoded data removed]",
      "text/plain": [
       "<Figure size 432x288 with 1 Axes>"
      ]
     },
     "metadata": {
      "needs_background": "light"
     },
     "output_type": "display_data"
    }
   ],
   "source": [
    "plt.errorbar(np.array(M_grid),means,sigmas,marker ='o')\n",
    "plt.title(f\"Pasting Normalized error: N_train = {N_train}, d= {d}, N_test= {N_test}\")\n",
    "plt.xlabel(\"M\")\n",
    "plt.ylabel(\"normalized error\")\n",
    "plt.show()"
   ]
  },
  {
   "cell_type": "markdown",
   "metadata": {},
   "source": [
    "**bottom line: Pasting is not interesting and is hard to quantify as it's results depend very strongly on the size of the dataset**\n"
   ]
  },
  {
   "cell_type": "code",
   "execution_count": null,
   "metadata": {},
   "outputs": [],
   "source": []
  }
 ],
 "metadata": {
  "kernelspec": {
   "display_name": "Python 3",
   "language": "python",
   "name": "python3"
  },
  "language_info": {
   "codemirror_mode": {
    "name": "ipython",
    "version": 3
   },
   "file_extension": ".py",
   "mimetype": "text/x-python",
   "name": "python",
   "nbconvert_exporter": "python",
   "pygments_lexer": "ipython3",
   "version": "3.7.5"
  },
  "toc": {
   "base_numbering": 1,
   "nav_menu": {},
   "number_sections": true,
   "sideBar": true,
   "skip_h1_title": false,
   "title_cell": "Table of Contents",
   "title_sidebar": "Contents",
   "toc_cell": false,
   "toc_position": {},
   "toc_section_display": true,
   "toc_window_display": false
  }
 },
 "nbformat": 4,
 "nbformat_minor": 2
}
