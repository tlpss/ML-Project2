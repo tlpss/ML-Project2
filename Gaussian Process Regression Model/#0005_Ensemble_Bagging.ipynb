{
  "nbformat": 4,
  "nbformat_minor": 0,
  "metadata": {
    "kernelspec": {
      "display_name": "Python 3",
      "language": "python",
      "name": "python3"
    },
    "language_info": {
      "codemirror_mode": {
        "name": "ipython",
        "version": 3
      },
      "file_extension": ".py",
      "mimetype": "text/x-python",
      "name": "python",
      "nbconvert_exporter": "python",
      "pygments_lexer": "ipython3",
      "version": "3.7.5"
    },
    "toc": {
      "base_numbering": 1,
      "nav_menu": {},
      "number_sections": true,
      "sideBar": true,
      "skip_h1_title": false,
      "title_cell": "Table of Contents",
      "title_sidebar": "Contents",
      "toc_cell": false,
      "toc_position": {},
      "toc_section_display": true,
      "toc_window_display": false
    },
    "colab": {
      "name": "#0005_Ensemble_Bagging.ipynb",
      "provenance": [],
      "toc_visible": true
    }
  },
  "cells": [
    {
      "cell_type": "markdown",
      "metadata": {
        "id": "UTAM9bg50fam"
      },
      "source": [
        "# Ensemble Learning through Bagging \n",
        "\n",
        "**bagging == Bootstrapping Aggregation** \n",
        "\n",
        "$\\implies$  hyperparam = {M = #learners, alpha = # relative trainset size}\n"
      ]
    },
    {
      "cell_type": "code",
      "metadata": {
        "ExecuteTime": {
          "end_time": "2020-11-19T19:33:18.394937Z",
          "start_time": "2020-11-19T19:33:17.042552Z"
        },
        "id": "dG7lVo470fam",
        "outputId": "d362b397-4c6e-4a32-8b02-9fce47a42e29",
        "colab": {
          "base_uri": "https://localhost:8080/"
        }
      },
      "source": [
        "!git clone https://github.com/tlpss/ML-Project2.git\n",
        "\n",
        "import numpy as np\n",
        "import random\n",
        "import matplotlib.pyplot as plt\n",
        "from sklearn.gaussian_process import GaussianProcessRegressor\n",
        "from sklearn.gaussian_process.kernels import RBF, WhiteKernel\n",
        "\n",
        "# add project root folder to path to allow import local modules\n",
        "import os\n",
        "import sys\n",
        "sys.path.append(os.path.abspath(os.path.join('./ML-Project2')))\n",
        "\n",
        "module_path = os.path.abspath(os.path.join('..'))\n",
        "if module_path not in sys.path:\n",
        "    sys.path.append(module_path)\n",
        "# import local modules\n",
        "from stochastic_models import *\n",
        "from visualisations import *\n",
        "from basic_estimator_model import *"
      ],
      "execution_count": 1,
      "outputs": [
        {
          "output_type": "stream",
          "text": [
            "Cloning into 'ML-Project2'...\n",
            "remote: Enumerating objects: 141, done.\u001b[K\n",
            "remote: Counting objects: 100% (141/141), done.\u001b[K\n",
            "remote: Compressing objects: 100% (98/98), done.\u001b[K\n",
            "remote: Total 141 (delta 64), reused 104 (delta 37), pack-reused 0\u001b[K\n",
            "Receiving objects: 100% (141/141), 793.87 KiB | 1.06 MiB/s, done.\n",
            "Resolving deltas: 100% (64/64), done.\n"
          ],
          "name": "stdout"
        }
      ]
    },
    {
      "cell_type": "markdown",
      "metadata": {
        "ExecuteTime": {
          "end_time": "2020-11-14T11:40:28.368547Z",
          "start_time": "2020-11-14T11:40:28.365554Z"
        },
        "id": "piWP2Y710fam"
      },
      "source": [
        "## Parameter Configuration"
      ]
    },
    {
      "cell_type": "code",
      "metadata": {
        "ExecuteTime": {
          "end_time": "2020-11-19T19:33:18.399924Z",
          "start_time": "2020-11-19T19:33:18.395934Z"
        },
        "id": "QVy6iI6f0fam"
      },
      "source": [
        "np.random.seed(2020)"
      ],
      "execution_count": 2,
      "outputs": []
    },
    {
      "cell_type": "code",
      "metadata": {
        "ExecuteTime": {
          "end_time": "2020-11-19T19:33:18.404911Z",
          "start_time": "2020-11-19T19:33:18.400921Z"
        },
        "id": "VgF1gYSZ0fam"
      },
      "source": [
        "N_train = 5000\n",
        "N_test = 50000\n",
        "d = 1\n",
        "T = 2"
      ],
      "execution_count": 3,
      "outputs": []
    },
    {
      "cell_type": "code",
      "metadata": {
        "ExecuteTime": {
          "end_time": "2020-11-19T19:33:18.411892Z",
          "start_time": "2020-11-19T19:33:18.406906Z"
        },
        "id": "auFqti170fam"
      },
      "source": [
        "lambda_range = (N_train*1e-9 , N_train*1e-3)\n",
        "alpha_range = (8.3*1e-5, 0.83)\n",
        "length_scale = np.sort(1/np.sqrt((2*alpha_range[0], 2*alpha_range[1])))"
      ],
      "execution_count": 4,
      "outputs": []
    },
    {
      "cell_type": "markdown",
      "metadata": {
        "ExecuteTime": {
          "end_time": "2020-11-14T11:40:29.811046Z",
          "start_time": "2020-11-14T11:40:29.808054Z"
        },
        "id": "Ibn03cnz0fam"
      },
      "source": [
        "## Create Kernel & prepare datasets"
      ]
    },
    {
      "cell_type": "code",
      "metadata": {
        "ExecuteTime": {
          "end_time": "2020-11-19T19:33:18.417877Z",
          "start_time": "2020-11-19T19:33:18.412889Z"
        },
        "id": "wjD-Ur7D0fam"
      },
      "source": [
        "#kernel\n",
        "kernel = RBF(length_scale= (length_scale[0] + length_scale[1])/2, length_scale_bounds=length_scale) \\\n",
        "        + WhiteKernel(noise_level= (lambda_range[0] + lambda_range[1])/2 , noise_level_bounds=lambda_range)\n"
      ],
      "execution_count": 5,
      "outputs": []
    },
    {
      "cell_type": "code",
      "metadata": {
        "ExecuteTime": {
          "end_time": "2020-11-19T19:33:18.432836Z",
          "start_time": "2020-11-19T19:33:18.418874Z"
        },
        "id": "eV0D444n0fan"
      },
      "source": [
        "#generate drivers\n",
        "s_train = MaxCallStochasticModel(N_train,d,[1/12,11/12])\n",
        "s_train.generate_samples()\n",
        "s_test = MaxCallStochasticModel(N_test, d, [1/12,11/12])\n",
        "s_test.generate_samples()"
      ],
      "execution_count": 6,
      "outputs": []
    },
    {
      "cell_type": "code",
      "metadata": {
        "ExecuteTime": {
          "end_time": "2020-11-19T19:33:18.441812Z",
          "start_time": "2020-11-19T19:33:18.433833Z"
        },
        "id": "mZu9AViu0fan",
        "outputId": "6aaad191-be04-4d30-e1af-cdd087ca2521",
        "colab": {
          "base_uri": "https://localhost:8080/"
        }
      },
      "source": [
        "#prepare datasets & values\n",
        "y_train = s_train.y\n",
        "X_train = s_train.X\n",
        "S_train = s_train.S\n",
        "\n",
        "y_test = s_test.y\n",
        "X_test = s_test.X\n",
        "S_test = s_test.S\n",
        "\n",
        "V_T = y_test  \n",
        "V_0 = s_test.generate_true_V(0)\n",
        "\n",
        "V_0= V_0.mean()\n",
        "V_0 # Average expected PROFIT!"
      ],
      "execution_count": 7,
      "outputs": [
        {
          "output_type": "execute_result",
          "data": {
            "text/plain": [
              "0.07935344411249907"
            ]
          },
          "metadata": {
            "tags": []
          },
          "execution_count": 7
        }
      ]
    },
    {
      "cell_type": "code",
      "metadata": {
        "ExecuteTime": {
          "end_time": "2020-11-19T19:33:18.447798Z",
          "start_time": "2020-11-19T19:33:18.443808Z"
        },
        "id": "CDNrXA_P0fan",
        "outputId": "c9af2d05-465c-4246-c9d3-bd613a403e70",
        "colab": {
          "base_uri": "https://localhost:8080/"
        }
      },
      "source": [
        "X_test.shape"
      ],
      "execution_count": 8,
      "outputs": [
        {
          "output_type": "execute_result",
          "data": {
            "text/plain": [
              "(50000, 1, 2)"
            ]
          },
          "metadata": {
            "tags": []
          },
          "execution_count": 8
        }
      ]
    },
    {
      "cell_type": "markdown",
      "metadata": {
        "ExecuteTime": {
          "end_time": "2020-11-14T11:40:33.048462Z",
          "start_time": "2020-11-14T11:40:33.045471Z"
        },
        "id": "k832NbtC0fao"
      },
      "source": [
        "## Create Custom Models\n",
        "(to have more control of splitting etc)"
      ]
    },
    {
      "cell_type": "code",
      "metadata": {
        "ExecuteTime": {
          "end_time": "2020-11-19T19:33:18.456772Z",
          "start_time": "2020-11-19T19:33:18.449791Z"
        },
        "id": "OcPQ76n_0fao",
        "outputId": "f73b0528-fb0b-435c-f3ce-8a967a7a36aa",
        "colab": {
          "base_uri": "https://localhost:8080/"
        }
      },
      "source": [
        "from aggregating.models import SimpleBagger\n",
        "s = SimpleBagger(11,0.5,None)\n",
        "s.get_params()"
      ],
      "execution_count": 9,
      "outputs": [
        {
          "output_type": "execute_result",
          "data": {
            "text/plain": [
              "{'M': 11, 'predictor': None, 'train_size_alpha': 0.5}"
            ]
          },
          "metadata": {
            "tags": []
          },
          "execution_count": 9
        }
      ]
    },
    {
      "cell_type": "markdown",
      "metadata": {
        "id": "iqONM3sj0fao"
      },
      "source": [
        "## GridSearch\n",
        "\n",
        "nB: cannot use Scikit gridsearch as it performs CV and we want to have a different test set of a larger size!"
      ]
    },
    {
      "cell_type": "code",
      "metadata": {
        "ExecuteTime": {
          "end_time": "2020-11-15T17:27:39.347302Z",
          "start_time": "2020-11-15T17:27:39.344239Z"
        },
        "id": "a2BFgvcD0fao",
        "outputId": "53a3408c-73c1-4f6f-ae0a-a9911c8ef65b",
        "colab": {
          "base_uri": "https://localhost:8080/"
        }
      },
      "source": [
        "#reference:\n",
        "from aggregating.gridsearch import create_logger, evaluate_model\n",
        "from aggregating.utils import flatten_X\n",
        "\n",
        "hyperparams= {'M':1, 'train_size_alpha':1.0}\n",
        "model = GaussianProcessRegressor(kernel)\n",
        "reference_error = evaluate_model(model,hyperparams,flatten_X(X_train),y_train,1, [1/12,11/12],3,N_test,MaxCallStochasticModel)\n",
        "print(reference_error)"
      ],
      "execution_count": 14,
      "outputs": [
        {
          "output_type": "stream",
          "text": [
            " {'M': 1, 'train_size_alpha': 1.0} -> thread id = 139975247869824\n",
            "{'M': 1, 'train_size_alpha': 1.0} , 0 -> 0.12082437013741118\n",
            "{'M': 1, 'train_size_alpha': 1.0} , 1 -> 0.143336782069863\n",
            "{'M': 1, 'train_size_alpha': 1.0} , 2 -> 0.17212503138499305\n",
            "{'M': 1, 'train_size_alpha': 1.0} -> [0.12082437013741118, 0.143336782069863, 0.17212503138499305]\n",
            "[0.12082437013741118, 0.143336782069863, 0.17212503138499305]\n"
          ],
          "name": "stdout"
        }
      ]
    },
    {
      "cell_type": "code",
      "metadata": {
        "id": "1jeiJMQMezlk",
        "outputId": "a13753bc-e405-4be7-935a-68ddb8de7cb9",
        "colab": {
          "base_uri": "https://localhost:8080/"
        }
      },
      "source": [
        "reference_error_mean = sum(reference_error)/len(reference_error)\n",
        "print(reference_error_mean)"
      ],
      "execution_count": 23,
      "outputs": [
        {
          "output_type": "stream",
          "text": [
            "0.14542872786408909\n"
          ],
          "name": "stdout"
        }
      ]
    },
    {
      "cell_type": "code",
      "metadata": {
        "ExecuteTime": {
          "start_time": "2020-11-19T19:33:17.063Z"
        },
        "id": "AlUGmpIc0fao",
        "outputId": "10325329-ca6f-4189-ab9a-af65828603f3",
        "colab": {
          "base_uri": "https://localhost:8080/"
        }
      },
      "source": [
        "from multiprocessing import  cpu_count,current_process\n",
        "from multiprocessing.pool import ThreadPool\n",
        "import functools\n",
        "import threading\n",
        "\n",
        "from aggregating.gridsearch import create_logger, evaluate_model\n",
        "from aggregating.utils import flatten_X\n",
        "\n",
        "# GRIDSEARCH PARAMS\n",
        "model = SimpleBagger(0,0,GaussianProcessRegressor(kernel,copy_X_train=False))\n",
        "trials = 3\n",
        "M_grid = [5,7,9,11,13]\n",
        "alpha_grid = [0.01,0.05,0.1,0.3,0.5]\n",
        "results = []\n",
        "print(cpu_count())\n",
        "### ACTUAL GRIDSEARCH\n",
        "pool = ThreadPool(2) #avoid allocation issues\n",
        "for m in M_grid:\n",
        "    for alpha in alpha_grid:\n",
        "        hyperparams= {'M':m, 'train_size_alpha':alpha}\n",
        "        pool.apply_async(evaluate_model, args=(model,hyperparams,flatten_X(X_train),y_train,1, [1/12,11/12],trials,N_test,MaxCallStochasticModel),callback = create_logger(hyperparams,results))\n",
        "pool.close()\n",
        "pool.join()\n",
        "\n"
      ],
      "execution_count": 16,
      "outputs": [
        {
          "output_type": "stream",
          "text": [
            "2\n",
            " {'M': 5, 'train_size_alpha': 0.01} -> thread id = 139974533728000\n",
            "fit\n",
            "(5000, 2)\n",
            " {'M': 5, 'train_size_alpha': 0.05} -> thread id = 139974525335296\n",
            "fit\n",
            "(5000, 2)\n",
            "predict\n",
            "(50000, 2)\n",
            "predict\n",
            "(50000, 2)\n",
            "{'M': 5, 'train_size_alpha': 0.01} , 0 -> 0.2890129423321955\n",
            "predict\n",
            "(50000, 2)\n",
            "{'M': 5, 'train_size_alpha': 0.01} , 1 -> 0.2838776048049625\n",
            "predict\n",
            "(50000, 2)\n",
            "{'M': 5, 'train_size_alpha': 0.01} , 2 -> 0.3073243572374536\n",
            "{'M': 5, 'train_size_alpha': 0.01} -> [0.2890129423321955, 0.2838776048049625, 0.3073243572374536]\n",
            " {'M': 5, 'train_size_alpha': 0.1} -> thread id = 139974533728000logger {'M': 5, 'train_size_alpha': 0.01}, -> [0.2890129423321955, 0.2838776048049625, 0.3073243572374536]\n",
            "\n",
            "fit\n",
            "(5000, 2)\n",
            "{'M': 5, 'train_size_alpha': 0.05} , 0 -> 0.19802184713242416\n",
            "predict\n",
            "(50000, 2)\n",
            "predict\n",
            "(50000, 2)\n",
            "{'M': 5, 'train_size_alpha': 0.05} , 1 -> 0.19031140578587086\n",
            "predict\n",
            "(50000, 2)\n",
            "{'M': 5, 'train_size_alpha': 0.05} , 2 -> 0.19036677146001882\n",
            "{'M': 5, 'train_size_alpha': 0.05} -> [0.19802184713242416, 0.19031140578587086, 0.19036677146001882]\n",
            " {'M': 5, 'train_size_alpha': 0.3} -> thread id = 139974525335296logger {'M': 5, 'train_size_alpha': 0.05}, -> [0.19802184713242416, 0.19031140578587086, 0.19036677146001882]\n",
            "\n",
            "fit\n",
            "(5000, 2)\n",
            "{'M': 5, 'train_size_alpha': 0.1} , 0 -> 0.28322856265916463\n",
            "predict\n",
            "(50000, 2)\n",
            "{'M': 5, 'train_size_alpha': 0.1} , 1 -> 0.29700226836606153\n",
            "predict\n",
            "(50000, 2)\n",
            "predict\n",
            "(50000, 2)\n",
            "{'M': 5, 'train_size_alpha': 0.1} , 2 -> 0.32301660765043316\n",
            "{'M': 5, 'train_size_alpha': 0.1} -> [0.28322856265916463, 0.29700226836606153, 0.32301660765043316]\n",
            " {'M': 5, 'train_size_alpha': 0.5} -> thread id = 139974533728000\n",
            "logger {'M': 5, 'train_size_alpha': 0.1}, -> [0.28322856265916463, 0.29700226836606153, 0.32301660765043316]\n",
            "fit\n",
            "(5000, 2)\n",
            "{'M': 5, 'train_size_alpha': 0.3} , 0 -> 0.11643802516311454\n",
            "predict\n",
            "(50000, 2)\n",
            "{'M': 5, 'train_size_alpha': 0.3} , 1 -> 0.13391743601401662\n",
            "predict\n",
            "(50000, 2)\n",
            "predict\n",
            "(50000, 2)\n",
            "{'M': 5, 'train_size_alpha': 0.3} , 2 -> 0.1490345516218128\n",
            "{'M': 5, 'train_size_alpha': 0.3} -> [0.11643802516311454, 0.13391743601401662, 0.1490345516218128]\n",
            " {'M': 7, 'train_size_alpha': 0.01} -> thread id = 139974525335296logger {'M': 5, 'train_size_alpha': 0.3}, -> [0.11643802516311454, 0.13391743601401662, 0.1490345516218128]\n",
            "\n",
            "fit\n",
            "(5000, 2)\n",
            "predict\n",
            "(50000, 2)\n",
            "{'M': 7, 'train_size_alpha': 0.01} , 0 -> 0.2800065252490135\n",
            "predict\n",
            "(50000, 2)\n",
            "{'M': 7, 'train_size_alpha': 0.01} , 1 -> 0.2796209598047984\n",
            "predict\n",
            "(50000, 2)\n",
            "{'M': 7, 'train_size_alpha': 0.01} , 2 -> 0.2833029583186165\n",
            "{'M': 7, 'train_size_alpha': 0.01} -> [0.2800065252490135, 0.2796209598047984, 0.2833029583186165]\n",
            " {'M': 7, 'train_size_alpha': 0.05} -> thread id = 139974525335296logger {'M': 7, 'train_size_alpha': 0.01}, -> [0.2800065252490135, 0.2796209598047984, 0.2833029583186165]\n",
            "\n",
            "fit\n",
            "(5000, 2)\n",
            "predict\n",
            "(50000, 2)\n",
            "{'M': 7, 'train_size_alpha': 0.05} , 0 -> 0.23405782249844362\n",
            "predict\n",
            "(50000, 2)\n",
            "{'M': 7, 'train_size_alpha': 0.05} , 1 -> 0.21556029782964695\n",
            "predict\n",
            "(50000, 2)\n",
            "{'M': 5, 'train_size_alpha': 0.5} , 0 -> 0.18479491389451103\n",
            "predict\n",
            "(50000, 2)\n",
            "{'M': 7, 'train_size_alpha': 0.05} , 2 -> 0.2043707660251198\n",
            "{'M': 7, 'train_size_alpha': 0.05} -> [0.23405782249844362, 0.21556029782964695, 0.2043707660251198]\n",
            " {'M': 7, 'train_size_alpha': 0.1} -> thread id = 139974525335296logger {'M': 7, 'train_size_alpha': 0.05}, -> [0.23405782249844362, 0.21556029782964695, 0.2043707660251198]\n",
            "\n",
            "fit\n",
            "(5000, 2)\n",
            "predict\n",
            "(50000, 2)\n",
            "{'M': 7, 'train_size_alpha': 0.1} , 0 -> 0.20085903131031319\n",
            "predict\n",
            "(50000, 2)\n",
            "{'M': 7, 'train_size_alpha': 0.1} , 1 -> 0.1941008246990516\n",
            "predict\n",
            "(50000, 2)\n",
            "{'M': 5, 'train_size_alpha': 0.5} , 1 -> 0.12651148887628724\n",
            "predict\n",
            "(50000, 2)\n",
            "{'M': 7, 'train_size_alpha': 0.1} , 2 -> 0.16356729365214592\n",
            "{'M': 7, 'train_size_alpha': 0.1} -> [0.20085903131031319, 0.1941008246990516, 0.16356729365214592]\n",
            " {'M': 7, 'train_size_alpha': 0.3} -> thread id = 139974525335296logger {'M': 7, 'train_size_alpha': 0.1}, -> [0.20085903131031319, 0.1941008246990516, 0.16356729365214592]\n",
            "\n",
            "fit\n",
            "(5000, 2)\n",
            "predict\n",
            "(50000, 2)\n",
            "{'M': 5, 'train_size_alpha': 0.5} , 2 -> 0.13281616406360008\n",
            "{'M': 5, 'train_size_alpha': 0.5} -> [0.18479491389451103, 0.12651148887628724, 0.13281616406360008]\n",
            " {'M': 7, 'train_size_alpha': 0.5} -> thread id = 139974533728000logger {'M': 5, 'train_size_alpha': 0.5}, -> [0.18479491389451103, 0.12651148887628724, 0.13281616406360008]\n",
            "\n",
            "fit\n",
            "(5000, 2)\n",
            "{'M': 7, 'train_size_alpha': 0.3} , 0 -> 0.1258579613029221\n",
            "predict\n",
            "(50000, 2)\n",
            "{'M': 7, 'train_size_alpha': 0.3} , 1 -> 0.13839454024634978\n",
            "predict\n",
            "(50000, 2)\n",
            "predict\n",
            "(50000, 2)\n",
            "{'M': 7, 'train_size_alpha': 0.3} , 2 -> 0.09782251080932804\n",
            "{'M': 7, 'train_size_alpha': 0.3} -> [0.1258579613029221, 0.13839454024634978, 0.09782251080932804]\n",
            " {'M': 9, 'train_size_alpha': 0.01} -> thread id = 139974525335296logger {'M': 7, 'train_size_alpha': 0.3}, -> [0.1258579613029221, 0.13839454024634978, 0.09782251080932804]\n",
            "\n",
            "fit\n",
            "(5000, 2)\n",
            "predict\n",
            "(50000, 2)\n",
            "{'M': 9, 'train_size_alpha': 0.01} , 0 -> 0.29850238830255477\n",
            "predict\n",
            "(50000, 2)\n",
            "{'M': 9, 'train_size_alpha': 0.01} , 1 -> 0.28243284915948424\n",
            "predict\n",
            "(50000, 2)\n",
            "{'M': 9, 'train_size_alpha': 0.01} , 2 -> 0.27440717659744834\n",
            "{'M': 9, 'train_size_alpha': 0.01} -> [0.29850238830255477, 0.28243284915948424, 0.27440717659744834]\n",
            " {'M': 9, 'train_size_alpha': 0.05} -> thread id = 139974525335296logger {'M': 9, 'train_size_alpha': 0.01}, -> [0.29850238830255477, 0.28243284915948424, 0.27440717659744834]\n",
            "\n",
            "fit\n",
            "(5000, 2)\n",
            "predict\n",
            "(50000, 2)\n",
            "{'M': 9, 'train_size_alpha': 0.05} , 0 -> 0.1897003508311039\n",
            "predict\n",
            "(50000, 2)\n",
            "{'M': 9, 'train_size_alpha': 0.05} , 1 -> 0.1883224889252994\n",
            "predict\n",
            "(50000, 2)\n",
            "{'M': 7, 'train_size_alpha': 0.5} , 0 -> 0.12731370583490648\n",
            "predict\n",
            "(50000, 2)\n",
            "{'M': 9, 'train_size_alpha': 0.05} , 2 -> 0.19616428855061974\n",
            "{'M': 9, 'train_size_alpha': 0.05} -> [0.1897003508311039, 0.1883224889252994, 0.19616428855061974]\n",
            " {'M': 9, 'train_size_alpha': 0.1} -> thread id = 139974525335296logger {'M': 9, 'train_size_alpha': 0.05}, -> [0.1897003508311039, 0.1883224889252994, 0.19616428855061974]\n",
            "\n",
            "fit\n",
            "(5000, 2)\n",
            "predict\n",
            "(50000, 2)\n",
            "{'M': 9, 'train_size_alpha': 0.1} , 0 -> 0.24843985373119112\n",
            "predict\n",
            "(50000, 2)\n",
            "{'M': 9, 'train_size_alpha': 0.1} , 1 -> 0.2667202732449569\n",
            "predict\n",
            "(50000, 2)\n",
            "{'M': 9, 'train_size_alpha': 0.1} , 2 -> 0.27689980511065043\n",
            "{'M': 9, 'train_size_alpha': 0.1} -> [0.24843985373119112, 0.2667202732449569, 0.27689980511065043]\n",
            " {'M': 9, 'train_size_alpha': 0.3} -> thread id = 139974525335296logger {'M': 9, 'train_size_alpha': 0.1}, -> [0.24843985373119112, 0.2667202732449569, 0.27689980511065043]\n",
            "\n",
            "fit\n",
            "(5000, 2)\n",
            "{'M': 7, 'train_size_alpha': 0.5} , 1 -> 0.14800251534853628\n",
            "predict\n",
            "(50000, 2)\n",
            "predict\n",
            "(50000, 2)\n",
            "{'M': 7, 'train_size_alpha': 0.5} , 2 -> 0.16646752466555675\n",
            "{'M': 7, 'train_size_alpha': 0.5} -> [0.12731370583490648, 0.14800251534853628, 0.16646752466555675]\n",
            " {'M': 9, 'train_size_alpha': 0.5} -> thread id = 139974533728000logger {'M': 7, 'train_size_alpha': 0.5}, -> [0.12731370583490648, 0.14800251534853628, 0.16646752466555675]\n",
            "\n",
            "fit\n",
            "(5000, 2)\n",
            "{'M': 9, 'train_size_alpha': 0.3} , 0 -> 0.15037722997788522\n",
            "predict\n",
            "(50000, 2)\n",
            "{'M': 9, 'train_size_alpha': 0.3} , 1 -> 0.13549568961569514\n",
            "predict\n",
            "(50000, 2)\n",
            "predict\n",
            "(50000, 2)\n",
            "{'M': 9, 'train_size_alpha': 0.3} , 2 -> 0.16829044887928418\n",
            "{'M': 9, 'train_size_alpha': 0.3} -> [0.15037722997788522, 0.13549568961569514, 0.16829044887928418]\n",
            " {'M': 11, 'train_size_alpha': 0.01} -> thread id = 139974525335296logger {'M': 9, 'train_size_alpha': 0.3}, -> [0.15037722997788522, 0.13549568961569514, 0.16829044887928418]\n",
            "\n",
            "fit\n",
            "(5000, 2)\n",
            "predict\n",
            "(50000, 2)\n",
            "{'M': 11, 'train_size_alpha': 0.01} , 0 -> 0.2936937534014786\n",
            "predict\n",
            "(50000, 2)\n",
            "{'M': 11, 'train_size_alpha': 0.01} , 1 -> 0.30112851171231436\n",
            "predict\n",
            "(50000, 2)\n",
            "{'M': 11, 'train_size_alpha': 0.01} , 2 -> 0.30580039208166043\n",
            "{'M': 11, 'train_size_alpha': 0.01} -> [0.2936937534014786, 0.30112851171231436, 0.30580039208166043]\n",
            " {'M': 11, 'train_size_alpha': 0.05} -> thread id = 139974525335296logger {'M': 11, 'train_size_alpha': 0.01}, -> [0.2936937534014786, 0.30112851171231436, 0.30580039208166043]\n",
            "\n",
            "fit\n",
            "(5000, 2)\n",
            "predict\n",
            "(50000, 2)\n",
            "{'M': 11, 'train_size_alpha': 0.05} , 0 -> 0.20340547834577122\n",
            "predict\n",
            "(50000, 2)\n",
            "{'M': 11, 'train_size_alpha': 0.05} , 1 -> 0.20629207285019432\n",
            "predict\n",
            "(50000, 2)\n",
            "{'M': 11, 'train_size_alpha': 0.05} , 2 -> 0.18871756774235454\n",
            "{'M': 11, 'train_size_alpha': 0.05} -> [0.20340547834577122, 0.20629207285019432, 0.18871756774235454]\n",
            " {'M': 11, 'train_size_alpha': 0.1} -> thread id = 139974525335296logger {'M': 11, 'train_size_alpha': 0.05}, -> [0.20340547834577122, 0.20629207285019432, 0.18871756774235454]\n",
            "\n",
            "fit\n",
            "(5000, 2)\n"
          ],
          "name": "stdout"
        },
        {
          "output_type": "stream",
          "text": [
            "/usr/local/lib/python3.6/dist-packages/sklearn/gaussian_process/_gpr.py:494: ConvergenceWarning: lbfgs failed to converge (status=2):\n",
            "ABNORMAL_TERMINATION_IN_LNSRCH.\n",
            "\n",
            "Increase the number of iterations (max_iter) or scale the data as shown in:\n",
            "    https://scikit-learn.org/stable/modules/preprocessing.html\n",
            "  _check_optimize_result(\"lbfgs\", opt_res)\n"
          ],
          "name": "stderr"
        },
        {
          "output_type": "stream",
          "text": [
            "predict\n",
            "(50000, 2)\n",
            "{'M': 9, 'train_size_alpha': 0.5} , 0 -> 0.17532315432647594\n",
            "predict\n",
            "(50000, 2)\n",
            "{'M': 11, 'train_size_alpha': 0.1} , 0 -> 0.24561055332309117\n",
            "predict\n",
            "(50000, 2)\n",
            "{'M': 11, 'train_size_alpha': 0.1} , 1 -> 0.24098015398727834\n",
            "predict\n",
            "(50000, 2)\n",
            "{'M': 11, 'train_size_alpha': 0.1} , 2 -> 0.24972432718875792\n",
            "{'M': 11, 'train_size_alpha': 0.1} -> [0.24561055332309117, 0.24098015398727834, 0.24972432718875792]\n",
            " {'M': 11, 'train_size_alpha': 0.3} -> thread id = 139974525335296logger {'M': 11, 'train_size_alpha': 0.1}, -> [0.24561055332309117, 0.24098015398727834, 0.24972432718875792]\n",
            "\n",
            "fit\n",
            "(5000, 2)\n",
            "predict\n",
            "(50000, 2)\n",
            "{'M': 9, 'train_size_alpha': 0.5} , 1 -> 0.18696460960183287\n",
            "predict\n",
            "(50000, 2)\n",
            "{'M': 11, 'train_size_alpha': 0.3} , 0 -> 0.10712613766630205\n",
            "predict\n",
            "(50000, 2)\n",
            "{'M': 9, 'train_size_alpha': 0.5} , 2 -> 0.18029456489687473\n",
            "{'M': 9, 'train_size_alpha': 0.5} -> [0.17532315432647594, 0.18696460960183287, 0.18029456489687473]\n",
            " {'M': 11, 'train_size_alpha': 0.5} -> thread id = 139974533728000logger {'M': 9, 'train_size_alpha': 0.5}, -> [0.17532315432647594, 0.18696460960183287, 0.18029456489687473]\n",
            "\n",
            "fit\n",
            "(5000, 2)\n",
            "{'M': 11, 'train_size_alpha': 0.3} , 1 -> 0.1252574521982034\n",
            "predict\n",
            "(50000, 2)\n",
            "{'M': 11, 'train_size_alpha': 0.3} , 2 -> 0.12251174201843965\n",
            "{'M': 11, 'train_size_alpha': 0.3} -> [0.10712613766630205, 0.1252574521982034, 0.12251174201843965]\n",
            " {'M': 13, 'train_size_alpha': 0.01} -> thread id = 139974525335296logger {'M': 11, 'train_size_alpha': 0.3}, -> [0.10712613766630205, 0.1252574521982034, 0.12251174201843965]\n",
            "\n",
            "fit\n",
            "(5000, 2)\n",
            "predict\n",
            "(50000, 2)\n",
            "{'M': 13, 'train_size_alpha': 0.01} , 0 -> 0.29092146309476313\n",
            "predict\n",
            "(50000, 2)\n",
            "{'M': 13, 'train_size_alpha': 0.01} , 1 -> 0.2812911196656629\n",
            "predict\n",
            "(50000, 2)\n",
            "{'M': 13, 'train_size_alpha': 0.01} , 2 -> 0.291753865674069\n",
            "{'M': 13, 'train_size_alpha': 0.01} -> [0.29092146309476313, 0.2812911196656629, 0.291753865674069]\n",
            " {'M': 13, 'train_size_alpha': 0.05} -> thread id = 139974525335296logger {'M': 13, 'train_size_alpha': 0.01}, -> [0.29092146309476313, 0.2812911196656629, 0.291753865674069]\n",
            "\n",
            "fit\n",
            "(5000, 2)\n",
            "predict\n",
            "(50000, 2)\n",
            "predict\n",
            "(50000, 2)\n",
            "{'M': 13, 'train_size_alpha': 0.05} , 0 -> 0.17874339794125915\n",
            "predict\n",
            "(50000, 2)\n",
            "{'M': 13, 'train_size_alpha': 0.05} , 1 -> 0.17604639663263036\n",
            "predict\n",
            "(50000, 2)\n",
            "{'M': 13, 'train_size_alpha': 0.05} , 2 -> 0.18466399942119996\n",
            "{'M': 13, 'train_size_alpha': 0.05} -> [0.17874339794125915, 0.17604639663263036, 0.18466399942119996]\n",
            " {'M': 13, 'train_size_alpha': 0.1} -> thread id = 139974525335296logger {'M': 13, 'train_size_alpha': 0.05}, -> [0.17874339794125915, 0.17604639663263036, 0.18466399942119996]\n",
            "\n",
            "fit\n",
            "(5000, 2)\n",
            "predict\n",
            "(50000, 2)\n",
            "{'M': 13, 'train_size_alpha': 0.1} , 0 -> 0.2507484441392505\n",
            "predict\n",
            "(50000, 2)\n",
            "{'M': 13, 'train_size_alpha': 0.1} , 1 -> 0.2028094825145066\n",
            "predict\n",
            "(50000, 2)\n",
            "{'M': 11, 'train_size_alpha': 0.5} , 0 -> 0.1614042389843909\n",
            "predict\n",
            "(50000, 2)\n",
            "{'M': 13, 'train_size_alpha': 0.1} , 2 -> 0.2581278593084411\n",
            "{'M': 13, 'train_size_alpha': 0.1} -> [0.2507484441392505, 0.2028094825145066, 0.2581278593084411]\n",
            " {'M': 13, 'train_size_alpha': 0.3} -> thread id = 139974525335296\n",
            "fit\n",
            "(5000, 2)\n",
            "logger {'M': 13, 'train_size_alpha': 0.1}, -> [0.2507484441392505, 0.2028094825145066, 0.2581278593084411]\n",
            "predict\n",
            "(50000, 2)\n",
            "{'M': 11, 'train_size_alpha': 0.5} , 1 -> 0.09808040293366652\n",
            "predict\n",
            "(50000, 2)\n",
            "{'M': 13, 'train_size_alpha': 0.3} , 0 -> 0.11189448553096364\n",
            "predict\n",
            "(50000, 2)\n",
            "{'M': 11, 'train_size_alpha': 0.5} , 2 -> 0.1638139017214734\n",
            "{'M': 11, 'train_size_alpha': 0.5} -> [0.1614042389843909, 0.09808040293366652, 0.1638139017214734]\n",
            " {'M': 13, 'train_size_alpha': 0.5} -> thread id = 139974533728000logger {'M': 11, 'train_size_alpha': 0.5}, -> [0.1614042389843909, 0.09808040293366652, 0.1638139017214734]\n",
            "\n",
            "fit\n",
            "(5000, 2)\n",
            "{'M': 13, 'train_size_alpha': 0.3} , 1 -> 0.1353327646195751\n",
            "predict\n",
            "(50000, 2)\n",
            "{'M': 13, 'train_size_alpha': 0.3} , 2 -> 0.152426224662567\n",
            "{'M': 13, 'train_size_alpha': 0.3} -> [0.11189448553096364, 0.1353327646195751, 0.152426224662567]\n",
            "logger {'M': 13, 'train_size_alpha': 0.3}, -> [0.11189448553096364, 0.1353327646195751, 0.152426224662567]\n",
            "predict\n",
            "(50000, 2)\n",
            "{'M': 13, 'train_size_alpha': 0.5} , 0 -> 0.15829748607427513\n",
            "predict\n",
            "(50000, 2)\n",
            "{'M': 13, 'train_size_alpha': 0.5} , 1 -> 0.15787095901597253\n",
            "predict\n",
            "(50000, 2)\n",
            "{'M': 13, 'train_size_alpha': 0.5} , 2 -> 0.16798277446332735\n",
            "{'M': 13, 'train_size_alpha': 0.5} -> [0.15829748607427513, 0.15787095901597253, 0.16798277446332735]\n",
            "logger {'M': 13, 'train_size_alpha': 0.5}, -> [0.15829748607427513, 0.15787095901597253, 0.16798277446332735]\n"
          ],
          "name": "stdout"
        }
      ]
    },
    {
      "cell_type": "code",
      "metadata": {
        "ExecuteTime": {
          "start_time": "2020-11-19T19:33:17.065Z"
        },
        "id": "DBdsjTDM0fao",
        "outputId": "2ee47f40-813d-4664-d6d3-c7ffd518ccf9",
        "colab": {
          "base_uri": "https://localhost:8080/"
        }
      },
      "source": [
        "converted_results = np.ones((len(M_grid),len(alpha_grid),trials))*(-1)\n",
        "for item in results:\n",
        "    print(item)\n",
        "    converted_results[M_grid.index(item[0]),alpha_grid.index(item[1])] = item[2]\n",
        "\n",
        "print(converted_results.shape)\n",
        "print(converted_results)"
      ],
      "execution_count": 17,
      "outputs": [
        {
          "output_type": "stream",
          "text": [
            "[5, 0.01, [0.2890129423321955, 0.2838776048049625, 0.3073243572374536]]\n",
            "[5, 0.05, [0.19802184713242416, 0.19031140578587086, 0.19036677146001882]]\n",
            "[5, 0.1, [0.28322856265916463, 0.29700226836606153, 0.32301660765043316]]\n",
            "[5, 0.3, [0.11643802516311454, 0.13391743601401662, 0.1490345516218128]]\n",
            "[7, 0.01, [0.2800065252490135, 0.2796209598047984, 0.2833029583186165]]\n",
            "[7, 0.05, [0.23405782249844362, 0.21556029782964695, 0.2043707660251198]]\n",
            "[7, 0.1, [0.20085903131031319, 0.1941008246990516, 0.16356729365214592]]\n",
            "[5, 0.5, [0.18479491389451103, 0.12651148887628724, 0.13281616406360008]]\n",
            "[7, 0.3, [0.1258579613029221, 0.13839454024634978, 0.09782251080932804]]\n",
            "[9, 0.01, [0.29850238830255477, 0.28243284915948424, 0.27440717659744834]]\n",
            "[9, 0.05, [0.1897003508311039, 0.1883224889252994, 0.19616428855061974]]\n",
            "[9, 0.1, [0.24843985373119112, 0.2667202732449569, 0.27689980511065043]]\n",
            "[7, 0.5, [0.12731370583490648, 0.14800251534853628, 0.16646752466555675]]\n",
            "[9, 0.3, [0.15037722997788522, 0.13549568961569514, 0.16829044887928418]]\n",
            "[11, 0.01, [0.2936937534014786, 0.30112851171231436, 0.30580039208166043]]\n",
            "[11, 0.05, [0.20340547834577122, 0.20629207285019432, 0.18871756774235454]]\n",
            "[11, 0.1, [0.24561055332309117, 0.24098015398727834, 0.24972432718875792]]\n",
            "[9, 0.5, [0.17532315432647594, 0.18696460960183287, 0.18029456489687473]]\n",
            "[11, 0.3, [0.10712613766630205, 0.1252574521982034, 0.12251174201843965]]\n",
            "[13, 0.01, [0.29092146309476313, 0.2812911196656629, 0.291753865674069]]\n",
            "[13, 0.05, [0.17874339794125915, 0.17604639663263036, 0.18466399942119996]]\n",
            "[13, 0.1, [0.2507484441392505, 0.2028094825145066, 0.2581278593084411]]\n",
            "[11, 0.5, [0.1614042389843909, 0.09808040293366652, 0.1638139017214734]]\n",
            "[13, 0.3, [0.11189448553096364, 0.1353327646195751, 0.152426224662567]]\n",
            "[13, 0.5, [0.15829748607427513, 0.15787095901597253, 0.16798277446332735]]\n",
            "(5, 5, 3)\n",
            "[[[0.28901294 0.2838776  0.30732436]\n",
            "  [0.19802185 0.19031141 0.19036677]\n",
            "  [0.28322856 0.29700227 0.32301661]\n",
            "  [0.11643803 0.13391744 0.14903455]\n",
            "  [0.18479491 0.12651149 0.13281616]]\n",
            "\n",
            " [[0.28000653 0.27962096 0.28330296]\n",
            "  [0.23405782 0.2155603  0.20437077]\n",
            "  [0.20085903 0.19410082 0.16356729]\n",
            "  [0.12585796 0.13839454 0.09782251]\n",
            "  [0.12731371 0.14800252 0.16646752]]\n",
            "\n",
            " [[0.29850239 0.28243285 0.27440718]\n",
            "  [0.18970035 0.18832249 0.19616429]\n",
            "  [0.24843985 0.26672027 0.27689981]\n",
            "  [0.15037723 0.13549569 0.16829045]\n",
            "  [0.17532315 0.18696461 0.18029456]]\n",
            "\n",
            " [[0.29369375 0.30112851 0.30580039]\n",
            "  [0.20340548 0.20629207 0.18871757]\n",
            "  [0.24561055 0.24098015 0.24972433]\n",
            "  [0.10712614 0.12525745 0.12251174]\n",
            "  [0.16140424 0.0980804  0.1638139 ]]\n",
            "\n",
            " [[0.29092146 0.28129112 0.29175387]\n",
            "  [0.1787434  0.1760464  0.184664  ]\n",
            "  [0.25074844 0.20280948 0.25812786]\n",
            "  [0.11189449 0.13533276 0.15242622]\n",
            "  [0.15829749 0.15787096 0.16798277]]]\n"
          ],
          "name": "stdout"
        }
      ]
    },
    {
      "cell_type": "code",
      "metadata": {
        "ExecuteTime": {
          "start_time": "2020-11-19T19:33:17.068Z"
        },
        "id": "rPHgBIns0fao",
        "outputId": "089a0dd0-1350-4772-b793-4a21a9bdc6f8",
        "colab": {
          "base_uri": "https://localhost:8080/"
        }
      },
      "source": [
        "masked_results= np.ma.masked_where(converted_results <= 0.0,converted_results) # some runs have been aborted every now and then -> filter them out\n",
        "means = masked_results.mean(axis=2)\n",
        "sigmas = masked_results.std(axis=2)\n",
        "means.shape"
      ],
      "execution_count": 18,
      "outputs": [
        {
          "output_type": "execute_result",
          "data": {
            "text/plain": [
              "(5, 5)"
            ]
          },
          "metadata": {
            "tags": []
          },
          "execution_count": 18
        }
      ]
    },
    {
      "cell_type": "code",
      "metadata": {
        "ExecuteTime": {
          "start_time": "2020-11-19T19:33:17.070Z"
        },
        "id": "sGxPSAhY0fao",
        "outputId": "8fa3daa7-12c4-4414-b58a-81cef34699bd",
        "colab": {
          "base_uri": "https://localhost:8080/",
          "height": 295
        }
      },
      "source": [
        "plt.hlines(reference_error_mean,xmin=M_grid[0],xmax=M_grid[-1],linestyles='dashed',label=\"reference error\")\n",
        "for i in range(len(alpha_grid)):\n",
        "    plt.errorbar(np.array(M_grid),means[:,i],sigmas[:,i],marker ='o',label = f\"alpha = {alpha_grid[i]}\")\n",
        "plt.title(f\"Bagging Normalized error: N_train = {N_train}, d= {d}, N_test= {N_test}\")\n",
        "plt.xlabel(\"M\")\n",
        "plt.xticks(M_grid)\n",
        "plt.ylabel(\"normalized error\")\n",
        "plt.legend(loc='upper right')\n",
        "plt.show()"
      ],
      "execution_count": 29,
      "outputs": [
        {
          "output_type": "display_data",
          "data": {
            "image/png": "[encoded data removed]",
            "text/plain": [
              "<Figure size 432x288 with 1 Axes>"
            ]
          },
          "metadata": {
            "tags": [],
            "needs_background": "light"
          }
        }
      ]
    },
    {
      "cell_type": "markdown",
      "metadata": {
        "id": "I7Welij90fao"
      },
      "source": [
        "\n"
      ]
    },
    {
      "cell_type": "markdown",
      "metadata": {
        "ExecuteTime": {
          "end_time": "2020-11-15T17:54:08.608678Z",
          "start_time": "2020-11-15T17:54:08.603664Z"
        },
        "id": "1rzYa8Tb0fao"
      },
      "source": [
        "## Store results"
      ]
    },
    {
      "cell_type": "code",
      "metadata": {
        "ExecuteTime": {
          "start_time": "2020-11-19T19:33:17.072Z"
        },
        "id": "D6CwhCiR0fao"
      },
      "source": [
        "res_dict = {'N_train': N_train, 'N_test': N_test,'mgrid': M_grid, 'alpha_grid': alpha_grid, 'errors': converted_results.tolist()}"
      ],
      "execution_count": null,
      "outputs": []
    },
    {
      "cell_type": "code",
      "metadata": {
        "ExecuteTime": {
          "start_time": "2020-11-19T19:33:17.075Z"
        },
        "id": "tizPo21G0fao"
      },
      "source": [
        "import json\n",
        "import datetime\n",
        "with open(f'bagging_w_replacement_{str(datetime.date.today())}.json', 'w') as fp:\n",
        "    json.dump(res_dict, fp)"
      ],
      "execution_count": null,
      "outputs": []
    }
  ]
}