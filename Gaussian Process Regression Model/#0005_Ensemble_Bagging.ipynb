{
  "nbformat": 4,
  "nbformat_minor": 0,
  "metadata": {
    "kernelspec": {
      "display_name": "Python 3",
      "language": "python",
      "name": "python3"
    },
    "language_info": {
      "codemirror_mode": {
        "name": "ipython",
        "version": 3
      },
      "file_extension": ".py",
      "mimetype": "text/x-python",
      "name": "python",
      "nbconvert_exporter": "python",
      "pygments_lexer": "ipython3",
      "version": "3.7.5"
    },
    "toc": {
      "base_numbering": 1,
      "nav_menu": {},
      "number_sections": true,
      "sideBar": true,
      "skip_h1_title": false,
      "title_cell": "Table of Contents",
      "title_sidebar": "Contents",
      "toc_cell": false,
      "toc_position": {},
      "toc_section_display": true,
      "toc_window_display": false
    },
    "colab": {
      "name": "#0005_Ensemble_Bagging.ipynb",
      "provenance": [],
      "toc_visible": true
    }
  },
  "cells": [
    {
      "cell_type": "markdown",
      "metadata": {
        "id": "UTAM9bg50fam"
      },
      "source": [
        "# Ensemble Learning through Bagging \n",
        "\n",
        "**bagging == Bootstrapping Aggregation** \n",
        "\n",
        "$\\implies$  hyperparam = {M = #learners, alpha = # relative trainset size}\n"
      ]
    },
    {
      "cell_type": "code",
      "metadata": {
        "ExecuteTime": {
          "end_time": "2020-11-19T19:33:18.394937Z",
          "start_time": "2020-11-19T19:33:17.042552Z"
        },
        "id": "dG7lVo470fam"
      },
      "source": [
        "#!git clone https://github.com/tlpss/ML-Project2.git\n",
        "\n",
        "import numpy as np\n",
        "import random\n",
        "import matplotlib.pyplot as plt\n",
        "from sklearn.gaussian_process import GaussianProcessRegressor\n",
        "from sklearn.gaussian_process.kernels import RBF, WhiteKernel\n",
        "\n",
        "# add project root folder to path to allow import local modules\n",
        "import os\n",
        "import sys\n",
        "#sys.path.append(os.path.abspath(os.path.join('./ML-Project2')))\n",
        "\n",
        "module_path = os.path.abspath(os.path.join('..'))\n",
        "if module_path not in sys.path:\n",
        "    sys.path.append(module_path)\n",
        "# import local modules\n",
        "from stochastic_models import *\n",
        "from visualisations import *\n",
        "from basic_estimator_model import *"
      ],
      "execution_count": 1,
      "outputs": []
    },
    {
      "cell_type": "markdown",
      "metadata": {
        "ExecuteTime": {
          "end_time": "2020-11-14T11:40:28.368547Z",
          "start_time": "2020-11-14T11:40:28.365554Z"
        },
        "id": "piWP2Y710fam"
      },
      "source": [
        "## Parameter Configuration"
      ]
    },
    {
      "cell_type": "code",
      "metadata": {
        "ExecuteTime": {
          "end_time": "2020-11-19T19:33:18.399924Z",
          "start_time": "2020-11-19T19:33:18.395934Z"
        },
        "id": "QVy6iI6f0fam"
      },
      "source": [
        "np.random.seed(2020)"
      ],
      "execution_count": 2,
      "outputs": []
    },
    {
      "cell_type": "code",
      "metadata": {
        "ExecuteTime": {
          "end_time": "2020-11-19T19:33:18.404911Z",
          "start_time": "2020-11-19T19:33:18.400921Z"
        },
        "id": "VgF1gYSZ0fam"
      },
      "source": [
        "N_train = 5000\n",
        "N_test = 50000\n",
        "d = 1\n",
        "T = 2"
      ],
      "execution_count": 3,
      "outputs": []
    },
    {
      "cell_type": "code",
      "metadata": {
        "ExecuteTime": {
          "end_time": "2020-11-19T19:33:18.411892Z",
          "start_time": "2020-11-19T19:33:18.406906Z"
        },
        "id": "auFqti170fam"
      },
      "source": [
        "lambda_range = (N_train*1e-9 , N_train*1e-3)\n",
        "alpha_range = (8.3*1e-5, 0.83)\n",
        "length_scale = np.sort(1/np.sqrt((2*alpha_range[0], 2*alpha_range[1])))"
      ],
      "execution_count": 4,
      "outputs": []
    },
    {
      "cell_type": "markdown",
      "metadata": {
        "ExecuteTime": {
          "end_time": "2020-11-14T11:40:29.811046Z",
          "start_time": "2020-11-14T11:40:29.808054Z"
        },
        "id": "Ibn03cnz0fam"
      },
      "source": [
        "## Create Kernel & prepare datasets"
      ]
    },
    {
      "cell_type": "code",
      "metadata": {
        "ExecuteTime": {
          "end_time": "2020-11-19T19:33:18.417877Z",
          "start_time": "2020-11-19T19:33:18.412889Z"
        },
        "id": "wjD-Ur7D0fam"
      },
      "source": [
        "#kernel\n",
        "kernel = RBF(length_scale= (length_scale[0] + length_scale[1])/2, length_scale_bounds=length_scale) \\\n",
        "        + WhiteKernel(noise_level= (lambda_range[0] + lambda_range[1])/2 , noise_level_bounds=lambda_range)\n"
      ],
      "execution_count": 5,
      "outputs": []
    },
    {
      "cell_type": "code",
      "metadata": {
        "ExecuteTime": {
          "end_time": "2020-11-19T19:33:18.432836Z",
          "start_time": "2020-11-19T19:33:18.418874Z"
        },
        "id": "eV0D444n0fan"
      },
      "source": [
        "#generate drivers\n",
        "s_train = MaxCallStochasticModel(N_train,d,[1/12,11/12])\n",
        "s_train.generate_samples()\n",
        "s_test = MaxCallStochasticModel(N_test, d, [1/12,11/12])\n",
        "s_test.generate_samples()"
      ],
      "execution_count": 6,
      "outputs": []
    },
    {
      "cell_type": "code",
      "metadata": {
        "ExecuteTime": {
          "end_time": "2020-11-19T19:33:18.441812Z",
          "start_time": "2020-11-19T19:33:18.433833Z"
        },
        "id": "mZu9AViu0fan",
        "outputId": "41776ff1-d898-40aa-ddc9-712bbf0e87bc",
        "colab": {
          "base_uri": "https://localhost:8080/"
        }
      },
      "source": [
        "#prepare datasets & values\n",
        "y_train = s_train.y\n",
        "X_train = s_train.X\n",
        "S_train = s_train.S\n",
        "\n",
        "y_test = s_test.y\n",
        "X_test = s_test.X\n",
        "S_test = s_test.S\n",
        "\n",
        "V_T = y_test  \n",
        "V_0 = s_test.generate_true_V(0)\n",
        "\n",
        "V_0= V_0.mean()\n",
        "V_0 # Average expected PROFIT!"
      ],
      "execution_count": 7,
      "outputs": [
        {
          "output_type": "execute_result",
          "data": {
            "text/plain": [
              "0.07935344411249907"
            ]
          },
          "metadata": {
            "tags": []
          },
          "execution_count": 7
        }
      ]
    },
    {
      "cell_type": "code",
      "metadata": {
        "ExecuteTime": {
          "end_time": "2020-11-19T19:33:18.447798Z",
          "start_time": "2020-11-19T19:33:18.443808Z"
        },
        "id": "CDNrXA_P0fan",
        "outputId": "ac300af2-6e1a-4292-f3c1-100449573a8d",
        "colab": {
          "base_uri": "https://localhost:8080/"
        }
      },
      "source": [
        "X_test.shape"
      ],
      "execution_count": 8,
      "outputs": [
        {
          "output_type": "execute_result",
          "data": {
            "text/plain": [
              "(50000, 1, 2)"
            ]
          },
          "metadata": {
            "tags": []
          },
          "execution_count": 8
        }
      ]
    },
    {
      "cell_type": "markdown",
      "metadata": {
        "ExecuteTime": {
          "end_time": "2020-11-14T11:40:33.048462Z",
          "start_time": "2020-11-14T11:40:33.045471Z"
        },
        "id": "k832NbtC0fao"
      },
      "source": [
        "## Create Custom Models\n",
        "(to have more control of splitting etc)"
      ]
    },
    {
      "cell_type": "code",
      "metadata": {
        "ExecuteTime": {
          "end_time": "2020-11-19T19:33:18.456772Z",
          "start_time": "2020-11-19T19:33:18.449791Z"
        },
        "id": "OcPQ76n_0fao",
        "outputId": "1618b671-19ad-4b29-e1db-2fc2a2af4aa3",
        "colab": {
          "base_uri": "https://localhost:8080/"
        }
      },
      "source": [
        "from aggregating.models import SimpleBagger\n",
        "s = SimpleBagger(11,0.5,None)\n",
        "s.get_params()"
      ],
      "execution_count": 9,
      "outputs": [
        {
          "output_type": "execute_result",
          "data": {
            "text/plain": [
              "{'M': 11, 'predictor': None, 'train_size_alpha': 0.5}"
            ]
          },
          "metadata": {
            "tags": []
          },
          "execution_count": 9
        }
      ]
    },
    {
      "cell_type": "markdown",
      "metadata": {
        "id": "iqONM3sj0fao"
      },
      "source": [
        "## GridSearch\n",
        "\n",
        "nB: cannot use Scikit gridsearch as it performs CV and we want to have a different test set of a larger size!"
      ]
    },
    {
      "cell_type": "code",
      "metadata": {
        "ExecuteTime": {
          "end_time": "2020-11-15T17:27:39.347302Z",
          "start_time": "2020-11-15T17:27:39.344239Z"
        },
        "id": "a2BFgvcD0fao"
      },
      "source": [
        ""
      ],
      "execution_count": 9,
      "outputs": []
    },
    {
      "cell_type": "code",
      "metadata": {
        "ExecuteTime": {
          "start_time": "2020-11-19T19:33:17.063Z"
        },
        "id": "AlUGmpIc0fao",
        "outputId": "e0e007b4-c0ea-4cf5-b491-f01596822a77",
        "colab": {
          "base_uri": "https://localhost:8080/"
        }
      },
      "source": [
        "from multiprocessing import  cpu_count,current_process\n",
        "from multiprocessing.pool import ThreadPool\n",
        "import functools\n",
        "import threading\n",
        "\n",
        "from aggregating.gridsearch import create_logger, evaluate_model\n",
        "from aggregating.utils import flatten_X\n",
        "\n",
        "# GRIDSEARCH PARAMS\n",
        "model = SimpleBagger(0,0,GaussianProcessRegressor(kernel,copy_X_train=False))\n",
        "trials = 3\n",
        "M_grid = [1,2,3,4,5,6,7,8]\n",
        "alpha_grid = [0.5,0.7,0.9,1.0]\n",
        "results = []\n",
        "print(cpu_count())\n",
        "### ACTUAL GRIDSEARCH\n",
        "pool = ThreadPool(2) #avoid allocation issues\n",
        "for m in M_grid:\n",
        "    for alpha in alpha_grid:\n",
        "        hyperparams= {'M':m, 'train_size_alpha':alpha}\n",
        "        pool.apply_async(evaluate_model, args=(model,hyperparams,flatten_X(X_train),y_train,1, [1/12,11/12],trials,N_test,MaxCallStochasticModel),callback = create_logger(hyperparams,results))\n",
        "pool.close()\n",
        "pool.join()\n",
        "\n"
      ],
      "execution_count": 10,
      "outputs": [
        {
          "output_type": "stream",
          "text": [
            "2\n",
            " {'M': 1, 'train_size_alpha': 0.5} -> thread id = 140196775278336\n",
            "fit\n",
            "(5000, 2)\n",
            " {'M': 1, 'train_size_alpha': 0.7} -> thread id = 140196766885632\n",
            "fit\n",
            "(5000, 2)\n",
            "predict\n",
            "(50000, 2)\n",
            "{'M': 1, 'train_size_alpha': 0.5} , 0 -> 0.18262429637849759\n",
            "predict\n",
            "(50000, 2)\n",
            "predict\n",
            "(50000, 2)\n",
            "{'M': 1, 'train_size_alpha': 0.5} , 1 -> 0.17654918277401788\n",
            "predict\n",
            "(50000, 2)\n",
            "{'M': 1, 'train_size_alpha': 0.5} , 2 -> 0.21779899681940598\n",
            "{'M': 1, 'train_size_alpha': 0.5} -> [0.18262429637849759, 0.17654918277401788, 0.21779899681940598]\n",
            " {'M': 1, 'train_size_alpha': 0.9} -> thread id = 140196775278336logger {'M': 1, 'train_size_alpha': 0.5}, -> [0.18262429637849759, 0.17654918277401788, 0.21779899681940598]\n",
            "\n",
            "fit\n",
            "(5000, 2)\n",
            "{'M': 1, 'train_size_alpha': 0.7} , 0 -> 0.2051590295879866\n",
            "predict\n",
            "(50000, 2)\n",
            "{'M': 1, 'train_size_alpha': 0.7} , 1 -> 0.21792672729451226\n",
            "predict\n",
            "(50000, 2)\n",
            "predict\n",
            "(50000, 2)\n",
            "{'M': 1, 'train_size_alpha': 0.7} , 2 -> 0.19736078187832648\n",
            "{'M': 1, 'train_size_alpha': 0.7} -> [0.2051590295879866, 0.21792672729451226, 0.19736078187832648]\n",
            " {'M': 1, 'train_size_alpha': 1.0} -> thread id = 140196766885632\n",
            "fit\n",
            "(5000, 2)\n",
            "logger {'M': 1, 'train_size_alpha': 0.7}, -> [0.2051590295879866, 0.21792672729451226, 0.19736078187832648]\n",
            "{'M': 1, 'train_size_alpha': 0.9} , 0 -> 0.17051719923127792\n",
            "predict\n",
            "(50000, 2)\n",
            "{'M': 1, 'train_size_alpha': 0.9} , 1 -> 0.17311335210154008\n",
            "predict\n",
            "(50000, 2)\n",
            "predict\n",
            "(50000, 2)\n",
            "{'M': 1, 'train_size_alpha': 0.9} , 2 -> 0.14202654165824224\n",
            "{'M': 1, 'train_size_alpha': 0.9} -> [0.17051719923127792, 0.17311335210154008, 0.14202654165824224]\n",
            " {'M': 2, 'train_size_alpha': 0.5} -> thread id = 140196775278336logger {'M': 1, 'train_size_alpha': 0.9}, -> [0.17051719923127792, 0.17311335210154008, 0.14202654165824224]\n",
            "\n",
            "fit\n",
            "(5000, 2)\n",
            "{'M': 1, 'train_size_alpha': 1.0} , 0 -> 0.21291027450735855\n",
            "predict\n",
            "(50000, 2)\n",
            "{'M': 1, 'train_size_alpha': 1.0} , 1 -> 0.20884879694025454\n",
            "predict\n",
            "(50000, 2)\n",
            "predict\n",
            "(50000, 2)\n",
            "{'M': 1, 'train_size_alpha': 1.0} , 2 -> 0.14261150795153682\n",
            "{'M': 1, 'train_size_alpha': 1.0} -> [0.21291027450735855, 0.20884879694025454, 0.14261150795153682]\n",
            " {'M': 2, 'train_size_alpha': 0.7} -> thread id = 140196766885632logger {'M': 1, 'train_size_alpha': 1.0}, -> [0.21291027450735855, 0.20884879694025454, 0.14261150795153682]\n",
            "\n",
            "fit\n",
            "(5000, 2)\n",
            "{'M': 2, 'train_size_alpha': 0.5} , 0 -> 0.17610820972870736\n",
            "predict\n",
            "(50000, 2)\n",
            "{'M': 2, 'train_size_alpha': 0.5} , 1 -> 0.23235347058632386\n",
            "predict\n",
            "(50000, 2)\n",
            "{'M': 2, 'train_size_alpha': 0.5} , 2 -> 0.18824799999199276\n",
            "{'M': 2, 'train_size_alpha': 0.5} -> [0.17610820972870736, 0.23235347058632386, 0.18824799999199276]\n",
            " {'M': 2, 'train_size_alpha': 0.9} -> thread id = 140196775278336logger {'M': 2, 'train_size_alpha': 0.5}, -> [0.17610820972870736, 0.23235347058632386, 0.18824799999199276]\n",
            "\n",
            "fit\n",
            "(5000, 2)\n",
            "predict\n",
            "(50000, 2)\n",
            "{'M': 2, 'train_size_alpha': 0.7} , 0 -> 0.23603362883502615\n",
            "predict\n",
            "(50000, 2)\n",
            "predict\n",
            "(50000, 2)\n",
            "{'M': 2, 'train_size_alpha': 0.7} , 1 -> 0.2075457146452947\n",
            "predict\n",
            "(50000, 2)\n",
            "{'M': 2, 'train_size_alpha': 0.9} , 0 -> 0.21685481641922036\n",
            "predict\n",
            "(50000, 2)\n",
            "{'M': 2, 'train_size_alpha': 0.7} , 2 -> 0.19968213865785034\n",
            "{'M': 2, 'train_size_alpha': 0.7} -> [0.23603362883502615, 0.2075457146452947, 0.19968213865785034]\n",
            " {'M': 2, 'train_size_alpha': 1.0} -> thread id = 140196766885632logger {'M': 2, 'train_size_alpha': 0.7}, -> [0.23603362883502615, 0.2075457146452947, 0.19968213865785034]\n",
            "\n",
            "fit\n",
            "(5000, 2)\n",
            "{'M': 2, 'train_size_alpha': 0.9} , 1 -> 0.2072638895353321\n",
            "predict\n",
            "(50000, 2)\n",
            "{'M': 2, 'train_size_alpha': 0.9} , 2 -> 0.1922168801579054\n",
            "{'M': 2, 'train_size_alpha': 0.9} -> [0.21685481641922036, 0.2072638895353321, 0.1922168801579054]\n",
            " {'M': 3, 'train_size_alpha': 0.5} -> thread id = 140196775278336logger {'M': 2, 'train_size_alpha': 0.9}, -> [0.21685481641922036, 0.2072638895353321, 0.1922168801579054]\n",
            "\n",
            "fit\n",
            "(5000, 2)\n",
            "predict\n",
            "(50000, 2)\n",
            "predict\n",
            "(50000, 2)\n",
            "{'M': 2, 'train_size_alpha': 1.0} , 0 -> 0.3275546516947335\n",
            "predict\n",
            "(50000, 2)\n",
            "{'M': 3, 'train_size_alpha': 0.5} , 0 -> 0.22830198017909856\n",
            "predict\n",
            "(50000, 2)\n",
            "{'M': 2, 'train_size_alpha': 1.0} , 1 -> 0.22934460432508874\n",
            "predict\n",
            "(50000, 2)\n",
            "{'M': 3, 'train_size_alpha': 0.5} , 1 -> 0.2386692808735103\n",
            "predict\n",
            "(50000, 2)\n",
            "{'M': 2, 'train_size_alpha': 1.0} , 2 -> 0.22006403256883011\n",
            "{'M': 2, 'train_size_alpha': 1.0} -> [0.3275546516947335, 0.22934460432508874, 0.22006403256883011]\n",
            " {'M': 3, 'train_size_alpha': 0.7} -> thread id = 140196766885632logger {'M': 2, 'train_size_alpha': 1.0}, -> [0.3275546516947335, 0.22934460432508874, 0.22006403256883011]\n",
            "\n",
            "fit\n",
            "(5000, 2)\n",
            "{'M': 3, 'train_size_alpha': 0.5} , 2 -> 0.2780149180847711\n",
            "{'M': 3, 'train_size_alpha': 0.5} -> [0.22830198017909856, 0.2386692808735103, 0.2780149180847711]\n",
            " {'M': 3, 'train_size_alpha': 0.9} -> thread id = 140196775278336logger {'M': 3, 'train_size_alpha': 0.5}, -> [0.22830198017909856, 0.2386692808735103, 0.2780149180847711]\n",
            "\n",
            "fit\n",
            "(5000, 2)\n",
            "predict\n",
            "(50000, 2)\n",
            "predict\n",
            "(50000, 2)\n",
            "{'M': 3, 'train_size_alpha': 0.7} , 0 -> 0.21246622905474954\n",
            "predict\n",
            "(50000, 2)\n",
            "{'M': 3, 'train_size_alpha': 0.9} , 0 -> 0.172454902467118\n",
            "predict\n",
            "(50000, 2)\n",
            "{'M': 3, 'train_size_alpha': 0.7} , 1 -> 0.24915764968563123\n",
            "predict\n",
            "(50000, 2)\n",
            "{'M': 3, 'train_size_alpha': 0.9} , 1 -> 0.18519060644443272\n",
            "predict\n",
            "(50000, 2)\n",
            "{'M': 3, 'train_size_alpha': 0.7} , 2 -> 0.16773650967127066\n",
            "{'M': 3, 'train_size_alpha': 0.7} -> [0.21246622905474954, 0.24915764968563123, 0.16773650967127066]\n",
            " {'M': 3, 'train_size_alpha': 1.0} -> thread id = 140196766885632logger {'M': 3, 'train_size_alpha': 0.7}, -> [0.21246622905474954, 0.24915764968563123, 0.16773650967127066]\n",
            "\n",
            "fit\n",
            "(5000, 2)\n",
            "{'M': 3, 'train_size_alpha': 0.9} , 2 -> 0.1611814053101291\n",
            "{'M': 3, 'train_size_alpha': 0.9} -> [0.172454902467118, 0.18519060644443272, 0.1611814053101291]\n",
            " {'M': 4, 'train_size_alpha': 0.5} -> thread id = 140196775278336logger {'M': 3, 'train_size_alpha': 0.9}, -> [0.172454902467118, 0.18519060644443272, 0.1611814053101291]\n",
            "\n",
            "fit\n",
            "(5000, 2)\n",
            "predict\n",
            "(50000, 2)\n",
            "predict\n",
            "(50000, 2)\n",
            "{'M': 3, 'train_size_alpha': 1.0} , 0 -> 0.2152378820613928\n",
            "predict\n",
            "(50000, 2)\n",
            "{'M': 4, 'train_size_alpha': 0.5} , 0 -> 0.1943765203839212\n",
            "predict\n",
            "(50000, 2)\n",
            "{'M': 4, 'train_size_alpha': 0.5} , 1 -> 0.16015260975804518\n",
            "predict\n",
            "(50000, 2)\n",
            "{'M': 3, 'train_size_alpha': 1.0} , 1 -> 0.17672188172424336\n",
            "predict\n",
            "(50000, 2)\n",
            "{'M': 4, 'train_size_alpha': 0.5} , 2 -> 0.18125207272575306\n",
            "{'M': 4, 'train_size_alpha': 0.5} -> [0.1943765203839212, 0.16015260975804518, 0.18125207272575306]\n",
            " {'M': 4, 'train_size_alpha': 0.7} -> thread id = 140196775278336\n",
            "logger {'M': 4, 'train_size_alpha': 0.5}, -> [0.1943765203839212, 0.16015260975804518, 0.18125207272575306]\n",
            "fit\n",
            "(5000, 2)\n",
            "{'M': 3, 'train_size_alpha': 1.0} , 2 -> 0.19412834677278695\n",
            "{'M': 3, 'train_size_alpha': 1.0} -> [0.2152378820613928, 0.17672188172424336, 0.19412834677278695]\n",
            " {'M': 4, 'train_size_alpha': 0.9} -> thread id = 140196766885632\n",
            "logger {'M': 3, 'train_size_alpha': 1.0}, -> [0.2152378820613928, 0.17672188172424336, 0.19412834677278695]\n",
            "fit\n",
            "(5000, 2)\n",
            "predict\n",
            "(50000, 2)\n",
            "predict\n",
            "(50000, 2)\n",
            "{'M': 4, 'train_size_alpha': 0.7} , 0 -> 0.21641585404655728\n",
            "predict\n",
            "(50000, 2)\n",
            "{'M': 4, 'train_size_alpha': 0.9} , 0 -> 0.21422262789487234\n",
            "predict\n",
            "(50000, 2)\n",
            "{'M': 4, 'train_size_alpha': 0.7} , 1 -> 0.27358053251398334\n",
            "predict\n",
            "(50000, 2)\n",
            "{'M': 4, 'train_size_alpha': 0.9} , 1 -> 0.22171888618062663\n",
            "predict\n",
            "(50000, 2)\n",
            "{'M': 4, 'train_size_alpha': 0.7} , 2 -> 0.28862132306857347\n",
            "{'M': 4, 'train_size_alpha': 0.7} -> [0.21641585404655728, 0.27358053251398334, 0.28862132306857347]\n",
            " {'M': 4, 'train_size_alpha': 1.0} -> thread id = 140196775278336logger {'M': 4, 'train_size_alpha': 0.7}, -> [0.21641585404655728, 0.27358053251398334, 0.28862132306857347]\n",
            "\n",
            "fit\n",
            "(5000, 2)\n",
            "{'M': 4, 'train_size_alpha': 0.9} , 2 -> 0.23608065444698037\n",
            "{'M': 4, 'train_size_alpha': 0.9} -> [0.21422262789487234, 0.22171888618062663, 0.23608065444698037]\n",
            " {'M': 5, 'train_size_alpha': 0.5} -> thread id = 140196766885632logger {'M': 4, 'train_size_alpha': 0.9}, -> [0.21422262789487234, 0.22171888618062663, 0.23608065444698037]\n",
            "\n",
            "fit\n",
            "(5000, 2)\n",
            "predict\n",
            "(50000, 2)\n",
            "predict\n",
            "(50000, 2)\n",
            "{'M': 5, 'train_size_alpha': 0.5} , 0 -> 0.1789119838563356\n",
            "predict\n",
            "(50000, 2)\n",
            "{'M': 4, 'train_size_alpha': 1.0} , 0 -> 0.2643378198109401\n",
            "predict\n",
            "(50000, 2)\n",
            "{'M': 5, 'train_size_alpha': 0.5} , 1 -> 0.17805657795124635\n",
            "predict\n",
            "(50000, 2)\n",
            "{'M': 4, 'train_size_alpha': 1.0} , 1 -> 0.31596010989693557\n",
            "predict\n",
            "(50000, 2)\n",
            "{'M': 5, 'train_size_alpha': 0.5} , 2 -> 0.175293722459929\n",
            "{'M': 5, 'train_size_alpha': 0.5} -> [0.1789119838563356, 0.17805657795124635, 0.175293722459929]\n",
            " {'M': 5, 'train_size_alpha': 0.7} -> thread id = 140196766885632\n",
            "logger {'M': 5, 'train_size_alpha': 0.5}, -> [0.1789119838563356, 0.17805657795124635, 0.175293722459929]\n",
            "fit\n",
            "(5000, 2)\n",
            "{'M': 4, 'train_size_alpha': 1.0} , 2 -> 0.24174878408245515\n",
            "{'M': 4, 'train_size_alpha': 1.0} -> [0.2643378198109401, 0.31596010989693557, 0.24174878408245515]\n",
            " {'M': 5, 'train_size_alpha': 0.9} -> thread id = 140196775278336logger {'M': 4, 'train_size_alpha': 1.0}, -> [0.2643378198109401, 0.31596010989693557, 0.24174878408245515]\n",
            "\n",
            "fit\n",
            "(5000, 2)\n",
            "predict\n",
            "(50000, 2)\n",
            "predict\n",
            "(50000, 2)\n",
            "{'M': 5, 'train_size_alpha': 0.7} , 0 -> 0.2648427774837873\n",
            "predict\n",
            "(50000, 2)\n",
            "{'M': 5, 'train_size_alpha': 0.9} , 0 -> 0.22455706913820114\n",
            "predict\n",
            "(50000, 2)\n",
            "{'M': 5, 'train_size_alpha': 0.7} , 1 -> 0.2223903093607941\n",
            "predict\n",
            "(50000, 2)\n",
            "{'M': 5, 'train_size_alpha': 0.9} , 1 -> 0.17628125054046997\n",
            "predict\n",
            "(50000, 2)\n",
            "{'M': 5, 'train_size_alpha': 0.7} , 2 -> 0.2166818141608637\n",
            "{'M': 5, 'train_size_alpha': 0.7} -> [0.2648427774837873, 0.2223903093607941, 0.2166818141608637]\n",
            " {'M': 5, 'train_size_alpha': 1.0} -> thread id = 140196766885632\n",
            "fit\n",
            "(5000, 2)\n",
            "logger {'M': 5, 'train_size_alpha': 0.7}, -> [0.2648427774837873, 0.2223903093607941, 0.2166818141608637]\n",
            "{'M': 5, 'train_size_alpha': 0.9} , 2 -> 0.21823101037740572\n",
            "{'M': 5, 'train_size_alpha': 0.9} -> [0.22455706913820114, 0.17628125054046997, 0.21823101037740572]\n",
            " {'M': 6, 'train_size_alpha': 0.5} -> thread id = 140196775278336\n",
            "logger {'M': 5, 'train_size_alpha': 0.9}, -> [0.22455706913820114, 0.17628125054046997, 0.21823101037740572]fit\n",
            "\n",
            "(5000, 2)\n",
            "predict\n",
            "(50000, 2)\n",
            "predict\n",
            "(50000, 2)\n",
            "{'M': 5, 'train_size_alpha': 1.0} , 0 -> 0.21867925110699227\n",
            "predict\n",
            "(50000, 2)\n",
            "{'M': 6, 'train_size_alpha': 0.5} , 0 -> 0.16278673046161085\n",
            "predict\n",
            "(50000, 2)\n",
            "{'M': 6, 'train_size_alpha': 0.5} , 1 -> 0.14729420674477664\n",
            "predict\n",
            "(50000, 2)\n",
            "{'M': 5, 'train_size_alpha': 1.0} , 1 -> 0.23192873137831913\n",
            "predict\n",
            "(50000, 2)\n",
            "{'M': 6, 'train_size_alpha': 0.5} , 2 -> 0.1349832028387191\n",
            "{'M': 6, 'train_size_alpha': 0.5} -> [0.16278673046161085, 0.14729420674477664, 0.1349832028387191]\n",
            " {'M': 6, 'train_size_alpha': 0.7} -> thread id = 140196775278336\n",
            "logger {'M': 6, 'train_size_alpha': 0.5}, -> [0.16278673046161085, 0.14729420674477664, 0.1349832028387191]fit\n",
            "(5000, 2)\n",
            "\n",
            "{'M': 5, 'train_size_alpha': 1.0} , 2 -> 0.26183376060979013\n",
            "{'M': 5, 'train_size_alpha': 1.0} -> [0.21867925110699227, 0.23192873137831913, 0.26183376060979013]\n",
            " {'M': 6, 'train_size_alpha': 0.9} -> thread id = 140196766885632logger {'M': 5, 'train_size_alpha': 1.0}, -> [0.21867925110699227, 0.23192873137831913, 0.26183376060979013]\n",
            "\n",
            "fit\n",
            "(5000, 2)\n",
            "predict\n",
            "(50000, 2)\n",
            "predict\n",
            "(50000, 2)\n",
            "{'M': 6, 'train_size_alpha': 0.7} , 0 -> 0.23803901941464511\n",
            "predict\n",
            "(50000, 2)\n",
            "{'M': 6, 'train_size_alpha': 0.9} , 0 -> 0.1638222690551314\n",
            "predict\n",
            "(50000, 2)\n",
            "{'M': 6, 'train_size_alpha': 0.7} , 1 -> 0.22261979084600964\n",
            "predict\n",
            "(50000, 2)\n",
            "{'M': 6, 'train_size_alpha': 0.9} , 1 -> 0.2390169635258985\n",
            "predict\n",
            "(50000, 2)\n",
            "{'M': 6, 'train_size_alpha': 0.7} , 2 -> 0.2657341486519193\n",
            "{'M': 6, 'train_size_alpha': 0.7} -> [0.23803901941464511, 0.22261979084600964, 0.2657341486519193]\n",
            " {'M': 6, 'train_size_alpha': 1.0} -> thread id = 140196775278336logger {'M': 6, 'train_size_alpha': 0.7}, -> [0.23803901941464511, 0.22261979084600964, 0.2657341486519193]\n",
            "\n",
            "fit\n",
            "(5000, 2)\n",
            "{'M': 6, 'train_size_alpha': 0.9} , 2 -> 0.16611222619846164\n",
            "{'M': 6, 'train_size_alpha': 0.9} -> [0.1638222690551314, 0.2390169635258985, 0.16611222619846164]\n",
            " {'M': 7, 'train_size_alpha': 0.5} -> thread id = 140196766885632logger {'M': 6, 'train_size_alpha': 0.9}, -> [0.1638222690551314, 0.2390169635258985, 0.16611222619846164]\n",
            "\n",
            "fit\n",
            "(5000, 2)\n",
            "predict\n",
            "(50000, 2)\n",
            "predict\n",
            "(50000, 2)\n",
            "{'M': 6, 'train_size_alpha': 1.0} , 0 -> 0.23108422413584306\n",
            "predict\n",
            "(50000, 2)\n",
            "{'M': 7, 'train_size_alpha': 0.5} , 0 -> 0.2155513988546671\n",
            "predict\n",
            "(50000, 2)\n",
            "{'M': 7, 'train_size_alpha': 0.5} , 1 -> 0.24700188360345648\n",
            "predict\n",
            "(50000, 2)\n",
            "{'M': 6, 'train_size_alpha': 1.0} , 1 -> 0.22826797477103639\n",
            "predict\n",
            "(50000, 2)\n",
            "{'M': 7, 'train_size_alpha': 0.5} , 2 -> 0.2478926660109912\n",
            "{'M': 7, 'train_size_alpha': 0.5} -> [0.2155513988546671, 0.24700188360345648, 0.2478926660109912]\n",
            " {'M': 7, 'train_size_alpha': 0.7} -> thread id = 140196766885632logger {'M': 7, 'train_size_alpha': 0.5}, -> [0.2155513988546671, 0.24700188360345648, 0.2478926660109912]\n",
            "\n",
            "fit\n",
            "(5000, 2)\n",
            "{'M': 6, 'train_size_alpha': 1.0} , 2 -> 0.19946699194367518\n",
            "{'M': 6, 'train_size_alpha': 1.0} -> [0.23108422413584306, 0.22826797477103639, 0.19946699194367518]\n",
            " {'M': 7, 'train_size_alpha': 0.9} -> thread id = 140196775278336logger {'M': 6, 'train_size_alpha': 1.0}, -> [0.23108422413584306, 0.22826797477103639, 0.19946699194367518]\n",
            "fit\n",
            "(5000, 2)\n",
            "\n",
            "predict\n",
            "(50000, 2)\n",
            "predict\n",
            "(50000, 2)\n",
            "{'M': 7, 'train_size_alpha': 0.7} , 0 -> 0.22922056019019843\n",
            "predict\n",
            "(50000, 2)\n",
            "{'M': 7, 'train_size_alpha': 0.9} , 0 -> 0.20535266599816104\n",
            "predict\n",
            "(50000, 2)\n",
            "{'M': 7, 'train_size_alpha': 0.7} , 1 -> 0.20132569509146686\n",
            "predict\n",
            "(50000, 2)\n",
            "{'M': 7, 'train_size_alpha': 0.7} , 2 -> 0.1974948181986639\n",
            "{'M': 7, 'train_size_alpha': 0.7} -> [0.22922056019019843, 0.20132569509146686, 0.1974948181986639]\n",
            " {'M': 7, 'train_size_alpha': 1.0} -> thread id = 140196766885632\n",
            "logger {'M': 7, 'train_size_alpha': 0.7}, -> [0.22922056019019843, 0.20132569509146686, 0.1974948181986639]\n",
            "fit\n",
            "(5000, 2)\n",
            "{'M': 7, 'train_size_alpha': 0.9} , 1 -> 0.2381177044982014\n",
            "predict\n",
            "(50000, 2)\n",
            "{'M': 7, 'train_size_alpha': 0.9} , 2 -> 0.22065642096511956\n",
            "{'M': 7, 'train_size_alpha': 0.9} -> [0.20535266599816104, 0.2381177044982014, 0.22065642096511956]\n",
            " {'M': 8, 'train_size_alpha': 0.5} -> thread id = 140196775278336\n",
            "logger {'M': 7, 'train_size_alpha': 0.9}, -> [0.20535266599816104, 0.2381177044982014, 0.22065642096511956]\n",
            "fit\n",
            "(5000, 2)\n",
            "predict\n",
            "(50000, 2)\n",
            "predict\n",
            "(50000, 2)\n",
            "{'M': 7, 'train_size_alpha': 1.0} , 0 -> 0.22307678611964976\n",
            "predict\n",
            "(50000, 2)\n",
            "{'M': 8, 'train_size_alpha': 0.5} , 0 -> 0.12117990883521972\n",
            "predict\n",
            "(50000, 2)\n",
            "{'M': 8, 'train_size_alpha': 0.5} , 1 -> 0.1324314461136194\n",
            "predict\n",
            "(50000, 2)\n",
            "{'M': 7, 'train_size_alpha': 1.0} , 1 -> 0.1739491252244188\n",
            "predict\n",
            "(50000, 2)\n",
            "{'M': 8, 'train_size_alpha': 0.5} , 2 -> 0.16957587574439542\n",
            "{'M': 8, 'train_size_alpha': 0.5} -> [0.12117990883521972, 0.1324314461136194, 0.16957587574439542]\n",
            " {'M': 8, 'train_size_alpha': 0.7} -> thread id = 140196775278336logger {'M': 8, 'train_size_alpha': 0.5}, -> [0.12117990883521972, 0.1324314461136194, 0.16957587574439542]\n",
            "\n",
            "fit\n",
            "(5000, 2)\n",
            "{'M': 7, 'train_size_alpha': 1.0} , 2 -> 0.1746044444876214\n",
            "{'M': 7, 'train_size_alpha': 1.0} -> [0.22307678611964976, 0.1739491252244188, 0.1746044444876214]\n",
            " {'M': 8, 'train_size_alpha': 0.9} -> thread id = 140196766885632logger {'M': 7, 'train_size_alpha': 1.0}, -> [0.22307678611964976, 0.1739491252244188, 0.1746044444876214]\n",
            "\n",
            "fit\n",
            "(5000, 2)\n",
            "predict\n",
            "(50000, 2)\n",
            "predict\n",
            "(50000, 2)\n",
            "{'M': 8, 'train_size_alpha': 0.7} , 0 -> 0.21640434669389508\n",
            "predict\n",
            "(50000, 2)\n",
            "{'M': 8, 'train_size_alpha': 0.9} , 0 -> 0.14470996938935937\n",
            "predict\n",
            "(50000, 2)\n",
            "{'M': 8, 'train_size_alpha': 0.7} , 1 -> 0.19969827682023286\n",
            "predict\n",
            "(50000, 2)\n",
            "{'M': 8, 'train_size_alpha': 0.7} , 2 -> 0.14408404634393507\n",
            "{'M': 8, 'train_size_alpha': 0.7} -> [0.21640434669389508, 0.19969827682023286, 0.14408404634393507]\n",
            " {'M': 8, 'train_size_alpha': 1.0} -> thread id = 140196775278336logger {'M': 8, 'train_size_alpha': 0.7}, -> [0.21640434669389508, 0.19969827682023286, 0.14408404634393507]\n",
            "\n",
            "fit\n",
            "(5000, 2)\n",
            "{'M': 8, 'train_size_alpha': 0.9} , 1 -> 0.1555571058111653\n",
            "predict\n",
            "(50000, 2)\n",
            "{'M': 8, 'train_size_alpha': 0.9} , 2 -> 0.19546633355723872\n",
            "{'M': 8, 'train_size_alpha': 0.9} -> [0.14470996938935937, 0.1555571058111653, 0.19546633355723872]\n",
            "logger {'M': 8, 'train_size_alpha': 0.9}, -> [0.14470996938935937, 0.1555571058111653, 0.19546633355723872]\n",
            "predict\n",
            "(50000, 2)\n",
            "{'M': 8, 'train_size_alpha': 1.0} , 0 -> 0.17518064462547997\n",
            "predict\n",
            "(50000, 2)\n",
            "{'M': 8, 'train_size_alpha': 1.0} , 1 -> 0.23115648080855822\n",
            "predict\n",
            "(50000, 2)\n",
            "{'M': 8, 'train_size_alpha': 1.0} , 2 -> 0.18061973663026554\n",
            "{'M': 8, 'train_size_alpha': 1.0} -> [0.17518064462547997, 0.23115648080855822, 0.18061973663026554]\n",
            "logger {'M': 8, 'train_size_alpha': 1.0}, -> [0.17518064462547997, 0.23115648080855822, 0.18061973663026554]\n"
          ],
          "name": "stdout"
        }
      ]
    },
    {
      "cell_type": "code",
      "metadata": {
        "ExecuteTime": {
          "start_time": "2020-11-19T19:33:17.065Z"
        },
        "id": "DBdsjTDM0fao",
        "outputId": "4ef2717e-4a21-4d92-adfb-fdd392e4157e",
        "colab": {
          "base_uri": "https://localhost:8080/"
        }
      },
      "source": [
        "converted_results = np.ones((len(M_grid),len(alpha_grid),trials))*(-1)\n",
        "for item in results:\n",
        "    print(item)\n",
        "    converted_results[M_grid.index(item[0]),alpha_grid.index(item[1])] = item[2]\n",
        "\n",
        "print(converted_results.shape)\n",
        "print(converted_results)"
      ],
      "execution_count": 11,
      "outputs": [
        {
          "output_type": "stream",
          "text": [
            "[1, 0.5, [0.18262429637849759, 0.17654918277401788, 0.21779899681940598]]\n",
            "[1, 0.7, [0.2051590295879866, 0.21792672729451226, 0.19736078187832648]]\n",
            "[1, 0.9, [0.17051719923127792, 0.17311335210154008, 0.14202654165824224]]\n",
            "[1, 1.0, [0.21291027450735855, 0.20884879694025454, 0.14261150795153682]]\n",
            "[2, 0.5, [0.17610820972870736, 0.23235347058632386, 0.18824799999199276]]\n",
            "[2, 0.7, [0.23603362883502615, 0.2075457146452947, 0.19968213865785034]]\n",
            "[2, 0.9, [0.21685481641922036, 0.2072638895353321, 0.1922168801579054]]\n",
            "[2, 1.0, [0.3275546516947335, 0.22934460432508874, 0.22006403256883011]]\n",
            "[3, 0.5, [0.22830198017909856, 0.2386692808735103, 0.2780149180847711]]\n",
            "[3, 0.7, [0.21246622905474954, 0.24915764968563123, 0.16773650967127066]]\n",
            "[3, 0.9, [0.172454902467118, 0.18519060644443272, 0.1611814053101291]]\n",
            "[4, 0.5, [0.1943765203839212, 0.16015260975804518, 0.18125207272575306]]\n",
            "[3, 1.0, [0.2152378820613928, 0.17672188172424336, 0.19412834677278695]]\n",
            "[4, 0.7, [0.21641585404655728, 0.27358053251398334, 0.28862132306857347]]\n",
            "[4, 0.9, [0.21422262789487234, 0.22171888618062663, 0.23608065444698037]]\n",
            "[5, 0.5, [0.1789119838563356, 0.17805657795124635, 0.175293722459929]]\n",
            "[4, 1.0, [0.2643378198109401, 0.31596010989693557, 0.24174878408245515]]\n",
            "[5, 0.7, [0.2648427774837873, 0.2223903093607941, 0.2166818141608637]]\n",
            "[5, 0.9, [0.22455706913820114, 0.17628125054046997, 0.21823101037740572]]\n",
            "[6, 0.5, [0.16278673046161085, 0.14729420674477664, 0.1349832028387191]]\n",
            "[5, 1.0, [0.21867925110699227, 0.23192873137831913, 0.26183376060979013]]\n",
            "[6, 0.7, [0.23803901941464511, 0.22261979084600964, 0.2657341486519193]]\n",
            "[6, 0.9, [0.1638222690551314, 0.2390169635258985, 0.16611222619846164]]\n",
            "[7, 0.5, [0.2155513988546671, 0.24700188360345648, 0.2478926660109912]]\n",
            "[6, 1.0, [0.23108422413584306, 0.22826797477103639, 0.19946699194367518]]\n",
            "[7, 0.7, [0.22922056019019843, 0.20132569509146686, 0.1974948181986639]]\n",
            "[7, 0.9, [0.20535266599816104, 0.2381177044982014, 0.22065642096511956]]\n",
            "[8, 0.5, [0.12117990883521972, 0.1324314461136194, 0.16957587574439542]]\n",
            "[7, 1.0, [0.22307678611964976, 0.1739491252244188, 0.1746044444876214]]\n",
            "[8, 0.7, [0.21640434669389508, 0.19969827682023286, 0.14408404634393507]]\n",
            "[8, 0.9, [0.14470996938935937, 0.1555571058111653, 0.19546633355723872]]\n",
            "[8, 1.0, [0.17518064462547997, 0.23115648080855822, 0.18061973663026554]]\n",
            "(8, 4, 3)\n",
            "[[[0.1826243  0.17654918 0.217799  ]\n",
            "  [0.20515903 0.21792673 0.19736078]\n",
            "  [0.1705172  0.17311335 0.14202654]\n",
            "  [0.21291027 0.2088488  0.14261151]]\n",
            "\n",
            " [[0.17610821 0.23235347 0.188248  ]\n",
            "  [0.23603363 0.20754571 0.19968214]\n",
            "  [0.21685482 0.20726389 0.19221688]\n",
            "  [0.32755465 0.2293446  0.22006403]]\n",
            "\n",
            " [[0.22830198 0.23866928 0.27801492]\n",
            "  [0.21246623 0.24915765 0.16773651]\n",
            "  [0.1724549  0.18519061 0.16118141]\n",
            "  [0.21523788 0.17672188 0.19412835]]\n",
            "\n",
            " [[0.19437652 0.16015261 0.18125207]\n",
            "  [0.21641585 0.27358053 0.28862132]\n",
            "  [0.21422263 0.22171889 0.23608065]\n",
            "  [0.26433782 0.31596011 0.24174878]]\n",
            "\n",
            " [[0.17891198 0.17805658 0.17529372]\n",
            "  [0.26484278 0.22239031 0.21668181]\n",
            "  [0.22455707 0.17628125 0.21823101]\n",
            "  [0.21867925 0.23192873 0.26183376]]\n",
            "\n",
            " [[0.16278673 0.14729421 0.1349832 ]\n",
            "  [0.23803902 0.22261979 0.26573415]\n",
            "  [0.16382227 0.23901696 0.16611223]\n",
            "  [0.23108422 0.22826797 0.19946699]]\n",
            "\n",
            " [[0.2155514  0.24700188 0.24789267]\n",
            "  [0.22922056 0.2013257  0.19749482]\n",
            "  [0.20535267 0.2381177  0.22065642]\n",
            "  [0.22307679 0.17394913 0.17460444]]\n",
            "\n",
            " [[0.12117991 0.13243145 0.16957588]\n",
            "  [0.21640435 0.19969828 0.14408405]\n",
            "  [0.14470997 0.15555711 0.19546633]\n",
            "  [0.17518064 0.23115648 0.18061974]]]\n"
          ],
          "name": "stdout"
        }
      ]
    },
    {
      "cell_type": "code",
      "metadata": {
        "ExecuteTime": {
          "start_time": "2020-11-19T19:33:17.068Z"
        },
        "id": "rPHgBIns0fao",
        "outputId": "56cdc91e-c30d-4d96-eb58-49398ec83da4",
        "colab": {
          "base_uri": "https://localhost:8080/"
        }
      },
      "source": [
        "masked_results= np.ma.masked_where(converted_results <= 0.0,converted_results) # some runs have been aborted every now and then -> filter them out\n",
        "means = masked_results.mean(axis=2)\n",
        "sigmas = masked_results.std(axis=2)\n",
        "means.shape"
      ],
      "execution_count": 12,
      "outputs": [
        {
          "output_type": "execute_result",
          "data": {
            "text/plain": [
              "(8, 4)"
            ]
          },
          "metadata": {
            "tags": []
          },
          "execution_count": 12
        }
      ]
    },
    {
      "cell_type": "code",
      "metadata": {
        "ExecuteTime": {
          "start_time": "2020-11-19T19:33:17.070Z"
        },
        "id": "sGxPSAhY0fao",
        "outputId": "e4c16d90-cfb1-4e19-f106-f836209cfe29",
        "colab": {
          "base_uri": "https://localhost:8080/",
          "height": 295
        }
      },
      "source": [
        "for i in range(len(alpha_grid)):\n",
        "    plt.errorbar(np.array(M_grid),means[:,i],sigmas[:,i],marker ='o',label = f\"alpha = {alpha_grid[i]}\")\n",
        "plt.title(f\"Bagging Normalized error: N_train = {N_train}, d= {d}, N_test= {N_test}\")\n",
        "plt.xlabel(\"M\")\n",
        "plt.xticks(M_grid)\n",
        "plt.ylabel(\"normalized error\")\n",
        "plt.legend()\n",
        "plt.show()"
      ],
      "execution_count": 13,
      "outputs": [
        {
          "output_type": "display_data",
          "data": {
            "image/png": "[encoded data removed]",
            "text/plain": [
              "<Figure size 432x288 with 1 Axes>"
            ]
          },
          "metadata": {
            "tags": [],
            "needs_background": "light"
          }
        }
      ]
    },
    {
      "cell_type": "markdown",
      "metadata": {
        "id": "I7Welij90fao"
      },
      "source": [
        "\n"
      ]
    },
    {
      "cell_type": "markdown",
      "metadata": {
        "ExecuteTime": {
          "end_time": "2020-11-15T17:54:08.608678Z",
          "start_time": "2020-11-15T17:54:08.603664Z"
        },
        "id": "1rzYa8Tb0fao"
      },
      "source": [
        "## Store results"
      ]
    },
    {
      "cell_type": "code",
      "metadata": {
        "ExecuteTime": {
          "start_time": "2020-11-19T19:33:17.072Z"
        },
        "id": "D6CwhCiR0fao"
      },
      "source": [
        "res_dict = {'N_train': N_train, 'N_test': N_test,'mgrid': M_grid, 'alpha_grid': alpha_grid, 'errors': converted_results.tolist()}"
      ],
      "execution_count": 14,
      "outputs": []
    },
    {
      "cell_type": "code",
      "metadata": {
        "ExecuteTime": {
          "start_time": "2020-11-19T19:33:17.075Z"
        },
        "id": "tizPo21G0fao"
      },
      "source": [
        "import json\n",
        "import datetime\n",
        "with open(f'bagging_w_replacement_{str(datetime.date.today())}.json', 'w') as fp:\n",
        "    json.dump(res_dict, fp)"
      ],
      "execution_count": 16,
      "outputs": []
    }
  ]
}