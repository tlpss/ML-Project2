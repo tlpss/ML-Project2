{
 "cells": [
  {
   "cell_type": "markdown",
   "metadata": {},
   "source": [
    "# Ensemble Learning through Batch Boosting\n"
   ]
  },
  {
   "cell_type": "code",
   "execution_count": 1,
   "metadata": {
    "ExecuteTime": {
     "end_time": "2020-11-20T15:52:17.865319Z",
     "start_time": "2020-11-20T15:52:17.067135Z"
    }
   },
   "outputs": [],
   "source": [
    "import numpy as np\n",
    "import random\n",
    "import matplotlib.pyplot as plt\n",
    "from sklearn.gaussian_process import GaussianProcessRegressor\n",
    "from sklearn.gaussian_process.kernels import RBF, WhiteKernel\n",
    "\n",
    "# add project root folder to path to allow import local modules\n",
    "import os\n",
    "import sys\n",
    "module_path = os.path.abspath(os.path.join('..'))\n",
    "if module_path not in sys.path:\n",
    "    sys.path.append(module_path)\n",
    "# import local modules\n",
    "from stochastic_models import *\n",
    "from visualisations import *\n",
    "from basic_estimator_model import *"
   ]
  },
  {
   "cell_type": "markdown",
   "metadata": {
    "ExecuteTime": {
     "end_time": "2020-11-14T11:40:28.368547Z",
     "start_time": "2020-11-14T11:40:28.365554Z"
    }
   },
   "source": [
    "## Parameter Configuration"
   ]
  },
  {
   "cell_type": "code",
   "execution_count": 2,
   "metadata": {
    "ExecuteTime": {
     "end_time": "2020-11-20T15:52:17.870290Z",
     "start_time": "2020-11-20T15:52:17.866297Z"
    }
   },
   "outputs": [],
   "source": [
    "np.random.seed(2020)"
   ]
  },
  {
   "cell_type": "code",
   "execution_count": 87,
   "metadata": {
    "ExecuteTime": {
     "end_time": "2020-11-20T15:52:17.874277Z",
     "start_time": "2020-11-20T15:52:17.871251Z"
    }
   },
   "outputs": [],
   "source": [
    "N_train = 1000\n",
    "N_test = 10000\n",
    "Max_Iter = 100\n",
    "Epsilon = 1e-4\n",
    "Learning_Rate = 0.1\n",
    "d = 1\n",
    "T = 2"
   ]
  },
  {
   "cell_type": "code",
   "execution_count": 30,
   "metadata": {
    "ExecuteTime": {
     "end_time": "2020-11-20T15:52:17.880254Z",
     "start_time": "2020-11-20T15:52:17.875244Z"
    }
   },
   "outputs": [],
   "source": [
    "lambda_range = (N_train*1e-9 , N_train*1e-3)\n",
    "alpha_range = (8.3*1e-5, 0.83)\n",
    "length_scale = np.sort(1/np.sqrt((2*alpha_range[0], 2*alpha_range[1])))"
   ]
  },
  {
   "cell_type": "markdown",
   "metadata": {
    "ExecuteTime": {
     "end_time": "2020-11-14T11:40:29.811046Z",
     "start_time": "2020-11-14T11:40:29.808054Z"
    }
   },
   "source": [
    "## Create Kernel & prepare datasets"
   ]
  },
  {
   "cell_type": "code",
   "execution_count": 31,
   "metadata": {
    "ExecuteTime": {
     "end_time": "2020-11-20T15:52:17.886212Z",
     "start_time": "2020-11-20T15:52:17.881226Z"
    }
   },
   "outputs": [],
   "source": [
    "#kernel\n",
    "kernel = RBF(length_scale= (length_scale[0] + length_scale[1])/2, length_scale_bounds=length_scale) \\\n",
    "        + WhiteKernel(noise_level= (lambda_range[0] + lambda_range[1])/2 , noise_level_bounds=lambda_range)\n"
   ]
  },
  {
   "cell_type": "code",
   "execution_count": 32,
   "metadata": {
    "ExecuteTime": {
     "end_time": "2020-11-20T15:52:17.897244Z",
     "start_time": "2020-11-20T15:52:17.887236Z"
    }
   },
   "outputs": [],
   "source": [
    "#generate drivers\n",
    "s_train = MaxCallStochasticModel(N_train,d,[1/12,11/12])\n",
    "s_train.generate_samples()\n",
    "s_test = MaxCallStochasticModel(N_test, d, [1/12,11/12])\n",
    "s_test.generate_samples()"
   ]
  },
  {
   "cell_type": "code",
   "execution_count": 33,
   "metadata": {},
   "outputs": [
    {
     "data": {
      "text/plain": [
       "0.0791500965406784"
      ]
     },
     "execution_count": 33,
     "metadata": {},
     "output_type": "execute_result"
    }
   ],
   "source": [
    "y_train = s_train.y\n",
    "X_train = s_train.X\n",
    "S_train = s_train.S\n",
    "\n",
    "y_test = s_test.y\n",
    "X_test = s_test.X\n",
    "S_test = s_test.S\n",
    "\n",
    "V_T = s_test.generate_true_V(T)\n",
    "V_0 = s_test.generate_true_V(0)\n",
    "\n",
    "V_T_train = s_train.generate_true_V(T)\n",
    "V_0_train = s_train.generate_true_V(0)\n",
    "\n",
    "V_0_train = V_0_train.mean()\n",
    "V_0= V_0.mean()\n",
    "V_0 # Average expected PROFIT!"
   ]
  },
  {
   "cell_type": "code",
   "execution_count": 34,
   "metadata": {
    "ExecuteTime": {
     "end_time": "2020-11-20T15:52:17.911172Z",
     "start_time": "2020-11-20T15:52:17.907158Z"
    }
   },
   "outputs": [],
   "source": [
    "from aggregating.utils import flatten_X, normalized_error_VT\n",
    "#dim(N_test,d*T)\n",
    "Flattened_X_test = flatten_X(X_test)\n",
    "# dim(N_train, d*T)\n",
    "Flattened_X_train = flatten_X(X_train)"
   ]
  },
  {
   "cell_type": "code",
   "execution_count": 35,
   "metadata": {},
   "outputs": [
    {
     "data": {
      "text/plain": [
       "GaussianProcessRegressor(kernel=RBF(length_scale=39.2) + WhiteKernel(noise_level=0.5))"
      ]
     },
     "execution_count": 35,
     "metadata": {},
     "output_type": "execute_result"
    }
   ],
   "source": [
    "#Model with Flatten_X_1\n",
    "m_1 = EstimatorModelBase(kernel)\n",
    "m_1.fit(Flattened_X_train,y_train)"
   ]
  },
  {
   "cell_type": "code",
   "execution_count": 36,
   "metadata": {},
   "outputs": [],
   "source": [
    "fX_1 = m_1._predict_fX(Flattened_X_test)"
   ]
  },
  {
   "cell_type": "code",
   "execution_count": 37,
   "metadata": {},
   "outputs": [],
   "source": [
    "fX_2 = m_1._predict_fX(Flattened_X_train)"
   ]
  },
  {
   "cell_type": "code",
   "execution_count": 38,
   "metadata": {},
   "outputs": [],
   "source": [
    "test_reference_error = normalized_error_VT(fX_1 ,V_T, V_0)"
   ]
  },
  {
   "cell_type": "code",
   "execution_count": 39,
   "metadata": {},
   "outputs": [],
   "source": [
    "train_reference_error = normalized_error_VT(fX_2 ,V_T_train, V_0_train)"
   ]
  },
  {
   "cell_type": "code",
   "execution_count": 40,
   "metadata": {},
   "outputs": [
    {
     "data": {
      "text/plain": [
       "0.020611583279537608"
      ]
     },
     "execution_count": 40,
     "metadata": {},
     "output_type": "execute_result"
    }
   ],
   "source": [
    "train_reference_error"
   ]
  },
  {
   "cell_type": "code",
   "execution_count": 41,
   "metadata": {},
   "outputs": [
    {
     "data": {
      "text/plain": [
       "0.13899458016521793"
      ]
     },
     "execution_count": 41,
     "metadata": {},
     "output_type": "execute_result"
    }
   ],
   "source": [
    "test_reference_error"
   ]
  },
  {
   "cell_type": "markdown",
   "metadata": {
    "ExecuteTime": {
     "end_time": "2020-11-14T11:40:33.048462Z",
     "start_time": "2020-11-14T11:40:33.045471Z"
    }
   },
   "source": [
    "## Gradient Boosting"
   ]
  },
  {
   "cell_type": "code",
   "execution_count": 80,
   "metadata": {},
   "outputs": [],
   "source": [
    "def Gradient_Boosting(X_train, y_train, X_test, y_test, Max_Iter, min_error, early_stop, kernel, learning_rate, epsilon):\n",
    "    error_going_up = 0\n",
    "    train_prediction = np.zeros(N_train)\n",
    "    test_prediction = np.zeros(N_test)\n",
    "    previous_y_hat = np.zeros(N_train)\n",
    "    previous_y_test_hat = np.zeros(N_test)\n",
    "    models = []\n",
    "    train_errors = []\n",
    "    test_errors = []\n",
    "    \n",
    "    current_residual = np.full(len(y_train), np.mean(y_train, axis=0))\n",
    "    y_hat_test = np.full(len(y_test), np.mean(y_train, axis=0))\n",
    "\n",
    "    \n",
    "    for i in range(Max_Iter):\n",
    "        model = GaussianProcessRegressor(kernel)\n",
    "    \n",
    "        model.fit(X_train, y_train - current_residual)\n",
    "        models.append(model)\n",
    "        \n",
    "        new_train_predictor = model.predict(X_train)\n",
    "        new_test_predictor = model.predict(X_test)\n",
    "        \n",
    "        current_residual += learning_rate * new_train_predictor\n",
    "        \n",
    "        y_hat_train = current_residual \n",
    "        \n",
    "        y_hat_test += learning_rate * new_test_predictor\n",
    "        \n",
    "        #Evaluating TrainSet error\n",
    "        \n",
    "        train_errors.append(normalized_error_VT(y_hat_train,y_train,V_0_train).item())\n",
    "        \n",
    "        ##Evaluating TestSet error\n",
    "        \n",
    "        test_errors.append(normalized_error_VT(y_hat_test,y_test,V_0).item())\n",
    "    \n",
    "        if (( min_error[0] - test_errors[-1] > epsilon) & (test_errors[-1] < min_error[0])):\n",
    "            min_error = (test_errors[-1], i)\n",
    "            error_going_up = 0\n",
    "            print('For iteration number {}, the test error decreased , test error : {} '.format(i, min_error[0]))\n",
    "        else:\n",
    "            error_going_up += 1\n",
    "            print('For iteration number {}, the test error increased , test error : {} '.format(i, min_error[0]))\n",
    "        \n",
    "            if  (i==(Max_Iter-1)):\n",
    "                models = models[:min_error[1]+1]\n",
    "                \n",
    "                return models, train_errors, test_errors, min_error\n",
    "        \n",
    "            elif (error_going_up == early_stop ):\n",
    "                models = models[: -(early_stop)]\n",
    "                \n",
    "                return models, train_errors, test_errors, min_error\n",
    "                break #early stopping\n",
    "            \n",
    "    return models, train_errors, test_errors, min_error"
   ]
  },
  {
   "cell_type": "code",
   "execution_count": 81,
   "metadata": {
    "ExecuteTime": {
     "end_time": "2020-11-20T15:02:36.070161Z",
     "start_time": "2020-11-20T15:02:36.058157Z"
    }
   },
   "outputs": [
    {
     "name": "stdout",
     "output_type": "stream",
     "text": [
      "For iteration number 0, the test error decreased , test error : 1.5074233825376284 \n",
      "For iteration number 1, the test error decreased , test error : 1.3598941812097793 \n",
      "For iteration number 2, the test error decreased , test error : 1.2274580481463453 \n",
      "For iteration number 3, the test error decreased , test error : 1.1086603058389375 \n",
      "For iteration number 4, the test error decreased , test error : 1.0022037859819286 \n",
      "For iteration number 5, the test error decreased , test error : 0.9036708763641776 \n",
      "For iteration number 6, the test error decreased , test error : 0.8155829655366185 \n",
      "For iteration number 7, the test error decreased , test error : 0.7368263525928354 \n",
      "For iteration number 8, the test error decreased , test error : 0.6660456622266852 \n",
      "For iteration number 9, the test error decreased , test error : 0.6018825678571692 \n",
      "For iteration number 10, the test error decreased , test error : 0.5439263577647558 \n",
      "For iteration number 11, the test error decreased , test error : 0.49189277358289757 \n",
      "For iteration number 12, the test error decreased , test error : 0.4452517842299663 \n",
      "For iteration number 13, the test error decreased , test error : 0.40383489108047194 \n",
      "For iteration number 14, the test error decreased , test error : 0.3667470065413658 \n",
      "For iteration number 15, the test error decreased , test error : 0.33355662837892647 \n",
      "For iteration number 16, the test error decreased , test error : 0.303885688469839 \n",
      "For iteration number 17, the test error decreased , test error : 0.27739226741491746 \n",
      "For iteration number 18, the test error decreased , test error : 0.2534940661672807 \n",
      "For iteration number 19, the test error decreased , test error : 0.2324865792805123 \n",
      "For iteration number 20, the test error decreased , test error : 0.2135706035986706 \n",
      "For iteration number 21, the test error decreased , test error : 0.19679674847385725 \n",
      "For iteration number 22, the test error decreased , test error : 0.18196104979070116 \n",
      "For iteration number 23, the test error decreased , test error : 0.16887758362670463 \n",
      "For iteration number 24, the test error decreased , test error : 0.1575575924151189 \n"
     ]
    },
    {
     "name": "stderr",
     "output_type": "stream",
     "text": [
      "/Users/Clement/anaconda3/lib/python3.7/site-packages/sklearn/gaussian_process/_gpr.py:504: ConvergenceWarning: lbfgs failed to converge (status=2):\n",
      "ABNORMAL_TERMINATION_IN_LNSRCH.\n",
      "\n",
      "Increase the number of iterations (max_iter) or scale the data as shown in:\n",
      "    https://scikit-learn.org/stable/modules/preprocessing.html\n",
      "  _check_optimize_result(\"lbfgs\", opt_res)\n"
     ]
    },
    {
     "name": "stdout",
     "output_type": "stream",
     "text": [
      "For iteration number 25, the test error decreased , test error : 0.147651218663989 \n",
      "For iteration number 26, the test error decreased , test error : 0.13880843670607063 \n",
      "For iteration number 27, the test error decreased , test error : 0.13111733592244906 \n",
      "For iteration number 28, the test error decreased , test error : 0.12460723932128182 \n",
      "For iteration number 29, the test error decreased , test error : 0.11898790168442722 \n",
      "For iteration number 30, the test error decreased , test error : 0.11415325678404085 \n",
      "For iteration number 31, the test error decreased , test error : 0.1100655665883595 \n",
      "For iteration number 32, the test error decreased , test error : 0.10650478719880024 \n",
      "For iteration number 33, the test error decreased , test error : 0.10353475859158766 \n",
      "For iteration number 34, the test error decreased , test error : 0.101012202253846 \n",
      "For iteration number 35, the test error decreased , test error : 0.09888086704340006 \n",
      "For iteration number 36, the test error decreased , test error : 0.09709321569251275 \n",
      "For iteration number 37, the test error decreased , test error : 0.09558200229300161 \n",
      "For iteration number 38, the test error decreased , test error : 0.09430294867025998 \n",
      "For iteration number 39, the test error decreased , test error : 0.09321959645234278 \n",
      "For iteration number 40, the test error decreased , test error : 0.09230119529070979 \n",
      "For iteration number 41, the test error decreased , test error : 0.09152175930792576 \n"
     ]
    },
    {
     "name": "stderr",
     "output_type": "stream",
     "text": [
      "/Users/Clement/anaconda3/lib/python3.7/site-packages/sklearn/gaussian_process/_gpr.py:504: ConvergenceWarning: lbfgs failed to converge (status=2):\n",
      "ABNORMAL_TERMINATION_IN_LNSRCH.\n",
      "\n",
      "Increase the number of iterations (max_iter) or scale the data as shown in:\n",
      "    https://scikit-learn.org/stable/modules/preprocessing.html\n",
      "  _check_optimize_result(\"lbfgs\", opt_res)\n"
     ]
    },
    {
     "name": "stdout",
     "output_type": "stream",
     "text": [
      "For iteration number 42, the test error decreased , test error : 0.09085936250799638 \n",
      "For iteration number 43, the test error decreased , test error : 0.09029554065465141 \n",
      "For iteration number 44, the test error decreased , test error : 0.08981477716944743 \n",
      "For iteration number 45, the test error decreased , test error : 0.0894040510485186 \n",
      "For iteration number 46, the test error decreased , test error : 0.08905244680104289 \n",
      "For iteration number 47, the test error decreased , test error : 0.08875082076544726 \n",
      "For iteration number 48, the test error decreased , test error : 0.08849151351648177 \n",
      "For iteration number 49, the test error decreased , test error : 0.08826811503240288 \n",
      "For iteration number 50, the test error decreased , test error : 0.08807524974669721 \n",
      "For iteration number 51, the test error decreased , test error : 0.08790779051561455 \n",
      "For iteration number 52, the test error decreased , test error : 0.08776160843743609 \n",
      "For iteration number 53, the test error decreased , test error : 0.08763375486702205 \n",
      "For iteration number 54, the test error decreased , test error : 0.0875217224983107 \n",
      "For iteration number 55, the test error increased , test error : 0.0875217224983107 \n",
      "For iteration number 56, the test error decreased , test error : 0.08733689153892553 \n",
      "For iteration number 57, the test error increased , test error : 0.08733689153892553 \n",
      "For iteration number 58, the test error decreased , test error : 0.08719350122071491 \n",
      "For iteration number 59, the test error increased , test error : 0.08719350122071491 \n",
      "For iteration number 60, the test error decreased , test error : 0.08708156088159165 \n",
      "For iteration number 61, the test error increased , test error : 0.08708156088159165 \n",
      "For iteration number 62, the test error increased , test error : 0.08708156088159165 \n",
      "For iteration number 63, the test error decreased , test error : 0.08695697289020621 \n",
      "For iteration number 64, the test error increased , test error : 0.08695697289020621 \n",
      "For iteration number 65, the test error increased , test error : 0.08695697289020621 \n",
      "For iteration number 66, the test error increased , test error : 0.08695697289020621 \n",
      "For iteration number 67, the test error decreased , test error : 0.0868462562119935 \n",
      "For iteration number 68, the test error increased , test error : 0.0868462562119935 \n",
      "For iteration number 69, the test error increased , test error : 0.0868462562119935 \n",
      "For iteration number 70, the test error increased , test error : 0.0868462562119935 \n",
      "For iteration number 71, the test error increased , test error : 0.0868462562119935 \n",
      "For iteration number 72, the test error increased , test error : 0.0868462562119935 \n"
     ]
    }
   ],
   "source": [
    "\n",
    "\n",
    "models, train_error, test_error, min_error = Gradient_Boosting(np.copy(Flattened_X_train), np.copy(y_train), np.copy(Flattened_X_test), np.copy(y_test), Max_Iter, (float(\"inf\"), float(\"inf\")), 3, kernel, Learning_Rate, Epsilon)\n",
    "\n"
   ]
  },
  {
   "cell_type": "code",
   "execution_count": 85,
   "metadata": {},
   "outputs": [],
   "source": [
    "learning_rates = np.linspace(0.1, 0.5 , num=10)"
   ]
  },
  {
   "cell_type": "code",
   "execution_count": 100,
   "metadata": {},
   "outputs": [],
   "source": [
    "min_errors = dict((val, []) for val in range(len(learning_rates))) \n",
    "min_errors[0] = (4 , 6)\n",
    "min_errors"
   ]
  },
  {
   "cell_type": "code",
   "execution_count": 102,
   "metadata": {},
   "outputs": [
    {
     "name": "stdout",
     "output_type": "stream",
     "text": [
      "For iteration number 0, the test error decreased , test error : 1.5074233825376284 \n",
      "For iteration number 1, the test error decreased , test error : 1.3598941812097793 \n",
      "For iteration number 2, the test error decreased , test error : 1.2274580481463453 \n",
      "For iteration number 3, the test error decreased , test error : 1.1086603058389375 \n",
      "For iteration number 4, the test error decreased , test error : 1.0022037859819286 \n",
      "For iteration number 5, the test error decreased , test error : 0.9036708763641776 \n",
      "For iteration number 6, the test error decreased , test error : 0.8155829655366185 \n",
      "For iteration number 7, the test error decreased , test error : 0.7368263525928354 \n",
      "For iteration number 8, the test error decreased , test error : 0.6660456622266852 \n",
      "For iteration number 9, the test error decreased , test error : 0.6018825678571692 \n",
      "For iteration number 10, the test error decreased , test error : 0.5439263577647558 \n",
      "For iteration number 11, the test error decreased , test error : 0.49189277358289757 \n",
      "For iteration number 12, the test error decreased , test error : 0.4452517842299663 \n",
      "For iteration number 13, the test error decreased , test error : 0.40383489108047194 \n",
      "For iteration number 14, the test error decreased , test error : 0.3667470065413658 \n",
      "For iteration number 15, the test error decreased , test error : 0.33355662837892647 \n",
      "For iteration number 16, the test error decreased , test error : 0.303885688469839 \n",
      "For iteration number 17, the test error decreased , test error : 0.27739226741491746 \n",
      "For iteration number 18, the test error decreased , test error : 0.2534940661672807 \n",
      "For iteration number 19, the test error decreased , test error : 0.2324865792805123 \n",
      "For iteration number 20, the test error decreased , test error : 0.2135706035986706 \n",
      "For iteration number 21, the test error decreased , test error : 0.19679674847385725 \n",
      "For iteration number 22, the test error decreased , test error : 0.18196104979070116 \n",
      "For iteration number 23, the test error decreased , test error : 0.16887758362670463 \n",
      "For iteration number 24, the test error decreased , test error : 0.1575575924151189 \n"
     ]
    },
    {
     "name": "stderr",
     "output_type": "stream",
     "text": [
      "/Users/Clement/anaconda3/lib/python3.7/site-packages/sklearn/gaussian_process/_gpr.py:504: ConvergenceWarning: lbfgs failed to converge (status=2):\n",
      "ABNORMAL_TERMINATION_IN_LNSRCH.\n",
      "\n",
      "Increase the number of iterations (max_iter) or scale the data as shown in:\n",
      "    https://scikit-learn.org/stable/modules/preprocessing.html\n",
      "  _check_optimize_result(\"lbfgs\", opt_res)\n"
     ]
    },
    {
     "name": "stdout",
     "output_type": "stream",
     "text": [
      "For iteration number 25, the test error decreased , test error : 0.147651218663989 \n",
      "For iteration number 26, the test error decreased , test error : 0.13880843670607063 \n",
      "For iteration number 27, the test error decreased , test error : 0.13111733592244906 \n",
      "For iteration number 28, the test error decreased , test error : 0.12460723932128182 \n",
      "For iteration number 29, the test error decreased , test error : 0.11898790168442722 \n",
      "For iteration number 30, the test error decreased , test error : 0.11415325678404085 \n",
      "For iteration number 31, the test error decreased , test error : 0.1100655665883595 \n",
      "For iteration number 32, the test error decreased , test error : 0.10650478719880024 \n",
      "For iteration number 33, the test error decreased , test error : 0.10353475859158766 \n",
      "For iteration number 34, the test error decreased , test error : 0.101012202253846 \n",
      "For iteration number 35, the test error decreased , test error : 0.09888086704340006 \n",
      "For iteration number 36, the test error decreased , test error : 0.09709321569251275 \n",
      "For iteration number 37, the test error decreased , test error : 0.09558200229300161 \n",
      "For iteration number 38, the test error decreased , test error : 0.09430294867025998 \n",
      "For iteration number 39, the test error decreased , test error : 0.09321959645234278 \n",
      "For iteration number 40, the test error decreased , test error : 0.09230119529070979 \n",
      "For iteration number 41, the test error decreased , test error : 0.09152175930792576 \n"
     ]
    },
    {
     "name": "stderr",
     "output_type": "stream",
     "text": [
      "/Users/Clement/anaconda3/lib/python3.7/site-packages/sklearn/gaussian_process/_gpr.py:504: ConvergenceWarning: lbfgs failed to converge (status=2):\n",
      "ABNORMAL_TERMINATION_IN_LNSRCH.\n",
      "\n",
      "Increase the number of iterations (max_iter) or scale the data as shown in:\n",
      "    https://scikit-learn.org/stable/modules/preprocessing.html\n",
      "  _check_optimize_result(\"lbfgs\", opt_res)\n"
     ]
    },
    {
     "name": "stdout",
     "output_type": "stream",
     "text": [
      "For iteration number 42, the test error decreased , test error : 0.09085936250799638 \n",
      "For iteration number 43, the test error decreased , test error : 0.09029554065465141 \n",
      "For iteration number 44, the test error decreased , test error : 0.08981477716944743 \n",
      "For iteration number 45, the test error decreased , test error : 0.0894040510485186 \n",
      "For iteration number 46, the test error decreased , test error : 0.08905244680104289 \n",
      "For iteration number 47, the test error decreased , test error : 0.08875082076544726 \n",
      "For iteration number 48, the test error decreased , test error : 0.08849151351648177 \n",
      "For iteration number 49, the test error decreased , test error : 0.08826811503240288 \n",
      "For iteration number 50, the test error decreased , test error : 0.08807524974669721 \n",
      "For iteration number 51, the test error decreased , test error : 0.08790779051561455 \n",
      "For iteration number 52, the test error decreased , test error : 0.08776160843743609 \n",
      "For iteration number 53, the test error decreased , test error : 0.08763375486702205 \n",
      "For iteration number 54, the test error decreased , test error : 0.0875217224983107 \n",
      "For iteration number 55, the test error increased , test error : 0.0875217224983107 \n",
      "For iteration number 56, the test error decreased , test error : 0.08733689153892553 \n",
      "For iteration number 57, the test error increased , test error : 0.08733689153892553 \n",
      "For iteration number 58, the test error decreased , test error : 0.08719350122071491 \n",
      "For iteration number 59, the test error increased , test error : 0.08719350122071491 \n",
      "For iteration number 60, the test error decreased , test error : 0.08708156088159165 \n",
      "For iteration number 61, the test error increased , test error : 0.08708156088159165 \n",
      "For iteration number 62, the test error increased , test error : 0.08708156088159165 \n",
      "For iteration number 63, the test error decreased , test error : 0.08695697289020621 \n",
      "For iteration number 64, the test error increased , test error : 0.08695697289020621 \n",
      "For iteration number 65, the test error increased , test error : 0.08695697289020621 \n",
      "For iteration number 66, the test error increased , test error : 0.08695697289020621 \n",
      "For iteration number 0, the test error decreased , test error : 1.4344684487766164 \n",
      "For iteration number 1, the test error decreased , test error : 1.2321890003146538 \n",
      "For iteration number 2, the test error decreased , test error : 1.059947963950374 \n",
      "For iteration number 3, the test error decreased , test error : 0.9136182895909628 \n",
      "For iteration number 4, the test error decreased , test error : 0.7855189489640327 \n",
      "For iteration number 5, the test error decreased , test error : 0.6769287687905908 \n",
      "For iteration number 6, the test error decreased , test error : 0.5836328365176227 \n",
      "For iteration number 7, the test error decreased , test error : 0.5033490314076251 \n",
      "For iteration number 8, the test error decreased , test error : 0.43505108672475185 \n",
      "For iteration number 9, the test error decreased , test error : 0.37766779391544 \n",
      "For iteration number 10, the test error decreased , test error : 0.3290593740440004 \n",
      "For iteration number 11, the test error decreased , test error : 0.2879868303562331 \n",
      "For iteration number 12, the test error decreased , test error : 0.2533909839470603 \n",
      "For iteration number 13, the test error decreased , test error : 0.22397972252957668 \n",
      "For iteration number 14, the test error decreased , test error : 0.19941117897821306 \n",
      "For iteration number 15, the test error decreased , test error : 0.17901303546069072 \n",
      "For iteration number 16, the test error decreased , test error : 0.16219479442222662 \n",
      "For iteration number 17, the test error decreased , test error : 0.14867514571838564 \n",
      "For iteration number 18, the test error decreased , test error : 0.13771399888317687 \n",
      "For iteration number 19, the test error decreased , test error : 0.12862280261797682 \n"
     ]
    },
    {
     "name": "stderr",
     "output_type": "stream",
     "text": [
      "/Users/Clement/anaconda3/lib/python3.7/site-packages/sklearn/gaussian_process/_gpr.py:504: ConvergenceWarning: lbfgs failed to converge (status=2):\n",
      "ABNORMAL_TERMINATION_IN_LNSRCH.\n",
      "\n",
      "Increase the number of iterations (max_iter) or scale the data as shown in:\n",
      "    https://scikit-learn.org/stable/modules/preprocessing.html\n",
      "  _check_optimize_result(\"lbfgs\", opt_res)\n"
     ]
    },
    {
     "name": "stdout",
     "output_type": "stream",
     "text": [
      "For iteration number 20, the test error decreased , test error : 0.1215667671476355 \n",
      "For iteration number 21, the test error decreased , test error : 0.11603283777494745 \n",
      "For iteration number 22, the test error decreased , test error : 0.11166133900793064 \n",
      "For iteration number 23, the test error decreased , test error : 0.108226834515382 \n",
      "For iteration number 24, the test error decreased , test error : 0.10555513038052136 \n",
      "For iteration number 25, the test error decreased , test error : 0.1034914988576821 \n",
      "For iteration number 26, the test error decreased , test error : 0.10187524031961127 \n",
      "For iteration number 27, the test error decreased , test error : 0.10060566569443494 \n",
      "For iteration number 28, the test error decreased , test error : 0.09960513227349199 \n",
      "For iteration number 29, the test error decreased , test error : 0.09881358657829428 \n",
      "For iteration number 30, the test error decreased , test error : 0.09818466778063263 \n",
      "For iteration number 31, the test error decreased , test error : 0.09768264175137156 \n",
      "For iteration number 32, the test error decreased , test error : 0.09727998364660483 \n",
      "For iteration number 33, the test error decreased , test error : 0.09695548047154705 \n",
      "For iteration number 34, the test error decreased , test error : 0.09669276112465885 \n",
      "For iteration number 35, the test error decreased , test error : 0.09647732275946927 \n",
      "For iteration number 36, the test error decreased , test error : 0.09629981164903319 \n",
      "For iteration number 37, the test error decreased , test error : 0.09615299379671262 \n",
      "For iteration number 38, the test error decreased , test error : 0.09603112740690212 \n",
      "For iteration number 39, the test error decreased , test error : 0.09592963463115226 \n",
      "For iteration number 40, the test error increased , test error : 0.09592963463115226 \n",
      "For iteration number 41, the test error decreased , test error : 0.09577381839273905 \n",
      "For iteration number 42, the test error increased , test error : 0.09577381839273905 \n",
      "For iteration number 43, the test error decreased , test error : 0.09566392825778673 \n",
      "For iteration number 44, the test error increased , test error : 0.09566392825778673 \n",
      "For iteration number 45, the test error increased , test error : 0.09566392825778673 \n",
      "For iteration number 46, the test error decreased , test error : 0.0955553797587895 \n",
      "For iteration number 47, the test error increased , test error : 0.0955553797587895 \n",
      "For iteration number 48, the test error increased , test error : 0.0955553797587895 \n",
      "For iteration number 49, the test error increased , test error : 0.0955553797587895 \n",
      "For iteration number 0, the test error decreased , test error : 1.3615477762316786 \n",
      "For iteration number 1, the test error decreased , test error : 1.111224480503662 \n",
      "For iteration number 2, the test error decreased , test error : 0.9098268076894498 \n",
      "For iteration number 3, the test error decreased , test error : 0.7431171277663046 \n",
      "For iteration number 4, the test error decreased , test error : 0.6092043755177184 \n",
      "For iteration number 5, the test error decreased , test error : 0.49931645722234663 \n",
      "For iteration number 6, the test error decreased , test error : 0.4108188250901286 \n",
      "For iteration number 7, the test error decreased , test error : 0.34056039909488567 \n",
      "For iteration number 8, the test error decreased , test error : 0.28444074391935453 \n",
      "For iteration number 9, the test error decreased , test error : 0.23986403329488132 \n",
      "For iteration number 10, the test error decreased , test error : 0.20425379077305758 \n",
      "For iteration number 11, the test error decreased , test error : 0.17643496219915294 \n",
      "For iteration number 12, the test error decreased , test error : 0.15532648055635742 \n",
      "For iteration number 13, the test error decreased , test error : 0.13889904535533712 \n",
      "For iteration number 14, the test error decreased , test error : 0.12657354674453203 \n",
      "For iteration number 15, the test error decreased , test error : 0.11766560003933586 \n",
      "For iteration number 16, the test error decreased , test error : 0.1112285770667562 \n",
      "For iteration number 17, the test error decreased , test error : 0.10656064319327838 \n",
      "For iteration number 18, the test error decreased , test error : 0.10323448148136062 \n",
      "For iteration number 19, the test error decreased , test error : 0.10086190012837255 \n",
      "For iteration number 20, the test error decreased , test error : 0.0991481321241894 \n",
      "For iteration number 21, the test error decreased , test error : 0.0979029156053704 \n",
      "For iteration number 22, the test error decreased , test error : 0.09699164868015324 \n",
      "For iteration number 23, the test error decreased , test error : 0.09631932832207622 \n",
      "For iteration number 24, the test error decreased , test error : 0.09581901455652748 \n",
      "For iteration number 25, the test error decreased , test error : 0.0954435216362221 \n",
      "For iteration number 26, the test error decreased , test error : 0.0951574071670799 \n",
      "For iteration number 27, the test error decreased , test error : 0.09493664615535473 \n",
      "For iteration number 28, the test error decreased , test error : 0.09476515569461845 \n",
      "For iteration number 29, the test error decreased , test error : 0.09463111244090999 \n",
      "For iteration number 30, the test error decreased , test error : 0.09452575233997383 \n",
      "For iteration number 31, the test error increased , test error : 0.09452575233997383 \n",
      "For iteration number 32, the test error decreased , test error : 0.09437648620434483 \n",
      "For iteration number 33, the test error increased , test error : 0.09437648620434483 \n",
      "For iteration number 34, the test error increased , test error : 0.09437648620434483 \n",
      "For iteration number 35, the test error decreased , test error : 0.09424813917186003 \n",
      "For iteration number 36, the test error increased , test error : 0.09424813917186003 \n",
      "For iteration number 37, the test error increased , test error : 0.09424813917186003 \n",
      "For iteration number 38, the test error increased , test error : 0.09424813917186003 \n",
      "For iteration number 0, the test error decreased , test error : 1.2886671810435382 \n",
      "For iteration number 1, the test error decreased , test error : 0.997056897959904 \n",
      "For iteration number 2, the test error decreased , test error : 0.7685269609566444 \n",
      "For iteration number 3, the test error decreased , test error : 0.5957071490580526 \n",
      "For iteration number 4, the test error decreased , test error : 0.46179407452372756 \n",
      "For iteration number 5, the test error decreased , test error : 0.36024543901031486 \n",
      "For iteration number 6, the test error decreased , test error : 0.2839461569141365 \n",
      "For iteration number 7, the test error decreased , test error : 0.22660453799962404 \n",
      "For iteration number 8, the test error decreased , test error : 0.18348507508259376 \n",
      "For iteration number 9, the test error decreased , test error : 0.15232844272685478 \n",
      "For iteration number 10, the test error decreased , test error : 0.12947284366611375 \n",
      "For iteration number 11, the test error decreased , test error : 0.1137880217850145 \n",
      "For iteration number 12, the test error decreased , test error : 0.10301598507873232 \n",
      "For iteration number 13, the test error decreased , test error : 0.09587961328158491 \n",
      "For iteration number 14, the test error decreased , test error : 0.09119064651453536 \n",
      "For iteration number 15, the test error decreased , test error : 0.08813263590343147 \n",
      "For iteration number 16, the test error decreased , test error : 0.08611533506896035 \n",
      "For iteration number 17, the test error decreased , test error : 0.0847741753528424 \n",
      "For iteration number 18, the test error decreased , test error : 0.08387269779476733 \n",
      "For iteration number 19, the test error decreased , test error : 0.08325896770683701 \n",
      "For iteration number 20, the test error decreased , test error : 0.08283562135616823 \n",
      "For iteration number 21, the test error decreased , test error : 0.08253408216220241 \n",
      "For iteration number 22, the test error decreased , test error : 0.08231672236544764 \n",
      "For iteration number 23, the test error decreased , test error : 0.08215832276078089 \n",
      "For iteration number 24, the test error decreased , test error : 0.08204176314338323 \n",
      "For iteration number 25, the test error increased , test error : 0.08204176314338323 \n",
      "For iteration number 26, the test error decreased , test error : 0.08189059479870209 \n"
     ]
    },
    {
     "name": "stdout",
     "output_type": "stream",
     "text": [
      "For iteration number 27, the test error increased , test error : 0.08189059479870209 \n",
      "For iteration number 28, the test error increased , test error : 0.08189059479870209 \n",
      "For iteration number 29, the test error decreased , test error : 0.08177720691533119 \n",
      "For iteration number 30, the test error increased , test error : 0.08177720691533119 \n",
      "For iteration number 31, the test error increased , test error : 0.08177720691533119 \n",
      "For iteration number 32, the test error increased , test error : 0.08177720691533119 \n",
      "For iteration number 0, the test error decreased , test error : 1.2158338702912501 \n",
      "For iteration number 1, the test error decreased , test error : 0.8897617306052947 \n",
      "For iteration number 2, the test error decreased , test error : 0.6508186358288908 \n",
      "For iteration number 3, the test error decreased , test error : 0.4779842378975541 \n",
      "For iteration number 4, the test error decreased , test error : 0.35420533884435557 \n",
      "For iteration number 5, the test error decreased , test error : 0.2674108005795563 \n",
      "For iteration number 6, the test error decreased , test error : 0.2060874817505086 \n",
      "For iteration number 7, the test error decreased , test error : 0.1640661739828751 \n",
      "For iteration number 8, the test error decreased , test error : 0.13610340606097057 \n",
      "For iteration number 9, the test error decreased , test error : 0.11839555360220601 \n",
      "For iteration number 10, the test error decreased , test error : 0.1073346776626133 \n",
      "For iteration number 11, the test error decreased , test error : 0.10073913468797097 \n",
      "For iteration number 12, the test error decreased , test error : 0.09683613970678356 \n",
      "For iteration number 13, the test error decreased , test error : 0.09447824055603053 \n",
      "For iteration number 14, the test error decreased , test error : 0.09303261836396975 \n",
      "For iteration number 15, the test error decreased , test error : 0.09212936996981826 \n",
      "For iteration number 16, the test error decreased , test error : 0.09155337345175987 \n",
      "For iteration number 17, the test error decreased , test error : 0.0911742316725084 \n",
      "For iteration number 18, the test error decreased , test error : 0.09091848821789371 \n"
     ]
    },
    {
     "name": "stderr",
     "output_type": "stream",
     "text": [
      "/Users/Clement/anaconda3/lib/python3.7/site-packages/sklearn/gaussian_process/_gpr.py:504: ConvergenceWarning: lbfgs failed to converge (status=2):\n",
      "ABNORMAL_TERMINATION_IN_LNSRCH.\n",
      "\n",
      "Increase the number of iterations (max_iter) or scale the data as shown in:\n",
      "    https://scikit-learn.org/stable/modules/preprocessing.html\n",
      "  _check_optimize_result(\"lbfgs\", opt_res)\n"
     ]
    },
    {
     "name": "stdout",
     "output_type": "stream",
     "text": [
      "For iteration number 19, the test error decreased , test error : 0.09074339974320998 \n"
     ]
    },
    {
     "name": "stderr",
     "output_type": "stream",
     "text": [
      "/Users/Clement/anaconda3/lib/python3.7/site-packages/sklearn/gaussian_process/_gpr.py:504: ConvergenceWarning: lbfgs failed to converge (status=2):\n",
      "ABNORMAL_TERMINATION_IN_LNSRCH.\n",
      "\n",
      "Increase the number of iterations (max_iter) or scale the data as shown in:\n",
      "    https://scikit-learn.org/stable/modules/preprocessing.html\n",
      "  _check_optimize_result(\"lbfgs\", opt_res)\n"
     ]
    },
    {
     "name": "stdout",
     "output_type": "stream",
     "text": [
      "For iteration number 20, the test error decreased , test error : 0.09062200991434384 \n",
      "For iteration number 21, the test error increased , test error : 0.09062200991434384 \n",
      "For iteration number 22, the test error decreased , test error : 0.09047687252992806 \n",
      "For iteration number 23, the test error increased , test error : 0.09047687252992806 \n",
      "For iteration number 24, the test error increased , test error : 0.09047687252992806 \n",
      "For iteration number 25, the test error increased , test error : 0.09047687252992806 \n",
      "For iteration number 0, the test error decreased , test error : 1.143056882621129 \n",
      "For iteration number 1, the test error decreased , test error : 0.7894410481231806 \n",
      "For iteration number 2, the test error decreased , test error : 0.5477262429981992 \n",
      "For iteration number 3, the test error decreased , test error : 0.3829823472013884 \n",
      "For iteration number 4, the test error decreased , test error : 0.2757253431652457 \n",
      "For iteration number 5, the test error decreased , test error : 0.2055742947727126 \n",
      "For iteration number 6, the test error decreased , test error : 0.16163022950327535 \n",
      "For iteration number 7, the test error decreased , test error : 0.1358124519212373 \n",
      "For iteration number 8, the test error decreased , test error : 0.12104976886192488 \n",
      "For iteration number 9, the test error decreased , test error : 0.11298837258881565 \n",
      "For iteration number 10, the test error decreased , test error : 0.10867571016789321 \n",
      "For iteration number 11, the test error decreased , test error : 0.10628986731810909 \n",
      "For iteration number 12, the test error decreased , test error : 0.10493415160341053 \n",
      "For iteration number 13, the test error decreased , test error : 0.10414054321453556 \n",
      "For iteration number 14, the test error decreased , test error : 0.1036597908926779 \n",
      "For iteration number 15, the test error decreased , test error : 0.10335715700424439 \n",
      "For iteration number 16, the test error decreased , test error : 0.10316293941898894 \n",
      "For iteration number 17, the test error decreased , test error : 0.10303635151864587 \n",
      "For iteration number 18, the test error increased , test error : 0.10303635151864587 \n",
      "For iteration number 19, the test error decreased , test error : 0.10289720592474116 \n",
      "For iteration number 20, the test error increased , test error : 0.10289720592474116 \n",
      "For iteration number 21, the test error increased , test error : 0.10289720592474116 \n",
      "For iteration number 22, the test error increased , test error : 0.10289720592474116 \n",
      "For iteration number 0, the test error decreased , test error : 1.070347706952791 \n",
      "For iteration number 1, the test error decreased , test error : 0.6962336347267104 \n",
      "For iteration number 2, the test error decreased , test error : 0.45729247743513324 \n",
      "For iteration number 3, the test error decreased , test error : 0.3075268712684305 \n"
     ]
    },
    {
     "name": "stderr",
     "output_type": "stream",
     "text": [
      "/Users/Clement/anaconda3/lib/python3.7/site-packages/sklearn/gaussian_process/_gpr.py:504: ConvergenceWarning: lbfgs failed to converge (status=2):\n",
      "ABNORMAL_TERMINATION_IN_LNSRCH.\n",
      "\n",
      "Increase the number of iterations (max_iter) or scale the data as shown in:\n",
      "    https://scikit-learn.org/stable/modules/preprocessing.html\n",
      "  _check_optimize_result(\"lbfgs\", opt_res)\n"
     ]
    },
    {
     "name": "stdout",
     "output_type": "stream",
     "text": [
      "For iteration number 4, the test error decreased , test error : 0.21862634155448307 \n",
      "For iteration number 5, the test error decreased , test error : 0.16672770080598084 \n",
      "For iteration number 6, the test error decreased , test error : 0.1385622108363106 \n",
      "For iteration number 7, the test error decreased , test error : 0.12438035640781729 \n",
      "For iteration number 8, the test error decreased , test error : 0.11742480100144444 \n",
      "For iteration number 9, the test error decreased , test error : 0.11402973199766545 \n",
      "For iteration number 10, the test error decreased , test error : 0.11227825381588556 \n",
      "For iteration number 11, the test error decreased , test error : 0.11133717262496953 \n",
      "For iteration number 12, the test error decreased , test error : 0.11080856448049953 \n",
      "For iteration number 13, the test error decreased , test error : 0.11049735805140089 \n",
      "For iteration number 14, the test error decreased , test error : 0.11030973273733866 \n",
      "For iteration number 15, the test error decreased , test error : 0.110194561959335 \n",
      "For iteration number 16, the test error increased , test error : 0.110194561959335 \n",
      "For iteration number 17, the test error decreased , test error : 0.11007789579406928 \n",
      "For iteration number 18, the test error increased , test error : 0.11007789579406928 \n",
      "For iteration number 19, the test error increased , test error : 0.11007789579406928 \n",
      "For iteration number 20, the test error increased , test error : 0.11007789579406928 \n",
      "For iteration number 0, the test error decreased , test error : 0.9977211688453312 \n",
      "For iteration number 1, the test error decreased , test error : 0.5950052694370691 \n",
      "For iteration number 2, the test error decreased , test error : 0.3581783554526815 \n",
      "For iteration number 3, the test error decreased , test error : 0.2229082774532727 \n",
      "For iteration number 4, the test error decreased , test error : 0.14636195138043687 \n",
      "For iteration number 5, the test error decreased , test error : 0.10592828032953389 \n",
      "For iteration number 6, the test error decreased , test error : 0.08654211540508719 \n",
      "For iteration number 7, the test error decreased , test error : 0.07810741847716092 \n",
      "For iteration number 8, the test error decreased , test error : 0.07447660113647243 \n",
      "For iteration number 9, the test error decreased , test error : 0.07286747263616708 \n",
      "For iteration number 10, the test error decreased , test error : 0.07212119922124989 \n",
      "For iteration number 11, the test error decreased , test error : 0.07174015318527793 \n",
      "For iteration number 12, the test error decreased , test error : 0.07153610962041479 \n",
      "For iteration number 13, the test error decreased , test error : 0.07142271720540626 \n",
      "For iteration number 14, the test error increased , test error : 0.07142271720540626 \n",
      "For iteration number 15, the test error decreased , test error : 0.07132012701713948 \n",
      "For iteration number 16, the test error increased , test error : 0.07132012701713948 \n",
      "For iteration number 17, the test error increased , test error : 0.07132012701713948 \n",
      "For iteration number 18, the test error increased , test error : 0.07132012701713948 \n",
      "For iteration number 0, the test error decreased , test error : 0.9251967292724946 \n",
      "For iteration number 1, the test error decreased , test error : 0.5160183049094884 \n",
      "For iteration number 2, the test error decreased , test error : 0.29420873481498117 \n",
      "For iteration number 3, the test error decreased , test error : 0.1802105126373137 \n",
      "For iteration number 4, the test error decreased , test error : 0.12513859533377644 \n",
      "For iteration number 5, the test error decreased , test error : 0.10125997570199376 \n",
      "For iteration number 6, the test error decreased , test error : 0.0919702663406702 \n",
      "For iteration number 7, the test error decreased , test error : 0.08842700509036779 \n",
      "For iteration number 8, the test error decreased , test error : 0.08698298959380835 \n",
      "For iteration number 9, the test error decreased , test error : 0.086347356662934 \n",
      "For iteration number 10, the test error decreased , test error : 0.08603864503230489 \n",
      "For iteration number 11, the test error decreased , test error : 0.08588140836237869 \n",
      "For iteration number 12, the test error increased , test error : 0.08588140836237869 \n",
      "For iteration number 13, the test error decreased , test error : 0.08575390726225189 \n",
      "For iteration number 14, the test error increased , test error : 0.08575390726225189 \n",
      "For iteration number 15, the test error increased , test error : 0.08575390726225189 \n",
      "For iteration number 16, the test error increased , test error : 0.08575390726225189 \n",
      "For iteration number 0, the test error decreased , test error : 0.8528004368328979 \n",
      "For iteration number 1, the test error decreased , test error : 0.4437882495085332 \n",
      "For iteration number 2, the test error decreased , test error : 0.24317791801736605 \n",
      "For iteration number 3, the test error decreased , test error : 0.15123577933835552 \n",
      "For iteration number 4, the test error decreased , test error : 0.11479837848567155 \n",
      "For iteration number 5, the test error decreased , test error : 0.10187575162813389 \n"
     ]
    },
    {
     "name": "stderr",
     "output_type": "stream",
     "text": [
      "/Users/Clement/anaconda3/lib/python3.7/site-packages/sklearn/gaussian_process/_gpr.py:504: ConvergenceWarning: lbfgs failed to converge (status=2):\n",
      "ABNORMAL_TERMINATION_IN_LNSRCH.\n",
      "\n",
      "Increase the number of iterations (max_iter) or scale the data as shown in:\n",
      "    https://scikit-learn.org/stable/modules/preprocessing.html\n",
      "  _check_optimize_result(\"lbfgs\", opt_res)\n"
     ]
    },
    {
     "name": "stdout",
     "output_type": "stream",
     "text": [
      "For iteration number 6, the test error decreased , test error : 0.09756561364447552 \n",
      "For iteration number 7, the test error decreased , test error : 0.09598562313198575 \n",
      "For iteration number 8, the test error decreased , test error : 0.09534537676827007 \n",
      "For iteration number 9, the test error decreased , test error : 0.09505568660705918 \n",
      "For iteration number 10, the test error decreased , test error : 0.09491774108712847 \n",
      "For iteration number 11, the test error increased , test error : 0.09491774108712847 \n",
      "For iteration number 12, the test error decreased , test error : 0.09481559564040883 \n",
      "For iteration number 13, the test error increased , test error : 0.09481559564040883 \n",
      "For iteration number 14, the test error increased , test error : 0.09481559564040883 \n",
      "For iteration number 15, the test error increased , test error : 0.09481559564040883 \n"
     ]
    }
   ],
   "source": [
    "models = dict((val, []) for val in range(len(learning_rates))) \n",
    "train_errors = dict((val, []) for val in range(len(learning_rates))) \n",
    "test_errors = dict((val, []) for val in range(len(learning_rates))) \n",
    "min_errors = dict((val, []) for val in range(len(learning_rates))) \n",
    "\n",
    "for i in range(len(learning_rates)) :\n",
    "    models[i], train_errors[i], test_errors[i], min_errors[i] = Gradient_Boosting(np.copy(Flattened_X_train), np.copy(y_train), np.copy(Flattened_X_test), np.copy(y_test), Max_Iter, (float(\"inf\"), float(\"inf\")), 3, kernel, learning_rates[i], Epsilon)"
   ]
  },
  {
   "cell_type": "code",
   "execution_count": null,
   "metadata": {},
   "outputs": [],
   "source": [
    "models = dict((val, []) for val in range(len(learning_rates))) \n",
    "train_errors = dict((val, []) for val in range(len(learning_rates))) \n",
    "test_errors = dict((val, []) for val in range(len(learning_rates))) \n",
    "min_errors = dict((val, []) for val in range(len(learning_rates))) \n",
    "\n",
    "for i in range(len(learning_rates)) :\n",
    "    models[i], train_errors[i], test_errors[i], min_errors[i] = Stochastic_Gradient_Boosting(np.copy(Flattened_X_train), np.copy(y_train), np.copy(Flattened_X_test), np.copy(y_test), Max_Iter, (float(\"inf\"), float(\"inf\")), 5, kernel, learning_rates[i], Epsilon, round(Flattened_X_train.shape[0]*Ratio))\n"
   ]
  },
  {
   "cell_type": "code",
   "execution_count": null,
   "metadata": {},
   "outputs": [],
   "source": [
    "for i in range(len(test_errors)):\n",
    "    while len(test_errors[i]) != Max_Iter :\n",
    "        test_errors[i].append(test_errors[i][-1])\n"
   ]
  },
  {
   "cell_type": "code",
   "execution_count": null,
   "metadata": {},
   "outputs": [],
   "source": [
    "plt.figure(figsize=((18, 6)))\n",
    "for i in range(len(learning_rates)) :\n",
    "    #plt.axvline(min_errors[i][1], ls='-', color = 'k', label = 'Test Minimal Error for rate : {rate}')\n",
    "    plt.plot(np.arange(len(test_errors[i][:61])) , np.log(test_errors[i][:61]), label = f'learning rate :{learning_rates[i]}')\n",
    "plt.axhline(np.log(test_reference_error), ls=':', color = 'orange', label = 'Test Reference Error')\n",
    "plt.xlabel(\"Number of Iterations\")\n",
    "plt.title(f\"Stochastic Gradient Boosting: N_train = {N_train}, d= {d}, N_test= {N_test}, Stochastic_Rate : {Ratio}, with different Learning Rates\")\n",
    "plt.ylabel(\"Log Normalized Error\")\n",
    "plt.legend(loc='upper right')\n",
    "plt.show()"
   ]
  },
  {
   "cell_type": "code",
   "execution_count": null,
   "metadata": {},
   "outputs": [],
   "source": [
    "plt.figure(figsize=((18, 4)))\n",
    "for i in range(len(learning_rates)) :\n",
    "    plt.plot(np.arange(len(test_errors[i][:])) , test_errors[i][:], label = f'learning rate :{learning_rates[i]}')\n",
    "plt.axhline(test_reference_error, ls=':', color = 'orange', label = 'Test Reference Error')\n",
    "plt.xlabel(\"Number of Iterations\")\n",
    "plt.title(f\"Stochastic Gradient Boosting: N_train = {N_train}, d= {d}, N_test= {N_test}, Stochastic_Rate : {Ratio}, with different Learning Rates\")\n",
    "plt.ylabel(\"Normalized Error\")\n",
    "plt.legend(loc='upper right')\n",
    "plt.show()"
   ]
  },
  {
   "cell_type": "code",
   "execution_count": 67,
   "metadata": {},
   "outputs": [],
   "source": [
    "boost_error = min_error[0]"
   ]
  },
  {
   "cell_type": "code",
   "execution_count": 68,
   "metadata": {},
   "outputs": [
    {
     "data": {
      "text/plain": [
       "0.13899458016521793"
      ]
     },
     "execution_count": 68,
     "metadata": {},
     "output_type": "execute_result"
    }
   ],
   "source": [
    "test_reference_error"
   ]
  },
  {
   "cell_type": "code",
   "execution_count": 69,
   "metadata": {},
   "outputs": [
    {
     "data": {
      "text/plain": [
       "0.08663505579920858"
      ]
     },
     "execution_count": 69,
     "metadata": {},
     "output_type": "execute_result"
    }
   ],
   "source": [
    "boost_error"
   ]
  },
  {
   "cell_type": "code",
   "execution_count": 70,
   "metadata": {},
   "outputs": [
    {
     "data": {
      "text/plain": [
       "0.05235952436600935"
      ]
     },
     "execution_count": 70,
     "metadata": {},
     "output_type": "execute_result"
    }
   ],
   "source": [
    "test_reference_error - boost_error"
   ]
  },
  {
   "cell_type": "code",
   "execution_count": 82,
   "metadata": {},
   "outputs": [
    {
     "data": {
      "image/png": "[encoded data removed]",
      "text/plain": [
       "<Figure size 1296x288 with 1 Axes>"
      ]
     },
     "metadata": {
      "needs_background": "light"
     },
     "output_type": "display_data"
    }
   ],
   "source": [
    "plt.figure(figsize = (18, 4))\n",
    "plt.axhline(train_error[0], ls=':', color = 'orange', label = 'Training Reference Error')\n",
    "plt.plot(np.arange(len(train_error)) ,train_error)\n",
    "plt.title(f\"Batch Boosting: Iterations = {len(train_error)}, N_train = {N_train}, d= {d}, N_test= {N_test}\")\n",
    "plt.xlabel(\"Number of Iterations\")\n",
    "\n",
    "plt.ylabel(\"normalized error\")\n",
    "plt.legend(loc='center right')\n",
    "plt.show()"
   ]
  },
  {
   "cell_type": "code",
   "execution_count": 76,
   "metadata": {},
   "outputs": [
    {
     "data": {
      "image/png": "[encoded data removed]",
      "text/plain": [
       "<Figure size 1296x288 with 1 Axes>"
      ]
     },
     "metadata": {
      "needs_background": "light"
     },
     "output_type": "display_data"
    }
   ],
   "source": [
    "plt.figure(figsize = (18, 4))\n",
    "plt.axhline(test_reference_error, ls=':', color = 'orange', label = 'Test Reference Error')\n",
    "plt.axvline(min_error[1], ls='-', color = 'k', label = 'Test Minimal  Error')\n",
    "plt.plot(np.arange(10,len(test_error[:])) , test_error[10:])\n",
    "plt.title(f\"Batch Boosting: N_train = {N_train}, d= {d}, N_test= {N_test} , Learning_Rate = {Learning_Rate}\")\n",
    "plt.xlabel(\"Number of Iteration\")\n",
    "\n",
    "plt.ylabel(\"Normalized Error\")\n",
    "plt.legend(loc='center right')\n",
    "plt.show()"
   ]
  }
 ],
 "metadata": {
  "kernelspec": {
   "display_name": "Python 3",
   "language": "python",
   "name": "python3"
  },
  "language_info": {
   "codemirror_mode": {
    "name": "ipython",
    "version": 3
   },
   "file_extension": ".py",
   "mimetype": "text/x-python",
   "name": "python",
   "nbconvert_exporter": "python",
   "pygments_lexer": "ipython3",
   "version": "3.7.9"
  },
  "toc": {
   "base_numbering": 1,
   "nav_menu": {},
   "number_sections": true,
   "sideBar": true,
   "skip_h1_title": false,
   "title_cell": "Table of Contents",
   "title_sidebar": "Contents",
   "toc_cell": false,
   "toc_position": {},
   "toc_section_display": true,
   "toc_window_display": false
  }
 },
 "nbformat": 4,
 "nbformat_minor": 2
}
