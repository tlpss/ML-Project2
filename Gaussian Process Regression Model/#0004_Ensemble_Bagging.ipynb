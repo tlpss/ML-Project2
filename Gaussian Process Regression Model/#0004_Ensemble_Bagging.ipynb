{
 "cells": [
  {
   "cell_type": "markdown",
   "metadata": {},
   "source": [
    "# Ensemble Learning through Bagging \n",
    "\n",
    "**bagging == Bootstrapping Aggregation** \n",
    "\n",
    "$\\implies$  hyperparam = {M = #learners, alpha = # relative trainset size}\n"
   ]
  },
  {
   "cell_type": "code",
   "execution_count": 12,
   "metadata": {
    "ExecuteTime": {
     "end_time": "2020-11-15T16:46:48.795234Z",
     "start_time": "2020-11-15T16:46:48.790245Z"
    }
   },
   "outputs": [],
   "source": [
    "import numpy as np\n",
    "import random\n",
    "import matplotlib.pyplot as plt\n",
    "from sklearn.gaussian_process import GaussianProcessRegressor\n",
    "from sklearn.gaussian_process.kernels import RBF, WhiteKernel\n",
    "\n",
    "# add project root folder to path to allow import local modules\n",
    "import os\n",
    "import sys\n",
    "module_path = os.path.abspath(os.path.join('..'))\n",
    "if module_path not in sys.path:\n",
    "    sys.path.append(module_path)\n",
    "# import local modules\n",
    "from stochastic_models import *\n",
    "from visualisations import *\n",
    "from basic_estimator_model import *"
   ]
  },
  {
   "cell_type": "markdown",
   "metadata": {
    "ExecuteTime": {
     "end_time": "2020-11-14T11:40:28.368547Z",
     "start_time": "2020-11-14T11:40:28.365554Z"
    }
   },
   "source": [
    "## Parameter Configuration"
   ]
  },
  {
   "cell_type": "code",
   "execution_count": 13,
   "metadata": {
    "ExecuteTime": {
     "end_time": "2020-11-15T16:46:49.254006Z",
     "start_time": "2020-11-15T16:46:49.249983Z"
    }
   },
   "outputs": [],
   "source": [
    "np.random.seed(2020)"
   ]
  },
  {
   "cell_type": "code",
   "execution_count": 14,
   "metadata": {
    "ExecuteTime": {
     "end_time": "2020-11-15T16:46:49.406564Z",
     "start_time": "2020-11-15T16:46:49.403608Z"
    }
   },
   "outputs": [],
   "source": [
    "N_train = 2000\n",
    "N_test = 100000\n",
    "d = 1\n",
    "T = 2"
   ]
  },
  {
   "cell_type": "code",
   "execution_count": 15,
   "metadata": {
    "ExecuteTime": {
     "end_time": "2020-11-15T16:46:49.560158Z",
     "start_time": "2020-11-15T16:46:49.555203Z"
    }
   },
   "outputs": [],
   "source": [
    "lambda_range = (N_train*1e-9 , N_train*1e-3)\n",
    "alpha_range = (8.3*1e-5, 0.83)\n",
    "length_scale = np.sort(1/np.sqrt((2*alpha_range[0], 2*alpha_range[1])))"
   ]
  },
  {
   "cell_type": "markdown",
   "metadata": {
    "ExecuteTime": {
     "end_time": "2020-11-14T11:40:29.811046Z",
     "start_time": "2020-11-14T11:40:29.808054Z"
    }
   },
   "source": [
    "## Create Kernel & prepare datasets"
   ]
  },
  {
   "cell_type": "code",
   "execution_count": 16,
   "metadata": {
    "ExecuteTime": {
     "end_time": "2020-11-15T16:46:49.859711Z",
     "start_time": "2020-11-15T16:46:49.855734Z"
    }
   },
   "outputs": [],
   "source": [
    "#kernel\n",
    "kernel = RBF(length_scale= (length_scale[0] + length_scale[1])/2, length_scale_bounds=length_scale) \\\n",
    "        + WhiteKernel(noise_level= (lambda_range[0] + lambda_range[1])/2 , noise_level_bounds=lambda_range)\n"
   ]
  },
  {
   "cell_type": "code",
   "execution_count": 17,
   "metadata": {
    "ExecuteTime": {
     "end_time": "2020-11-15T16:46:52.310200Z",
     "start_time": "2020-11-15T16:46:52.292247Z"
    }
   },
   "outputs": [],
   "source": [
    "#generate drivers\n",
    "s_train = MaxCallStochasticModel(N_train,d,[1/12,11/12])\n",
    "s_train.generate_samples()\n",
    "s_test = MaxCallStochasticModel(N_test, d, [1/12,11/12])\n",
    "s_test.generate_samples()"
   ]
  },
  {
   "cell_type": "code",
   "execution_count": 18,
   "metadata": {
    "ExecuteTime": {
     "end_time": "2020-11-15T16:46:53.718720Z",
     "start_time": "2020-11-15T16:46:53.710752Z"
    }
   },
   "outputs": [
    {
     "data": {
      "text/plain": [
       "0.07925421829077972"
      ]
     },
     "execution_count": 18,
     "metadata": {},
     "output_type": "execute_result"
    }
   ],
   "source": [
    "#prepare datasets & values\n",
    "y_train = s_train.y\n",
    "X_train = s_train.X\n",
    "S_train = s_train.S\n",
    "\n",
    "y_test = s_test.y\n",
    "X_test = s_test.X\n",
    "S_test = s_test.S\n",
    "\n",
    "V_T = y_test  \n",
    "V_0 = s_test.generate_true_V(0)\n",
    "\n",
    "V_0= V_0.mean()\n",
    "V_0 # Average expected PROFIT!"
   ]
  },
  {
   "cell_type": "code",
   "execution_count": 19,
   "metadata": {
    "ExecuteTime": {
     "end_time": "2020-11-15T16:46:54.212553Z",
     "start_time": "2020-11-15T16:46:54.053801Z"
    }
   },
   "outputs": [],
   "source": [
    "# \n",
    "def Flatten_Training_Sample(X , f):\n",
    "    return np.array([f(x) for x in X])\n",
    "#Shape of each sample j: [X_j[0,0],... ,X_j[d,0],...,X_j[0,T] , ..., X_j[d,T]]\n",
    "Flatten_X_1_train = Flatten_Training_Sample(X_train, lambda x : x.T.flatten())\n",
    "Flatten_X_1_test = Flatten_Training_Sample(X_test, lambda x : x.T.flatten())\n"
   ]
  },
  {
   "cell_type": "markdown",
   "metadata": {
    "ExecuteTime": {
     "end_time": "2020-11-14T11:40:33.048462Z",
     "start_time": "2020-11-14T11:40:33.045471Z"
    }
   },
   "source": [
    "## Create Custom Models\n",
    "(to have more control of splitting etc)"
   ]
  },
  {
   "cell_type": "code",
   "execution_count": 29,
   "metadata": {
    "ExecuteTime": {
     "end_time": "2020-11-15T17:27:38.268083Z",
     "start_time": "2020-11-15T17:27:38.247142Z"
    }
   },
   "outputs": [
    {
     "data": {
      "text/plain": [
       "{'M': 11, 'predictor': None, 'train_size_alpha': 0.5}"
      ]
     },
     "execution_count": 29,
     "metadata": {},
     "output_type": "execute_result"
    }
   ],
   "source": [
    "from sklearn.base import clone, BaseEstimator\n",
    "\n",
    "class BaggingBaseClass(BaseEstimator):\n",
    "    def __init__(self,M,predictor):\n",
    "        super().__init__()\n",
    "        self.M = M\n",
    "        self.predictor = predictor\n",
    "        self.predictors = None\n",
    "        \n",
    "    def _split_train_set(self,X,y):\n",
    "        raise NotImplementedError\n",
    "    \n",
    "    def fit(self,X,y):\n",
    "        self.predictors  = [clone(self.predictor)] *self.M # do it here to ensure using latest version of M\n",
    "        X_list,y_list = self._split_train_set(X,y)\n",
    "        for i in range(self.M):\n",
    "            self.predictors[i].fit(X_list[i],y_list[i])\n",
    "    \n",
    "    def predict(self,X):\n",
    "        predictions = np.zeros((X.shape[0]))\n",
    "        for i in range(self.M):\n",
    "            predictions = predictions + self.predictors[i].predict(X)\n",
    "        predictions = predictions / self.M \n",
    "        return predictions\n",
    "\n",
    "class SimpleBagger(BaggingBaseClass):\n",
    "    def __init__(self,M,train_size_alpha,predictor):\n",
    "        super(SimpleBagger,self).__init__(M,predictor)\n",
    "        self.train_size_alpha = train_size_alpha\n",
    "     \n",
    "    def _split_train_set(self,X,y):\n",
    "        n = round(X.shape[0]*self.train_size_alpha)\n",
    "        X_list = []\n",
    "        y_list = []\n",
    "        for i in range(self.M):\n",
    "            indices = np.random.choice(X.shape[0],size=n,replace=True)\n",
    "            X_list.append(X[indices])\n",
    "            y_list.append(y[indices])\n",
    "        return X_list, y_list\n",
    "    \n",
    "    '''def _split_train_set(self,X,y):\n",
    "        \"\"\"\n",
    "        With replacement in between train sets, not within sets\n",
    "        \"\"\"\n",
    "        n = round(X.shape[0]*self.train_size_alpha)\n",
    "        X_list = []\n",
    "        y_list = []\n",
    "        for i in range(self.M):\n",
    "            X_list.append(X[np.random.choice(X.shape[0],size=n,replace=False)])\n",
    "            y_list.append(y[np.random.choice(y.shape[0],size=n,replace=False)])\n",
    "        return X_list, y_list'''\n",
    "    \n",
    "s = SimpleBagger(11,0.5,None)\n",
    "s.get_params()"
   ]
  },
  {
   "cell_type": "markdown",
   "metadata": {},
   "source": [
    "## GridSearch\n",
    "\n",
    "nB: cannot use Scikit gridsearch as it performs CV and we want to have a different test set of a larger size!"
   ]
  },
  {
   "cell_type": "code",
   "execution_count": 30,
   "metadata": {
    "ExecuteTime": {
     "end_time": "2020-11-15T17:27:39.347302Z",
     "start_time": "2020-11-15T17:27:39.344239Z"
    }
   },
   "outputs": [],
   "source": [
    "\n",
    "def normalized_error_VT(y_hat,y,V_0):\n",
    "        #y_hat= f_X predicted\n",
    "        # y = V_T = f_X\n",
    "        Normalized_Error_T = np.sqrt(1/len(y)*np.sum((y_hat-y)**2, axis=0))/V_0\n",
    "        ## see formula p4 for ||f(X)||2,Q t\n",
    "        ## since samples are drawn according to measure - just sum them up\n",
    "        return Normalized_Error_T\n"
   ]
  },
  {
   "cell_type": "code",
   "execution_count": 31,
   "metadata": {
    "ExecuteTime": {
     "end_time": "2020-11-15T17:48:22.345528Z",
     "start_time": "2020-11-15T17:27:39.757105Z"
    }
   },
   "outputs": [
    {
     "name": "stdout",
     "output_type": "stream",
     "text": [
      " 1,0.1,0 -> thread id = 7588 1,0.2,0 -> thread id = 9700\n",
      "\n",
      " 1,0.5,0 -> thread id = 18276\n",
      " 1,0.7,0 -> thread id = 12888\n",
      " 1,0.9,0 -> thread id = 21496\n",
      " 1,1.0,0 -> thread id = 7032\n",
      " 2,0.1,0 -> thread id = 6700\n",
      " 2,0.2,0 -> thread id = 17384\n",
      " 2,0.5,0 -> thread id = 3588\n",
      " 2,0.7,0 -> thread id = 10076\n",
      " 2,0.9,0 -> thread id = 20808\n",
      " 2,1.0,0 -> thread id = 6528\n"
     ]
    },
    {
     "name": "stderr",
     "output_type": "stream",
     "text": [
      "c:\\users\\thoma\\appdata\\local\\programs\\python\\python37\\lib\\site-packages\\sklearn\\gaussian_process\\_gpr.py:504: ConvergenceWarning: lbfgs failed to converge (status=2):\n",
      "ABNORMAL_TERMINATION_IN_LNSRCH.\n",
      "\n",
      "Increase the number of iterations (max_iter) or scale the data as shown in:\n",
      "    https://scikit-learn.org/stable/modules/preprocessing.html\n",
      "  _check_optimize_result(\"lbfgs\", opt_res)\n"
     ]
    },
    {
     "name": "stdout",
     "output_type": "stream",
     "text": [
      " 3,0.1,0 -> thread id = 7588\n",
      "1,0.1,0 -> 0.33075022934712606\n",
      " 3,0.2,0 -> thread id = 67002,0.1,0 -> 0.45425184462732565\n",
      "\n",
      " 3,0.5,0 -> thread id = 9700\n",
      "1,0.2,0 -> 0.5373781878603506\n",
      "1,0.5,0 -> 0.3224780753892159 3,0.7,0 -> thread id = 18276\n",
      "\n",
      " 3,0.9,0 -> thread id = 173842,0.2,0 -> 0.35069600013771574\n",
      "\n"
     ]
    },
    {
     "name": "stderr",
     "output_type": "stream",
     "text": [
      "c:\\users\\thoma\\appdata\\local\\programs\\python\\python37\\lib\\site-packages\\sklearn\\gaussian_process\\_gpr.py:504: ConvergenceWarning: lbfgs failed to converge (status=2):\n",
      "ABNORMAL_TERMINATION_IN_LNSRCH.\n",
      "\n",
      "Increase the number of iterations (max_iter) or scale the data as shown in:\n",
      "    https://scikit-learn.org/stable/modules/preprocessing.html\n",
      "  _check_optimize_result(\"lbfgs\", opt_res)\n"
     ]
    },
    {
     "name": "stdout",
     "output_type": "stream",
     "text": [
      "3,0.1,0 -> 0.21841783674754056 3,1.0,0 -> thread id = 7588\n",
      "\n",
      "2,0.5,0 -> 0.2289455773859458 4,0.1,0 -> thread id = 3588\n",
      "\n",
      " 4,0.2,0 -> thread id = 6700\n",
      "3,0.2,0 -> 0.29854293165351337\n",
      " 4,0.5,0 -> thread id = 128881,0.7,0 -> 0.2211902486644411\n",
      "\n",
      " 4,0.7,0 -> thread id = 70321,1.0,0 -> 0.26741059030268094\n",
      "\n",
      " 4,0.9,0 -> thread id = 214961,0.9,0 -> 0.22100803123522067\n",
      "\n",
      " 4,1.0,0 -> thread id = 35884,0.1,0 -> 0.44145186554453947\n",
      "\n",
      " 5,0.1,0 -> thread id = 100762,0.7,0 -> 0.2545933960131064\n",
      "\n",
      " 5,0.2,0 -> thread id = 208082,0.9,0 -> 0.22343854189544504\n",
      "\n",
      " 5,0.5,0 -> thread id = 65282,1.0,0 -> 0.23301156493649006\n",
      "\n"
     ]
    },
    {
     "name": "stderr",
     "output_type": "stream",
     "text": [
      "c:\\users\\thoma\\appdata\\local\\programs\\python\\python37\\lib\\site-packages\\sklearn\\gaussian_process\\_gpr.py:504: ConvergenceWarning: lbfgs failed to converge (status=2):\n",
      "ABNORMAL_TERMINATION_IN_LNSRCH.\n",
      "\n",
      "Increase the number of iterations (max_iter) or scale the data as shown in:\n",
      "    https://scikit-learn.org/stable/modules/preprocessing.html\n",
      "  _check_optimize_result(\"lbfgs\", opt_res)\n",
      "c:\\users\\thoma\\appdata\\local\\programs\\python\\python37\\lib\\site-packages\\sklearn\\gaussian_process\\_gpr.py:504: ConvergenceWarning: lbfgs failed to converge (status=2):\n",
      "ABNORMAL_TERMINATION_IN_LNSRCH.\n",
      "\n",
      "Increase the number of iterations (max_iter) or scale the data as shown in:\n",
      "    https://scikit-learn.org/stable/modules/preprocessing.html\n",
      "  _check_optimize_result(\"lbfgs\", opt_res)\n"
     ]
    },
    {
     "name": "stdout",
     "output_type": "stream",
     "text": [
      " 5,0.7,0 -> thread id = 67004,0.2,0 -> 0.23183512960080843\n",
      "\n",
      "5,0.1,0 -> 0.45331818027511855 5,0.9,0 -> thread id = 10076\n",
      "\n",
      " 5,1.0,0 -> thread id = 208085,0.2,0 -> 0.3357835565350766\n",
      "\n",
      "3,0.5,0 -> 0.19927643683504445 6,0.1,0 -> thread id = 9700\n",
      "\n",
      " 6,0.2,0 -> thread id = 12888\n",
      "4,0.5,0 -> 0.22495862441473274\n",
      " 6,0.5,0 -> thread id = 182763,0.7,0 -> 0.19864873666294325\n",
      "\n",
      " 6,0.7,0 -> thread id = 97006,0.1,0 -> 0.5469183873868739\n",
      "\n",
      " 6,0.9,0 -> thread id = 65285,0.5,0 -> 0.225243385684199\n",
      "\n",
      " 6,1.0,0 -> thread id = 70324,0.7,0 -> 0.21407343033016482\n",
      "\n",
      " 7,0.1,0 -> thread id = 173843,0.9,0 -> 0.1932039044336573\n",
      "\n",
      " 7,0.2,0 -> thread id = 75883,1.0,0 -> 0.30337300443437815\n",
      "\n",
      " 7,0.5,0 -> thread id = 128886,0.2,0 -> 0.30075172171199005\n",
      "\n",
      " 7,0.7,0 -> thread id = 21496\n",
      "4,0.9,0 -> 0.22644754483127766\n"
     ]
    },
    {
     "name": "stderr",
     "output_type": "stream",
     "text": [
      "c:\\users\\thoma\\appdata\\local\\programs\\python\\python37\\lib\\site-packages\\sklearn\\gaussian_process\\_gpr.py:504: ConvergenceWarning: lbfgs failed to converge (status=2):\n",
      "ABNORMAL_TERMINATION_IN_LNSRCH.\n",
      "\n",
      "Increase the number of iterations (max_iter) or scale the data as shown in:\n",
      "    https://scikit-learn.org/stable/modules/preprocessing.html\n",
      "  _check_optimize_result(\"lbfgs\", opt_res)\n"
     ]
    },
    {
     "name": "stdout",
     "output_type": "stream",
     "text": [
      " 7,0.9,0 -> thread id = 17384\n",
      "7,0.1,0 -> 0.5498721020806002\n"
     ]
    },
    {
     "name": "stderr",
     "output_type": "stream",
     "text": [
      "c:\\users\\thoma\\appdata\\local\\programs\\python\\python37\\lib\\site-packages\\sklearn\\gaussian_process\\_gpr.py:504: ConvergenceWarning: lbfgs failed to converge (status=2):\n",
      "ABNORMAL_TERMINATION_IN_LNSRCH.\n",
      "\n",
      "Increase the number of iterations (max_iter) or scale the data as shown in:\n",
      "    https://scikit-learn.org/stable/modules/preprocessing.html\n",
      "  _check_optimize_result(\"lbfgs\", opt_res)\n",
      "c:\\users\\thoma\\appdata\\local\\programs\\python\\python37\\lib\\site-packages\\sklearn\\gaussian_process\\_gpr.py:504: ConvergenceWarning: lbfgs failed to converge (status=2):\n",
      "ABNORMAL_TERMINATION_IN_LNSRCH.\n",
      "\n",
      "Increase the number of iterations (max_iter) or scale the data as shown in:\n",
      "    https://scikit-learn.org/stable/modules/preprocessing.html\n",
      "  _check_optimize_result(\"lbfgs\", opt_res)\n"
     ]
    },
    {
     "name": "stdout",
     "output_type": "stream",
     "text": [
      "7,0.2,0 -> 0.2538805120907184 7,1.0,0 -> thread id = 7588\n",
      "\n",
      " 8,0.1,0 -> thread id = 128887,0.5,0 -> 0.28099880187980714\n",
      "\n",
      " 8,0.2,0 -> thread id = 182766,0.5,0 -> 0.24187187245275485\n",
      "\n",
      " 8,0.7,0 -> thread id = 9700 8,0.5,0 -> thread id = 67005,0.7,0 -> 0.23330479214502509\n",
      "\n",
      "6,0.7,0 -> 0.16147891308390255\n",
      "\n",
      " 8,0.9,0 -> thread id = 128888,0.1,0 -> 0.3455581657699031\n",
      "\n",
      "7,0.7,0 -> 0.2000648783329886 8,1.0,0 -> thread id = 21496\n",
      "\n",
      "8,0.2,0 -> 0.26381018693120145\n",
      "6,0.9,0 -> 0.20952773444298542\n",
      "4,1.0,0 -> 0.2924169558272424\n",
      "5,0.9,0 -> 0.23808458302188934\n"
     ]
    },
    {
     "name": "stderr",
     "output_type": "stream",
     "text": [
      "c:\\users\\thoma\\appdata\\local\\programs\\python\\python37\\lib\\site-packages\\sklearn\\gaussian_process\\_gpr.py:504: ConvergenceWarning: lbfgs failed to converge (status=2):\n",
      "ABNORMAL_TERMINATION_IN_LNSRCH.\n",
      "\n",
      "Increase the number of iterations (max_iter) or scale the data as shown in:\n",
      "    https://scikit-learn.org/stable/modules/preprocessing.html\n",
      "  _check_optimize_result(\"lbfgs\", opt_res)\n"
     ]
    },
    {
     "name": "stdout",
     "output_type": "stream",
     "text": [
      "5,1.0,0 -> 0.1390423653314788\n",
      "6,1.0,0 -> 0.22196070753260572\n"
     ]
    },
    {
     "name": "stderr",
     "output_type": "stream",
     "text": [
      "c:\\users\\thoma\\appdata\\local\\programs\\python\\python37\\lib\\site-packages\\sklearn\\gaussian_process\\_gpr.py:504: ConvergenceWarning: lbfgs failed to converge (status=2):\n",
      "ABNORMAL_TERMINATION_IN_LNSRCH.\n",
      "\n",
      "Increase the number of iterations (max_iter) or scale the data as shown in:\n",
      "    https://scikit-learn.org/stable/modules/preprocessing.html\n",
      "  _check_optimize_result(\"lbfgs\", opt_res)\n"
     ]
    },
    {
     "name": "stdout",
     "output_type": "stream",
     "text": [
      "7,0.9,0 -> 0.21499075888422225\n",
      "8,0.5,0 -> 0.19886860842844506\n",
      "8,0.9,0 -> 0.24412634487964435\n",
      "8,0.7,0 -> 0.2871003150872592\n",
      "7,1.0,0 -> 0.3378704117796324\n",
      "8,1.0,0 -> 0.21068545509849196\n"
     ]
    }
   ],
   "source": [
    "from multiprocessing import  cpu_count,current_process\n",
    "from multiprocessing.pool import ThreadPool\n",
    "import functools\n",
    "import threading\n",
    "\n",
    "# define your custom function for passing into each thread\n",
    "def create_logger(m,alpha,trial,log):\n",
    "    def logger(x):\n",
    "        print(f\"{m},{alpha},{trial} -> {x}\")\n",
    "        log.append([m,alpha,trial,x])\n",
    "    return logger\n",
    "\n",
    "def calc_normalized_error(m,alpha, X_train, y_train, N_test,d, DeltaT, base_model,trial):\n",
    "    \"\"\"\n",
    "    Train given model on given dataset, afterwards create a new test set of size N_test and determine\n",
    "    the normalized Error\n",
    "    \n",
    "    uses:\n",
    "    - normalized_error_VT\n",
    "    - Flatten_Training_Sample\n",
    "    \"\"\"\n",
    "    print(f\" {m},{alpha},{trial} -> thread id = {threading.current_thread().ident}\")\n",
    "    model = clone(base_model)\n",
    "    model.M = m\n",
    "    model.train_size_alpha = alpha\n",
    "    model.fit(X_train,y_train)\n",
    "    s_test = MaxCallStochasticModel(N_test, d, DeltaT)\n",
    "    s_test.generate_samples()\n",
    "    y_test = s_test.y\n",
    "    X_test = s_test.X\n",
    "    S_test = s_test.S\n",
    "\n",
    "    Flatten_X_test = Flatten_Training_Sample(X_test, lambda x : x.T.flatten())\n",
    "\n",
    "    V_T = y_test  \n",
    "    V_0 = s_test.generate_true_V(0)\n",
    "    V_0= V_0.mean()\n",
    "    y_hat = model.predict(Flatten_X_test)\n",
    "    error = normalized_error_VT(y_hat,V_T,V_0).item()\n",
    "    return error\n",
    "\n",
    "# GRIDSEARCH PARAMS\n",
    "model = SimpleBagger(0,0,GaussianProcessRegressor(kernel))\n",
    "trials = 1\n",
    "M_grid = [1,2,3,4,5,6,7,8]\n",
    "alpha_grid = [0.1,0.2,0.5,0.7,0.9,1.0]\n",
    "results = []\n",
    "\n",
    "### ACTUAL GRIDSEARCH\n",
    "pool = ThreadPool(cpu_count())\n",
    "for trial in range(trials):\n",
    "    for m in M_grid:\n",
    "        for alpha in alpha_grid:\n",
    "            pool.apply_async(calc_normalized_error, args=(m,alpha,Flatten_X_1_train,y_train,N_test,1, [1/12,11/12], model,trial),callback = create_logger(m,alpha,trial,results))\n",
    "pool.close()\n",
    "pool.join()\n",
    "\n",
    "converted_results = np.ones((len(M_grid),len(alpha_grid),trials))*(-1)\n",
    "for item in results:\n",
    "    converted_results[M_grid.index(item[0]),alpha_grid.index(item[1]),item[2]] = item[3]\n"
   ]
  },
  {
   "cell_type": "code",
   "execution_count": 32,
   "metadata": {
    "ExecuteTime": {
     "end_time": "2020-11-15T17:48:22.377442Z",
     "start_time": "2020-11-15T17:48:22.356491Z"
    }
   },
   "outputs": [
    {
     "name": "stdout",
     "output_type": "stream",
     "text": [
      "(8, 6, 1)\n",
      "[[[0.33075023]\n",
      "  [0.53737819]\n",
      "  [0.32247808]\n",
      "  [0.22119025]\n",
      "  [0.22100803]\n",
      "  [0.26741059]]\n",
      "\n",
      " [[0.45425184]\n",
      "  [0.350696  ]\n",
      "  [0.22894558]\n",
      "  [0.2545934 ]\n",
      "  [0.22343854]\n",
      "  [0.23301156]]\n",
      "\n",
      " [[0.21841784]\n",
      "  [0.29854293]\n",
      "  [0.19927644]\n",
      "  [0.19864874]\n",
      "  [0.1932039 ]\n",
      "  [0.303373  ]]\n",
      "\n",
      " [[0.44145187]\n",
      "  [0.23183513]\n",
      "  [0.22495862]\n",
      "  [0.21407343]\n",
      "  [0.22644754]\n",
      "  [0.29241696]]\n",
      "\n",
      " [[0.45331818]\n",
      "  [0.33578356]\n",
      "  [0.22524339]\n",
      "  [0.23330479]\n",
      "  [0.23808458]\n",
      "  [0.13904237]]\n",
      "\n",
      " [[0.54691839]\n",
      "  [0.30075172]\n",
      "  [0.24187187]\n",
      "  [0.16147891]\n",
      "  [0.20952773]\n",
      "  [0.22196071]]\n",
      "\n",
      " [[0.5498721 ]\n",
      "  [0.25388051]\n",
      "  [0.2809988 ]\n",
      "  [0.20006488]\n",
      "  [0.21499076]\n",
      "  [0.33787041]]\n",
      "\n",
      " [[0.34555817]\n",
      "  [0.26381019]\n",
      "  [0.19886861]\n",
      "  [0.28710032]\n",
      "  [0.24412634]\n",
      "  [0.21068546]]]\n"
     ]
    }
   ],
   "source": [
    "print(converted_results.shape)\n",
    "print(converted_results)"
   ]
  },
  {
   "cell_type": "code",
   "execution_count": 33,
   "metadata": {
    "ExecuteTime": {
     "end_time": "2020-11-15T17:48:22.402377Z",
     "start_time": "2020-11-15T17:48:22.379404Z"
    }
   },
   "outputs": [
    {
     "data": {
      "text/plain": [
       "(8, 6)"
      ]
     },
     "execution_count": 33,
     "metadata": {},
     "output_type": "execute_result"
    }
   ],
   "source": [
    "masked_results= np.ma.masked_where(converted_results <= 0.0,converted_results) # some runs have been aborted every now and then -> filter them out\n",
    "means = masked_results.mean(axis=2)\n",
    "sigmas = masked_results.std(axis=2)\n",
    "means.shape"
   ]
  },
  {
   "cell_type": "code",
   "execution_count": 34,
   "metadata": {
    "ExecuteTime": {
     "end_time": "2020-11-15T17:48:22.673619Z",
     "start_time": "2020-11-15T17:48:22.403344Z"
    }
   },
   "outputs": [
    {
     "data": {
      "image/png": "[encoded data removed]",
      "text/plain": [
       "<Figure size 432x288 with 1 Axes>"
      ]
     },
     "metadata": {
      "needs_background": "light"
     },
     "output_type": "display_data"
    }
   ],
   "source": [
    "for i in range(len(alpha_grid)):\n",
    "    plt.errorbar(np.array(M_grid),means[:,i],sigmas[:,i],marker ='o',label = f\"alpha = {alpha_grid[i]}\")\n",
    "plt.title(f\"Bagging Normalized error: N_train = {N_train}, d= {d}, N_test= {N_test}\")\n",
    "plt.xlabel(\"M\")\n",
    "plt.xticks(M_grid)\n",
    "plt.ylabel(\"normalized error\")\n",
    "plt.legend()\n",
    "plt.show()"
   ]
  },
  {
   "cell_type": "markdown",
   "metadata": {},
   "source": [
    "\n"
   ]
  },
  {
   "cell_type": "markdown",
   "metadata": {
    "ExecuteTime": {
     "end_time": "2020-11-15T17:54:08.608678Z",
     "start_time": "2020-11-15T17:54:08.603664Z"
    }
   },
   "source": [
    "## Store results"
   ]
  },
  {
   "cell_type": "code",
   "execution_count": 53,
   "metadata": {
    "ExecuteTime": {
     "end_time": "2020-11-15T18:00:13.451907Z",
     "start_time": "2020-11-15T18:00:13.446923Z"
    }
   },
   "outputs": [],
   "source": [
    "res_dict = {'N_train': N_train, 'N_test': N_test,'mgrid': M_grid, 'alpha_grid': alpha_grid, 'errors': converted_results.tolist()}"
   ]
  },
  {
   "cell_type": "code",
   "execution_count": 54,
   "metadata": {
    "ExecuteTime": {
     "end_time": "2020-11-15T18:00:14.078231Z",
     "start_time": "2020-11-15T18:00:14.071217Z"
    }
   },
   "outputs": [],
   "source": [
    "import json\n",
    "import datetime\n",
    "with open(f'bagging_w_replacement_{str(datetime.date.today())}.json', 'w') as fp:\n",
    "    json.dump(res_dict, fp)"
   ]
  }
 ],
 "metadata": {
  "kernelspec": {
   "display_name": "Python 3",
   "language": "python",
   "name": "python3"
  },
  "language_info": {
   "codemirror_mode": {
    "name": "ipython",
    "version": 3
   },
   "file_extension": ".py",
   "mimetype": "text/x-python",
   "name": "python",
   "nbconvert_exporter": "python",
   "pygments_lexer": "ipython3",
   "version": "3.7.5"
  },
  "toc": {
   "base_numbering": 1,
   "nav_menu": {},
   "number_sections": true,
   "sideBar": true,
   "skip_h1_title": false,
   "title_cell": "Table of Contents",
   "title_sidebar": "Contents",
   "toc_cell": false,
   "toc_position": {},
   "toc_section_display": true,
   "toc_window_display": false
  }
 },
 "nbformat": 4,
 "nbformat_minor": 2
}
