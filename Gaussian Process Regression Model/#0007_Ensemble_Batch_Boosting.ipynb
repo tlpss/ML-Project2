{
 "cells": [
  {
   "cell_type": "markdown",
   "metadata": {},
   "source": [
    "# Ensemble Learning through Batch Boosting\n"
   ]
  },
  {
   "cell_type": "code",
   "execution_count": 1,
   "metadata": {
    "ExecuteTime": {
     "end_time": "2020-11-20T15:52:17.865319Z",
     "start_time": "2020-11-20T15:52:17.067135Z"
    }
   },
   "outputs": [],
   "source": [
    "import numpy as np\n",
    "import random\n",
    "import matplotlib.pyplot as plt\n",
    "from sklearn.gaussian_process import GaussianProcessRegressor\n",
    "from sklearn.gaussian_process.kernels import RBF, WhiteKernel\n",
    "\n",
    "# add project root folder to path to allow import local modules\n",
    "import os\n",
    "import sys\n",
    "module_path = os.path.abspath(os.path.join('..'))\n",
    "if module_path not in sys.path:\n",
    "    sys.path.append(module_path)\n",
    "# import local modules\n",
    "from stochastic_models import *\n",
    "from visualisations import *\n",
    "from basic_estimator_model import *"
   ]
  },
  {
   "cell_type": "markdown",
   "metadata": {
    "ExecuteTime": {
     "end_time": "2020-11-14T11:40:28.368547Z",
     "start_time": "2020-11-14T11:40:28.365554Z"
    }
   },
   "source": [
    "## Parameter Configuration"
   ]
  },
  {
   "cell_type": "code",
   "execution_count": 2,
   "metadata": {
    "ExecuteTime": {
     "end_time": "2020-11-20T15:52:17.870290Z",
     "start_time": "2020-11-20T15:52:17.866297Z"
    }
   },
   "outputs": [],
   "source": [
    "np.random.seed(2020)"
   ]
  },
  {
   "cell_type": "code",
   "execution_count": 3,
   "metadata": {
    "ExecuteTime": {
     "end_time": "2020-11-20T15:52:17.874277Z",
     "start_time": "2020-11-20T15:52:17.871251Z"
    }
   },
   "outputs": [],
   "source": [
    "N_train =1000\n",
    "N_test = 50000\n",
    "Max_Iter = 50\n",
    "Ratio = 0.30\n",
    "d = 1\n",
    "T = 2"
   ]
  },
  {
   "cell_type": "code",
   "execution_count": 4,
   "metadata": {
    "ExecuteTime": {
     "end_time": "2020-11-20T15:52:17.880254Z",
     "start_time": "2020-11-20T15:52:17.875244Z"
    }
   },
   "outputs": [],
   "source": [
    "lambda_range = (N_train*1e-9 , N_train*1e-3)\n",
    "alpha_range = (8.3*1e-5, 0.83)\n",
    "length_scale = np.sort(1/np.sqrt((2*alpha_range[0], 2*alpha_range[1])))"
   ]
  },
  {
   "cell_type": "markdown",
   "metadata": {
    "ExecuteTime": {
     "end_time": "2020-11-14T11:40:29.811046Z",
     "start_time": "2020-11-14T11:40:29.808054Z"
    }
   },
   "source": [
    "## Create Kernel & prepare datasets"
   ]
  },
  {
   "cell_type": "code",
   "execution_count": 5,
   "metadata": {
    "ExecuteTime": {
     "end_time": "2020-11-20T15:52:17.886212Z",
     "start_time": "2020-11-20T15:52:17.881226Z"
    }
   },
   "outputs": [],
   "source": [
    "#kernel\n",
    "kernel = RBF(length_scale= (length_scale[0] + length_scale[1])/2, length_scale_bounds=length_scale) \\\n",
    "        + WhiteKernel(noise_level= (lambda_range[0] + lambda_range[1])/2 , noise_level_bounds=lambda_range)\n"
   ]
  },
  {
   "cell_type": "code",
   "execution_count": 6,
   "metadata": {
    "ExecuteTime": {
     "end_time": "2020-11-20T15:52:17.897244Z",
     "start_time": "2020-11-20T15:52:17.887236Z"
    }
   },
   "outputs": [],
   "source": [
    "#generate drivers\n",
    "s_train = MaxCallStochasticModel(N_train,d,[1/12,11/12])\n",
    "s_train.generate_samples()\n",
    "s_test = MaxCallStochasticModel(N_test, d, [1/12,11/12])\n",
    "s_test.generate_samples()"
   ]
  },
  {
   "cell_type": "code",
   "execution_count": 7,
   "metadata": {},
   "outputs": [
    {
     "data": {
      "text/plain": [
       "0.07966926864511534"
      ]
     },
     "execution_count": 7,
     "metadata": {},
     "output_type": "execute_result"
    }
   ],
   "source": [
    "y_train = s_train.y\n",
    "X_train = s_train.X\n",
    "S_train = s_train.S\n",
    "\n",
    "y_test = s_test.y\n",
    "X_test = s_test.X\n",
    "S_test = s_test.S\n",
    "\n",
    "V_T = s_test.generate_true_V(T)\n",
    "V_0 = s_test.generate_true_V(0)\n",
    "\n",
    "V_T_train = s_train.generate_true_V(T)\n",
    "V_0_train = s_train.generate_true_V(0)\n",
    "\n",
    "V_0_train = V_0_train.mean()\n",
    "V_0= V_0.mean()\n",
    "V_0 # Average expected PROFIT!"
   ]
  },
  {
   "cell_type": "code",
   "execution_count": 8,
   "metadata": {
    "ExecuteTime": {
     "end_time": "2020-11-20T15:52:17.911172Z",
     "start_time": "2020-11-20T15:52:17.907158Z"
    }
   },
   "outputs": [],
   "source": [
    "from aggregating.utils import flatten_X, normalized_error_VT\n",
    "#dim(N_test,d*T)\n",
    "Flattened_X_test = flatten_X(X_test)\n",
    "# dim(N_train, d*T)\n",
    "Flattened_X_train = flatten_X(X_train)"
   ]
  },
  {
   "cell_type": "code",
   "execution_count": 9,
   "metadata": {},
   "outputs": [
    {
     "data": {
      "text/plain": [
       "GaussianProcessRegressor(kernel=RBF(length_scale=39.2) + WhiteKernel(noise_level=0.5))"
      ]
     },
     "execution_count": 9,
     "metadata": {},
     "output_type": "execute_result"
    }
   ],
   "source": [
    "#Model with Flatten_X_1\n",
    "m_1 = EstimatorModelBase(kernel)\n",
    "m_1.fit(Flattened_X_train,y_train)"
   ]
  },
  {
   "cell_type": "code",
   "execution_count": 10,
   "metadata": {},
   "outputs": [],
   "source": [
    "fX_1 = m_1._predict_fX(Flattened_X_test)"
   ]
  },
  {
   "cell_type": "code",
   "execution_count": 11,
   "metadata": {},
   "outputs": [],
   "source": [
    "fX_2 = m_1._predict_fX(Flattened_X_train)"
   ]
  },
  {
   "cell_type": "code",
   "execution_count": 12,
   "metadata": {},
   "outputs": [],
   "source": [
    "test_reference_error = normalized_error_VT(fX_1 ,V_T, V_0)"
   ]
  },
  {
   "cell_type": "code",
   "execution_count": 13,
   "metadata": {},
   "outputs": [],
   "source": [
    "train_reference_error = normalized_error_VT(fX_2 ,V_T_train, V_0_train)"
   ]
  },
  {
   "cell_type": "code",
   "execution_count": 14,
   "metadata": {},
   "outputs": [
    {
     "data": {
      "text/plain": [
       "0.022946493453321455"
      ]
     },
     "execution_count": 14,
     "metadata": {},
     "output_type": "execute_result"
    }
   ],
   "source": [
    "train_reference_error"
   ]
  },
  {
   "cell_type": "code",
   "execution_count": 15,
   "metadata": {},
   "outputs": [
    {
     "data": {
      "text/plain": [
       "0.19087255877978457"
      ]
     },
     "execution_count": 15,
     "metadata": {},
     "output_type": "execute_result"
    }
   ],
   "source": [
    "test_reference_error"
   ]
  },
  {
   "cell_type": "markdown",
   "metadata": {
    "ExecuteTime": {
     "end_time": "2020-11-14T11:40:33.048462Z",
     "start_time": "2020-11-14T11:40:33.045471Z"
    }
   },
   "source": [
    "## Batch Boosting"
   ]
  },
  {
   "cell_type": "code",
   "execution_count": 17,
   "metadata": {},
   "outputs": [],
   "source": [
    "def Bacth_Boosting(X_train, y_train, X_test, y_test, Max_Iter, min_error, early_stop, kernel):\n",
    "    error_going_up = 0\n",
    "    train_prediction = np.zeros(N_train)\n",
    "    test_prediction = np.zeros(N_test)\n",
    "    previous_y_hat = np.zeros(N_train)\n",
    "    previous_y_test_hat = np.zeros(N_test)\n",
    "    models = []\n",
    "    train_errors = []\n",
    "    test_errors = []\n",
    "    \n",
    "    original_y_train = y_train\n",
    "\n",
    "    \n",
    "    for i in range(Max_Iter):\n",
    "        model = GaussianProcessRegressor(kernel)\n",
    "    \n",
    "        y_train = y_train - previous_y_hat\n",
    "    \n",
    "        model.fit(X_train, y_train)\n",
    "        models.append(model)\n",
    "        \n",
    "        #Evaluating on TrainSet\n",
    "        previous_y_hat = model.predict(X_train) \n",
    "        \n",
    "        train_prediction += previous_y_hat\n",
    "        \n",
    "        train_errors.append(normalized_error_VT(train_prediction,original_y_train,V_0_train).item())\n",
    "        \n",
    "        ##Evaluating on TestSet\n",
    "        \n",
    "        previous_y_test_hat = model.predict(X_test)\n",
    "      \n",
    "        test_prediction += previous_y_test_hat\n",
    "        \n",
    "        test_errors.append(normalized_error_VT(test_prediction,y_test,V_0).item())\n",
    "    \n",
    "        if (test_errors[-1] < min_error[0]):\n",
    "            min_error = (test_errors[-1], i)\n",
    "            error_going_up = 0\n",
    "            print('For iteration number {}, the test error decreased '.format(i))\n",
    "        else:\n",
    "            error_going_up += 1\n",
    "            print('For iteration number {}, the test error increased '.format(i))\n",
    "        \n",
    "            if  (i==(Max_Iter-1)):\n",
    "                models = models[:min_error[1]+1]\n",
    "                \n",
    "                return models, train_errors, test_errors, min_error\n",
    "        \n",
    "            elif (error_going_up == early_stop ):\n",
    "                models = models[: -(early_stop)]\n",
    "                \n",
    "                return models, train_errors, test_errors, min_error\n",
    "                break #early stopping\n",
    "            \n",
    "    return models, train_errors, test_errors, min_error"
   ]
  },
  {
   "cell_type": "code",
   "execution_count": 18,
   "metadata": {
    "ExecuteTime": {
     "end_time": "2020-11-20T15:02:36.070161Z",
     "start_time": "2020-11-20T15:02:36.058157Z"
    }
   },
   "outputs": [
    {
     "name": "stdout",
     "output_type": "stream",
     "text": [
      "For iteration number 0, the test error decreased \n",
      "For iteration number 1, the test error decreased \n",
      "For iteration number 2, the test error decreased \n",
      "For iteration number 3, the test error decreased \n",
      "For iteration number 4, the test error increased \n",
      "For iteration number 5, the test error increased \n",
      "For iteration number 6, the test error increased \n",
      "For iteration number 7, the test error increased \n",
      "For iteration number 8, the test error increased \n"
     ]
    }
   ],
   "source": [
    "\n",
    "\n",
    "models, train_error, test_error, min_error = Bacth_Boosting(np.copy(Flattened_X_train), np.copy(y_train), np.copy(Flattened_X_test), np.copy(y_test), Max_Iter, (float(\"inf\"), float(\"inf\")), 5, kernel)\n",
    "\n"
   ]
  },
  {
   "cell_type": "code",
   "execution_count": 19,
   "metadata": {},
   "outputs": [],
   "source": [
    "y_pred = sum(m.predict(Flattened_X_test) for m in models)"
   ]
  },
  {
   "cell_type": "code",
   "execution_count": 20,
   "metadata": {},
   "outputs": [
    {
     "data": {
      "text/plain": [
       "0.19087251936926605"
      ]
     },
     "execution_count": 20,
     "metadata": {},
     "output_type": "execute_result"
    }
   ],
   "source": [
    "normalized_error_VT(y_pred , y_test, V_0).item()"
   ]
  },
  {
   "cell_type": "code",
   "execution_count": 21,
   "metadata": {},
   "outputs": [],
   "source": [
    "train_error_array = np.array(train_error)\n",
    "test_error_array = np.array(test_error)"
   ]
  },
  {
   "cell_type": "code",
   "execution_count": 22,
   "metadata": {},
   "outputs": [],
   "source": [
    "normalized_train_error = (train_error_array - np.mean(train_error_array, axis=0))/np.std(train_error_array)\n",
    "normalized_test_error = (test_error_array - np.mean(test_error_array, axis=0))/np.std(test_error_array)"
   ]
  },
  {
   "cell_type": "code",
   "execution_count": 23,
   "metadata": {},
   "outputs": [
    {
     "data": {
      "image/png": "[encoded data removed]",
      "text/plain": [
       "<Figure size 1296x288 with 1 Axes>"
      ]
     },
     "metadata": {
      "needs_background": "light"
     },
     "output_type": "display_data"
    }
   ],
   "source": [
    "plt.figure(figsize = (18, 4))\n",
    "plt.axhline(normalized_train_error[0], ls=':', color = 'orange', label = 'Training Reference Error')\n",
    "plt.axhline(normalized_test_error[0], ls=':', color = 'blue', label = 'Test Reference Error')\n",
    "plt.axvline(min_error[1], ls='-', color = 'k', label = 'Test Minimal  Error')\n",
    "plt.plot(np.arange(len(test_error)) , normalized_test_error)\n",
    "plt.plot(np.arange(len(train_error)) , normalized_train_error)\n",
    "plt.title(f\"Batch Boosting: Iterations = {len(train_error)}, N_train = {N_train}, d= {d}, N_test= {N_test}\")\n",
    "plt.xlabel(\"Number of Iterations\")\n",
    "\n",
    "plt.ylabel(\"normalized error\")\n",
    "plt.legend(loc='center right')\n",
    "plt.show()"
   ]
  },
  {
   "cell_type": "code",
   "execution_count": 24,
   "metadata": {},
   "outputs": [
    {
     "data": {
      "image/png": "[encoded data removed]",
      "text/plain": [
       "<Figure size 1296x288 with 1 Axes>"
      ]
     },
     "metadata": {
      "needs_background": "light"
     },
     "output_type": "display_data"
    }
   ],
   "source": [
    "plt.figure(figsize = (18, 4))\n",
    "plt.axhline(train_error[0], ls=':', color = 'orange', label = 'Training Reference Error')\n",
    "plt.plot(np.arange(len(train_error)) ,train_error)\n",
    "plt.title(f\"Batch Boosting: Iterations = {len(train_error)}, N_train = {N_train}, d= {d}, N_test= {N_test}\")\n",
    "plt.xlabel(\"Number of Iterations\")\n",
    "\n",
    "plt.ylabel(\"normalized error\")\n",
    "plt.legend(loc='center right')\n",
    "plt.show()"
   ]
  },
  {
   "cell_type": "code",
   "execution_count": 25,
   "metadata": {},
   "outputs": [
    {
     "data": {
      "image/png": "[encoded data removed]",
      "text/plain": [
       "<Figure size 1296x288 with 1 Axes>"
      ]
     },
     "metadata": {
      "needs_background": "light"
     },
     "output_type": "display_data"
    }
   ],
   "source": [
    "plt.figure(figsize = (18, 4))\n",
    "plt.axhline(test_reference_error, ls=':', color = 'orange', label = 'Test Reference Error')\n",
    "plt.axvline(min_error[1], ls='-', color = 'k', label = 'Test Minimal  Error')\n",
    "plt.plot(np.arange(len(test_error)) , test_error)\n",
    "plt.title(f\"Batch Boosting: N_train = {N_train}, d= {d}, N_test= {N_test}\")\n",
    "plt.xlabel(\"Number of Iteration\")\n",
    "\n",
    "plt.ylabel(\"Normalized Error\")\n",
    "plt.legend(loc='center right')\n",
    "plt.show()"
   ]
  },
  {
   "cell_type": "code",
   "execution_count": null,
   "metadata": {},
   "outputs": [],
   "source": [
    "errors = []\n",
    "Max_Iter_Range = 10\n",
    "Ratios = np.linspace(0.1,1, num=10)\n",
    "for r in :\n",
    "    models_1, errors_1 = Stochastic_Boosting(Flattened_X_train, np.copy(y_train), Max_Iter, float('inf'),\\\n",
    "                                     20, round(Flattened_X_train.shape[0]*r))\n",
    "    y_stoch_pred = sum(m.predict(Flattened_X_test) for m in models_1)\n",
    "    errors.append(normalized_error_VT(y_stoch_pred , V_T, V_0))\n",
    "    \n",
    "    "
   ]
  },
  {
   "cell_type": "markdown",
   "metadata": {},
   "source": [
    "## Stochastic Boosting"
   ]
  },
  {
   "cell_type": "code",
   "execution_count": null,
   "metadata": {},
   "outputs": [],
   "source": [
    "def Stochastic_Boosting(X_train, y_train, Max_Iter, min_error, early_stop, sample_size):\n",
    "    error_going_up = 0\n",
    "    final_prediction = np.zeros(X_train.shape[0])\n",
    "    previous_y_hat = np.zeros(X_train.shape[0])\n",
    "    previous_predictions = np.zeros((Max_Iter, X_train.shape[0]))\n",
    "    models = []\n",
    "    errors = []\n",
    "    original_y_train = y_train\n",
    "    \n",
    "    for i in range(Max_Iter):\n",
    "       \n",
    "        indices = np.random.choice(X_train.shape[0],size=sample_size,replace=False)\n",
    "        model = GaussianProcessRegressor(kernel)\n",
    "        \n",
    "        y_train[indices] = y_train[indices] - previous_y_hat[indices]\n",
    "    \n",
    "        model.fit(X_train[indices], y_train[indices])\n",
    "        models.append(model)\n",
    "        \n",
    "        previous_predictions[i,:] = model.predict(X_train) \n",
    "        previous_y_hat = previous_predictions[i,:]\n",
    "    \n",
    "    \n",
    "        final_prediction += previous_y_hat\n",
    "     \n",
    "        errors.append(normalized_error_VT(final_prediction,original_y_train, V_0_train).item())\n",
    "    \n",
    "        if (errors[-1] < min_error):\n",
    "            min_error = errors[-1]\n",
    "            error_going_up = 0\n",
    "            nb_of_models = i\n",
    "            print('For iteration number {}, the error decreased '.format(i))\n",
    "        else:\n",
    "            error_going_up += 1\n",
    "            print('For iteration number {}, the error increased '.format(i))\n",
    "        \n",
    "            if  (i==(Max_Iter-1)):\n",
    "                models = models[:nb_of_models+1]\n",
    "                return models, errors\n",
    "        \n",
    "            elif (error_going_up == early_stop ):\n",
    "                models = models[: -early_stop]\n",
    "                return models, errors\n",
    "                break #early stopping\n",
    "            \n",
    "    return models, errors"
   ]
  },
  {
   "cell_type": "code",
   "execution_count": null,
   "metadata": {},
   "outputs": [],
   "source": [
    "models_1, errors_1 = Stochastic_Boosting(Flattened_X_train, np.copy(y_train), Max_Iter, float('inf'),\\\n",
    "                                     20, round(Flattened_X_train.shape[0]*Ratio))"
   ]
  },
  {
   "cell_type": "code",
   "execution_count": null,
   "metadata": {},
   "outputs": [],
   "source": [
    "plt.figure(figsize = (15, 7))\n",
    "\n",
    "plt.plot(np.arange(len(errors_1)) , errors_1)\n",
    "plt.show"
   ]
  },
  {
   "cell_type": "code",
   "execution_count": null,
   "metadata": {},
   "outputs": [],
   "source": [
    "y_stoch_pred = sum(m.predict(Flattened_X_test) for m in models_1)"
   ]
  },
  {
   "cell_type": "code",
   "execution_count": null,
   "metadata": {},
   "outputs": [],
   "source": [
    "normalized_error_VT(y_stoch_pred , V_T, V_0)"
   ]
  },
  {
   "cell_type": "code",
   "execution_count": null,
   "metadata": {},
   "outputs": [],
   "source": [
    "errors = []\n",
    "Max_Iter_Range = 10\n",
    "Ratios = np.linspace(0.1,1, num=10)\n",
    "for r in Ratios:\n",
    "    models_1, errors_1 = Stochastic_Boosting(Flattened_X_train, np.copy(y_train), Max_Iter, float('inf'),\\\n",
    "                                     20, round(Flattened_X_train.shape[0]*r))\n",
    "    y_stoch_pred = sum(m.predict(Flattened_X_test) for m in models_1)\n",
    "    errors.append(normalized_error_VT(y_stoch_pred , V_T, V_0))\n",
    "    \n",
    "    "
   ]
  }
 ],
 "metadata": {
  "kernelspec": {
   "display_name": "Python 3",
   "language": "python",
   "name": "python3"
  },
  "language_info": {
   "codemirror_mode": {
    "name": "ipython",
    "version": 3
   },
   "file_extension": ".py",
   "mimetype": "text/x-python",
   "name": "python",
   "nbconvert_exporter": "python",
   "pygments_lexer": "ipython3",
   "version": "3.7.9"
  },
  "toc": {
   "base_numbering": 1,
   "nav_menu": {},
   "number_sections": true,
   "sideBar": true,
   "skip_h1_title": false,
   "title_cell": "Table of Contents",
   "title_sidebar": "Contents",
   "toc_cell": false,
   "toc_position": {},
   "toc_section_display": true,
   "toc_window_display": false
  }
 },
 "nbformat": 4,
 "nbformat_minor": 2
}
