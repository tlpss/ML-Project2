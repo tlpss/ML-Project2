{
 "cells": [
  {
   "cell_type": "markdown",
   "metadata": {},
   "source": [
    "# Ensemble Learning through Batch Boosting\n"
   ]
  },
  {
   "cell_type": "code",
   "execution_count": 1,
   "metadata": {
    "ExecuteTime": {
     "end_time": "2020-11-20T15:52:17.865319Z",
     "start_time": "2020-11-20T15:52:17.067135Z"
    }
   },
   "outputs": [],
   "source": [
    "import numpy as np\n",
    "import random\n",
    "import matplotlib.pyplot as plt\n",
    "from sklearn.gaussian_process import GaussianProcessRegressor\n",
    "from sklearn.gaussian_process.kernels import RBF, WhiteKernel\n",
    "\n",
    "# add project root folder to path to allow import local modules\n",
    "import os\n",
    "import sys\n",
    "module_path = os.path.abspath(os.path.join('..'))\n",
    "if module_path not in sys.path:\n",
    "    sys.path.append(module_path)\n",
    "# import local modules\n",
    "from stochastic_models import *\n",
    "from visualisations import *\n",
    "from basic_estimator_model import *"
   ]
  },
  {
   "cell_type": "markdown",
   "metadata": {
    "ExecuteTime": {
     "end_time": "2020-11-14T11:40:28.368547Z",
     "start_time": "2020-11-14T11:40:28.365554Z"
    }
   },
   "source": [
    "## Parameter Configuration"
   ]
  },
  {
   "cell_type": "code",
   "execution_count": 2,
   "metadata": {
    "ExecuteTime": {
     "end_time": "2020-11-20T15:52:17.870290Z",
     "start_time": "2020-11-20T15:52:17.866297Z"
    }
   },
   "outputs": [],
   "source": [
    "np.random.seed(2020)"
   ]
  },
  {
   "cell_type": "code",
   "execution_count": 3,
   "metadata": {
    "ExecuteTime": {
     "end_time": "2020-11-20T15:52:17.874277Z",
     "start_time": "2020-11-20T15:52:17.871251Z"
    }
   },
   "outputs": [],
   "source": [
    "N_train =1000\n",
    "N_test = 50000\n",
    "Max_Iter = 100\n",
    "Ratio = 0.30\n",
    "d = 1\n",
    "T = 2"
   ]
  },
  {
   "cell_type": "code",
   "execution_count": 4,
   "metadata": {
    "ExecuteTime": {
     "end_time": "2020-11-20T15:52:17.880254Z",
     "start_time": "2020-11-20T15:52:17.875244Z"
    }
   },
   "outputs": [],
   "source": [
    "lambda_range = (N_train*1e-9 , N_train*1e-3)\n",
    "alpha_range = (8.3*1e-5, 0.83)\n",
    "length_scale = np.sort(1/np.sqrt((2*alpha_range[0], 2*alpha_range[1])))"
   ]
  },
  {
   "cell_type": "markdown",
   "metadata": {
    "ExecuteTime": {
     "end_time": "2020-11-14T11:40:29.811046Z",
     "start_time": "2020-11-14T11:40:29.808054Z"
    }
   },
   "source": [
    "## Create Kernel & prepare datasets"
   ]
  },
  {
   "cell_type": "code",
   "execution_count": 5,
   "metadata": {
    "ExecuteTime": {
     "end_time": "2020-11-20T15:52:17.886212Z",
     "start_time": "2020-11-20T15:52:17.881226Z"
    }
   },
   "outputs": [],
   "source": [
    "#kernel\n",
    "kernel = RBF(length_scale= (length_scale[0] + length_scale[1])/2, length_scale_bounds=length_scale) \\\n",
    "        + WhiteKernel(noise_level= (lambda_range[0] + lambda_range[1])/2 , noise_level_bounds=lambda_range)\n"
   ]
  },
  {
   "cell_type": "code",
   "execution_count": 6,
   "metadata": {
    "ExecuteTime": {
     "end_time": "2020-11-20T15:52:17.897244Z",
     "start_time": "2020-11-20T15:52:17.887236Z"
    }
   },
   "outputs": [],
   "source": [
    "#generate drivers\n",
    "s_train = MaxCallStochasticModel(N_train,d,[1/12,11/12])\n",
    "s_train.generate_samples()\n",
    "s_test = MaxCallStochasticModel(N_test, d, [1/12,11/12])\n",
    "s_test.generate_samples()"
   ]
  },
  {
   "cell_type": "code",
   "execution_count": 7,
   "metadata": {},
   "outputs": [
    {
     "data": {
      "text/plain": [
       "0.07966926864511534"
      ]
     },
     "execution_count": 7,
     "metadata": {},
     "output_type": "execute_result"
    }
   ],
   "source": [
    "y_train = s_train.y\n",
    "X_train = s_train.X\n",
    "S_train = s_train.S\n",
    "\n",
    "y_test = s_test.y\n",
    "X_test = s_test.X\n",
    "S_test = s_test.S\n",
    "\n",
    "V_T = s_test.generate_true_V(T)\n",
    "V_0 = s_test.generate_true_V(0)\n",
    "\n",
    "V_T_train = s_train.generate_true_V(T)\n",
    "V_0_train = s_train.generate_true_V(0)\n",
    "\n",
    "V_0_train = V_0_train.mean()\n",
    "V_0= V_0.mean()\n",
    "V_0 # Average expected PROFIT!"
   ]
  },
  {
   "cell_type": "code",
   "execution_count": 8,
   "metadata": {
    "ExecuteTime": {
     "end_time": "2020-11-20T15:52:17.911172Z",
     "start_time": "2020-11-20T15:52:17.907158Z"
    }
   },
   "outputs": [],
   "source": [
    "from aggregating.utils import flatten_X, normalized_error_VT\n",
    "#dim(N_test,d*T)\n",
    "Flattened_X_test = flatten_X(X_test)\n",
    "# dim(N_train, d*T)\n",
    "Flattened_X_train = flatten_X(X_train)"
   ]
  },
  {
   "cell_type": "code",
   "execution_count": 9,
   "metadata": {},
   "outputs": [
    {
     "data": {
      "text/plain": [
       "GaussianProcessRegressor(kernel=RBF(length_scale=39.2) + WhiteKernel(noise_level=0.5))"
      ]
     },
     "execution_count": 9,
     "metadata": {},
     "output_type": "execute_result"
    }
   ],
   "source": [
    "#Model with Flatten_X_1\n",
    "m_1 = EstimatorModelBase(kernel)\n",
    "m_1.fit(Flattened_X_train,y_train)"
   ]
  },
  {
   "cell_type": "code",
   "execution_count": 10,
   "metadata": {},
   "outputs": [],
   "source": [
    "fX_1 = m_1._predict_fX(Flattened_X_test)"
   ]
  },
  {
   "cell_type": "code",
   "execution_count": 34,
   "metadata": {},
   "outputs": [],
   "source": [
    "fX_2 = m_1._predict_fX(Flattened_X_train)"
   ]
  },
  {
   "cell_type": "code",
   "execution_count": 35,
   "metadata": {},
   "outputs": [
    {
     "data": {
      "text/plain": [
       "0.19087255877978457"
      ]
     },
     "execution_count": 35,
     "metadata": {},
     "output_type": "execute_result"
    }
   ],
   "source": [
    "normalized_error_VT(fX_1 ,V_T, V_0)"
   ]
  },
  {
   "cell_type": "code",
   "execution_count": 36,
   "metadata": {},
   "outputs": [],
   "source": [
    "reference_error = normalized_error_VT(fX_2 ,V_T_train, V_0_train)"
   ]
  },
  {
   "cell_type": "code",
   "execution_count": 37,
   "metadata": {},
   "outputs": [
    {
     "data": {
      "text/plain": [
       "0.022946493453321455"
      ]
     },
     "execution_count": 37,
     "metadata": {},
     "output_type": "execute_result"
    }
   ],
   "source": [
    "reference_error"
   ]
  },
  {
   "cell_type": "markdown",
   "metadata": {
    "ExecuteTime": {
     "end_time": "2020-11-14T11:40:33.048462Z",
     "start_time": "2020-11-14T11:40:33.045471Z"
    }
   },
   "source": [
    "## Batch Boosting"
   ]
  },
  {
   "cell_type": "code",
   "execution_count": 13,
   "metadata": {},
   "outputs": [],
   "source": [
    "def Bacth_Boosting(X_train, y_train, Max_Iter, min_error, early_stop):\n",
    "    error_going_up = 0\n",
    "    final_prediction = np.zeros(N_train)\n",
    "    previous_y_hat = np.zeros(N_train)\n",
    "    previous_predictions = np.zeros((Max_Iter, N_train))\n",
    "    models = []\n",
    "    errors = []\n",
    "    original_y_train = y_train\n",
    "    y = y_train\n",
    "    for i in range(Max_Iter):\n",
    "        model = GaussianProcessRegressor(kernel)\n",
    "    \n",
    "        y = y - previous_y_hat\n",
    "    \n",
    "        model.fit(X_train, y)\n",
    "        models.append(model)\n",
    "    \n",
    "        previous_predictions[i,:] = model.predict(X_train) \n",
    "        previous_y_hat = previous_predictions[i,:]\n",
    "    \n",
    "    \n",
    "        final_prediction += previous_y_hat\n",
    "     \n",
    "        errors.append(normalized_error_VT(final_prediction,original_y_train,V_0_train).item())\n",
    "    \n",
    "        if (errors[-1] < min_error):\n",
    "            min_error = errors[-1]\n",
    "            error_going_up = 0\n",
    "            nb_of_models = i\n",
    "            print('For iteration number {}, the error decreased '.format(i))\n",
    "        else:\n",
    "            error_going_up += 1\n",
    "            print('For iteration number {}, the error increased '.format(i))\n",
    "        \n",
    "            if  (i==(Max_Iter-1)):\n",
    "                models = models[:nb_of_models+1]\n",
    "                return models, errors\n",
    "        \n",
    "            elif (error_going_up == early_stop ):\n",
    "                models = models[: -early_stop]\n",
    "                return models, errors\n",
    "                break #early stopping\n",
    "            \n",
    "    return models, errors"
   ]
  },
  {
   "cell_type": "code",
   "execution_count": 38,
   "metadata": {
    "ExecuteTime": {
     "end_time": "2020-11-20T15:02:36.070161Z",
     "start_time": "2020-11-20T15:02:36.058157Z"
    }
   },
   "outputs": [
    {
     "name": "stdout",
     "output_type": "stream",
     "text": [
      "For iteration number 0, the error decreased \n",
      "For iteration number 1, the error decreased \n",
      "For iteration number 2, the error increased \n",
      "For iteration number 3, the error increased \n",
      "For iteration number 4, the error decreased \n",
      "For iteration number 5, the error increased \n",
      "For iteration number 6, the error decreased \n",
      "For iteration number 7, the error increased \n",
      "For iteration number 8, the error increased \n",
      "For iteration number 9, the error increased \n",
      "For iteration number 10, the error increased \n",
      "For iteration number 11, the error increased \n",
      "For iteration number 12, the error decreased \n",
      "For iteration number 13, the error decreased \n",
      "For iteration number 14, the error increased \n",
      "For iteration number 15, the error increased \n",
      "For iteration number 16, the error increased \n",
      "For iteration number 17, the error increased \n",
      "For iteration number 18, the error decreased \n",
      "For iteration number 19, the error decreased \n",
      "For iteration number 20, the error decreased \n",
      "For iteration number 21, the error increased \n",
      "For iteration number 22, the error increased \n",
      "For iteration number 23, the error increased \n",
      "For iteration number 24, the error decreased \n",
      "For iteration number 25, the error decreased \n",
      "For iteration number 26, the error decreased \n",
      "For iteration number 27, the error increased \n",
      "For iteration number 28, the error decreased \n",
      "For iteration number 29, the error increased \n",
      "For iteration number 30, the error increased \n",
      "For iteration number 31, the error decreased \n",
      "For iteration number 32, the error increased \n",
      "For iteration number 33, the error decreased \n",
      "For iteration number 34, the error increased \n",
      "For iteration number 35, the error increased \n",
      "For iteration number 36, the error decreased \n",
      "For iteration number 37, the error increased \n",
      "For iteration number 38, the error increased \n",
      "For iteration number 39, the error increased \n",
      "For iteration number 40, the error increased \n",
      "For iteration number 41, the error increased \n",
      "For iteration number 42, the error increased \n",
      "For iteration number 43, the error increased \n",
      "For iteration number 44, the error increased \n",
      "For iteration number 45, the error increased \n",
      "For iteration number 46, the error increased \n",
      "For iteration number 47, the error increased \n",
      "For iteration number 48, the error increased \n",
      "For iteration number 49, the error increased \n",
      "For iteration number 50, the error decreased \n",
      "For iteration number 51, the error increased \n",
      "For iteration number 52, the error increased \n",
      "For iteration number 53, the error increased \n",
      "For iteration number 54, the error increased \n",
      "For iteration number 55, the error increased \n",
      "For iteration number 56, the error increased \n",
      "For iteration number 57, the error increased \n",
      "For iteration number 58, the error increased \n",
      "For iteration number 59, the error increased \n",
      "For iteration number 60, the error increased \n",
      "For iteration number 61, the error increased \n",
      "For iteration number 62, the error increased \n",
      "For iteration number 63, the error increased \n",
      "For iteration number 64, the error decreased \n",
      "For iteration number 65, the error decreased \n",
      "For iteration number 66, the error increased \n",
      "For iteration number 67, the error decreased \n",
      "For iteration number 68, the error decreased \n",
      "For iteration number 69, the error decreased \n",
      "For iteration number 70, the error decreased \n",
      "For iteration number 71, the error increased \n",
      "For iteration number 72, the error decreased \n",
      "For iteration number 73, the error increased \n",
      "For iteration number 74, the error increased \n",
      "For iteration number 75, the error increased \n",
      "For iteration number 76, the error decreased \n",
      "For iteration number 77, the error increased \n",
      "For iteration number 78, the error decreased \n",
      "For iteration number 79, the error decreased \n",
      "For iteration number 80, the error increased \n",
      "For iteration number 81, the error increased \n",
      "For iteration number 82, the error increased \n",
      "For iteration number 83, the error increased \n",
      "For iteration number 84, the error decreased \n",
      "For iteration number 85, the error increased \n",
      "For iteration number 86, the error increased \n",
      "For iteration number 87, the error decreased \n",
      "For iteration number 88, the error increased \n",
      "For iteration number 89, the error decreased \n",
      "For iteration number 90, the error decreased \n",
      "For iteration number 91, the error decreased \n",
      "For iteration number 92, the error increased \n",
      "For iteration number 93, the error increased \n",
      "For iteration number 94, the error increased \n",
      "For iteration number 95, the error increased \n",
      "For iteration number 96, the error increased \n",
      "For iteration number 97, the error increased \n",
      "For iteration number 98, the error increased \n",
      "For iteration number 99, the error increased \n",
      "For iteration number 100, the error increased \n",
      "For iteration number 101, the error increased \n",
      "For iteration number 102, the error increased \n",
      "For iteration number 103, the error increased \n",
      "For iteration number 104, the error increased \n",
      "For iteration number 105, the error increased \n",
      "For iteration number 106, the error increased \n",
      "For iteration number 107, the error increased \n",
      "For iteration number 108, the error increased \n",
      "For iteration number 109, the error increased \n",
      "For iteration number 110, the error increased \n",
      "For iteration number 111, the error increased \n",
      "For iteration number 112, the error increased \n",
      "For iteration number 113, the error increased \n",
      "For iteration number 114, the error increased \n",
      "For iteration number 115, the error increased \n",
      "For iteration number 116, the error increased \n",
      "For iteration number 117, the error increased \n",
      "For iteration number 118, the error increased \n",
      "For iteration number 119, the error increased \n",
      "For iteration number 120, the error increased \n",
      "For iteration number 121, the error increased \n",
      "For iteration number 122, the error increased \n",
      "For iteration number 123, the error increased \n",
      "For iteration number 124, the error increased \n",
      "For iteration number 125, the error increased \n",
      "For iteration number 126, the error decreased \n",
      "For iteration number 127, the error decreased \n",
      "For iteration number 128, the error decreased \n",
      "For iteration number 129, the error decreased \n",
      "For iteration number 130, the error increased \n",
      "For iteration number 131, the error increased \n",
      "For iteration number 132, the error increased \n",
      "For iteration number 133, the error decreased \n",
      "For iteration number 134, the error increased \n",
      "For iteration number 135, the error decreased \n",
      "For iteration number 136, the error decreased \n",
      "For iteration number 137, the error decreased \n",
      "For iteration number 138, the error decreased \n",
      "For iteration number 139, the error increased \n",
      "For iteration number 140, the error increased \n",
      "For iteration number 141, the error increased \n",
      "For iteration number 142, the error increased \n",
      "For iteration number 143, the error increased \n",
      "For iteration number 144, the error increased \n",
      "For iteration number 145, the error increased \n",
      "For iteration number 146, the error increased \n",
      "For iteration number 147, the error increased \n",
      "For iteration number 148, the error increased \n",
      "For iteration number 149, the error increased \n",
      "For iteration number 150, the error increased \n",
      "For iteration number 151, the error increased \n",
      "For iteration number 152, the error increased \n",
      "For iteration number 153, the error increased \n",
      "For iteration number 154, the error increased \n",
      "For iteration number 155, the error increased \n",
      "For iteration number 156, the error increased \n",
      "For iteration number 157, the error increased \n",
      "For iteration number 158, the error increased \n",
      "For iteration number 159, the error increased \n",
      "For iteration number 160, the error decreased \n",
      "For iteration number 161, the error decreased \n",
      "For iteration number 162, the error decreased \n",
      "For iteration number 163, the error decreased \n",
      "For iteration number 164, the error increased \n",
      "For iteration number 165, the error decreased \n",
      "For iteration number 166, the error decreased \n",
      "For iteration number 167, the error increased \n",
      "For iteration number 168, the error increased \n",
      "For iteration number 169, the error decreased \n",
      "For iteration number 170, the error increased \n",
      "For iteration number 171, the error increased \n",
      "For iteration number 172, the error decreased \n",
      "For iteration number 173, the error decreased \n",
      "For iteration number 174, the error increased \n",
      "For iteration number 175, the error increased \n",
      "For iteration number 176, the error increased \n"
     ]
    },
    {
     "name": "stdout",
     "output_type": "stream",
     "text": [
      "For iteration number 177, the error increased \n",
      "For iteration number 178, the error increased \n",
      "For iteration number 179, the error increased \n",
      "For iteration number 180, the error increased \n",
      "For iteration number 181, the error increased \n",
      "For iteration number 182, the error increased \n",
      "For iteration number 183, the error increased \n",
      "For iteration number 184, the error decreased \n",
      "For iteration number 185, the error decreased \n",
      "For iteration number 186, the error decreased \n",
      "For iteration number 187, the error decreased \n",
      "For iteration number 188, the error increased \n",
      "For iteration number 189, the error decreased \n",
      "For iteration number 190, the error decreased \n",
      "For iteration number 191, the error decreased \n",
      "For iteration number 192, the error increased \n",
      "For iteration number 193, the error increased \n",
      "For iteration number 194, the error increased \n",
      "For iteration number 195, the error increased \n",
      "For iteration number 196, the error decreased \n",
      "For iteration number 197, the error decreased \n",
      "For iteration number 198, the error increased \n",
      "For iteration number 199, the error decreased \n"
     ]
    }
   ],
   "source": [
    "\n",
    "\n",
    "models, error = Bacth_Boosting(Flattened_X_train, y_train, 200, float(\"inf\"), 50)"
   ]
  },
  {
   "cell_type": "code",
   "execution_count": 39,
   "metadata": {},
   "outputs": [],
   "source": [
    "y_pred = sum(m.predict(Flattened_X_test) for m in models)"
   ]
  },
  {
   "cell_type": "code",
   "execution_count": 40,
   "metadata": {},
   "outputs": [
    {
     "data": {
      "text/plain": [
       "0.190872583752359"
      ]
     },
     "execution_count": 40,
     "metadata": {},
     "output_type": "execute_result"
    }
   ],
   "source": [
    "normalized_error_VT(y_pred , V_T, V_0).item()"
   ]
  },
  {
   "cell_type": "code",
   "execution_count": 41,
   "metadata": {},
   "outputs": [
    {
     "name": "stderr",
     "output_type": "stream",
     "text": [
      "No handles with labels found to put in legend.\n"
     ]
    },
    {
     "data": {
      "image/png": "[encoded data removed]",
      "text/plain": [
       "<Figure size 432x288 with 1 Axes>"
      ]
     },
     "metadata": {
      "needs_background": "light"
     },
     "output_type": "display_data"
    }
   ],
   "source": [
    "#plt.hlines(reference_error,xmin=0,xmax=29,linestyles='dashed', label = 'reference error')\n",
    "plt.plot(np.arange(len(error)) , error)\n",
    "plt.title(f\"Stochastic Boosting: N_train = {N_train}, d= {d}, N_test= {N_test}\")\n",
    "plt.xlabel(\"\")\n",
    "\n",
    "plt.ylabel(\"normalized error\")\n",
    "plt.legend(loc='upper right')\n",
    "plt.show()"
   ]
  },
  {
   "cell_type": "code",
   "execution_count": 18,
   "metadata": {},
   "outputs": [
    {
     "ename": "NameError",
     "evalue": "name 'Ratios' is not defined",
     "output_type": "error",
     "traceback": [
      "\u001b[0;31m---------------------------------------------------------------------------\u001b[0m",
      "\u001b[0;31mNameError\u001b[0m                                 Traceback (most recent call last)",
      "\u001b[0;32m<ipython-input-18-3f3172d67530>\u001b[0m in \u001b[0;36m<module>\u001b[0;34m\u001b[0m\n\u001b[0;32m----> 1\u001b[0;31m \u001b[0mplt\u001b[0m\u001b[0;34m.\u001b[0m\u001b[0mhlines\u001b[0m\u001b[0;34m(\u001b[0m\u001b[0mreference_error\u001b[0m\u001b[0;34m,\u001b[0m\u001b[0mxmin\u001b[0m\u001b[0;34m=\u001b[0m\u001b[0mRatios\u001b[0m\u001b[0;34m[\u001b[0m\u001b[0;36m0\u001b[0m\u001b[0;34m]\u001b[0m\u001b[0;34m,\u001b[0m\u001b[0mxmax\u001b[0m\u001b[0;34m=\u001b[0m\u001b[0mRatios\u001b[0m\u001b[0;34m[\u001b[0m\u001b[0;34m-\u001b[0m\u001b[0;36m1\u001b[0m\u001b[0;34m]\u001b[0m\u001b[0;34m,\u001b[0m\u001b[0mlinestyles\u001b[0m\u001b[0;34m=\u001b[0m\u001b[0;34m'dashed'\u001b[0m\u001b[0;34m)\u001b[0m\u001b[0;34m\u001b[0m\u001b[0;34m\u001b[0m\u001b[0m\n\u001b[0m\u001b[1;32m      2\u001b[0m \u001b[0;34m\u001b[0m\u001b[0m\n\u001b[1;32m      3\u001b[0m \u001b[0mplt\u001b[0m\u001b[0;34m.\u001b[0m\u001b[0mplot\u001b[0m\u001b[0;34m(\u001b[0m\u001b[0mRatios\u001b[0m\u001b[0;34m,\u001b[0m \u001b[0merror\u001b[0m\u001b[0;34m)\u001b[0m\u001b[0;34m\u001b[0m\u001b[0;34m\u001b[0m\u001b[0m\n\u001b[1;32m      4\u001b[0m \u001b[0mplt\u001b[0m\u001b[0;34m.\u001b[0m\u001b[0mtitle\u001b[0m\u001b[0;34m(\u001b[0m\u001b[0;34mf\"Stochastic Boosting: N_train = {N_train}, d= {d}, N_test= {N_test}\"\u001b[0m\u001b[0;34m)\u001b[0m\u001b[0;34m\u001b[0m\u001b[0;34m\u001b[0m\u001b[0m\n\u001b[1;32m      5\u001b[0m \u001b[0mplt\u001b[0m\u001b[0;34m.\u001b[0m\u001b[0mxlabel\u001b[0m\u001b[0;34m(\u001b[0m\u001b[0;34m\"Ratios\"\u001b[0m\u001b[0;34m)\u001b[0m\u001b[0;34m\u001b[0m\u001b[0;34m\u001b[0m\u001b[0m\n",
      "\u001b[0;31mNameError\u001b[0m: name 'Ratios' is not defined"
     ]
    }
   ],
   "source": [
    "plt.hlines(reference_error,xmin=Ratios[0],xmax=Ratios[-1],linestyles='dashed')\n",
    "\n",
    "plt.plot(Ratios, error)\n",
    "plt.title(f\"Stochastic Boosting: N_train = {N_train}, d= {d}, N_test= {N_test}\")\n",
    "plt.xlabel(\"Ratios\")\n",
    "\n",
    "plt.ylabel(\"normalized error\")\n",
    "plt.legend(loc='upper right')\n",
    "plt.show()"
   ]
  },
  {
   "cell_type": "code",
   "execution_count": null,
   "metadata": {},
   "outputs": [],
   "source": [
    "errors = []\n",
    "Max_Iter_Range = 10\n",
    "Ratios = np.linspace(0.1,1, num=10)\n",
    "for r in :\n",
    "    models_1, errors_1 = Stochastic_Boosting(Flattened_X_train, y_train, Max_Iter, float('inf'),\\\n",
    "                                     20, round(Flattened_X_train.shape[0]*r))\n",
    "    y_stoch_pred = sum(m.predict(Flattened_X_test) for m in models_1)\n",
    "    errors.append(normalized_error_VT(y_stoch_pred , V_T, V_0))\n",
    "    \n",
    "    "
   ]
  },
  {
   "cell_type": "markdown",
   "metadata": {},
   "source": [
    "## Stochastic Boosting"
   ]
  },
  {
   "cell_type": "code",
   "execution_count": null,
   "metadata": {},
   "outputs": [],
   "source": [
    "def Stochastic_Boosting(X_train, y_train, Max_Iter, min_error, early_stop, sample_size):\n",
    "    error_going_up = 0\n",
    "    final_prediction = np.zeros(X_train.shape[0])\n",
    "    previous_y_hat = np.zeros(X_train.shape[0])\n",
    "    previous_predictions = np.zeros((Max_Iter, X_train.shape[0]))\n",
    "    models = []\n",
    "    errors = []\n",
    "    original_y_train = y_train\n",
    "    \n",
    "    for i in range(Max_Iter):\n",
    "       \n",
    "        indices = np.random.choice(X_train.shape[0],size=sample_size,replace=False)\n",
    "        model = GaussianProcessRegressor(kernel)\n",
    "        \n",
    "        y_train[indices] = y_train[indices] - previous_y_hat[indices]\n",
    "    \n",
    "        model.fit(X_train[indices], y_train[indices])\n",
    "        models.append(model)\n",
    "        \n",
    "        previous_predictions[i,:] = model.predict(X_train) \n",
    "        previous_y_hat = previous_predictions[i,:]\n",
    "    \n",
    "    \n",
    "        final_prediction += previous_y_hat\n",
    "     \n",
    "        errors.append(normalized_error_VT(final_prediction,original_y_train, V_0_train).item())\n",
    "    \n",
    "        if (errors[-1] < min_error):\n",
    "            min_error = errors[-1]\n",
    "            error_going_up = 0\n",
    "            nb_of_models = i\n",
    "            print('For iteration number {}, the error decreased '.format(i))\n",
    "        else:\n",
    "            error_going_up += 1\n",
    "            print('For iteration number {}, the error increased '.format(i))\n",
    "        \n",
    "            if  (i==(Max_Iter-1)):\n",
    "                models = models[:nb_of_models+1]\n",
    "                return models, errors\n",
    "        \n",
    "            elif (error_going_up == early_stop ):\n",
    "                models = models[: -early_stop]\n",
    "                return models, errors\n",
    "                break #early stopping\n",
    "            \n",
    "    return models, errors"
   ]
  },
  {
   "cell_type": "code",
   "execution_count": null,
   "metadata": {},
   "outputs": [],
   "source": [
    "models_1, errors_1 = Stochastic_Boosting(Flattened_X_train, y_train, Max_Iter, float('inf'),\\\n",
    "                                     20, round(Flattened_X_train.shape[0]*Ratio))"
   ]
  },
  {
   "cell_type": "code",
   "execution_count": null,
   "metadata": {},
   "outputs": [],
   "source": [
    "plt.figure(figsize = (15, 7))\n",
    "\n",
    "plt.plot(np.arange(len(errors_1)) , errors_1)\n",
    "plt.show"
   ]
  },
  {
   "cell_type": "code",
   "execution_count": null,
   "metadata": {},
   "outputs": [],
   "source": [
    "y_stoch_pred = sum(m.predict(Flattened_X_test) for m in models_1)"
   ]
  },
  {
   "cell_type": "code",
   "execution_count": null,
   "metadata": {},
   "outputs": [],
   "source": [
    "normalized_error_VT(y_stoch_pred , V_T, V_0)"
   ]
  },
  {
   "cell_type": "code",
   "execution_count": null,
   "metadata": {},
   "outputs": [],
   "source": [
    "errors = []\n",
    "Max_Iter_Range = 10\n",
    "Ratios = np.linspace(0.1,1, num=10)\n",
    "for r in Ratios:\n",
    "    models_1, errors_1 = Stochastic_Boosting(Flattened_X_train, y_train, Max_Iter, float('inf'),\\\n",
    "                                     20, round(Flattened_X_train.shape[0]*r))\n",
    "    y_stoch_pred = sum(m.predict(Flattened_X_test) for m in models_1)\n",
    "    errors.append(normalized_error_VT(y_stoch_pred , V_T, V_0))\n",
    "    \n",
    "    "
   ]
  },
  {
   "cell_type": "code",
   "execution_count": null,
   "metadata": {},
   "outputs": [],
   "source": [
    "plt.hlines(reference_error,xmin=Ratios[0],xmax=Ratios[-1],linestyles='dashed')\n",
    "\n",
    "plt.plot(Ratios, errors)\n",
    "plt.title(f\"Stochastic Boosting: N_train = {N_train}, d= {d}, N_test= {N_test}\")\n",
    "plt.xlabel(\"Ratios\")\n",
    "\n",
    "plt.ylabel(\"normalized error\")\n",
    "plt.legend(loc='upper right')\n",
    "plt.show()"
   ]
  },
  {
   "cell_type": "markdown",
   "metadata": {},
   "source": [
    "## GridSearch\n",
    "\n",
    "nB: cannot use Scikit gridsearch as it performs CV and we want to have a different test set of a larger size!"
   ]
  },
  {
   "cell_type": "code",
   "execution_count": null,
   "metadata": {
    "ExecuteTime": {
     "end_time": "2020-11-20T17:06:54.032706Z",
     "start_time": "2020-11-20T17:06:24.208432Z"
    }
   },
   "outputs": [],
   "source": [
    "#reference error: no ensemble\n",
    "from aggregating.gridsearch import create_logger, evaluate_model\n",
    "from aggregating.utils import flatten_X\n",
    "\n",
    "hyperparams= {'M':1, 'train_size_alpha':1.0}\n",
    "model = GaussianProcessRegressor(kernel)\n",
    "reference_error = evaluate_model(model,hyperparams,flatten_X(X_train),y_train,1, [1/12,11/12],3,N_test,MaxCallStochasticModel)\n",
    "reference_error_mean = sum(reference_error)/len(reference_error)\n",
    "print(reference_error_mean)"
   ]
  },
  {
   "cell_type": "code",
   "execution_count": null,
   "metadata": {
    "ExecuteTime": {
     "end_time": "2020-11-20T17:01:10.604058Z",
     "start_time": "2020-11-20T15:54:23.029611Z"
    }
   },
   "outputs": [],
   "source": [
    "from multiprocessing import  cpu_count,current_process\n",
    "from multiprocessing.pool import ThreadPool\n",
    "import functools\n",
    "import threading\n",
    "\n",
    "from aggregating.gridsearch import create_logger, evaluate_model\n",
    "from aggregating.utils import flatten_X\n",
    "\n",
    "# GRIDSEARCH PARAMS\n",
    "model = SoftBagger(0,0,GaussianProcessRegressor(kernel,copy_X_train=False))\n",
    "trials = 3\n",
    "M_grid = [1,3,5,7,9]\n",
    "alpha_grid = [0.3,0.5,0.7,1.0]\n",
    "results = []\n",
    "\n",
    "### ACTUAL GRIDSEARCH\n",
    "pool = ThreadPool(4) #avoid allocation issues\n",
    "for m in M_grid:\n",
    "    for alpha in alpha_grid:\n",
    "        hyperparams= {'M':m, 'train_size_alpha':alpha}\n",
    "        pool.apply_async(evaluate_model, args=(model,hyperparams,flatten_X(X_train),\\\n",
    "            y_train,1, [1/12,11/12],trials,N_test,MaxCallStochasticModel),\\\n",
    "                         callback = create_logger(hyperparams,results))\n",
    "pool.close()\n",
    "pool.join()\n",
    "\n"
   ]
  },
  {
   "cell_type": "code",
   "execution_count": null,
   "metadata": {
    "ExecuteTime": {
     "end_time": "2020-11-20T17:01:10.653925Z",
     "start_time": "2020-11-20T17:01:10.616027Z"
    }
   },
   "outputs": [],
   "source": [
    "converted_results = np.ones((len(M_grid),len(alpha_grid),trials))*(-1)\n",
    "for item in results:\n",
    "    print(item)\n",
    "    converted_results[M_grid.index(item[0]),alpha_grid.index(item[1])] = item[2]\n",
    "\n",
    "print(converted_results.shape)\n",
    "print(converted_results)"
   ]
  },
  {
   "cell_type": "code",
   "execution_count": null,
   "metadata": {
    "ExecuteTime": {
     "end_time": "2020-11-20T17:01:10.718751Z",
     "start_time": "2020-11-20T17:01:10.655919Z"
    }
   },
   "outputs": [],
   "source": [
    "masked_results= np.ma.masked_where(converted_results <= 0.0,converted_results) # some runs have been aborted every now and then -> filter them out\n",
    "means = masked_results.mean(axis=2)\n",
    "sigmas = masked_results.std(axis=2)\n",
    "means.shape"
   ]
  },
  {
   "cell_type": "code",
   "execution_count": null,
   "metadata": {
    "ExecuteTime": {
     "end_time": "2020-11-20T17:07:19.317861Z",
     "start_time": "2020-11-20T17:07:19.166215Z"
    }
   },
   "outputs": [],
   "source": [
    "plt.hlines(reference_error_mean,xmin=M_grid[0],xmax=M_grid[-1],linestyles='dashed',label=\"reference error\")\n",
    "for i in range(len(alpha_grid)):\n",
    "    plt.errorbar(np.array(M_grid),means[:,i],sigmas[:,i],marker ='o',label = f\"alpha = {alpha_grid[i]}\")\n",
    "plt.title(f\"Soft Bagging Normalized error: N_train = {N_train}, d= {d}, N_test= {N_test}\")\n",
    "plt.xlabel(\"M\")\n",
    "plt.xticks(M_grid)\n",
    "plt.ylabel(\"normalized error\")\n",
    "plt.legend(loc='upper right')\n",
    "plt.show()"
   ]
  },
  {
   "cell_type": "markdown",
   "metadata": {},
   "source": [
    "\n"
   ]
  },
  {
   "cell_type": "markdown",
   "metadata": {
    "ExecuteTime": {
     "end_time": "2020-11-15T17:54:08.608678Z",
     "start_time": "2020-11-15T17:54:08.603664Z"
    }
   },
   "source": [
    "## Store results"
   ]
  },
  {
   "cell_type": "code",
   "execution_count": null,
   "metadata": {
    "ExecuteTime": {
     "end_time": "2020-11-20T17:01:11.071807Z",
     "start_time": "2020-11-20T17:01:11.066821Z"
    }
   },
   "outputs": [],
   "source": [
    "res_dict = {'N_train': N_train, 'N_test': N_test,'mgrid': M_grid, 'alpha_grid': alpha_grid, 'errors': converted_results.tolist()}"
   ]
  },
  {
   "cell_type": "code",
   "execution_count": null,
   "metadata": {
    "ExecuteTime": {
     "end_time": "2020-11-20T17:01:11.081780Z",
     "start_time": "2020-11-20T17:01:11.072805Z"
    }
   },
   "outputs": [],
   "source": [
    "import json\n",
    "import datetime\n",
    "with open(f'soft_bagging_w_replacement_{str(datetime.date.today())}.json', 'w') as fp:\n",
    "    json.dump(res_dict, fp)"
   ]
  },
  {
   "cell_type": "code",
   "execution_count": null,
   "metadata": {},
   "outputs": [],
   "source": []
  }
 ],
 "metadata": {
  "kernelspec": {
   "display_name": "Python 3",
   "language": "python",
   "name": "python3"
  },
  "language_info": {
   "codemirror_mode": {
    "name": "ipython",
    "version": 3
   },
   "file_extension": ".py",
   "mimetype": "text/x-python",
   "name": "python",
   "nbconvert_exporter": "python",
   "pygments_lexer": "ipython3",
   "version": "3.7.9"
  },
  "toc": {
   "base_numbering": 1,
   "nav_menu": {},
   "number_sections": true,
   "sideBar": true,
   "skip_h1_title": false,
   "title_cell": "Table of Contents",
   "title_sidebar": "Contents",
   "toc_cell": false,
   "toc_position": {},
   "toc_section_display": true,
   "toc_window_display": false
  }
 },
 "nbformat": 4,
 "nbformat_minor": 2
}
