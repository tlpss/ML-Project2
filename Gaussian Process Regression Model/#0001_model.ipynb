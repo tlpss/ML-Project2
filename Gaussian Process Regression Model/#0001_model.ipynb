{
 "cells": [
  {
   "cell_type": "code",
   "execution_count": 1,
   "metadata": {},
   "outputs": [],
   "source": [
    "import numpy as np\n",
    "import random\n",
    "import matplotlib.pyplot as plt\n",
    "from sklearn.gaussian_process import GaussianProcessRegressor\n",
    "from sklearn.gaussian_process.kernels import RBF, WhiteKernel\n",
    "# add project root folder to path to allow import local modules\n",
    "import os\n",
    "import sys\n",
    "module_path = os.path.abspath(os.path.join('..'))\n",
    "if module_path not in sys.path:\n",
    "    sys.path.append(module_path)\n",
    "# import local modules\n",
    "from stochastic_models import *\n",
    "from visualisations import *\n",
    "from basic_estimator_model import *"
   ]
  },
  {
   "cell_type": "code",
   "execution_count": 2,
   "metadata": {},
   "outputs": [],
   "source": [
    "N = 100\n",
    "d = 6\n",
    "T = 2"
   ]
  },
  {
   "cell_type": "code",
   "execution_count": 3,
   "metadata": {},
   "outputs": [],
   "source": [
    "lambda_range = (1e-9 , 1e-3)\n",
    "alpha_range = (8.3*1e-5, 0.83)\n",
    "length_scale = np.sort(1/np.sqrt((2*alpha_range[0], 2*alpha_range[1])))"
   ]
  },
  {
   "cell_type": "code",
   "execution_count": 4,
   "metadata": {},
   "outputs": [],
   "source": [
    "def reconstruct_alpha(length_scale):\n",
    "    return 1/(2*(length_scale**2))\n",
    "    "
   ]
  },
  {
   "cell_type": "code",
   "execution_count": 5,
   "metadata": {},
   "outputs": [],
   "source": [
    "#Kernel Construction, doubt on the lambda hyperparameter\n",
    "kernel = RBF(length_scale=random.uniform(length_scale[0] , length_scale[1]), length_scale_bounds=length_scale) + WhiteKernel(noise_level= 0.01, noise_level_bounds=lambda_range)\n"
   ]
  },
  {
   "cell_type": "code",
   "execution_count": 6,
   "metadata": {},
   "outputs": [],
   "source": [
    "s = MaxCallStochasticModel(N,d,[1/12,11/12])\n",
    "s.generate_samples()"
   ]
  },
  {
   "cell_type": "code",
   "execution_count": 7,
   "metadata": {},
   "outputs": [],
   "source": [
    "y = s.y\n",
    "X = s.X\n",
    "S = s.S\n",
    "\n",
    "V_T = s.generate_true_V(2)\n",
    "V_0 = s.generate_true_V(0)\n"
   ]
  },
  {
   "cell_type": "code",
   "execution_count": 8,
   "metadata": {},
   "outputs": [
    {
     "data": {
      "text/plain": [
       "array([0.25978304, 0.23763887, 0.43337889, 0.46094563, 0.87153597,\n",
       "       0.09361366, 0.        , 0.4309572 , 0.32586043, 0.80160838,\n",
       "       0.18907219, 0.08180088, 0.10909007, 0.18162194, 0.26962045,\n",
       "       0.67587341, 0.09322898, 0.54130324, 0.38554601, 0.38666782,\n",
       "       0.4579794 , 0.        , 0.54443507, 0.52945426, 0.33349906,\n",
       "       0.17923291, 0.22778009, 0.49995241, 0.07424929, 0.5080703 ,\n",
       "       0.43434238, 0.05870709, 0.27431273, 0.52885416, 0.38380595,\n",
       "       0.51293651, 0.32310197, 0.03519669, 0.14764892, 0.34920153,\n",
       "       0.30164291, 0.33995962, 0.28323169, 0.16305493, 0.26680284,\n",
       "       0.00990557, 0.28951967, 0.24116093, 0.36424334, 0.15915898,\n",
       "       0.26984774, 0.31432057, 0.21854042, 0.156897  , 0.17628025,\n",
       "       0.22376722, 0.20346308, 0.28619175, 0.33014464, 0.23572736,\n",
       "       0.66268832, 0.24659388, 0.4548276 , 0.0734923 , 0.02958739,\n",
       "       0.42299228, 0.63331829, 0.32958716, 0.12905389, 0.15442635,\n",
       "       0.25618344, 0.60077124, 0.28793913, 0.15820418, 0.26243884,\n",
       "       0.        , 0.12805747, 0.7618589 , 0.60191582, 0.24302084,\n",
       "       0.3101965 , 0.38708829, 0.2650289 , 0.28227515, 0.56199964,\n",
       "       0.30906079, 0.85375062, 0.20916337, 0.52827374, 0.28927402,\n",
       "       0.67635029, 0.18251737, 0.12294098, 0.59412871, 0.3813171 ,\n",
       "       0.19037164, 0.27842123, 0.19840236, 0.26614562, 0.35766272])"
      ]
     },
     "execution_count": 8,
     "metadata": {},
     "output_type": "execute_result"
    }
   ],
   "source": [
    "y"
   ]
  },
  {
   "cell_type": "code",
   "execution_count": 9,
   "metadata": {},
   "outputs": [],
   "source": [
    "def Flatten_Training_Sample(X , f):\n",
    "    return np.array([f(x) for x in X])"
   ]
  },
  {
   "cell_type": "code",
   "execution_count": 10,
   "metadata": {},
   "outputs": [],
   "source": [
    "#Shape of each sample j: [X_j[0,0],... ,X_j[d,0],...,X_j[0,T] , ..., X_j[d,T]]\n",
    "Flatten_X_1 = Flatten_Training_Sample(X, lambda x : x.T.flatten())\n",
    "\n",
    "#Shape of each sample j: [X_j[0,0],... ,X_j[0,T],...,X_j[d,0] , ..., X_j[d,T]]\n",
    "Flatten_X_2 = Flatten_Training_Sample(X, lambda x : x.flatten())"
   ]
  },
  {
   "cell_type": "code",
   "execution_count": 11,
   "metadata": {},
   "outputs": [],
   "source": [
    "#Model with Flatten_X_1\n",
    "m_1 = EstimatorModelBase(kernel)\n",
    "m_1.fit(Flatten_X_1,y)\n",
    "m_1._predict_fX(Flatten_X_1)"
   ]
  },
  {
   "cell_type": "code",
   "execution_count": 12,
   "metadata": {},
   "outputs": [
    {
     "data": {
      "text/plain": [
       "(0.04484259135143556, -4.605170185988091)"
      ]
     },
     "execution_count": 12,
     "metadata": {},
     "output_type": "execute_result"
    }
   ],
   "source": [
    "optimal_hyperparameters_1 = (reconstruct_alpha(m_1.kernel.theta[0]), m_1.kernel.theta[1])\n",
    "optimal_hyperparameters_1"
   ]
  },
  {
   "cell_type": "code",
   "execution_count": 13,
   "metadata": {},
   "outputs": [],
   "source": [
    "#Model with Flatten_X_2\n",
    "m_2 = EstimatorModelBase(kernel)\n",
    "m_2.fit(Flatten_X_2, y)\n",
    "m_2._predict_fX(Flatten_X_2)"
   ]
  },
  {
   "cell_type": "code",
   "execution_count": 14,
   "metadata": {},
   "outputs": [
    {
     "data": {
      "text/plain": [
       "(0.04484259135143556, -4.605170185988091)"
      ]
     },
     "execution_count": 14,
     "metadata": {},
     "output_type": "execute_result"
    }
   ],
   "source": [
    "optimal_hyperparameters_2 = (reconstruct_alpha(m_2.kernel.theta[0]), m_2.kernel.theta[1])\n",
    "optimal_hyperparameters_2"
   ]
  },
  {
   "cell_type": "code",
   "execution_count": 17,
   "metadata": {},
   "outputs": [],
   "source": [
    "def m_s(x, alpha, betha, d):\n",
    "    return ((1+2*alpha)**(-d/2))*np.exp(((betha**2+4*alpha*betha - 2*alpha)*np.sum(x**2, axis=0)) / (4*alpha +2))"
   ]
  },
  {
   "cell_type": "code",
   "execution_count": 18,
   "metadata": {},
   "outputs": [
    {
     "data": {
      "text/plain": [
       "0.6090239853534818"
      ]
     },
     "execution_count": 18,
     "metadata": {},
     "output_type": "execute_result"
    }
   ],
   "source": [
    "m_s(X[1,:,0],optimal_hyperparameters_2[0], 0, d)"
   ]
  },
  {
   "cell_type": "code",
   "execution_count": 19,
   "metadata": {},
   "outputs": [],
   "source": [
    "def w(x, d, T, gamma):\n",
    "    return ((1-2*gamma)**(d*T))* np.exp(gamma*np.sum(x**2, axis=0))"
   ]
  },
  {
   "cell_type": "code",
   "execution_count": 20,
   "metadata": {},
   "outputs": [],
   "source": [
    "def M_0(X): \n",
    "    M = np.zeros((X.shape[0], T))\n",
    "    for j in range(len(M)):\n",
    "        M[j, :]= np.array([m_s(x, optimal_hyperparameters_2[0], 0, d) for x in X[j,:,:].T ])\n",
    "    return np.prod(M, axis=1)"
   ]
  },
  {
   "cell_type": "code",
   "execution_count": 21,
   "metadata": {},
   "outputs": [],
   "source": [
    "def M_T(X, kernel):\n",
    "    M = np.zeros(X.shape[0])\n",
    "    for j in range(len(M)):\n",
    "        M[j] = np.prod(kernel.diag(X[j]), axis=0)\n",
    "    return M"
   ]
  },
  {
   "cell_type": "code",
   "execution_count": 22,
   "metadata": {},
   "outputs": [],
   "source": [
    "#M_0(X)[j] == M_0(X(j)) in equation (25) for when V_X_t = V_X,0\n",
    "#M_T(X)[j] == M_T(X(j)) in equation (25) for when V_X_t = V_X,T"
   ]
  },
  {
   "cell_type": "code",
   "execution_count": 23,
   "metadata": {},
   "outputs": [
    {
     "data": {
      "text/plain": [
       "array([0.33345951, 0.35434256, 0.18245342, 0.32880349, 0.21465425,\n",
       "       0.38442854, 0.30524447, 0.37135631, 0.29617148, 0.29912064,\n",
       "       0.3490181 , 0.26852211, 0.4542835 , 0.31818107, 0.23860437,\n",
       "       0.28464615, 0.42045694, 0.2831529 , 0.46200009, 0.35197423,\n",
       "       0.2729724 , 0.43424498, 0.305462  , 0.41210191, 0.26683441,\n",
       "       0.36882397, 0.25490257, 0.33079712, 0.42656821, 0.27160447,\n",
       "       0.27312104, 0.48919946, 0.42695849, 0.26579258, 0.2420417 ,\n",
       "       0.36773282, 0.40609384, 0.42612863, 0.33053044, 0.36242291,\n",
       "       0.46345288, 0.3103611 , 0.36617654, 0.33485344, 0.33733104,\n",
       "       0.39822963, 0.33852152, 0.37048608, 0.35217305, 0.3677558 ,\n",
       "       0.37442568, 0.35869819, 0.43363261, 0.3701951 , 0.38234519,\n",
       "       0.45949554, 0.42647197, 0.28969281, 0.38029346, 0.35791454,\n",
       "       0.35439451, 0.36669335, 0.31859446, 0.52866633, 0.37783493,\n",
       "       0.25357225, 0.39915893, 0.37189271, 0.34710263, 0.46595998,\n",
       "       0.40710165, 0.22328234, 0.39549152, 0.42113024, 0.3374191 ,\n",
       "       0.3765212 , 0.31413095, 0.31993727, 0.287962  , 0.38624761,\n",
       "       0.3570702 , 0.38819639, 0.42239248, 0.31962249, 0.26576589,\n",
       "       0.42515502, 0.19412124, 0.389438  , 0.33765796, 0.42363708,\n",
       "       0.27932236, 0.45227741, 0.43392683, 0.27059529, 0.32233785,\n",
       "       0.46581006, 0.3593155 , 0.43573127, 0.39961035, 0.34163946])"
      ]
     },
     "execution_count": 23,
     "metadata": {},
     "output_type": "execute_result"
    }
   ],
   "source": [
    "M_0(X)"
   ]
  },
  {
   "cell_type": "code",
   "execution_count": 24,
   "metadata": {},
   "outputs": [
    {
     "data": {
      "text/plain": [
       "array([1.06152015, 1.06152015, 1.06152015, 1.06152015, 1.06152015,\n",
       "       1.06152015, 1.06152015, 1.06152015, 1.06152015, 1.06152015,\n",
       "       1.06152015, 1.06152015, 1.06152015, 1.06152015, 1.06152015,\n",
       "       1.06152015, 1.06152015, 1.06152015, 1.06152015, 1.06152015,\n",
       "       1.06152015, 1.06152015, 1.06152015, 1.06152015, 1.06152015,\n",
       "       1.06152015, 1.06152015, 1.06152015, 1.06152015, 1.06152015,\n",
       "       1.06152015, 1.06152015, 1.06152015, 1.06152015, 1.06152015,\n",
       "       1.06152015, 1.06152015, 1.06152015, 1.06152015, 1.06152015,\n",
       "       1.06152015, 1.06152015, 1.06152015, 1.06152015, 1.06152015,\n",
       "       1.06152015, 1.06152015, 1.06152015, 1.06152015, 1.06152015,\n",
       "       1.06152015, 1.06152015, 1.06152015, 1.06152015, 1.06152015,\n",
       "       1.06152015, 1.06152015, 1.06152015, 1.06152015, 1.06152015,\n",
       "       1.06152015, 1.06152015, 1.06152015, 1.06152015, 1.06152015,\n",
       "       1.06152015, 1.06152015, 1.06152015, 1.06152015, 1.06152015,\n",
       "       1.06152015, 1.06152015, 1.06152015, 1.06152015, 1.06152015,\n",
       "       1.06152015, 1.06152015, 1.06152015, 1.06152015, 1.06152015,\n",
       "       1.06152015, 1.06152015, 1.06152015, 1.06152015, 1.06152015,\n",
       "       1.06152015, 1.06152015, 1.06152015, 1.06152015, 1.06152015,\n",
       "       1.06152015, 1.06152015, 1.06152015, 1.06152015, 1.06152015,\n",
       "       1.06152015, 1.06152015, 1.06152015, 1.06152015, 1.06152015])"
      ]
     },
     "execution_count": 24,
     "metadata": {},
     "output_type": "execute_result"
    }
   ],
   "source": [
    "M_T(X, kernel)"
   ]
  },
  {
   "cell_type": "code",
   "execution_count": null,
   "metadata": {},
   "outputs": [],
   "source": [
    "#TODO\n",
    "def recontruct_V_X (f_X, kernel, m_s, t):\n",
    "        V_X = "
   ]
  }
 ],
 "metadata": {
  "kernelspec": {
   "display_name": "Python 3",
   "language": "python",
   "name": "python3"
  },
  "language_info": {
   "codemirror_mode": {
    "name": "ipython",
    "version": 3
   },
   "file_extension": ".py",
   "mimetype": "text/x-python",
   "name": "python",
   "nbconvert_exporter": "python",
   "pygments_lexer": "ipython3",
   "version": "3.7.9"
  }
 },
 "nbformat": 4,
 "nbformat_minor": 4
}
