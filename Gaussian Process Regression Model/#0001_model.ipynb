{
 "cells": [
  {
   "cell_type": "code",
   "execution_count": 1,
   "metadata": {
    "ExecuteTime": {
     "end_time": "2020-11-14T09:29:46.801230Z",
     "start_time": "2020-11-14T09:29:45.985713Z"
    }
   },
   "outputs": [],
   "source": [
    "import numpy as np\n",
    "import random\n",
    "import matplotlib.pyplot as plt\n",
    "from sklearn.gaussian_process import GaussianProcessRegressor\n",
    "from sklearn.gaussian_process.kernels import RBF, WhiteKernel\n",
    "# add project root folder to path to allow import local modules\n",
    "import os\n",
    "import sys\n",
    "module_path = os.path.abspath(os.path.join('..'))\n",
    "if module_path not in sys.path:\n",
    "    sys.path.append(module_path)\n",
    "# import local modules\n",
    "from stochastic_models import *\n",
    "from visualisations import *\n",
    "from basic_estimator_model import *"
   ]
  },
  {
   "cell_type": "code",
   "execution_count": 2,
   "metadata": {
    "ExecuteTime": {
     "end_time": "2020-11-14T09:29:46.805222Z",
     "start_time": "2020-11-14T09:29:46.802229Z"
    }
   },
   "outputs": [],
   "source": [
    "np.random.seed(2020)"
   ]
  },
  {
   "cell_type": "markdown",
   "metadata": {},
   "source": [
    "## Model Parameters"
   ]
  },
  {
   "cell_type": "code",
   "execution_count": 3,
   "metadata": {
    "ExecuteTime": {
     "end_time": "2020-11-14T09:29:46.814231Z",
     "start_time": "2020-11-14T09:29:46.807217Z"
    }
   },
   "outputs": [],
   "source": [
    "N_train = 2000\n",
    "N_test = 10000\n",
    "d = 1\n",
    "T = 2\n"
   ]
  },
  {
   "cell_type": "code",
   "execution_count": 4,
   "metadata": {
    "ExecuteTime": {
     "end_time": "2020-11-14T09:29:46.820181Z",
     "start_time": "2020-11-14T09:29:46.815195Z"
    }
   },
   "outputs": [],
   "source": [
    "lambda_range = (N_train*1e-9 , N_train*1e-3)\n",
    "alpha_range = (8.3*1e-5, 0.83)\n",
    "length_scale = np.sort(1/np.sqrt((2*alpha_range[0], 2*alpha_range[1])))"
   ]
  },
  {
   "cell_type": "code",
   "execution_count": 5,
   "metadata": {
    "ExecuteTime": {
     "end_time": "2020-11-14T09:29:46.825204Z",
     "start_time": "2020-11-14T09:29:46.821178Z"
    }
   },
   "outputs": [],
   "source": [
    "def reconstruct_alpha(length_scale):\n",
    "    return 1/(2*(length_scale**2))\n",
    "def reconstruct_lambda(noise_level, N):\n",
    "    return noise_level/N"
   ]
  },
  {
   "cell_type": "markdown",
   "metadata": {},
   "source": [
    "## Kernel Construction"
   ]
  },
  {
   "cell_type": "code",
   "execution_count": 6,
   "metadata": {
    "ExecuteTime": {
     "end_time": "2020-11-14T09:29:46.832217Z",
     "start_time": "2020-11-14T09:29:46.826166Z"
    }
   },
   "outputs": [],
   "source": [
    "#Kernel Construction, doubt on the lambda hyperparameter\n",
    "kernel = RBF(length_scale= (length_scale[0] + length_scale[1])/2, length_scale_bounds=length_scale) \\\n",
    "        + WhiteKernel(noise_level= (lambda_range[0] + lambda_range[1])/2 , noise_level_bounds=lambda_range)\n"
   ]
  },
  {
   "cell_type": "markdown",
   "metadata": {},
   "source": [
    "## Data Generation (Test, Train sets)"
   ]
  },
  {
   "cell_type": "code",
   "execution_count": 7,
   "metadata": {
    "ExecuteTime": {
     "end_time": "2020-11-14T09:29:46.839175Z",
     "start_time": "2020-11-14T09:29:46.833147Z"
    }
   },
   "outputs": [],
   "source": [
    "s_train = MaxCallStochasticModel(N_train,d,[1/12,11/12])\n",
    "s_train.generate_samples()\n",
    "s_test = MaxCallStochasticModel(N_test, d, [1/12,11/12])\n",
    "s_test.generate_samples()"
   ]
  },
  {
   "cell_type": "code",
   "execution_count": 8,
   "metadata": {
    "ExecuteTime": {
     "end_time": "2020-11-14T09:29:46.844153Z",
     "start_time": "2020-11-14T09:29:46.841126Z"
    }
   },
   "outputs": [],
   "source": [
    "y_train = s_train.y\n",
    "X_train = s_train.X\n",
    "S_train = s_train.S\n",
    "\n"
   ]
  },
  {
   "cell_type": "code",
   "execution_count": 9,
   "metadata": {
    "ExecuteTime": {
     "end_time": "2020-11-14T09:29:46.854091Z",
     "start_time": "2020-11-14T09:29:46.845115Z"
    }
   },
   "outputs": [],
   "source": [
    "y_test = s_test.y\n",
    "X_test = s_test.X\n",
    "S_test = s_test.S\n",
    "\n",
    "V_T = s_test.generate_true_V(T)\n",
    "V_0 = s_test.generate_true_V(0)\n",
    "\n",
    "V_0= V_0.mean()\n",
    "V_0 # Average expected PROFIT!"
   ]
  },
  {
   "cell_type": "markdown",
   "metadata": {},
   "source": [
    "## Data Flattening "
   ]
  },
  {
   "cell_type": "code",
   "execution_count": 10,
   "metadata": {
    "ExecuteTime": {
     "end_time": "2020-11-14T09:29:46.859112Z",
     "start_time": "2020-11-14T09:29:46.855089Z"
    }
   },
   "outputs": [],
   "source": [
    "def Flatten_Training_Sample(X , f):\n",
    "    return np.array([f(x) for x in X])"
   ]
  },
  {
   "cell_type": "code",
   "execution_count": 11,
   "metadata": {
    "ExecuteTime": {
     "end_time": "2020-11-14T09:29:46.895981Z",
     "start_time": "2020-11-14T09:29:46.860075Z"
    }
   },
   "outputs": [],
   "source": [
    "#Shape of each sample j: [X_j[0,0],... ,X_j[d,0],...,X_j[0,T] , ..., X_j[d,T]]\n",
    "Flatten_X_1_train = Flatten_Training_Sample(X_train, lambda x : x.T.flatten())\n",
    "Flatten_X_1_test = Flatten_Training_Sample(X_test, lambda x : x.T.flatten())\n",
    "\n",
    "\n",
    "#Shape of each sample j: [X_j[0,0],... ,X_j[0,T],...,X_j[d,0] , ..., X_j[d,T]]\n",
    "Flatten_X_2_train = Flatten_Training_Sample(X_train, lambda x : x.flatten())\n",
    "Flatten_X_2_test = Flatten_Training_Sample(X_test, lambda x : x.flatten())"
   ]
  },
  {
   "cell_type": "code",
   "execution_count": 12,
   "metadata": {
    "ExecuteTime": {
     "end_time": "2020-11-14T09:29:46.901962Z",
     "start_time": "2020-11-14T09:29:46.896976Z"
    }
   },
   "outputs": [
    {
     "data": {
      "text/plain": [
       "(2000, 2)"
      ]
     },
     "execution_count": 12,
     "metadata": {},
     "output_type": "execute_result"
    }
   ],
   "source": [
    "Flatten_X_1_train.shape"
   ]
  },
  {
   "cell_type": "code",
   "execution_count": 13,
   "metadata": {
    "ExecuteTime": {
     "end_time": "2020-11-14T09:29:46.907947Z",
     "start_time": "2020-11-14T09:29:46.902960Z"
    }
   },
   "outputs": [
    {
     "data": {
      "text/plain": [
       "(10000, 2)"
      ]
     },
     "execution_count": 13,
     "metadata": {},
     "output_type": "execute_result"
    }
   ],
   "source": [
    "Flatten_X_1_test.shape"
   ]
  },
  {
   "cell_type": "markdown",
   "metadata": {},
   "source": [
    "## Model Fitting"
   ]
  },
  {
   "cell_type": "code",
   "execution_count": 14,
   "metadata": {
    "ExecuteTime": {
     "end_time": "2020-11-14T09:29:54.038469Z",
     "start_time": "2020-11-14T09:29:46.908944Z"
    }
   },
   "outputs": [],
   "source": [
    "#Model with Flatten_X_1\n",
    "m_1 = EstimatorModelBase(kernel)\n",
    "m_1.fit(Flatten_X_1_train,y_train)\n",
    "fX_1 = m_1._predict_fX(Flatten_X_1_test)"
   ]
  },
  {
   "cell_type": "code",
   "execution_count": 15,
   "metadata": {
    "ExecuteTime": {
     "end_time": "2020-11-14T09:30:02.849870Z",
     "start_time": "2020-11-14T09:29:54.039441Z"
    }
   },
   "outputs": [],
   "source": [
    "#Model with Flatten_X_2\n",
    "m_2 = EstimatorModelBase(kernel)\n",
    "m_2.fit(Flatten_X_2_train, y_train)\n",
    "fX_2 = m_2._predict_fX(Flatten_X_2_test)"
   ]
  },
  {
   "cell_type": "markdown",
   "metadata": {},
   "source": [
    "## Optimal Hyperparameters"
   ]
  },
  {
   "cell_type": "code",
   "execution_count": 16,
   "metadata": {
    "ExecuteTime": {
     "end_time": "2020-11-14T09:30:02.882787Z",
     "start_time": "2020-11-14T09:30:02.850867Z"
    }
   },
   "outputs": [
    {
     "data": {
      "text/plain": [
       "(0.00032545828840309794, 0.0005000005)"
      ]
     },
     "execution_count": 16,
     "metadata": {},
     "output_type": "execute_result"
    }
   ],
   "source": [
    "optimal_hyperparameters_1 = (reconstruct_alpha(np.exp(m_1.kernel.theta[0])),reconstruct_lambda(np.exp(m_1.kernel.theta[1]), N_train))\n",
    "optimal_hyperparameters_1"
   ]
  },
  {
   "cell_type": "code",
   "execution_count": 17,
   "metadata": {
    "ExecuteTime": {
     "end_time": "2020-11-14T09:30:02.898740Z",
     "start_time": "2020-11-14T09:30:02.886772Z"
    }
   },
   "outputs": [
    {
     "data": {
      "text/plain": [
       "(0.00032545828840309794, 0.0005000005)"
      ]
     },
     "execution_count": 17,
     "metadata": {},
     "output_type": "execute_result"
    }
   ],
   "source": [
    "optimal_hyperparameters_2 = (reconstruct_alpha(np.exp(m_2.kernel.theta[0])), reconstruct_lambda(np.exp(m_2.kernel.theta[1]), N_train))\n",
    "optimal_hyperparameters_2"
   ]
  },
  {
   "cell_type": "markdown",
   "metadata": {},
   "source": [
    "## Error Calculation"
   ]
  },
  {
   "cell_type": "code",
   "execution_count": 18,
   "metadata": {
    "ExecuteTime": {
     "end_time": "2020-11-14T09:30:02.907726Z",
     "start_time": "2020-11-14T09:30:02.902729Z"
    }
   },
   "outputs": [],
   "source": [
    "Normalized_Error_T_1 = np.sqrt(1/N_test*np.sum((fX_1-V_T)**2, axis=0))/V_0\n",
    "## see formula p4 for ||f(X)||2,Q \n",
    "## since samples are drawn according to measure - just sum them up"
   ]
  },
  {
   "cell_type": "code",
   "execution_count": 19,
   "metadata": {
    "ExecuteTime": {
     "end_time": "2020-11-14T09:30:02.914697Z",
     "start_time": "2020-11-14T09:30:02.909710Z"
    }
   },
   "outputs": [
    {
     "data": {
      "text/plain": [
       "0.165940082833466"
      ]
     },
     "execution_count": 19,
     "metadata": {},
     "output_type": "execute_result"
    }
   ],
   "source": [
    "Normalized_Error_T_1"
   ]
  },
  {
   "cell_type": "code",
   "execution_count": 20,
   "metadata": {
    "ExecuteTime": {
     "end_time": "2020-11-14T09:30:02.919688Z",
     "start_time": "2020-11-14T09:30:02.915696Z"
    }
   },
   "outputs": [],
   "source": [
    "Normalized_Error_T_2 = np.sqrt(1/N_test*np.sum((fX_2-V_T)**2, axis=0))/V_0"
   ]
  },
  {
   "cell_type": "code",
   "execution_count": 21,
   "metadata": {
    "ExecuteTime": {
     "end_time": "2020-11-14T09:30:02.945616Z",
     "start_time": "2020-11-14T09:30:02.929661Z"
    }
   },
   "outputs": [
    {
     "data": {
      "text/plain": [
       "0.165940082833466"
      ]
     },
     "execution_count": 21,
     "metadata": {},
     "output_type": "execute_result"
    }
   ],
   "source": [
    "Normalized_Error_T_2"
   ]
  },
  {
   "cell_type": "markdown",
   "metadata": {},
   "source": [
    "## Reconstruction of V_X (to be done later)"
   ]
  },
  {
   "cell_type": "code",
   "execution_count": 22,
   "metadata": {
    "ExecuteTime": {
     "end_time": "2020-11-14T09:30:02.957584Z",
     "start_time": "2020-11-14T09:30:02.949606Z"
    }
   },
   "outputs": [],
   "source": [
    "def m_s(x, alpha, betha, d):\n",
    "    return ((1+2*alpha)**(-d/2))*np.exp(((betha**2+4*alpha*betha - 2*alpha)*np.sum(x**2, axis=0)) / (4*alpha +2))"
   ]
  },
  {
   "cell_type": "code",
   "execution_count": 23,
   "metadata": {
    "ExecuteTime": {
     "end_time": "2020-11-14T09:30:02.971546Z",
     "start_time": "2020-11-14T09:30:02.964567Z"
    }
   },
   "outputs": [],
   "source": [
    "def w(x, d, T, gamma):\n",
    "    return ((1-2*gamma)**(d*T))* np.exp(gamma*np.sum(x**2, axis=0))"
   ]
  },
  {
   "cell_type": "code",
   "execution_count": 24,
   "metadata": {
    "ExecuteTime": {
     "end_time": "2020-11-14T09:30:02.985507Z",
     "start_time": "2020-11-14T09:30:02.976531Z"
    }
   },
   "outputs": [],
   "source": [
    "def M_0(X): \n",
    "    M = np.zeros((X.shape[0], T))\n",
    "    for j in range(len(M)):\n",
    "        M[j, :]= np.array([m_s(x, optimal_hyperparameters_2[0], 0, d) for x in X[j,:,:].T ])\n",
    "    return np.prod(M, axis=1)"
   ]
  },
  {
   "cell_type": "code",
   "execution_count": 25,
   "metadata": {
    "ExecuteTime": {
     "end_time": "2020-11-14T09:30:02.992487Z",
     "start_time": "2020-11-14T09:30:02.987501Z"
    }
   },
   "outputs": [],
   "source": [
    "def M_T(X, kernel):\n",
    "    M = np.zeros(X.shape[0])\n",
    "    for j in range(len(M)):\n",
    "        M[j] = np.prod(kernel.diag(X[j]), axis=0)\n",
    "    return M"
   ]
  },
  {
   "cell_type": "code",
   "execution_count": 26,
   "metadata": {
    "ExecuteTime": {
     "end_time": "2020-11-14T09:30:02.999469Z",
     "start_time": "2020-11-14T09:30:02.993518Z"
    }
   },
   "outputs": [],
   "source": [
    "#M_0(X)[j] == M_0(X(j)) in equation (25) for when V_X_t = V_X,0\n",
    "#M_T(X)[j] == M_T(X(j)) in equation (25) for when V_X_t = V_X,T"
   ]
  },
  {
   "cell_type": "code",
   "execution_count": 27,
   "metadata": {
    "ExecuteTime": {
     "end_time": "2020-11-14T09:30:03.076263Z",
     "start_time": "2020-11-14T09:30:03.001463Z"
    }
   },
   "outputs": [
    {
     "ename": "NameError",
     "evalue": "name 'Flatten_X_1' is not defined",
     "output_type": "error",
     "traceback": [
      "\u001b[1;31m---------------------------------------------------------------------------\u001b[0m",
      "\u001b[1;31mNameError\u001b[0m                                 Traceback (most recent call last)",
      "\u001b[1;32m<ipython-input-27-668fb5596055>\u001b[0m in \u001b[0;36m<module>\u001b[1;34m\u001b[0m\n\u001b[1;32m----> 1\u001b[1;33m \u001b[0mK\u001b[0m \u001b[1;33m=\u001b[0m \u001b[0mkernel\u001b[0m\u001b[1;33m(\u001b[0m\u001b[0mFlatten_X_1\u001b[0m\u001b[1;33m,\u001b[0m \u001b[0mFlatten_X_1\u001b[0m\u001b[1;33m)\u001b[0m\u001b[1;33m\u001b[0m\u001b[1;33m\u001b[0m\u001b[0m\n\u001b[0m",
      "\u001b[1;31mNameError\u001b[0m: name 'Flatten_X_1' is not defined"
     ]
    }
   ],
   "source": [
    "K = kernel(Flatten_X_1, Flatten_X_1)"
   ]
  },
  {
   "cell_type": "code",
   "execution_count": null,
   "metadata": {
    "ExecuteTime": {
     "end_time": "2020-11-14T09:30:03.077260Z",
     "start_time": "2020-11-14T09:29:46.032Z"
    }
   },
   "outputs": [],
   "source": [
    "A = (1/N)*(K + optimal_hyperparameters_1[1])\n",
    "g = np.linalg.solve(A,y)"
   ]
  },
  {
   "cell_type": "code",
   "execution_count": null,
   "metadata": {
    "ExecuteTime": {
     "end_time": "2020-11-14T09:30:03.078257Z",
     "start_time": "2020-11-14T09:29:46.034Z"
    }
   },
   "outputs": [],
   "source": [
    "#TODO\n",
    "def recontruct_V_X (g, w, K, M_0, M_T, N, t):\n",
    "    if (t == 0):\n",
    "        \n",
    "        V_X = (1/N)*(np.sum((M_0*g)/w, axis=0))\n",
    "    \n",
    "    if (t == T):\n",
    "        V_X = (1/N)*(np.sum((M_T*g)/w, axis=0))\n",
    "    \n",
    "    return V_X"
   ]
  }
 ],
 "metadata": {
  "kernelspec": {
   "display_name": "Python 3",
   "language": "python",
   "name": "python3"
  },
  "language_info": {
   "codemirror_mode": {
    "name": "ipython",
    "version": 3
   },
   "file_extension": ".py",
   "mimetype": "text/x-python",
   "name": "python",
   "nbconvert_exporter": "python",
   "pygments_lexer": "ipython3",
   "version": "3.7.5"
  },
  "toc": {
   "base_numbering": 1,
   "nav_menu": {},
   "number_sections": true,
   "sideBar": true,
   "skip_h1_title": false,
   "title_cell": "Table of Contents",
   "title_sidebar": "Contents",
   "toc_cell": false,
   "toc_position": {},
   "toc_section_display": true,
   "toc_window_display": false
  }
 },
 "nbformat": 4,
 "nbformat_minor": 4
}
